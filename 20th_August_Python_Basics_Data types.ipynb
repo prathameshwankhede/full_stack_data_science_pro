{
 "cells": [
  {
   "cell_type": "code",
   "execution_count": null,
   "id": "3c1c5894-ba94-4a3e-8573-9c5b4cb17b24",
   "metadata": {},
   "outputs": [],
   "source": []
  },
  {
   "cell_type": "code",
   "execution_count": null,
   "id": "d161c70d-377d-4031-ba0a-812accb3d9ae",
   "metadata": {},
   "outputs": [],
   "source": []
  },
  {
   "cell_type": "markdown",
   "id": "199259d4-c064-48a6-afb3-1b196d14e268",
   "metadata": {},
   "source": [
    "                                                 ****Python Basics Data types****"
   ]
  },
  {
   "cell_type": "code",
   "execution_count": null,
   "id": "7179bfea-70d5-4451-a9af-4672b46e3ecb",
   "metadata": {},
   "outputs": [],
   "source": []
  },
  {
   "cell_type": "markdown",
   "id": "0c17457a-1779-49de-a2a6-836b9d50f255",
   "metadata": {},
   "source": [
    "## **TOPIC: String Based Assignment problem **\n",
    "\n",
    "---\n"
   ]
  },
  {
   "cell_type": "markdown",
   "id": "344e5e18-22a6-470e-aa23-163a80c3aa39",
   "metadata": {},
   "source": [
    "### 1.write a program to reverse a string."
   ]
  },
  {
   "cell_type": "code",
   "execution_count": 1,
   "id": "2a631afe-eba9-4b32-afd4-bd9e69a13c12",
   "metadata": {},
   "outputs": [
    {
     "name": "stdin",
     "output_type": "stream",
     "text": [
      "enter a string : computer class\n"
     ]
    },
    {
     "name": "stdout",
     "output_type": "stream",
     "text": [
      "Reversed of a string : ssalc retupmoc\n"
     ]
    }
   ],
   "source": [
    "#step1 : Take input string and assigns in str variable\n",
    "str = input(\"enter a string :\")\n",
    "\n",
    "#step2 : Reverse the string by using slicing syntax [start:end:step] and assigns in reverse_string \n",
    "reverse_string = str[::-1]\n",
    "\n",
    "#step3 : Display the reversed string \n",
    "print(\"Reversed of a string :\" , reverse_string)"
   ]
  },
  {
   "cell_type": "code",
   "execution_count": null,
   "id": "481ecdce-fa6c-4a29-9240-2ffc11ef7720",
   "metadata": {},
   "outputs": [],
   "source": []
  },
  {
   "cell_type": "markdown",
   "id": "b5d0f140-7b48-488a-964c-4a8745462641",
   "metadata": {},
   "source": [
    "### 2.Check if a string is a palindrome."
   ]
  },
  {
   "cell_type": "code",
   "execution_count": 2,
   "id": "c7d1462f-14ba-44da-9f15-1de77a147757",
   "metadata": {},
   "outputs": [
    {
     "name": "stdin",
     "output_type": "stream",
     "text": [
      "Input a string : radar\n"
     ]
    },
    {
     "name": "stdout",
     "output_type": "stream",
     "text": [
      "A string is palindrome \n"
     ]
    }
   ],
   "source": [
    "sentence = input(\"Input a string :\")\n",
    "cleaned_string = sentence.lower()\n",
    "reverse_str = sentence[::-1]\n",
    "if sentence == reverse_str :\n",
    "    print(\"A string is palindrome \")\n",
    "else :\n",
    "    print(\"A string is not palindrome\")"
   ]
  },
  {
   "cell_type": "code",
   "execution_count": null,
   "id": "182398b2-a4e1-489e-8ebf-058168571635",
   "metadata": {},
   "outputs": [],
   "source": []
  },
  {
   "cell_type": "markdown",
   "id": "e0e009ed-ab5e-4c83-882a-add8c140b1a8",
   "metadata": {},
   "source": [
    "### 3.Convert a string to uppercase."
   ]
  },
  {
   "cell_type": "code",
   "execution_count": 3,
   "id": "79e1f160-1fe1-4595-940f-bab7aee3dd03",
   "metadata": {},
   "outputs": [
    {
     "name": "stdin",
     "output_type": "stream",
     "text": [
      "enter a string : this is a computer\n"
     ]
    },
    {
     "name": "stdout",
     "output_type": "stream",
     "text": [
      "String is converted into uppercase : THIS IS A COMPUTER\n"
     ]
    }
   ],
   "source": [
    "#step 1 : Take input from user \n",
    "input_string = input(\"enter a string :\")\n",
    "\n",
    "#step2 : Convert string into uppercase by in-built upper() and assign in uppercase_string\n",
    "uppercase_string = input_string.upper()\n",
    "\n",
    "#step3 : Display the string convertes into uppercase\n",
    "print(\"String is converted into uppercase :\",uppercase_string) "
   ]
  },
  {
   "cell_type": "code",
   "execution_count": null,
   "id": "db0e36c0-61f2-459c-aa08-ffb66a829508",
   "metadata": {},
   "outputs": [],
   "source": []
  },
  {
   "cell_type": "markdown",
   "id": "48e6ace4-88fe-4661-9299-363f30f4d236",
   "metadata": {},
   "source": [
    "### 4.Convert a string to lowercase."
   ]
  },
  {
   "cell_type": "code",
   "execution_count": 4,
   "id": "d14435c9-6633-4fb4-be36-d9404657e1bf",
   "metadata": {},
   "outputs": [
    {
     "name": "stdin",
     "output_type": "stream",
     "text": [
      "Enter a string : seNTENce\n"
     ]
    },
    {
     "name": "stdout",
     "output_type": "stream",
     "text": [
      "String is converted into lowercase : sentence\n"
     ]
    }
   ],
   "source": [
    "#step1 : Take input from user\n",
    "input_string = input(\"Enter a string :\")\n",
    "\n",
    "#step2 : Convert string into lowercase by in-built lower() and assign in lower_case string\n",
    "lowercase_string = input_string.lower()\n",
    "\n",
    "#step3 : Display the string converts into lowercase\n",
    "print(\"String is converted into lowercase :\",lowercase_string)"
   ]
  },
  {
   "cell_type": "code",
   "execution_count": null,
   "id": "76ca81ab-67cf-42fe-9540-f4ecaff377d8",
   "metadata": {},
   "outputs": [],
   "source": []
  },
  {
   "cell_type": "markdown",
   "id": "448857d6-6e8c-419b-a806-f47c987148d1",
   "metadata": {},
   "source": [
    "### 5.Count the number of vowels in a string."
   ]
  },
  {
   "cell_type": "code",
   "execution_count": 5,
   "id": "72e6d6d6-d56c-4a1a-ac83-a9332aa0231c",
   "metadata": {},
   "outputs": [
    {
     "name": "stdout",
     "output_type": "stream",
     "text": [
      "A string : mango applE\n",
      "The number of vowels (a,e,i,o,u or A,E,I,O,U) in a string : 4\n"
     ]
    }
   ],
   "source": [
    "vowels = \"mango applE\"\n",
    "vowel_element = \"aeiouAEIOU\"\n",
    "vowel_count = 0\n",
    "for i in vowels:\n",
    "    if i in vowel_element:\n",
    "        vowel_count +=1\n",
    "print(\"A string :\",vowels)\n",
    "print(\"The number of vowels (a,e,i,o,u or A,E,I,O,U) in a string :\",vowel_count)\n",
    "    "
   ]
  },
  {
   "cell_type": "code",
   "execution_count": null,
   "id": "7c873188-e1e4-44b6-97cb-db857ceb8171",
   "metadata": {},
   "outputs": [],
   "source": []
  },
  {
   "cell_type": "markdown",
   "id": "e17d815c-1622-4a0a-940f-2c12aa20e1b0",
   "metadata": {},
   "source": [
    "### 6.Count the number of consonants in a string."
   ]
  },
  {
   "cell_type": "code",
   "execution_count": 6,
   "id": "5ee3a798-11cc-4a32-9e99-60f991962e4f",
   "metadata": {},
   "outputs": [
    {
     "name": "stdout",
     "output_type": "stream",
     "text": [
      "A string : FSDS pro\n",
      "The number of consonants in a string : 6\n"
     ]
    }
   ],
   "source": [
    "consonant = \"FSDS pro\"\n",
    "\n",
    "consonant_element = \"bcdfghjklmnpqrstvwxyzBCDFGHJKLMNPQRSTVWXYZ\"\n",
    "consonant_count = 0\n",
    "for i in consonant:\n",
    "    if i in consonant_element :\n",
    "        consonant_count +=1\n",
    "print(\"A string :\",consonant)\n",
    "print(\"The number of consonants in a string :\", consonant_count)"
   ]
  },
  {
   "cell_type": "code",
   "execution_count": null,
   "id": "d54bac7e-2547-47ea-a1e5-f620642787a8",
   "metadata": {},
   "outputs": [],
   "source": []
  },
  {
   "cell_type": "markdown",
   "id": "c0d57c40-f430-4616-bfb4-4cae1bd75f08",
   "metadata": {},
   "source": [
    "### 7.Remove all whitespaces from a string."
   ]
  },
  {
   "cell_type": "code",
   "execution_count": 7,
   "id": "e4aaec46-69c6-4d96-acb9-7c56928e191a",
   "metadata": {},
   "outputs": [
    {
     "name": "stdout",
     "output_type": "stream",
     "text": [
      "Input string : what is  a      string ?\n",
      "Desired string : whatisastring?\n"
     ]
    }
   ],
   "source": [
    "def remove_whitespaces(input_string):\n",
    "    count = \"\"\n",
    "    for char in input_string:\n",
    "        if char != \" \":\n",
    "            count += char\n",
    "    return count\n",
    "    \n",
    "    \n",
    "input_string = \"what is  a      string ?\"\n",
    "print(\"Input string :\",input_string)\n",
    "output = remove_whitespaces(input_string)\n",
    "print(\"Desired string :\",output)"
   ]
  },
  {
   "cell_type": "code",
   "execution_count": null,
   "id": "0291567e-612e-470b-ad61-5f19f50ce469",
   "metadata": {},
   "outputs": [],
   "source": []
  },
  {
   "cell_type": "markdown",
   "id": "80bf99c8-0c78-4703-bdcc-ea0da9ea2be4",
   "metadata": {},
   "source": [
    "### 8.Find the length of a string without using the 'len()' function."
   ]
  },
  {
   "cell_type": "code",
   "execution_count": 8,
   "id": "e3009632-272c-4aaf-98e0-1ad139254cd8",
   "metadata": {},
   "outputs": [
    {
     "name": "stdout",
     "output_type": "stream",
     "text": [
      "A string : this is a class\n",
      "The length of a string without using the len() function : 15\n"
     ]
    }
   ],
   "source": [
    "input_string = \"this is a class\"\n",
    "count_length = 0\n",
    "\n",
    "for i in input_string:\n",
    "    count_length +=1\n",
    "print(\"A string :\",input_string)\n",
    "print(\"The length of a string without using the len() function :\",count_length)"
   ]
  },
  {
   "cell_type": "code",
   "execution_count": null,
   "id": "0637d008-e0f3-4a1c-8e93-11073fd9effa",
   "metadata": {},
   "outputs": [],
   "source": []
  },
  {
   "cell_type": "markdown",
   "id": "8f9abf17-ee2d-440e-9d3e-9b5b30926a0d",
   "metadata": {},
   "source": [
    "### 9.Check if a string contains a specific word."
   ]
  },
  {
   "cell_type": "code",
   "execution_count": 9,
   "id": "8e30f0b1-1d09-4445-b621-dd244c67a7e5",
   "metadata": {},
   "outputs": [
    {
     "name": "stdin",
     "output_type": "stream",
     "text": [
      "enter a string : this is a machine\n",
      "enter a specific word : machine\n"
     ]
    },
    {
     "name": "stdout",
     "output_type": "stream",
     "text": [
      "Yes, a string contains a specific word : machine\n"
     ]
    }
   ],
   "source": [
    "input_string = input(\"enter a string :\")\n",
    "specific_word = input(\"enter a specific word :\")\n",
    "\n",
    "if specific_word in input_string:\n",
    "    print(\"Yes, a string contains a specific word :\",specific_word)\n",
    "else :\n",
    "    print(\"No, a string doesn't contain a specific word :\",specific_word)\n",
    "        "
   ]
  },
  {
   "cell_type": "code",
   "execution_count": null,
   "id": "9fa94fa5-f1ce-45d1-bd5b-b3df02d6cbdd",
   "metadata": {},
   "outputs": [],
   "source": []
  },
  {
   "cell_type": "markdown",
   "id": "3af92328-6fd3-41f9-aae4-5a157de0147a",
   "metadata": {},
   "source": [
    "### 10.Replace a word in a string with another word."
   ]
  },
  {
   "cell_type": "code",
   "execution_count": 10,
   "id": "79e413b1-ee90-4d03-a6d8-fb9a87bd6f16",
   "metadata": {},
   "outputs": [
    {
     "name": "stdin",
     "output_type": "stream",
     "text": [
      "enter a string : this is sky\n",
      "enter a word which replaced in a string : sky\n",
      "enter a new word to be replaced by old word : blue\n"
     ]
    },
    {
     "name": "stdout",
     "output_type": "stream",
     "text": [
      "Desired string : this is blue\n"
     ]
    }
   ],
   "source": [
    "input_string = input(\"enter a string :\")\n",
    "replace_word = input(\"enter a word which replaced in a string :\")\n",
    "new_word = input(\"enter a new word to be replaced by old word :\")\n",
    "result = input_string.replace(replace_word,new_word)\n",
    "print(\"Desired string :\",result)"
   ]
  },
  {
   "cell_type": "code",
   "execution_count": null,
   "id": "d7d9c916-e0d5-48e2-9297-0ba63c1c6a42",
   "metadata": {},
   "outputs": [],
   "source": []
  },
  {
   "cell_type": "markdown",
   "id": "c47d9bfa-8a89-4f62-8e23-236d97c4b28e",
   "metadata": {},
   "source": [
    "### 11.Count the occurrences of a word in a string."
   ]
  },
  {
   "cell_type": "code",
   "execution_count": 11,
   "id": "bab4b876-4ebd-408e-a52a-8c968d972990",
   "metadata": {},
   "outputs": [
    {
     "name": "stdout",
     "output_type": "stream",
     "text": [
      "Input string : India is my country. All Indians are my sisters and brothers. I love my country and I am proud pf its rich and varied heritage.\n"
     ]
    },
    {
     "name": "stdin",
     "output_type": "stream",
     "text": [
      "Target word to occur in a string : I\n"
     ]
    },
    {
     "name": "stdout",
     "output_type": "stream",
     "text": [
      "count the occurences of a word {'I'} in a string : 2 times\n"
     ]
    }
   ],
   "source": [
    "input_string = \"India is my country. All Indians are my sisters and brothers. I love my country and I am proud pf its rich and varied heritage.\"\n",
    "print(\"Input string :\",input_string)\n",
    "target_word = input(\"Target word to occur in a string :\")\n",
    "\n",
    "occur_count = 0\n",
    "word_split = input_string.split()\n",
    "for i in word_split:\n",
    "    if i == target_word :\n",
    "        occur_count +=1\n",
    "print(f\"count the occurences of a word\", {target_word} ,\"in a string :\", occur_count ,\"times\" )"
   ]
  },
  {
   "cell_type": "code",
   "execution_count": null,
   "id": "d1eabe7d-b59c-442d-b8e6-11e89317f779",
   "metadata": {},
   "outputs": [],
   "source": []
  },
  {
   "cell_type": "markdown",
   "id": "97be7ec9-c8dd-4fbc-9594-f3729e6a9f61",
   "metadata": {},
   "source": [
    "### 12.Find the first occurence of a word in string."
   ]
  },
  {
   "cell_type": "code",
   "execution_count": 12,
   "id": "4240a24b-776f-4d5a-9c4a-6af6012842c4",
   "metadata": {},
   "outputs": [
    {
     "name": "stdout",
     "output_type": "stream",
     "text": [
      "Input string : Full stack data science pro is batch of pwskills. This batch has different student profile categories.\n"
     ]
    },
    {
     "name": "stdin",
     "output_type": "stream",
     "text": [
      "Enter word to choose for first occurence in string : batch\n"
     ]
    },
    {
     "name": "stdout",
     "output_type": "stream",
     "text": [
      "The first occurence of a word 'batch' in string at index : 31\n"
     ]
    }
   ],
   "source": [
    "input_string = \"Full stack data science pro is batch of pwskills. This batch has different student profile categories.\"\n",
    "print(\"Input string :\",input_string)\n",
    "first_occur = input(\"Enter word to choose for first occurence in string :\")\n",
    "\n",
    "index = input_string.find(first_occur)\n",
    "if index == -1:\n",
    "    print(\"No word is found in string\")\n",
    "else :\n",
    "    print(f\"The first occurence of a word '{first_occur}' in string at index :\",index)\n"
   ]
  },
  {
   "cell_type": "code",
   "execution_count": null,
   "id": "5413f001-6aac-4595-bc8c-0ee3b999eef3",
   "metadata": {},
   "outputs": [],
   "source": []
  },
  {
   "cell_type": "markdown",
   "id": "8c52b296-a2da-4558-8b53-e16aec121188",
   "metadata": {},
   "source": [
    "### 13.Find the last occurence of a word in a string."
   ]
  },
  {
   "cell_type": "code",
   "execution_count": 13,
   "id": "ca42c719-3857-4900-b87d-31b4951b76b2",
   "metadata": {},
   "outputs": [
    {
     "name": "stdout",
     "output_type": "stream",
     "text": [
      "Input string : This is a question regarding the last occurrence. The answer of this question is very easy.\n",
      "The word in a string to find the last occurrence : question\n",
      "The last occurrence of a word 'question' in string : 69\n"
     ]
    }
   ],
   "source": [
    "input_string = \"This is a question regarding the last occurrence. The answer of this question is very easy.\"\n",
    "print(\"Input string :\",input_string)\n",
    "last_occur = \"question\"\n",
    "print(\"The word in a string to find the last occurrence :\",last_occur)\n",
    "index = input_string.rfind(last_occur)\n",
    "if index == -1 :\n",
    "    print(\"No word is found in string\")\n",
    "else :\n",
    "    print(f\"The last occurrence of a word '{last_occur}' in string :\",index)"
   ]
  },
  {
   "cell_type": "code",
   "execution_count": null,
   "id": "116694eb-b644-4234-8a63-529599616418",
   "metadata": {},
   "outputs": [],
   "source": []
  },
  {
   "cell_type": "markdown",
   "id": "f4351c34-f124-4ae8-a98f-7bb1dfd8eaf3",
   "metadata": {},
   "source": [
    "### 14.Split a string into a list of words."
   ]
  },
  {
   "cell_type": "code",
   "execution_count": 14,
   "id": "76cfb8c9-36f6-4a96-a5b8-66ce4f770a0a",
   "metadata": {},
   "outputs": [
    {
     "name": "stdout",
     "output_type": "stream",
     "text": [
      "A string : pwskills course\n",
      "split a string into a list of words : ['pwskills', 'course']\n"
     ]
    }
   ],
   "source": [
    "input_string = \"pwskills course\"\n",
    "result = input_string.split()\n",
    "print(\"A string :\",input_string)\n",
    "print(\"split a string into a list of words :\",result)"
   ]
  },
  {
   "cell_type": "code",
   "execution_count": null,
   "id": "f949e110-e9ea-426c-b414-9ef7f49467f6",
   "metadata": {},
   "outputs": [],
   "source": []
  },
  {
   "cell_type": "markdown",
   "id": "85b67257-13d8-4842-997e-a7fe080a9282",
   "metadata": {},
   "source": [
    "### 15.Join a list of words into a string."
   ]
  },
  {
   "cell_type": "code",
   "execution_count": 15,
   "id": "93455315-d072-41c5-9134-11de51c71e33",
   "metadata": {},
   "outputs": [
    {
     "name": "stdout",
     "output_type": "stream",
     "text": [
      "Input string : ['this', 'is', 'a', 'class']\n",
      "join a list of words into a string : this is a class\n"
     ]
    }
   ],
   "source": [
    "input_string = [\"this\",\"is\",\"a\" ,\"class\"]\n",
    "print(\"Input string :\",input_string)\n",
    "join_list =\" \".join(input_string)\n",
    "print(\"join a list of words into a string :\",join_list)"
   ]
  },
  {
   "cell_type": "code",
   "execution_count": null,
   "id": "63e060b8-644f-43bd-b701-e1c6da15389d",
   "metadata": {},
   "outputs": [],
   "source": []
  },
  {
   "cell_type": "markdown",
   "id": "3ec99312-68d5-43ff-9e7a-a6188f621144",
   "metadata": {},
   "source": [
    "### 16.Convert a string where words are separated by spaces to one where words are separated by underscores."
   ]
  },
  {
   "cell_type": "code",
   "execution_count": 16,
   "id": "f2481c82-7e3c-48e9-b57b-a273a5aebf7b",
   "metadata": {},
   "outputs": [
    {
     "name": "stdout",
     "output_type": "stream",
     "text": [
      "String : this is a electronic machine\n",
      "convert a string where words are separated by spaces to one where words are separated by underscores : this_is_a_electronic_machine\n"
     ]
    }
   ],
   "source": [
    "string = \"this is a electronic machine\"\n",
    "print(\"String :\",string)\n",
    "new_string = string.replace(\" \",\"_\")\n",
    "print(\"convert a string where words are separated by spaces to one where words are separated by underscores :\",new_string)"
   ]
  },
  {
   "cell_type": "code",
   "execution_count": null,
   "id": "fe65678c-2fae-4cf9-b3d7-c3e21b4971e1",
   "metadata": {},
   "outputs": [],
   "source": []
  },
  {
   "cell_type": "markdown",
   "id": "94289103-f753-4ded-b8c2-1fc991d33c13",
   "metadata": {},
   "source": [
    "### 17.Check if a string starts with a specific word or phrase."
   ]
  },
  {
   "cell_type": "code",
   "execution_count": 17,
   "id": "1036c00a-2251-4bcb-ade0-336fc6687fe2",
   "metadata": {},
   "outputs": [
    {
     "name": "stdout",
     "output_type": "stream",
     "text": [
      "A string : this is company\n",
      "A string starts with a specific word or phase : this\n",
      "yes, a string starts with a specific word or phrase\n"
     ]
    }
   ],
   "source": [
    "def specific_word(string,specific):\n",
    "    if specific in string[0::]:\n",
    "        print(\"yes, a string starts with a specific word or phrase\")\n",
    "    else :\n",
    "        print(\"no , a string doesn't start with a specific word or phrase\")\n",
    "\n",
    "input_string = \"this is company\"\n",
    "specific = \"this\"\n",
    "print(\"A string :\",input_string)\n",
    "print(\"A string starts with a specific word or phase :\",specific)\n",
    "specific_word(input_string,specific)\n"
   ]
  },
  {
   "cell_type": "code",
   "execution_count": null,
   "id": "482707fc-f9b0-4342-a1da-3b8fe0696da4",
   "metadata": {},
   "outputs": [],
   "source": []
  },
  {
   "cell_type": "markdown",
   "id": "f243528f-017f-4291-a087-9ea32ba94032",
   "metadata": {},
   "source": [
    "### 18.Check if a string ends with a specific word or phrase."
   ]
  },
  {
   "cell_type": "code",
   "execution_count": 18,
   "id": "2da3238b-b43e-4304-83fb-14ecaa7f26bd",
   "metadata": {},
   "outputs": [
    {
     "name": "stdout",
     "output_type": "stream",
     "text": [
      "A string : this is mnc company\n",
      "A specific end word : company\n",
      "Check if a string ends with specific word or phrase\n",
      "Yes, a string end with a specific word or phrase 'company'\n"
     ]
    }
   ],
   "source": [
    "def specific_word(input_string, specific_end_word):\n",
    "    end = input_string.endswith(specific_end_word)\n",
    "    return end\n",
    "\n",
    "input_string = \"this is mnc company\"\n",
    "specific_end_word = \"company\"\n",
    "print(\"A string :\",input_string)\n",
    "print(\"A specific end word :\",specific_end_word)\n",
    "check_func = specific_word(input_string, specific_end_word)\n",
    "print(\"Check if a string ends with specific word or phrase\")\n",
    "if check_func:\n",
    "    print(f\"Yes, a string end with a specific word or phrase '{specific_end_word}'\")\n",
    "else :\n",
    "    print(f\"No, a string doesn't end with a specific word or phrase '{specific_end_word}'\")"
   ]
  },
  {
   "cell_type": "code",
   "execution_count": null,
   "id": "c309837a-96fd-4d79-86d7-9df5ce125f25",
   "metadata": {},
   "outputs": [],
   "source": []
  },
  {
   "cell_type": "markdown",
   "id": "313a2502-16dc-45e7-8377-21a238a685c5",
   "metadata": {},
   "source": [
    "### 19.Convert a string to title case(e.g., \"hello world\" to \"Hello World\")."
   ]
  },
  {
   "cell_type": "code",
   "execution_count": 19,
   "id": "93718a3d-11b6-4ec7-96fd-aeac02a10b0b",
   "metadata": {},
   "outputs": [
    {
     "name": "stdin",
     "output_type": "stream",
     "text": [
      "Enter a string : hello world\n"
     ]
    },
    {
     "name": "stdout",
     "output_type": "stream",
     "text": [
      "Convert a string to title case : Hello World\n"
     ]
    }
   ],
   "source": [
    "string = input(\"Enter a string :\")\n",
    "title_case = string.title()\n",
    "print(\"Convert a string to title case :\",title_case)"
   ]
  },
  {
   "cell_type": "code",
   "execution_count": null,
   "id": "7709a747-c7f1-4fde-96a3-c7018eeb0c2a",
   "metadata": {},
   "outputs": [],
   "source": []
  },
  {
   "cell_type": "markdown",
   "id": "9e76aea9-1c8e-4a14-b4db-82b3225a3cfd",
   "metadata": {},
   "source": [
    "### 20.Find the longest word in a string."
   ]
  },
  {
   "cell_type": "code",
   "execution_count": 20,
   "id": "abead1db-955f-412a-b285-06b581a8b199",
   "metadata": {},
   "outputs": [
    {
     "name": "stdout",
     "output_type": "stream",
     "text": [
      "Input string : Always positive and confident in every situation\n",
      "The longest word in a string : situation\n"
     ]
    }
   ],
   "source": [
    "from functools import reduce\n",
    "\n",
    "def longest_word_func(input_string):\n",
    "    word_split = input_string.split()\n",
    "    return reduce( lambda x,y : x if len(x) > len(y) else y , word_split)\n",
    "\n",
    "input_string = \"Always positive and confident in every situation\"\n",
    "print(\"Input string :\",input_string)\n",
    "longest = longest_word_func(input_string)\n",
    "if longest :\n",
    "    print(\"The longest word in a string :\",longest)"
   ]
  },
  {
   "cell_type": "code",
   "execution_count": null,
   "id": "d9ebb107-f15b-4258-aef9-fcc696cda093",
   "metadata": {},
   "outputs": [],
   "source": []
  },
  {
   "cell_type": "markdown",
   "id": "bbbf837b-2464-48c3-8e43-d610bd7fab4c",
   "metadata": {},
   "source": [
    "### 21.Find the shortest word in a string."
   ]
  },
  {
   "cell_type": "code",
   "execution_count": 21,
   "id": "2904f85e-af9e-4ea0-816d-11291b3395ae",
   "metadata": {},
   "outputs": [
    {
     "name": "stdout",
     "output_type": "stream",
     "text": [
      "Input string : Always positive and confident in every situation\n",
      "The shortest word in a string : in\n"
     ]
    }
   ],
   "source": [
    "from functools import reduce \n",
    "\n",
    "def shortest_word_func(input_string):\n",
    "    word_split = input_string.split()\n",
    "    return reduce(lambda x,y : x if len(x) < len(y) else y , word_split)\n",
    "\n",
    "input_string = \"Always positive and confident in every situation\"\n",
    "print(\"Input string :\",input_string)\n",
    "shortest = shortest_word_func(input_string)\n",
    "if shortest :\n",
    "    print(\"The shortest word in a string :\",shortest)"
   ]
  },
  {
   "cell_type": "code",
   "execution_count": null,
   "id": "05cab93a-dd7a-431d-ab1d-723d591e299c",
   "metadata": {},
   "outputs": [],
   "source": []
  },
  {
   "cell_type": "markdown",
   "id": "21657112-5c65-4c9b-b814-c524bb0ff981",
   "metadata": {},
   "source": [
    "### 22.Reverse the order of words in a string."
   ]
  },
  {
   "cell_type": "code",
   "execution_count": 22,
   "id": "d2378920-b25e-465e-8c6b-ba0acc2599ef",
   "metadata": {},
   "outputs": [
    {
     "name": "stdout",
     "output_type": "stream",
     "text": [
      "A string : ['machine', 'washing', 'is', 'this']\n",
      "Reverse the order of words in a string : ['this', 'is', 'washing', 'machine']\n"
     ]
    }
   ],
   "source": [
    "def reverse_order(text):\n",
    "    new_text = text[::-1]\n",
    "    return new_text\n",
    "\n",
    "text = [\"machine\",\"washing\",\"is\",\"this\"]\n",
    "reverse_list = reverse_order(text)\n",
    "print(\"A string :\",text)\n",
    "print(\"Reverse the order of words in a string :\",reverse_list)\n"
   ]
  },
  {
   "cell_type": "code",
   "execution_count": null,
   "id": "59a0e85d-f38f-42d6-a50f-29df85709cc8",
   "metadata": {},
   "outputs": [],
   "source": []
  },
  {
   "cell_type": "markdown",
   "id": "a80da0a1-55d8-42c8-a7df-fce1fb27ffb5",
   "metadata": {},
   "source": [
    "### 23.Check if a string is alphanumeric."
   ]
  },
  {
   "cell_type": "code",
   "execution_count": 23,
   "id": "7f1098c1-14ca-4f9b-b351-c03ced2018aa",
   "metadata": {},
   "outputs": [
    {
     "name": "stdout",
     "output_type": "stream",
     "text": [
      "A string : morning12345\n",
      "Yes, this string is alphanumeric\n"
     ]
    }
   ],
   "source": [
    "def alphanumeric_string(text):\n",
    "    return text.isalnum()   \n",
    "\n",
    "text = \"morning12345\"\n",
    "print(\"A string :\",text)\n",
    "a_string = alphanumeric_string(text)\n",
    "\n",
    "if a_string:\n",
    "    print(\"Yes, this string is alphanumeric\")\n",
    "else :\n",
    "    print(\"no, this string is not alphanumeric\")\n",
    "        "
   ]
  },
  {
   "cell_type": "code",
   "execution_count": null,
   "id": "7a2310e3-c180-4774-8d0f-e9722eb566cd",
   "metadata": {},
   "outputs": [],
   "source": []
  },
  {
   "cell_type": "markdown",
   "id": "419cf5d9-bf82-4b7f-a822-fd362b385ea3",
   "metadata": {},
   "source": [
    "### 24.Extract all digits from a string."
   ]
  },
  {
   "cell_type": "code",
   "execution_count": 24,
   "id": "30d08873-bf27-40fa-83bf-bfa40f7faf18",
   "metadata": {},
   "outputs": [
    {
     "name": "stdout",
     "output_type": "stream",
     "text": [
      "A string : the456work341is2good\n",
      "Extract all digits from a string : 4563412\n"
     ]
    }
   ],
   "source": [
    "input_string = \"the456work341is2good\"\n",
    "digit_count = \"\"\n",
    "for i in input_string:\n",
    "    if i.isdigit():\n",
    "        digit_count +=i\n",
    "print(\"A string :\",input_string)\n",
    "print(\"Extract all digits from a string :\", digit_count)\n"
   ]
  },
  {
   "cell_type": "code",
   "execution_count": null,
   "id": "2fef6b10-1b00-40f4-aee7-e4b35194665b",
   "metadata": {},
   "outputs": [],
   "source": []
  },
  {
   "cell_type": "markdown",
   "id": "2d3d0b63-d003-48b7-aa70-8a5f9d934194",
   "metadata": {},
   "source": [
    "### 25.Extract all alphabets from a string."
   ]
  },
  {
   "cell_type": "code",
   "execution_count": 25,
   "id": "2a1a445a-8956-4e23-afda-eae6d3f975a3",
   "metadata": {},
   "outputs": [
    {
     "name": "stdout",
     "output_type": "stream",
     "text": [
      "this is present alphabet in result python123is245highlevel7language\n",
      "Extract all alphabet from a string : pythonishighlevellanguage\n"
     ]
    }
   ],
   "source": [
    "def extract_alphabet(input_string):\n",
    "    print(\"this is present alphabet in result\",input_string)\n",
    "    alphabet_string = ''.join([char for char in input_string if char.isalpha()])\n",
    "    return alphabet_string\n",
    "\n",
    "\n",
    "input_string = \"python123is245highlevel7language\"\n",
    "output = extract_alphabet(input_string)\n",
    "print(\"Extract all alphabet from a string :\",output)\n",
    "\n"
   ]
  },
  {
   "cell_type": "code",
   "execution_count": null,
   "id": "e3ee7dd9-edb4-45ed-878b-b309b300cfac",
   "metadata": {},
   "outputs": [],
   "source": []
  },
  {
   "cell_type": "markdown",
   "id": "fe7513fe-67ce-4fbd-90eb-4fe787905407",
   "metadata": {
    "tags": []
   },
   "source": [
    "### 26.Count the number of uppercase letters in a string."
   ]
  },
  {
   "cell_type": "code",
   "execution_count": 26,
   "id": "dfe765de-e1a7-45f3-b776-e5eb6cb65e1e",
   "metadata": {},
   "outputs": [
    {
     "name": "stdout",
     "output_type": "stream",
     "text": [
      "input_string : THIS is Uppercase 123 SentEnce\n",
      "count the number of uppercase letters in a string : 7\n"
     ]
    }
   ],
   "source": [
    "def uppercase_letter(input_string):\n",
    "    print(\"input_string :\",input_string)\n",
    "    letter = sum(1 for char in input_string if char.isupper())\n",
    "    return letter\n",
    "\n",
    "input_string = \"THIS is Uppercase 123 SentEnce\"\n",
    "uppercase = uppercase_letter(input_string)\n",
    "print(\"count the number of uppercase letters in a string :\",uppercase)"
   ]
  },
  {
   "cell_type": "code",
   "execution_count": null,
   "id": "50b5122c-d4c0-4bf3-a054-e6c7dfc1b1ff",
   "metadata": {},
   "outputs": [],
   "source": []
  },
  {
   "cell_type": "markdown",
   "id": "61176c28-e738-4b80-98ea-281584e6869f",
   "metadata": {},
   "source": [
    "### 27.Count the numberof lowercase letters in a string."
   ]
  },
  {
   "cell_type": "code",
   "execution_count": 27,
   "id": "04fabd29-de58-4d8e-91ae-113e14ecc993",
   "metadata": {},
   "outputs": [
    {
     "name": "stdout",
     "output_type": "stream",
     "text": [
      "example string : LOwercase APLHAbet\n",
      "Count the number of lowercase letters in a string : 10\n"
     ]
    }
   ],
   "source": [
    "def lowercase_letter(input_string):\n",
    "    print(\"example string :\",input_string)\n",
    "    letter = sum(1 for char in input_string if char.islower())\n",
    "    return letter\n",
    "\n",
    "input_string = \"LOwercase APLHAbet\"\n",
    "lowercase = lowercase_letter(input_string)\n",
    "print(\"Count the number of lowercase letters in a string :\",lowercase)"
   ]
  },
  {
   "cell_type": "code",
   "execution_count": null,
   "id": "ebc1940c-5c57-4579-b064-1a6c6b05c7e6",
   "metadata": {},
   "outputs": [],
   "source": []
  },
  {
   "cell_type": "markdown",
   "id": "ec447102-79ee-4b0a-87a0-84e3f510b0f4",
   "metadata": {},
   "source": [
    "### 28.Swap the case of each character in a string."
   ]
  },
  {
   "cell_type": "code",
   "execution_count": 28,
   "id": "732f7874-6c5b-4250-8253-d289a08785bc",
   "metadata": {},
   "outputs": [
    {
     "name": "stdout",
     "output_type": "stream",
     "text": [
      "Example string which is to be swapped of each character : PhyTHon cOUrse\n",
      "Swap the case of each character in a string : pHYthON CouRSE\n"
     ]
    }
   ],
   "source": [
    "input_string = \"PhyTHon cOUrse\"\n",
    "swap_case = input_string.swapcase()\n",
    "print(\"Example string which is to be swapped of each character :\",input_string)\n",
    "print(\"Swap the case of each character in a string :\",swap_case)"
   ]
  },
  {
   "cell_type": "code",
   "execution_count": null,
   "id": "0dcb43f5-10fe-4060-bdb7-c5daf6beb068",
   "metadata": {},
   "outputs": [],
   "source": []
  },
  {
   "cell_type": "markdown",
   "id": "429f898d-bc8c-46f6-85b5-a3791ef37dad",
   "metadata": {},
   "source": [
    "### 29.Remove a specific word from a string."
   ]
  },
  {
   "cell_type": "code",
   "execution_count": 30,
   "id": "b6c29448-7e34-43c0-bba8-42369f9aa829",
   "metadata": {},
   "outputs": [
    {
     "name": "stdout",
     "output_type": "stream",
     "text": [
      "Input string : Python program to remove a specific word from a string\n"
     ]
    },
    {
     "name": "stdin",
     "output_type": "stream",
     "text": [
      "Choose a word to remove : a\n"
     ]
    },
    {
     "name": "stdout",
     "output_type": "stream",
     "text": [
      "Remove a specific word 'a' from a string : Python program to remove specific word from string\n"
     ]
    }
   ],
   "source": [
    "def remove_word_function(input_string, choose_word):\n",
    "    word_split = input_string.split()\n",
    "    filter_word = [word for word in word_split if word != choose_word]\n",
    "    result_string = ' '.join(filter_word)\n",
    "    return result_string\n",
    "\n",
    "\n",
    "input_string = \"Python program to remove a specific word from a string\"\n",
    "print(\"Input string :\",input_string)\n",
    "choose_word = input(\"Choose a word to remove :\")\n",
    "output = remove_word_function(input_string, choose_word)\n",
    "print(f\"Remove a specific word '{choose_word}' from a string :\",output)\n"
   ]
  },
  {
   "cell_type": "code",
   "execution_count": null,
   "id": "b310afa4-bf12-4e43-9157-afec170e8a18",
   "metadata": {},
   "outputs": [],
   "source": []
  },
  {
   "cell_type": "markdown",
   "id": "8daf470b-da05-44f5-be13-8603ec345d29",
   "metadata": {},
   "source": [
    "### 30.Check if a string is a valid email address."
   ]
  },
  {
   "cell_type": "code",
   "execution_count": 32,
   "id": "212311fa-527d-4e84-9fa8-0f465aab2c5d",
   "metadata": {},
   "outputs": [
    {
     "name": "stdout",
     "output_type": "stream",
     "text": [
      "Email 1 address  : gov@google.com\n",
      "Email 2 address  : invalid-gmail.com\n",
      "Check if a string is a valid email address\n",
      "Email 1 address gov@google.com is True\n",
      "Email 2 address invalid-gmail.com is False\n"
     ]
    }
   ],
   "source": [
    "import re   \n",
    "\n",
    "def check_email_func(email):\n",
    "    pattern_form = r'^[\\w\\.-]+@[\\w\\.-]+\\.\\w+$'               #Regular expression pattern for a basic email validation\n",
    "    if re.match(pattern_form, email) :\n",
    "        return True\n",
    "    else : \n",
    "        return False\n",
    "\n",
    "email_1 = \"gov@google.com\"\n",
    "email_2 = \"invalid-gmail.com\"\n",
    "print(\"Email 1 address  :\",email_1)\n",
    "print(\"Email 2 address  :\",email_2)\n",
    "print(\"Check if a string is a valid email address\")\n",
    "output1 = check_email_func(email_1)\n",
    "output2 = check_email_func(email_2)\n",
    "print(f\"Email 1 address {email_1} is {output1}\")\n",
    "print(f\"Email 2 address {email_2} is {output2}\")"
   ]
  },
  {
   "cell_type": "code",
   "execution_count": null,
   "id": "ad26a165-3483-4f11-8b80-fc78d69e1413",
   "metadata": {},
   "outputs": [],
   "source": []
  },
  {
   "cell_type": "markdown",
   "id": "e0c282a0-2651-44a6-b1f7-abbe71654220",
   "metadata": {},
   "source": [
    "### 31.Extract the username from an email address string."
   ]
  },
  {
   "cell_type": "code",
   "execution_count": 47,
   "id": "d3cd01d3-1394-4151-ac68-af8a689ce7d8",
   "metadata": {},
   "outputs": [
    {
     "name": "stdout",
     "output_type": "stream",
     "text": [
      "Example of email address string : sidharth@gmail.com\n",
      "Extract the username from an email address string : sidharth\n"
     ]
    }
   ],
   "source": [
    "input_string = \"sidharth@gmail.com\"\n",
    "print(\"Example of email address string :\",input_string)\n",
    "username = input_string.split('@')[0]\n",
    "print(\"Extract the username from an email address string :\",username)"
   ]
  },
  {
   "cell_type": "code",
   "execution_count": null,
   "id": "70d8728d-1918-4662-9cc6-e9b52d4cfe62",
   "metadata": {},
   "outputs": [],
   "source": []
  },
  {
   "cell_type": "markdown",
   "id": "82d0bd1c-2b43-489d-b1f9-dfe89f76342f",
   "metadata": {},
   "source": [
    "### 32.Extract the domain name from an email address string."
   ]
  },
  {
   "cell_type": "code",
   "execution_count": 33,
   "id": "d5a873d0-6ac4-414b-b53f-ea4dec77fd0f",
   "metadata": {},
   "outputs": [
    {
     "name": "stdout",
     "output_type": "stream",
     "text": [
      "Example of email address string : sohan@yahoo.com\n",
      "Extract the domain name from an email address string : yahoo.com\n"
     ]
    }
   ],
   "source": [
    "input_string = \"sohan@yahoo.com\"\n",
    "domain_name = input_string.split('@')[1]\n",
    "print(\"Example of email address string :\",input_string)\n",
    "print(\"Extract the domain name from an email address string :\",domain_name)"
   ]
  },
  {
   "cell_type": "code",
   "execution_count": null,
   "id": "b5f9eb07-a8da-47f0-a408-a46ee2b6ad0d",
   "metadata": {},
   "outputs": [],
   "source": []
  },
  {
   "cell_type": "markdown",
   "id": "cf7f5d4e-c641-4094-b5b3-a14c10050f7d",
   "metadata": {},
   "source": [
    "### 33.Replace mulitple spaces in a string with a single space."
   ]
  },
  {
   "cell_type": "code",
   "execution_count": 34,
   "id": "a326bd29-bcc2-4af2-bae0-98e1e0bf88fb",
   "metadata": {},
   "outputs": [
    {
     "name": "stdout",
     "output_type": "stream",
     "text": [
      "Example of mulitple spaces in a string : i am   reading   this english    book \n",
      "Replace multiple spaces in a string with a single space : i am reading this english book\n"
     ]
    }
   ],
   "source": [
    "input_string = \"i am   reading   this english    book \"\n",
    "single_space = ' '.join(input_string.split())\n",
    "print(\"Example of mulitple spaces in a string :\",input_string)\n",
    "print(\"Replace multiple spaces in a string with a single space :\",single_space)"
   ]
  },
  {
   "cell_type": "code",
   "execution_count": null,
   "id": "ec2d71f5-8c6a-4d25-8fb7-b6697d21e5e7",
   "metadata": {},
   "outputs": [],
   "source": []
  },
  {
   "cell_type": "markdown",
   "id": "2f128b66-5fc8-4465-898d-b834f411f756",
   "metadata": {},
   "source": [
    "### 34.Check if a string is a valid URL."
   ]
  },
  {
   "cell_type": "code",
   "execution_count": 35,
   "id": "bfd0cda9-b648-4d54-b5ad-85639adc3e55",
   "metadata": {},
   "outputs": [
    {
     "name": "stdout",
     "output_type": "stream",
     "text": [
      "Example 1 of url1 : http://www.google.com\n",
      "Example 2 of url2 : This is the url of www.invalidurl.com\n",
      "Check if a string is a valid url \n",
      "Yes, This is valid url1 : ['http://www.google.com']\n",
      "No, This is invalid url2 : []\n"
     ]
    }
   ],
   "source": [
    "def valid_url_func(url):\n",
    "    x = url.split()\n",
    "    l = []\n",
    "    for i in x :\n",
    "        if i.find(\"https:\")==0 or i.find(\"http:\")==0 :\n",
    "            l.append(i)\n",
    "    return l\n",
    "\n",
    "url_1 = \"http://www.google.com\"\n",
    "url_2 = \"This is the url of www.invalidurl.com\"\n",
    "print(\"Example 1 of url1 :\",url_1)\n",
    "print(\"Example 2 of url2 :\",url_2)\n",
    "\n",
    "print(\"Check if a string is a valid url \")\n",
    "check_url_1 = valid_url_func(url_1)\n",
    "if check_url_1 :\n",
    "    print(\"Yes, This is valid url1 :\",check_url_1)\n",
    "else :\n",
    "    print(\"No, This is invalid url1 :\",check_url_1)\n",
    "\n",
    "    \n",
    "check_url_2 = valid_url_func(url_2)\n",
    "\n",
    "if check_url_2 :\n",
    "    print(\"Yes, This is valid url2:\",check_url_2)\n",
    "else :\n",
    "    print(\"No, This is invalid url2 :\",check_url_2)\n"
   ]
  },
  {
   "cell_type": "code",
   "execution_count": null,
   "id": "814e504e-9809-41b5-90c1-01ff80c163e3",
   "metadata": {},
   "outputs": [],
   "source": []
  },
  {
   "cell_type": "markdown",
   "id": "b7cf8d12-d254-468c-ab6d-cb3937b58a3e",
   "metadata": {},
   "source": [
    "### 35.Extract the protocol (http or https) from a URL string."
   ]
  },
  {
   "cell_type": "code",
   "execution_count": 36,
   "id": "d0c0a17d-0c25-43fb-b167-97422257d772",
   "metadata": {},
   "outputs": [
    {
     "name": "stdout",
     "output_type": "stream",
     "text": [
      "1. url 1 string: https://google.com\n",
      "2. url 2 string: https://upsc.gov.in\n",
      "3. url 3 string: ftp://ftp.protocol.com\n",
      "4. url 4 string: https://w3school.in\n",
      "5. url 5 string: smtp://smtp.protocol.com\n",
      "Extract protocol (http ,smtp ,ftp or https etc) from a url string \n",
      "Protocol 1 : https\n",
      "Protocol 2 : https\n",
      "Protocol 3 : ftp\n",
      "Protocol 4 : https\n",
      "Protocol 5 : smtp\n"
     ]
    }
   ],
   "source": [
    "def extract_protocol_func(url):\n",
    "    protocol_end = url.find(\"://\")\n",
    "    if protocol_end != -1:\n",
    "        protocol = url[:protocol_end]\n",
    "        return protocol\n",
    "    else :\n",
    "        return None\n",
    "    \n",
    "url_1 = \"https://google.com\"\n",
    "url_2 = \"https://upsc.gov.in\"\n",
    "url_3 = \"ftp://ftp.protocol.com\"\n",
    "url_4 = \"https://w3school.in\"\n",
    "url_5 = \"smtp://smtp.protocol.com\"\n",
    "\n",
    "print(\"1. url 1 string:\",url_1)\n",
    "print(\"2. url 2 string:\",url_2)\n",
    "print(\"3. url 3 string:\",url_3)\n",
    "print(\"4. url 4 string:\",url_4)\n",
    "print(\"5. url 5 string:\",url_5)\n",
    "print(\"Extract protocol (http ,smtp ,ftp or https etc) from a url string \")\n",
    "protocol_1 = extract_protocol_func(url_1)\n",
    "protocol_2 = extract_protocol_func(url_2)\n",
    "protocol_3 = extract_protocol_func(url_3)\n",
    "protocol_4 = extract_protocol_func(url_4)\n",
    "protocol_5 = extract_protocol_func(url_5)\n",
    "\n",
    "print(\"Protocol 1 :\", protocol_1)\n",
    "print(\"Protocol 2 :\", protocol_2)\n",
    "print(\"Protocol 3 :\", protocol_3)\n",
    "print(\"Protocol 4 :\", protocol_4)\n",
    "print(\"Protocol 5 :\", protocol_5)"
   ]
  },
  {
   "cell_type": "code",
   "execution_count": null,
   "id": "e854dfdf-66d0-4cd2-953f-cef65ca7234a",
   "metadata": {},
   "outputs": [],
   "source": []
  },
  {
   "cell_type": "markdown",
   "id": "0dcb448e-5e8e-49ec-a2c3-2270365f43fa",
   "metadata": {},
   "source": [
    "### 36.Find the frequency of each character in a string."
   ]
  },
  {
   "cell_type": "code",
   "execution_count": 37,
   "id": "22fb3de4-89b2-45f9-a276-b2e818ad18fc",
   "metadata": {},
   "outputs": [
    {
     "name": "stdout",
     "output_type": "stream",
     "text": [
      "Input string : Nice way to solve \n",
      "The frequency of each character in a string \n",
      "character :'N'  ,  Frequency : 1\n",
      "character :'i'  ,  Frequency : 1\n",
      "character :'c'  ,  Frequency : 1\n",
      "character :'e'  ,  Frequency : 2\n",
      "character :' '  ,  Frequency : 4\n",
      "character :'w'  ,  Frequency : 1\n",
      "character :'a'  ,  Frequency : 1\n",
      "character :'y'  ,  Frequency : 1\n",
      "character :'t'  ,  Frequency : 1\n",
      "character :'o'  ,  Frequency : 2\n",
      "character :'s'  ,  Frequency : 1\n",
      "character :'l'  ,  Frequency : 1\n",
      "character :'v'  ,  Frequency : 1\n"
     ]
    }
   ],
   "source": [
    "def frequency_character_func(input_string):\n",
    "    freq = {}\n",
    "    for char in input_string :\n",
    "        if char in freq :\n",
    "            freq[char] +=1\n",
    "        else :\n",
    "            freq[char] = 1\n",
    "    return freq\n",
    "            \n",
    "input_string =  \"Nice way to solve \"\n",
    "print(\"Input string :\",input_string)\n",
    "print(\"The frequency of each character in a string \")\n",
    "freq_char = frequency_character_func(input_string)\n",
    "for char,freq in freq_char.items():\n",
    "    print(f\"character :'{char}'  ,  Frequency : {freq}\")"
   ]
  },
  {
   "cell_type": "code",
   "execution_count": null,
   "id": "7066ee01-1323-4f16-91ce-22e5239b7102",
   "metadata": {},
   "outputs": [],
   "source": []
  },
  {
   "cell_type": "markdown",
   "id": "8428f45e-f7fe-471b-acd3-f55ba52f6f8e",
   "metadata": {},
   "source": [
    "### 37.Remove all punctuation from a string."
   ]
  },
  {
   "cell_type": "code",
   "execution_count": 38,
   "id": "8c473d46-2c9c-4367-bc3b-02ede2ef09de",
   "metadata": {},
   "outputs": [
    {
     "name": "stdout",
     "output_type": "stream",
     "text": [
      "Input string : Good morning everyone, How are you?\n",
      "Remove all punctuation from a string : Good morning everyone How are you\n"
     ]
    }
   ],
   "source": [
    "import string\n",
    "input_string = \"Good morning everyone, How are you?\"\n",
    "print(\"Input string :\",input_string)\n",
    "translator = str.maketrans(\"\",\"\",string.punctuation)\n",
    "clean_string = input_string.translate(translator)\n",
    "print(\"Remove all punctuation from a string :\",clean_string)"
   ]
  },
  {
   "cell_type": "code",
   "execution_count": null,
   "id": "ef4aab4d-5b86-4bda-95af-64d1841dffad",
   "metadata": {},
   "outputs": [],
   "source": []
  },
  {
   "cell_type": "markdown",
   "id": "66712874-9121-4571-ad03-51f6d403669b",
   "metadata": {},
   "source": [
    "### 38.Check if a string contains only digits."
   ]
  },
  {
   "cell_type": "code",
   "execution_count": 39,
   "id": "66e69fe3-41a7-4b4e-bdc0-a03f51b637fb",
   "metadata": {},
   "outputs": [
    {
     "name": "stdout",
     "output_type": "stream",
     "text": [
      "String 1 : 1001\n",
      "String 2 : digit0123456789\n",
      "String 3 : 123.8890\n",
      "String 4 : contain25673DIGIT\n",
      "Check if a string contains only digit \n",
      "1. '1001' contains only digit : True\n",
      "2. 'digit0123456789' contains only digit : False\n",
      "3. '123.8890' conatins only digit : False\n",
      "4. 'contain25673DIGIT' contains only digit : False\n"
     ]
    }
   ],
   "source": [
    "def digit_func(input_string):\n",
    "    return input_string.isdigit()\n",
    "\n",
    "string_1 = \"1001\"\n",
    "string_2 = \"digit0123456789\"\n",
    "string_3 = \"123.8890\"\n",
    "string_4 = \"contain25673DIGIT\"\n",
    "\n",
    "print(\"String 1 :\",string_1)\n",
    "print(\"String 2 :\",string_2)\n",
    "print(\"String 3 :\",string_3)\n",
    "print(\"String 4 :\",string_4)\n",
    "only_digit_1 = digit_func(string_1)\n",
    "only_digit_2 = digit_func(string_2)\n",
    "only_digit_3 = digit_func(string_3)\n",
    "only_digit_4 = digit_func(string_4)\n",
    "\n",
    "print(\"Check if a string contains only digit \")\n",
    "print(f\"1. '{string_1}' contains only digit :\",only_digit_1)\n",
    "print(f\"2. '{string_2}' contains only digit :\",only_digit_2)\n",
    "print(f\"3. '{string_3}' conatins only digit :\",only_digit_3)\n",
    "print(f\"4. '{string_4}' contains only digit :\",only_digit_4)"
   ]
  },
  {
   "cell_type": "code",
   "execution_count": null,
   "id": "ebff153c-e590-4ce1-976a-7c9607a9c8c7",
   "metadata": {},
   "outputs": [],
   "source": []
  },
  {
   "cell_type": "markdown",
   "id": "8e2005b8-6d8a-490a-9a2e-7e6235ac05a5",
   "metadata": {},
   "source": [
    "### 39.Check if a string contains only alphabets."
   ]
  },
  {
   "cell_type": "code",
   "execution_count": 40,
   "id": "0d19a8a8-b05c-4622-b6ba-86229374132f",
   "metadata": {},
   "outputs": [
    {
     "name": "stdout",
     "output_type": "stream",
     "text": [
      "String 1 : alphabet576\n",
      "String 2 : good\n",
      "String 3 : 464string78789\n",
      "String 4 : 1787.0978\n",
      "Check if a string contains only alphabets\n",
      "1. 'alphabet576' contains only alphabets : False\n",
      "2. 'good' contains only alphabets : True\n",
      "3. '464string78789' contains only alphabets : False\n",
      "4. '1787.0978' contains only alphabets : False\n"
     ]
    }
   ],
   "source": [
    "def alphabet_func(string):\n",
    "    return string.isalpha()\n",
    "\n",
    "str_in_1 = \"alphabet576\"\n",
    "str_in_2 = \"good\"\n",
    "str_in_3 = \"464string78789\"\n",
    "str_in_4 = \"1787.0978\"\n",
    "print(\"String 1 :\",str_in_1)\n",
    "print(\"String 2 :\",str_in_2)\n",
    "print(\"String 3 :\",str_in_3)\n",
    "print(\"String 4 :\",str_in_4)\n",
    "print(\"Check if a string contains only alphabets\")\n",
    "\n",
    "contain_alpha_1 = alphabet_func(str_in_1)\n",
    "contain_alpha_2 = alphabet_func(str_in_2)\n",
    "contain_alpha_3 = alphabet_func(str_in_3)\n",
    "contain_alpha_4 = alphabet_func(str_in_4)\n",
    "print(f\"1. '{str_in_1}' contains only alphabets :\",contain_alpha_1)\n",
    "print(f\"2. '{str_in_2}' contains only alphabets :\",contain_alpha_2)\n",
    "print(f\"3. '{str_in_3}' contains only alphabets :\",contain_alpha_3)\n",
    "print(f\"4. '{str_in_4}' contains only alphabets :\",contain_alpha_4)"
   ]
  },
  {
   "cell_type": "code",
   "execution_count": null,
   "id": "6caf39dc-b17e-4a02-b0d7-d0c341d3fc41",
   "metadata": {},
   "outputs": [],
   "source": []
  },
  {
   "cell_type": "markdown",
   "id": "c642d30c-75b7-4e38-97f8-a60cffdb7edf",
   "metadata": {},
   "source": [
    "### 40.Convert a string to a list of characters."
   ]
  },
  {
   "cell_type": "code",
   "execution_count": 44,
   "id": "24356da8-9d7f-43af-9c9c-53f6fd0a159d",
   "metadata": {},
   "outputs": [
    {
     "name": "stdout",
     "output_type": "stream",
     "text": [
      "Input string : Nice work\n",
      "Convert a string to a list of characters : ['N', 'i', 'c', 'e', ' ', 'w', 'o', 'r', 'k']\n"
     ]
    }
   ],
   "source": [
    "input_string = \"Nice work\"\n",
    "print(\"Input string :\",input_string)\n",
    "str_list = list(input_string)\n",
    "print(\"Convert a string to a list of characters :\",str_list)"
   ]
  },
  {
   "cell_type": "code",
   "execution_count": null,
   "id": "5e1e5897-12de-45c2-a6e3-343437ef9cfa",
   "metadata": {},
   "outputs": [],
   "source": []
  },
  {
   "cell_type": "markdown",
   "id": "1d8c1025-add6-44d3-a3ea-d2266fe7919d",
   "metadata": {},
   "source": [
    "### 41.Check if two strings are anagrams."
   ]
  },
  {
   "cell_type": "code",
   "execution_count": 41,
   "id": "2646ef16-c6ca-418d-a3f8-fe1e93aa40ce",
   "metadata": {},
   "outputs": [
    {
     "name": "stdout",
     "output_type": "stream",
     "text": [
      "String 1 : abcd\n",
      "String 2 : bcad\n",
      "String 3 : python\n",
      "String 4 : language\n",
      "check if two strings are anagrams\n",
      " Q1 Are 'abcd' and 'bcad' are anagrams?   Answer : True\n",
      " Q2 Are 'python' and 'language' are anagrams?   Answer : False\n"
     ]
    }
   ],
   "source": [
    "def str_func(string1, string2):\n",
    "    str1 = string1.replace(\" \",\"\").lower()\n",
    "    str2 = string2.replace(\" \",\"\").lower()\n",
    "    return sorted(str1) == sorted(str2)\n",
    "\n",
    "str_1 = \"abcd\"\n",
    "str_2 = \"bcad\"\n",
    "str_3 = \"python\"\n",
    "str_4 = \"language\"\n",
    "print(\"String 1 :\",str_1)\n",
    "print(\"String 2 :\",str_2)\n",
    "print(\"String 3 :\",str_3)\n",
    "print(\"String 4 :\",str_4)\n",
    "print(\"check if two strings are anagrams\")\n",
    "check_1 = str_func(str_1, str_2)\n",
    "check_2 = str_func(str_3, str_4)\n",
    "print(f\" Q1 Are '{str_1}' and '{str_2}' are anagrams?  \", \"Answer :\" ,check_1)\n",
    "print(f\" Q2 Are '{str_3}' and '{str_4}' are anagrams?  \", \"Answer :\" ,check_2)"
   ]
  },
  {
   "cell_type": "code",
   "execution_count": null,
   "id": "e1aebde0-f777-4167-b9be-ea4398070402",
   "metadata": {},
   "outputs": [],
   "source": []
  },
  {
   "cell_type": "markdown",
   "id": "8ed7b2ee-9ded-47cb-a049-2da81f64c9b2",
   "metadata": {},
   "source": [
    "### 42.Encode a string using a caesar cipher."
   ]
  },
  {
   "cell_type": "code",
   "execution_count": 42,
   "id": "4089cbe5-0577-499c-8f9d-4170885cc904",
   "metadata": {},
   "outputs": [
    {
     "name": "stdout",
     "output_type": "stream",
     "text": [
      "Example of input text : hello, world. 0123456789 is digits in maths.\n",
      "Shift of character at position : 3\n",
      "Encode a casear cipher by using the function \n",
      "Encoded text : khoor, zruog. 0123456789 lv gljlwv lq pdwkv.\n"
     ]
    }
   ],
   "source": [
    "# Define a function named caesar_cipher that encodes a string using a Caesar cipher.\n",
    "# Define a function named caesar_cipher that encodes a string using a Caesar cipher.\n",
    "def caesar_cipher_func(text_input, shift):\n",
    "  \"\"\"\n",
    "  Encodes a string using a Caesar cipher.\n",
    "\n",
    "  Args:\n",
    "    text: The string to encode.\n",
    "    shift: The number of positions to shift each letter.\n",
    "\n",
    "  Returns:\n",
    "    The encoded string.\n",
    "  \"\"\"\n",
    "\n",
    "  # Initialize an empty string to store the encoded text.\n",
    "  encoded_text = \"\"\n",
    "\n",
    "  # Iterate through each character in the input text.\n",
    "  for char in text_input:\n",
    "    # Check if the character is alphabetic.\n",
    "    if char.isalpha():\n",
    "      # Calculate the encoded character's Unicode code point value by shifting it by the specified amount.\n",
    "      # Ensure the value wraps around within the lowercase alphabet range (a-z).\n",
    "      encoded_char = chr((ord(char) + shift - ord('a')) % 26 + ord('a'))\n",
    "    else:\n",
    "      # Keep non-alphabetic characters unchanged.\n",
    "      encoded_char = char\n",
    "\n",
    "    # Add the encoded character to the encoded text.\n",
    "    encoded_text += encoded_char\n",
    "\n",
    "  # Return the resulting encoded text.\n",
    "  return encoded_text\n",
    "\n",
    "# Define the input text and the shift value for encoding.\n",
    "text_input = \"hello, world. 0123456789 is digits in maths.\"\n",
    "print(\"Example of input text :\",text_input)\n",
    "shift = 3\n",
    "print(\"Shift of character at position :\",shift)\n",
    "print(\"Encode a casear cipher by using the function \")\n",
    "\n",
    "# Call the caesar_cipher function to encode the text using the specified shift.\n",
    "encoded_text = caesar_cipher_func(text_input, shift)\n",
    "\n",
    "# Print the encoded text.\n",
    "print(\"Encoded text :\", encoded_text)"
   ]
  },
  {
   "cell_type": "code",
   "execution_count": null,
   "id": "dc41bf8c-e9f8-48dc-88b4-a61f3ffcc6e8",
   "metadata": {},
   "outputs": [],
   "source": []
  },
  {
   "cell_type": "markdown",
   "id": "e8365186-6100-42b6-813b-29664733e52a",
   "metadata": {},
   "source": [
    "### 43.Decode a Caesar cipher encoded string."
   ]
  },
  {
   "cell_type": "code",
   "execution_count": 43,
   "id": "2e863f82-3baf-4e60-b236-36f004f0d58b",
   "metadata": {},
   "outputs": [
    {
     "name": "stdout",
     "output_type": "stream",
     "text": [
      "Example of input text : khoor, zruog. 0123456789 lv gljlwv lq pdwkv.\n",
      "Shift character at 3 position : 3\n",
      "Decode a caesar cipher by using function \n",
      "Decoded text : hello, world. 0123456789 is digits in maths.\n"
     ]
    }
   ],
   "source": [
    "# Define a function to decode a string using a Caesar cipher\n",
    "def caesar_cipher_decoder_func(example_text, shift):\n",
    "    \"\"\"\n",
    "    Decodes a string using a Caesar cipher.\n",
    "\n",
    "    Args:\n",
    "        text: The string to decode.\n",
    "        shift: The number of positions to shift each letter.\n",
    "\n",
    "    Returns:\n",
    "        The decoded string.\n",
    "    \"\"\"\n",
    "\n",
    "    # Initialize an empty string to store the decoded text\n",
    "    decoded_text = \"\"\n",
    "\n",
    "    # Loop through each character in the input text\n",
    "    for char in example_text:\n",
    "        # Check if the character is an alphabetic character\n",
    "        if char.isalpha():\n",
    "            # Calculate the decoded character using the shift value\n",
    "            decoded_char = chr((ord(char) - shift - ord('a')) % 26 + ord('a'))\n",
    "        else:\n",
    "            # If the character is not alphabetic, keep it unchanged\n",
    "            decoded_char = char\n",
    "\n",
    "        # Add the decoded character to the decoded text\n",
    "        decoded_text += decoded_char\n",
    "\n",
    "    # Return the fully decoded text\n",
    "    return decoded_text\n",
    "\n",
    "# Example input\n",
    "example_text = \"khoor, zruog. 0123456789 lv gljlwv lq pdwkv.\"\n",
    "print(\"Example of input text :\",example_text)\n",
    "shift = 3\n",
    "print(\"Shift character at 3 position :\",shift)\n",
    "print(\"Decode a caesar cipher by using function \")\n",
    "# Call the caesar_cipher_decoder function to decode the input text\n",
    "decoded_text = caesar_cipher_decoder_func(example_text, shift)\n",
    "\n",
    "# Print the decoded text\n",
    "print(\"Decoded text :\", decoded_text)"
   ]
  },
  {
   "cell_type": "code",
   "execution_count": null,
   "id": "a0dd3ee5-8423-4ea6-bd06-bb86792ebc55",
   "metadata": {},
   "outputs": [],
   "source": []
  },
  {
   "cell_type": "markdown",
   "id": "8d3aeed0-c227-4568-b89f-b440e975124c",
   "metadata": {},
   "source": [
    "### 44.Find the most frequent word in a string."
   ]
  },
  {
   "cell_type": "code",
   "execution_count": 45,
   "id": "beb68b95-1a6f-414f-af13-e77b3cc64d7a",
   "metadata": {},
   "outputs": [
    {
     "name": "stdout",
     "output_type": "stream",
     "text": [
      "String : This is python program. A python is high level language. A python easy to understand.\n",
      "Most frequent word in a string : python\n"
     ]
    }
   ],
   "source": [
    "import re\n",
    "from collections import Counter\n",
    "\n",
    "def most_frequent_word(input_string):\n",
    "   \n",
    "    clean_string = re.sub(r'[^\\w\\s]', '', input_string).lower()\n",
    "    words = clean_string.split()   \n",
    "    word_counter = Counter(words)\n",
    "    most_common_word = word_counter.most_common(1)[0][0]\n",
    "    return most_common_word\n",
    "\n",
    "\n",
    "input_string = \"This is python program. A python is high level language. A python easy to understand.\"\n",
    "print(\"String :\",input_string)\n",
    "print(\"Most frequent word in a string :\",most_frequent_word(input_string))\n"
   ]
  },
  {
   "cell_type": "code",
   "execution_count": null,
   "id": "b8eb10aa-c0f1-43f2-913a-f79efaa9aa59",
   "metadata": {},
   "outputs": [],
   "source": []
  },
  {
   "cell_type": "markdown",
   "id": "2f286271-3e5e-4118-8a95-351f3ed367c3",
   "metadata": {},
   "source": [
    "### 45.Find all unique words in a string."
   ]
  },
  {
   "cell_type": "code",
   "execution_count": 46,
   "id": "30ab75de-9009-4faa-8659-ee98616d2d83",
   "metadata": {},
   "outputs": [
    {
     "name": "stdout",
     "output_type": "stream",
     "text": [
      "String : This is python program. A python is high level language. A python easy to understand.\n",
      "All unique words in a string : {'is', 'python', 'high', 'program', 'language', 'easy', 'to', 'a', 'understand', 'this', 'level'}\n"
     ]
    }
   ],
   "source": [
    "import re\n",
    "from collections import Counter\n",
    "\n",
    "def All_unique_word(input_string):\n",
    "   \n",
    "    clean_string = re.sub(r'[^\\w\\s]', '', input_string).lower()\n",
    "    unique_word = set(clean_string.split())   \n",
    "    return unique_word\n",
    "\n",
    "\n",
    "input_string = \"This is python program. A python is high level language. A python easy to understand.\"\n",
    "print(\"String :\",input_string)\n",
    "print(\"All unique words in a string :\",All_unique_word(input_string))\n"
   ]
  },
  {
   "cell_type": "code",
   "execution_count": null,
   "id": "f2adbb59-49bf-4535-8b72-70635977f059",
   "metadata": {},
   "outputs": [],
   "source": []
  },
  {
   "cell_type": "markdown",
   "id": "5bdb8cd1-b8b3-41d8-843b-5adaa7ceeb02",
   "metadata": {},
   "source": [
    "### 46.Count the number of syllables in a string."
   ]
  },
  {
   "cell_type": "code",
   "execution_count": 47,
   "id": "d1536a20-1187-4097-8d59-e81336f8402c",
   "metadata": {},
   "outputs": [
    {
     "name": "stdout",
     "output_type": "stream",
     "text": [
      "String 1 : python\n",
      "String 2 : practice\n",
      "String 3 : daily\n",
      "Count the number of syllables in a string\n",
      "String 1  : 'python' has '2' syllables in a string.\n",
      "String 2  : 'practice' has '3' syllables in a string.\n",
      "String 3  : 'daily' has '2' syllables in a string.\n"
     ]
    }
   ],
   "source": [
    "import re\n",
    "\n",
    "def count_syllable_func(word):\n",
    "    vowel_group = re.findall(r'[aeiouy]+', word, re.IGNORECASE)\n",
    "    return len(vowel_group)\n",
    "\n",
    "string_1 = \"python\"\n",
    "string_2 = \"practice\"\n",
    "string_3 = \"daily\"\n",
    "print(\"String 1 :\",string_1)\n",
    "print(\"String 2 :\",string_2)\n",
    "print(\"String 3 :\",string_3)\n",
    "print(\"Count the number of syllables in a string\")\n",
    "syllables1 = count_syllable_func(string_1)\n",
    "syllables2 = count_syllable_func(string_2)\n",
    "syllables3 = count_syllable_func(string_3)\n",
    "\n",
    "print(f\"String 1  : '{string_1}' has '{syllables1}' syllables in a string.\")\n",
    "print(f\"String 2  : '{string_2}' has '{syllables2}' syllables in a string.\")\n",
    "print(f\"String 3  : '{string_3}' has '{syllables3}' syllables in a string.\")"
   ]
  },
  {
   "cell_type": "code",
   "execution_count": null,
   "id": "2304290a-e23d-43de-9730-f50044e339bf",
   "metadata": {},
   "outputs": [],
   "source": []
  },
  {
   "cell_type": "markdown",
   "id": "8e8b8f9b-2c44-4720-ba62-14ef96351a86",
   "metadata": {},
   "source": [
    "### 47.Check if a string contains any special characters."
   ]
  },
  {
   "cell_type": "code",
   "execution_count": 48,
   "id": "2b5ec7fa-28b6-4df3-802e-eb220652c2f8",
   "metadata": {},
   "outputs": [
    {
     "name": "stdout",
     "output_type": "stream",
     "text": [
      "String 1 : How are you?\n",
      "String 2 : Python language is easy to understand.\n",
      "String 3 : Special Characters\n",
      "Check if a string contains any special characters.\n",
      "String 1  : 'How are you?' contains special characters: True\n",
      "String 2  : 'Python language is easy to understand.' contains special characters: True\n",
      "String 3  : 'Special Characters' contains special characters: False\n"
     ]
    }
   ],
   "source": [
    "import re\n",
    "\n",
    "def contains_special_characters_func(input_string):\n",
    "    # Define a regular expression pattern to match special characters\n",
    "    pattern = re.compile(r'[!@#$%^&*()_+{}\\[\\]:;<>,.?~\\\\/]')\n",
    "\n",
    "    # Use the search() method to find a match\n",
    "    match = pattern.search(input_string)\n",
    "\n",
    "    # Return True if a match is found, False otherwise\n",
    "    return bool(match)\n",
    "\n",
    "\n",
    "str1 = \"How are you?\"\n",
    "str2 = \"Python language is easy to understand.\"\n",
    "str3 = \"Special Characters\"\n",
    "print(\"String 1 :\",str1)\n",
    "print(\"String 2 :\",str2)\n",
    "print(\"String 3 :\",str3)\n",
    "print(\"Check if a string contains any special characters.\")\n",
    "print(f\"String 1  : '{str1}' contains special characters:\", contains_special_characters_func(str1))\n",
    "print(f\"String 2  : '{str2}' contains special characters:\", contains_special_characters_func(str2))\n",
    "print(f\"String 3  : '{str3}' contains special characters:\", contains_special_characters_func(str3))"
   ]
  },
  {
   "cell_type": "code",
   "execution_count": null,
   "id": "9949ec0d-2806-4bb2-b81e-d2132341538e",
   "metadata": {},
   "outputs": [],
   "source": []
  },
  {
   "cell_type": "markdown",
   "id": "0aa1b305-3ef0-45b0-b7ea-11e780b0bf96",
   "metadata": {},
   "source": [
    "### 48.Remove the nth word from a string."
   ]
  },
  {
   "cell_type": "code",
   "execution_count": 49,
   "id": "329d1463-4336-40b1-b740-6760e053d37b",
   "metadata": {},
   "outputs": [
    {
     "name": "stdout",
     "output_type": "stream",
     "text": [
      "Example String : This is an example of good person.\n",
      "Removed word from a string : an\n",
      "Modified string : This is example of good person.\n"
     ]
    }
   ],
   "source": [
    "def remove_nth_word(input_string, n):\n",
    "    word = input_string.split()\n",
    "\n",
    "    # Check if n is within a valid range\n",
    "    if n >= 1 and n <= len(word):\n",
    "        # Remove the nth word by excluding it from the words list\n",
    "        removed_word = word.pop(n - 1)\n",
    "\n",
    "        # Join the remaining words to form the modified string\n",
    "        modified_string = ' '.join(word)\n",
    "\n",
    "        return modified_string, removed_word\n",
    "    else:\n",
    "        return None, None\n",
    "\n",
    "# Example string and n value\n",
    "input_string = \"This is an example of good person.\"\n",
    "print(\"Example String :\",input_string)\n",
    "nth_value = 3\n",
    "\n",
    "# Remove the nth word\n",
    "modified_str, removed_word = remove_nth_word(input_string, nth_value)\n",
    "\n",
    "if modified_str is not None:\n",
    "    print(\"Removed word from a string :\", removed_word)\n",
    "    print(\"Modified string :\", modified_str)\n",
    "else:\n",
    "    print(\"Invalid n value.\")"
   ]
  },
  {
   "cell_type": "code",
   "execution_count": null,
   "id": "6d48fe83-25ad-424b-a7a3-0edd0da99152",
   "metadata": {},
   "outputs": [],
   "source": []
  },
  {
   "cell_type": "markdown",
   "id": "21d87e39-5a77-404c-b5d4-e2662a366232",
   "metadata": {},
   "source": [
    "### 49.Insert a word at the nth position in a string."
   ]
  },
  {
   "cell_type": "code",
   "execution_count": 60,
   "id": "ef2ef51c-4887-4ae5-9933-126bd35d4547",
   "metadata": {},
   "outputs": [
    {
     "name": "stdout",
     "output_type": "stream",
     "text": [
      "Example string : This is a boy.\n",
      "Add element in string at index '3rd' : good\n",
      "word in list : ['This', 'is', 'a', 'boy.']\n",
      "Insert word 'good' at the index '3rd' position in a string : This is a boy.\n"
     ]
    }
   ],
   "source": [
    "def insert_word_func(input_string, add_element, index):\n",
    "    word = list(input_string.split())\n",
    "    print(\"word in list :\",word)\n",
    "    lis = []\n",
    "    for st_idx in range(0, len(word), index):\n",
    "        lis.extend(word[st_idx:st_idx+index])\n",
    "        lis.append(add_element)\n",
    "        lis.pop()  \n",
    "        x=\" \".join(p for p in lis)\n",
    "    return x\n",
    "\n",
    "\n",
    "input_string = \"This is a boy.\"\n",
    "print(\"Example string :\",input_string)\n",
    "add_element = \"good\"\n",
    "index = 3\n",
    "print(f\"Add element in string at index '{index}rd' :\",add_element)\n",
    "\n",
    "function = insert_word_func (input_string,add_element,index)\n",
    "print(f\"Insert word '{add_element}' at the index '{index}rd' position in a string :\",function)\n"
   ]
  },
  {
   "cell_type": "code",
   "execution_count": null,
   "id": "6d90752d-2eed-46c9-a542-5258ecc7da17",
   "metadata": {},
   "outputs": [],
   "source": []
  },
  {
   "cell_type": "markdown",
   "id": "c17b6f75-9660-4720-be73-26ac97d8b0ca",
   "metadata": {},
   "source": [
    "### 50.Convert a CSV string to a list of lists."
   ]
  },
  {
   "cell_type": "code",
   "execution_count": 61,
   "id": "75952e08-9b27-4e3c-8929-42180b8fce55",
   "metadata": {},
   "outputs": [
    {
     "name": "stdout",
     "output_type": "stream",
     "text": [
      "CSV data string :  S.No. Name, Age, Country\n",
      " 1. Komal, 30, India\n",
      " 2. Sonali, 25, USA\n",
      " 3. Hilton, 22, Dubai\n",
      "Convert a CSV string to a list of lists\n",
      "[' S.No. Name', ' Age', ' Country']\n",
      "[' 1. Komal', ' 30', ' India']\n",
      "[' 2. Sonali', ' 25', ' USA']\n",
      "[' 3. Hilton', ' 22', ' Dubai']\n"
     ]
    }
   ],
   "source": [
    "def csv_string_to_list(csv_str):\n",
    "    # Split the CSV string into lines\n",
    "    lines = csv_str.split('\\n')\n",
    "    l = []\n",
    "    for line in lines:\n",
    "        # Split each line into fields using comma as the delimiter\n",
    "        field = line.split(',')\n",
    "        l.append(field)\n",
    "    return l\n",
    "\n",
    "csv_data = \" S.No. Name, Age, Country\\n 1. Komal, 30, India\\n 2. Sonali, 25, USA\\n 3. Hilton, 22, Dubai\"\n",
    "print(\"CSV data string :\",csv_data)\n",
    "print(\"Convert a CSV string to a list of lists\")\n",
    "# Convert CSV string to a list of lists\n",
    "list_of_lists = csv_string_to_list(csv_data)\n",
    "\n",
    "# Print the result\n",
    "for row in list_of_lists:\n",
    "    print(row)"
   ]
  },
  {
   "cell_type": "code",
   "execution_count": null,
   "id": "858e316e-081e-4948-b969-3370fcd8c9a2",
   "metadata": {},
   "outputs": [],
   "source": []
  },
  {
   "cell_type": "code",
   "execution_count": null,
   "id": "cbfce3f2-1cf5-480f-95ab-723218a3c53c",
   "metadata": {},
   "outputs": [],
   "source": []
  },
  {
   "cell_type": "markdown",
   "id": "43f200e1-0fda-45cc-8904-ffc18a383752",
   "metadata": {},
   "source": [
    "## **List Based Practice Problem :**\n",
    "---"
   ]
  },
  {
   "cell_type": "markdown",
   "id": "7ce9735f-1e7f-4f34-835f-67e47bfefbad",
   "metadata": {},
   "source": [
    "### 1.Create a list with integers from 1 to 10."
   ]
  },
  {
   "cell_type": "code",
   "execution_count": 62,
   "id": "2d4561de-5d3e-42bb-859b-2f185ce78f46",
   "metadata": {},
   "outputs": [
    {
     "name": "stdout",
     "output_type": "stream",
     "text": [
      "A list with integers from 1 to 10 : [1, 2, 3, 4, 5, 6, 7, 8, 9, 10]\n"
     ]
    }
   ],
   "source": [
    "integers = [i for i in range(1,11)]\n",
    "print(\"A list with integers from 1 to 10 :\",integers)"
   ]
  },
  {
   "cell_type": "code",
   "execution_count": null,
   "id": "5fafe030-8e98-46e1-a144-f625ed537eb7",
   "metadata": {},
   "outputs": [],
   "source": []
  },
  {
   "cell_type": "markdown",
   "id": "72b9a665-f709-4854-a4da-263aa6b015fc",
   "metadata": {},
   "source": [
    "### 2.Find the length of a list without using the 'len()' function."
   ]
  },
  {
   "cell_type": "code",
   "execution_count": 63,
   "id": "e1b7e87f-30e4-4c9d-97b2-3157899fe014",
   "metadata": {},
   "outputs": [
    {
     "name": "stdout",
     "output_type": "stream",
     "text": [
      "A list : [10, 20, 30, 'p', 40, 50, 60]\n",
      "length of a list without using the len() : 7\n"
     ]
    }
   ],
   "source": [
    "def list_len(input_list):\n",
    "    count = 0\n",
    "    for i in input_list:\n",
    "        count +=1\n",
    "    return count\n",
    "my_list = [10,20,30,\"p\",40,50,60]\n",
    "length = list_len(my_list)\n",
    "print(\"A list :\",my_list)\n",
    "print(\"length of a list without using the len() :\",length)"
   ]
  },
  {
   "cell_type": "code",
   "execution_count": null,
   "id": "592c6f4d-f01d-4885-a250-b2e71b9ac8b1",
   "metadata": {},
   "outputs": [],
   "source": []
  },
  {
   "cell_type": "markdown",
   "id": "088ebd24-7728-439b-a816-458d06da9a39",
   "metadata": {},
   "source": [
    "### 3.Append an element to the end of a list."
   ]
  },
  {
   "cell_type": "code",
   "execution_count": 64,
   "id": "59aa74cb-3dae-4aa5-b80f-9b43fff652a6",
   "metadata": {},
   "outputs": [
    {
     "name": "stdout",
     "output_type": "stream",
     "text": [
      "Example list : [10, 12, 15, 17, 22]\n",
      "New element : 25\n",
      "Append an element to the end of a list : [10, 12, 15, 17, 22, 25]\n"
     ]
    }
   ],
   "source": [
    "example_list = [10,12,15,17,22]\n",
    "new_element = 25\n",
    "print(\"Example list :\",example_list)\n",
    "print(\"New element :\",new_element)\n",
    "example_list.append(new_element)\n",
    "print(\"Append an element to the end of a list :\", example_list)"
   ]
  },
  {
   "cell_type": "code",
   "execution_count": null,
   "id": "cbd00673-ba05-44ee-bec8-fe6d49f50d5c",
   "metadata": {},
   "outputs": [],
   "source": []
  },
  {
   "cell_type": "markdown",
   "id": "123cb3ea-2792-4789-a6e2-dd654ffefa78",
   "metadata": {},
   "source": [
    "### 4.Insert an element at a specific index in a list."
   ]
  },
  {
   "cell_type": "code",
   "execution_count": 65,
   "id": "910f506a-1b98-45d6-be38-279915b1a158",
   "metadata": {},
   "outputs": [
    {
     "name": "stdout",
     "output_type": "stream",
     "text": [
      "Example list : [10, 15, 20, 30, 35, 40]\n",
      "New element : 25\n",
      "Insert an element at a index of : 3\n",
      "Insert an element at a specific index in a list : [10, 15, 20, 25, 30, 35, 40]\n"
     ]
    }
   ],
   "source": [
    "example_list = [10,15,20,30,35,40]\n",
    "new_element = 25\n",
    "index_to_insert = 3\n",
    "print(\"Example list :\",example_list)\n",
    "print(\"New element :\",new_element)\n",
    "print(\"Insert an element at a index of :\",index_to_insert)\n",
    "example_list.insert(index_to_insert,new_element)\n",
    "print(\"Insert an element at a specific index in a list :\",example_list)"
   ]
  },
  {
   "cell_type": "code",
   "execution_count": null,
   "id": "bd7e9ac3-2d0a-48f0-af57-6c0b14741545",
   "metadata": {},
   "outputs": [],
   "source": []
  },
  {
   "cell_type": "markdown",
   "id": "9b602e6d-80f0-4b01-a06b-836fc2465209",
   "metadata": {},
   "source": [
    "### 5.Remove an element from a list by its value."
   ]
  },
  {
   "cell_type": "code",
   "execution_count": 66,
   "id": "1721cddd-95f6-450b-84f6-a7ae6e2a9bf5",
   "metadata": {},
   "outputs": [
    {
     "name": "stdout",
     "output_type": "stream",
     "text": [
      "Example list : [1, 2, 3, 4, 5, 6, 7]\n",
      "Remove an element in a list : 4\n",
      "Remove an element from a list by its value : [1, 2, 3, 5, 6, 7]\n"
     ]
    }
   ],
   "source": [
    "example_list = [1,2,3,4,5,6,7]\n",
    "remove_element = 4\n",
    "print(\"Example list :\",example_list)\n",
    "print(\"Remove an element in a list :\",remove_element)\n",
    "example_list.remove(remove_element)\n",
    "print(\"Remove an element from a list by its value :\",example_list)"
   ]
  },
  {
   "cell_type": "code",
   "execution_count": null,
   "id": "04723a1b-6910-47a7-affb-987ff51538e8",
   "metadata": {},
   "outputs": [],
   "source": []
  },
  {
   "cell_type": "markdown",
   "id": "daa5f6f6-3ae1-4ade-ab4b-c893b751d914",
   "metadata": {},
   "source": [
    "### 6.Remove an element from a list by its index."
   ]
  },
  {
   "cell_type": "code",
   "execution_count": 67,
   "id": "98b6766d-f44f-48e6-a939-cd7921ab3308",
   "metadata": {},
   "outputs": [
    {
     "name": "stdout",
     "output_type": "stream",
     "text": [
      "Example list : [22, 35, 56, 78, 99, 100]\n",
      "Remove an element from index : 2\n",
      "Remove an element from a list by its index : [22, 35, 78, 99, 100]\n",
      "Remove element : 56\n"
     ]
    }
   ],
   "source": [
    "example_list = [22,35,56,78,99,100]\n",
    "remove_from_index = 2\n",
    "print(\"Example list :\",example_list)\n",
    "print(\"Remove an element from index :\",remove_from_index)\n",
    "remove_element = example_list.pop(remove_from_index)\n",
    "print(\"Remove an element from a list by its index :\",example_list)\n",
    "print(\"Remove element :\",remove_element)"
   ]
  },
  {
   "cell_type": "code",
   "execution_count": null,
   "id": "99879af6-303a-4a74-84e0-d1cc595a1d8d",
   "metadata": {},
   "outputs": [],
   "source": []
  },
  {
   "cell_type": "markdown",
   "id": "0aa26c8e-83b5-43a2-ab65-c52b7b30c3c8",
   "metadata": {},
   "source": [
    "### 7.Check if an element exists in a list."
   ]
  },
  {
   "cell_type": "code",
   "execution_count": 68,
   "id": "5e72f888-5d65-4f74-a04c-d98ff25e82f9",
   "metadata": {},
   "outputs": [
    {
     "name": "stdout",
     "output_type": "stream",
     "text": [
      "Example list : [10, 11, 12, 13, 14, 15, 16]\n",
      "Check if an element exist in a list : 14\n",
      "Yes, element exists in a list  in 14\n"
     ]
    }
   ],
   "source": [
    "example_list = [10,11,12,13,14,15,16]\n",
    "element_exist = 14\n",
    "print(\"Example list :\",example_list)\n",
    "print(\"Check if an element exist in a list :\",element_exist)\n",
    "if element_exist in example_list:\n",
    "    print(f\"Yes, element exists in a list  in {element_exist}\")\n",
    "else :\n",
    "    print(f\"No, element is not exist in a list in {element_exist}\")"
   ]
  },
  {
   "cell_type": "code",
   "execution_count": null,
   "id": "1d62e3c5-6b56-47ac-9ba7-e4537be9e0e5",
   "metadata": {},
   "outputs": [],
   "source": []
  },
  {
   "cell_type": "markdown",
   "id": "8f2a0378-21f0-42b8-9f65-72084e6110ee",
   "metadata": {},
   "source": [
    "### 8.Find the index of the first occurrence of an element in a list."
   ]
  },
  {
   "cell_type": "code",
   "execution_count": 69,
   "id": "2149461d-6fb1-45ae-b636-32dd39e84fb0",
   "metadata": {},
   "outputs": [
    {
     "name": "stdout",
     "output_type": "stream",
     "text": [
      "Example list : [2, 3, 4, 5, 6]\n",
      "First occurrence of an element in a list : 4\n",
      "The index of the first occurence 4 of an element in a list is 2 \n"
     ]
    }
   ],
   "source": [
    "example_list = [2,3,4,5,6]\n",
    "first_occur = 4\n",
    "print(\"Example list :\",example_list)\n",
    "print(\"First occurrence of an element in a list :\",first_occur)\n",
    "list_index = example_list.index(first_occur)\n",
    "print(f\"The index of the first occurence {first_occur} of an element in a list is {list_index} \")"
   ]
  },
  {
   "cell_type": "code",
   "execution_count": null,
   "id": "5772ef9b-cb69-420b-825d-7e408ba97b13",
   "metadata": {},
   "outputs": [],
   "source": []
  },
  {
   "cell_type": "markdown",
   "id": "c4b48f10-0324-46de-a721-255835861ed0",
   "metadata": {},
   "source": [
    "### 9.Count the occurrences of an element in a list."
   ]
  },
  {
   "cell_type": "code",
   "execution_count": 70,
   "id": "2d1d9a55-0f16-48b2-bf2b-38750513fd23",
   "metadata": {},
   "outputs": [
    {
     "name": "stdout",
     "output_type": "stream",
     "text": [
      "Example list : [1, 3, 3, 2, 3, 4, 5, 3]\n",
      "Count the occurence 3 of an element in a list is 4 times \n"
     ]
    }
   ],
   "source": [
    "example_list = [1,3,3,2,3,4,5,3]\n",
    "count_occur = 3\n",
    "print(\"Example list :\",example_list)\n",
    "count_element = example_list.count(count_occur)\n",
    "print(f\"Count the occurence {count_occur} of an element in a list is {count_element} times \") "
   ]
  },
  {
   "cell_type": "code",
   "execution_count": null,
   "id": "a5fe9a80-159a-432f-826d-8c6fea0e73f2",
   "metadata": {},
   "outputs": [],
   "source": []
  },
  {
   "cell_type": "markdown",
   "id": "ba65d570-6116-46b1-8a71-334de14f6e63",
   "metadata": {},
   "source": [
    "### 10.Reverse the order of elements in a list."
   ]
  },
  {
   "cell_type": "code",
   "execution_count": 71,
   "id": "97027be8-1519-44f6-b95f-82f1c5153bcb",
   "metadata": {},
   "outputs": [
    {
     "name": "stdout",
     "output_type": "stream",
     "text": [
      "Example list : ['important', 'is', 'skills']\n",
      "Reverse the order of elements in a list : ['skills', 'is', 'important']\n"
     ]
    }
   ],
   "source": [
    "input_string = [\"important\",\"is\",\"skills\"]\n",
    "reverse_order = input_string[::-1]\n",
    "print(\"Example list :\",input_string)\n",
    "print(\"Reverse the order of elements in a list :\",reverse_order)"
   ]
  },
  {
   "cell_type": "code",
   "execution_count": null,
   "id": "167d2e71-e055-4c4f-9e29-0260a7c6e9b7",
   "metadata": {},
   "outputs": [],
   "source": []
  },
  {
   "cell_type": "markdown",
   "id": "79490ebd-34ca-4430-8127-9f7de1146de7",
   "metadata": {},
   "source": [
    "### 11.Sort a list in ascending order."
   ]
  },
  {
   "cell_type": "code",
   "execution_count": 72,
   "id": "50297497-dccc-4cdb-b7b0-a560f88a9dbd",
   "metadata": {},
   "outputs": [
    {
     "name": "stdout",
     "output_type": "stream",
     "text": [
      "Example list : [31, 23, 56, 78, 21, 70]\n",
      "sort a list in ascending order is  [21, 23, 31, 56, 70, 78]\n"
     ]
    }
   ],
   "source": [
    "example_list = [31,23,56,78,21,70]\n",
    "print(\"Example list :\",example_list)\n",
    "example_list.sort()\n",
    "print(\"sort a list in ascending order is \",example_list)"
   ]
  },
  {
   "cell_type": "code",
   "execution_count": null,
   "id": "fdd3b786-2b79-4b90-bb38-81921554122e",
   "metadata": {},
   "outputs": [],
   "source": []
  },
  {
   "cell_type": "markdown",
   "id": "712edda3-6c74-45d4-8771-5013ed617e5c",
   "metadata": {},
   "source": [
    "### 12.Sort a list in descending order."
   ]
  },
  {
   "cell_type": "code",
   "execution_count": 73,
   "id": "663110b1-b380-4b4b-b376-a8d397b51bb8",
   "metadata": {},
   "outputs": [
    {
     "name": "stdout",
     "output_type": "stream",
     "text": [
      "sort a list in descending order is  [89, 67, 45, 23, 11]\n"
     ]
    }
   ],
   "source": [
    "example_list = [89,23,11,45,67]\n",
    "example_list.sort(reverse = True)\n",
    "print(\"sort a list in descending order is \", example_list)"
   ]
  },
  {
   "cell_type": "code",
   "execution_count": null,
   "id": "4bcb0683-ce18-4895-8e9f-46137edfab5e",
   "metadata": {},
   "outputs": [],
   "source": []
  },
  {
   "cell_type": "markdown",
   "id": "33679d23-22e5-44b8-a1a2-ae06b0975bd4",
   "metadata": {},
   "source": [
    "### 13.Create a list of even numbers from 1 to 20."
   ]
  },
  {
   "cell_type": "code",
   "execution_count": 74,
   "id": "f5057e0e-e5ca-47bc-abc7-48ce618d08cf",
   "metadata": {},
   "outputs": [
    {
     "name": "stdout",
     "output_type": "stream",
     "text": [
      "A list of even numbers from 1 to 20 : [2, 4, 6, 8, 10, 12, 14, 16, 18, 20]\n"
     ]
    }
   ],
   "source": [
    "even_numbers = [i for i in range(1,21) if i%2 == 0]\n",
    "print(\"A list of even numbers from 1 to 20 :\",even_numbers)"
   ]
  },
  {
   "cell_type": "code",
   "execution_count": null,
   "id": "fbd6215a-efbf-4ec2-a95d-35df9a8b1fd5",
   "metadata": {},
   "outputs": [],
   "source": []
  },
  {
   "cell_type": "markdown",
   "id": "834e244a-f781-4335-8554-57bc02da85d2",
   "metadata": {},
   "source": [
    "### 14.Create a list of odd numbers from 1 to 20."
   ]
  },
  {
   "cell_type": "code",
   "execution_count": 75,
   "id": "0bb370d1-7ab2-43d8-a9e0-81681d5340d2",
   "metadata": {},
   "outputs": [
    {
     "name": "stdout",
     "output_type": "stream",
     "text": [
      "A list of odd numbers from 1 to 20 : [1, 3, 5, 7, 9, 11, 13, 15, 17, 19]\n"
     ]
    }
   ],
   "source": [
    "odd_numbers = [i for i in range(1,21) if i%2 !=0]\n",
    "print(\"A list of odd numbers from 1 to 20 :\",odd_numbers)"
   ]
  },
  {
   "cell_type": "markdown",
   "id": "3d62dbf3-0dbc-4262-8dd5-74fd29caba5f",
   "metadata": {},
   "source": [
    "### 15.Find the sum of all elements in a list."
   ]
  },
  {
   "cell_type": "code",
   "execution_count": 76,
   "id": "118f2ed4-ddfb-4431-8f81-cb146ef10870",
   "metadata": {},
   "outputs": [
    {
     "name": "stdout",
     "output_type": "stream",
     "text": [
      "Example list : [10, 20, 30, 40]\n",
      "The sum of all elements in a list is  100\n"
     ]
    }
   ],
   "source": [
    "example_list = [10,20,30,40]\n",
    "print(\"Example list :\",example_list)\n",
    "sum_all = sum(example_list)\n",
    "print(\"The sum of all elements in a list is \",sum_all)"
   ]
  },
  {
   "cell_type": "code",
   "execution_count": null,
   "id": "c9da219c-a491-4ec9-b769-f61f1956de8e",
   "metadata": {},
   "outputs": [],
   "source": []
  },
  {
   "cell_type": "markdown",
   "id": "c41721c1-9c31-4388-92fd-3a71f79a3c8d",
   "metadata": {},
   "source": [
    "### 16.Find the maximum value in a list."
   ]
  },
  {
   "cell_type": "code",
   "execution_count": 77,
   "id": "33464b23-f003-46ab-8948-a93ab46007f9",
   "metadata": {},
   "outputs": [
    {
     "name": "stdout",
     "output_type": "stream",
     "text": [
      "Example list : [10, 23, 11, 56, 99, 2222]\n",
      "The maximum value in a list is  2222\n"
     ]
    }
   ],
   "source": [
    "example_list = [10,23,11,56,99,2222]\n",
    "print(\"Example list :\",example_list)\n",
    "max_value = max(example_list)\n",
    "print(\"The maximum value in a list is \",max_value)"
   ]
  },
  {
   "cell_type": "code",
   "execution_count": null,
   "id": "d1f5f5cf-5f01-4cc5-a33e-c524579b764b",
   "metadata": {},
   "outputs": [],
   "source": []
  },
  {
   "cell_type": "markdown",
   "id": "658cb570-5b9b-4be6-94d5-2c8ea427354a",
   "metadata": {},
   "source": [
    "### 17.Find the minimum value in a list."
   ]
  },
  {
   "cell_type": "code",
   "execution_count": 78,
   "id": "86b586d5-98ae-49c5-a569-3c5000726620",
   "metadata": {},
   "outputs": [
    {
     "name": "stdout",
     "output_type": "stream",
     "text": [
      "Example list : [101, 23, 1, 5, 34, 0]\n",
      "The minimum value in a list is  0\n"
     ]
    }
   ],
   "source": [
    "example_list = [101,23,1,5,34,0]\n",
    "print(\"Example list :\",example_list)\n",
    "min_value = min(example_list)\n",
    "print(\"The minimum value in a list is \",min_value)"
   ]
  },
  {
   "cell_type": "code",
   "execution_count": null,
   "id": "dfc29b8b-ae2a-4fce-ba63-4d8d4c150480",
   "metadata": {},
   "outputs": [],
   "source": []
  },
  {
   "cell_type": "markdown",
   "id": "8243749d-15de-43d7-8b6a-bdcc85acad3d",
   "metadata": {},
   "source": [
    "### 18.Create a list of squares of numbers from 1 to 10."
   ]
  },
  {
   "cell_type": "code",
   "execution_count": 79,
   "id": "33e1167e-a0fc-4157-ad24-eb00e55235ee",
   "metadata": {},
   "outputs": [
    {
     "name": "stdout",
     "output_type": "stream",
     "text": [
      "A list of numbers of 1 to 10 : [1, 2, 3, 4, 5, 6, 7, 8, 9, 10]\n",
      "A list of of squares of numbers of 1 to 10 : [1, 4, 9, 16, 25, 36, 49, 64, 81, 100]\n"
     ]
    }
   ],
   "source": [
    "square = [i **2 for i in range(1,11)]\n",
    "print(\"A list of numbers of 1 to 10 :\",list(range(1,11)))\n",
    "print(\"A list of of squares of numbers of 1 to 10 :\",square)"
   ]
  },
  {
   "cell_type": "code",
   "execution_count": null,
   "id": "5d0aa642-6cb2-42af-b02b-3e5b54aeddc9",
   "metadata": {},
   "outputs": [],
   "source": []
  },
  {
   "cell_type": "markdown",
   "id": "5d587746-eb16-4e13-84f1-47f4e596e000",
   "metadata": {},
   "source": [
    "### 19.Create a list of random numbers."
   ]
  },
  {
   "cell_type": "code",
   "execution_count": 80,
   "id": "d8a2af34-7c69-41c3-9197-706b87749612",
   "metadata": {},
   "outputs": [
    {
     "name": "stdout",
     "output_type": "stream",
     "text": [
      "A list of random numbers  : [199, 551, 165, 87, 54, 339, 380, 539, 185, 396, 442, 608, 369, 475, 659, 278, 570, 509, 126, 881]\n"
     ]
    }
   ],
   "source": [
    "import random\n",
    "\n",
    "random_list = [random.randint(1,1000) for _ in range(20)]\n",
    "print(\"A list of random numbers  :\",random_list)"
   ]
  },
  {
   "cell_type": "code",
   "execution_count": null,
   "id": "b114f8c7-aceb-4a1c-840d-cf5f0d02776b",
   "metadata": {},
   "outputs": [],
   "source": []
  },
  {
   "cell_type": "markdown",
   "id": "2464cd32-834a-4740-8fd3-c8834d3432fa",
   "metadata": {},
   "source": [
    "### 20.Remove duplicates from a list."
   ]
  },
  {
   "cell_type": "code",
   "execution_count": 81,
   "id": "e3386f0a-f526-45fc-ba86-d23efc92940d",
   "metadata": {},
   "outputs": [
    {
     "name": "stdout",
     "output_type": "stream",
     "text": [
      "Example list : [12, 23, 45, 45, 89, 90, 76, 89]\n",
      "Remove duplicates from a list : [12, 45, 76, 23, 89, 90]\n"
     ]
    }
   ],
   "source": [
    "example_list = [12,23,45,45,89,90,76,89]\n",
    "print(\"Example list :\",example_list)\n",
    "remove_dup = list(set(example_list))\n",
    "print(\"Remove duplicates from a list :\",remove_dup)"
   ]
  },
  {
   "cell_type": "code",
   "execution_count": null,
   "id": "a8a7e77c-63c2-4c4d-9b58-cdfd004b6c29",
   "metadata": {},
   "outputs": [],
   "source": []
  },
  {
   "cell_type": "markdown",
   "id": "04027a17-a59f-4f57-91f9-5a468ee091da",
   "metadata": {},
   "source": [
    "### 21.Find the common elements between two lists."
   ]
  },
  {
   "cell_type": "code",
   "execution_count": 83,
   "id": "8ac83330-cb92-4786-84ab-fbeddf31dbac",
   "metadata": {},
   "outputs": [
    {
     "name": "stdout",
     "output_type": "stream",
     "text": [
      "List 1 : [1, 2, 3, 4, 5]\n",
      "List 2 : [2, 4, 5, 6, 7]\n",
      "The common elements between two lists : [2, 4, 5]\n"
     ]
    }
   ],
   "source": [
    "l1 = [1,2,3,4,5]\n",
    "l2 = [2,4,5,6,7]\n",
    "print(\"List 1 :\",l1)\n",
    "print(\"List 2 :\",l2)\n",
    "l3 = []\n",
    "for common_element in l1:\n",
    "    if common_element in l2:\n",
    "        l3.append(common_element)\n",
    "print(\"The common elements between two lists :\",l3)"
   ]
  },
  {
   "cell_type": "code",
   "execution_count": null,
   "id": "a5acb014-6c63-41e7-97d5-0e997f68262d",
   "metadata": {},
   "outputs": [],
   "source": []
  },
  {
   "cell_type": "markdown",
   "id": "9ddd92c3-632c-4689-9bbe-d03ac65ee19a",
   "metadata": {},
   "source": [
    "### 22.Find the difference between two lists."
   ]
  },
  {
   "cell_type": "code",
   "execution_count": 84,
   "id": "2390711a-2d13-48ff-bdd5-b40e84064818",
   "metadata": {},
   "outputs": [
    {
     "name": "stdout",
     "output_type": "stream",
     "text": [
      "List 1 : [11, 22, 33, 44, 55]\n",
      "List 2 : [66, 77, 33, 88, 11, 22]\n",
      "The difference between two lists : [55, 44]\n"
     ]
    }
   ],
   "source": [
    "l1 = [11,22,33,44,55]\n",
    "print(\"List 1 :\",l1)\n",
    "l2 = [66,77,33,88,11,22]\n",
    "print(\"List 2 :\",l2)\n",
    "difference_list = list(set(l1).difference(l2))\n",
    "print(\"The difference between two lists :\",difference_list)"
   ]
  },
  {
   "cell_type": "code",
   "execution_count": null,
   "id": "6d11a521-9817-4ab1-b6fe-7417ea9a3259",
   "metadata": {},
   "outputs": [],
   "source": []
  },
  {
   "cell_type": "markdown",
   "id": "1c851749-d619-4663-9949-f9b3bd22b654",
   "metadata": {},
   "source": [
    "### 23.Merge two lists."
   ]
  },
  {
   "cell_type": "code",
   "execution_count": 85,
   "id": "84c02eb1-24a9-47d2-a938-81f92b947d6a",
   "metadata": {},
   "outputs": [
    {
     "name": "stdout",
     "output_type": "stream",
     "text": [
      "List 1 : [10, 11, 14, 15]\n",
      "List 2 : [12, 13, 16]\n",
      "Merge two lists  [10, 11, 14, 15, 12, 13, 16]\n"
     ]
    }
   ],
   "source": [
    "l1 = [10,11,14,15]\n",
    "l2 = [12,13,16]\n",
    "print(\"List 1 :\",l1)\n",
    "print(\"List 2 :\",l2)\n",
    "l3 = l1 + l2\n",
    "print(\"Merge two lists \",l3)"
   ]
  },
  {
   "cell_type": "code",
   "execution_count": null,
   "id": "b8274cbc-1421-4bc3-ac3a-111309e7ed6e",
   "metadata": {},
   "outputs": [],
   "source": []
  },
  {
   "cell_type": "markdown",
   "id": "f246a1fb-9281-4061-bc4e-b86d18fd1737",
   "metadata": {},
   "source": [
    "### 24.Multiply all elements in a list by 2."
   ]
  },
  {
   "cell_type": "code",
   "execution_count": 86,
   "id": "072962bf-47f3-43ef-9505-f47e4e86c61b",
   "metadata": {},
   "outputs": [
    {
     "name": "stdout",
     "output_type": "stream",
     "text": [
      "Example list : [4, 5, 6, 7, 8]\n",
      "Multipy all element in a list by 2 : [8, 10, 12, 14, 16]\n"
     ]
    }
   ],
   "source": [
    "example_list = [4,5,6,7,8]\n",
    "print(\"Example list :\",example_list)\n",
    "l =[]\n",
    "for i in example_list:\n",
    "    i =i*2\n",
    "    l.append(i)\n",
    "print(\"Multipy all element in a list by 2 :\",l)"
   ]
  },
  {
   "cell_type": "code",
   "execution_count": null,
   "id": "db6da1c3-ea14-4eb1-9ab7-872382b10b39",
   "metadata": {},
   "outputs": [],
   "source": []
  },
  {
   "cell_type": "markdown",
   "id": "0c913ff3-bc03-40ee-9284-d2e5e86fc33c",
   "metadata": {},
   "source": [
    "### 25.Filter out all even numbers from a list."
   ]
  },
  {
   "cell_type": "code",
   "execution_count": 87,
   "id": "3dcd7a96-56e2-4d51-a2e6-9fea0d19ff29",
   "metadata": {},
   "outputs": [
    {
     "name": "stdout",
     "output_type": "stream",
     "text": [
      "Example list : [11, 20, 24, 43, 67, 80]\n",
      "Filter out all even numbers from a list that is odd numbers : [11, 43, 67]\n"
     ]
    }
   ],
   "source": [
    "example_list = [11,20,24,43,67,80]\n",
    "print(\"Example list :\",example_list)\n",
    "odd_list = []\n",
    "for i in example_list:\n",
    "    if i%2 != 0:\n",
    "        odd_list.append(i)\n",
    "print(\"Filter out all even numbers from a list that is odd numbers :\",odd_list)"
   ]
  },
  {
   "cell_type": "code",
   "execution_count": null,
   "id": "c516278b-45b4-4369-b82d-71619bee0f58",
   "metadata": {},
   "outputs": [],
   "source": []
  },
  {
   "cell_type": "markdown",
   "id": "f17caf27-4696-4f3f-9f89-a49e2afc28e8",
   "metadata": {},
   "source": [
    "### 26.Convert a list of strings to a list of integers."
   ]
  },
  {
   "cell_type": "code",
   "execution_count": 88,
   "id": "9cbb728c-bdd9-4dee-b52c-ebb78eb48f02",
   "metadata": {},
   "outputs": [
    {
     "name": "stdout",
     "output_type": "stream",
     "text": [
      "Example of list of strings : ['12', '13', '14', '15', '16']\n",
      "Convert a list of strings to a list of integers : [12, 13, 14, 15, 16]\n"
     ]
    }
   ],
   "source": [
    "example_list = [\"12\",\"13\",\"14\",\"15\",\"16\"]\n",
    "print(\"Example of list of strings :\",example_list)\n",
    "integer = []\n",
    "for i in example_list:\n",
    "    convert_int= int(i)\n",
    "    integer.append(convert_int)\n",
    "print(\"Convert a list of strings to a list of integers :\",integer)"
   ]
  },
  {
   "cell_type": "code",
   "execution_count": null,
   "id": "c0ef9fce-b726-4a45-a1c5-7f13fd739b82",
   "metadata": {},
   "outputs": [],
   "source": []
  },
  {
   "cell_type": "markdown",
   "id": "85f2f383-d445-438b-8b1e-3f7544a79574",
   "metadata": {},
   "source": [
    "### 27.Convert a list of integers to a list of strings."
   ]
  },
  {
   "cell_type": "code",
   "execution_count": 1,
   "id": "44d28dcb-bda3-4d87-9dd9-9ec096df8726",
   "metadata": {},
   "outputs": [
    {
     "name": "stdout",
     "output_type": "stream",
     "text": [
      "Example a List of integers : [1, 2, 3, 4, 5]\n",
      "Convert a list of integers to a list of strings : ['1', '2', '3', '4', '5']\n"
     ]
    }
   ],
   "source": [
    "example_list = [1,2,3,4,5]\n",
    "print(\"Example a List of integers :\",example_list)\n",
    "string = []\n",
    "for p in example_list:\n",
    "    convert_string = str(p)\n",
    "    string.append(convert_string)\n",
    "print(\"Convert a list of integers to a list of strings :\",string)"
   ]
  },
  {
   "cell_type": "code",
   "execution_count": null,
   "id": "75eedc8b-7b99-489f-b7fe-d581851e2f30",
   "metadata": {},
   "outputs": [],
   "source": []
  },
  {
   "cell_type": "markdown",
   "id": "92502f50-f74a-4526-9c72-b4823eaced05",
   "metadata": {},
   "source": [
    "### 28.Flatten a nested list."
   ]
  },
  {
   "cell_type": "code",
   "execution_count": 99,
   "id": "cd1fe94e-e928-4732-a8ed-4e9a7ccf4efb",
   "metadata": {},
   "outputs": [
    {
     "name": "stdout",
     "output_type": "stream",
     "text": [
      "Example a nested list : [12, 3, [1, 2], [3, 4]]\n",
      "Flatten a nested list :\n"
     ]
    },
    {
     "data": {
      "text/plain": [
       "[12, 3, 1, 2, 3, 4]"
      ]
     },
     "execution_count": 99,
     "metadata": {},
     "output_type": "execute_result"
    }
   ],
   "source": [
    "l = [12,3,[1,2],[3,4]]\n",
    "print(\"Example a nested list :\",l)\n",
    "print(\"Flatten a nested list :\")\n",
    "[j for i in l for j in (i if type(i)== list else [i])]"
   ]
  },
  {
   "cell_type": "code",
   "execution_count": null,
   "id": "b445d1db-de9e-4baa-8657-0ba05b121068",
   "metadata": {},
   "outputs": [],
   "source": []
  },
  {
   "cell_type": "markdown",
   "id": "2d151fe1-789f-402d-93e9-2b2120c93f2f",
   "metadata": {},
   "source": [
    "### 29.Create a list of the first 10 Fibonacci numbers."
   ]
  },
  {
   "cell_type": "code",
   "execution_count": 100,
   "id": "b1e66d91-eea5-49b0-be84-7b5af365ed08",
   "metadata": {},
   "outputs": [
    {
     "name": "stdout",
     "output_type": "stream",
     "text": [
      "Create a list of first 10 Fibonacci numbers : [0, 1, 1, 2, 3, 5, 8, 13, 21, 34, 55]\n"
     ]
    }
   ],
   "source": [
    "def fibonacci_nums_func(n):\n",
    "    if n <= 0:\n",
    "        return [0]\n",
    "    sequence = [0, 1]\n",
    "    while len(sequence) <= n:\n",
    "        next_value = sequence[len(sequence) - 1] + sequence[len(sequence) - 2]\n",
    "        sequence.append(next_value)\n",
    "    return sequence\n",
    "\n",
    "print(\"Create a list of first 10 Fibonacci numbers :\" ,fibonacci_nums_func(10))\n"
   ]
  },
  {
   "cell_type": "code",
   "execution_count": null,
   "id": "12763ea1-9ad0-4116-8ca9-41268dff79c5",
   "metadata": {},
   "outputs": [],
   "source": []
  },
  {
   "cell_type": "markdown",
   "id": "33f1fcc7-f277-4133-99db-cf88558a6877",
   "metadata": {},
   "source": [
    "### 30.Check if a list is sorted."
   ]
  },
  {
   "cell_type": "code",
   "execution_count": 101,
   "id": "b8a5189a-a664-4853-bf3e-841b1d21d268",
   "metadata": {},
   "outputs": [
    {
     "name": "stdout",
     "output_type": "stream",
     "text": [
      "Example of Ascending list : [3, 4, 5, 6, 7]\n",
      "The list is sorted in ascending order.\n"
     ]
    }
   ],
   "source": [
    "# Function to check if a list is sorted in ascending order\n",
    "def is_sorted_ascending(lst):\n",
    "    for i in range(1, len(lst)):\n",
    "        if lst[i] < lst[i - 1]:\n",
    "            return False\n",
    "    return True\n",
    "\n",
    "\n",
    "ascending_list = [3,4,5,6,7]\n",
    "print(\"Example of Ascending list :\",ascending_list)\n",
    "\n",
    "# Check if the list is sorted in ascending order\n",
    "if is_sorted_ascending(ascending_list):\n",
    "    print(\"The list is sorted in ascending order.\")\n",
    "else:\n",
    "    print(\"The list is not sorted in ascending order.\")"
   ]
  },
  {
   "cell_type": "code",
   "execution_count": null,
   "id": "55528d53-6513-493d-9523-90a4c4836439",
   "metadata": {},
   "outputs": [],
   "source": []
  },
  {
   "cell_type": "markdown",
   "id": "75282cf3-01d2-406b-a807-274be6efe238",
   "metadata": {},
   "source": [
    "### 31.Rotate a list to the left by 'n' positions."
   ]
  },
  {
   "cell_type": "code",
   "execution_count": 102,
   "id": "bfa45840-5faa-47d5-ad86-d9ecd3fcb73f",
   "metadata": {},
   "outputs": [
    {
     "name": "stdout",
     "output_type": "stream",
     "text": [
      "orginal list : [10, 20, 30, 40, 50]\n",
      "Rotate a list to the left by 2 position is [30, 40, 50, 10, 20] \n"
     ]
    }
   ],
   "source": [
    "def rotate_fun(l,n):\n",
    "    return list((l[n:])) + l[:n]\n",
    "\n",
    "example_list = [10,20,30,40,50]\n",
    "print(\"orginal list :\",example_list)\n",
    "\n",
    "rotated_list = rotate_fun(example_list,2)\n",
    "print(f\"Rotate a list to the left by 2 position is {rotated_list} \")"
   ]
  },
  {
   "cell_type": "code",
   "execution_count": null,
   "id": "c9839071-90d8-45ba-8cf4-157e93ddbd47",
   "metadata": {},
   "outputs": [],
   "source": []
  },
  {
   "cell_type": "markdown",
   "id": "094fbd7a-4a3f-4e36-8af4-63d6c07d118c",
   "metadata": {},
   "source": [
    "### 32.Rotate a list to the right by 'n' positions."
   ]
  },
  {
   "cell_type": "code",
   "execution_count": 103,
   "id": "a2bf8299-5d2b-487d-9c39-27c8296bbdc0",
   "metadata": {},
   "outputs": [
    {
     "name": "stdout",
     "output_type": "stream",
     "text": [
      "original list : [11, 22, 33, 44, 55, 66]\n",
      "Rotate a list to the right by 3 position is [44, 55, 66, 11, 22, 33] \n"
     ]
    }
   ],
   "source": [
    "def rotate_fun(l,n):\n",
    "    return list((l[-n:])) + l[:-n]\n",
    "\n",
    "example_list = [11,22,33,44,55,66]\n",
    "print(\"original list :\",example_list)\n",
    "\n",
    "rotated_right = rotate_fun(example_list,3)\n",
    "print(f\"Rotate a list to the right by 3 position is {rotated_right} \")"
   ]
  },
  {
   "cell_type": "code",
   "execution_count": null,
   "id": "daee1cdf-5199-40e3-982b-7c49e97d88f0",
   "metadata": {},
   "outputs": [],
   "source": []
  },
  {
   "cell_type": "markdown",
   "id": "75ab4a96-c49b-4239-8ace-0d16d3fddf18",
   "metadata": {},
   "source": [
    "### 33.Create a list of prime numbers up to 50. "
   ]
  },
  {
   "cell_type": "code",
   "execution_count": 105,
   "id": "77048df8-ec1a-4807-b3a4-593259fc33f1",
   "metadata": {},
   "outputs": [
    {
     "name": "stdout",
     "output_type": "stream",
     "text": [
      "Create a list of prime numbers up to 50 : [2, 3, 5, 7, 11, 13, 17, 19, 23, 29, 31, 37, 41, 43, 47]\n"
     ]
    }
   ],
   "source": [
    "# Function to check if a number is prime\n",
    "def is_prime_func(num):\n",
    "    if num <= 1:\n",
    "        return False\n",
    "    for i in range(2, int(num ** 0.5) + 1):\n",
    "        if num % i == 0:\n",
    "            return False\n",
    "    return True\n",
    "\n",
    "# Generate the first 50 prime numbers\n",
    "prime_numbers_list = [num for num in range(2,50) if is_prime_func(num)]\n",
    "\n",
    "# Print the tuple of prime numbers\n",
    "print(\"Create a list of prime numbers up to 50 :\", prime_numbers_list)"
   ]
  },
  {
   "cell_type": "code",
   "execution_count": null,
   "id": "64a4f1ed-0caf-4c0f-b73f-6eef9329c834",
   "metadata": {},
   "outputs": [],
   "source": []
  },
  {
   "cell_type": "markdown",
   "id": "e43481a2-d16a-4f39-9cfb-837a7ca9ce81",
   "metadata": {},
   "source": [
    "### 34.Split a list into chunks of size 'n'."
   ]
  },
  {
   "cell_type": "code",
   "execution_count": 106,
   "id": "8e5d9b2a-2d32-4f81-8601-02ce4ef63578",
   "metadata": {},
   "outputs": [
    {
     "name": "stdout",
     "output_type": "stream",
     "text": [
      "Example list : [1, 2, 3, 4, 5, 6, 7, 8, 9]\n",
      "Split a list into chunk of size '3' : [1, 2, 3]\n",
      "Split a list into chunk of size '3' : [4, 5, 6]\n",
      "Split a list into chunk of size '3' : [7, 8, 9]\n"
     ]
    }
   ],
   "source": [
    "example_list = [1,2,3,4,5,6,7,8,9]\n",
    "print(\"Example list :\",example_list)\n",
    "n = 3 \n",
    "start = 0\n",
    "end = len(example_list)\n",
    "step = 3\n",
    "for i in range(start,end,step) :\n",
    "    x = i\n",
    "    print(f\"Split a list into chunk of size '{n}' :\",example_list[x:x+step])"
   ]
  },
  {
   "cell_type": "code",
   "execution_count": null,
   "id": "ce292482-b29b-4a02-982a-b289bdead939",
   "metadata": {},
   "outputs": [],
   "source": []
  },
  {
   "cell_type": "markdown",
   "id": "975d9a33-3dbb-41df-913c-1cfa957f19de",
   "metadata": {},
   "source": [
    "### 35.Find the second largest number in a list."
   ]
  },
  {
   "cell_type": "code",
   "execution_count": 107,
   "id": "1409be4a-e408-4668-8809-a0c7872b5651",
   "metadata": {},
   "outputs": [
    {
     "name": "stdout",
     "output_type": "stream",
     "text": [
      "Example list : [10, 34, 22, 67, 78, 89, 56]\n",
      "The second largest number in a list : 78\n"
     ]
    }
   ],
   "source": [
    "example_list = [10,34,22,67,78,89,56]\n",
    "print(\"Example list :\",example_list)\n",
    "sort_list = list(sorted(example_list))\n",
    "print(\"The second largest number in a list :\",sort_list[-2])"
   ]
  },
  {
   "cell_type": "code",
   "execution_count": null,
   "id": "4e039b1c-753f-4858-b520-a661bfeb58ce",
   "metadata": {},
   "outputs": [],
   "source": []
  },
  {
   "cell_type": "markdown",
   "id": "ce3dc2b7-99ab-4518-8f74-4e3489c0af09",
   "metadata": {},
   "source": [
    "### 36.Replace every element in a list with its square."
   ]
  },
  {
   "cell_type": "code",
   "execution_count": 108,
   "id": "bdbe2b5a-a70f-4a3f-8a75-9367d558294b",
   "metadata": {},
   "outputs": [
    {
     "name": "stdout",
     "output_type": "stream",
     "text": [
      "Example list : [1, 2, 3, 4, 5]\n",
      "Replace every element in a list with its square : [1, 4, 9, 16, 25]\n"
     ]
    }
   ],
   "source": [
    "example_list = [1,2,3,4,5]\n",
    "square = [x ** 2 for x in example_list]\n",
    "print(\"Example list :\",example_list)\n",
    "print(\"Replace every element in a list with its square :\",square)"
   ]
  },
  {
   "cell_type": "code",
   "execution_count": null,
   "id": "c3abf3bc-b07b-4bc5-8a76-f4615754eec4",
   "metadata": {},
   "outputs": [],
   "source": []
  },
  {
   "cell_type": "markdown",
   "id": "9c12061e-2647-4d55-9cb6-f21c558e0935",
   "metadata": {},
   "source": [
    "### 37.Convert a list to a dictionary where list elements become keys and their indices become values."
   ]
  },
  {
   "cell_type": "code",
   "execution_count": 109,
   "id": "253a4f2c-7d51-4204-8b14-554c8e7b33ad",
   "metadata": {},
   "outputs": [
    {
     "name": "stdout",
     "output_type": "stream",
     "text": [
      "Example list : ['python', 'dsa', 'java', 'data science']\n",
      "Convert a list to a dictionary where list elements become keys and their indices become values \n",
      "{'python': 0, 'dsa': 1, 'java': 2, 'data science': 3}\n"
     ]
    }
   ],
   "source": [
    "example_list = ['python','dsa','java','data science']\n",
    "print(\"Example list :\",example_list)\n",
    "dic = {element : index for index,element in enumerate(example_list)}\n",
    "print(\"Convert a list to a dictionary where list elements become keys and their indices become values \")\n",
    "print(dic)"
   ]
  },
  {
   "cell_type": "code",
   "execution_count": null,
   "id": "6274485e-6245-4085-8e08-ab59bbde7bd8",
   "metadata": {},
   "outputs": [],
   "source": []
  },
  {
   "cell_type": "markdown",
   "id": "a4cabdb5-b62d-429e-87dd-6a6d56c83733",
   "metadata": {},
   "source": [
    "### 38.Shuffle the elements of a list randomly."
   ]
  },
  {
   "cell_type": "code",
   "execution_count": 110,
   "id": "daa4ffae-9b26-4067-94e6-673c75634cd6",
   "metadata": {},
   "outputs": [
    {
     "name": "stdout",
     "output_type": "stream",
     "text": [
      "Shuffle the elements of a list randomly [17, 3, 10, 12, 45, 89]\n"
     ]
    }
   ],
   "source": [
    "import random\n",
    "example_list = [10,12,3,45,17,89]\n",
    "random.shuffle(example_list)\n",
    "print(\"Shuffle the elements of a list randomly\",example_list)"
   ]
  },
  {
   "cell_type": "code",
   "execution_count": null,
   "id": "c89bda42-f910-4a16-961f-98b101399811",
   "metadata": {},
   "outputs": [],
   "source": []
  },
  {
   "cell_type": "markdown",
   "id": "82ac2e70-08c1-41a0-b084-9a9e496e0292",
   "metadata": {},
   "source": [
    "### 39.Create a list of the first 10 factorial numbers."
   ]
  },
  {
   "cell_type": "code",
   "execution_count": 111,
   "id": "c1aad0e7-d2fe-46a1-b704-816ea52d7117",
   "metadata": {},
   "outputs": [
    {
     "name": "stdout",
     "output_type": "stream",
     "text": [
      "A list of the first 10 numbers : [0, 1, 2, 3, 4, 5, 6, 7, 8, 9, 10]\n",
      "A list of the first 10 factorial numbers : [1, 1, 2, 6, 24, 120, 720, 5040, 40320, 362880, 3628800]\n"
     ]
    }
   ],
   "source": [
    "def fact(number):\n",
    "    if number == 0 or number == 1:\n",
    "        return 1\n",
    "    else :\n",
    "        return number*fact(number-1)\n",
    "\n",
    "fact_number = [fact(i) for i in range(0,11)]\n",
    "print(\"A list of the first 10 numbers :\",list(range(0,11)))\n",
    "print(\"A list of the first 10 factorial numbers :\",fact_number)\n"
   ]
  },
  {
   "cell_type": "code",
   "execution_count": null,
   "id": "5dc8c6d6-b483-44cd-87cf-e027a9365df3",
   "metadata": {},
   "outputs": [],
   "source": []
  },
  {
   "cell_type": "markdown",
   "id": "99ddc568-6514-4577-ad95-bcf1a8dc7c34",
   "metadata": {},
   "source": [
    "### 40.Check if two lists have at least one element in common."
   ]
  },
  {
   "cell_type": "code",
   "execution_count": 112,
   "id": "1ac23ee1-e8c4-4471-ad7a-8d2d4b161f19",
   "metadata": {},
   "outputs": [
    {
     "name": "stdout",
     "output_type": "stream",
     "text": [
      "List 1 : [11, 2, 34, 49, 56]\n",
      "List 2 : [4, 56, 2, 7, 8]\n",
      "Yes, list1 have at least one element in common with list2 \n"
     ]
    }
   ],
   "source": [
    "def check_element(l,p):\n",
    "    for item in l:\n",
    "        if item in p:\n",
    "            return True\n",
    "    return False\n",
    "\n",
    "    \n",
    "l = [11,2,34,49,56]\n",
    "p = [4,56,2,7,8]\n",
    "print(\"List 1 :\",l)\n",
    "print(\"List 2 :\",p)\n",
    "if check_element(l,p):\n",
    "    print(\"Yes, list1 have at least one element in common with list2 \")\n",
    "else:\n",
    "    print(\"No, list1 doesn't have at least one element with list2 \") \n"
   ]
  },
  {
   "cell_type": "code",
   "execution_count": null,
   "id": "663d97d2-88ae-40a9-a6e4-1bb0c8289b2d",
   "metadata": {},
   "outputs": [],
   "source": []
  },
  {
   "cell_type": "markdown",
   "id": "2a261521-efe6-4b84-bb6a-1c809a7d650d",
   "metadata": {},
   "source": [
    "### 41.Remove all elements from a list."
   ]
  },
  {
   "cell_type": "code",
   "execution_count": 113,
   "id": "b80f16f7-2088-470c-a479-0c9ea69dfc82",
   "metadata": {},
   "outputs": [
    {
     "name": "stdout",
     "output_type": "stream",
     "text": [
      "Example list is  [11, 12, 14, 15, 16]\n",
      "Remove all elements from a list is  []\n"
     ]
    }
   ],
   "source": [
    "example_list = [11,12,14,15,16]\n",
    "print(\"Example list is \",example_list)\n",
    "example_list.clear()\n",
    "print(\"Remove all elements from a list is \",example_list)"
   ]
  },
  {
   "cell_type": "code",
   "execution_count": null,
   "id": "cd07a2c7-4bd0-485a-9544-cfe19992056a",
   "metadata": {},
   "outputs": [],
   "source": []
  },
  {
   "cell_type": "markdown",
   "id": "4ac9a39a-37d9-48a0-8a78-516e162b49f8",
   "metadata": {},
   "source": [
    "### 42.Replace negative numbers in a list with 0."
   ]
  },
  {
   "cell_type": "code",
   "execution_count": 114,
   "id": "073ce3b2-c06e-4f0d-b4de-0068883036c7",
   "metadata": {},
   "outputs": [
    {
     "name": "stdout",
     "output_type": "stream",
     "text": [
      "Example list : [11, -12, 14, -6, 90, -11]\n",
      "Replace negative numbers in a list with 0 :  [11, 0, 14, 0, 90, 0]\n"
     ]
    }
   ],
   "source": [
    "example_list = [11,-12,14,-6,90,-11]\n",
    "print(\"Example list :\" ,example_list)\n",
    "for i in range(len(example_list)):\n",
    "    if example_list[i]< 0:\n",
    "        example_list[i] = 0\n",
    "print(\"Replace negative numbers in a list with 0 : \",example_list)"
   ]
  },
  {
   "cell_type": "code",
   "execution_count": null,
   "id": "73570a4a-be7b-4f6e-80d8-b2d14351b1aa",
   "metadata": {},
   "outputs": [],
   "source": []
  },
  {
   "cell_type": "markdown",
   "id": "d8232635-61b6-4d45-97fc-53c954007fee",
   "metadata": {},
   "source": [
    "### 43.Convert a string into a list of words."
   ]
  },
  {
   "cell_type": "code",
   "execution_count": 115,
   "id": "1337d052-de0f-4eff-807c-511f0da4c320",
   "metadata": {},
   "outputs": [
    {
     "name": "stdout",
     "output_type": "stream",
     "text": [
      "Example string : This is beautiful scene\n",
      "Convert a string into a list of words : ['This', 'is', 'beautiful', 'scene']\n"
     ]
    }
   ],
   "source": [
    "example_string = \"This is beautiful scene\"\n",
    "print(\"Example string :\",example_string)\n",
    "list_of_words = example_string.split()\n",
    "print(\"Convert a string into a list of words :\",list_of_words)"
   ]
  },
  {
   "cell_type": "code",
   "execution_count": null,
   "id": "5272ac2f-2be6-4449-979b-2c9354e1e043",
   "metadata": {},
   "outputs": [],
   "source": []
  },
  {
   "cell_type": "markdown",
   "id": "93a088b7-3717-432f-af7a-9f61cfc3adeb",
   "metadata": {},
   "source": [
    "### 44.Convert a list of words into a string."
   ]
  },
  {
   "cell_type": "code",
   "execution_count": 116,
   "id": "78c17ee4-6af2-410e-a850-8f60a682fb21",
   "metadata": {},
   "outputs": [
    {
     "name": "stdout",
     "output_type": "stream",
     "text": [
      "Example list : ['Today', 'is', 'Teachers', 'day']\n",
      "Convert a list of words into a string : Today is Teachers day\n"
     ]
    }
   ],
   "source": [
    "example_list = ['Today', 'is','Teachers','day']\n",
    "print(\"Example list :\",example_list)\n",
    "convert_string = ' '.join(example_list)\n",
    "print(\"Convert a list of words into a string :\",convert_string)"
   ]
  },
  {
   "cell_type": "code",
   "execution_count": null,
   "id": "647ffe56-171b-4c78-9855-1776cb26dcd7",
   "metadata": {},
   "outputs": [],
   "source": []
  },
  {
   "cell_type": "markdown",
   "id": "929b9625-d16f-4b26-b0fd-370422b166fa",
   "metadata": {},
   "source": [
    "### 45.Create a list of the first 'n' powers of 2."
   ]
  },
  {
   "cell_type": "code",
   "execution_count": 118,
   "id": "17e040ab-01ed-4d57-adcb-e63656c42b0b",
   "metadata": {},
   "outputs": [
    {
     "name": "stdin",
     "output_type": "stream",
     "text": [
      "enter a number : 10\n"
     ]
    },
    {
     "name": "stdout",
     "output_type": "stream",
     "text": [
      "A list of numbers from 1 to 10 : [0, 1, 2, 3, 4, 5, 6, 7, 8, 9, 10]\n",
      "list of the first '10' powers of 2 : [1, 2, 4, 8, 16, 32, 64, 128, 256, 512, 1024]\n"
     ]
    }
   ],
   "source": [
    "n = int(input(\"enter a number :\"))\n",
    "print(\"A list of numbers from 1 to 10 :\",list(range(0,n+1)))\n",
    "pow_2 = [ 2**i for i in range(0,n+1)]\n",
    "print(f\"list of the first '{n}' powers of 2 :\",pow_2)"
   ]
  },
  {
   "cell_type": "code",
   "execution_count": null,
   "id": "6bb32871-7372-4adb-b6f8-75aceeb717f5",
   "metadata": {},
   "outputs": [],
   "source": []
  },
  {
   "cell_type": "markdown",
   "id": "f185e181-4070-4482-810b-bd8d888f8d86",
   "metadata": {},
   "source": [
    "### 46.Find the longest string in a list of strings."
   ]
  },
  {
   "cell_type": "code",
   "execution_count": 119,
   "id": "8c76b43c-8a6c-4469-b033-75e7d71b7343",
   "metadata": {},
   "outputs": [
    {
     "name": "stdout",
     "output_type": "stream",
     "text": [
      "Example list of string : ['Education', 'is', 'necessary', 'for', 'everyone']\n",
      "The longest string in a list of strings : Education\n"
     ]
    }
   ],
   "source": [
    "list_of_string = [\"Education\",\"is\",\"necessary\",\"for\",\"everyone\"]\n",
    "print(\"Example list of string :\",list_of_string)\n",
    "longest_string_is = \" \"\n",
    "for i in list_of_string:\n",
    "    if len(i) > len(longest_string_is):\n",
    "        longest_string_is = i\n",
    "        \n",
    "print(\"The longest string in a list of strings :\",longest_string_is)"
   ]
  },
  {
   "cell_type": "code",
   "execution_count": null,
   "id": "ee6f9868-6cf0-487d-ae25-401dc3fad037",
   "metadata": {},
   "outputs": [],
   "source": []
  },
  {
   "cell_type": "markdown",
   "id": "5c6da343-b06f-4407-bba4-25a33d880f1b",
   "metadata": {},
   "source": [
    "### 47.Find the shortest string in a list of strings."
   ]
  },
  {
   "cell_type": "code",
   "execution_count": 120,
   "id": "387348ac-2712-41da-a6a2-738d0d23cdbb",
   "metadata": {},
   "outputs": [
    {
     "name": "stdout",
     "output_type": "stream",
     "text": [
      "Example list of string : ['Books', 'give', 'us', 'knowledge']\n",
      "The shortest string in a list of strings : us\n"
     ]
    }
   ],
   "source": [
    "list_of_string = [\"Books\",\"give\",\"us\",\"knowledge\"]\n",
    "print(\"Example list of string :\",list_of_string)\n",
    "shortest_string_is = list_of_string[0]\n",
    "for i in list_of_string:\n",
    "    if len(i) < len(shortest_string_is):\n",
    "        shortest_string_is = i\n",
    "        \n",
    "print(\"The shortest string in a list of strings :\",shortest_string_is)"
   ]
  },
  {
   "cell_type": "code",
   "execution_count": null,
   "id": "33516740-4e7a-42d8-8d1f-7a073abca6fc",
   "metadata": {},
   "outputs": [],
   "source": []
  },
  {
   "cell_type": "markdown",
   "id": "ea893c1a-882b-4e5c-ba20-ce3da1845add",
   "metadata": {},
   "source": [
    "### 48.Create a list of the first 'n' Triangular numbers."
   ]
  },
  {
   "cell_type": "code",
   "execution_count": 121,
   "id": "fb618476-16b1-42f5-826c-ab676b3ca3c2",
   "metadata": {},
   "outputs": [
    {
     "name": "stdin",
     "output_type": "stream",
     "text": [
      "enter a number for Triangular numbers : 10\n"
     ]
    },
    {
     "name": "stdout",
     "output_type": "stream",
     "text": [
      "A list of the first 10 Triangular numbers : [1, 3, 6, 10, 15, 21, 28, 36, 45] \n"
     ]
    }
   ],
   "source": [
    "n = int(input(\"enter a number for Triangular numbers :\"))\n",
    "numbers = [ f*(f+1)//2 for f in range(1,n)]\n",
    "print(f\"A list of the first {n} Triangular numbers : {numbers} \")"
   ]
  },
  {
   "cell_type": "code",
   "execution_count": null,
   "id": "a0eb6572-b392-4c85-aee2-3d080a7d729d",
   "metadata": {},
   "outputs": [],
   "source": []
  },
  {
   "cell_type": "markdown",
   "id": "d9371188-6b5e-4a31-98c6-947bca9e3cb7",
   "metadata": {},
   "source": [
    "### 49.Check if a list contains another list as a subsequence."
   ]
  },
  {
   "cell_type": "code",
   "execution_count": 122,
   "id": "4dfc3285-ab52-441a-a5f7-25e8d200860c",
   "metadata": {},
   "outputs": [
    {
     "name": "stdout",
     "output_type": "stream",
     "text": [
      "Main list : [10, 22, 33, 4, 55, 6, 74, 86, 97, 10]\n",
      "Other list : [4, 6]\n",
      "Yes, A main list contains another list as a subsequence\n"
     ]
    }
   ],
   "source": [
    "def sequence_func(main_list, subsequence_list):\n",
    "    sub_index = 0\n",
    "    for element in main_list:\n",
    "        if element == subsequence_list[sub_index]:\n",
    "            sub_index +=1\n",
    "            if sub_index == len(subsequence_list):\n",
    "                return True\n",
    "    return False\n",
    "\n",
    "\n",
    "main_list = [10,22,33,4,55,6,74,86,97,10]\n",
    "subsequence_list = [4,6]\n",
    "\n",
    "print(\"Main list :\",main_list)\n",
    "print(\"Other list :\",subsequence_list)\n",
    "\n",
    "if sequence_func(main_list, subsequence_list):\n",
    "    print(\"Yes, A main list contains another list as a subsequence\")\n",
    "else :\n",
    "    print(\"No, A main list doesn't contain another list as a subsequence\")"
   ]
  },
  {
   "cell_type": "code",
   "execution_count": null,
   "id": "374945db-df82-487b-a973-d20c1328c3d6",
   "metadata": {},
   "outputs": [],
   "source": []
  },
  {
   "cell_type": "markdown",
   "id": "4e5872b7-3eec-4060-9f3d-b8d6a6a7b13a",
   "metadata": {},
   "source": [
    "### 50.Swap two elements in a list by their indices."
   ]
  },
  {
   "cell_type": "code",
   "execution_count": 123,
   "id": "4a254c0d-f001-4b11-a004-cf3c5b8bfb2d",
   "metadata": {},
   "outputs": [
    {
     "name": "stdout",
     "output_type": "stream",
     "text": [
      "Example list of elements in a list : [10, 20, 30, 40, 50, 60]\n",
      "Swap two elements in a list by their indices : [10, 20, 30, 60, 50, 40]\n"
     ]
    }
   ],
   "source": [
    "example_list = [10,20,30,40,50,60]\n",
    "print(\"Example list of elements in a list :\",example_list)\n",
    "index1 = 3\n",
    "index2 = 5\n",
    "element = example_list[index1]\n",
    "example_list[index1] = example_list[index2]\n",
    "example_list[index2] = element\n",
    "\n",
    "print(\"Swap two elements in a list by their indices :\",example_list)"
   ]
  },
  {
   "cell_type": "code",
   "execution_count": null,
   "id": "98c412c7-886f-4105-ba43-28326691ab99",
   "metadata": {},
   "outputs": [],
   "source": []
  },
  {
   "cell_type": "code",
   "execution_count": null,
   "id": "77b1613d-9d42-491e-8cf8-b8202d2edee6",
   "metadata": {},
   "outputs": [],
   "source": []
  },
  {
   "cell_type": "markdown",
   "id": "61c6360f-0b54-467b-a9c5-9db6dea3b9f9",
   "metadata": {},
   "source": [
    "## **Tuple Based Practice Problem :**\n",
    "---"
   ]
  },
  {
   "cell_type": "markdown",
   "id": "b3b841e1-e5d8-4295-ae27-27313cd32251",
   "metadata": {},
   "source": [
    "### 1.Create a tuple with integers from 1 to 5."
   ]
  },
  {
   "cell_type": "code",
   "execution_count": 124,
   "id": "dfc51af9-c9b2-48d8-8aa0-78ed4990d26c",
   "metadata": {},
   "outputs": [
    {
     "name": "stdout",
     "output_type": "stream",
     "text": [
      "A tuple with integers from 1 to 5 : (1, 2, 3, 4, 5)\n"
     ]
    }
   ],
   "source": [
    "y = tuple(range(1,6))\n",
    "\n",
    "print(f\"A tuple with integers from 1 to 5 :\",y)\n"
   ]
  },
  {
   "cell_type": "code",
   "execution_count": null,
   "id": "82c3bf43-a1cc-4eed-9366-348a250b22f5",
   "metadata": {},
   "outputs": [],
   "source": []
  },
  {
   "cell_type": "markdown",
   "id": "bb53c40e-d2ab-4f51-b36f-c684187bf0a6",
   "metadata": {},
   "source": [
    "### 2.Access the third element of a tuple."
   ]
  },
  {
   "cell_type": "code",
   "execution_count": 125,
   "id": "b7e6181a-fec5-41b2-bbb8-5ea94bd070da",
   "metadata": {},
   "outputs": [
    {
     "name": "stdout",
     "output_type": "stream",
     "text": [
      "Example of a tuple : (10, 22, 33, 44, 55)\n",
      "Access the third element of a tuple : 33\n"
     ]
    }
   ],
   "source": [
    "tuple_example = (10,22,33,44,55)\n",
    "print(\"Example of a tuple :\",tuple_example)\n",
    "\n",
    "index_access  = tuple_example[2]\n",
    "print(f\"Access the third element of a tuple :\",index_access)"
   ]
  },
  {
   "cell_type": "code",
   "execution_count": null,
   "id": "08d7bf46-d5df-4367-bcc9-6aa607b23b5e",
   "metadata": {},
   "outputs": [],
   "source": []
  },
  {
   "cell_type": "markdown",
   "id": "02f61fb1-d5af-4e98-b9a4-f6979c942277",
   "metadata": {},
   "source": [
    "### 3.Find the length of a tuple without using the 'len()' function."
   ]
  },
  {
   "cell_type": "code",
   "execution_count": 126,
   "id": "75458c39-fa76-4ab1-a244-1553f6b2e091",
   "metadata": {},
   "outputs": [
    {
     "name": "stdout",
     "output_type": "stream",
     "text": [
      "Example of a tuple : (23, 33, 43, 53, 63, 73, 83, 93)\n",
      "The length of a tuple without using the len() function : 8\n"
     ]
    }
   ],
   "source": [
    "tuple_example = (23,33,43,53,63,73,83,93)\n",
    "print(\"Example of a tuple :\",tuple_example)\n",
    "count_length  = 0\n",
    "for i in tuple_example:\n",
    "    count_length +=1\n",
    "print(\"The length of a tuple without using the len() function :\" ,count_length)"
   ]
  },
  {
   "cell_type": "code",
   "execution_count": null,
   "id": "413b3966-4efe-4dc3-b0bc-862d3c7d53cb",
   "metadata": {},
   "outputs": [],
   "source": []
  },
  {
   "cell_type": "markdown",
   "id": "4be13fdf-1371-4e87-8dcd-42295304778c",
   "metadata": {},
   "source": [
    "### 4.Count the occurrences of an element in a tuple."
   ]
  },
  {
   "cell_type": "code",
   "execution_count": 127,
   "id": "7cd7690e-5db4-45b7-b0e2-8e7908024e4e",
   "metadata": {},
   "outputs": [
    {
     "name": "stdout",
     "output_type": "stream",
     "text": [
      "Example of a tuple : (2, 4, 6, 1, 7, 2, 2, 2)\n",
      "Count the occurrences of an element 2 in a tuple : 4 times\n"
     ]
    }
   ],
   "source": [
    "tuple_example = (2,4,6,1,7,2,2,2)\n",
    "print(\"Example of a tuple :\",tuple_example)\n",
    "count_occur = 0\n",
    "element_to_occur = 2 \n",
    "for element in tuple_example:\n",
    "    if element == element_to_occur:\n",
    "        count_occur +=1\n",
    "print(f\"Count the occurrences of an element {element_to_occur} in a tuple : {count_occur} times\")"
   ]
  },
  {
   "cell_type": "code",
   "execution_count": null,
   "id": "05407092-2699-4731-84a1-1d71b3173b4b",
   "metadata": {},
   "outputs": [],
   "source": []
  },
  {
   "cell_type": "markdown",
   "id": "11f5e7d3-1de6-4379-9fbb-e5ea279fdfa7",
   "metadata": {},
   "source": [
    "### 5.Find the index of the first occurrence of an element in a tuple."
   ]
  },
  {
   "cell_type": "code",
   "execution_count": 128,
   "id": "f2ca8527-640e-408c-a1e8-7a025dc641b4",
   "metadata": {},
   "outputs": [
    {
     "name": "stdout",
     "output_type": "stream",
     "text": [
      "Example tuple : (1, 2, 4, 20, 6, 7, 20, 5)\n",
      "Element to find in tuple : 20\n",
      "The first occurrence of 20 is at index 3.\n"
     ]
    }
   ],
   "source": [
    "# Step 1: Create a tuple\n",
    "example_tuple = (1,2,4,20,6,7,20,5)\n",
    "print(\"Example tuple :\",example_tuple)\n",
    "\n",
    "# Step 2: Choose the element to find the index of\n",
    "element_to_find = 20\n",
    "print(\"Element to find in tuple :\",element_to_find)\n",
    "\n",
    "# Step 3: Initialize a variable to keep track of the index\n",
    "index = -1  # Initialize with -1 to indicate that the element was not found\n",
    "\n",
    "# Step 4: Iterate through the tuple and find the index of the chosen element\n",
    "for i, item in enumerate(example_tuple):\n",
    "    if item == element_to_find:\n",
    "        index = i\n",
    "        break  # Exit the loop once the first occurrence is found\n",
    "\n",
    "# Step 5: Print the index of the first occurrence\n",
    "if index != -1:\n",
    "    print(f\"The first occurrence of {element_to_find} is at index {index}.\")\n",
    "else:\n",
    "    print(f\"{element_to_find} is not found in the tuple.\")"
   ]
  },
  {
   "cell_type": "code",
   "execution_count": null,
   "id": "b88240ee-70e1-462c-8b17-6f4e983c1f1f",
   "metadata": {},
   "outputs": [],
   "source": [
    " "
   ]
  },
  {
   "cell_type": "markdown",
   "id": "2ac99842-bbb1-4d0a-8b66-0f800d0b7359",
   "metadata": {},
   "source": [
    "### 6.Check if an element exists in a tuple."
   ]
  },
  {
   "cell_type": "code",
   "execution_count": 129,
   "id": "7469a723-74fb-46a0-b918-5e440b57c608",
   "metadata": {},
   "outputs": [
    {
     "name": "stdout",
     "output_type": "stream",
     "text": [
      "Example of a tuple : (9, 18, 27, 36, 45, 54)\n",
      "Yes, an element 18 exist in a tuple .\n"
     ]
    }
   ],
   "source": [
    "tuple_example = (9,18,27,36,45,54)\n",
    "print(\"Example of a tuple :\",tuple_example)\n",
    "element_exits = 18 \n",
    "if element_exits in tuple_example:\n",
    "    print(f\"Yes, an element {element_exits} exist in a tuple .\")\n",
    "else :\n",
    "    print(f\"No, an element {element_exists} exist in a tuple .\")"
   ]
  },
  {
   "cell_type": "code",
   "execution_count": null,
   "id": "21c56890-1856-4758-a912-882d811fa233",
   "metadata": {},
   "outputs": [],
   "source": []
  },
  {
   "cell_type": "markdown",
   "id": "54f592b1-d78b-41cd-af59-6833e372000c",
   "metadata": {},
   "source": [
    "### 7.Convert a tuple to a list."
   ]
  },
  {
   "cell_type": "code",
   "execution_count": 130,
   "id": "3ec12028-4d90-4962-a459-bbd9cdb39a07",
   "metadata": {},
   "outputs": [
    {
     "name": "stdout",
     "output_type": "stream",
     "text": [
      "Example of a tuple : (2, 4, 5, 6, 9)\n",
      "Convert a tuple to a list : [2, 4, 5, 6, 9]\n"
     ]
    }
   ],
   "source": [
    "tuple_example = (2,4,5,6,9)\n",
    "print(\"Example of a tuple :\",tuple_example)\n",
    "convert_tuple = list(tuple_example)\n",
    "print(\"Convert a tuple to a list :\",convert_tuple)"
   ]
  },
  {
   "cell_type": "code",
   "execution_count": null,
   "id": "b02decbe-551b-429b-9566-24c2d7ed9c0e",
   "metadata": {},
   "outputs": [],
   "source": []
  },
  {
   "cell_type": "markdown",
   "id": "e61f2f40-1d99-45c5-bbf7-be3f87ebf3b7",
   "metadata": {},
   "source": [
    "### 8.Convert a list to a tuple."
   ]
  },
  {
   "cell_type": "code",
   "execution_count": 131,
   "id": "696cb43d-cdde-4074-a581-0bd6997acd23",
   "metadata": {},
   "outputs": [
    {
     "name": "stdout",
     "output_type": "stream",
     "text": [
      "Example list : [23, 45, 67, 89, 11]\n",
      "Convert a list to a tuple : (23, 45, 67, 89, 11)\n"
     ]
    }
   ],
   "source": [
    "example_list = [23,45,67,89,11]\n",
    "print(\"Example list :\",example_list)\n",
    "convert_tuple = tuple(example_list)\n",
    "print(\"Convert a list to a tuple :\",convert_tuple)"
   ]
  },
  {
   "cell_type": "code",
   "execution_count": null,
   "id": "7dda7742-a31f-4b69-9770-8f2647e2a4b7",
   "metadata": {},
   "outputs": [],
   "source": []
  },
  {
   "cell_type": "markdown",
   "id": "abb02469-6d90-4e4f-9dc5-a72dcbfcb999",
   "metadata": {},
   "source": [
    "### 9.Unpack the elements of a tuple into variables."
   ]
  },
  {
   "cell_type": "code",
   "execution_count": 132,
   "id": "cb1fa7bf-541d-4415-ae95-92ea21bf2f39",
   "metadata": {},
   "outputs": [
    {
     "name": "stdout",
     "output_type": "stream",
     "text": [
      "Example of tuple : (11, 23, 45, 67, 88)\n",
      "Unpack the elements of a tuple into variables \n",
      "variable 1 of a tuple : 11\n",
      "variable 2 of a tuple : 23\n",
      "variable 3 of a tuple : 45\n",
      "variable 4 of a tuple : 67\n",
      "variable 5 of a tuple : 88\n"
     ]
    }
   ],
   "source": [
    "example_tuple = (11,23,45,67,88)\n",
    "print(\"Example of tuple :\",example_tuple)\n",
    "\n",
    "v1,v2,v3,v4,v5 = example_tuple\n",
    "print(\"Unpack the elements of a tuple into variables \")\n",
    "print(\"variable 1 of a tuple :\", v1)\n",
    "print(\"variable 2 of a tuple :\", v2)\n",
    "print(\"variable 3 of a tuple :\", v3)\n",
    "print(\"variable 4 of a tuple :\", v4)\n",
    "print(\"variable 5 of a tuple :\", v5)"
   ]
  },
  {
   "cell_type": "code",
   "execution_count": null,
   "id": "74dcb804-ca0b-467d-9290-c2801014f89a",
   "metadata": {},
   "outputs": [],
   "source": []
  },
  {
   "cell_type": "markdown",
   "id": "7a82e4bb-8197-4718-afed-e2352e3a0c46",
   "metadata": {},
   "source": [
    "### 10.Create a tuple of even numbers from 1 to 10."
   ]
  },
  {
   "cell_type": "code",
   "execution_count": 133,
   "id": "9335114c-22d2-43fc-b48f-0e1088679ee7",
   "metadata": {},
   "outputs": [
    {
     "name": "stdout",
     "output_type": "stream",
     "text": [
      "A tuple of even numbers from 1 to 10 : (2, 4, 6, 8, 10)\n"
     ]
    }
   ],
   "source": [
    "even_number = [num for num in range(2,11,2)]\n",
    "in_tuple = tuple(even_number)\n",
    "\n",
    "print(\"A tuple of even numbers from 1 to 10 :\",in_tuple)"
   ]
  },
  {
   "cell_type": "code",
   "execution_count": null,
   "id": "7186b55d-5d2d-4db3-8a93-ceae709b015f",
   "metadata": {},
   "outputs": [],
   "source": []
  },
  {
   "cell_type": "markdown",
   "id": "fecb4333-9798-4032-9c1f-0e315d774363",
   "metadata": {},
   "source": [
    "### 11.Create a tuple of odd numbers from 1 to 10."
   ]
  },
  {
   "cell_type": "code",
   "execution_count": 134,
   "id": "5fad8a17-ea55-46cf-9ec1-fa3ce260996b",
   "metadata": {},
   "outputs": [
    {
     "name": "stdout",
     "output_type": "stream",
     "text": [
      "A tuple of odd numbers from 1 to 10 : (1, 3, 5, 7, 9)\n"
     ]
    }
   ],
   "source": [
    "odd_number = [odd for odd in range(1,11,2)]\n",
    "in_tuple = tuple(odd_number)\n",
    "print(\"A tuple of odd numbers from 1 to 10 :\",in_tuple)"
   ]
  },
  {
   "cell_type": "code",
   "execution_count": null,
   "id": "f8011f11-c0aa-4275-8766-13fee4d43bc1",
   "metadata": {},
   "outputs": [],
   "source": []
  },
  {
   "cell_type": "markdown",
   "id": "c095239f-6538-4304-bb5a-533d563e57af",
   "metadata": {},
   "source": [
    "### 12.Concatenate two tuples."
   ]
  },
  {
   "cell_type": "code",
   "execution_count": 135,
   "id": "3c83a931-ee08-45c9-8c8b-f8e7f9f93bcf",
   "metadata": {},
   "outputs": [
    {
     "name": "stdout",
     "output_type": "stream",
     "text": [
      "first tuple : (1, 2, 3, 4, 5)\n",
      "second tuple : (11, 12, 13, 14, 15)\n",
      "concatenate two tuples: (1, 2, 3, 4, 5, 11, 12, 13, 14, 15)\n"
     ]
    }
   ],
   "source": [
    "tuple1 = (1,2,3,4,5)\n",
    "tuple2 = (11,12,13,14,15)\n",
    "concatenate = tuple1 +tuple2\n",
    "print(\"first tuple :\",tuple1)\n",
    "print(\"second tuple :\",tuple2)\n",
    "print(\"concatenate two tuples:\",concatenate)"
   ]
  },
  {
   "cell_type": "code",
   "execution_count": null,
   "id": "8985697e-6080-4f09-8c5f-e36c82aa950c",
   "metadata": {},
   "outputs": [],
   "source": []
  },
  {
   "cell_type": "markdown",
   "id": "b2dbb2cd-05c6-4f2d-86d3-6b25cc05936a",
   "metadata": {},
   "source": [
    "### 13.Repeat a tuple three times."
   ]
  },
  {
   "cell_type": "code",
   "execution_count": 136,
   "id": "3d48bbb1-3029-419b-a520-2b2152d1217c",
   "metadata": {},
   "outputs": [
    {
     "name": "stdout",
     "output_type": "stream",
     "text": [
      "A tuple : (23, 11, 45, 77)\n",
      "Repeat a tupple three times : (23, 11, 45, 77, 23, 11, 45, 77, 23, 11, 45, 77)\n"
     ]
    }
   ],
   "source": [
    "example_tuple = (23,11,45,77)\n",
    "repeat_tuple = example_tuple*3\n",
    "print(\"A tuple :\",example_tuple)\n",
    "print(\"Repeat a tupple three times :\",repeat_tuple)"
   ]
  },
  {
   "cell_type": "code",
   "execution_count": null,
   "id": "ea6fce6a-8082-4057-a9e7-629f204434ed",
   "metadata": {},
   "outputs": [],
   "source": []
  },
  {
   "cell_type": "markdown",
   "id": "75790b07-e160-46be-a823-7985485f7cd3",
   "metadata": {},
   "source": [
    "### 14.Check if a tuple is empty."
   ]
  },
  {
   "cell_type": "code",
   "execution_count": 137,
   "id": "1de716e2-9cfc-445c-93a8-35f7f3bf056b",
   "metadata": {},
   "outputs": [
    {
     "name": "stdout",
     "output_type": "stream",
     "text": [
      "A empty tuple : ()\n",
      "A tuple is empty\n",
      "A example tuple : (1, 2, 3, 4)\n",
      "A example tuple is not empty\n"
     ]
    }
   ],
   "source": [
    "empty_tuple = ()\n",
    "example_tuple = (1,2,3,4)\n",
    "print(\"A empty tuple :\",empty_tuple)\n",
    "if not empty_tuple:\n",
    "    print(\"A tuple is empty\")\n",
    "else:\n",
    "    print(\"A tuple is not empty\")\n",
    "\n",
    "print(\"A example tuple :\",example_tuple)\n",
    "if not example_tuple:\n",
    "    print(\"A emple tuple is empty\")\n",
    "else:\n",
    "    print(\"A example tuple is not empty\")"
   ]
  },
  {
   "cell_type": "code",
   "execution_count": null,
   "id": "5c4f5d91-3606-4feb-8ccd-0de4df4aa604",
   "metadata": {},
   "outputs": [],
   "source": []
  },
  {
   "cell_type": "markdown",
   "id": "2756ca00-69a2-43e4-be07-9b44adde62c5",
   "metadata": {},
   "source": [
    "### 15.Create a nested tuple."
   ]
  },
  {
   "cell_type": "code",
   "execution_count": 138,
   "id": "e5fe7c66-c7c3-404f-b013-b749c705f7ca",
   "metadata": {},
   "outputs": [
    {
     "name": "stdout",
     "output_type": "stream",
     "text": [
      "A nested tuple : (1, (1, 2), (1, 2, 3), (1, 2, 3, 4))\n"
     ]
    }
   ],
   "source": [
    "example_tuple = ((1),(1,2),(1,2,3),(1,2,3,4))\n",
    "print(\"A nested tuple :\",example_tuple)"
   ]
  },
  {
   "cell_type": "code",
   "execution_count": null,
   "id": "678273a9-6a51-4e4a-8993-89dabf055eec",
   "metadata": {},
   "outputs": [],
   "source": []
  },
  {
   "cell_type": "markdown",
   "id": "eead4f1b-650a-47c3-b53f-619d8551dcf3",
   "metadata": {},
   "source": [
    "### 16.Access the first element of a nested tuple."
   ]
  },
  {
   "cell_type": "code",
   "execution_count": 139,
   "id": "0a2cccf6-4870-4ac9-943e-d4b0a29778ad",
   "metadata": {},
   "outputs": [
    {
     "name": "stdout",
     "output_type": "stream",
     "text": [
      "Example of nested tuple : (('True', 'False'), (1, 2, 3), ('list', 'tuple', 'set'))\n",
      "Access the first element of a nested tuple : ('True', 'False')\n"
     ]
    }
   ],
   "source": [
    "example_tuple = (('True','False'),(1,2,3),('list','tuple','set'))\n",
    "first_element = example_tuple[0]\n",
    "print(\"Example of nested tuple :\",example_tuple)\n",
    "print(\"Access the first element of a nested tuple :\",first_element)"
   ]
  },
  {
   "cell_type": "code",
   "execution_count": null,
   "id": "57499a2c-bdcd-4744-a301-23f7ccd88fd2",
   "metadata": {},
   "outputs": [],
   "source": []
  },
  {
   "cell_type": "markdown",
   "id": "e1adfdbe-61eb-45de-9640-8339263d6d1b",
   "metadata": {},
   "source": [
    "### 17.Create a tuple with a single element."
   ]
  },
  {
   "cell_type": "code",
   "execution_count": 140,
   "id": "4f9ad2c2-0b5e-44a0-bb5c-87d346d63da2",
   "metadata": {},
   "outputs": [
    {
     "name": "stdout",
     "output_type": "stream",
     "text": [
      "A tuple with a single element : (2,)\n"
     ]
    }
   ],
   "source": [
    "single_element = (2,) # Note the trailing comma\n",
    "print(\"A tuple with a single element :\",single_element)\n",
    "\n",
    "# Note : We create a tuple named single_element_tuple with a single element. The key here is to include a trailing comma after the element, \n",
    "#        which informs Python that you want to create a tuple with one element."
   ]
  },
  {
   "cell_type": "code",
   "execution_count": null,
   "id": "f6e27e92-17c7-4dd9-943b-9150d837a1de",
   "metadata": {},
   "outputs": [],
   "source": []
  },
  {
   "cell_type": "markdown",
   "id": "b1a0dc3b-e511-41e7-ae33-4464b2d4901d",
   "metadata": {},
   "source": [
    "### 18.Compare two tuples."
   ]
  },
  {
   "cell_type": "code",
   "execution_count": 141,
   "id": "b614c01a-74ec-4dad-9fee-65c2dd292baf",
   "metadata": {},
   "outputs": [
    {
     "name": "stdout",
     "output_type": "stream",
     "text": [
      "first tuple : (10, 20, 40, 30)\n",
      "second tuple : (10, 50, 20, 70)\n",
      "Compare two tuples\n",
      "check for greater than or equal to ,first tuple >= second tuple : False\n",
      "check for less than or equal to ,first tuple <= second tuple : True\n",
      "check for equality ,first tuple == second tuple : False\n",
      "check for inequality ,first tuple != second tuple : True\n",
      "check for less than ,first tuple < second tuple : True\n",
      "check for greater tha ,first tuple > second tuple : False\n"
     ]
    }
   ],
   "source": [
    "t1 = (10,20,40,30)\n",
    "t2 = (10,50,20,70)\n",
    "print(\"first tuple :\",t1)\n",
    "print(\"second tuple :\",t2)\n",
    "print(\"Compare two tuples\")\n",
    "print(\"check for greater than or equal to ,first tuple >= second tuple :\",t1>=t2)\n",
    "print(\"check for less than or equal to ,first tuple <= second tuple :\",t1<=t2)\n",
    "print(\"check for equality ,first tuple == second tuple :\",t1==t2)\n",
    "print(\"check for inequality ,first tuple != second tuple :\",t1 != t2)\n",
    "print(\"check for less than ,first tuple < second tuple :\",t1<t2)\n",
    "print(\"check for greater tha ,first tuple > second tuple :\",t1>t2)"
   ]
  },
  {
   "cell_type": "code",
   "execution_count": null,
   "id": "76fd0bad-66e2-49e1-b226-db4463fc7d94",
   "metadata": {},
   "outputs": [],
   "source": []
  },
  {
   "cell_type": "markdown",
   "id": "2032acad-9034-4d6a-940f-646e3cd386c1",
   "metadata": {},
   "source": [
    "### 19.Delete a tuple."
   ]
  },
  {
   "cell_type": "code",
   "execution_count": 142,
   "id": "d69782a6-6eab-4c55-b9ef-2d84829ba68f",
   "metadata": {},
   "outputs": [
    {
     "name": "stdout",
     "output_type": "stream",
     "text": [
      "Example of tuple : ('dsa', 1, 'java', 5)\n"
     ]
    },
    {
     "ename": "NameError",
     "evalue": "name 'a_tuple' is not defined",
     "output_type": "error",
     "traceback": [
      "\u001b[0;31m---------------------------------------------------------------------------\u001b[0m",
      "\u001b[0;31mNameError\u001b[0m                                 Traceback (most recent call last)",
      "Cell \u001b[0;32mIn[142], line 6\u001b[0m\n\u001b[1;32m      3\u001b[0m \u001b[38;5;28;01mdel\u001b[39;00m a_tuple\n\u001b[1;32m      4\u001b[0m \u001b[38;5;66;03m#step :once you delete the tuple by del statement then nameerror shows that you can't access the delete tuple .\u001b[39;00m\n\u001b[1;32m      5\u001b[0m \u001b[38;5;66;03m# delete tuple no longer exists  \u001b[39;00m\n\u001b[0;32m----> 6\u001b[0m \u001b[38;5;28mprint\u001b[39m(\u001b[38;5;124m\"\u001b[39m\u001b[38;5;124mDelete a tuple :\u001b[39m\u001b[38;5;124m\"\u001b[39m,\u001b[43ma_tuple\u001b[49m)\n\u001b[1;32m      8\u001b[0m \u001b[38;5;66;03m# Note : We use the del statement to delete the entire tuple.\u001b[39;00m\n\u001b[1;32m      9\u001b[0m \u001b[38;5;66;03m#        When you try to access the tuple after deleting it, you will get a NameError because the tuple no longer exists.\u001b[39;00m\n",
      "\u001b[0;31mNameError\u001b[0m: name 'a_tuple' is not defined"
     ]
    }
   ],
   "source": [
    "a_tuple = ('dsa',1,'java',5)\n",
    "print(\"Example of tuple :\",a_tuple)\n",
    "del a_tuple\n",
    "#step :once you delete the tuple by del statement then nameerror shows that you can't access the delete tuple .\n",
    "# delete tuple no longer exists  \n",
    "print(\"Delete a tuple :\",a_tuple)\n",
    "\n",
    "# Note : We use the del statement to delete the entire tuple.\n",
    "#        When you try to access the tuple after deleting it, you will get a NameError because the tuple no longer exists."
   ]
  },
  {
   "cell_type": "code",
   "execution_count": null,
   "id": "1dc36c68-bbf4-4506-a79c-7f8452b5d69a",
   "metadata": {},
   "outputs": [],
   "source": []
  },
  {
   "cell_type": "markdown",
   "id": "eb426aa4-daa4-42a4-a789-bb9912627471",
   "metadata": {},
   "source": [
    "### 20.Slice a tuple."
   ]
  },
  {
   "cell_type": "code",
   "execution_count": 143,
   "id": "7d9c8630-5626-47e4-ad8e-b81cb2240747",
   "metadata": {},
   "outputs": [
    {
     "name": "stdout",
     "output_type": "stream",
     "text": [
      "Example tuple : (2, 4, 'True', 'tuple', 'set', 89, 'list', 'string')\n",
      "Slice a tuple : ('True', 'tuple', 'set', 89, 'list', 'string')\n"
     ]
    }
   ],
   "source": [
    "example_tuple = (2,4,'True','tuple','set',89,'list','string')\n",
    "slice_tuple = example_tuple[2:8] #slice syntax[start:end] ,start(inclusive) and end(exclusive)\n",
    "print(\"Example tuple :\",example_tuple)\n",
    "print(\"Slice a tuple :\",slice_tuple)"
   ]
  },
  {
   "cell_type": "code",
   "execution_count": null,
   "id": "1246be5b-c755-4146-abb0-ae728b7a0a45",
   "metadata": {},
   "outputs": [],
   "source": []
  },
  {
   "cell_type": "markdown",
   "id": "e2bb1370-4e22-444b-8b6e-3487fc7bcf66",
   "metadata": {},
   "source": [
    "### 21.Find the maximum value in a tuple."
   ]
  },
  {
   "cell_type": "code",
   "execution_count": 144,
   "id": "d577548f-3a69-4f99-9a97-1577710f90af",
   "metadata": {},
   "outputs": [
    {
     "name": "stdout",
     "output_type": "stream",
     "text": [
      "Example tuple : (12, 34, 15, 78, 22)\n",
      "The maximum value in a tuple : 78\n"
     ]
    }
   ],
   "source": [
    "example_tuple = (12,34,15,78,22)\n",
    "max_value = max(example_tuple)\n",
    "print(\"Example tuple :\",example_tuple)\n",
    "print(\"The maximum value in a tuple :\",max_value) "
   ]
  },
  {
   "cell_type": "code",
   "execution_count": null,
   "id": "3f04564f-9011-46aa-a05a-6e2af21e9560",
   "metadata": {},
   "outputs": [],
   "source": []
  },
  {
   "cell_type": "markdown",
   "id": "9d22aa07-6e41-4ed7-9eba-0868a74ee522",
   "metadata": {},
   "source": [
    "### 22.Find the minimum value in a tuple."
   ]
  },
  {
   "cell_type": "code",
   "execution_count": 145,
   "id": "cdd5277d-58cb-46e2-af13-b95ea5093eb8",
   "metadata": {},
   "outputs": [
    {
     "name": "stdout",
     "output_type": "stream",
     "text": [
      "Example of tuple : (2, 5, 67, 89)\n",
      "The minimum value in a tuple : 2\n"
     ]
    }
   ],
   "source": [
    "example_tuple = (2,5,67,89)\n",
    "min_value = min(example_tuple)\n",
    "print(\"Example of tuple :\",example_tuple)\n",
    "print(\"The minimum value in a tuple :\",min_value)"
   ]
  },
  {
   "cell_type": "code",
   "execution_count": null,
   "id": "0596fc59-af40-46b0-bbdd-a1b88337dd32",
   "metadata": {},
   "outputs": [],
   "source": []
  },
  {
   "cell_type": "markdown",
   "id": "c1d60aeb-f7c9-423c-9269-7503afcedf5d",
   "metadata": {},
   "source": [
    "### 23.Convert a string to a tuple of characters."
   ]
  },
  {
   "cell_type": "code",
   "execution_count": 146,
   "id": "affe5de5-5c67-4d17-aff8-29c31b24ef5f",
   "metadata": {},
   "outputs": [
    {
     "name": "stdout",
     "output_type": "stream",
     "text": [
      "A string : Internet is powerful\n",
      "Convert a string to a tuple of characters : ('I', 'n', 't', 'e', 'r', 'n', 'e', 't', ' ', 'i', 's', ' ', 'p', 'o', 'w', 'e', 'r', 'f', 'u', 'l')\n"
     ]
    }
   ],
   "source": [
    "string = \"Internet is powerful\"\n",
    "print(\"A string :\",string)\n",
    "tuple_char = tuple(string)\n",
    "print(\"Convert a string to a tuple of characters :\",tuple_char)"
   ]
  },
  {
   "cell_type": "code",
   "execution_count": null,
   "id": "e4b8f353-2349-4c00-bad7-eb6f516d9b4f",
   "metadata": {},
   "outputs": [],
   "source": []
  },
  {
   "cell_type": "markdown",
   "id": "6543f664-227a-49fc-8630-27196b0da24d",
   "metadata": {},
   "source": [
    "### 24.Convert a tuple of characters to a string."
   ]
  },
  {
   "cell_type": "code",
   "execution_count": 147,
   "id": "5216d61a-8689-4cee-bb41-5561a41a04ba",
   "metadata": {},
   "outputs": [
    {
     "name": "stdout",
     "output_type": "stream",
     "text": [
      "A tuple of characters : ('N', 'a', 'm', 'a', 's', 't', 'e', 'y', ' ', 'b', 'h', 'a', 'r', 'a', 't')\n",
      "Convert a tuple of characters to a string : Namastey bharat\n"
     ]
    }
   ],
   "source": [
    "tuple_of_char = ('N','a','m','a','s','t','e','y',' ','b','h','a','r','a','t')\n",
    "print(\"A tuple of characters :\",tuple_of_char)\n",
    "tuple_to_str = ''.join(tuple_of_char)\n",
    "print(\"Convert a tuple of characters to a string :\",tuple_to_str)"
   ]
  },
  {
   "cell_type": "code",
   "execution_count": null,
   "id": "1dbb95cd-b423-4d9e-b775-643897fd1b34",
   "metadata": {},
   "outputs": [],
   "source": []
  },
  {
   "cell_type": "markdown",
   "id": "3f178984-822a-4669-b120-24704e431698",
   "metadata": {},
   "source": [
    "### 25.Create a tuple from multiple data types."
   ]
  },
  {
   "cell_type": "code",
   "execution_count": 148,
   "id": "2c06d591-fa15-4ceb-8997-0cc1911e7044",
   "metadata": {},
   "outputs": [
    {
     "name": "stdout",
     "output_type": "stream",
     "text": [
      "A tuple from multiple data types : (45, 1, 4, 'True', 89.77, True, 'data types')\n"
     ]
    }
   ],
   "source": [
    "mul_tuple = (45,1,4,'True',89.77,True,'data types') \n",
    "# 'True' is string where True is boolean expression\n",
    "#45,1,4 in integer \n",
    "# 89.77 is floating point number\n",
    "#'data types' is in string \n",
    "print(\"A tuple from multiple data types :\",mul_tuple)"
   ]
  },
  {
   "cell_type": "code",
   "execution_count": null,
   "id": "c8199c55-aab3-4037-b4fb-9f58182ac71a",
   "metadata": {},
   "outputs": [],
   "source": []
  },
  {
   "cell_type": "markdown",
   "id": "e425f360-c3bd-415d-8be4-554790011b5a",
   "metadata": {},
   "source": [
    "### 26.Check if two tuples are identical."
   ]
  },
  {
   "cell_type": "code",
   "execution_count": 149,
   "id": "73cdd1db-4923-48c1-b3f5-6cbf22690aa3",
   "metadata": {},
   "outputs": [
    {
     "name": "stdout",
     "output_type": "stream",
     "text": [
      "Tuple 1 : (2, 4, 6)\n",
      "Tuple 2 : (8, 7, 0)\n",
      "Tuple 3 : (2, 4, 6)\n",
      "Check for Tuple 1 is identical to Tuple 2 : False\n",
      "Check for Tuple 2 is identical to Tuple 3 : False\n",
      "Check for Tuple 3 is identical to Tuple 1 : True\n"
     ]
    }
   ],
   "source": [
    "tuple1 = (2,4,6)\n",
    "tuple2 = (8,7,0)\n",
    "tuple3 = (2,4,6)\n",
    "print(\"Tuple 1 :\",tuple1)\n",
    "print(\"Tuple 2 :\",tuple2)\n",
    "print(\"Tuple 3 :\",tuple3)\n",
    "print(\"Check for Tuple 1 is identical to Tuple 2 :\",tuple1==tuple2)\n",
    "print(\"Check for Tuple 2 is identical to Tuple 3 :\",tuple2==tuple3) \n",
    "print(\"Check for Tuple 3 is identical to Tuple 1 :\",tuple3==tuple1)"
   ]
  },
  {
   "cell_type": "code",
   "execution_count": null,
   "id": "10836144-1ec6-4d4a-a374-a77a3e4724f4",
   "metadata": {},
   "outputs": [],
   "source": []
  },
  {
   "cell_type": "markdown",
   "id": "99bfe41e-03d6-469e-9f9e-45883616875d",
   "metadata": {},
   "source": [
    "### 27.Sort the elements of a tuple."
   ]
  },
  {
   "cell_type": "code",
   "execution_count": 150,
   "id": "75db7850-4d9a-42a4-b47c-4a46276586ad",
   "metadata": {},
   "outputs": [
    {
     "name": "stdout",
     "output_type": "stream",
     "text": [
      "Example of tuple : (23, 56, 12, 79, 10)\n",
      "Sort the elements of a tuple : (10, 12, 23, 56, 79)\n"
     ]
    }
   ],
   "source": [
    "example_tuple = (23,56,12,79,10)\n",
    "print(\"Example of tuple :\",example_tuple)\n",
    "sort_element = tuple(sorted(example_tuple))\n",
    "print(\"Sort the elements of a tuple :\",sort_element)"
   ]
  },
  {
   "cell_type": "code",
   "execution_count": null,
   "id": "8ddf3b1e-c54a-4691-893a-a3eaa9a8eaf6",
   "metadata": {},
   "outputs": [],
   "source": []
  },
  {
   "cell_type": "markdown",
   "id": "c5f49d21-7bd5-4294-a05a-8cfa00e1bb8a",
   "metadata": {},
   "source": [
    "### 28.Convert a tuple of integers to a tuple of strings."
   ]
  },
  {
   "cell_type": "code",
   "execution_count": 2,
   "id": "f0fd8baf-5e1b-4f00-82bb-65253abcd41a",
   "metadata": {},
   "outputs": [
    {
     "name": "stdout",
     "output_type": "stream",
     "text": [
      "Tuple of integers : (10, 20, 30, 40, 50)\n",
      "Convert a tuple of integers to a tuple of strings : ('10', '20', '30', '40', '50')\n"
     ]
    }
   ],
   "source": [
    "tuple_in_integer = (10,20,30,40,50)\n",
    "print(\"Tuple of integers :\",tuple_in_integer)\n",
    "string  = (str(i) for i in tuple_in_integer)\n",
    "tuple_string = tuple(string)\n",
    "print(\"Convert a tuple of integers to a tuple of strings :\",tuple_string)"
   ]
  },
  {
   "cell_type": "code",
   "execution_count": null,
   "id": "28d28696-eb8d-44b1-91a0-5f76cac4610f",
   "metadata": {},
   "outputs": [],
   "source": []
  },
  {
   "cell_type": "markdown",
   "id": "9caea882-304f-4d51-9284-fa380ffdfdd4",
   "metadata": {},
   "source": [
    "### 29.Convert a tuple of strings to a tuple of integers."
   ]
  },
  {
   "cell_type": "code",
   "execution_count": 153,
   "id": "14d094c4-4866-4e1c-a676-7816e403d431",
   "metadata": {},
   "outputs": [
    {
     "name": "stdout",
     "output_type": "stream",
     "text": [
      "Tuple of strings : ('11', '22', '33', '44', '55', '66')\n",
      "Convert a tuple of strings to a tuple of integers : (11, 22, 33, 44, 55, 66)\n"
     ]
    }
   ],
   "source": [
    "tuple_of_string = ('11','22','33','44','55','66')\n",
    "print(\"Tuple of strings :\",tuple_of_string)\n",
    "tuple_of_integer = tuple(int(p) for p in tuple_of_string)\n",
    "print(\"Convert a tuple of strings to a tuple of integers :\",tuple_of_integer)"
   ]
  },
  {
   "cell_type": "code",
   "execution_count": null,
   "id": "f402cd6e-59e1-4f29-9f33-01365825e276",
   "metadata": {},
   "outputs": [],
   "source": []
  },
  {
   "cell_type": "markdown",
   "id": "e78960c8-c7c8-4e2b-9598-26590b7c30ee",
   "metadata": {},
   "source": [
    "### 30.Merge two tuples."
   ]
  },
  {
   "cell_type": "code",
   "execution_count": 154,
   "id": "f041f735-76ea-481c-9eca-41854783d879",
   "metadata": {},
   "outputs": [
    {
     "name": "stdout",
     "output_type": "stream",
     "text": [
      "Tuple 1 : (12, 34, 67, 89)\n",
      "Tuple 2 : (23, 45, 78, 11)\n",
      "Merge Tuple1 and Tuple2 : (12, 34, 67, 89, 23, 45, 78, 11)\n"
     ]
    }
   ],
   "source": [
    "tuple1 = (12,34,67,89)\n",
    "tuple2 = (23,45,78,11)\n",
    "print(\"Tuple 1 :\",tuple1)\n",
    "print(\"Tuple 2 :\",tuple2)\n",
    "merge_tuple = tuple1+tuple2\n",
    "print(\"Merge Tuple1 and Tuple2 :\",merge_tuple)"
   ]
  },
  {
   "cell_type": "code",
   "execution_count": null,
   "id": "9ff1f33f-68f7-431b-b429-9c84aa71e9a1",
   "metadata": {},
   "outputs": [],
   "source": []
  },
  {
   "cell_type": "markdown",
   "id": "a2732baa-6e2f-49b1-962c-91b729711410",
   "metadata": {},
   "source": [
    "### 31.Flatten a nested tuple."
   ]
  },
  {
   "cell_type": "code",
   "execution_count": 155,
   "id": "f0b1bb84-96a2-4cc6-bd76-9b99dafdf59e",
   "metadata": {},
   "outputs": [
    {
     "name": "stdout",
     "output_type": "stream",
     "text": [
      "Example a nested tuple : (12, 3, (4, 2), (3, 4, 7))\n",
      "Flatten a nested list :\n",
      "(12, 3, 4, 2, 3, 4, 7)\n"
     ]
    }
   ],
   "source": [
    "t = (12,3,(4,2),(3,4,7))\n",
    "print(\"Example a nested tuple :\",t)\n",
    "print(\"Flatten a nested list :\")\n",
    "k = tuple(j for i in t for j in (i if type(i)== tuple else [i]))\n",
    "print(k)"
   ]
  },
  {
   "cell_type": "code",
   "execution_count": null,
   "id": "387b2262-450e-44a4-8e28-08e1727377ff",
   "metadata": {},
   "outputs": [],
   "source": []
  },
  {
   "cell_type": "markdown",
   "id": "c6fd797a-c566-4a51-992a-178be35e736a",
   "metadata": {},
   "source": [
    "### 32.Create a tuple of the first 5 prime numbers."
   ]
  },
  {
   "cell_type": "code",
   "execution_count": 156,
   "id": "5a918285-8bb4-4886-a8fb-0267430bda33",
   "metadata": {},
   "outputs": [
    {
     "name": "stdout",
     "output_type": "stream",
     "text": [
      "Create a tuple of the first 5 prime numbers : (2, 3, 5, 7, 11)\n"
     ]
    }
   ],
   "source": [
    "# Function to check if a number is prime\n",
    "def is_prime_func(num):\n",
    "    if num <= 1:\n",
    "        return False\n",
    "    for i in range(2, int(num ** 0.5) + 1):\n",
    "        if num % i == 0:\n",
    "            return False\n",
    "    return True\n",
    "\n",
    "# Generate the first 5 prime numbers\n",
    "prime_numbers_list = [num for num in range(2, 15) if is_prime_func(num)][:5]\n",
    "# Convert the list to a tuple\n",
    "prime_numbers_tuple = tuple(prime_numbers_list)\n",
    "\n",
    "# Print the tuple of prime numbers\n",
    "print(\"Create a tuple of the first 5 prime numbers :\", prime_numbers_tuple)"
   ]
  },
  {
   "cell_type": "code",
   "execution_count": null,
   "id": "8245c4c5-e573-4bbf-8a70-c3e54686f212",
   "metadata": {},
   "outputs": [],
   "source": []
  },
  {
   "cell_type": "markdown",
   "id": "eacc1f44-3700-4eff-916c-a10ddb88123b",
   "metadata": {},
   "source": [
    "### 33.Check if a tuple is a palindrome."
   ]
  },
  {
   "cell_type": "code",
   "execution_count": 157,
   "id": "a9425838-e3b1-46bc-b601-7edd8bbca602",
   "metadata": {},
   "outputs": [
    {
     "name": "stdout",
     "output_type": "stream",
     "text": [
      "First tuple : (1, 2, 3, 4, 3, 2, 1)\n",
      "Second tuple : (23, 45, 11, 34, 67)\n",
      "A first tuple is a palindrome : True\n",
      "A second tuple is not a palindrome : False\n"
     ]
    }
   ],
   "source": [
    "def tuple_func(palindrome):\n",
    "    return palindrome == palindrome[::-1]\n",
    "    \n",
    "    \n",
    "palin_tuple = (1,2,3,4,3,2,1)\n",
    "unpalin_tuple = (23,45,11,34,67)\n",
    "print(\"First tuple :\",palin_tuple)\n",
    "print(\"Second tuple :\",unpalin_tuple)\n",
    "\n",
    "ispalin = tuple_func(palin_tuple)\n",
    "unpalin = tuple_func(unpalin_tuple)\n",
    "print(\"A first tuple is a palindrome :\",ispalin)\n",
    "print(\"A second tuple is not a palindrome :\",unpalin)"
   ]
  },
  {
   "cell_type": "code",
   "execution_count": null,
   "id": "30a9eee7-6738-492f-8859-20c897abfd2f",
   "metadata": {},
   "outputs": [],
   "source": []
  },
  {
   "cell_type": "markdown",
   "id": "c39b593c-f845-4fdd-bc96-84871a6bcbfe",
   "metadata": {},
   "source": [
    "### 34.Create a tuple of squares of numbers from 1 to 5."
   ]
  },
  {
   "cell_type": "code",
   "execution_count": 158,
   "id": "66c910ad-cdde-460d-9578-a17268cc6894",
   "metadata": {},
   "outputs": [
    {
     "name": "stdout",
     "output_type": "stream",
     "text": [
      "A tuple of numbers from 1 to 5 : (1, 2, 3, 4, 5)\n",
      "A tuple of squares of numbers from 1 to 5 : (1, 4, 9, 16, 25)\n"
     ]
    }
   ],
   "source": [
    "number = tuple(num for num in range(1,6))\n",
    "print(\"A tuple of numbers from 1 to 5 :\",number)\n",
    "square = tuple(i**2 for i in range(1,6))\n",
    "print(\"A tuple of squares of numbers from 1 to 5 :\",square)"
   ]
  },
  {
   "cell_type": "code",
   "execution_count": null,
   "id": "957510a0-0e3b-486c-bafa-a932790c84bc",
   "metadata": {},
   "outputs": [],
   "source": []
  },
  {
   "cell_type": "markdown",
   "id": "4884f126-de47-4c6d-9c67-13dc721227c6",
   "metadata": {},
   "source": [
    "### 35.filter out all even numbers from a tuple."
   ]
  },
  {
   "cell_type": "code",
   "execution_count": 159,
   "id": "bac98f9d-8e5c-4723-9ce2-2c55697cbb61",
   "metadata": {},
   "outputs": [
    {
     "name": "stdout",
     "output_type": "stream",
     "text": [
      "Example of tuple : (12, 23, 45, 11, 67, 88)\n",
      "Filter out all even numbers from a tuple : (12, 88)\n"
     ]
    }
   ],
   "source": [
    "example_tuple = (12,23,45,11,67,88)\n",
    "print(\"Example of tuple :\",example_tuple)\n",
    "even_num = tuple( i for i in example_tuple if i%2==0)\n",
    "print(\"Filter out all even numbers from a tuple :\",even_num)"
   ]
  },
  {
   "cell_type": "code",
   "execution_count": null,
   "id": "9a7a0bf6-a570-48cf-bca3-50ada49ada66",
   "metadata": {},
   "outputs": [],
   "source": []
  },
  {
   "cell_type": "markdown",
   "id": "7ef14789-f2fb-43b0-94b3-8aeb7dc667dd",
   "metadata": {},
   "source": [
    "### 36.Multiply all elements in a tuple by 2."
   ]
  },
  {
   "cell_type": "code",
   "execution_count": 160,
   "id": "3639b701-f31c-4e3e-ba56-40450cac7be0",
   "metadata": {},
   "outputs": [
    {
     "name": "stdout",
     "output_type": "stream",
     "text": [
      "Example of tuple : (7, 14, 21)\n",
      "Multiply all elements in a tuple by 2 : (14, 28, 42)\n"
     ]
    }
   ],
   "source": [
    "example_tuple = (7,14,21)\n",
    "print(\"Example of tuple :\",example_tuple)\n",
    "mul_element = tuple(i*2 for i in example_tuple)\n",
    "print(\"Multiply all elements in a tuple by 2 :\",mul_element)"
   ]
  },
  {
   "cell_type": "code",
   "execution_count": null,
   "id": "fc0524d3-1437-4cfa-805a-493ad52c8d72",
   "metadata": {},
   "outputs": [],
   "source": []
  },
  {
   "cell_type": "markdown",
   "id": "9f562762-816b-4e50-a8a2-8ddb36f85383",
   "metadata": {},
   "source": [
    "### 37.Create a tuple of random numbers."
   ]
  },
  {
   "cell_type": "code",
   "execution_count": 161,
   "id": "b4665b07-fa87-4da6-99b6-c208cb93936b",
   "metadata": {},
   "outputs": [
    {
     "name": "stdout",
     "output_type": "stream",
     "text": [
      "A tuple of random numbers : (742, 99, 536, 915, 609, 441, 322, 346, 859, 908, 924, 379, 704, 388, 785, 746, 895, 360, 763, 382)\n"
     ]
    }
   ],
   "source": [
    "import random\n",
    "random_num = tuple(random.randint(1,1000) for i in range(20))\n",
    "print(\"A tuple of random numbers :\",random_num)"
   ]
  },
  {
   "cell_type": "code",
   "execution_count": null,
   "id": "c26ccf27-f71f-4468-b2ce-a180cc7d5865",
   "metadata": {},
   "outputs": [],
   "source": []
  },
  {
   "cell_type": "markdown",
   "id": "13327f01-8f2a-454c-875b-ffaaf4bfd6f9",
   "metadata": {},
   "source": [
    "### 38.Check if a tuple is sorted."
   ]
  },
  {
   "cell_type": "code",
   "execution_count": 162,
   "id": "a6fdae51-d4f2-41fa-812d-03ccee56b123",
   "metadata": {},
   "outputs": [
    {
     "name": "stdout",
     "output_type": "stream",
     "text": [
      "Sorted tuple : (6, 7, 8, 9, 10)\n",
      "Unsorted tuple : (9, 6, 7, 10, 8)\n",
      "Check if a tuple is sorted\n",
      "Sorted_tuple is sorted : True\n",
      "Unsorted_tuple is sorted : False\n"
     ]
    }
   ],
   "source": [
    "# Function to check if a tuple is sorted\n",
    "def is_sorted_func(tup):\n",
    "    for i in range(len(tup) - 1):\n",
    "        if tup[i] > tup[i + 1]:\n",
    "            return False\n",
    "    return True\n",
    "\n",
    "# Create tuples for testing\n",
    "sorted_tuple = (6,7,8,9,10)\n",
    "unsorted_tuple = (9,6,7,10,8)\n",
    "print(\"Sorted tuple :\",sorted_tuple)\n",
    "print(\"Unsorted tuple :\",unsorted_tuple)\n",
    "\n",
    "# Check if the tuples are sorted\n",
    "sorted_1 = is_sorted_func(sorted_tuple)\n",
    "sorted_2 = is_sorted_func(unsorted_tuple)\n",
    "\n",
    "print(\"Check if a tuple is sorted\")\n",
    "print(\"Sorted_tuple is sorted :\", sorted_1)\n",
    "print(\"Unsorted_tuple is sorted :\", sorted_2)"
   ]
  },
  {
   "cell_type": "code",
   "execution_count": null,
   "id": "0f1f29c2-b5bd-4723-a84e-cb69f7461ede",
   "metadata": {},
   "outputs": [],
   "source": []
  },
  {
   "cell_type": "markdown",
   "id": "0c6ddc15-20af-47d7-b1f2-2465fd13a3d7",
   "metadata": {},
   "source": [
    "### 39.Rotate a tuple to the left by 'n' positions."
   ]
  },
  {
   "cell_type": "code",
   "execution_count": 163,
   "id": "671cb7c1-86f6-462c-9ab4-6df1d09fe825",
   "metadata": {},
   "outputs": [
    {
     "name": "stdout",
     "output_type": "stream",
     "text": [
      "Example tuple : (10, 20, 30, 40, 50)\n",
      "Rotate a list to the left by 2 position is (30, 40, 50, 10, 20) \n"
     ]
    }
   ],
   "source": [
    "\n",
    "def rotate_fun(l,n):\n",
    "    return tuple((l[n:])) + l[:n]\n",
    "\n",
    "example_tuple = (10,20,30,40,50)\n",
    "print(\"Example tuple :\",example_tuple)\n",
    "\n",
    "rotated_tuple = tuple(rotate_fun(example_tuple,2))\n",
    "print(f\"Rotate a list to the left by 2 position is {rotated_tuple} \")"
   ]
  },
  {
   "cell_type": "code",
   "execution_count": null,
   "id": "8d9770d0-c8b0-466f-b074-e198c4bd78bd",
   "metadata": {},
   "outputs": [],
   "source": []
  },
  {
   "cell_type": "markdown",
   "id": "bcdc63f6-60cb-4ec3-b1e9-731868c24b9c",
   "metadata": {},
   "source": [
    "### 40.Rotate a tuple to the right by 'n' poisitions."
   ]
  },
  {
   "cell_type": "code",
   "execution_count": 164,
   "id": "bf2f5443-2c63-44d4-b6e8-bb5899368b0e",
   "metadata": {},
   "outputs": [
    {
     "name": "stdout",
     "output_type": "stream",
     "text": [
      "Example tuple : (10, 20, 30, 40, 50)\n",
      "Rotate a list to the Right by 2 position is (40, 50, 10, 20, 30) \n"
     ]
    }
   ],
   "source": [
    "def rotate_fun(l,n):\n",
    "    return tuple((l[-n:])) + l[:-n]\n",
    "\n",
    "example_tuple = (10,20,30,40,50)\n",
    "print(\"Example tuple :\",example_tuple)\n",
    "\n",
    "rotated_tuple = tuple(rotate_fun(example_tuple,2))\n",
    "print(f\"Rotate a list to the Right by 2 position is {rotated_tuple} \")"
   ]
  },
  {
   "cell_type": "code",
   "execution_count": null,
   "id": "bfb9f0d0-7dcd-493f-a795-81a5d08ef064",
   "metadata": {},
   "outputs": [],
   "source": []
  },
  {
   "cell_type": "markdown",
   "id": "6211742f-edc6-4e49-95b2-f03330e18bda",
   "metadata": {},
   "source": [
    "### 41.Create a tuple of the first 5 fibnonacci numbers."
   ]
  },
  {
   "cell_type": "code",
   "execution_count": 165,
   "id": "01108f8a-91ae-42a6-b955-9699c208bafb",
   "metadata": {},
   "outputs": [
    {
     "name": "stdout",
     "output_type": "stream",
     "text": [
      "A tuple of the first 5 fibnonacci numbers : (0, 1, 1, 2, 3)\n"
     ]
    }
   ],
   "source": [
    "# Define a function to generate the first n Fibonacci numbers\n",
    "def generate_fibonacci_func(n):\n",
    "    fibonacci = [0, 1]           # Initialize the list with the first two Fibonacci numbers\n",
    "    while len(fibonacci) < n:           # Continue generating Fibonacci numbers until the list has n elements\n",
    "        next_number = fibonacci[-1] + fibonacci[-2]        # Calculate the next Fibonacci number\n",
    "        fibonacci.append(next_number)         # Add the next Fibonacci number to the list\n",
    "    return tuple(fibonacci)             # Convert the list to a tuple and return it\n",
    "\n",
    "# Call the generate_fibonacci function to create a tuple of the first 5 Fibonacci numbers\n",
    "fibonacci_tuple = generate_fibonacci_func(5)\n",
    "\n",
    "# Print the resulting tuple\n",
    "print(\"A tuple of the first 5 fibnonacci numbers :\",fibonacci_tuple)"
   ]
  },
  {
   "cell_type": "code",
   "execution_count": null,
   "id": "dc8a5fe4-f873-426f-9591-51a9c4872bbc",
   "metadata": {},
   "outputs": [],
   "source": []
  },
  {
   "cell_type": "markdown",
   "id": "957909c2-a1cd-48b6-bf74-4fb226f41cd7",
   "metadata": {},
   "source": [
    "### 42.Create a tuple from user input."
   ]
  },
  {
   "cell_type": "code",
   "execution_count": 166,
   "id": "0e1a85c7-b785-4a0f-a52b-00d18af101bc",
   "metadata": {},
   "outputs": [
    {
     "name": "stdin",
     "output_type": "stream",
     "text": [
      "enter a user input 12,45\n"
     ]
    },
    {
     "name": "stdout",
     "output_type": "stream",
     "text": [
      "A tuple from user input  ('1', '2', ',', '4', '5')\n"
     ]
    }
   ],
   "source": [
    "user_input = tuple(input(\"enter a user input\"))\n",
    "print(\"A tuple from user input \",user_input)"
   ]
  },
  {
   "cell_type": "code",
   "execution_count": null,
   "id": "805b887d-324d-4cd8-867f-ca2d3559c064",
   "metadata": {},
   "outputs": [],
   "source": []
  },
  {
   "cell_type": "markdown",
   "id": "c189c286-2b01-4fd2-ba4b-31e3fbbd4496",
   "metadata": {},
   "source": [
    "### 43.Swap two elements in a tuple."
   ]
  },
  {
   "cell_type": "code",
   "execution_count": 167,
   "id": "94555349-a65b-4ae4-bd69-4852648fedf9",
   "metadata": {},
   "outputs": [
    {
     "name": "stdout",
     "output_type": "stream",
     "text": [
      "Example tuple : (1, 2, 3, 4, 5)\n",
      "Swap two elements in a tuple \n",
      "Swapped elements in a tuple : (1, 4, 3, 2, 5)\n"
     ]
    }
   ],
   "source": [
    "_tuple = (1,2,3,4,5)\n",
    "print(\"Example tuple :\",_tuple)\n",
    "index1 = 1\n",
    "index2 = 3\n",
    "\n",
    "print(\"Swap two elements in a tuple \")\n",
    "\n",
    "swap_element = tuple(\n",
    "    _tuple[i] if i not in (index1,index2) else\n",
    "    _tuple[index2] if i == index1 else \n",
    "    _tuple[index1]\n",
    "    for i in range(len(_tuple))\n",
    ")\n",
    "print(\"Swapped elements in a tuple :\",swap_element)"
   ]
  },
  {
   "cell_type": "code",
   "execution_count": null,
   "id": "ada9b27d-c0b9-4e0d-88cd-e16a13580118",
   "metadata": {},
   "outputs": [],
   "source": []
  },
  {
   "cell_type": "markdown",
   "id": "0880367b-32ef-47fd-93b1-52ade99284c4",
   "metadata": {},
   "source": [
    "### 44.Reverse the elements of a tuple."
   ]
  },
  {
   "cell_type": "code",
   "execution_count": 168,
   "id": "91113740-5fc9-4d66-ae7e-8ba64bfac117",
   "metadata": {},
   "outputs": [
    {
     "name": "stdout",
     "output_type": "stream",
     "text": [
      "Example of tuple : (15, 30, 45, 60, 75, 90, 105, 120)\n",
      "Reverse the elements of a tuple : (120, 105, 90, 75, 60, 45, 30, 15)\n"
     ]
    }
   ],
   "source": [
    "example_tuple = (15,30,45,60,75,90,105,120)\n",
    "print(\"Example of tuple :\",example_tuple)\n",
    "reverse_element = tuple(example_tuple[::-1])\n",
    "print(\"Reverse the elements of a tuple :\",reverse_element)\n",
    "                 "
   ]
  },
  {
   "cell_type": "code",
   "execution_count": null,
   "id": "82316ffe-51de-46b9-90db-98ef94f7426a",
   "metadata": {},
   "outputs": [],
   "source": []
  },
  {
   "cell_type": "markdown",
   "id": "2e5592ec-cbbc-4b9b-b2af-0c8f9b66381f",
   "metadata": {},
   "source": [
    "### 45.Create a tuple of the first 'n' powers of 2."
   ]
  },
  {
   "cell_type": "code",
   "execution_count": 169,
   "id": "4a8f4a44-1734-433e-9e09-b6bcdea913f9",
   "metadata": {},
   "outputs": [
    {
     "name": "stdout",
     "output_type": "stream",
     "text": [
      "A tuple of first 10 number : (1, 2, 3, 4, 5, 6, 7, 8, 9, 10)\n",
      "Created a tuple of the first '10' power of 2 : (2, 4, 8, 16, 32, 64, 128, 256, 512, 1024)\n"
     ]
    }
   ],
   "source": [
    "num = 10\n",
    "print(f\"A tuple of first {num} number :\",tuple(range(1,num+1)))\n",
    "tuple_power = tuple(2**i for i in range(1,num+1))\n",
    "print(f\"Created a tuple of the first '{num}' power of 2 :\",tuple_power) "
   ]
  },
  {
   "cell_type": "code",
   "execution_count": null,
   "id": "509406a1-bda1-4183-9a83-e3b53bd66388",
   "metadata": {},
   "outputs": [],
   "source": []
  },
  {
   "cell_type": "markdown",
   "id": "eb33f8d6-9c8a-4f36-80ea-3897bc528ab9",
   "metadata": {},
   "source": [
    "### 46.Find the longest string in a tuple of strings."
   ]
  },
  {
   "cell_type": "code",
   "execution_count": 170,
   "id": "2a1961b2-7d98-45fc-831d-bd1bd604aac7",
   "metadata": {},
   "outputs": [
    {
     "name": "stdout",
     "output_type": "stream",
     "text": [
      "Tuple of strings : ('carrom board', 'chess', 'ludo')\n",
      "The longest string in a tuple of string : carrom board\n"
     ]
    }
   ],
   "source": [
    "tuple_of_string = (\"carrom board\",\"chess\",\"ludo\")\n",
    "print(\"Tuple of strings :\",tuple_of_string)\n",
    "longest_string = max(tuple_of_string, key = len)\n",
    "print(\"The longest string in a tuple of string :\",longest_string)"
   ]
  },
  {
   "cell_type": "code",
   "execution_count": null,
   "id": "63495c68-006b-419c-ae53-058c74af1fe3",
   "metadata": {},
   "outputs": [],
   "source": []
  },
  {
   "cell_type": "markdown",
   "id": "985bf559-40cb-471b-bf75-fc4fa7e03464",
   "metadata": {},
   "source": [
    "### 47.Find the shortest string in a tuple of strings."
   ]
  },
  {
   "cell_type": "code",
   "execution_count": 171,
   "id": "6fa6d94d-466f-4f19-a5f0-87d4b36b8529",
   "metadata": {},
   "outputs": [
    {
     "name": "stdout",
     "output_type": "stream",
     "text": [
      "Tuple of string : ('chess', 'carrom board', 'ludo')\n",
      "The shortest string in a tuple of strings : ludo\n"
     ]
    }
   ],
   "source": [
    "tuple_of_string = (\"chess\",\"carrom board\",\"ludo\")\n",
    "print(\"Tuple of string :\",tuple_of_string)\n",
    "shortest_string = min(tuple_of_string,key = len)\n",
    "print(\"The shortest string in a tuple of strings :\",shortest_string)"
   ]
  },
  {
   "cell_type": "code",
   "execution_count": null,
   "id": "f083e5c7-f1f7-498f-952f-3568790f3546",
   "metadata": {},
   "outputs": [],
   "source": []
  },
  {
   "cell_type": "markdown",
   "id": "17be16b3-1cd4-4add-b2a9-e534a38db34a",
   "metadata": {},
   "source": [
    "### 48.Create a tuple of the first 'n' triangular numbers."
   ]
  },
  {
   "cell_type": "code",
   "execution_count": 172,
   "id": "c6ccc033-73be-4569-9393-686b6c42047c",
   "metadata": {},
   "outputs": [
    {
     "name": "stdout",
     "output_type": "stream",
     "text": [
      "A number : 5\n",
      "Create a tuple of first 5 triangular numbers : (1, 3, 6, 10, 15)\n"
     ]
    }
   ],
   "source": [
    "n = 5\n",
    "print(\"A number :\",n)\n",
    "triangular_number_tuple = tuple(( i * (i+1)//2) for i in range(1, n+1))\n",
    "print(f\"Create a tuple of first {n} triangular numbers :\",triangular_number_tuple)                          "
   ]
  },
  {
   "cell_type": "code",
   "execution_count": null,
   "id": "767a5ccd-c3fa-4a30-b759-4883cae694b8",
   "metadata": {},
   "outputs": [],
   "source": []
  },
  {
   "cell_type": "markdown",
   "id": "542fe9b9-9ecc-47c4-b915-a5b74e8481bf",
   "metadata": {},
   "source": [
    "### 49.Check if a tuple contains another tuples as a subsequence."
   ]
  },
  {
   "cell_type": "code",
   "execution_count": 173,
   "id": "599423de-58b6-45a3-8f14-3642a55e7d8f",
   "metadata": {},
   "outputs": [
    {
     "name": "stdout",
     "output_type": "stream",
     "text": [
      "Tuple 1 : (1, 2, 3, 4, 5, 6)\n",
      "Tuple 2 : (3, 4, 5)\n",
      "Check if tuple contains another tuples as a subsequence \n",
      "Yes, Tuple1 contains tuple2 as a subsequence\n"
     ]
    }
   ],
   "source": [
    "def sub_tuple_func(tuple1, tuple2):\n",
    "    sub_length = len(tuple2)\n",
    "    for i in range(len(tuple1) - sub_length  + 1) :\n",
    "        if tuple1[ i : i + sub_length ]== tuple2 :\n",
    "            return True\n",
    "    return False\n",
    "\n",
    "\n",
    "\n",
    "\n",
    "tuple1 = (1,2,3,4,5,6)\n",
    "tuple2 = (3,4,5)\n",
    "\n",
    "print(\"Tuple 1 :\",tuple1)\n",
    "print(\"Tuple 2 :\",tuple2)\n",
    "print(\"Check if tuple contains another tuples as a subsequence \")\n",
    "check_subseq = sub_tuple_func(tuple1, tuple2)\n",
    "if check_subseq :\n",
    "    print(\"Yes, Tuple1 contains tuple2 as a subsequence\")\n",
    "else :\n",
    "    print(\"No, Tuple1 doesn't contain tuple2 as a subsequence\")"
   ]
  },
  {
   "cell_type": "code",
   "execution_count": null,
   "id": "76fce13a-10e2-4b31-9301-945564112cf9",
   "metadata": {},
   "outputs": [],
   "source": []
  },
  {
   "cell_type": "markdown",
   "id": "a8d73166-c5ac-43d2-9743-d594a536ce1c",
   "metadata": {},
   "source": [
    "### 50.Create a tuple of alternating 1s and 0s of length 'n'."
   ]
  },
  {
   "cell_type": "code",
   "execution_count": 174,
   "id": "f08bf9b7-288a-43f3-ac23-1c956524fb34",
   "metadata": {},
   "outputs": [
    {
     "name": "stdout",
     "output_type": "stream",
     "text": [
      "Length of 1s and 0s : (0, 1, 2, 3, 4, 5, 6, 7, 8, 9, 10)\n",
      "Creates a tuple of alternating 1s and 0s of length 10 : (0, 1, 0, 1, 0, 1, 0, 1, 0, 1, 0)\n"
     ]
    }
   ],
   "source": [
    "n = 10\n",
    "print(\"Length of 1s and 0s :\",tuple(range(0,n+1)))\n",
    "alternate_tuple = tuple( i%2 for i in range(n+1))\n",
    "print(f\"Creates a tuple of alternating 1s and 0s of length {n} :\",alternate_tuple)"
   ]
  },
  {
   "cell_type": "code",
   "execution_count": null,
   "id": "33bd85f1-d3b2-4524-b484-b8062edc2da2",
   "metadata": {},
   "outputs": [],
   "source": []
  },
  {
   "cell_type": "code",
   "execution_count": null,
   "id": "4e233ecd-44e8-42ed-bbc6-a00f20492ece",
   "metadata": {},
   "outputs": [],
   "source": []
  },
  {
   "cell_type": "markdown",
   "id": "b881d9b2-d035-4ddf-8f05-36c62e153e59",
   "metadata": {},
   "source": [
    "## **Set Based Practice Problem :**\n",
    "---"
   ]
  },
  {
   "cell_type": "markdown",
   "id": "3faef77c-78ca-4db0-af12-7db08a7cc832",
   "metadata": {},
   "source": [
    "### 1.Create a set with integers from 1 to 5."
   ]
  },
  {
   "cell_type": "code",
   "execution_count": 175,
   "id": "0f562dbb-27d2-4e0b-bef3-a5d1e9577c35",
   "metadata": {},
   "outputs": [
    {
     "name": "stdout",
     "output_type": "stream",
     "text": [
      "A set with integers from 1 to 5 : {1, 2, 3, 4, 5}\n"
     ]
    }
   ],
   "source": [
    "s = set(range(1,6))\n",
    "print(\"A set with integers from 1 to 5 :\",s)"
   ]
  },
  {
   "cell_type": "code",
   "execution_count": null,
   "id": "4e664b94-9df1-4ff0-8ff3-4182142e0295",
   "metadata": {},
   "outputs": [],
   "source": []
  },
  {
   "cell_type": "markdown",
   "id": "4e71820a-2a7d-4079-99da-addd577aefef",
   "metadata": {},
   "source": [
    "### 2.Adda an element to a set."
   ]
  },
  {
   "cell_type": "code",
   "execution_count": 176,
   "id": "37c6dd6b-e56d-4e1b-a529-4648eeff4a6c",
   "metadata": {},
   "outputs": [
    {
     "name": "stdout",
     "output_type": "stream",
     "text": [
      "A set : {16, 11, 19, 13}\n",
      "Add an element : 23\n",
      "Add an element to a set : {11, 13, 16, 19, 23}\n"
     ]
    }
   ],
   "source": [
    "example_of_set = {11,13,16,19}\n",
    "print(\"A set :\",example_of_set)\n",
    "add_element =23\n",
    "print(\"Add an element :\",add_element)\n",
    "example_of_set.add(add_element)\n",
    "print(\"Add an element to a set :\",example_of_set)"
   ]
  },
  {
   "cell_type": "code",
   "execution_count": null,
   "id": "05f2c68e-5f99-404f-a4c0-fd2aa56c14ed",
   "metadata": {},
   "outputs": [],
   "source": []
  },
  {
   "cell_type": "markdown",
   "id": "fe8ed3d3-d816-4621-a4a4-222bd5ff2288",
   "metadata": {},
   "source": [
    "### 3.Remove an element from a set."
   ]
  },
  {
   "cell_type": "code",
   "execution_count": 177,
   "id": "4555a8f9-889b-4d18-b219-04cddd504f8f",
   "metadata": {},
   "outputs": [
    {
     "name": "stdout",
     "output_type": "stream",
     "text": [
      "Example of set : {1, 2, 3, 4, 5, 6, 7, 8, 9}\n",
      "Remove element from set : 6\n",
      "Remove an element from a set : {1, 2, 3, 4, 5, 7, 8, 9}\n"
     ]
    }
   ],
   "source": [
    "example_of_set = {1,2,3,4,5,6,7,8,9}\n",
    "print(\"Example of set :\",example_of_set)\n",
    "remove_element = 6\n",
    "print(\"Remove element from set :\",remove_element)\n",
    "example_of_set.remove(remove_element)\n",
    "print(\"Remove an element from a set :\",example_of_set)"
   ]
  },
  {
   "cell_type": "code",
   "execution_count": null,
   "id": "1405c0d3-990e-4f78-97a6-49b9087442d6",
   "metadata": {},
   "outputs": [],
   "source": []
  },
  {
   "cell_type": "markdown",
   "id": "7b5fcb77-e61e-41fb-ae7f-2a64d18a98d1",
   "metadata": {},
   "source": [
    "### 4.Check if an element exists in a set."
   ]
  },
  {
   "cell_type": "code",
   "execution_count": 178,
   "id": "a696657b-7705-442c-bc8b-4410fea26875",
   "metadata": {},
   "outputs": [
    {
     "name": "stdout",
     "output_type": "stream",
     "text": [
      "Example set : {1, 3, 5, 6, 7, 9, 12, 78, 20, 90}\n"
     ]
    },
    {
     "name": "stdin",
     "output_type": "stream",
     "text": [
      "Enter the element to check:  12\n"
     ]
    },
    {
     "name": "stdout",
     "output_type": "stream",
     "text": [
      "12 exists in the set.\n"
     ]
    }
   ],
   "source": [
    "# Step 1: Create a set with some elements\n",
    "example_set = {1,90,20,6,12,78,3,5,7,9}\n",
    "print(\"Example set :\",example_set)\n",
    "# Step 2: Ask the user for the element they want to check\n",
    "element_to_check = int(input(\"Enter the element to check: \"))\n",
    "\n",
    "# Step 3: Use the \"in\" keyword to check if the element exists in the set\n",
    "if element_to_check in example_set:\n",
    "    # Step 4: If the element exists in the set, print a message\n",
    "    print(f\"{element_to_check} exists in the set.\")\n",
    "else:\n",
    "    # Step 5: If the element does not exist in the set, print a message\n",
    "    print(f\"{element_to_check} does not exist in the set.\")"
   ]
  },
  {
   "cell_type": "code",
   "execution_count": null,
   "id": "f71a7b03-75b8-44a5-8f13-862024976c29",
   "metadata": {},
   "outputs": [],
   "source": []
  },
  {
   "cell_type": "markdown",
   "id": "1952dae3-1c43-4a03-acfa-c8c760a8fd1c",
   "metadata": {},
   "source": [
    "### 5.Find the length of a set without using the 'len()' function."
   ]
  },
  {
   "cell_type": "code",
   "execution_count": 179,
   "id": "0198578c-29c9-464d-8f7b-08ae556d2a47",
   "metadata": {},
   "outputs": [
    {
     "name": "stdout",
     "output_type": "stream",
     "text": [
      "A example of set : {1, 2, 3, 4, 5, 7}\n",
      "The length of a set without using the len() function : 6\n"
     ]
    }
   ],
   "source": [
    "example_of_set = {1,2,3,4,5,7}\n",
    "print(\"A example of set :\",example_of_set)\n",
    "length = 0\n",
    "for i in example_of_set:\n",
    "    length +=1\n",
    "print(\"The length of a set without using the len() function :\",length)"
   ]
  },
  {
   "cell_type": "code",
   "execution_count": null,
   "id": "cd29e712-5572-49d7-8d85-0e8706246002",
   "metadata": {},
   "outputs": [],
   "source": []
  },
  {
   "cell_type": "markdown",
   "id": "36716143-715c-4c0c-bd5d-4b8dc3da58f7",
   "metadata": {},
   "source": [
    "### 6.Clear all elements from a set."
   ]
  },
  {
   "cell_type": "code",
   "execution_count": 180,
   "id": "aa606fcb-90bd-4e0d-9aac-b6c033d6aab7",
   "metadata": {},
   "outputs": [
    {
     "name": "stdout",
     "output_type": "stream",
     "text": [
      "Example of set : {50, 20, 40, 10, 30}\n",
      "Clear all element from an example of set : set()\n"
     ]
    }
   ],
   "source": [
    "example_of_set = {10,20,30,40,50}\n",
    "print(\"Example of set :\",example_of_set)\n",
    "example_of_set.clear()\n",
    "print(\"Clear all element from an example of set :\",example_of_set)"
   ]
  },
  {
   "cell_type": "code",
   "execution_count": null,
   "id": "e1f4996f-b587-47d8-bd52-b50b8a5ed7df",
   "metadata": {},
   "outputs": [],
   "source": []
  },
  {
   "cell_type": "markdown",
   "id": "ae126537-6ffd-423e-a39d-c9b5e3666079",
   "metadata": {},
   "source": [
    "### 7.Create a set of even numbers from 1 to 10."
   ]
  },
  {
   "cell_type": "code",
   "execution_count": 181,
   "id": "2800d42d-ac09-4065-90c9-fb34f56fe8be",
   "metadata": {},
   "outputs": [
    {
     "name": "stdout",
     "output_type": "stream",
     "text": [
      "A set of even numbers from 1 to 10 : {2, 4, 6, 8, 10}\n"
     ]
    }
   ],
   "source": [
    "even_number_set = set(i for i in range(1,11) if i%2 == 0 )\n",
    "print(\"A set of even numbers from 1 to 10 :\",even_number_set)"
   ]
  },
  {
   "cell_type": "code",
   "execution_count": null,
   "id": "2b7747c7-c84e-4ecd-8fa8-b0b312ab3228",
   "metadata": {},
   "outputs": [],
   "source": []
  },
  {
   "cell_type": "markdown",
   "id": "6438db7d-3fbc-4940-bd42-11018e3f6fe6",
   "metadata": {},
   "source": [
    "### 8.Create a set of odd numbers from 1 to 10."
   ]
  },
  {
   "cell_type": "code",
   "execution_count": 182,
   "id": "b8f0b7d2-26dd-420e-8307-c745680122dd",
   "metadata": {},
   "outputs": [
    {
     "name": "stdout",
     "output_type": "stream",
     "text": [
      "A set of odd numbers from 1 to 10 : {1, 3, 5, 7, 9}\n"
     ]
    }
   ],
   "source": [
    "odd_number_set = set(i for i in range(1,11) if i%2 !=0)\n",
    "print(\"A set of odd numbers from 1 to 10 :\",odd_number_set)"
   ]
  },
  {
   "cell_type": "markdown",
   "id": "df261418-49dc-4daf-a25c-cc2d6fb0ad90",
   "metadata": {},
   "source": [
    "### 9.Find the union of two sets."
   ]
  },
  {
   "cell_type": "code",
   "execution_count": 183,
   "id": "b13d6de9-60bf-4c7b-9640-96558e1aa21c",
   "metadata": {},
   "outputs": [
    {
     "name": "stdout",
     "output_type": "stream",
     "text": [
      "First set : {1, 2, 3, 4, 5}\n",
      "Second set : {6, 7, 8, 9, 10}\n",
      "The union of two sets : {1, 2, 3, 4, 5, 6, 7, 8, 9, 10}\n"
     ]
    }
   ],
   "source": [
    "s1 = {1,2,3,4,5}\n",
    "s2 = {6,7,8,9,10}\n",
    "print(\"First set :\",s1)\n",
    "print(\"Second set :\",s2)\n",
    "union_set = s1.union(s2)\n",
    "print(\"The union of two sets :\",union_set)"
   ]
  },
  {
   "cell_type": "code",
   "execution_count": null,
   "id": "d899c39b-d572-4d2b-a876-4f73a5b48697",
   "metadata": {},
   "outputs": [],
   "source": []
  },
  {
   "cell_type": "markdown",
   "id": "31dc3b95-60b7-4295-a794-32b2ab6f5943",
   "metadata": {},
   "source": [
    "### 10.Find the intersection of two sets."
   ]
  },
  {
   "cell_type": "code",
   "execution_count": 184,
   "id": "4831fd3f-94ac-4b45-8b64-adab330bfda1",
   "metadata": {},
   "outputs": [
    {
     "name": "stdout",
     "output_type": "stream",
     "text": [
      "First set : {1, 2, 3, 4}\n",
      "Second set : {2, 3, 4, 5, 6}\n",
      "The intersection of two sets : {2, 3, 4}\n"
     ]
    }
   ],
   "source": [
    "s1 = {1,2,3,4}\n",
    "s2 ={2,3,4,5,6}\n",
    "print(\"First set :\",s1)\n",
    "print(\"Second set :\",s2)\n",
    "intersection_set = s1.intersection(s2)\n",
    "print(\"The intersection of two sets :\",intersection_set)"
   ]
  },
  {
   "cell_type": "code",
   "execution_count": null,
   "id": "dab0e693-a57b-4b4c-b48d-caf9b3e5730f",
   "metadata": {},
   "outputs": [],
   "source": []
  },
  {
   "cell_type": "markdown",
   "id": "a959cc11-2a1e-448f-9fe2-66de17078105",
   "metadata": {},
   "source": [
    "### 11.Find the difference between two sets."
   ]
  },
  {
   "cell_type": "code",
   "execution_count": 185,
   "id": "64aa9e20-1c2c-4ee3-a25c-7d45532bdbd1",
   "metadata": {},
   "outputs": [
    {
     "name": "stdout",
     "output_type": "stream",
     "text": [
      "First set : {1, 2, 3, 4, 5, 6, 7, 8}\n",
      "Second set : {4, 5, 6, 7, 8, 9, 10, 12}\n",
      "The difference between two sets : {1, 2, 3}\n"
     ]
    }
   ],
   "source": [
    "s1 = {1,2,3,4,5,6,7,8}\n",
    "s2 = {4,5,6,7,8,9,10,12}\n",
    "print(\"First set :\",s1)\n",
    "print(\"Second set :\",s2)\n",
    "difference_set = s1.difference(s2)\n",
    "print(\"The difference between two sets :\",difference_set)"
   ]
  },
  {
   "cell_type": "code",
   "execution_count": null,
   "id": "7277ecbf-c45c-4f32-b693-17be8cd5d268",
   "metadata": {},
   "outputs": [],
   "source": []
  },
  {
   "cell_type": "markdown",
   "id": "7549bc3e-1327-412d-9ac5-4bfcf851bbc0",
   "metadata": {},
   "source": [
    "### 12.Check if a set is a subset of another set."
   ]
  },
  {
   "cell_type": "code",
   "execution_count": 186,
   "id": "536de7e7-3de4-49b4-847d-ac84eb9b6003",
   "metadata": {},
   "outputs": [
    {
     "name": "stdout",
     "output_type": "stream",
     "text": [
      "First set : {5, 6, 7, 8, 9}\n",
      "Second set : {5, 6, 7, 8, 9, 10, 11, 12}\n",
      "Yes, a set s1 {5, 6, 7, 8, 9} is a subset of s2 {5, 6, 7, 8, 9, 10, 11, 12} \n"
     ]
    }
   ],
   "source": [
    "s1 = {5,6,7,8,9}\n",
    "s2 = {5,6,7,8,9,10,11,12}\n",
    "print(\"First set :\",s1)\n",
    "print(\"Second set :\",s2)\n",
    "subset = s1.issubset(s2)\n",
    "if subset :\n",
    "    print(f\"Yes, a set s1 {s1} is a subset of s2 {s2} \")\n",
    "else :\n",
    "    print(f\"No, a set s1 {s1} is not a subset of s2{s2}\")"
   ]
  },
  {
   "cell_type": "code",
   "execution_count": null,
   "id": "966b99e2-039a-4517-916d-dfd65865b82d",
   "metadata": {},
   "outputs": [],
   "source": []
  },
  {
   "cell_type": "markdown",
   "id": "c6f2b99e-6332-4afa-a6dc-1e7decd86e23",
   "metadata": {},
   "source": [
    "### 13.Check if a set is a superset of another set."
   ]
  },
  {
   "cell_type": "code",
   "execution_count": 187,
   "id": "e876412b-4d7b-4073-9740-d20b6858e9bb",
   "metadata": {},
   "outputs": [
    {
     "name": "stdout",
     "output_type": "stream",
     "text": [
      "First set : {1, 2, 3, 4, 5, 6}\n",
      "Second set : {2, 3, 4}\n",
      "Yes, a set s1 {1, 2, 3, 4, 5, 6} is a superset of s2 {2, 3, 4} \n"
     ]
    }
   ],
   "source": [
    "s1 = {1,2,3,4,5,6}\n",
    "s2 = {2,3,4}\n",
    "print(\"First set :\",s1)\n",
    "print(\"Second set :\",s2)\n",
    "superset = s1.issuperset(s2)\n",
    "if superset:\n",
    "    print(f\"Yes, a set s1 {s1} is a superset of s2 {s2} \")\n",
    "else :\n",
    "    print(f\"No, a set s1 {s1} is not a superset of s2 {s2} \")"
   ]
  },
  {
   "cell_type": "code",
   "execution_count": null,
   "id": "3d87a7a3-6e7f-4fb9-b26d-75b802a86f13",
   "metadata": {},
   "outputs": [],
   "source": []
  },
  {
   "cell_type": "markdown",
   "id": "2963c96c-d47b-4b6a-a59d-97495d73d750",
   "metadata": {},
   "source": [
    "### 14.Create a set from a list."
   ]
  },
  {
   "cell_type": "code",
   "execution_count": 188,
   "id": "906cca5e-7f77-4b7b-a026-1d075e255687",
   "metadata": {},
   "outputs": [
    {
     "name": "stdout",
     "output_type": "stream",
     "text": [
      "An Example list : [2, 3, 4, 5, 9]\n",
      "Created a set from a list : {2, 3, 4, 5, 9}\n"
     ]
    }
   ],
   "source": [
    "example_list = [2,3,4,5,9]\n",
    "print(\"An Example list :\",example_list)\n",
    "a_set = set(example_list)\n",
    "print(\"Created a set from a list :\",a_set)"
   ]
  },
  {
   "cell_type": "code",
   "execution_count": null,
   "id": "5ca1e4b8-b3de-4a5f-a7e4-426f17be42bb",
   "metadata": {},
   "outputs": [],
   "source": []
  },
  {
   "cell_type": "markdown",
   "id": "2a804e12-404a-40d6-817e-4032c474a3d1",
   "metadata": {},
   "source": [
    "### 15.Convert a set to a list."
   ]
  },
  {
   "cell_type": "code",
   "execution_count": 189,
   "id": "b6389d2c-8f62-4227-a270-148cf1a849ce",
   "metadata": {},
   "outputs": [
    {
     "name": "stdout",
     "output_type": "stream",
     "text": [
      "A set : {1, 2, 4, 5, 7, 8, 9}\n",
      "Convert a set to a list : [1, 2, 4, 5, 7, 8, 9]\n"
     ]
    }
   ],
   "source": [
    "a_set = {1,2,4,5,7,8,9}\n",
    "print(\"A set :\",a_set)\n",
    "set_to_list = list(a_set)\n",
    "print(\"Convert a set to a list :\",set_to_list)"
   ]
  },
  {
   "cell_type": "code",
   "execution_count": null,
   "id": "7a02a439-5246-4731-90a3-98c3a41d6cc3",
   "metadata": {},
   "outputs": [],
   "source": []
  },
  {
   "cell_type": "markdown",
   "id": "9aa41ced-c255-4818-aaf9-6dd3d98c4575",
   "metadata": {},
   "source": [
    "### 16.Remove a random element from a set."
   ]
  },
  {
   "cell_type": "code",
   "execution_count": 190,
   "id": "0d90ce6b-1fdc-49cd-a576-af777bbe276d",
   "metadata": {},
   "outputs": [
    {
     "name": "stdout",
     "output_type": "stream",
     "text": [
      "Set1  {1, 2, 3, 4, 5, 6, 7, 8}\n",
      "A random element from a set to converted to list : 4\n",
      "Remove a random element from a set\n",
      "Updated set : {1, 2, 3, 5, 6, 7, 8}\n"
     ]
    }
   ],
   "source": [
    "import random\n",
    "set1 = {1,2,3,4,5,6,7,8}\n",
    "print(\"Set1 \",set1)\n",
    "random_element = random.choice(list(set1))\n",
    "print(\"A random element from a set to converted to list :\",random_element)\n",
    "set1.remove(random_element)\n",
    "print(\"Remove a random element from a set\" )\n",
    "print(\"Updated set :\",set1)"
   ]
  },
  {
   "cell_type": "code",
   "execution_count": null,
   "id": "016d0ce2-0c50-488c-a758-30fbc8eb2970",
   "metadata": {},
   "outputs": [],
   "source": []
  },
  {
   "cell_type": "markdown",
   "id": "8f2b7947-3eb4-4661-b08b-f1238e72771e",
   "metadata": {},
   "source": [
    "### 17.Pop an element from a set."
   ]
  },
  {
   "cell_type": "code",
   "execution_count": 191,
   "id": "08a7ddec-2f56-49d8-97ab-d4abec341048",
   "metadata": {},
   "outputs": [
    {
     "name": "stdout",
     "output_type": "stream",
     "text": [
      "A set : {1, 2, 3, 4, 6, 7}\n",
      "Pop an element from a set : 1\n",
      "After pop set is : {2, 3, 4, 6, 7}\n"
     ]
    }
   ],
   "source": [
    "set1 = {1,2,3,4,6,7}\n",
    "print(\"A set :\",set1)\n",
    "new = set1.pop()\n",
    "print(\"Pop an element from a set :\",new)\n",
    "print(\"After pop set is :\",set1)"
   ]
  },
  {
   "cell_type": "code",
   "execution_count": null,
   "id": "4cafac63-52dc-4856-b62b-317b64897d8f",
   "metadata": {},
   "outputs": [],
   "source": []
  },
  {
   "cell_type": "markdown",
   "id": "f133ea64-7c49-4ef3-832f-ce9ca1100b76",
   "metadata": {},
   "source": [
    "### 18.Check if two sets have no elements in common."
   ]
  },
  {
   "cell_type": "code",
   "execution_count": 192,
   "id": "64cfded9-a759-4ddd-a4b0-6566307345c8",
   "metadata": {},
   "outputs": [
    {
     "name": "stdout",
     "output_type": "stream",
     "text": [
      "Set 1 : {1, 2, 3, 4}\n",
      "Set 2 : {5, 6, 7, 8, 9}\n",
      "set1 {1, 2, 3, 4} has no element in common in set2 {5, 6, 7, 8, 9}\n"
     ]
    }
   ],
   "source": [
    "s1 = {1,2,3,4}\n",
    "s2 = {5,6,7,8,9}\n",
    "print(\"Set 1 :\",s1)\n",
    "print(\"Set 2 :\",s2)\n",
    "common = s1.intersection(s2)\n",
    "if not common:\n",
    "    print(f\"set1 {s1} has no element in common in set2 {s2}\")\n",
    "else:\n",
    "    print(f\"set1 {s1} has common element in set2 {s2} \")"
   ]
  },
  {
   "cell_type": "code",
   "execution_count": null,
   "id": "c94e487b-7a54-4480-97ca-0897e460b00c",
   "metadata": {},
   "outputs": [],
   "source": []
  },
  {
   "cell_type": "markdown",
   "id": "88d10693-2f33-4cb0-a052-4a86cb1244ff",
   "metadata": {},
   "source": [
    "### 19.Find the symmetric difference between two sets."
   ]
  },
  {
   "cell_type": "code",
   "execution_count": 193,
   "id": "b9c6d74a-275f-4f85-9004-0d7e0fb7f84b",
   "metadata": {},
   "outputs": [
    {
     "name": "stdout",
     "output_type": "stream",
     "text": [
      "Set 1 : {1, 2, 3, 4, 5, 6, 7, 8, 9}\n",
      "Set 2 : {5, 6, 7, 8, 9, 10, 11, 12}\n",
      "The symmetric difference between s1 and s2 : {1, 2, 3, 4, 10, 11, 12}\n"
     ]
    }
   ],
   "source": [
    "s1 = {1,2,3,4,5,6,7,8,9}\n",
    "s2 = {5,6,7,8,9,10,11,12}\n",
    "print(\"Set 1 :\",s1)\n",
    "print(\"Set 2 :\",s2)\n",
    "symmetric_diff = s1^s2\n",
    "print(\"The symmetric difference between s1 and s2 :\",symmetric_diff)"
   ]
  },
  {
   "cell_type": "code",
   "execution_count": null,
   "id": "9942feff-3875-48c2-8c8b-579bd241f3f5",
   "metadata": {},
   "outputs": [],
   "source": []
  },
  {
   "cell_type": "markdown",
   "id": "d4ffd88c-76e1-4534-a8a4-bae0c36b5bde",
   "metadata": {},
   "source": [
    "### 20.Update a set with elements from another set."
   ]
  },
  {
   "cell_type": "code",
   "execution_count": 194,
   "id": "5d5e98cf-ce89-4957-b460-667f1cd29bc1",
   "metadata": {},
   "outputs": [
    {
     "name": "stdout",
     "output_type": "stream",
     "text": [
      "Set 1 : {1, 2, 3, 4, 5, 6}\n",
      "Set 2 : {4, 5, 6, 7, 8, 9}\n",
      "Update a s1 with elements from s2 : {1, 2, 3, 4, 5, 6, 7, 8, 9}\n"
     ]
    }
   ],
   "source": [
    "s1 = {1,2,3,4,5,6}\n",
    "s2 = {4,5,6,7,8,9}\n",
    "print(\"Set 1 :\",s1)\n",
    "print(\"Set 2 :\",s2)\n",
    "s1.update(s2)\n",
    "print(\"Update a s1 with elements from s2 :\",s1)"
   ]
  },
  {
   "cell_type": "code",
   "execution_count": null,
   "id": "fb92f373-04a1-4235-96b3-5e3ba7df577c",
   "metadata": {},
   "outputs": [],
   "source": []
  },
  {
   "cell_type": "markdown",
   "id": "07f3c65a-c0b0-431c-833e-8ad7b8d23019",
   "metadata": {},
   "source": [
    "### 21.Create a set of the first 5 prime numbers."
   ]
  },
  {
   "cell_type": "code",
   "execution_count": 195,
   "id": "96b0ffd3-1b5a-4871-9558-498fff26343b",
   "metadata": {},
   "outputs": [
    {
     "name": "stdout",
     "output_type": "stream",
     "text": [
      "Set of the first 5 prime numbers : {2, 3, 5, 7, 11}\n"
     ]
    }
   ],
   "source": [
    "# Function to check if a number is prime\n",
    "def is_prime_func(num):\n",
    "    if num <= 1:\n",
    "        return False\n",
    "    for i in range(2, int(num ** 0.5) + 1):\n",
    "        if num % i == 0:\n",
    "            return False\n",
    "    return True\n",
    "\n",
    "# Create an empty set to store the prime numbers\n",
    "prime_number_set = set()\n",
    "\n",
    "# Initialize the number to start checking for primes\n",
    "num = 2\n",
    "\n",
    "# Loop until we have found the first 5 prime numbers\n",
    "while len(prime_number_set) < 5:\n",
    "    # Check if the current number is prime using the is_prime function\n",
    "    if is_prime_func(num):\n",
    "        # If the number is prime, add it to the prime_set\n",
    "        prime_number_set.add(num)\n",
    "\n",
    "    # Move on to the next number for the next iteration\n",
    "    num += 1\n",
    "\n",
    "\n",
    "print(\"Set of the first 5 prime numbers :\", prime_number_set)"
   ]
  },
  {
   "cell_type": "code",
   "execution_count": null,
   "id": "3eefa28d-2b3a-4b63-bc34-ce214b617879",
   "metadata": {},
   "outputs": [],
   "source": []
  },
  {
   "cell_type": "markdown",
   "id": "520def7c-ac6b-4a0a-aaef-894086b2c655",
   "metadata": {},
   "source": [
    "### 22.Check if two sets are identical."
   ]
  },
  {
   "cell_type": "code",
   "execution_count": 196,
   "id": "b89142e1-0e65-44cf-ab0d-4f45d78d4293",
   "metadata": {},
   "outputs": [
    {
     "name": "stdout",
     "output_type": "stream",
     "text": [
      "Set 1 : {1, 2, 3, 4, 5, 6}\n",
      "Set 2 : {1, 2, 3, 4, 5, 6}\n",
      "Check if two sets are identical \n",
      "Yes, s1 {1, 2, 3, 4, 5, 6} is identical to s2 {1, 2, 3, 4, 5, 6} \n"
     ]
    }
   ],
   "source": [
    "s1 = {1,2,3,4,5,6}\n",
    "s2 = {4,5,1,2,3,6} # order doesn't matter in the case of identical \n",
    "print(\"Set 1 :\",s1)\n",
    "print(\"Set 2 :\",s2)\n",
    "print(\"Check if two sets are identical \")\n",
    "if s1 == s2 :\n",
    "    print(f\"Yes, s1 {s1} is identical to s2 {s2} \")\n",
    "else :\n",
    "    print(f\"No, s1 {s1} is not identical to s2 {s2} \")"
   ]
  },
  {
   "cell_type": "code",
   "execution_count": null,
   "id": "eff36d1e-1e7e-4549-aa70-eef842fcfb0a",
   "metadata": {},
   "outputs": [],
   "source": []
  },
  {
   "cell_type": "markdown",
   "id": "4a4dd0c6-d57c-4ca6-8f1e-3da6474a3065",
   "metadata": {},
   "source": [
    "### 23.Create a frozen set."
   ]
  },
  {
   "cell_type": "code",
   "execution_count": 197,
   "id": "072a4c82-aa63-434b-997b-57e2f1a6092c",
   "metadata": {},
   "outputs": [
    {
     "name": "stdout",
     "output_type": "stream",
     "text": [
      "A list : [1, 2, 3, 4, 5, 6, 7, 8, 9]\n",
      "Created a frozen set : frozenset({1, 2, 3, 4, 5, 6, 7, 8, 9})\n"
     ]
    }
   ],
   "source": [
    "example_list = [1,2,3,4,5,6,7,8,9]\n",
    "print(\"A list :\",example_list)\n",
    "frozen_set = frozenset(example_list)\n",
    "print(\"Created a frozen set :\",frozen_set)"
   ]
  },
  {
   "cell_type": "code",
   "execution_count": null,
   "id": "9818fe6c-6407-41f6-86ce-28b011fd11b7",
   "metadata": {},
   "outputs": [],
   "source": []
  },
  {
   "cell_type": "markdown",
   "id": "a3b7fa31-a18a-4e4d-a53e-d1f79bf966e1",
   "metadata": {},
   "source": [
    "### 24.Check if a set is disjoint with another set."
   ]
  },
  {
   "cell_type": "code",
   "execution_count": 198,
   "id": "60f8f7c5-a1ed-4eb7-b1b4-5da8cccda6c1",
   "metadata": {},
   "outputs": [
    {
     "name": "stdout",
     "output_type": "stream",
     "text": [
      "Set 1 : {2, 3, 4, 6, 7}\n",
      "Set 2 : {8, 9, 10, 11}\n",
      "Check if set1 is disjoint with set2 .\n",
      "True, set1 {2, 3, 4, 6, 7} is disjoint with set2 {8, 9, 10, 11}\n"
     ]
    }
   ],
   "source": [
    "Set1 = {1,2,3,4,5}\n",
    "set2 = {8,9,10,11}\n",
    "print(\"Set 1 :\",set1)\n",
    "print(\"Set 2 :\",set2)\n",
    "check_disjoint = set1.isdisjoint(set2)\n",
    "print(\"Check if set1 is disjoint with set2 .\")\n",
    "if check_disjoint :\n",
    "    print(f\"True, set1 {set1} is disjoint with set2 {set2}\")\n",
    "else :\n",
    "    print(f\"alse, set1 {set1} isjoint with set2 {set2}\")\n"
   ]
  },
  {
   "cell_type": "code",
   "execution_count": null,
   "id": "6b6e688b-cc23-444f-a094-94d6cc2c98f8",
   "metadata": {},
   "outputs": [],
   "source": []
  },
  {
   "cell_type": "markdown",
   "id": "8c67fa94-fe09-4bde-9fa1-57c4ad28439a",
   "metadata": {},
   "source": [
    "### 25.Create a set of squares of numbers from 1 to 5."
   ]
  },
  {
   "cell_type": "code",
   "execution_count": 199,
   "id": "e1a2e5eb-6ebb-43d9-a2fb-8009ab8ac8d2",
   "metadata": {},
   "outputs": [
    {
     "name": "stdout",
     "output_type": "stream",
     "text": [
      "A set of numbers from 1 to 5 : {1, 2, 3, 4, 5}\n",
      "A set of squares of numbers from 1 to 5 : {1, 4, 9, 16, 25}\n"
     ]
    }
   ],
   "source": [
    "print(\"A set of numbers from 1 to 5 :\",set(range(1,6))) \n",
    "square = set(i*i for i in range(1,6))\n",
    "print(\"A set of squares of numbers from 1 to 5 :\",square)"
   ]
  },
  {
   "cell_type": "code",
   "execution_count": null,
   "id": "c53cb3ae-9057-4faf-a20c-8fbcf1a9c3c3",
   "metadata": {},
   "outputs": [],
   "source": []
  },
  {
   "cell_type": "markdown",
   "id": "968cfde9-5e74-43ee-beba-b6f560844ac2",
   "metadata": {},
   "source": [
    "### 26.Filter out all even nmbers from a set."
   ]
  },
  {
   "cell_type": "code",
   "execution_count": 200,
   "id": "6a37f440-9f1b-4f76-a2d2-50de435e3b70",
   "metadata": {},
   "outputs": [
    {
     "name": "stdout",
     "output_type": "stream",
     "text": [
      "Example set : {1, 2, 3, 4, 5, 6, 7, 8, 9, 10, 11, 12, 13, 14, 15}\n",
      "Filter out all even numbers from a set : {2, 4, 6, 8, 10, 12, 14}\n"
     ]
    }
   ],
   "source": [
    "example_set = {1,2,3,4,5,6,7,8,9,10,11,12,13,14,15}\n",
    "print(\"Example set :\",example_set)\n",
    "even_number = set(i for i in example_set if i%2 == 0)\n",
    "print(\"Filter out all even numbers from a set :\" ,even_number)"
   ]
  },
  {
   "cell_type": "code",
   "execution_count": null,
   "id": "a5348371-6d86-4ccf-b796-e65b07c9ca6f",
   "metadata": {},
   "outputs": [],
   "source": []
  },
  {
   "cell_type": "markdown",
   "id": "b572d2c5-6ea7-43fc-960a-464733ae5b4a",
   "metadata": {},
   "source": [
    "### 27.Multiply all elements in a set by 2."
   ]
  },
  {
   "cell_type": "code",
   "execution_count": 201,
   "id": "b4cad302-db9c-4a68-b223-b8784b661bcb",
   "metadata": {},
   "outputs": [
    {
     "name": "stdout",
     "output_type": "stream",
     "text": [
      "Example set : {1, 2, 3, 4, 5}\n",
      "Multiply all elements in a set by 2 : {2, 4, 6, 8, 10}\n"
     ]
    }
   ],
   "source": [
    "example_set = {1,2,3,4,5}\n",
    "print(\"Example set :\",example_set)\n",
    "multiple = set(i*2 for i in example_set)\n",
    "print(\"Multiply all elements in a set by 2 :\",multiple)"
   ]
  },
  {
   "cell_type": "code",
   "execution_count": null,
   "id": "7909add4-5571-4a12-a09f-dedb3d271d44",
   "metadata": {},
   "outputs": [],
   "source": []
  },
  {
   "cell_type": "markdown",
   "id": "31a8a85e-ead4-4470-8fd6-18f728bcbc3d",
   "metadata": {},
   "source": [
    "### 28.Create a set of random numbers."
   ]
  },
  {
   "cell_type": "code",
   "execution_count": 202,
   "id": "1bfcbe83-8ca5-4b86-83a7-3223b132e321",
   "metadata": {},
   "outputs": [
    {
     "name": "stdout",
     "output_type": "stream",
     "text": [
      "Create a set of random numbers : {912, 22, 535, 920, 36, 37, 46, 47, 434, 693, 312, 698, 834, 76, 336, 471, 734, 1000, 497, 765}\n"
     ]
    }
   ],
   "source": [
    "import random\n",
    "random_number = set(random.randint(1,1000) for i in range(20))\n",
    "print(\"Create a set of random numbers :\",random_number)"
   ]
  },
  {
   "cell_type": "code",
   "execution_count": null,
   "id": "c7d2c84d-9d6c-4dd6-ac7e-770096f1c3a1",
   "metadata": {},
   "outputs": [],
   "source": []
  },
  {
   "cell_type": "markdown",
   "id": "13ba7689-b203-4b91-a20b-43756ef55031",
   "metadata": {},
   "source": [
    "### 29.Check if a set is empty."
   ]
  },
  {
   "cell_type": "code",
   "execution_count": 203,
   "id": "8dd76360-52a4-45dd-8b3e-6fcbf32891ba",
   "metadata": {},
   "outputs": [
    {
     "name": "stdout",
     "output_type": "stream",
     "text": [
      "Empty set : {}\n",
      "This set is empty.\n",
      "Example set : {1, 2, 3, 4}\n",
      "Example set has elements.\n"
     ]
    }
   ],
   "source": [
    "Empty_set = {}\n",
    "example_set = {1,2,3,4}\n",
    "print(\"Empty set :\",Empty_set)\n",
    "\n",
    "if not Empty_set :\n",
    "    print(\"This set is empty.\")\n",
    "else :\n",
    "    print(\"This set is not empty.\")\n",
    "    \n",
    "print(\"Example set :\",example_set)    \n",
    "if example_set :\n",
    "    print(\"Example set has elements.\")\n",
    "else :\n",
    "    print(\"Example set has no elements.\")"
   ]
  },
  {
   "cell_type": "code",
   "execution_count": null,
   "id": "e44f6063-46b1-4826-a862-7679351982a2",
   "metadata": {},
   "outputs": [],
   "source": []
  },
  {
   "cell_type": "markdown",
   "id": "f1ea85a8-550c-4818-aeb9-5f29d9af5f71",
   "metadata": {},
   "source": [
    "### 30.Create a nested set (hint: use frozenset)."
   ]
  },
  {
   "cell_type": "code",
   "execution_count": 204,
   "id": "73e358fc-cd2b-48eb-8e74-129865c5f916",
   "metadata": {},
   "outputs": [
    {
     "name": "stdout",
     "output_type": "stream",
     "text": [
      "Set 1 : {1, 2, 3, 4, 5}\n",
      "Set 2 : {8, 9, 6, 7}\n",
      "A nested set : (frozenset({1, 2, 3, 4, 5}), frozenset({8, 9, 6, 7}))\n"
     ]
    }
   ],
   "source": [
    "s1 = {1,2,3,4,5}\n",
    "s2 = {6,7,8,9}\n",
    "print(\"Set 1 :\",s1)\n",
    "print(\"Set 2 :\",s2)\n",
    "frozen_s1 = frozenset(s1)\n",
    "frozen_s2 = frozenset(s2)\n",
    "Nested_set = (frozen_s1,frozen_s2)\n",
    "print(\"A nested set :\",Nested_set)"
   ]
  },
  {
   "cell_type": "code",
   "execution_count": null,
   "id": "5e63e273-275f-47bd-baec-65e4590ac42d",
   "metadata": {},
   "outputs": [],
   "source": []
  },
  {
   "cell_type": "markdown",
   "id": "fea49f6c-b16e-4206-8443-1058dec9afaa",
   "metadata": {},
   "source": [
    "### 31.Remove an element from a set using the discard method."
   ]
  },
  {
   "cell_type": "code",
   "execution_count": 205,
   "id": "3a9a8e72-41e9-4d44-8f22-9bf5b00dadb5",
   "metadata": {},
   "outputs": [
    {
     "name": "stdout",
     "output_type": "stream",
     "text": [
      "Example set : {1, 2, 3, 4, 5, 6, 7, 8, 9}\n",
      "Remove an element from a set using the discard method .\n",
      "Remove element 6 from a set : {1, 2, 3, 4, 5, 7, 8, 9}\n"
     ]
    }
   ],
   "source": [
    "example_set = {1,2,3,4,5,6,7,8,9}\n",
    "element_remove = 6\n",
    "print(\"Example set :\",example_set)\n",
    "example_set.discard(element_remove)\n",
    "print(\"Remove an element from a set using the discard method .\")\n",
    "print(f\"Remove element {element_remove} from a set :\",example_set)"
   ]
  },
  {
   "cell_type": "code",
   "execution_count": null,
   "id": "f6e230a3-82d1-494c-a195-0aefe8047cc2",
   "metadata": {},
   "outputs": [],
   "source": []
  },
  {
   "cell_type": "markdown",
   "id": "2cb58677-def0-437a-8d68-e7f299a60dc9",
   "metadata": {},
   "source": [
    "### 32.compare two sets."
   ]
  },
  {
   "cell_type": "code",
   "execution_count": 206,
   "id": "1b17639c-fa5b-4a62-afd2-6dd807a912b5",
   "metadata": {},
   "outputs": [
    {
     "name": "stdout",
     "output_type": "stream",
     "text": [
      "Set 1 : {1, 2, 3, 4, 5}\n",
      "Set 2 : {3, 4, 5, 6, 7, 8}\n",
      "Use set operations to compare the sets.\n",
      "1. Union : {1, 2, 3, 4, 5, 6, 7, 8}\n",
      "2. Intersection of set : {3, 4, 5}\n",
      "3. Is set1 subset of set2 ? False\n",
      "4. Is set1 superset of set2 ? False\n",
      "5. Elements of set1 but not in set2 : {1, 2}\n",
      "6. Elements of set2 but not in set1 : {8, 6, 7}\n"
     ]
    }
   ],
   "source": [
    "s1 = {1,2,3,4,5}\n",
    "s2 = {3,4,5,6,7,8}\n",
    "print(\"Set 1 :\",s1)\n",
    "print(\"Set 2 :\",s2)\n",
    "print(\"Use set operations to compare the sets.\")\n",
    "union = s1.union(s2)\n",
    "intersection = s1.intersection(s2)\n",
    "subset = s1.issubset(s2)\n",
    "superset = s1.issuperset(s2)\n",
    "difference1 = s1.difference(s2)\n",
    "difference2 = s2.difference(s1)\n",
    "\n",
    "\n",
    "print(\"1. Union :\",union)\n",
    "print(\"2. Intersection of set :\",intersection)\n",
    "print(\"3. Is set1 subset of set2 ?\",subset)\n",
    "print(\"4. Is set1 superset of set2 ?\",superset)\n",
    "print(\"5. Elements of set1 but not in set2 :\",difference1)\n",
    "print(\"6. Elements of set2 but not in set1 :\",difference2)\n"
   ]
  },
  {
   "cell_type": "code",
   "execution_count": null,
   "id": "4b086b13-900a-47bf-85c0-dbe867b823cd",
   "metadata": {},
   "outputs": [],
   "source": []
  },
  {
   "cell_type": "markdown",
   "id": "08c1f0d0-4b46-4b11-8966-6cd102dcbef0",
   "metadata": {},
   "source": [
    "### 33.Create a set from a string."
   ]
  },
  {
   "cell_type": "code",
   "execution_count": 207,
   "id": "8758d26f-31a2-4b0a-81ba-e801af7e3e1a",
   "metadata": {},
   "outputs": [
    {
     "name": "stdout",
     "output_type": "stream",
     "text": [
      "string : country\n",
      "Created a set from a string : {'y', 't', 'r', 'u', 'c', 'o', 'n'}\n"
     ]
    }
   ],
   "source": [
    "string = \"country\"\n",
    "print(\"string :\",string)\n",
    "create_set = set(string)\n",
    "print(\"Created a set from a string :\",create_set)"
   ]
  },
  {
   "cell_type": "code",
   "execution_count": null,
   "id": "222f63dc-9db4-49b8-a7c0-570aa2d9845f",
   "metadata": {},
   "outputs": [],
   "source": []
  },
  {
   "cell_type": "markdown",
   "id": "12eccdbd-4e75-4ba6-b768-050e976c39e4",
   "metadata": {},
   "source": [
    "### 34.Convert a set of strings to a set of integers."
   ]
  },
  {
   "cell_type": "code",
   "execution_count": 208,
   "id": "83d73c72-339d-4f47-8837-b7de43b852ea",
   "metadata": {},
   "outputs": [
    {
     "name": "stdout",
     "output_type": "stream",
     "text": [
      "Set of string : {'324', '289', '361', '400'}\n",
      "Convert a set of strings to a set of integers : {400, 289, 324, 361}\n"
     ]
    }
   ],
   "source": [
    "set_of_string = {'289','324','361','400'}\n",
    "print(\"Set of string :\",set_of_string)\n",
    "set_integer = set(int(i) for i in set_of_string)\n",
    "\n",
    "print(\"Convert a set of strings to a set of integers :\",set_integer)"
   ]
  },
  {
   "cell_type": "code",
   "execution_count": null,
   "id": "d723508a-457f-4464-916b-17c343a9e71f",
   "metadata": {},
   "outputs": [],
   "source": []
  },
  {
   "cell_type": "markdown",
   "id": "7794f813-270b-4f67-a68f-882aa162409d",
   "metadata": {},
   "source": [
    "### 35.Convert a set of integers to a set of strings."
   ]
  },
  {
   "cell_type": "code",
   "execution_count": 3,
   "id": "2000436f-75ac-44a3-9910-04492a4efc99",
   "metadata": {},
   "outputs": [
    {
     "name": "stdout",
     "output_type": "stream",
     "text": [
      "Set of integers : {144, 169, 196, 225}\n",
      "Convert a set of integers to a set of strings : {'169', '144', '225', '196'}\n"
     ]
    }
   ],
   "source": [
    "set_integer = {144,169,196,225}\n",
    "print(\"Set of integers :\",set_integer)\n",
    "of_string = (str(i) for i in set_integer)\n",
    "set_of_string = set(of_string)\n",
    "print(\"Convert a set of integers to a set of strings :\",set_of_string)"
   ]
  },
  {
   "cell_type": "code",
   "execution_count": null,
   "id": "28442d53-e977-4437-acad-56853f7679ba",
   "metadata": {},
   "outputs": [],
   "source": []
  },
  {
   "cell_type": "markdown",
   "id": "e761d0fb-7a78-4faf-8c70-175a627a375b",
   "metadata": {},
   "source": [
    "### 36.Create a set from a tuple."
   ]
  },
  {
   "cell_type": "code",
   "execution_count": 212,
   "id": "c8790210-db69-4941-8642-e16c04b32bef",
   "metadata": {},
   "outputs": [
    {
     "name": "stdout",
     "output_type": "stream",
     "text": [
      "Example tuple : (1, 2, 3, 4, 5, 6)\n",
      "Created set from a tuple : {1, 2, 3, 4, 5, 6}\n"
     ]
    }
   ],
   "source": [
    "example_tuple = (1,2,3,4,5,6)\n",
    "print(\"Example tuple :\",example_tuple)\n",
    "create_set = set(example_tuple)\n",
    "print(\"Created set from a tuple :\",create_set)"
   ]
  },
  {
   "cell_type": "code",
   "execution_count": null,
   "id": "84a49f7d-159e-4240-a1f6-7d050431333f",
   "metadata": {},
   "outputs": [],
   "source": []
  },
  {
   "cell_type": "markdown",
   "id": "75f62d7c-acf5-4881-8d4b-04bd77fddee0",
   "metadata": {},
   "source": [
    "### 37.Convert a set to a tuple."
   ]
  },
  {
   "cell_type": "code",
   "execution_count": 213,
   "id": "c6e403c0-f7d3-4ee1-9c37-584875a22422",
   "metadata": {},
   "outputs": [
    {
     "name": "stdout",
     "output_type": "stream",
     "text": [
      "Example set : {1, 2, 3, 4, 5, 6, 7, 8, 9, 10, 11, 12}\n",
      "Convert a set to a tuple : (1, 2, 3, 4, 5, 6, 7, 8, 9, 10, 11, 12)\n"
     ]
    }
   ],
   "source": [
    "example_set = {1,2,3,4,5,6,7,8,9,10,11,12}\n",
    "print(\"Example set :\",example_set)\n",
    "create_tuple = tuple(example_set)\n",
    "print(\"Convert a set to a tuple :\",create_tuple)"
   ]
  },
  {
   "cell_type": "code",
   "execution_count": null,
   "id": "085182da-310d-4d20-b2ff-bd874588af4a",
   "metadata": {},
   "outputs": [],
   "source": []
  },
  {
   "cell_type": "markdown",
   "id": "db0d8bd5-dd10-49f3-a9b5-8d507a6d5946",
   "metadata": {},
   "source": [
    "### 38.Find the maximum value in a set."
   ]
  },
  {
   "cell_type": "code",
   "execution_count": 214,
   "id": "f565b233-1d81-4261-95ae-d5d099358ab3",
   "metadata": {},
   "outputs": [
    {
     "name": "stdout",
     "output_type": "stream",
     "text": [
      "Example set : {0, 1, 256, 52, 23, 11}\n",
      "The maximum value in a set : 256\n"
     ]
    }
   ],
   "source": [
    "example_set = {0,1,23,52,11,256}\n",
    "print(\"Example set :\",example_set)\n",
    "max_value = max(example_set)\n",
    "print(\"The maximum value in a set :\",max_value)"
   ]
  },
  {
   "cell_type": "code",
   "execution_count": null,
   "id": "ea3623c5-cb66-4a1f-a9c4-5f48ae241590",
   "metadata": {},
   "outputs": [],
   "source": []
  },
  {
   "cell_type": "markdown",
   "id": "7d2f9974-5bd5-4134-b2b7-ce4a6ea7e554",
   "metadata": {},
   "source": [
    "### 39.Find the minimum value in a set."
   ]
  },
  {
   "cell_type": "code",
   "execution_count": 215,
   "id": "45166340-3070-44a4-b116-223bb4b6ca24",
   "metadata": {},
   "outputs": [
    {
     "name": "stdout",
     "output_type": "stream",
     "text": [
      "Example set : {2, 3, 4, 5, 6}\n",
      "The minimum value in a set : 2\n"
     ]
    }
   ],
   "source": [
    "example_set = {2,3,4,5,6}\n",
    "print(\"Example set :\",example_set)\n",
    "min_value = min(example_set)\n",
    "print(\"The minimum value in a set :\",min_value)"
   ]
  },
  {
   "cell_type": "code",
   "execution_count": null,
   "id": "6c809f4d-6adc-4be4-bce3-934eb5ddaf1c",
   "metadata": {},
   "outputs": [],
   "source": []
  },
  {
   "cell_type": "markdown",
   "id": "e6b781c2-764f-441a-a8b1-18886aad5c3e",
   "metadata": {},
   "source": [
    "### 40.Create a set from user input."
   ]
  },
  {
   "cell_type": "code",
   "execution_count": 216,
   "id": "cea0c533-1cb8-4196-8992-386d233960c3",
   "metadata": {},
   "outputs": [
    {
     "name": "stdout",
     "output_type": "stream",
     "text": [
      "Enter elements for the set (type 'its done' to finish  :\n"
     ]
    },
    {
     "name": "stdin",
     "output_type": "stream",
     "text": [
      "enter input :  India\n",
      "enter input :  is\n",
      "enter input :  my country\n",
      "enter input :  its done\n"
     ]
    },
    {
     "name": "stdout",
     "output_type": "stream",
     "text": [
      "Created a set from user input : {'is', 'India', 'my country'}\n"
     ]
    }
   ],
   "source": [
    "user_set = set()\n",
    "print(\"Enter elements for the set (type 'its done' to finish  :\")\n",
    "\n",
    "while True:\n",
    "    user_input = input(\"enter input : \") \n",
    "\n",
    "    if user_input.lower() == 'its done':\n",
    "        break  \n",
    "\n",
    "    \n",
    "    user_set.add(user_input)\n",
    "\n",
    "\n",
    "print(\"Created a set from user input :\", user_set)"
   ]
  },
  {
   "cell_type": "code",
   "execution_count": null,
   "id": "f0462606-d3a8-435f-a192-667272037936",
   "metadata": {},
   "outputs": [],
   "source": []
  },
  {
   "cell_type": "markdown",
   "id": "373eb6b0-744e-405a-9e33-37ea04a8e956",
   "metadata": {},
   "source": [
    "### 41.Check if the intersection of two sets is empty."
   ]
  },
  {
   "cell_type": "code",
   "execution_count": 217,
   "id": "09bfbfa6-1887-452b-90fd-b965f48423e4",
   "metadata": {},
   "outputs": [
    {
     "name": "stdout",
     "output_type": "stream",
     "text": [
      "Set 1 : {1, 2, 3, 4, 5}\n",
      "Set 2 : {3, 5, 7, 8, 9}\n",
      "Check if the intersections of two sets (s1 and s2) is empty \n",
      "Yes, the intersection of two sets is possible :  {3, 5}\n"
     ]
    }
   ],
   "source": [
    "s1 = {1,2,3,4,5}\n",
    "s2 = {3,7,8,5,9}\n",
    "print(\"Set 1 :\",s1)\n",
    "print(\"Set 2 :\",s2)\n",
    "check_intersection = s1.intersection(s2)\n",
    "print(\"Check if the intersections of two sets (s1 and s2) is empty \")\n",
    "\n",
    "if check_intersection:\n",
    "    print(\"Yes, the intersection of two sets is possible : \",check_intersection)\n",
    "else :\n",
    "    print(\"No, the intersection of two sets is not possible : \",check_intersection)"
   ]
  },
  {
   "cell_type": "code",
   "execution_count": null,
   "id": "e8fc1cf9-4518-4e81-b558-1cca3c95c827",
   "metadata": {},
   "outputs": [],
   "source": []
  },
  {
   "cell_type": "markdown",
   "id": "ec0b1319-ee64-4fd6-b1a0-3aeab14e7dab",
   "metadata": {},
   "source": [
    "### 42.Create a set of the first 5 Fibonacci numbers."
   ]
  },
  {
   "cell_type": "code",
   "execution_count": 218,
   "id": "d7c89124-3901-4708-ab3b-9ff746f3ac50",
   "metadata": {},
   "outputs": [
    {
     "name": "stdout",
     "output_type": "stream",
     "text": [
      "Create a set of first 5 Fibonacci numbers : {0, 1, 2, 3, 5}\n"
     ]
    }
   ],
   "source": [
    "def fibonacci_nums_func(n):\n",
    "    if n <= 0:\n",
    "        return [0]\n",
    "    sequence = [0, 1]\n",
    "    while len(sequence) <= n:\n",
    "        next_value = sequence[len(sequence) - 1] + sequence[len(sequence) - 2]\n",
    "        sequence.append(next_value)\n",
    "    return set(sequence)\n",
    "\n",
    "print(\"Create a set of first 5 Fibonacci numbers :\" ,fibonacci_nums_func(5))\n"
   ]
  },
  {
   "cell_type": "code",
   "execution_count": null,
   "id": "d0220b62-a98d-49fd-b6c0-decae4cb5919",
   "metadata": {},
   "outputs": [],
   "source": []
  },
  {
   "cell_type": "markdown",
   "id": "c952d469-831f-495d-a9f2-bf2eeeb42e75",
   "metadata": {},
   "source": [
    "### 43.Remove duplicates from a list using sets."
   ]
  },
  {
   "cell_type": "code",
   "execution_count": 219,
   "id": "262839f3-3d13-4212-a125-ef57e5918cdf",
   "metadata": {},
   "outputs": [
    {
     "name": "stdout",
     "output_type": "stream",
     "text": [
      "Example list : [1, 2, 3, 3, 1, 6, 3, 8, 7, 7, 9]\n",
      "Remove duplucates from a list using sets : {1, 2, 3, 6, 7, 8, 9}\n"
     ]
    }
   ],
   "source": [
    "example_list = [1,2,3,3,1,6,3,8,7,7,9]\n",
    "print(\"Example list :\",example_list)\n",
    "unique_set = set(example_list)\n",
    "print(\"Remove duplucates from a list using sets :\",unique_set)"
   ]
  },
  {
   "cell_type": "code",
   "execution_count": null,
   "id": "6a67b493-ad03-466c-a753-58ce6cd70004",
   "metadata": {},
   "outputs": [],
   "source": []
  },
  {
   "cell_type": "markdown",
   "id": "698be449-7ec8-4a9e-8d7e-d0f107500289",
   "metadata": {},
   "source": [
    "### 44.Check if two sets have the same elements, regardless of their count."
   ]
  },
  {
   "cell_type": "code",
   "execution_count": 220,
   "id": "9f12017b-6f39-4348-a1b0-e65a42ced31d",
   "metadata": {},
   "outputs": [
    {
     "name": "stdout",
     "output_type": "stream",
     "text": [
      "Set 1 : {1, 2, 3, 4}\n",
      "set 2 : {1, 2, 3, 4}\n",
      "Check if set1 have the same elements of set 2, regardless of their count.\n",
      "The set1 have same elements of set2 \n"
     ]
    }
   ],
   "source": [
    "def same_element(s1,s2):\n",
    "    sort_s1 = sorted(list(s1))\n",
    "    sort_s2 = sorted(list(s2))\n",
    "    return sort_s1 == sort_s2\n",
    "\n",
    "\n",
    "\n",
    "s1 = {2,3,4,2,1,3}\n",
    "s2 = {3,4,1,2}\n",
    "print(\"Set 1 :\",s1)\n",
    "print(\"set 2 :\",s2)\n",
    "print(\"Check if set1 have the same elements of set 2, regardless of their count.\")\n",
    "check_element = same_element(s1,s2)\n",
    "if check_element :\n",
    "    print(\"The set1 have same elements of set2 \")\n",
    "else :\n",
    "    print(\"The set1 have not same elements of set2\")"
   ]
  },
  {
   "cell_type": "code",
   "execution_count": null,
   "id": "47658bbb-df9b-4fcc-8e3b-56eeaed27322",
   "metadata": {},
   "outputs": [],
   "source": []
  },
  {
   "cell_type": "markdown",
   "id": "025ce304-c760-4bcf-abce-c2c92e047808",
   "metadata": {},
   "source": [
    "### 45.Create a set of the first 'n' powers of 2."
   ]
  },
  {
   "cell_type": "code",
   "execution_count": 221,
   "id": "53953df5-fd45-45f7-abf3-c0f257ead424",
   "metadata": {},
   "outputs": [
    {
     "name": "stdout",
     "output_type": "stream",
     "text": [
      "A number : 5\n",
      "A set of numbers from 0 to 5 : {0, 1, 2, 3, 4}\n",
      "Create a set of the first '5' powers of 2 : {1, 2, 4, 8, 16}\n"
     ]
    }
   ],
   "source": [
    "n = 5\n",
    "print(\"A number :\", n)\n",
    "print(f\"A set of numbers from 0 to {n} :\",set(range(0,n))) \n",
    "set_number = set(2**i for i in range(0,n))\n",
    "print(f\"Create a set of the first '{n}' powers of 2 :\",set_number)"
   ]
  },
  {
   "cell_type": "code",
   "execution_count": null,
   "id": "9521c0a2-a93d-4571-9510-41636dfd4d71",
   "metadata": {},
   "outputs": [],
   "source": []
  },
  {
   "cell_type": "markdown",
   "id": "1225f066-e614-4851-a216-e319afb84c17",
   "metadata": {},
   "source": [
    "### 46.Find the common elements between a set and a list."
   ]
  },
  {
   "cell_type": "code",
   "execution_count": 222,
   "id": "398aae26-3a9b-4118-83a2-7eaf02d2bcab",
   "metadata": {},
   "outputs": [
    {
     "name": "stdout",
     "output_type": "stream",
     "text": [
      "Example set : {1, 2, 3, 4, 5}\n",
      "Example list : [4, 5, 7, 10, 2]\n",
      "converted list to set : {2, 4, 5, 7, 10}\n",
      "The common elements between Example_set and example_list : [2, 4, 5]\n"
     ]
    }
   ],
   "source": [
    "example_set = {1,2,3,4,5}\n",
    "example_list = [4,5,7,10,2]\n",
    "print(\"Example set :\",example_set)\n",
    "print(\"Example list :\",example_list)\n",
    "convert_list_to_set = set(example_list)\n",
    "print(\"converted list to set :\",convert_list_to_set)\n",
    "common_element = []\n",
    "for element in example_set :\n",
    "    if element in convert_list_to_set :\n",
    "        common_element.append(element)\n",
    "        \n",
    "print(\"The common elements between Example_set and example_list :\",common_element)"
   ]
  },
  {
   "cell_type": "code",
   "execution_count": null,
   "id": "445001a9-60ac-4dcd-9637-882b213a33bd",
   "metadata": {},
   "outputs": [],
   "source": []
  },
  {
   "cell_type": "markdown",
   "id": "8199938a-a115-46c6-9459-5bd2f39b1bea",
   "metadata": {},
   "source": [
    "### 47.Create a set of the first 'n' triangular numbers."
   ]
  },
  {
   "cell_type": "code",
   "execution_count": 223,
   "id": "adb09090-bbd8-42e3-8a93-b96741d1b704",
   "metadata": {},
   "outputs": [
    {
     "name": "stdin",
     "output_type": "stream",
     "text": [
      "enter a number for Triangular numbers : 10\n"
     ]
    },
    {
     "name": "stdout",
     "output_type": "stream",
     "text": [
      "A set of the first 10 Triangular numbers : {1, 3, 36, 6, 10, 45, 15, 21, 55, 28} \n"
     ]
    }
   ],
   "source": [
    "n = int(input(\"enter a number for Triangular numbers :\"))\n",
    "numbers = set( f*(f+1)//2 for f in range(1,n+1))\n",
    "print(f\"A set of the first {n} Triangular numbers : {numbers} \")"
   ]
  },
  {
   "cell_type": "markdown",
   "id": "5150e57f-1343-4264-bd02-ff666ab758da",
   "metadata": {},
   "source": [
    "### 48.Check if a set contains another set as a subset."
   ]
  },
  {
   "cell_type": "code",
   "execution_count": 225,
   "id": "2554e87b-5f7c-4a1e-a103-dbc1bf6d251e",
   "metadata": {},
   "outputs": [
    {
     "name": "stdout",
     "output_type": "stream",
     "text": [
      "Example set 1 : {1, 2, 3, 4, 5, 6}\n",
      "Example of another set2 : {4, 5}\n",
      "Check if a set contains another set as a subset \n",
      "Yes, set2 is a subset of set1 \n"
     ]
    }
   ],
   "source": [
    "set1 = {1,2,3,4,5,6}\n",
    "print(\"Example set 1 :\",set1)\n",
    "set2 = {4,5}\n",
    "print(\"Example of another set2 :\",set2)\n",
    "is_subset = set2.issubset(set1)\n",
    "print(\"Check if a set contains another set as a subset \")\n",
    "if is_subset :\n",
    "    print(\"Yes, set2 is a subset of set1 \")\n",
    "else :\n",
    "    print(\"No, set2 is not a subset of set1 \")"
   ]
  },
  {
   "cell_type": "code",
   "execution_count": null,
   "id": "4ddde0b5-72ff-4a7b-a04f-7823ae3c2f3a",
   "metadata": {},
   "outputs": [],
   "source": []
  },
  {
   "cell_type": "markdown",
   "id": "05dac4c3-cb35-4c13-84f0-e8b9dc08f8f6",
   "metadata": {},
   "source": [
    "### 49.Create a set of alternating 1s and 0s of length 'n'."
   ]
  },
  {
   "cell_type": "code",
   "execution_count": 226,
   "id": "35c0726b-a064-4cc1-94f2-281ee4c986bf",
   "metadata": {},
   "outputs": [
    {
     "name": "stdout",
     "output_type": "stream",
     "text": [
      "The length of alternating set : 10\n",
      "0s of length 0 even  : {0}\n",
      "1s of length 1 odd : {0, 1}\n",
      "0s of length 2 even  : {0, 1}\n",
      "1s of length 3 odd : {0, 1}\n",
      "0s of length 4 even  : {0, 1}\n",
      "1s of length 5 odd : {0, 1}\n",
      "0s of length 6 even  : {0, 1}\n",
      "1s of length 7 odd : {0, 1}\n",
      "0s of length 8 even  : {0, 1}\n",
      "1s of length 9 odd : {0, 1}\n",
      "Create a set of alternating 1s and 0s of length 10 : {0, 1}\n"
     ]
    }
   ],
   "source": [
    "def alternate_set_func(n):\n",
    "    alternate_set = set()\n",
    "    for i in range(n) :\n",
    "        if i%2 == 0 :\n",
    "            alternate_set.add(0)\n",
    "            print(f\"0s of length {i} even  :\",alternate_set)\n",
    "        else :\n",
    "            alternate_set.add(1)\n",
    "            print(f\"1s of length {i} odd :\",alternate_set)\n",
    "    return alternate_set\n",
    "\n",
    "length = 10\n",
    "print(\"The length of alternating set :\",length)\n",
    "\n",
    "create_set = alternate_set_func(length)\n",
    "print(f\"Create a set of alternating 1s and 0s of length {length} :\",create_set)\n",
    "\n",
    "            \n",
    "    \n",
    "    "
   ]
  },
  {
   "cell_type": "code",
   "execution_count": null,
   "id": "a50b9f04-8bb3-4250-ba38-5f61be9c61b1",
   "metadata": {},
   "outputs": [],
   "source": []
  },
  {
   "cell_type": "markdown",
   "id": "afcea0e5-83f2-4d71-9f46-462402a310fa",
   "metadata": {},
   "source": [
    "### 50.Merge multiple sets into one."
   ]
  },
  {
   "cell_type": "code",
   "execution_count": 227,
   "id": "68b34855-6fd1-4396-9804-6ac94bfde876",
   "metadata": {},
   "outputs": [
    {
     "name": "stdout",
     "output_type": "stream",
     "text": [
      "Set 1 : {1, 2, 3}\n",
      "Set 2 : {4, 5, 6, 7}\n",
      "Set 3 : {8, 9, 10, 11}\n",
      "Merge multiple sets into one : {1, 2, 3, 4, 5, 6, 7, 8, 9, 10, 11}\n"
     ]
    }
   ],
   "source": [
    "set1 = {1,2,3}\n",
    "set2 = {4,5,6,7}\n",
    "set3 = {8,9,10,11}\n",
    "print(\"Set 1 :\",set1)\n",
    "print(\"Set 2 :\",set2)\n",
    "print(\"Set 3 :\",set3)\n",
    "merge_set = set1.union(set2,set3)\n",
    "print(\"Merge multiple sets into one :\",merge_set)"
   ]
  },
  {
   "cell_type": "code",
   "execution_count": null,
   "id": "71cb71e8-88a2-4e8e-a758-96724c49dc73",
   "metadata": {},
   "outputs": [],
   "source": []
  },
  {
   "cell_type": "code",
   "execution_count": null,
   "id": "8fcb34b0-8d26-4876-b27a-187420f6553c",
   "metadata": {},
   "outputs": [],
   "source": []
  }
 ],
 "metadata": {
  "kernelspec": {
   "display_name": "Python 3 (ipykernel)",
   "language": "python",
   "name": "python3"
  },
  "language_info": {
   "codemirror_mode": {
    "name": "ipython",
    "version": 3
   },
   "file_extension": ".py",
   "mimetype": "text/x-python",
   "name": "python",
   "nbconvert_exporter": "python",
   "pygments_lexer": "ipython3",
   "version": "3.10.8"
  }
 },
 "nbformat": 4,
 "nbformat_minor": 5
}
