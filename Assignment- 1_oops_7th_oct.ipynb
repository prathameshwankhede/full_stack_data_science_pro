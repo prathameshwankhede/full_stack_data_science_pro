{
 "cells": [
  {
   "cell_type": "code",
   "execution_count": null,
   "id": "6ae36f29-e5f2-4a6d-8ef5-5771cacd7b32",
   "metadata": {},
   "outputs": [],
   "source": []
  },
  {
   "cell_type": "code",
   "execution_count": null,
   "id": "1aca3c39-eafc-49c6-b603-d50fd43a13a8",
   "metadata": {},
   "outputs": [],
   "source": [
    "                                                      ****oops assignment1****"
   ]
  },
  {
   "cell_type": "code",
   "execution_count": null,
   "id": "e1c801ea-d9b0-4ddd-8483-6d9c17d3f595",
   "metadata": {},
   "outputs": [],
   "source": []
  },
  {
   "cell_type": "code",
   "execution_count": null,
   "id": "11940682-2963-4272-8d33-e420fc812a4a",
   "metadata": {},
   "outputs": [],
   "source": []
  },
  {
   "cell_type": "markdown",
   "id": "04a57774-dba1-40c8-befc-df92f8d2ece6",
   "metadata": {
    "id": "fef1683a-faa4-4d27-a0a6-7a742e512e9b"
   },
   "source": [
    "### Problem 1: Bank Account Create a class representing a bank account with attributes like account number, account holder name, and balance. Implement methods to deposit and withdraw money from the account."
   ]
  },
  {
   "cell_type": "code",
   "execution_count": 5,
   "id": "d712dbc9-8214-421a-b398-e0eb27b00df6",
   "metadata": {},
   "outputs": [
    {
     "name": "stdout",
     "output_type": "stream",
     "text": [
      "Account Holder: John Mathew\n",
      "Account Number: 23411\n",
      "Current Balance: $1000\n",
      "Deposited $500. New balance: $1500\n",
      "Withdrew $200. New balance: $1300\n",
      "Insufficient funds. Withdrawal failed.\n"
     ]
    }
   ],
   "source": [
    "\n",
    "class BankAccount:\n",
    "    def __init__(self, account_number , account_holder , balance = 0):\n",
    "        self.account_number = account_number\n",
    "        self.account_holder = account_holder\n",
    "        self.balance = balance\n",
    "        \n",
    "    def deposit(self, amount):\n",
    "        if amount > 0:\n",
    "            self.balance += amount\n",
    "            print(f\"Deposited ${amount}. New balance: ${self.balance}\")\n",
    "        else :\n",
    "            print(\"Invalid deposit amount. Please deposit a positive amount.\")\n",
    "            \n",
    "    def withdraw(self, amount):\n",
    "        if 0 < amount <= self.balance :\n",
    "            self.balance -= amount\n",
    "            print(f\"Withdrew ${amount}. New balance: ${self.balance}\")\n",
    "            \n",
    "        elif amount > self.balance :\n",
    "            print(\"Insufficient funds. Withdrawal failed.\")\n",
    "        \n",
    "        else :\n",
    "            print(\"Invalid withdrawal amount. Please withdraw a positive amount.\")\n",
    "            \n",
    "    def get_balance(self):\n",
    "        return self.balance\n",
    "        \n",
    "    def display_info(self):\n",
    "        print(f\"Account Holder: {self.account_holder}\")\n",
    "        print(f\"Account Number: {self.account_number}\")\n",
    "        print(f\"Current Balance: ${self.balance}\")\n",
    "        \n",
    "\n",
    "account1 = BankAccount(\"23411\" , \"John Mathew\" , 1000)\n",
    "\n",
    "account1.display_info()\n",
    "account1.deposit(500)\n",
    "account1.withdraw(200)\n",
    "account1.withdraw(1500) \n"
   ]
  },
  {
   "cell_type": "code",
   "execution_count": null,
   "id": "2c1e384c-7323-44de-8efa-2773cd0e08ac",
   "metadata": {},
   "outputs": [],
   "source": []
  },
  {
   "cell_type": "markdown",
   "id": "c5166f67-7d27-4ba1-b70c-7dbf0422eb8e",
   "metadata": {},
   "source": [
    "### Problem 2: Employee Management Create a class representing an employee with attributes like employee ID, name, and salary. Implement methods to calculate the yearly bonus and display employee details."
   ]
  },
  {
   "cell_type": "code",
   "execution_count": 3,
   "id": "2dc49a49-3338-4a61-a7e2-c12d672cfbf8",
   "metadata": {},
   "outputs": [
    {
     "name": "stdout",
     "output_type": "stream",
     "text": [
      "Employee ID: P451\n",
      "Name: Komal\n",
      "Salary: $50000\n",
      "Yearly Bonus: $5000.0\n"
     ]
    }
   ],
   "source": [
    "\n",
    "class Employee:\n",
    "    def __init__(self , employee_id , name , salary):\n",
    "        self.employee_id = employee_id\n",
    "        self.name = name\n",
    "        self.salary = salary\n",
    "        \n",
    "    def calculate_yearly_bonus(self, bonus_percentage):\n",
    "        if 0 <= bonus_percentage <= 100:\n",
    "            bonus_amount = (bonus_percentage / 100) * self.salary\n",
    "            print(f\"Yearly Bonus: ${bonus_amount}\")\n",
    "            return bonus_amount\n",
    "        else:\n",
    "            print(\"Invalid bonus percentage. Please provide a percentage between 0 and 100.\")\n",
    "            return 0\n",
    "\n",
    "    def display_details(self):\n",
    "        print(f\"Employee ID: {self.employee_id}\")\n",
    "        print(f\"Name: {self.name}\")\n",
    "        print(f\"Salary: ${self.salary}\")\n",
    "\n",
    "employee1 = Employee(\"P451\", \"Komal\", 50000)\n",
    "\n",
    "employee1.display_details()\n",
    "bonus_amount = employee1.calculate_yearly_bonus(10)\n"
   ]
  },
  {
   "cell_type": "code",
   "execution_count": null,
   "id": "06edba5b-f8cc-40f7-b1d1-135456cf9a6f",
   "metadata": {},
   "outputs": [],
   "source": []
  },
  {
   "cell_type": "markdown",
   "id": "75c58661-9abf-4b93-9449-50249881ad43",
   "metadata": {},
   "source": [
    "### Problem 3: Vehicle Rental Create a class representing a vehicle rental system. Implement methods to rent a vehicle, return a vehicle, and display available vehicles."
   ]
  },
  {
   "cell_type": "code",
   "execution_count": 4,
   "id": "e9856599-650f-4309-9b43-5a3da9323ac4",
   "metadata": {},
   "outputs": [
    {
     "name": "stdout",
     "output_type": "stream",
     "text": [
      "Available Vehicles:\n",
      "  V001 - Sedan\n",
      "  V002 - SUV\n",
      "  V101 - Sport Bike\n",
      "Vehicle V001 - Sedan rented successfully.\n",
      "Vehicle V002 - SUV rented successfully.\n",
      "Available Vehicles:\n",
      "  V101 - Sport Bike\n",
      "Vehicle V001 - Sedan returned successfully.\n",
      "Available Vehicles:\n",
      "  V001 - Sedan\n",
      "  V101 - Sport Bike\n"
     ]
    }
   ],
   "source": [
    "\n",
    "class Vehicle:\n",
    "    def __init__(self, vehicle_id, model, is_available=True):\n",
    "        self.vehicle_id = vehicle_id\n",
    "        self.model = model\n",
    "        self.is_available = is_available\n",
    "\n",
    "    def rent(self):\n",
    "        if self.is_available:\n",
    "            self.is_available = False\n",
    "            print(f\"Vehicle {self.vehicle_id} - {self.model} rented successfully.\")\n",
    "        else:\n",
    "            print(f\"Vehicle {self.vehicle_id} - {self.model} is not available for rent.\")\n",
    "\n",
    "    def return_vehicle(self):\n",
    "        if not self.is_available:\n",
    "            self.is_available = True\n",
    "            print(f\"Vehicle {self.vehicle_id} - {self.model} returned successfully.\")\n",
    "        else:\n",
    "            print(f\"This vehicle is already available. Cannot return again.\")\n",
    "\n",
    "    def display_info(self):\n",
    "        availability_status = \"Available\" if self.is_available else \"Not Available\"\n",
    "        print(f\"Vehicle ID: {self.vehicle_id}\")\n",
    "        print(f\"Model: {self.model}\")\n",
    "        print(f\"Availability: {availability_status}\")\n",
    "        \n",
    "class VehicleRentalSystem:\n",
    "    def __init__(self):\n",
    "        self.vehicles = {}\n",
    "\n",
    "    def add_vehicle(self, vehicle):\n",
    "        self.vehicles[vehicle.vehicle_id] = vehicle\n",
    "\n",
    "    def rent_vehicle(self, vehicle_id):\n",
    "        if vehicle_id in self.vehicles:\n",
    "            self.vehicles[vehicle_id].rent()\n",
    "        else:\n",
    "            print(\"Vehicle not found.\")\n",
    "\n",
    "    def return_vehicle(self, vehicle_id):\n",
    "        if vehicle_id in self.vehicles:\n",
    "            self.vehicles[vehicle_id].return_vehicle()\n",
    "        else:\n",
    "            print(\"Vehicle not found.\")\n",
    "\n",
    "    def display_available_vehicles(self):\n",
    "        print(\"Available Vehicles:\")\n",
    "        for vehicle_id, vehicle in self.vehicles.items():\n",
    "            if vehicle.is_available:\n",
    "                print(f\"  {vehicle_id} - {vehicle.model}\")\n",
    "        \n",
    "\n",
    "system = VehicleRentalSystem()\n",
    "\n",
    "car1 = Vehicle(\"V001\", \"Sedan\")\n",
    "car2 = Vehicle(\"V002\", \"SUV\")\n",
    "bike1 = Vehicle(\"V101\", \"Sport Bike\")\n",
    "\n",
    "system.add_vehicle(car1)\n",
    "system.add_vehicle(car2)\n",
    "system.add_vehicle(bike1)\n",
    "\n",
    "system.display_available_vehicles()\n",
    "\n",
    "system.rent_vehicle(\"V001\")\n",
    "system.rent_vehicle(\"V002\")\n",
    "system.display_available_vehicles()\n",
    "\n",
    "system.return_vehicle(\"V001\")\n",
    "system.display_available_vehicles()\n"
   ]
  },
  {
   "cell_type": "code",
   "execution_count": null,
   "id": "6b5c144f-5ef1-4834-9686-8e63d92ef4c2",
   "metadata": {},
   "outputs": [],
   "source": []
  },
  {
   "cell_type": "markdown",
   "id": "fff2cbae-e65f-4ebc-9d16-6df80f0f12c0",
   "metadata": {},
   "source": [
    "### Problem 4: Library Catalog Create classes representing a library and a book. Implement methods to add books to the library, borrow books, and display available books."
   ]
  },
  {
   "cell_type": "code",
   "execution_count": 6,
   "id": "aacc0e1e-0e91-4d1a-86ae-0556dca00791",
   "metadata": {},
   "outputs": [
    {
     "name": "stdout",
     "output_type": "stream",
     "text": [
      "Available Books:\n",
      "  B001 - 'The Catcher in the Rye' by J.D. Salinger\n",
      "  B002 - 'To Kill a Mockingbird' by Harper Lee\n",
      "  B003 - '1984' by George Orwell\n",
      "Book 'The Catcher in the Rye' by J.D. Salinger has been borrowed.\n",
      "Book 'To Kill a Mockingbird' by Harper Lee has been borrowed.\n",
      "Available Books:\n",
      "  B003 - '1984' by George Orwell\n",
      "Book 'The Catcher in the Rye' by J.D. Salinger has been returned.\n",
      "Available Books:\n",
      "  B001 - 'The Catcher in the Rye' by J.D. Salinger\n",
      "  B003 - '1984' by George Orwell\n"
     ]
    }
   ],
   "source": [
    "\n",
    "class Book:\n",
    "    def __init__(self, book_id, title, author, is_available=True):\n",
    "        self.book_id = book_id\n",
    "        self.title = title\n",
    "        self.author = author\n",
    "        self.is_available = is_available\n",
    "\n",
    "    def borrow(self):\n",
    "        if self.is_available:\n",
    "            self.is_available = False\n",
    "            print(f\"Book '{self.title}' by {self.author} has been borrowed.\")\n",
    "        else:\n",
    "            print(f\"Book '{self.title}' by {self.author} is not available for borrowing.\")\n",
    "\n",
    "            \n",
    "    def return_book(self):\n",
    "        if not self.is_available:\n",
    "            self.is_available = True\n",
    "            print(f\"Book '{self.title}' by {self.author} has been returned.\")\n",
    "        else:\n",
    "            print(f\"This book is already available. Cannot be returned again.\")\n",
    "\n",
    "    def display_info(self):\n",
    "        availability_status = \"Available\" if self.is_available else \"Not Available\"\n",
    "        print(f\"Book ID: {self.book_id}\")\n",
    "        print(f\"Title: {self.title}\")\n",
    "        print(f\"Author: {self.author}\")\n",
    "        print(f\"Availability: {availability_status}\")\n",
    "\n",
    "        \n",
    "class Library:\n",
    "    def __init__(self):\n",
    "        self.books = {}\n",
    "\n",
    "    def add_book(self, book):\n",
    "        self.books[book.book_id] = book\n",
    "\n",
    "    def borrow_book(self, book_id):\n",
    "        if book_id in self.books:\n",
    "            self.books[book_id].borrow()\n",
    "        else:\n",
    "            print(\"Book not found.\")\n",
    "\n",
    "    def return_book(self, book_id):\n",
    "        if book_id in self.books:\n",
    "            self.books[book_id].return_book()\n",
    "        else:\n",
    "            print(\"Book not found.\")\n",
    "\n",
    "    def display_available_books(self):\n",
    "        print(\"Available Books:\")\n",
    "        for book_id, book in self.books.items():\n",
    "            if book.is_available:\n",
    "                print(f\"  {book_id} - '{book.title}' by {book.author}\")\n",
    "                \n",
    "library = Library()\n",
    "\n",
    "book1 = Book(\"B001\", \"The Catcher in the Rye\", \"J.D. Salinger\")\n",
    "book2 = Book(\"B002\", \"To Kill a Mockingbird\", \"Harper Lee\")\n",
    "book3 = Book(\"B003\", \"1984\", \"George Orwell\")\n",
    "\n",
    "library.add_book(book1)\n",
    "library.add_book(book2)\n",
    "library.add_book(book3)\n",
    "\n",
    "library.display_available_books()\n",
    "\n",
    "library.borrow_book(\"B001\")\n",
    "library.borrow_book(\"B002\")\n",
    "library.display_available_books()\n",
    "\n",
    "library.return_book(\"B001\")\n",
    "library.display_available_books()                \n",
    "                "
   ]
  },
  {
   "cell_type": "code",
   "execution_count": null,
   "id": "215a4675-f289-4d83-a6f0-17a2ad2f6927",
   "metadata": {},
   "outputs": [],
   "source": []
  },
  {
   "cell_type": "markdown",
   "id": "9c8ab4d7-afbd-49f1-aa9e-7bb3b518c4fa",
   "metadata": {},
   "source": [
    "### Problem 5: Product Inventory Create classes representing a product and an inventory system. Implement methods to add products to the inventory, update product quantity, and display available products."
   ]
  },
  {
   "cell_type": "code",
   "execution_count": 7,
   "id": "99a96399-ae73-4b00-a356-ca054f7a1c54",
   "metadata": {},
   "outputs": [
    {
     "name": "stdout",
     "output_type": "stream",
     "text": [
      "Available Products:\n",
      "  P001 - Laptop ($800): 10 available\n",
      "  P002 - Smartphone ($500): 15 available\n",
      "  P003 - Headphones ($50): 30 available\n",
      "Quantity for Laptop updated to 5.\n",
      "Quantity for Smartphone updated to 20.\n",
      "Available Products:\n",
      "  P001 - Laptop ($800): 5 available\n",
      "  P002 - Smartphone ($500): 20 available\n",
      "  P003 - Headphones ($50): 30 available\n"
     ]
    }
   ],
   "source": [
    "\n",
    "class Product:\n",
    "    def __init__(self, product_id, name, price, quantity):\n",
    "        self.product_id = product_id\n",
    "        self.name = name\n",
    "        self.price = price\n",
    "        self.quantity = quantity\n",
    "\n",
    "    def update_quantity(self, new_quantity):\n",
    "        if new_quantity >= 0:\n",
    "            self.quantity = new_quantity\n",
    "            print(f\"Quantity for {self.name} updated to {new_quantity}.\")\n",
    "        else:\n",
    "            print(\"Invalid quantity. Please provide a non-negative value.\")\n",
    "\n",
    "    def display_info(self):\n",
    "        print(f\"Product ID: {self.product_id}\")\n",
    "        print(f\"Name: {self.name}\")\n",
    "        print(f\"Price: ${self.price}\")\n",
    "        print(f\"Quantity: {self.quantity}\")\n",
    "\n",
    "class Inventory:\n",
    "    def __init__(self):\n",
    "        self.products = {}\n",
    "\n",
    "    def add_product(self, product):\n",
    "        self.products[product.product_id] = product\n",
    "\n",
    "    def update_product_quantity(self, product_id, new_quantity):\n",
    "        if product_id in self.products:\n",
    "            self.products[product_id].update_quantity(new_quantity)\n",
    "        else:\n",
    "            print(\"Product not found.\")\n",
    "\n",
    "    def display_available_products(self):\n",
    "        print(\"Available Products:\")\n",
    "        for product_id, product in self.products.items():\n",
    "            print(f\"  {product_id} - {product.name} (${product.price}): {product.quantity} available\")\n",
    "inventory_system = Inventory()\n",
    "\n",
    "product1 = Product(\"P001\", \"Laptop\", 800, 10)\n",
    "product2 = Product(\"P002\", \"Smartphone\", 500, 15)\n",
    "product3 = Product(\"P003\", \"Headphones\", 50, 30)\n",
    "\n",
    "inventory_system.add_product(product1)\n",
    "inventory_system.add_product(product2)\n",
    "inventory_system.add_product(product3)\n",
    "\n",
    "inventory_system.display_available_products()\n",
    "\n",
    "inventory_system.update_product_quantity(\"P001\", 5)\n",
    "inventory_system.update_product_quantity(\"P002\", 20)\n",
    "\n",
    "inventory_system.display_available_products()\n"
   ]
  },
  {
   "cell_type": "code",
   "execution_count": null,
   "id": "b4df4965-9261-4136-88ac-abbce8a3ae80",
   "metadata": {},
   "outputs": [],
   "source": []
  },
  {
   "cell_type": "markdown",
   "id": "0abcf20f-501d-420d-b79e-a74f955def49",
   "metadata": {},
   "source": [
    "### Problem 6: Shape Calculation Create a class representing a shape with attributes like length, width, and height. Implement methods to calculate the area and perimeter of the shape."
   ]
  },
  {
   "cell_type": "code",
   "execution_count": 9,
   "id": "516ac593-6323-4d23-8507-0533ba41a889",
   "metadata": {},
   "outputs": [
    {
     "name": "stdout",
     "output_type": "stream",
     "text": [
      "Rectangle area : 120\n",
      "Rectangle perimeter : 44\n"
     ]
    }
   ],
   "source": [
    "\n",
    "class shape:\n",
    "    def __init__(self , length = 0 , width = 0 , height = 0):\n",
    "        self.length = length\n",
    "        self.width = width\n",
    "        self.height = height\n",
    "        \n",
    "    def calculate_area(self):\n",
    "        raise NotImplementedError(\" Subclasses must implement the calculate_area method \")\n",
    "        \n",
    "    def calculate_perimeter(self):\n",
    "        raise NotImplementedError(\" Subclasses must implement the calculate_perimeter method \")\n",
    "        \n",
    "class Rectangle(shape):\n",
    "    def calculate_area(self):\n",
    "        return self.length *self.width\n",
    "    \n",
    "    def calculate_perimeter(self):\n",
    "        return 2 * (self.length + self.width)\n",
    "        \n",
    "rectangle = Rectangle( length = 10, width = 12)\n",
    "\n",
    "area = rectangle.calculate_area()\n",
    "perimeter = rectangle.calculate_perimeter()\n",
    "\n",
    "print(f\"Rectangle area : {area}\")\n",
    "print(f\"Rectangle perimeter : {perimeter}\")\n"
   ]
  },
  {
   "cell_type": "code",
   "execution_count": null,
   "id": "73bae15d-cd8d-4d95-8def-1924273b55fa",
   "metadata": {},
   "outputs": [],
   "source": []
  },
  {
   "cell_type": "markdown",
   "id": "a758560c-0014-4b0e-bf64-e076c75f1ab4",
   "metadata": {},
   "source": [
    "### Problem 7: Student Management Create a class representing a student with attributes like student ID, name, and grades. Implement methods to calculate the average grade and display student details."
   ]
  },
  {
   "cell_type": "code",
   "execution_count": 12,
   "id": "d5c516d9-db3d-488d-bc36-958ee0b4abd5",
   "metadata": {},
   "outputs": [
    {
     "name": "stdout",
     "output_type": "stream",
     "text": [
      "Student_ID : S123\n",
      "Name : Rishi Dua\n",
      "Grades : 45, 78, 89, 56\n",
      "Average grade :  67.00\n",
      "Grade 90 added for Rishi Dua.\n",
      "Grade 85 added for Rishi Dua.\n",
      "Student_ID : S123\n",
      "Name : Rishi Dua\n",
      "Grades : 45, 78, 89, 56, 90, 85\n",
      "Average grade :  73.83\n"
     ]
    }
   ],
   "source": [
    "\n",
    "class Student:\n",
    "    def __init__(self , student_id , name , grades = []):\n",
    "        self.student_id = student_id\n",
    "        self.name = name \n",
    "        self.grades = grades \n",
    "        \n",
    "    def add_grade(self , grade):\n",
    "        self.grades.append(grade)\n",
    "        print(f\"Grade {grade} added for {self.name}.\")\n",
    "        \n",
    "    def calculate_average_grade(self):\n",
    "        if not self.grades :\n",
    "            print(\"No grade available\")\n",
    "            return 0\n",
    "        average_grade = sum(self.grades) / len(self.grades)\n",
    "        return average_grade\n",
    "    \n",
    "    def display_details(self):\n",
    "        print(f\"Student_ID : {self.student_id}\")\n",
    "        print(f\"Name : {self.name}\")\n",
    "        print(f\"Grades : {', '.join(map(str,self.grades))}\")\n",
    "        average_grade = self.calculate_average_grade()\n",
    "        print(f\"Average grade : {average_grade : .2f}\")\n",
    "        \n",
    "student1 = Student( student_id = \"S123\" , name = \"Rishi Dua\" , grades= [45, 78, 89, 56])\n",
    "student1.display_details()\n",
    "student1.add_grade(90)\n",
    "student1.add_grade(85)\n",
    "\n",
    "student1.display_details()\n"
   ]
  },
  {
   "cell_type": "code",
   "execution_count": null,
   "id": "fcee7bfb-a55b-4a40-a292-044cc5def5c9",
   "metadata": {},
   "outputs": [],
   "source": []
  },
  {
   "cell_type": "markdown",
   "id": "e7a7d13e-f401-4787-b708-294117bbbf16",
   "metadata": {},
   "source": [
    "### Problem 8: Email Management Create a class representing an email with attributes like sender, recipient, and subject. Implement methods to send an email and display email details."
   ]
  },
  {
   "cell_type": "code",
   "execution_count": 14,
   "id": "af857504-0802-4263-b6ad-9cc969e2d662",
   "metadata": {},
   "outputs": [
    {
     "name": "stdout",
     "output_type": "stream",
     "text": [
      "Sender : khushi@example.com\n",
      "Recipient : jay@example.com\n",
      "Subject : Meeting tomorrow\n",
      "Message : Hi jay! Let's discuss the details of python project.\n",
      "Status : Not Sent\n",
      "Email sent from khushi@example.com to jay@example.com\n",
      "Sender : khushi@example.com\n",
      "Recipient : jay@example.com\n",
      "Subject : Meeting tomorrow\n",
      "Message : Hi jay! Let's discuss the details of python project.\n",
      "Status : Sent\n"
     ]
    }
   ],
   "source": [
    "\n",
    "class Email:\n",
    "    def __init__(self, sender , recipient , subject , message):\n",
    "        self.sender = sender\n",
    "        self.recipient = recipient\n",
    "        self.subject = subject\n",
    "        self.message = message \n",
    "        self.is_sent = False\n",
    "        \n",
    "    def sent_email(self):\n",
    "        if not self.is_sent :\n",
    "            print(f\"Email sent from {self.sender} to {self.recipient}\")\n",
    "            self.is_sent = True\n",
    "        else:\n",
    "            print(\"The email has already been sent.\")\n",
    "            \n",
    "    def display_details(self):\n",
    "        print(f\"Sender : {self.sender}\")\n",
    "        print(f\"Recipient : {self.recipient}\")\n",
    "        print(f\"Subject : {self.subject}\")\n",
    "        print(f\"Message : {self.message}\")\n",
    "        print(f\"Status : {'Sent' if self.is_sent else 'Not Sent'}\")\n",
    "        \n",
    "        \n",
    "email1 = Email(sender = \"khushi@example.com\" , recipient = \"jay@example.com\" , subject = \"Meeting tomorrow\" , message = \"Hi jay! Let's discuss the details of python project.\")\n",
    "\n",
    "email1.display_details()\n",
    "email1.sent_email()\n",
    "\n",
    "email1.display_details()\n"
   ]
  },
  {
   "cell_type": "code",
   "execution_count": null,
   "id": "76ebfd07-14bf-4599-ba94-e6a24f30e420",
   "metadata": {},
   "outputs": [],
   "source": []
  },
  {
   "cell_type": "markdown",
   "id": "646249f3-0fa9-46e5-ab87-512ea1d55165",
   "metadata": {},
   "source": [
    "### Problem 9: Social Media Profile Create a class representing a social media profile with attributes like username and posts. Implement methods to add posts, display posts, and search for posts by keyword."
   ]
  },
  {
   "cell_type": "code",
   "execution_count": 15,
   "id": "2915065f-43d3-4b05-a5c4-fd00f6cb9f3e",
   "metadata": {},
   "outputs": [
    {
     "name": "stdout",
     "output_type": "stream",
     "text": [
      "Post added to John smith's profile.\n",
      "Post added to John smith's profile.\n",
      "Posts by John smith\n",
      "1. Just had a great day at the beach! by John smith\n",
      "2. Working on a new project. Excited! by John smith\n",
      "Matching posts for 'beach':\n",
      "1. Just had a great day at the beach! by John smith\n",
      "Post added to John smith's profile.\n",
      "Posts by John smith\n",
      "1. Just had a great day at the beach! by John smith\n",
      "2. Working on a new project. Excited! by John smith\n",
      "3. Enjoying the weekend vibes. by John smith\n"
     ]
    }
   ],
   "source": [
    "\n",
    "class SocialMediaProfile:\n",
    "    def __init__(self, username):\n",
    "        self.username = username\n",
    "        self.posts = []\n",
    "        \n",
    "    def add_post(self, content):\n",
    "        post = {\"content\" : content , \"author\" : self.username }\n",
    "        self.posts.append(post)\n",
    "        print(f\"Post added to {self.username}'s profile.\")\n",
    "    \n",
    "    def display_posts(self):\n",
    "        if not self.posts:\n",
    "            print(\"No posts available.\")\n",
    "            \n",
    "        else :\n",
    "            print(f\"Posts by {self.username}\")\n",
    "            for i, post in enumerate(self.posts , start = 1):\n",
    "                print(f\"{i}. {post['content']} by {post['author']}\")\n",
    "\n",
    "    def search_posts(self, keyword):\n",
    "        matching_posts = [post for post in self.posts if keyword.lower() in post['content'].lower()]\n",
    "        if not matching_posts:\n",
    "            print(f\"No posts containing '{keyword}' found.\")\n",
    "        else :\n",
    "            print(f\"Matching posts for '{keyword}':\")\n",
    "            for i, post in enumerate(matching_posts, start=1):\n",
    "                print(f\"{i}. {post['content']} by {post['author']}\")\n",
    "        \n",
    "profile1 = SocialMediaProfile( username = \"John smith\")\n",
    "\n",
    "profile1.add_post(\"Just had a great day at the beach!\")\n",
    "profile1.add_post(\"Working on a new project. Excited!\")\n",
    "\n",
    "profile1.display_posts()\n",
    "\n",
    "profile1.search_posts(\"beach\")\n",
    "\n",
    "profile1.add_post(\"Enjoying the weekend vibes.\")\n",
    "\n",
    "profile1.display_posts()"
   ]
  },
  {
   "cell_type": "code",
   "execution_count": null,
   "id": "ab7400f8-6a11-4387-a538-6197eea6ada9",
   "metadata": {},
   "outputs": [],
   "source": []
  },
  {
   "cell_type": "markdown",
   "id": "8f660f5f-f9f7-4083-be12-48240d42c05c",
   "metadata": {},
   "source": [
    "### Problem 10: ToDo List Create a class representing a ToDo list with attributes like tasks and due dates. Implement methods to add tasks, mark tasks as completed, and display pending tasks."
   ]
  },
  {
   "cell_type": "code",
   "execution_count": 16,
   "id": "de6bf9b4-d34f-47a5-b639-ab7e7e92b5b7",
   "metadata": {},
   "outputs": [
    {
     "name": "stdout",
     "output_type": "stream",
     "text": [
      "['Buy groceries for home']\n"
     ]
    }
   ],
   "source": [
    "\n",
    "class ToDoList:\n",
    "    def __init__(self):\n",
    "        self.tasks = []\n",
    "        \n",
    "    def add_task(self, task):\n",
    "        self.tasks.append(task)\n",
    "        return f\"Added task : {task}\"\n",
    "    \n",
    "    def mark_completed(self, task):\n",
    "        if task in self.tasks :\n",
    "            self.tasks.remove(task)\n",
    "            return f\"Marked task as completed : {task}\"\n",
    "        else :\n",
    "            return f\"Task not found : {task}\"\n",
    "        \n",
    "        \n",
    "    def display_pending_tasks(self):\n",
    "        return self.tasks\n",
    "    \n",
    "todo_list = ToDoList()\n",
    "todo_list.add_task(\"Buy groceries for home\")\n",
    "todo_list.add_task(\"Finish work assignment\")\n",
    "todo_list.mark_completed(\"Finish work assignment\")\n",
    "print(todo_list.display_pending_tasks())   #output : 'Buy groceries for home\n"
   ]
  },
  {
   "cell_type": "code",
   "execution_count": null,
   "id": "f6195865-c29d-442e-8723-ad318e674aaa",
   "metadata": {},
   "outputs": [],
   "source": []
  },
  {
   "cell_type": "code",
   "execution_count": null,
   "id": "2db1a076-7e22-4a7c-9906-b6b26e132837",
   "metadata": {},
   "outputs": [],
   "source": []
  },
  {
   "cell_type": "code",
   "execution_count": null,
   "id": "ed2708a6-fb1e-4f1c-9c0a-8a600d140fbe",
   "metadata": {},
   "outputs": [],
   "source": []
  }
 ],
 "metadata": {
  "colab": {
   "provenance": []
  },
  "kernelspec": {
   "display_name": "Python 3 (ipykernel)",
   "language": "python",
   "name": "python3"
  },
  "language_info": {
   "codemirror_mode": {
    "name": "ipython",
    "version": 3
   },
   "file_extension": ".py",
   "mimetype": "text/x-python",
   "name": "python",
   "nbconvert_exporter": "python",
   "pygments_lexer": "ipython3",
   "version": "3.10.8"
  }
 },
 "nbformat": 4,
 "nbformat_minor": 5
}
