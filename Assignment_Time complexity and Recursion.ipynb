{
 "cells": [
  {
   "cell_type": "code",
   "execution_count": null,
   "id": "6f9eba0b-c4ed-4067-a6b9-ee1e399fb980",
   "metadata": {},
   "outputs": [],
   "source": []
  },
  {
   "cell_type": "code",
   "execution_count": null,
   "id": "da35a825-c27e-4689-a8b6-66f71b3822db",
   "metadata": {},
   "outputs": [],
   "source": [
    "                                                 **** Time Complexity + Recursion Assignment ****"
   ]
  },
  {
   "cell_type": "code",
   "execution_count": null,
   "id": "2291648f-4088-43f3-b965-898157f33fd8",
   "metadata": {},
   "outputs": [],
   "source": []
  },
  {
   "cell_type": "markdown",
   "id": "13922767-a122-45da-86e1-2651959584dc",
   "metadata": {},
   "source": [
    "### Find time complexity of below code blocks :\n",
    "---"
   ]
  },
  {
   "cell_type": "markdown",
   "id": "c67f5245-874d-4483-9b71-8a931cb76609",
   "metadata": {},
   "source": [
    "### Problem 1 :"
   ]
  },
  {
   "cell_type": "code",
   "execution_count": null,
   "id": "b2c4ff35-e414-4035-b9c1-11e75bfcf1da",
   "metadata": {},
   "outputs": [],
   "source": [
    "'''\n",
    "def quicksort(arr):\n",
    "if len(arr) <= 1:    ---------------------> O(1)\n",
    "return arr\n",
    "pivot = arr[len(arr) // 2]    ---------------> O(1)\n",
    "left = [x for x in arr if x < pivot]    ------> O(n)\n",
    "middle = [x for x in arr if x == pivot]  --------> O(n)\n",
    "right = [x for x in arr if x > pivot]   --------> O(n)\n",
    "return quicksort(left) + middle + quicksort(right)  -----------> O(nlogn)  \n",
    "'''\n",
    "#Time Complexity: O(n log n) on average\n",
    "  # The partitioning step takes O(n) time, and the recursive calls are made on two halves.\n",
    "  # In the worst case, it can be O(n^2) if the pivot choice consistently creates imbalanced partitions.\n",
    "  # two loops are beingused"
   ]
  },
  {
   "cell_type": "code",
   "execution_count": null,
   "id": "43647732-28ef-4c29-88a6-60a86aac8554",
   "metadata": {},
   "outputs": [],
   "source": []
  },
  {
   "cell_type": "code",
   "execution_count": null,
   "id": "c12f2481-852e-4054-b892-fa3623f53276",
   "metadata": {},
   "outputs": [],
   "source": []
  },
  {
   "cell_type": "markdown",
   "id": "b9f0d66d-0b1a-42a6-ad5e-85ca89960516",
   "metadata": {},
   "source": [
    "### Problem 2 :"
   ]
  },
  {
   "cell_type": "code",
   "execution_count": null,
   "id": "59a56a3e-fd6e-46f1-8970-37a4569fc6fd",
   "metadata": {},
   "outputs": [],
   "source": [
    "'''\n",
    "def nested_loop_example(matrix):    ---------------------------> O(n**2)\n",
    "rows, cols = len(matrix), len(matrix[0])  -----------> O(1)\n",
    "total = 0\n",
    "for i in range(rows):   ------------->O(n)\n",
    "for j in range(cols):   -------------->O(n**2)\n",
    "total += matrix[i][j]\n",
    "return total\n",
    "'''\n",
    "#Time Complexity: O(rows * cols)\n",
    "  # The function iterates through each element of the matrix once.\n",
    "  # Assuming the matrix is rectangular (rows × cols).\n",
    "  # O(rows×cols) --> O(n*m)--> O(n^2)\n",
    "    "
   ]
  },
  {
   "cell_type": "code",
   "execution_count": null,
   "id": "b6514d8c-645c-4cec-86d0-0067ce0dd257",
   "metadata": {},
   "outputs": [],
   "source": []
  },
  {
   "cell_type": "code",
   "execution_count": null,
   "id": "ce667759-2766-4396-bfe1-45395f2ceca7",
   "metadata": {},
   "outputs": [],
   "source": []
  },
  {
   "cell_type": "markdown",
   "id": "be7a749d-46a5-4505-b2a9-a2c079a4bdbf",
   "metadata": {},
   "source": [
    "### Problem 3 :"
   ]
  },
  {
   "cell_type": "code",
   "execution_count": null,
   "id": "6069bae1-1760-4408-9ac3-45150ad622a9",
   "metadata": {},
   "outputs": [],
   "source": [
    "'''\n",
    "def example_function(arr):  ---------------->O(n)\n",
    "result = 0\n",
    "for element in arr:   -------------->O(n)\n",
    "result += element\n",
    "return result\n",
    "'''\n",
    "# Time Complexity: O(n)\n",
    "   # The function iterates through each element in the array once.\n",
    "   # The time complexity is linear with respect to the size of the array. Therefore, the time complexity of this code is O(n)\n"
   ]
  },
  {
   "cell_type": "code",
   "execution_count": null,
   "id": "ceaf9e9c-93bc-41b1-b270-8687566c37fc",
   "metadata": {},
   "outputs": [],
   "source": []
  },
  {
   "cell_type": "code",
   "execution_count": null,
   "id": "61f0c5b9-d256-4512-b162-f27fbc5c49d0",
   "metadata": {},
   "outputs": [],
   "source": []
  },
  {
   "cell_type": "markdown",
   "id": "7f79cdac-1d32-4b84-9990-e71128df763c",
   "metadata": {},
   "source": [
    "### Problem 4 :"
   ]
  },
  {
   "cell_type": "code",
   "execution_count": null,
   "id": "cebc15bd-c755-4749-ae19-f625feea4238",
   "metadata": {},
   "outputs": [],
   "source": [
    "'''\n",
    "def longest_increasing_subsequence(nums):    ----------------->O(n**2)\n",
    "n = len(nums)    --------------->O(1)\n",
    "lis = [1] * n      ------------->O(1)\n",
    "for i in range(1, n):     ----------------->O(n)\n",
    "for j in range(0, i):     ---------------------->O(n**2)\n",
    "if nums[i] > nums[j] and lis[i] < lis[j] + 1:\n",
    "lis[i] = lis[j] + 1\n",
    "return max(lis)\n",
    "'''\n",
    "# Time Complexity: O(n^2)\n",
    "    # The nested loops iterate through all pairs of elements in the array.\n",
    "    # The function uses a nested loop structure. The outer loop runs in O(n) time, and the inner loop runs in O(n) time in the worst case. \n",
    "    # Therefore, the overall time complexity of this code is O(n^2)\n",
    "    "
   ]
  },
  {
   "cell_type": "code",
   "execution_count": null,
   "id": "e7c5dd7d-7692-46d4-be57-89e92e1f450e",
   "metadata": {},
   "outputs": [],
   "source": []
  },
  {
   "cell_type": "code",
   "execution_count": null,
   "id": "d2d14545-2921-4265-8b43-d853471edcfd",
   "metadata": {},
   "outputs": [],
   "source": []
  },
  {
   "cell_type": "markdown",
   "id": "8bb567e8-5076-44e4-a317-1d51ff61cf29",
   "metadata": {},
   "source": [
    "### Problem 5 :"
   ]
  },
  {
   "cell_type": "code",
   "execution_count": null,
   "id": "a4d14d12-6fb9-4ace-9ffd-31a9e73595a3",
   "metadata": {},
   "outputs": [],
   "source": [
    "'''\n",
    "def mysterious_function(arr):    ------------------->O(n**2)\n",
    "n = len(arr)    ------------->O(1)\n",
    "result = 0\n",
    "for i in range(n):    ------------>O(n)\n",
    "for j in range(i, n):    --------------->O(n**2)\n",
    "result += arr[i] * arr[j]\n",
    "return result\n",
    "'''\n",
    "# Time Complexity: O(n^2)\n",
    "    # The function has nested loops that iterate through all pairs of elements in the array.\n",
    "    "
   ]
  },
  {
   "cell_type": "code",
   "execution_count": null,
   "id": "8663e560-b56a-4248-af16-4004ec53768a",
   "metadata": {},
   "outputs": [],
   "source": []
  },
  {
   "cell_type": "code",
   "execution_count": null,
   "id": "6c52103f-08f9-4859-bb25-f7fdbd006ae1",
   "metadata": {},
   "outputs": [],
   "source": []
  },
  {
   "cell_type": "markdown",
   "id": "bf261034-23b7-4e28-81a8-96afaf07bd1d",
   "metadata": {},
   "source": [
    "### Solve the following problems on recursion\n",
    "---"
   ]
  },
  {
   "cell_type": "markdown",
   "id": "2a1a4caa-2c75-4381-8f24-0c1f4469badb",
   "metadata": {},
   "source": [
    "### Problem 6 : Sum of Digits"
   ]
  },
  {
   "cell_type": "code",
   "execution_count": 1,
   "id": "60504834-c45d-4f0e-b3df-0a5ae81c0bd7",
   "metadata": {},
   "outputs": [
    {
     "name": "stdout",
     "output_type": "stream",
     "text": [
      "6\n"
     ]
    }
   ],
   "source": [
    "'''\n",
    "Write a recursive function to calculate the sum of digits of a given positive integer.\n",
    "sum_of_digits(123) -> 6\n",
    "'''\n",
    "# Time Complexity: O(log10(n))\n",
    "    # The recursive function divides the number by 10 in each call.\n",
    "    \n",
    "def sum_of_digits(n):\n",
    "    # Base case: if the number is a single digit\n",
    "    if n < 10:\n",
    "        return n\n",
    "    # Recursive case: sum the last digit with the sum of the rest of the digits\n",
    "    else:\n",
    "        return n % 10 + sum_of_digits(n // 10)\n",
    "\n",
    "# Example usage for n = 123\n",
    "result = sum_of_digits(123)\n",
    "print(result)\n"
   ]
  },
  {
   "cell_type": "code",
   "execution_count": null,
   "id": "a92d0d66-3949-40d7-8444-478138b4b38d",
   "metadata": {},
   "outputs": [],
   "source": []
  },
  {
   "cell_type": "code",
   "execution_count": null,
   "id": "a0d74a8d-ffdd-49f9-83ee-198f23e5f636",
   "metadata": {},
   "outputs": [],
   "source": []
  },
  {
   "cell_type": "markdown",
   "id": "1353f7bb-dc2f-4f91-9644-e64803a06e5b",
   "metadata": {},
   "source": [
    "### Problem 7: Fibonacci Series"
   ]
  },
  {
   "cell_type": "code",
   "execution_count": 2,
   "id": "1107d83b-207c-4dea-a192-a36971ce757c",
   "metadata": {},
   "outputs": [
    {
     "name": "stdout",
     "output_type": "stream",
     "text": [
      "[0, 1, 1, 2, 3, 5]\n"
     ]
    }
   ],
   "source": [
    "'''\n",
    "Write a recursive function to generate the first n numbers of the Fibonacci series.\n",
    "fibonacci_series(6) -> [0, 1, 1, 2, 3, 5]\n",
    "'''\n",
    "# Time Complexity: O(2^n)\n",
    "     # The naive recursive Fibonacci function has exponential time complexity due to repeated calculations.\n",
    "    \n",
    "def fibonacci_series(n):\n",
    "    if n <= 0:\n",
    "        return []\n",
    "    elif n == 1:\n",
    "        return [0]\n",
    "    elif n == 2:\n",
    "        return [0, 1]\n",
    "    else:\n",
    "        # Generate the rest of the series recursively\n",
    "        series = fibonacci_series(n - 1)\n",
    "        series.append(series[-1] + series[-2])\n",
    "        return series\n",
    "\n",
    "# Example usage for n = 6\n",
    "result = fibonacci_series(6)\n",
    "print(result)\n"
   ]
  },
  {
   "cell_type": "code",
   "execution_count": null,
   "id": "ee991649-ddb4-4c16-aea3-39ffefe289ce",
   "metadata": {},
   "outputs": [],
   "source": []
  },
  {
   "cell_type": "code",
   "execution_count": null,
   "id": "9661eaed-c54c-4a7d-a36d-f4301a3bba98",
   "metadata": {},
   "outputs": [],
   "source": []
  },
  {
   "cell_type": "markdown",
   "id": "da1a9c0e-2acc-4354-9923-ec7e2a23bba2",
   "metadata": {},
   "source": [
    "### Problem 8 : Subset Sum"
   ]
  },
  {
   "cell_type": "code",
   "execution_count": 3,
   "id": "e0adfdb8-f455-40ba-9ef6-a578e7782ebe",
   "metadata": {},
   "outputs": [
    {
     "name": "stdout",
     "output_type": "stream",
     "text": [
      "True\n"
     ]
    }
   ],
   "source": [
    "'''\n",
    "Given a set of positive integers and a target sum, write a recursive function to determine if there exists a subset\n",
    "of the integers that adds up to the target sum.\n",
    "subset_sum([3, 34, 4, 12, 5, 2], 9) -> True\n",
    "'''\n",
    "# Time Complexity: O(2^n)\n",
    "    # The recursive solution explores all possible subsets.\n",
    "    \n",
    "def subset_sum(nums, target):\n",
    "    # Helper function to check if there exists a subset with the given sum\n",
    "    def is_subset_sum(nums, n, target):\n",
    "        # Base cases\n",
    "        if target == 0:\n",
    "            return True\n",
    "        if n == 0 and target != 0:\n",
    "            return False\n",
    "\n",
    "        # If the last element is greater than the target, ignore it\n",
    "        if nums[n - 1] > target:\n",
    "            return is_subset_sum(nums, n - 1, target)\n",
    "\n",
    "        # Check if there is a subset with the given sum by either including or excluding the last element\n",
    "        return is_subset_sum(nums, n - 1, target) or is_subset_sum(nums, n - 1, target - nums[n - 1])\n",
    "\n",
    "    # Start the recursive function\n",
    "    return is_subset_sum(nums, len(nums), target)\n",
    "\n",
    "# Example usage for nums = [3, 34, 4, 12, 5, 2] and target = 9\n",
    "result = subset_sum([3, 34, 4, 12, 5, 2], 9)\n",
    "print(result)\n"
   ]
  },
  {
   "cell_type": "code",
   "execution_count": null,
   "id": "40c317ec-5200-4eac-bc79-9cd736637ffa",
   "metadata": {},
   "outputs": [],
   "source": []
  },
  {
   "cell_type": "markdown",
   "id": "3127557a-a53d-47b1-ac46-20713bb3b430",
   "metadata": {},
   "source": [
    "### Problem 9: Word Break"
   ]
  },
  {
   "cell_type": "code",
   "execution_count": 2,
   "id": "93ee8b5c-5a37-4884-a929-37396a148a32",
   "metadata": {},
   "outputs": [
    {
     "name": "stdout",
     "output_type": "stream",
     "text": [
      "True\n"
     ]
    }
   ],
   "source": [
    "'''\n",
    "Given a non-empty string and a dictionary of words, write a recursive function to determine if the string can be\n",
    "segmented into a space-separated sequence of dictionary words.\n",
    "word_break( leetcode , [ leet , code ]) -> True\n",
    "'''\n",
    "# Time Complexity: Exponential\n",
    "   # The recursive solution explores all possible segmentations\n",
    "    \n",
    "def word_break(wordList, word):\n",
    "    if word == \"\":\n",
    "        return True\n",
    "    else:\n",
    "        wordLen = len(word)\n",
    "        for i in range(1, wordLen + 1):\n",
    "            if word[:i] in wordList and word_break(wordList, word[i:]):\n",
    "                return True\n",
    "        return False\n",
    "\n",
    "# Example usage\n",
    "wordList = [\"leet\", \"code\"]\n",
    "input_word = \"leetcode\"\n",
    "result = word_break(wordList, input_word)\n",
    "\n",
    "print(result)\n"
   ]
  },
  {
   "cell_type": "code",
   "execution_count": null,
   "id": "69bb9e67-5a8d-49d3-acaf-5a45ae021bca",
   "metadata": {},
   "outputs": [],
   "source": []
  },
  {
   "cell_type": "code",
   "execution_count": null,
   "id": "4220c096-b122-4f67-b0c8-a4d9885e0c0f",
   "metadata": {},
   "outputs": [],
   "source": []
  },
  {
   "cell_type": "markdown",
   "id": "4f2a83dd-6ecd-48f9-b6d4-ed23ad1e47dc",
   "metadata": {},
   "source": [
    "### Problem 10 : N-Queens"
   ]
  },
  {
   "cell_type": "code",
   "execution_count": null,
   "id": "adbfeee3-e6e6-4919-a903-4f0b4c5f3557",
   "metadata": {},
   "outputs": [],
   "source": [
    "'''\n",
    "Implement a recursive function to solve the N Queens problem, where you have to place N queens on an N×N\n",
    "chessboard in such a way that no two queens threaten each other.\n",
    "n_queens(4)\n",
    "[\n",
    "[\".Q..\",\n",
    "\"...Q\",\n",
    "\"Q...\",\n",
    "\"..Q.\"],\n",
    "[\"..Q.\",\n",
    "\"Q...\",\n",
    "\"...Q\",\n",
    "\".Q..\"]\n",
    "]\n",
    "'''\n",
    "# Time Complexity: Exponential\n",
    "    # The recursive solution explores all possible queen placements.\n",
    "    "
   ]
  },
  {
   "cell_type": "code",
   "execution_count": 1,
   "id": "8bc865e0-8cad-49e0-b7c9-c901a5a5d906",
   "metadata": {},
   "outputs": [
    {
     "name": "stdout",
     "output_type": "stream",
     "text": [
      ". . Q . \n",
      "Q . . . \n",
      ". . . Q \n",
      ". Q . . \n"
     ]
    }
   ],
   "source": [
    "def isSafeToPlaceQueen(board , row , col , n):\n",
    "\n",
    "  # Check in the left side\n",
    "  for i in range(col):\n",
    "    if board[row][i]==1 :\n",
    "      return False\n",
    "\n",
    "  #Check in the upper left diagonal\n",
    "  for i, j in zip(range(row,-1,-1),range(col,-1,-1)):\n",
    "    if board[i][j] ==1:\n",
    "      return False\n",
    "\n",
    "  #Check in the lower left diagonal\n",
    "  for i,j in zip(range(row,n,1 ), range(col, -1,-1)):\n",
    "    if board[i][j]==1:\n",
    "      return False\n",
    "\n",
    "  return True\n",
    "\n",
    "\n",
    "def solveNQ(board,n):\n",
    "\n",
    "  if not solveNQUtil(board,0,n):\n",
    "    print(\"Solution doesn't exist\")\n",
    "    return\n",
    "\n",
    "  printBoard(board,n)\n",
    "\n",
    "# Should return True if we are able to place all the queens\n",
    "def solveNQUtil(board , col , n):\n",
    "  if(col >=n): #Base condition\n",
    "    return True  # Means we have bee able to put queens in all the columns\n",
    "  # Check for all the rows\n",
    "  for row in range(n) :\n",
    "    if isSafeToPlaceQueen(board,row,col, n) :\n",
    "      board[row][col]= 1 #Set the queen\n",
    "\n",
    "      #Recursively try for the next columns\n",
    "      if solveNQUtil(board,col+1,n):\n",
    "        return True\n",
    "      #Back Tracking\n",
    "      board[row][col]= 0 # Queen can't be set here\n",
    "  return False #Won't be able to place the queen\n",
    "\n",
    "\n",
    "def printBoard(board,n):\n",
    "  for i in range(n):\n",
    "    for j in range(n):\n",
    "      if board[i][j]==1 :\n",
    "        print(\"Q\",end=\" \")\n",
    "      else :\n",
    "        print(\".\",end=\" \")\n",
    "    print()\n",
    "board = [[0,0,0,0],\n",
    "         [0,0,0,0],\n",
    "         [0,0,0,0],\n",
    "         [0,0,0,0]\n",
    "         ]\n",
    "solveNQ(board,4)\n",
    "# n_queens(4)\n",
    "    "
   ]
  },
  {
   "cell_type": "code",
   "execution_count": null,
   "id": "b18899e0-46a3-474b-8d73-dc39a566146e",
   "metadata": {},
   "outputs": [],
   "source": []
  },
  {
   "cell_type": "code",
   "execution_count": null,
   "id": "80c12543-024f-4dc7-82df-4ecf34dcb331",
   "metadata": {},
   "outputs": [],
   "source": []
  }
 ],
 "metadata": {
  "kernelspec": {
   "display_name": "Python 3 (ipykernel)",
   "language": "python",
   "name": "python3"
  },
  "language_info": {
   "codemirror_mode": {
    "name": "ipython",
    "version": 3
   },
   "file_extension": ".py",
   "mimetype": "text/x-python",
   "name": "python",
   "nbconvert_exporter": "python",
   "pygments_lexer": "ipython3",
   "version": "3.10.8"
  }
 },
 "nbformat": 4,
 "nbformat_minor": 5
}
