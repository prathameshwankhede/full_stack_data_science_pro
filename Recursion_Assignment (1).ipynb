{
 "cells": [
  {
   "cell_type": "code",
   "execution_count": null,
   "id": "4d0ab3e5-0d47-4899-a795-5dd05a68e860",
   "metadata": {},
   "outputs": [],
   "source": []
  },
  {
   "cell_type": "code",
   "execution_count": null,
   "id": "99155aa4-0727-4004-a49a-198df10f085a",
   "metadata": {},
   "outputs": [],
   "source": [
    "                                                 ****Recursion Assignment Questions****"
   ]
  },
  {
   "cell_type": "code",
   "execution_count": null,
   "id": "2b3824f8-0d1e-409c-85e4-db35d1416bc4",
   "metadata": {},
   "outputs": [],
   "source": []
  },
  {
   "cell_type": "markdown",
   "id": "490554af-9406-46c6-b9eb-d61590499f52",
   "metadata": {},
   "source": [
    "### Q.1 Can you explain the logic and working of the Tower of Hanoi algorithm by writing a Java program? How does the recursion work, and how are the movements of disks between rods accomplished?"
   ]
  },
  {
   "cell_type": "code",
   "execution_count": 1,
   "id": "a08edf07-d885-403a-b2c1-7935c68deb06",
   "metadata": {},
   "outputs": [
    {
     "name": "stdout",
     "output_type": "stream",
     "text": [
      "Move disk 1 from rod A to rod C\n",
      "Move disk 2 from rod A to rod B\n",
      "Move disk 1 from rod C to rod B\n",
      "Move disk 3 from rod A to rod C\n",
      "Move disk 1 from rod B to rod A\n",
      "Move disk 2 from rod B to rod C\n",
      "Move disk 1 from rod A to rod C\n"
     ]
    }
   ],
   "source": [
    "'''\n",
    "The Tower of Hanoi is a classic problem involving three rods and a number of disks of different sizes. The goal is to move all  the disks from \n",
    "one rod to another while following these rules:\n",
    "Only one disk can be moved at a time. Each move involves taking the top disk from one stack and placing it onto another stack. No disk can\n",
    "be placed on top of a smaller disk.\n",
    "'''\n",
    "def tower_of_hanoi(n, source, target, auxiliary):\n",
    "    if n == 1 :\n",
    "        print(f\"Move disk 1 from rod {source} to rod {target}\")\n",
    "        return\n",
    "    tower_of_hanoi(n - 1 , source, auxiliary, target)\n",
    "    print(f\"Move disk {n} from rod {source} to rod {target}\")\n",
    "    tower_of_hanoi(n - 1, auxiliary, target, source)\n",
    "    \n",
    "#calling the function with 3 disks, source 'A', target 'C', and auxiliary 'B'\n",
    "tower_of_hanoi(3, 'A', 'C', 'B')\n"
   ]
  },
  {
   "cell_type": "code",
   "execution_count": null,
   "id": "139bf8c0-a4f9-473e-ad58-54de1a784b64",
   "metadata": {},
   "outputs": [],
   "source": []
  },
  {
   "cell_type": "markdown",
   "id": "65da1068-2b42-4c69-9c1f-664e9a74a191",
   "metadata": {},
   "source": [
    "### Q.2 Given two strings word1 and word2, return the minimum number of operations required to convert word1 to word2."
   ]
  },
  {
   "cell_type": "code",
   "execution_count": 2,
   "id": "44a15754-6747-445b-b673-0554aefabefd",
   "metadata": {},
   "outputs": [
    {
     "name": "stdout",
     "output_type": "stream",
     "text": [
      "3\n",
      "5\n"
     ]
    }
   ],
   "source": [
    "'''\n",
    "Example 1:\n",
    "Input: word1 = \"horse\", word2 = \"ros\"\n",
    "Output: 3\n",
    "Explanation:\n",
    "horse -> rorse (replace 'h' with 'r')\n",
    "rorse -> rose (remove 'r')\n",
    "rose -> ros (remove 'e')\n",
    "\n",
    "Example 2:\n",
    "Input: word1 = \"intention\", word2 = \"execution\"\n",
    "Output: 5\n",
    "Explanation:\n",
    "intention -> inention (remove 't')\n",
    "inention -> enention (replace 'i' with 'e')\n",
    "enention -> exention (replace 'n' with 'x')\n",
    "exention -> exection (replace 'n' with 'c')\n",
    "exection -> execution (insert 'u')\n",
    "'''\n",
    "def min_operations(word1 , word2):\n",
    "    m, n = len(word1), len(word2)\n",
    "    dp = [[0] * (n+1) for _ in range(m+1)]\n",
    "    for i in range(m+1):\n",
    "        for j in range(n+1):\n",
    "            if i == 0:\n",
    "                dp[i][j] == j\n",
    "            elif j == 0:\n",
    "                dp[i][j] = i\n",
    "            elif word1[i-1] == word2[j-1]:\n",
    "                dp[i][j] = dp[i-1][j-1]\n",
    "            else :\n",
    "                dp[i][j] = 1 + min(dp[i][j-1], dp[i-1][j], dp[i-1][j-1])\n",
    "    return dp[m][n]\n",
    "                               \n",
    "#Example cases\n",
    "print(min_operations(\"horse\",\"ros\"))  # output: 3\n",
    "print(min_operations(\"intension\", \"execution\"))  # output :5\n",
    "                               "
   ]
  },
  {
   "cell_type": "code",
   "execution_count": null,
   "id": "7fbdff52-6104-4769-9df0-1b088b7d104b",
   "metadata": {},
   "outputs": [],
   "source": []
  },
  {
   "cell_type": "markdown",
   "id": "09e5f7f7-9bd2-4988-a703-633278c3ab2e",
   "metadata": {},
   "source": [
    "### Q. 3 Print the max value of the array [ 13, 1, -3, 22, 5]."
   ]
  },
  {
   "cell_type": "code",
   "execution_count": 3,
   "id": "d09afb0a-47b5-4f86-9287-71aa48166f4e",
   "metadata": {},
   "outputs": [
    {
     "name": "stdout",
     "output_type": "stream",
     "text": [
      "Max value of the array : 22\n"
     ]
    }
   ],
   "source": [
    "arr = [ 13, 1, -3, 22, 5]\n",
    "max_value = max(arr)\n",
    "print(f\"Max value of the array : {max_value}\")\n"
   ]
  },
  {
   "cell_type": "code",
   "execution_count": null,
   "id": "31b23f76-3e5b-4a4c-b8a0-6e419220e067",
   "metadata": {},
   "outputs": [],
   "source": []
  },
  {
   "cell_type": "markdown",
   "id": "f90094a6-9052-4dcf-bd35-fa50d2d46f64",
   "metadata": {},
   "source": [
    "### Q.4 Find the sum of the values of the array [92, 23, 15, -20, 10]."
   ]
  },
  {
   "cell_type": "code",
   "execution_count": 4,
   "id": "2ca60009-908c-4cad-8307-a5407fad3d05",
   "metadata": {},
   "outputs": [
    {
     "name": "stdout",
     "output_type": "stream",
     "text": [
      "Sum of values of the array :\n",
      "120\n"
     ]
    }
   ],
   "source": [
    "arr = [92, 23, 15, -20, 10]\n",
    "sum_value = 0\n",
    "for i in arr:\n",
    "    sum_value += i\n",
    "\n",
    "print(f\"Sum of values of the array :\")\n",
    "print(sum_value)\n"
   ]
  },
  {
   "cell_type": "code",
   "execution_count": null,
   "id": "de574824-26c7-4cf2-9227-f29ad31e112e",
   "metadata": {},
   "outputs": [],
   "source": []
  },
  {
   "cell_type": "markdown",
   "id": "adbcd1d0-8260-4708-ac72-eadb488379ff",
   "metadata": {},
   "source": [
    "### Q.5 Given a number n. Print if it is an armstrong number or not.An armstrong number is a number if the sum of every digit in that number raised to the power of total digits in that number is equal to the number."
   ]
  },
  {
   "cell_type": "code",
   "execution_count": 5,
   "id": "7d0610ce-2f81-4224-861c-33243d921a55",
   "metadata": {},
   "outputs": [
    {
     "name": "stdout",
     "output_type": "stream",
     "text": [
      "Input1 : 153 ,  output1 : Yes\n",
      "Input2 : 134 , output2 : No\n"
     ]
    }
   ],
   "source": [
    "'''\n",
    "Example : 153 = 1^3 + 5^3 + 3^3 = 1 + 125 + 27 = 153 hence 153 is an armstrong number. (Easy)\n",
    "Input1 : 153\n",
    "Output1 : Yes\n",
    "\n",
    "Input 2 : 134\n",
    "Output2 : No\n",
    "'''\n",
    "\n",
    "# Method to find the armstrong number\n",
    "def check_armstrong_number(n, l):\n",
    "    \n",
    "    # Base case \n",
    "    if n < 9 :\n",
    "        return n\n",
    "    \n",
    "    # Recursive call\n",
    "    else :\n",
    "        # n%10 extract the last digit from the number\n",
    "        # n//10 update the value\n",
    "        return (n%10)**l + check_armstrong_number( n // 10 , l)\n",
    "    \n",
    "# Driver code\n",
    "input1 = 153\n",
    "result1 = check_armstrong_number(153 , l = len(str(input1)))\n",
    "input2 = 134\n",
    "result2 = check_armstrong_number(134 , l = len(str(input2)))\n",
    "\n",
    "# Armstrong condition\n",
    "if input1 == result1:\n",
    "    print(f\"Input1 : {input1} ,  output1 : Yes\")\n",
    "else :\n",
    "    print(f\"Input1 : {input1} , output1 : No\")\n",
    "                                 \n",
    "if input2 == result2:\n",
    "    print(f\"Input2 : {input2} , output2 : Yes\")\n",
    "else :\n",
    "    print(f\"Input2 : {input2} , output2 : No\")\n"
   ]
  },
  {
   "cell_type": "code",
   "execution_count": null,
   "id": "b5d8b367-ba35-4969-bc87-bd449905d19a",
   "metadata": {},
   "outputs": [],
   "source": []
  }
 ],
 "metadata": {
  "kernelspec": {
   "display_name": "Python 3 (ipykernel)",
   "language": "python",
   "name": "python3"
  },
  "language_info": {
   "codemirror_mode": {
    "name": "ipython",
    "version": 3
   },
   "file_extension": ".py",
   "mimetype": "text/x-python",
   "name": "python",
   "nbconvert_exporter": "python",
   "pygments_lexer": "ipython3",
   "version": "3.10.8"
  }
 },
 "nbformat": 4,
 "nbformat_minor": 5
}
