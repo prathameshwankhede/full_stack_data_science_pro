{
 "cells": [
  {
   "cell_type": "code",
   "execution_count": null,
   "id": "1d8034fc-85d0-4438-bcef-d1fb420ed6b8",
   "metadata": {},
   "outputs": [],
   "source": []
  },
  {
   "cell_type": "code",
   "execution_count": null,
   "id": "63c836e1-72fd-4367-b79c-514124bf2bae",
   "metadata": {},
   "outputs": [],
   "source": []
  },
  {
   "cell_type": "markdown",
   "id": "6f3d5b9e-3779-4611-ae95-2d6223c099be",
   "metadata": {},
   "source": [
    "                                                                 ****For Loop****"
   ]
  },
  {
   "cell_type": "code",
   "execution_count": null,
   "id": "a3430d08-ced1-41cf-bed3-580851dc96c3",
   "metadata": {},
   "outputs": [],
   "source": []
  },
  {
   "cell_type": "markdown",
   "id": "2d4657ba-c22d-4b81-bf7d-2ba7cb3f94e4",
   "metadata": {},
   "source": [
    "## **ASSIGNMENT QUESTIONS** ##"
   ]
  },
  {
   "cell_type": "code",
   "execution_count": null,
   "id": "0092f319-906c-4ee9-8321-4732d11866ea",
   "metadata": {},
   "outputs": [],
   "source": []
  },
  {
   "cell_type": "markdown",
   "id": "e80608ab-b4e2-43d9-a9d1-b96ad9efe632",
   "metadata": {},
   "source": [
    "### Basic level:\n",
    "---"
   ]
  },
  {
   "cell_type": "markdown",
   "id": "74a12c1c-5c78-4fa1-8d8a-6c4e33fa4e53",
   "metadata": {},
   "source": [
    "### 1.Write a Python program to print the numbers from 1 to 10 using a 'for' loop."
   ]
  },
  {
   "cell_type": "code",
   "execution_count": 1,
   "id": "f9b8b7fd-106c-4948-86b9-1709c3c9b94b",
   "metadata": {},
   "outputs": [
    {
     "name": "stdout",
     "output_type": "stream",
     "text": [
      "The numbers from 1 to 10 :\n",
      "1 2 3 4 5 6 7 8 9 10 "
     ]
    }
   ],
   "source": [
    "print(\"The numbers from 1 to 10 :\" )\n",
    "for i in range(1,11):\n",
    "     print(i, end =' ')"
   ]
  },
  {
   "cell_type": "code",
   "execution_count": null,
   "id": "ef835c7f-12d9-4c17-8c04-cdc0c4f565cc",
   "metadata": {},
   "outputs": [],
   "source": []
  },
  {
   "cell_type": "markdown",
   "id": "f0bbb8b9-7f68-43f1-bdc9-dfefa01cceca",
   "metadata": {},
   "source": [
    "### 2.Create a program that calculates the sum of all numbers in a list using a 'for' loop."
   ]
  },
  {
   "cell_type": "code",
   "execution_count": 2,
   "id": "77436531-bfad-43f1-8832-f1f9a1dd89f7",
   "metadata": {},
   "outputs": [
    {
     "name": "stdout",
     "output_type": "stream",
     "text": [
      "List 1 : [2, 3, 4, 5]\n",
      "Calculates the sum of all numbers in a list_1 : 14\n"
     ]
    }
   ],
   "source": [
    "list_1 = [2,3,4,5]\n",
    "print(\"List 1 :\",list_1)\n",
    "sum_num = 0\n",
    "for i in list_1:\n",
    "    sum_num +=i\n",
    "print(\"Calculates the sum of all numbers in a list_1 :\",sum_num)"
   ]
  },
  {
   "cell_type": "code",
   "execution_count": null,
   "id": "66431982-9f0b-4f9e-8db4-f7e27ac84ed0",
   "metadata": {},
   "outputs": [],
   "source": []
  },
  {
   "cell_type": "markdown",
   "id": "8058768e-e7e7-44bb-a887-418cca22991b",
   "metadata": {},
   "source": [
    "### 3.Write a program to print the characters of a string in reverse order using a 'for' loop."
   ]
  },
  {
   "cell_type": "code",
   "execution_count": 3,
   "id": "6ca3609f-2095-4924-a22e-8db85587e80c",
   "metadata": {},
   "outputs": [
    {
     "name": "stdout",
     "output_type": "stream",
     "text": [
      "String : reverse\n",
      "Print the characters of a string in reverse order using a 'for' loop : esrever \n"
     ]
    }
   ],
   "source": [
    "string = \"reverse\"\n",
    "print(\"String :\",string)\n",
    "str_output = \" \"\n",
    "for p in string :\n",
    "    str_output = p + str_output\n",
    "print(\"Print the characters of a string in reverse order using a 'for' loop :\",str_output)"
   ]
  },
  {
   "cell_type": "code",
   "execution_count": null,
   "id": "af1fd93d-7421-4ea5-8d59-e4138c1fdd32",
   "metadata": {},
   "outputs": [],
   "source": []
  },
  {
   "cell_type": "markdown",
   "id": "e653a301-a534-4740-9498-5be1c9919887",
   "metadata": {},
   "source": [
    "### 4.Develop a program that finds the factorial of a given number using a 'for' loop."
   ]
  },
  {
   "cell_type": "code",
   "execution_count": 4,
   "id": "c43a3eea-1621-4418-a52e-827682545fc9",
   "metadata": {},
   "outputs": [
    {
     "name": "stdin",
     "output_type": "stream",
     "text": [
      "Enter a given number : 7\n"
     ]
    },
    {
     "name": "stdout",
     "output_type": "stream",
     "text": [
      "The factorial of a given number = 7 is 5040\n"
     ]
    }
   ],
   "source": [
    "given_number = int(input(\"Enter a given number :\"))\n",
    "factorial = 1\n",
    "if given_number >= 1:\n",
    "    for i in range(1, given_number+1):\n",
    "        factorial *= i\n",
    "print(f\"The factorial of a given number = {given_number} is\" , factorial)\n",
    "    "
   ]
  },
  {
   "cell_type": "code",
   "execution_count": null,
   "id": "2134273b-4f08-4162-bc15-4524a58b1f71",
   "metadata": {},
   "outputs": [],
   "source": []
  },
  {
   "cell_type": "markdown",
   "id": "ad8f3ab3-b5ca-499a-9602-1f84e142279b",
   "metadata": {},
   "source": [
    "### 5.Create a program to print the multiplication table of a given number using a 'for' loop."
   ]
  },
  {
   "cell_type": "code",
   "execution_count": 5,
   "id": "ec580159-b8b5-4be2-919d-0302e1c8cd70",
   "metadata": {},
   "outputs": [
    {
     "name": "stdin",
     "output_type": "stream",
     "text": [
      "Enter a number : 12\n"
     ]
    },
    {
     "name": "stdout",
     "output_type": "stream",
     "text": [
      "The muliplication table of a given number 12 :\n",
      "12 X 1 = 12\n",
      "12 X 2 = 24\n",
      "12 X 3 = 36\n",
      "12 X 4 = 48\n",
      "12 X 5 = 60\n",
      "12 X 6 = 72\n",
      "12 X 7 = 84\n",
      "12 X 8 = 96\n",
      "12 X 9 = 108\n",
      "12 X 10 = 120\n"
     ]
    }
   ],
   "source": [
    "n = int(input(\"Enter a number :\"))\n",
    "print(f\"The muliplication table of a given number {n} :\")\n",
    "for i in range(1,11):\n",
    "    print( n,'X',i , \"=\",n*i )"
   ]
  },
  {
   "cell_type": "code",
   "execution_count": null,
   "id": "0b43ff66-80bc-4544-af27-fe791688c886",
   "metadata": {},
   "outputs": [],
   "source": []
  },
  {
   "cell_type": "markdown",
   "id": "4e87be95-6788-4aa7-b704-94f1d6fbd49c",
   "metadata": {},
   "source": [
    "### 6. Write a program that counts the number of even and odd numbers in a list using a 'for' loop."
   ]
  },
  {
   "cell_type": "code",
   "execution_count": 6,
   "id": "d04dbcc4-7916-44e8-99d3-04159ececdc9",
   "metadata": {},
   "outputs": [
    {
     "name": "stdout",
     "output_type": "stream",
     "text": [
      "Example list : [1, 2, 3, 4, 5, 6, 7]\n",
      "Count the number of even numbers in a list : 12\n",
      "Count the number of odd numbers in a list : 16\n"
     ]
    }
   ],
   "source": [
    "example_list = [1,2,3,4,5,6,7]\n",
    "print(\"Example list :\",example_list)\n",
    "even_count = 0\n",
    "odd_count = 0\n",
    "for i in example_list:\n",
    "    if i%2 == 0:\n",
    "        even_count +=i\n",
    "    else :\n",
    "        odd_count +=i\n",
    "print(\"Count the number of even numbers in a list :\",even_count)\n",
    "print(\"Count the number of odd numbers in a list :\",odd_count)"
   ]
  },
  {
   "cell_type": "code",
   "execution_count": null,
   "id": "6c6ae8f0-96aa-4298-a1ea-933536401be6",
   "metadata": {},
   "outputs": [],
   "source": []
  },
  {
   "cell_type": "markdown",
   "id": "007d1963-b09e-48e3-8680-3de45dbd7938",
   "metadata": {},
   "source": [
    "### 7.Develop a program that prints the squares of numbers from 1 to 5 using a 'for' loop."
   ]
  },
  {
   "cell_type": "code",
   "execution_count": 7,
   "id": "602fe2cb-54b5-4f63-bf0d-51d2f7259545",
   "metadata": {},
   "outputs": [
    {
     "name": "stdout",
     "output_type": "stream",
     "text": [
      "The numbers from 1 to 5 : [1, 2, 3, 4, 5]\n",
      "The squares of numbers from 1 to 5 : [1, 4, 9, 16, 25]\n"
     ]
    }
   ],
   "source": [
    "print(\"The numbers from 1 to 5 :\",list(range(1,6)))\n",
    "square = [i**2 for i in range(1,6)]\n",
    "print(\"The squares of numbers from 1 to 5 :\",square)"
   ]
  },
  {
   "cell_type": "code",
   "execution_count": null,
   "id": "ae279e48-e1bd-40a6-a4f9-d4af7225a1f0",
   "metadata": {},
   "outputs": [],
   "source": []
  },
  {
   "cell_type": "markdown",
   "id": "1fef4720-8b8c-45a7-80fe-452a3e5fc852",
   "metadata": {},
   "source": [
    "### 8.Create a program to find the length of a string without using the 'len()' function."
   ]
  },
  {
   "cell_type": "code",
   "execution_count": 8,
   "id": "c57338a1-7b46-41d7-8b19-3d66f0430472",
   "metadata": {},
   "outputs": [
    {
     "name": "stdout",
     "output_type": "stream",
     "text": [
      "String : Program\n",
      "The length of a string : 7\n"
     ]
    }
   ],
   "source": [
    "string = \"Program\"\n",
    "print(\"String :\",string)\n",
    "count = 0\n",
    "for i in string:\n",
    "    count +=1\n",
    "print(\"The length of a string :\",count)"
   ]
  },
  {
   "cell_type": "code",
   "execution_count": null,
   "id": "c347956c-42a0-4cd1-bcb5-f8f90e765401",
   "metadata": {},
   "outputs": [],
   "source": []
  },
  {
   "cell_type": "markdown",
   "id": "581c7136-0527-4153-b1bd-1926ab224439",
   "metadata": {},
   "source": [
    "### 9.Write a program that calculates the average of a list of numbers using a 'for' loop."
   ]
  },
  {
   "cell_type": "code",
   "execution_count": 9,
   "id": "e7484fbe-ea21-41f9-8e16-b58529e16949",
   "metadata": {},
   "outputs": [
    {
     "name": "stdout",
     "output_type": "stream",
     "text": [
      "Example list : [10, 20, 30, 40, 50, 70]\n",
      "The average of a example list : 36.666666666666664\n"
     ]
    }
   ],
   "source": [
    "example_list = [10,20,30,40,50,70]\n",
    "print(\"Example list :\",example_list)\n",
    "total_sum = 0\n",
    "count_a = 0\n",
    "for i in example_list:\n",
    "    total_sum += i\n",
    "    count_a += 1\n",
    "print(\"The average of a example list :\", total_sum/count_a)\n",
    "\n"
   ]
  },
  {
   "cell_type": "code",
   "execution_count": null,
   "id": "ea6096a0-810f-4f69-b74d-a27444efce0b",
   "metadata": {},
   "outputs": [],
   "source": []
  },
  {
   "cell_type": "markdown",
   "id": "abf5abf0-cdbc-43fb-b4ed-d435c9bf5c2d",
   "metadata": {},
   "source": [
    "### 10.Develop a program that prints the first 'n' Fibonacci numbers using a 'for' loop."
   ]
  },
  {
   "cell_type": "code",
   "execution_count": 10,
   "id": "ad4d1e09-b110-499b-acfa-4af74bc1d204",
   "metadata": {},
   "outputs": [
    {
     "name": "stdout",
     "output_type": "stream",
     "text": [
      "Fibonacci series : 0 1 1 2 3 5 8 13 21 34 \n"
     ]
    }
   ],
   "source": [
    "num = 10\n",
    "n1 , n2 = 0,1\n",
    "print(\"Fibonacci series :\", n1 , n2 , end = \" \")\n",
    "for i in range(2,num) :\n",
    "    n3 = n1 + n2\n",
    "    n1 = n2\n",
    "    n2 = n3\n",
    "    print(n3 , end = \" \")\n",
    "print()"
   ]
  },
  {
   "cell_type": "code",
   "execution_count": null,
   "id": "41a044c2-825d-43a3-a7fd-63056ccc3fbc",
   "metadata": {},
   "outputs": [],
   "source": []
  },
  {
   "cell_type": "code",
   "execution_count": null,
   "id": "2ea2a0ca-d4b8-4c52-b74d-484c38ae44b9",
   "metadata": {},
   "outputs": [],
   "source": []
  },
  {
   "cell_type": "markdown",
   "id": "5943c9fe-18c3-42d2-b1f3-03b4af88affe",
   "metadata": {},
   "source": [
    "## Intermediate Level:\n",
    "---"
   ]
  },
  {
   "cell_type": "markdown",
   "id": "34c1d5af-309e-4636-b5d1-ce730c5067be",
   "metadata": {},
   "source": [
    "### 11.Write a program to check if a given list contains any duplicates using a 'for' loop."
   ]
  },
  {
   "cell_type": "code",
   "execution_count": 14,
   "id": "4cb223e0-12ea-4d0b-9f19-ec824aef5579",
   "metadata": {},
   "outputs": [
    {
     "name": "stdout",
     "output_type": "stream",
     "text": [
      "List : [1, 2, 3, 4, 5, 6, 1, 2]\n",
      "Yes, Duplicates Present in list\n"
     ]
    }
   ],
   "source": [
    "l=[1,2,3,4,5,6,1,2]\n",
    "print(\"List :\",l)\n",
    "cd=0 #to count duplicates\n",
    "m=l  #to iterate over list without the element that we are checking  \n",
    "for i in l:\n",
    "    m.remove(i)\n",
    "    for j in m:\n",
    "        if i==j:\n",
    "            cd+=1\n",
    "if cd>0:\n",
    "    print(\"Yes, Duplicates Present in list\")\n",
    "else:\n",
    "    print(\"No, duplicates present in list\")"
   ]
  },
  {
   "cell_type": "code",
   "execution_count": null,
   "id": "edba5ffd-d86a-49ba-8a47-aecd1d4c64ad",
   "metadata": {},
   "outputs": [],
   "source": []
  },
  {
   "cell_type": "markdown",
   "id": "9e2229a4-0317-4f89-8ad1-8595507ace88",
   "metadata": {},
   "source": [
    "### 12.Create a program that prints the prime numbers in a given range using a 'for' loop."
   ]
  },
  {
   "cell_type": "code",
   "execution_count": 15,
   "id": "54a151a6-db53-402b-a6e8-6bdeda782c64",
   "metadata": {},
   "outputs": [
    {
     "name": "stdin",
     "output_type": "stream",
     "text": [
      "Enter the start point of the range:  10\n",
      "Enter the end point of the range:  20\n"
     ]
    },
    {
     "name": "stdout",
     "output_type": "stream",
     "text": [
      "The prime numbers in a given range : [11, 13, 17, 19]\n"
     ]
    }
   ],
   "source": [
    "a = int(input('Enter the start point of the range: '))\n",
    "b = int(input('Enter the end point of the range: '))\n",
    "list_prime = []\n",
    "for i in range(a, b+1):\n",
    "    count = 0\n",
    "    for j in range(2, (i//2 + 1)):\n",
    "        if(i % j == 0):\n",
    "            count = count + 1\n",
    "            break\n",
    "\n",
    "    if (count == 0 and i != 1):\n",
    "        list_prime.append(i)\n",
    "print(\"The prime numbers in a given range :\",list_prime)"
   ]
  },
  {
   "cell_type": "code",
   "execution_count": null,
   "id": "45851db9-b655-4b54-8c8a-0752454ee3dd",
   "metadata": {},
   "outputs": [],
   "source": []
  },
  {
   "cell_type": "markdown",
   "id": "9431426e-98cc-4ad8-be9a-a34c4bbc87c1",
   "metadata": {},
   "source": [
    "### 13.Develop a program that counts the number  of vowels in a string using a 'for' loop."
   ]
  },
  {
   "cell_type": "code",
   "execution_count": 16,
   "id": "0386b1fa-a6ff-4739-988d-4c747c8965f6",
   "metadata": {},
   "outputs": [
    {
     "name": "stdout",
     "output_type": "stream",
     "text": [
      "String : this is good work\n",
      "Counts the number of vowels in a string : 5\n"
     ]
    }
   ],
   "source": [
    "string = \"this is good work\"\n",
    "print(\"String :\",string)\n",
    "vowel = \"aeiouAEIOU\"\n",
    "vowel_count = 0\n",
    "for char in string:\n",
    "    if char in vowel :\n",
    "        vowel_count += 1\n",
    "print(f\"Counts the number of vowels in a string :\",vowel_count)"
   ]
  },
  {
   "cell_type": "code",
   "execution_count": null,
   "id": "453cd271-741f-450d-91fc-c251730e2da3",
   "metadata": {},
   "outputs": [],
   "source": []
  },
  {
   "cell_type": "markdown",
   "id": "5a924ce5-8d4f-43aa-bb7c-3790090ee158",
   "metadata": {},
   "source": [
    "### 14.Write a program to find the maximum element in a 2D list using a nested 'for' loop."
   ]
  },
  {
   "cell_type": "code",
   "execution_count": 2,
   "id": "00c53c40-3365-4448-8160-3f6440c7d599",
   "metadata": {},
   "outputs": [
    {
     "name": "stdout",
     "output_type": "stream",
     "text": [
      "Example nested list : [[1, 2, 4], [6, 10, 1], [1, 2, 3]]\n",
      "The maximum elements in a 2D list : 10\n"
     ]
    }
   ],
   "source": [
    "l=[\n",
    "    [1,2,4],\n",
    "    [6,10,1],\n",
    "    [1,2,3]\n",
    "]\n",
    "print(\"Example nested list :\",l)\n",
    "max=l[0][0]\n",
    "for i in l:\n",
    "    for j in i:\n",
    "        if j>max:\n",
    "            max=j\n",
    "\n",
    "print(\"The maximum elements in a 2D list :\", max)"
   ]
  },
  {
   "cell_type": "code",
   "execution_count": null,
   "id": "0cae84c7-f34c-47cd-a5e7-10f9a842b56d",
   "metadata": {},
   "outputs": [],
   "source": []
  },
  {
   "cell_type": "markdown",
   "id": "416b3378-f3a7-4422-95fa-e82e0de43f90",
   "metadata": {},
   "source": [
    "### 15.Create a program that removes all occurrences of a specific element from a list using a 'for' loop."
   ]
  },
  {
   "cell_type": "code",
   "execution_count": 6,
   "id": "0e29c857-6e96-4869-a577-54b9a6f5343c",
   "metadata": {},
   "outputs": [
    {
     "name": "stdout",
     "output_type": "stream",
     "text": [
      "Example list : [1, 2, 3, 4, 5, 12, 1, 2, 4, 78]\n"
     ]
    },
    {
     "name": "stdin",
     "output_type": "stream",
     "text": [
      "Enter the element which you want to remove from the list : 4\n"
     ]
    },
    {
     "name": "stdout",
     "output_type": "stream",
     "text": [
      "The list after removing 4 from [1, 2, 3, 4, 5, 12, 1, 2, 4, 78] is [1, 2, 3, 5, 12, 1, 2, 78]\n"
     ]
    }
   ],
   "source": [
    "example_list= [1,2,3,4,5,12,1,2,4,78]\n",
    "print(\"Example list :\",example_list)\n",
    "list_15_1 = []\n",
    "ele_15 = int(input(\"Enter the element which you want to remove from the list :\"))\n",
    "for i in example_list:\n",
    "    if i != ele_15:\n",
    "        list_15_1.append(i)\n",
    "    else:\n",
    "        continue\n",
    "print(f\"The list after removing {ele_15} from {example_list} is {list_15_1}\")"
   ]
  },
  {
   "cell_type": "code",
   "execution_count": null,
   "id": "8ecf30b1-0533-4a75-b862-2dd8b73803c4",
   "metadata": {},
   "outputs": [],
   "source": []
  },
  {
   "cell_type": "markdown",
   "id": "6cfc17fa-c12e-470d-9523-7717e805ef48",
   "metadata": {},
   "source": [
    "### 16.Develop a program that generates a multiplication table for numbers from 1 to 5 using a nested 'for' loop."
   ]
  },
  {
   "cell_type": "code",
   "execution_count": 3,
   "id": "f1a77b20-77ea-4d78-acda-0be7ad6311c5",
   "metadata": {},
   "outputs": [
    {
     "name": "stdout",
     "output_type": "stream",
     "text": [
      "The multiplication table for number 1 :\n",
      "1 x 1 = 1\n",
      "1 x 2 = 2\n",
      "1 x 3 = 3\n",
      "1 x 4 = 4\n",
      "1 x 5 = 5\n",
      "1 x 6 = 6\n",
      "1 x 7 = 7\n",
      "1 x 8 = 8\n",
      "1 x 9 = 9\n",
      "1 x 10 = 10\n",
      "End of table number 1  \n",
      "\n",
      "The multiplication table for number 2 :\n",
      "2 x 1 = 2\n",
      "2 x 2 = 4\n",
      "2 x 3 = 6\n",
      "2 x 4 = 8\n",
      "2 x 5 = 10\n",
      "2 x 6 = 12\n",
      "2 x 7 = 14\n",
      "2 x 8 = 16\n",
      "2 x 9 = 18\n",
      "2 x 10 = 20\n",
      "End of table number 2  \n",
      "\n",
      "The multiplication table for number 3 :\n",
      "3 x 1 = 3\n",
      "3 x 2 = 6\n",
      "3 x 3 = 9\n",
      "3 x 4 = 12\n",
      "3 x 5 = 15\n",
      "3 x 6 = 18\n",
      "3 x 7 = 21\n",
      "3 x 8 = 24\n",
      "3 x 9 = 27\n",
      "3 x 10 = 30\n",
      "End of table number 3  \n",
      "\n",
      "The multiplication table for number 4 :\n",
      "4 x 1 = 4\n",
      "4 x 2 = 8\n",
      "4 x 3 = 12\n",
      "4 x 4 = 16\n",
      "4 x 5 = 20\n",
      "4 x 6 = 24\n",
      "4 x 7 = 28\n",
      "4 x 8 = 32\n",
      "4 x 9 = 36\n",
      "4 x 10 = 40\n",
      "End of table number 4  \n",
      "\n",
      "The multiplication table for number 5 :\n",
      "5 x 1 = 5\n",
      "5 x 2 = 10\n",
      "5 x 3 = 15\n",
      "5 x 4 = 20\n",
      "5 x 5 = 25\n",
      "5 x 6 = 30\n",
      "5 x 7 = 35\n",
      "5 x 8 = 40\n",
      "5 x 9 = 45\n",
      "5 x 10 = 50\n",
      "End of table number 5  \n",
      "\n"
     ]
    }
   ],
   "source": [
    "for i in range(1, 6):\n",
    "    print(f\"The multiplication table for number {i} :\")\n",
    "    for j in range(1,11):\n",
    "        print(f\"{i} x {j} = {i*j}\")\n",
    "    print(f\"End of table number {i} \",'\\n')"
   ]
  },
  {
   "cell_type": "code",
   "execution_count": null,
   "id": "3418ce6e-372d-454f-9e10-09e5c737ff78",
   "metadata": {},
   "outputs": [],
   "source": []
  },
  {
   "cell_type": "markdown",
   "id": "9dd8eb0a-6957-484b-a913-8dd95664ba7c",
   "metadata": {},
   "source": [
    "### 17.Write a program that converts a list of Farhrenheit temperatures to celsius using a 'for' loop."
   ]
  },
  {
   "cell_type": "code",
   "execution_count": 20,
   "id": "dd1ef7b9-7ca3-4684-bf50-5ed386e84e32",
   "metadata": {},
   "outputs": [
    {
     "name": "stdout",
     "output_type": "stream",
     "text": [
      "A list of Farhrenheit temperature : [40, 78, 67, 32, 110]\n",
      "Converted a list of Farhrenheit temperture to celsius :\n",
      "[4.44444, 25.55556, 19.44444, 0.0, 43.33333]\n"
     ]
    }
   ],
   "source": [
    "list_farhtemp = [40,78,67,32,110]\n",
    "print(\"A list of Farhrenheit temperature :\",list_farhtemp)\n",
    "list_celtemp = []\n",
    "for i in list_farhtemp :\n",
    "    list_celtemp.append(round((i-32)*5/9,5))\n",
    "print(f\"Converted a list of Farhrenheit temperture to celsius :\")\n",
    "print(list_celtemp)"
   ]
  },
  {
   "cell_type": "code",
   "execution_count": null,
   "id": "f34e8b6a-8842-4525-9ee6-3a8dc5862769",
   "metadata": {},
   "outputs": [],
   "source": []
  },
  {
   "cell_type": "markdown",
   "id": "444664f8-85c1-49f0-889a-c8a461ef2db2",
   "metadata": {},
   "source": [
    "### 18.Create a program to print that common elements from two lists using a 'for' loop."
   ]
  },
  {
   "cell_type": "code",
   "execution_count": 22,
   "id": "a55b7254-687e-4938-bf06-35129675e583",
   "metadata": {},
   "outputs": [
    {
     "name": "stdout",
     "output_type": "stream",
     "text": [
      "List 1 : [12, 24, 36, 48, 60]\n",
      "List 2 : [72, 84, 96, 48, 24, 108, 120]\n",
      "The common elements in lists [12, 24, 36, 48, 60] and [72, 84, 96, 48, 24, 108, 120] are [24, 48]\n"
     ]
    }
   ],
   "source": [
    "list_1 = [12,24,36,48,60]\n",
    "list_2 = [72,84,96,48,24,108,120]\n",
    "print(\"List 1 :\",list_1)\n",
    "print(\"List 2 :\",list_2)\n",
    "list_common = []\n",
    "for i in list_1:\n",
    "    for j in list_2:\n",
    "        if i == j:\n",
    "            list_common.append(i)\n",
    "print(f'The common elements in lists {list_1} and {list_2} are {list_common}')"
   ]
  },
  {
   "cell_type": "code",
   "execution_count": null,
   "id": "9ba459e5-6127-471f-8215-b341f2ec6071",
   "metadata": {},
   "outputs": [],
   "source": []
  },
  {
   "cell_type": "markdown",
   "id": "b28f3861-548e-4864-ae2c-39be111765e4",
   "metadata": {},
   "source": [
    "### 19.Develop a program that prints the pattern of right-angled triangles using a 'for' loop. Use '*' to draw the pattern ."
   ]
  },
  {
   "cell_type": "code",
   "execution_count": 27,
   "id": "12244375-9426-4d98-bcfc-1c11f94f9d32",
   "metadata": {},
   "outputs": [
    {
     "name": "stdin",
     "output_type": "stream",
     "text": [
      "Enter the number of rows you want in the right-angled triangle : 5\n"
     ]
    },
    {
     "name": "stdout",
     "output_type": "stream",
     "text": [
      "The printed pattern of right-angled triangles using '*' :\n",
      "*\n",
      "**\n",
      "***\n",
      "****\n",
      "*****\n"
     ]
    }
   ],
   "source": [
    "num = int(input(\"Enter the number of rows you want in the right-angled triangle :\"))\n",
    "print(\"The printed pattern of right-angled triangles using '*' :\")\n",
    "for i in range(1,num+1):\n",
    "    print('*'*i ,end = '\\n')"
   ]
  },
  {
   "cell_type": "code",
   "execution_count": 33,
   "id": "eb7ae037-48cb-4d25-b901-be2cf9d9bbbc",
   "metadata": {},
   "outputs": [
    {
     "name": "stdin",
     "output_type": "stream",
     "text": [
      "Enter the number of rows you want in the reverse right-angled triangle : 5\n"
     ]
    },
    {
     "name": "stdout",
     "output_type": "stream",
     "text": [
      "The printed pattern of the reverse right-angled triangles using '*' :\n",
      "*****\n",
      "****\n",
      "***\n",
      "**\n",
      "*\n"
     ]
    }
   ],
   "source": [
    "num_reverse = int(input(\"Enter the number of rows you want in the reverse right-angled triangle :\"))\n",
    "print(\"The printed pattern of the reverse right-angled triangles using '*' :\")\n",
    "\n",
    "for i in range(num_reverse, 0, -1):\n",
    "    print('*'*i, end = '\\n')"
   ]
  },
  {
   "cell_type": "code",
   "execution_count": 30,
   "id": "d92c4495-7f09-44f4-9072-b7a37d5f9603",
   "metadata": {},
   "outputs": [
    {
     "name": "stdin",
     "output_type": "stream",
     "text": [
      "Enter the number of rows you want in the right-angled triangle : 5\n"
     ]
    },
    {
     "name": "stdout",
     "output_type": "stream",
     "text": [
      "The printed pattern of rows you want in the right-angled triangle using '*' :\n",
      "    *\n",
      "   **\n",
      "  ***\n",
      " ****\n",
      "*****\n"
     ]
    }
   ],
   "source": [
    "num_row = int(input(\"Enter the number of rows you want in the right-angled triangle :\"))\n",
    "print(\"The printed pattern of rows you want in the right-angled triangle using '*' :\") \n",
    "for i in range(1, num_row+1):\n",
    "    print(' ' * (num_row-i) + '*'*i, end = '\\n')"
   ]
  },
  {
   "cell_type": "code",
   "execution_count": 32,
   "id": "6de77b1d-c662-47ba-9861-6f662639ac49",
   "metadata": {},
   "outputs": [
    {
     "name": "stdin",
     "output_type": "stream",
     "text": [
      "Enter the number of rows you want in the right-angled triangle :  5\n"
     ]
    },
    {
     "name": "stdout",
     "output_type": "stream",
     "text": [
      "The printed pattern of rows you want in the right-angled triangle using '*' :\n",
      "*****\n",
      " ****\n",
      "  ***\n",
      "   **\n",
      "    *\n"
     ]
    }
   ],
   "source": [
    "num_p = int(input(\"Enter the number of rows you want in the right-angled triangle : \"))\n",
    "print(\"The printed pattern of rows you want in the right-angled triangle using '*' :\")\n",
    "for i in range(num_p, 0, -1):\n",
    "    print(' ' * (num_p-i) + '*'*i, end = '\\n')"
   ]
  },
  {
   "cell_type": "code",
   "execution_count": null,
   "id": "5e750827-3955-48e3-8588-24a56e9465b0",
   "metadata": {},
   "outputs": [],
   "source": []
  },
  {
   "cell_type": "markdown",
   "id": "ed9fc9f6-5655-4d5d-81f2-ae60100f79eb",
   "metadata": {},
   "source": [
    "### 20.Write a program to find the greatest common divisor(GCD) of two numbers using a 'for' loop."
   ]
  },
  {
   "cell_type": "code",
   "execution_count": 38,
   "id": "db8597f7-9688-4e69-b138-5a2cec81127f",
   "metadata": {},
   "outputs": [
    {
     "name": "stdin",
     "output_type": "stream",
     "text": [
      "Enter the first number 'a' : 24\n",
      "Enter the second number 'b' : 48\n"
     ]
    },
    {
     "name": "stdout",
     "output_type": "stream",
     "text": [
      "The Greatest common divisor (GCD) of a = 24 and b = 48 is 24\n"
     ]
    }
   ],
   "source": [
    "def gcd_of_func( a, b):  \n",
    "    if a > b:  \n",
    "        temp = b  \n",
    "    else:  \n",
    "        temp = a  \n",
    "    for i in range(1, temp + 1):  \n",
    "        if ((a%i == 0) and (b%i == 0 )):  \n",
    "            gcd = i  \n",
    "    return gcd\n",
    "a = int(input(\"Enter the first number 'a' :\"))\n",
    "b = int(input(\"Enter the second number 'b' :\"))\n",
    "num_gcd = gcd_of_func(a, b)\n",
    "print(f\"The Greatest common divisor (GCD) of a = {a} and b = {b} is {num_gcd}\")"
   ]
  },
  {
   "cell_type": "code",
   "execution_count": null,
   "id": "0d11142d-9cf8-46e4-9467-127d81411133",
   "metadata": {},
   "outputs": [],
   "source": []
  },
  {
   "cell_type": "code",
   "execution_count": null,
   "id": "5131087c-3cd2-4105-84d2-0be2f5e35c1f",
   "metadata": {},
   "outputs": [],
   "source": []
  },
  {
   "cell_type": "markdown",
   "id": "1fb53fde-24d4-47b7-a24b-75e22d8c4dba",
   "metadata": {},
   "source": [
    "### Advanced Level:\n",
    "---"
   ]
  },
  {
   "cell_type": "markdown",
   "id": "02138d20-10c5-462f-b21d-5a4a6181190c",
   "metadata": {},
   "source": [
    "### 21.Create a program that calculates the sum of the digits of numbers in a list using a list comprehension."
   ]
  },
  {
   "cell_type": "code",
   "execution_count": 40,
   "id": "09fee259-087a-4ad7-9408-aeebc0016023",
   "metadata": {},
   "outputs": [
    {
     "name": "stdout",
     "output_type": "stream",
     "text": [
      "Example list : [11, 34, 56, 112, 67, 151]\n",
      "Calculated the sum of the digits of numbers in a list : [2, 7, 11, 4, 13, 7]\n"
     ]
    }
   ],
   "source": [
    "example_list = [11,34,56,112,67,151]\n",
    "print(\"Example list :\", example_list)\n",
    "def sum_list_func(exa_list):\n",
    "    return [sum(int(k) for k in str(i)) for i in exa_list]\n",
    "\n",
    "total_sum = sum_list_func(example_list)\n",
    "print(f\"Calculated the sum of the digits of numbers in a list :\",total_sum)"
   ]
  },
  {
   "cell_type": "code",
   "execution_count": null,
   "id": "c202b8a1-77e9-4c42-ba88-c196f8bf392b",
   "metadata": {},
   "outputs": [],
   "source": []
  },
  {
   "cell_type": "markdown",
   "id": "046400a5-a10a-4903-b3ad-f29e2fb9e207",
   "metadata": {},
   "source": [
    "### 22.Write a program to find the prime factors of a given number using a 'for' loop and list comprehension."
   ]
  },
  {
   "cell_type": "code",
   "execution_count": 37,
   "id": "d7aa3e6c-bd18-449a-a0ee-da5194d84d41",
   "metadata": {},
   "outputs": [
    {
     "name": "stdin",
     "output_type": "stream",
     "text": [
      "Enter a number : 60\n"
     ]
    },
    {
     "name": "stdout",
     "output_type": "stream",
     "text": [
      "The prime factors of a entered number : 2 3 5 2\n"
     ]
    }
   ],
   "source": [
    "prime_factors = lambda n: [i for i in range(2, n+1) if n%i == 0 and all(i % j != 0 for j in range(2, int(i**0.5)+1))]\n",
    "n = int(input(\"Enter a number :\"))\n",
    "factors = []\n",
    "while n > 1:\n",
    "    for factor in prime_factors(n):\n",
    "        factors.append(factor)\n",
    "        n //= factor\n",
    "print(\"The prime factors of a entered number :\",*factors )"
   ]
  },
  {
   "cell_type": "code",
   "execution_count": null,
   "id": "e6fd8084-d59a-40a8-87ec-338500ee791e",
   "metadata": {},
   "outputs": [],
   "source": []
  },
  {
   "cell_type": "markdown",
   "id": "9759bc0e-dd65-4673-8ad8-187bb217444f",
   "metadata": {},
   "source": [
    "### 23.Develop a program that extracts unique elements from a list and stores them in a new list using a list comprehension."
   ]
  },
  {
   "cell_type": "code",
   "execution_count": 44,
   "id": "a681caf7-9bd4-4377-b040-4b786b6dbffd",
   "metadata": {},
   "outputs": [
    {
     "name": "stdout",
     "output_type": "stream",
     "text": [
      "Example list : [11, 22, 45, 11, 56, 11, 45]\n",
      "The unique elements in example list [11, 22, 45, 11, 56, 11, 45] are [56, 11, 45, 22]\n"
     ]
    }
   ],
   "source": [
    "example_list = [11,22,45,11,56,11,45]\n",
    "print(\"Example list :\",example_list)\n",
    "list_unique= set()\n",
    "{list_unique.add(i) for i in example_list}            \n",
    "print(f\"The unique elements in example list {example_list} are {list(list_unique)}\")"
   ]
  },
  {
   "cell_type": "code",
   "execution_count": null,
   "id": "6089a487-45f5-4af4-b07c-3e741552a266",
   "metadata": {},
   "outputs": [],
   "source": []
  },
  {
   "cell_type": "markdown",
   "id": "6ea3746d-4667-4aa5-aec4-fefe2c82de98",
   "metadata": {},
   "source": [
    "### 24.Create a program that generates a list of all palindromic numbers up to a specified limit using a list comprehension."
   ]
  },
  {
   "cell_type": "code",
   "execution_count": 46,
   "id": "d8ba5520-33a4-4d8d-b289-04061dc9e522",
   "metadata": {},
   "outputs": [
    {
     "name": "stdin",
     "output_type": "stream",
     "text": [
      "Enter the limit upto which the palindromeic numbers are to be found :  200\n"
     ]
    },
    {
     "name": "stdout",
     "output_type": "stream",
     "text": [
      "A list of all palindromic numbers up to a specified limit using a list comprehension :\n"
     ]
    },
    {
     "data": {
      "text/plain": [
       "[1,\n",
       " 2,\n",
       " 3,\n",
       " 4,\n",
       " 5,\n",
       " 6,\n",
       " 7,\n",
       " 8,\n",
       " 9,\n",
       " 11,\n",
       " 22,\n",
       " 33,\n",
       " 44,\n",
       " 55,\n",
       " 66,\n",
       " 77,\n",
       " 88,\n",
       " 99,\n",
       " 101,\n",
       " 111,\n",
       " 121,\n",
       " 131,\n",
       " 141,\n",
       " 151,\n",
       " 161,\n",
       " 171,\n",
       " 181,\n",
       " 191]"
      ]
     },
     "execution_count": 46,
     "metadata": {},
     "output_type": "execute_result"
    }
   ],
   "source": [
    "n_palin = int(input(\"Enter the limit upto which the palindromeic numbers are to be found : \"))\n",
    "print(\"A list of all palindromic numbers up to a specified limit using a list comprehension :\")\n",
    "[i for i in range(1,n_palin+1) if str(i) == str(i)[::-1]]"
   ]
  },
  {
   "cell_type": "code",
   "execution_count": null,
   "id": "fd573800-a9e4-4b83-8d6f-b3a2b3738047",
   "metadata": {},
   "outputs": [],
   "source": []
  },
  {
   "cell_type": "markdown",
   "id": "4d74647c-04a0-4698-bc0c-24faed0dc9cb",
   "metadata": {},
   "source": [
    "### 25. Write a program to flatten a nested list using list comprehension."
   ]
  },
  {
   "cell_type": "code",
   "execution_count": 49,
   "id": "1184fe94-e5b9-4c92-919f-bf5fc9eff4b8",
   "metadata": {},
   "outputs": [
    {
     "name": "stdout",
     "output_type": "stream",
     "text": [
      "Example of nested list : [[1, 2, 3], [4, 5], [9, 6]]\n",
      "A flatten nested list : [1, 2, 3, 4, 5, 9, 6]\n"
     ]
    }
   ],
   "source": [
    "list_nested = [[1,2,3],[4,5],[9,6]]\n",
    "print(\"Example of nested list :\",list_nested)\n",
    "list_flatten = [j for i in list_nested for j in i]\n",
    "print(\"A flatten nested list :\",list_flatten)"
   ]
  },
  {
   "cell_type": "code",
   "execution_count": null,
   "id": "c00854b0-5a67-48cf-8571-7d23a3596fba",
   "metadata": {},
   "outputs": [],
   "source": []
  },
  {
   "cell_type": "markdown",
   "id": "02586493-4a90-416b-89b7-9b51a628f18e",
   "metadata": {},
   "source": [
    "### 26. Develop a program that computes the sum of even and odd numbers in a list separately using list comprehension."
   ]
  },
  {
   "cell_type": "code",
   "execution_count": 53,
   "id": "ed75880a-6c7a-4964-b052-dd35a7bbb584",
   "metadata": {},
   "outputs": [
    {
     "name": "stdout",
     "output_type": "stream",
     "text": [
      "Example list : [1, 4, 9, 16, 25, 36, 49, 64, 81, 100, 121, 144, 169, 196, 225]\n",
      "Sum of even numbers and odd numbers in example list are even = 560 and odd = 680 respectively.\n"
     ]
    }
   ],
   "source": [
    "example_list = [1, 4, 9, 16, 25, 36, 49, 64, 81, 100, 121, 144, 169, 196, 225]\n",
    "print(\"Example list :\",example_list)\n",
    "list_sum_even = sum([i for i in example_list if i%2 == 0])\n",
    "list_sum_ood = sum([i for i in example_list if i%2 != 0])\n",
    "print(f\"Sum of even numbers and odd numbers in example list are even = {list_sum_even} and odd = {list_sum_ood} respectively.\")"
   ]
  },
  {
   "cell_type": "code",
   "execution_count": null,
   "id": "5ea74e90-2572-4c12-891c-7f5fb41ba81c",
   "metadata": {},
   "outputs": [],
   "source": []
  },
  {
   "cell_type": "markdown",
   "id": "d8356f9e-b381-40f7-a80c-7f8c7b41f142",
   "metadata": {},
   "source": [
    "### 27.Create a program that generates a list of squares of odd numbers between 1 and 10 using list comprehension."
   ]
  },
  {
   "cell_type": "code",
   "execution_count": 54,
   "id": "89f006ae-5723-4433-b702-5c609b38cdfc",
   "metadata": {},
   "outputs": [
    {
     "name": "stdout",
     "output_type": "stream",
     "text": [
      "Generated a list of squares of odd numbers between 1 to 10  using list comprehension \n",
      "[1, 9, 25, 49, 81]\n"
     ]
    }
   ],
   "source": [
    "example_list = range(1,11)\n",
    "list_squares = [i**2 for i in example_list if i%2 != 0]\n",
    "print(\"Generated a list of squares of odd numbers between 1 to 10  using list comprehension \")\n",
    "print(list_squares)"
   ]
  },
  {
   "cell_type": "code",
   "execution_count": null,
   "id": "737109e6-a684-43c5-9be8-f5cc991348de",
   "metadata": {},
   "outputs": [],
   "source": []
  },
  {
   "cell_type": "markdown",
   "id": "b6528f8b-45af-44e4-b293-05593fd877fc",
   "metadata": {},
   "source": [
    "### 28.Write a program that combines two lists into a dictionary using list comprehension."
   ]
  },
  {
   "cell_type": "code",
   "execution_count": 57,
   "id": "d3939247-a686-49c5-8013-dc89a7faf7d5",
   "metadata": {},
   "outputs": [
    {
     "name": "stdout",
     "output_type": "stream",
     "text": [
      "List 1 : [1, 2, 3, 4, 5, 6, 7, 'str', 9, 10]\n",
      "List 2 : ['Thank', 'you', 'for', 'giving', 'me', 'this', 'assignment', 'please', 'check', 'it']\n",
      "The combination of list_1 and list_2 into a dictionary using list comprehension :\n"
     ]
    },
    {
     "data": {
      "text/plain": [
       "{1: 'Thank',\n",
       " 2: 'you',\n",
       " 3: 'for',\n",
       " 4: 'giving',\n",
       " 5: 'me',\n",
       " 6: 'this',\n",
       " 7: 'assignment',\n",
       " 'str': 'please',\n",
       " 9: 'check',\n",
       " 10: 'it'}"
      ]
     },
     "execution_count": 57,
     "metadata": {},
     "output_type": "execute_result"
    }
   ],
   "source": [
    "list_1 = [1,2,3,4,5,6,7,'str',9,10]\n",
    "list_2 = ['Thank', 'you', 'for', 'giving' ,'me', 'this' , 'assignment', 'please', 'check', 'it']\n",
    "print(\"List 1 :\",list_1)\n",
    "print(\"List 2 :\",list_2)\n",
    "dict_28 = {}\n",
    "print(\"The combination of list_1 and list_2 into a dictionary using list comprehension :\")\n",
    "{list_1[i]: list_2[i] for i in range(len(list_1))}"
   ]
  },
  {
   "cell_type": "code",
   "execution_count": null,
   "id": "936dbd45-16a0-4e37-94d4-33e54bfe675c",
   "metadata": {},
   "outputs": [],
   "source": []
  },
  {
   "cell_type": "markdown",
   "id": "17f87682-3c32-46b5-aaa2-768eaa0e690b",
   "metadata": {},
   "source": [
    "### 29.Develop a program that extracts the vowels from a string and stores them in a list using list comprehension."
   ]
  },
  {
   "cell_type": "code",
   "execution_count": 62,
   "id": "584470b3-5dcf-4c67-b57e-a29481201662",
   "metadata": {},
   "outputs": [
    {
     "name": "stdout",
     "output_type": "stream",
     "text": [
      "Example string : This Is A Vowel List Sentence extract vowel \n",
      "The extracts vowels from a string and stores them in a list using list comprehension :\n"
     ]
    },
    {
     "data": {
      "text/plain": [
       "['i', 'I', 'A', 'o', 'e', 'i', 'e', 'e', 'e', 'e', 'a', 'o', 'e']"
      ]
     },
     "execution_count": 62,
     "metadata": {},
     "output_type": "execute_result"
    }
   ],
   "source": [
    "example_str = 'This Is A Vowel List Sentence extract vowel '\n",
    "print(\"Example string :\",example_str)\n",
    "list_extract_vowel = [i for i in example_str if i in ['a','e', 'i', 'o', 'u', 'A', 'E', 'I', 'O', 'U']]\n",
    "print(\"The extracts vowels from a string and stores them in a list using list comprehension :\")\n",
    "list_extract_vowel"
   ]
  },
  {
   "cell_type": "code",
   "execution_count": null,
   "id": "7cdd332b-f574-4c28-ac3b-c00d13195b0c",
   "metadata": {},
   "outputs": [],
   "source": []
  },
  {
   "cell_type": "markdown",
   "id": "6884197f-ec69-462e-99e1-683ea1a3d0f3",
   "metadata": {},
   "source": [
    "### 30.Create a program that removes all non-numeric characters from a list of strings using list comprehension."
   ]
  },
  {
   "cell_type": "code",
   "execution_count": 63,
   "id": "18253850-a341-4171-bf2c-981ac0b32802",
   "metadata": {},
   "outputs": [
    {
     "name": "stdout",
     "output_type": "stream",
     "text": [
      "Example list : ['string1', 'string2', 1, 2, 4, 5, 11, 'string3']\n",
      "Removes all non-numeric characters from a list of strings using list comprehension :\n"
     ]
    },
    {
     "data": {
      "text/plain": [
       "['string1', 'string2', 'string3']"
      ]
     },
     "execution_count": 63,
     "metadata": {},
     "output_type": "execute_result"
    }
   ],
   "source": [
    "example_list = ['string1', 'string2', 1, 2,4,5,11, 'string3']\n",
    "print(\"Example list :\",example_list)\n",
    "list_non_numeric = [i for i in example_list if type(i) != int]\n",
    "print(\"Removes all non-numeric characters from a list of strings using list comprehension :\")\n",
    "list_non_numeric"
   ]
  },
  {
   "cell_type": "code",
   "execution_count": null,
   "id": "1328d21c-d485-4470-a842-0b2b9124c37d",
   "metadata": {},
   "outputs": [],
   "source": []
  },
  {
   "cell_type": "markdown",
   "id": "dd7e067c-7846-4d2a-b1b3-75aef95b9d6a",
   "metadata": {},
   "source": [
    "### Challenge Level:\n",
    "---"
   ]
  },
  {
   "cell_type": "markdown",
   "id": "e97d2508-d945-4f2f-a5ce-2c85b5bfeec6",
   "metadata": {},
   "source": [
    "### 31.Write a program to generate a list of prime numbers using the Sieve of Erotosthenes algorithm and list comprehension."
   ]
  },
  {
   "cell_type": "code",
   "execution_count": 6,
   "id": "35be89db-d894-484a-8243-b5180f3c4abf",
   "metadata": {},
   "outputs": [
    {
     "name": "stdin",
     "output_type": "stream",
     "text": [
      "Enter the value of n : 50\n"
     ]
    },
    {
     "name": "stdout",
     "output_type": "stream",
     "text": [
      "Generate a list of prime numbers using the sieve of Erotosthenes algorithm and list comprehension :\n",
      "[2, 3, 5, 7, 11, 13, 17, 19, 23, 29, 31, 37, 41, 43, 47]\n"
     ]
    }
   ],
   "source": [
    "def sieve_of_eratosthenes(n):\n",
    "    primes = [True] * (n+1)\n",
    "    primes[0] = primes[1] = False\n",
    "    for i in range(2, int(n**0.5)+1):\n",
    "        if primes[i]:\n",
    "            primes[i*i:n+1:i] = [False] * len(primes[i*i:n+1:i])\n",
    "    return [i for i in range(2, n+1) if primes[i]]\n",
    "\n",
    "\n",
    "n = int(input(\"Enter the value of n :\"))\n",
    "d = sieve_of_eratosthenes(n)\n",
    "print(\"Generate a list of prime numbers using the sieve of Erotosthenes algorithm and list comprehension :\")\n",
    "print(d)"
   ]
  },
  {
   "cell_type": "code",
   "execution_count": null,
   "id": "b58958e5-5bb2-4142-841d-d87d37905635",
   "metadata": {},
   "outputs": [],
   "source": []
  },
  {
   "cell_type": "markdown",
   "id": "bc338141-9e01-405a-a3bb-05afb793653e",
   "metadata": {},
   "source": [
    "### 32.Create a program that generates a list of all Pythagorean triplets up to a specified limit using list comprehension."
   ]
  },
  {
   "cell_type": "code",
   "execution_count": 5,
   "id": "087d0545-497e-42d0-87ce-1a101b4646f7",
   "metadata": {},
   "outputs": [
    {
     "name": "stdin",
     "output_type": "stream",
     "text": [
      "Enter the value of n :  10\n"
     ]
    },
    {
     "name": "stdout",
     "output_type": "stream",
     "text": [
      "Generates a list of all Pythagorean triplets up to a specified limit using list comprehension.\n",
      "[(3, 4, 5), (6, 8, 10)]\n"
     ]
    }
   ],
   "source": [
    "\"\"\"\n",
    "A Pythagorean triplet is a set of three positive integers a, b and c\n",
    "such that a2 + b2 = c2. Given a limit, generate all Pythagorean Triples\n",
    "with values smaller than given limit.\n",
    "\n",
    "\n",
    "\n",
    "Input : limit = 20\n",
    "Output : 3 4 5\n",
    "         8 6 10\n",
    "         5 12 13\n",
    "         15 8 17\n",
    "         12 16 20\n",
    "\n",
    "         \"\"\"\n",
    "\n",
    "n = int(input(\"Enter the value of n : \"))\n",
    "print(\"Generates a list of all Pythagorean triplets up to a specified limit using list comprehension.\")\n",
    "print([(a, b, c) for a in range(1, n + 1) for b in range(a, n + 1)\n",
    "       for c in range(b, n + 1) if a**2 + b**2 == c**2])\n"
   ]
  },
  {
   "cell_type": "code",
   "execution_count": null,
   "id": "9dc00cce-5733-4a52-ac72-e12c51733a65",
   "metadata": {},
   "outputs": [],
   "source": []
  },
  {
   "cell_type": "markdown",
   "id": "0eb128ba-ecbb-4dcb-bfbd-4e7291ceca0b",
   "metadata": {},
   "source": [
    "### 33.Develop a program that generates a list of all possible combinations of two lists using list comprehension."
   ]
  },
  {
   "cell_type": "code",
   "execution_count": 4,
   "id": "f00ba0c8-d53f-4e32-95bf-c6212814660c",
   "metadata": {},
   "outputs": [
    {
     "name": "stdout",
     "output_type": "stream",
     "text": [
      "List 1 : ['a', 'b', 'c', 'd']\n",
      "List 2 : [1, 4, 9]\n",
      "Generates a list of all Pythagorean triplets up to a specified limit using list comprehension :\n",
      "[[('a', 1), ('b', 4), ('c', 9)], [('a', 1), ('b', 4), ('d', 9)], [('a', 1), ('c', 4), ('b', 9)], [('a', 1), ('c', 4), ('d', 9)], [('a', 1), ('d', 4), ('b', 9)], [('a', 1), ('d', 4), ('c', 9)], [('b', 1), ('a', 4), ('c', 9)], [('b', 1), ('a', 4), ('d', 9)], [('b', 1), ('c', 4), ('a', 9)], [('b', 1), ('c', 4), ('d', 9)], [('b', 1), ('d', 4), ('a', 9)], [('b', 1), ('d', 4), ('c', 9)], [('c', 1), ('a', 4), ('b', 9)], [('c', 1), ('a', 4), ('d', 9)], [('c', 1), ('b', 4), ('a', 9)], [('c', 1), ('b', 4), ('d', 9)], [('c', 1), ('d', 4), ('a', 9)], [('c', 1), ('d', 4), ('b', 9)], [('d', 1), ('a', 4), ('b', 9)], [('d', 1), ('a', 4), ('c', 9)], [('d', 1), ('b', 4), ('a', 9)], [('d', 1), ('b', 4), ('c', 9)], [('d', 1), ('c', 4), ('a', 9)], [('d', 1), ('c', 4), ('b', 9)]]\n"
     ]
    }
   ],
   "source": [
    "\"\"\"\n",
    "\n",
    "List_1 = [\"a\",\"b\"]\n",
    "List_2 = [1,2]\n",
    "Unique_combination = [[('a',1),('b',2)],[('a',2),('b',1)]]\n",
    "\n",
    "\"\"\"\n",
    "\n",
    "\n",
    "\"\"\"\n",
    "    Import itertools package and initialize list_1 and list_2.\n",
    "    Create an empty list of ‘unique_combinations’ to store the resulting combinations so obtained.\n",
    "    Call itertools.permutations( ) which will return permutations of list_1 with length of list_2. Generally, the length of the shorter list is taken and if both lists are equal, use either.\n",
    "    For loop is used and zip() function is called to pair each permutation and shorter list element into the combination.\n",
    "    Then each combination is converted into a list and append to the combination list.\n",
    "\n",
    "\n",
    "\"\"\"\n",
    "\n",
    "\n",
    "import itertools\n",
    "from itertools import permutations\n",
    "\n",
    "# initialize lists\n",
    "list_1 = [\"a\", \"b\", \"c\",\"d\"]\n",
    "list_2 = [1,4,9]\n",
    "print(\"List 1 :\", list_1)\n",
    "print(\"List 2 :\", list_2)\n",
    "# create empty list to store the\n",
    "# combinations\n",
    "unique_combinations = []\n",
    "\n",
    "# Getting all permutations of list_1\n",
    "# with length of list_2\n",
    "permut = itertools.permutations(list_1, len(list_2))\n",
    "\n",
    "# zip() is called to pair each permutation\n",
    "# and shorter list element into combination\n",
    "for comb in permut:\n",
    "    zipped = zip(comb, list_2)\n",
    "    unique_combinations.append(list(zipped))\n",
    "print(\"Generates a list of all Pythagorean triplets up to a specified limit using list comprehension :\")\n",
    "# printing unique_combination list\n",
    "print(unique_combinations)"
   ]
  },
  {
   "cell_type": "code",
   "execution_count": null,
   "id": "716d3717-0720-40a0-a408-9f42a36429c8",
   "metadata": {},
   "outputs": [],
   "source": []
  },
  {
   "cell_type": "markdown",
   "id": "3465c08c-1ff5-45f1-ace3-246a8911a7f8",
   "metadata": {},
   "source": [
    "### 34.Write a program that calculates the mean, median, and mode of a list of numbers using list comprehension. "
   ]
  },
  {
   "cell_type": "code",
   "execution_count": 8,
   "id": "46f6a906-8c65-4944-9d48-4e1d37770e77",
   "metadata": {},
   "outputs": [
    {
     "name": "stdout",
     "output_type": "stream",
     "text": [
      "Example list : [1, 2, 3, 4, 5, 6, 4, 7, 8, 9]\n",
      "Calculated Mean : 4.9\n",
      "Calculated Median : 4.5\n",
      "Calculated Mode : 4\n"
     ]
    }
   ],
   "source": [
    "# Define a list of numbers\n",
    "numbers = [1, 2, 3, 4, 5, 6, 4, 7, 8, 9]\n",
    "print(\"Example list :\",numbers)\n",
    "# Calculate the mean using list comprehension\n",
    "mean = sum(numbers) / len(numbers)\n",
    "\n",
    "# Calculate the median using list comprehension\n",
    "n = len(numbers)\n",
    "sorted_numbers = sorted(numbers)\n",
    "median = (sorted_numbers[n//2] + sorted_numbers[(n-1)//2]) / 2\n",
    "\n",
    "# Calculate the mode using list comprehension\n",
    "mode = max(set(numbers), key = numbers.count)\n",
    "\n",
    "# Print the results\n",
    "print(\"Calculated Mean :\", mean)\n",
    "print(\"Calculated Median :\", median)\n",
    "print(\"Calculated Mode :\", mode)"
   ]
  },
  {
   "cell_type": "code",
   "execution_count": null,
   "id": "39f0a056-d3c2-4ab0-967c-8e3be2c19204",
   "metadata": {},
   "outputs": [],
   "source": []
  },
  {
   "cell_type": "markdown",
   "id": "f106b1e0-a994-408d-a4fd-42a783e0aedd",
   "metadata": {},
   "source": [
    "### 35.Create a program that generates \"Pascal's\" triangle up to a specified number of rows using list comprehension."
   ]
  },
  {
   "cell_type": "code",
   "execution_count": 11,
   "id": "5bb331b2-ca67-4bd3-a048-430c72ee785b",
   "metadata": {},
   "outputs": [
    {
     "name": "stdin",
     "output_type": "stream",
     "text": [
      "Enter a number : 5\n"
     ]
    },
    {
     "name": "stdout",
     "output_type": "stream",
     "text": [
      "Generated 'Pascal's' triangle up to a specified number 5 of rows using list comprehension \n"
     ]
    },
    {
     "data": {
      "text/plain": [
       "[[1], [1, 1], [1, 2, 1], [1, 3, 3, 1], [1, 4, 6, 4, 1]]"
      ]
     },
     "execution_count": 11,
     "metadata": {},
     "output_type": "execute_result"
    }
   ],
   "source": [
    "def pascal_triangle(n):\n",
    "    triangle = [[1] * (i+1) for i in range(n)]\n",
    "    for i in range(n):\n",
    "        for j in range(1, i):\n",
    "            triangle[i][j] = triangle[i-1][j-1] + triangle[i-1][j]\n",
    "    return triangle\n",
    "n = int(input(\"Enter a number :\"))\n",
    "print(f\"Generated 'Pascal's' triangle up to a specified number {n} of rows using list comprehension \")\n",
    "pascal_triangle(n)"
   ]
  },
  {
   "cell_type": "code",
   "execution_count": null,
   "id": "7a66b270-fe96-4a09-beab-85de83ce0453",
   "metadata": {},
   "outputs": [],
   "source": []
  },
  {
   "cell_type": "markdown",
   "id": "5ceee572-e0aa-4452-88b9-022e460d3a67",
   "metadata": {},
   "source": [
    "### 36.Develop a program that calculates the sum of the digits of a factorial numbers from 1 to 5 using list comprehension."
   ]
  },
  {
   "cell_type": "code",
   "execution_count": 4,
   "id": "8cb22af4-38d7-46b6-b565-d14c1752018a",
   "metadata": {},
   "outputs": [
    {
     "name": "stdout",
     "output_type": "stream",
     "text": [
      "Calculted the sum of the digits of a factorial numbers from 1 to 5 using list comprehension \n",
      "[1, 2, 6, 6, 3]\n"
     ]
    }
   ],
   "source": [
    "# Define a function to calculate the factorial of a number\n",
    "def factorial(n):\n",
    "    if n == 0:\n",
    "        return 1\n",
    "    else:\n",
    "        return n * factorial(n-1)\n",
    "\n",
    "# Use list comprehension to calculate the sum of the digits of the factorial of numbers from 1 to 5\n",
    "sum_of_digits = [sum(int(digit) for digit in str(factorial(n))) for n in range(1, 6)]\n",
    "\n",
    "print(\"Calculted the sum of the digits of a factorial numbers from 1 to 5 using list comprehension \")\n",
    "# Print the result\n",
    "print(sum_of_digits)"
   ]
  },
  {
   "cell_type": "code",
   "execution_count": null,
   "id": "cabe8534-fa54-456d-b1b1-bfaeb70a75b4",
   "metadata": {},
   "outputs": [],
   "source": []
  },
  {
   "cell_type": "markdown",
   "id": "0a6a5b9a-ce90-42d1-a3e0-811308efc372",
   "metadata": {},
   "source": [
    "### 37.Write a program that finds the longest word in a sentence using list comprehension."
   ]
  },
  {
   "cell_type": "code",
   "execution_count": 20,
   "id": "6f27a046-3c72-4b2a-864c-4817c4ca463e",
   "metadata": {},
   "outputs": [
    {
     "name": "stdout",
     "output_type": "stream",
     "text": [
      "Input string : Always positive and confident in every situation\n",
      "Find the longest word in a sentence using list comprehension \n",
      "The longest word in a string : ['situation']\n"
     ]
    }
   ],
   "source": [
    "from functools import reduce\n",
    "\n",
    "def longest_word_func(input_string):\n",
    "    word_split = input_string.split()\n",
    "    return [reduce( lambda x,y : x if len(x) > len(y) else y , word_split)]\n",
    "\n",
    "input_string = \"Always positive and confident in every situation\"\n",
    "print(\"Input string :\",input_string)\n",
    "longest = longest_word_func(input_string)\n",
    "print(\"Find the longest word in a sentence using list comprehension \")\n",
    "if longest :\n",
    "    print(\"The longest word in a string :\",longest)"
   ]
  },
  {
   "cell_type": "code",
   "execution_count": null,
   "id": "0cbdbfb3-9757-48bb-b743-7e7879f79ebd",
   "metadata": {},
   "outputs": [],
   "source": []
  },
  {
   "cell_type": "markdown",
   "id": "f273ec3e-4f61-4145-911b-52caa47e468f",
   "metadata": {},
   "source": [
    "### 38.Create a program that filters a list of strings to include only those with more than three vowels using list comprehension."
   ]
  },
  {
   "cell_type": "code",
   "execution_count": 11,
   "id": "a5052b8b-53db-4195-9d46-8dfb4677b0fb",
   "metadata": {},
   "outputs": [
    {
     "name": "stdout",
     "output_type": "stream",
     "text": [
      "Example list : ['hello', 'world', 'education', 'apple', 'banana', 'orange', 'grapefruit']\n",
      "Filter a list of strings to include only those with more than three vowels using list comprehension :  ['education', 'grapefruit']\n"
     ]
    }
   ],
   "source": [
    "my_list = [\"hello\", \"world\", \"education\", \"apple\", \"banana\", \"orange\", \"grapefruit\"]\n",
    "print(\"Example list :\",my_list)\n",
    "filtered_list = [string for string in my_list if len([char for char in string if char in \"aeiouAEIOU\"]) > 3]\n",
    "print(\"Filter a list of strings to include only those with more than three vowels using list comprehension : \",filtered_list)"
   ]
  },
  {
   "cell_type": "code",
   "execution_count": null,
   "id": "c97b2ae1-7009-43b8-9ebb-a4df91314c55",
   "metadata": {},
   "outputs": [],
   "source": []
  },
  {
   "cell_type": "markdown",
   "id": "a16bd9e3-1d22-48db-9a97-af8fc5b7b7c6",
   "metadata": {},
   "source": [
    "### 39.Develop a program that calculates the sum of the digits of numbers from 1 to 1000 using list comprehension."
   ]
  },
  {
   "cell_type": "code",
   "execution_count": 12,
   "id": "c083bf41-91b8-4bf3-a6f8-4f3b044bd0f3",
   "metadata": {},
   "outputs": [
    {
     "name": "stdout",
     "output_type": "stream",
     "text": [
      "Calculate the sum of the digits of numbers from 1 to 1000 using list comprehension : 13501\n"
     ]
    }
   ],
   "source": [
    "# Define a function to calculate the sum of digits of a number\n",
    "def sum_of_digits(n):\n",
    "    return sum(int(d) for d in str(n))\n",
    "\n",
    "# Create a list of numbers from 1 to 1000 using list comprehension\n",
    "numbers = [i for i in range(1, 1001)]\n",
    "\n",
    "# Use list comprehension to apply the function to each number in the list\n",
    "sums_of_digits = [sum_of_digits(n) for n in numbers]\n",
    "\n",
    "# Use sum() function to find the sum of all the sums of digits\n",
    "result = sum(sums_of_digits)\n",
    "\n",
    "print(\"Calculate the sum of the digits of numbers from 1 to 1000 using list comprehension :\",result)"
   ]
  },
  {
   "cell_type": "code",
   "execution_count": null,
   "id": "543d69a4-1858-47d2-a23f-1e31c5fa05bd",
   "metadata": {},
   "outputs": [],
   "source": []
  },
  {
   "cell_type": "markdown",
   "id": "510c1418-7bc6-466d-a51d-8bbf418ceb0c",
   "metadata": {},
   "source": [
    "### 40.Write a program that generates a list of prime palindromic numbers using list comprehension."
   ]
  },
  {
   "cell_type": "code",
   "execution_count": 14,
   "id": "5260e2ba-a319-4ec5-a7ed-538e8e9b5a03",
   "metadata": {},
   "outputs": [
    {
     "name": "stdout",
     "output_type": "stream",
     "text": [
      "Generate a list of prime palindromic numbers using list comprehension :\n",
      "[2, 3, 5, 7, 11, 101, 131, 151, 181, 191, 313, 353, 373, 383, 727, 757, 787, 797, 919, 929]\n"
     ]
    }
   ],
   "source": [
    "# Generate a list of prime numbers using list comprehension\n",
    "primes = [x for x in range(2, 1000) if all(x % y != 0 for y in range(2, int(x**0.5)+1))]\n",
    "print(\"Generate a list of prime palindromic numbers using list comprehension :\")\n",
    "# Filter out the palindromic numbers from the list of primes using another list comprehension\n",
    "palindromic_primes = [x for x in primes if str(x) == str(x)[::-1]]\n",
    "print(palindromic_primes)"
   ]
  },
  {
   "cell_type": "code",
   "execution_count": null,
   "id": "2e0ba166-9b65-4b20-b51e-80f104098125",
   "metadata": {},
   "outputs": [],
   "source": []
  },
  {
   "cell_type": "code",
   "execution_count": null,
   "id": "21b4f783-ac9f-46cb-b94d-d8be7ff5b3b5",
   "metadata": {},
   "outputs": [],
   "source": []
  }
 ],
 "metadata": {
  "kernelspec": {
   "display_name": "Python 3 (ipykernel)",
   "language": "python",
   "name": "python3"
  },
  "language_info": {
   "codemirror_mode": {
    "name": "ipython",
    "version": 3
   },
   "file_extension": ".py",
   "mimetype": "text/x-python",
   "name": "python",
   "nbconvert_exporter": "python",
   "pygments_lexer": "ipython3",
   "version": "3.10.8"
  }
 },
 "nbformat": 4,
 "nbformat_minor": 5
}
