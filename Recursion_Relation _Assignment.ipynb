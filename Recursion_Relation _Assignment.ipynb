{
 "cells": [
  {
   "cell_type": "code",
   "execution_count": null,
   "id": "45ca0efc-994e-460e-8397-ce5004a7755d",
   "metadata": {},
   "outputs": [],
   "source": [
    " "
   ]
  },
  {
   "cell_type": "code",
   "execution_count": null,
   "id": "b09efca9-7560-4142-928e-67a00cbef9d4",
   "metadata": {},
   "outputs": [],
   "source": [
    "                                                **** Recursion Relation ****"
   ]
  },
  {
   "cell_type": "code",
   "execution_count": null,
   "id": "7e186643-2bcb-4533-a11f-2502245e1e80",
   "metadata": {},
   "outputs": [],
   "source": []
  },
  {
   "cell_type": "markdown",
   "id": "efcc418c-a50a-42d0-8115-aa926d2ab7ec",
   "metadata": {},
   "source": [
    "### 1. Find the value of T(2) for the recurrence relation T(n) = 3T(n-1) + 12n, given that T(0)=5."
   ]
  },
  {
   "cell_type": "code",
   "execution_count": null,
   "id": "450b8315-bb6e-4c9f-befa-40ee9dbcd028",
   "metadata": {},
   "outputs": [],
   "source": [
    "\n",
    "To find the value of (T(2)) for the recurrence relation (T(n) = 3T(n-1) + 12n) with the initial condition (T(0) = 5), \n",
    "we can iteratively apply the recurrence relation:\n",
    "\n",
    "    T(1) &= 3T(0) + 12 . 1 \n",
    "    T(2) &= 3T(1) + 12 . 2\n",
    "\n",
    "Now, substitute the values:\n",
    "\n",
    "    T(1) &= 3 * 5 + 12 * 1 = 15 + 12 = 27 \n",
    "    T(2) &= 3 * 27 + 12 * 2 = 81 + 24 = 105\n",
    "\n",
    "So, the value of (T(2)) is 105 for the given recurrence relation.\n"
   ]
  },
  {
   "cell_type": "code",
   "execution_count": null,
   "id": "8281c6b9-12f6-4979-b3b9-5e41d545a636",
   "metadata": {},
   "outputs": [],
   "source": []
  },
  {
   "cell_type": "markdown",
   "id": "c1695714-df76-4b14-9e06-155e3ffe2d5a",
   "metadata": {},
   "source": [
    "### 2. Given a recurrence relation, solve it using the substitution method:"
   ]
  },
  {
   "cell_type": "code",
   "execution_count": null,
   "id": "65b816c4-61a8-434b-88f8-ef98c91d50ad",
   "metadata": {},
   "outputs": [],
   "source": [
    "\n",
    "# a. T(n) = T(n-1) + c\n",
    "    T(n) = T(n-1) + c\n",
    "    T(n) = T(n-2)+(n-1)+c\n",
    "    T(n) = T(n-3)+(n-2)+(n-1)+c\n",
    "    kth term: \n",
    "    T(n) = T(n-k)+(n-k+1)+(n-k+2)+c\n",
    "    n-k =1 so k = n-1\n",
    "    T(n) = T(n-n+1)+(n-n+1+1)+(n-n+1+2)+c\n",
    "    T(n) = T(1)+(2)+(3)+c\n",
    "    T(n) = 1+2+3+......+c  // T(1) = 1\n",
    "    T(n) = O(n^2)  // sum of n\n",
    "\n"
   ]
  },
  {
   "cell_type": "code",
   "execution_count": null,
   "id": "74e945da-0a59-4f13-87ea-d835f3e45240",
   "metadata": {},
   "outputs": [],
   "source": [
    "\n",
    "# b. T(n) = 2T(n/2) + n\n",
    "Using the iterative approach:\n",
    "\n",
    "    T(n) = 2T(n/2) + n \n",
    "    T(n) = 2T(2T({n/4}) + {n/2}) + n\n",
    "     T(n) = 2^2T({n/2^2}) + 2n \n",
    "\n",
    "    After (k) iterations:\n",
    "\n",
    "    T(n) = 2^kT({n/2^k}) + kn \n",
    "    Now, we set ({n/2^k} = 1) to find (k = log_2 n):\n",
    "    T(n) = 2^{log_2 n}T(1) + n log_2 n \n",
    "    As (2^{log_2 n} = n), we get:\n",
    "    T(n) = nT(1) + n log_2 n \n",
    "       Now, if (T(1)) is a constant, say (T(1) = c), then:\n",
    "    T(n) = cn + n log_2 n \n",
    "\n",
    "    So, in big-O notation, (T(n) = O(n log n)).\n",
    "    According to the Master Theorem, for this case: T(n) = O(n log n)\n",
    "    \n",
    "    "
   ]
  },
  {
   "cell_type": "code",
   "execution_count": null,
   "id": "a22de163-a988-4b3f-8980-b8569446d0ef",
   "metadata": {},
   "outputs": [],
   "source": [
    "#c. T(n) = 2T(n/2) + c\n",
    "    T(n) = 2T({n\\2}) + c \n",
    "    T(n) = 2left(2T({n\\4}) + c) + c \n",
    "    T(n) = 2^2T({n\\2^2}) + 2c + c \n",
    "\n",
    "    After (k) iterations:\n",
    "\n",
    "    T(n) = 2^kT({n\\2^k}) + kc \n",
    "    Now, we set ({n\\2^k} = 1) to find (k = log_2 n):\n",
    "    T(n) = 2^{log_2 n}T(1) + log_2 n cdot c \n",
    "    As (2^{log_2 n} = n), we get:\n",
    "    T(n) = nT(1) + c cdot log_2 n \n",
    "    If (T(1)) is a constant, say (T(1) = d), then:\n",
    "    T(n) = dn + c cdot log_2 n \n",
    "    So, in big-O notation, (T(n) = O(n + log n)).\n",
    "    Using the Master Theorem, the time complexity for this would also be T(n) = O(n log n)\n",
    "    "
   ]
  },
  {
   "cell_type": "code",
   "execution_count": null,
   "id": "d922aa18-3835-4ea7-ba77-abdfef6a82e9",
   "metadata": {},
   "outputs": [],
   "source": [
    "\n",
    "#d. T(n) = T(n/2) + c\n",
    "     T(n) = T({n2}) + c \n",
    "    Now, iterate the substitution:\n",
    "\n",
    "    T(n) = T({n2}) + c \n",
    "    T(n) = T({n2^2}) + c + c \n",
    "     T(n) = T({n2^3}) + c + c + c \n",
    "After (k) iterations:\n",
    "\n",
    "     T(n) = T({n2^k}) + k cdot c \n",
    "\n",
    "Now, set ({n2^k} = 1) to find (k = log_2 n):\n",
    "\n",
    "     T(n) = T(1) + log_2 n cdot c \n",
    "\n",
    "So, in big-O notation, (T(n) = O(log n)).\n",
    "This recurrence relation represents linear time complexity, which is O(n)."
   ]
  },
  {
   "cell_type": "code",
   "execution_count": null,
   "id": "f837bf05-c85c-40e6-bf00-65a6469980a7",
   "metadata": {},
   "outputs": [],
   "source": []
  },
  {
   "cell_type": "markdown",
   "id": "bac970d4-69ae-4e26-a926-292a05dc13c2",
   "metadata": {},
   "source": [
    "### 3. Given a recurrence relation, solve it using the recursive tree approach:"
   ]
  },
  {
   "cell_type": "code",
   "execution_count": null,
   "id": "9a390369-d761-422a-a91c-086cffad0542",
   "metadata": {},
   "outputs": [],
   "source": [
    "\n",
    "#a. T(n) = 2T(n-1) +1\n",
    "'''\n",
    "      T(n)\n",
    "       |\n",
    "      / \\\n",
    " T(n-1)  T(n-1)\n",
    "  |        |\n",
    "...      / \\\n",
    "        T(n-2) T(n-2)\n",
    "         |      |\n",
    "        ...   / \\\n",
    "             T(n-3) T(n-3)\n",
    "              |      |\n",
    "             ...   ...\n",
    "'''\n",
    "\n",
    "- Level 0: (T(n))\n",
    "- Level 1: (2T(n-1) + 1)\n",
    "- Level 2: (2^2T(n-2) + 2 + 1)\n",
    "- Level 3: (2^3T(n-3) + 2^2 + 2 + 1)\n",
    "- ...\n",
    "Generalkzkng for level (k), the work done ks (2^kT(n-k) + 2^{k-1} + 2^{k-2} + ldots + 1).\n",
    "\n",
    "The total number of levels ks (n) (sknce (n) decreases by 1 at each level untkl kt reaches 0).\n",
    "\n",
    "Now, let's sum up the work done at each level:\n",
    "\n",
    "T(n) &= 2^nT(0) + 2^{n-1} + 2^{n-2} + ldots + 1 \n",
    "&= 2^n + (2^{n-1} + 2^{n-2} + ldots + 1)\n",
    "\n",
    "The sum kn the parentheses ks a geometrkc serkes wkth a common ratko of 2. The sum of a geometrkc serkes wkth (k) terms ks gkven by (S = frac{a(r^k - 1)}{r - 1}), where (a) ks the fkrst term, (r) ks the common ratko. kn thks case, (a = 1), (r = 2), and (k = n):\n",
    "\n",
    "text{Sum} = frac{1 cdot (2^n - 1)}{2 - 1} = 2^n - 1\n",
    "\n",
    "Therefore, the total work done ks:\n",
    "\n",
    "T(n) = 2^n + (2^n - 1) = 2^{n+1} - 1\n",
    "\n",
    "So, \n",
    "\n",
    "(T(n) = O(2^n))\n",
    "\n",
    "This recursive relation represents exponential growth, where T(n) = O(2^n).\n",
    "    "
   ]
  },
  {
   "cell_type": "code",
   "execution_count": null,
   "id": "61a49b6c-7f69-4f4a-b8c0-de26d22c92c6",
   "metadata": {},
   "outputs": [],
   "source": [
    "\n",
    "#b. T(n) = 2T(n/2) + n\n",
    "\n",
    "'''\n",
    "      T(n)\n",
    "       |\n",
    "    /      \\\n",
    "T(n/2)     T(n/2)\n",
    " |           |\n",
    "...         /   \\\n",
    "           T(n/4) T(n/4)\n",
    "            |      |\n",
    "           ...    ...\n",
    "\n",
    "'''\n",
    "\n",
    "\n",
    "- Level 0: (T(n))\n",
    "- Level 1: (2T({n\\2}) + n)\n",
    "- Level 2: (2^2T({n\\2^2}) + {n\\2} + {n\\2})\n",
    "- Level 3: (2^3T({n\\2^3}) + {n\\2^2} + {n\\2^2} + {n\\2^2} + {n\\2^2})\n",
    "- ...\n",
    "Generalkzkng for level (k), the work done ks (2^kT({n\\2^k}) + {n\\2^{k-1}} + {n\\2^{k-1}} + ldots + {n\\2^{k-1}}), where the last term appears (2^{k-1}) tkmes.\n",
    "\n",
    "The total number of levels ks (log_2 n) (sknce (n) decreases by a factor of 2 at each level untkl kt reaches 1).\n",
    "\n",
    "Now, let's sum up the work done at each level:\n",
    "\n",
    "\n",
    "\n",
    "T(n) = 2^{log_2 n}T(1) + n({1\\2^0} + {1\\2^1} + ldots + {1\\2^{log_2 n-1}}) \n",
    "= n + n(1 + {1\\2} + ldots + {1\\2^{log_2 n-1}})\n",
    "\n",
    "\n",
    "\n",
    "The sum  the parentheses is a geometric serkes with a common ratko of ({1\\2}). \n",
    "The sum of a geometrkc series with (k) terms is given by (S = {a(1 - r^k)\\1 - r}), where (a) is the first term, (r) is the common ratio. \n",
    "in this case, (a = 1), (r = {1\\2}), and (k = log_2 n):\n",
    "text{Sum} = {1 * (1 - ({1\\2})^{log_2 n})\\1 - {1\\2}} = 2n - 1\n",
    "\n",
    "\n",
    "Therefore, the total work done ks:\n",
    "\n",
    "\n",
    "T(n) = n + n(2n - 1) = 2n^2 - n\n",
    "\n",
    "So,\n",
    "T(n) = O(n^2).\n",
    "Using the Master Theorem, this recurrence relation results in a time complexity of O(n log n)."
   ]
  },
  {
   "cell_type": "code",
   "execution_count": null,
   "id": "67b3b298-9666-402f-b67d-e31b844a83cd",
   "metadata": {},
   "outputs": [],
   "source": []
  },
  {
   "cell_type": "code",
   "execution_count": null,
   "id": "43b5cc7d-fcaf-4de3-b531-601790c41b9b",
   "metadata": {},
   "outputs": [],
   "source": []
  }
 ],
 "metadata": {
  "kernelspec": {
   "display_name": "Python 3 (ipykernel)",
   "language": "python",
   "name": "python3"
  },
  "language_info": {
   "codemirror_mode": {
    "name": "ipython",
    "version": 3
   },
   "file_extension": ".py",
   "mimetype": "text/x-python",
   "name": "python",
   "nbconvert_exporter": "python",
   "pygments_lexer": "ipython3",
   "version": "3.10.8"
  }
 },
 "nbformat": 4,
 "nbformat_minor": 5
}
