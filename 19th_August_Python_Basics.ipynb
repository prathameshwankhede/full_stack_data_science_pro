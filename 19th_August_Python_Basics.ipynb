{
 "cells": [
  {
   "cell_type": "raw",
   "id": "2a9d2c78-df77-49c8-8045-3b9adf32d56b",
   "metadata": {},
   "source": [
    "                                                          ****Python Basics**** "
   ]
  },
  {
   "cell_type": "markdown",
   "id": "617e3715-a563-47dc-a75d-c1eb2ecb3e86",
   "metadata": {},
   "source": [
    "* ASSIGNMENT QUESTION  *"
   ]
  },
  {
   "cell_type": "code",
   "execution_count": null,
   "id": "0fd89afc-5bf4-401f-be23-6d57e104d992",
   "metadata": {},
   "outputs": [],
   "source": []
  },
  {
   "cell_type": "markdown",
   "id": "6b1543c1-384a-4f04-a8b8-2ac3f942590b",
   "metadata": {},
   "source": [
    "TOPIC: PYTHON BASICS VARIABLE "
   ]
  },
  {
   "cell_type": "markdown",
   "id": "06d6ef3c-9020-4fee-8212-3fb1ea5fce8b",
   "metadata": {},
   "source": [
    "1. Declare two variables, 'x' and 'y', and assign them integer values. Swap the values of these variables without using any temporary variable."
   ]
  },
  {
   "cell_type": "code",
   "execution_count": 1,
   "id": "6076ba22-ebf7-4d1e-9e1e-1f1077d1b919",
   "metadata": {},
   "outputs": [
    {
     "name": "stdin",
     "output_type": "stream",
     "text": [
      "enter a first variable x : 23\n",
      "enter a second variable y : 70\n"
     ]
    },
    {
     "name": "stdout",
     "output_type": "stream",
     "text": [
      "Before swap the value x : 23 and y : 70\n",
      "After swap the value x : 70 and y : 23\n"
     ]
    }
   ],
   "source": [
    "#STEP1 : Declare two variables x and y and assign in integer values \n",
    "x = int(input(\"enter a first variable x :\")) #taking user input of x and converting it into integer \n",
    "y = int(input(\"enter a second variable y :\")) #taking user input of y and converting it into integer \n",
    "\n",
    "#STEP2 : Display the before swap values of x and y \n",
    "# f before the string indicates an f-string, which allows you to embed variables' values directly into the string.\n",
    "print(f\"Before swap the value x : {x} and y : {y}\")\n",
    "\n",
    "#STEP3 : Swap the values x to y and y to x \n",
    "x,y = y,x\n",
    "\n",
    "#STEP4 : Display the after swap the values of x and y\n",
    "# The f before the string indicates an f-string, which allows you to embed variables' values directly into the string.\n",
    "print(f\"After swap the value x : {x} and y : {y}\")\n",
    "      \n",
    "    \n",
    "# Note : Using input() function returns a string ,so we use the int() to convert the input into integer since x and y can take integer value. \n",
    "#        print(f\"Before swap the values of  x: {x} and y: {y}\"): Inside the function, this line prints the values of x and y before the swapping operation. \n",
    "#        The f before the string indicates an f-string, which allows you to embed variables' values directly into the string.\n",
    "\n",
    "#        for example, print(f\"value a :{place holder of a} , b :{place holder of b})\n",
    "\n",
    "#        x, y = y, x: This line is where the swapping of the variables' values occurs. It uses a tuple unpacking technique to simultaneously swap the values\n",
    "#        of x and y. After this line executes, the value of x becomes the original value of y, and the value of y becomes the original value of x.\n",
    "\n",
    "#        print(f\"After swap the values of  x: {x} and y: {y}\"): This line prints the values of x and y after the swapping operation has taken place"
   ]
  },
  {
   "cell_type": "code",
   "execution_count": null,
   "id": "dbe275de-11dc-4c54-a9e1-43dc8a9d6b81",
   "metadata": {},
   "outputs": [],
   "source": []
  },
  {
   "cell_type": "markdown",
   "id": "c4770908-6a7f-4419-8107-0635719e3534",
   "metadata": {},
   "source": [
    "2. Create a program that calculates the area of a rectangle. Take the length and width as inputs from the user and store them in variables. Calculate and display the area."
   ]
  },
  {
   "cell_type": "code",
   "execution_count": 2,
   "id": "00d1c87b-5b85-480b-a935-d7fdc1b04f4d",
   "metadata": {},
   "outputs": [
    {
     "name": "stdin",
     "output_type": "stream",
     "text": [
      "enter the length of rectangle : 12\n",
      "enter the width of rectangle : 5\n"
     ]
    },
    {
     "name": "stdout",
     "output_type": "stream",
     "text": [
      "Area of Rectangle : 60.0\n"
     ]
    }
   ],
   "source": [
    "#step1 : Take input from user of length and width \n",
    "length = float(input(\"enter the length of rectangle :\")) #taking user input of length and converting it into floating point number\n",
    "width = float(input(\"enter the width of rectangle :\")) #taking user input of width and converting it into floating point number\n",
    "\n",
    "#Step2 : Calculate the area of rectangle by using the formula : area = length * width\n",
    "Area = length*width #calculate the area of rectangle by multiplication of length and width and stores in area \n",
    "\n",
    "#step3 : Display the area of rectangle \n",
    "print(\"Area of Rectangle :\", Area)\n",
    "\n",
    "\n",
    "# Note : the input() function returns a string ,so we use the float() to convert the input into floating point numbers since length and width \n",
    "#        can have decimal values.\n"
   ]
  },
  {
   "cell_type": "code",
   "execution_count": null,
   "id": "d3e0c95f-fadf-44f2-8644-f14b8b7790ad",
   "metadata": {},
   "outputs": [],
   "source": []
  },
  {
   "cell_type": "markdown",
   "id": "0c0ab7c6-fb27-4611-b79a-30f63f94e685",
   "metadata": {},
   "source": [
    "3. Write a python program that converts temperatures from Celsisus to Fahrenheit. Take the temperature in Celsius as input, store it in a variable, convert it to Fahrenheit, and display the result."
   ]
  },
  {
   "cell_type": "code",
   "execution_count": 3,
   "id": "d6f3d410-fcc7-4146-842f-2e70ef17a657",
   "metadata": {},
   "outputs": [
    {
     "name": "stdin",
     "output_type": "stream",
     "text": [
      "enter the tempertaure in celsius : 37\n"
     ]
    },
    {
     "name": "stdout",
     "output_type": "stream",
     "text": [
      "converts temperature from celsius to fahreheit : 98.60000000000001\n"
     ]
    }
   ],
   "source": [
    "#step1 : Take the input as the temperature in celsius \n",
    "c = float(input(\"enter the tempertaure in celsius :\")) #taking user input of the temperature in celsius and converting it into floating point numbers \n",
    "                                                      #stores in c \n",
    "#step2 : convert it celsius to fahrenheit by using formula : farenheit = (9/5)*c + 32\n",
    "f = (9/5*c)+32   #calculate the fahrenheit temperature and stores in f variable \n",
    "\n",
    "#step3 : Display the converted temperature from celsius to fahrenheit\n",
    "print(\"converts temperature from celsius to fahreheit :\" , f)\n",
    "\n",
    "\n",
    "# Note : the input() function returns a string , so we use the float() to convert the input into floating point numbers since temperature in celsius can have \n",
    "#        decimal value."
   ]
  },
  {
   "cell_type": "code",
   "execution_count": null,
   "id": "dc9bfe12-646d-46c6-aec1-580f06689592",
   "metadata": {},
   "outputs": [],
   "source": []
  },
  {
   "cell_type": "code",
   "execution_count": null,
   "id": "71c2304b-a320-46ff-b523-afd89dde040a",
   "metadata": {},
   "outputs": [],
   "source": [
    "TOPIC: STRING BASED QUESTIONS"
   ]
  },
  {
   "cell_type": "markdown",
   "id": "1c47d092-7555-4e26-996d-3a7eeeb29bfe",
   "metadata": {},
   "source": [
    "1. Write a python program that takes a string as input and prints the length of the string."
   ]
  },
  {
   "cell_type": "code",
   "execution_count": 4,
   "id": "25275a0f-fa60-4f75-a6cc-1426683c046f",
   "metadata": {},
   "outputs": [
    {
     "name": "stdin",
     "output_type": "stream",
     "text": [
      "Take a string : all is well\n"
     ]
    },
    {
     "name": "stdout",
     "output_type": "stream",
     "text": [
      "the length of the string : 11\n"
     ]
    }
   ],
   "source": [
    "#step1 : Take a string \n",
    "a = input(\"Take a string :\") #taking user input of take a string \n",
    "\n",
    "#step2 : print the length of string \n",
    "print(\"the length of the string :\" , len(a)) #using len() to calculate string and spaces between character \n",
    "\n",
    "\n",
    "# Note : len() is used by calculating the string and spaces between string "
   ]
  },
  {
   "cell_type": "code",
   "execution_count": null,
   "id": "7c131108-1b6c-4884-8f65-df427a2b964c",
   "metadata": {},
   "outputs": [],
   "source": []
  },
  {
   "cell_type": "markdown",
   "id": "9d6fc777-cb74-4f50-8833-af917e456694",
   "metadata": {},
   "source": [
    "2. Create a program that takes a sentence from the user and counts the number of vowels (a,e,i,o,u) in the string."
   ]
  },
  {
   "cell_type": "code",
   "execution_count": 5,
   "id": "446c475b-46f3-448a-b971-91b4e0cc63ad",
   "metadata": {},
   "outputs": [
    {
     "name": "stdin",
     "output_type": "stream",
     "text": [
      "enter a sentence : Good Morning India\n"
     ]
    },
    {
     "name": "stdout",
     "output_type": "stream",
     "text": [
      "count the number of vowels (a,e,i,o,u) in string : 7\n"
     ]
    }
   ],
   "source": [
    "#step1 : Take input from user \n",
    "string = input(\"enter a sentence :\") #taking user input and stores in input_string\n",
    "\n",
    "#step2 : Initialize a variable to count the vowel\n",
    "vowel_count = 0\n",
    "\n",
    "#step3 : Iterate through each character in the sentence\n",
    "for char in string:\n",
    "    #step4 : convert the character to lowercase to handle both uppercase and lowercase vowels\n",
    "    char_lower = char.lower()\n",
    "    \n",
    "    #step5 : check if a charcter is a vowel (a, e, i, o, u)\n",
    "    if char_lower in \"aeoiu\":\n",
    "        #step6 : If the character is a vowel, increment the vowel_count variable\n",
    "        vowel_count = vowel_count+1\n",
    "        \n",
    "#step7 : Display the vowels in string        \n",
    "print(\"count the number of vowels (a,e,i,o,u) in string :\", vowel_count)\n",
    "\n",
    "\n",
    "# Note :\n",
    "# We start by using the input() function to get a sentence from the user and store it in the variable sentence.\n",
    "\n",
    "# We initialize a variable called vowel_count to keep track of the number of vowels in the sentence.\n",
    "\n",
    "# We use a for loop to iterate through each character in the sentence.\n",
    "\n",
    "# To ensure we capture both uppercase and lowercase vowels, we convert the character to lowercase using the .lower() method and store it in the variable \n",
    "#char_lower.\n",
    "\n",
    "# We check if the lowercase character (char_lower) is one of the vowels by using the in operator and the string \"aeiou\".\n",
    "\n",
    "# If the character is a vowel, we increment the vowel_count variable by 1.\n",
    "\n",
    "# After iterating through all characters in the sentence, we print out the final count of vowels using the print() function."
   ]
  },
  {
   "cell_type": "code",
   "execution_count": null,
   "id": "9386958d-c3fa-4d59-9add-7405087bdb35",
   "metadata": {},
   "outputs": [],
   "source": []
  },
  {
   "cell_type": "markdown",
   "id": "b4948728-21cc-4da9-9267-6f55a4d6903b",
   "metadata": {},
   "source": [
    "3. Given a string, reverse the order of characters using string slicing and print the reversed string."
   ]
  },
  {
   "cell_type": "code",
   "execution_count": 6,
   "id": "38c83e1d-325e-46a6-9f22-acb28cbd50ff",
   "metadata": {},
   "outputs": [
    {
     "name": "stdin",
     "output_type": "stream",
     "text": [
      "Given a string : computer is electronic machine\n"
     ]
    },
    {
     "name": "stdout",
     "output_type": "stream",
     "text": [
      "Reversed string : enihcam cinortcele si retupmoc\n"
     ]
    }
   ],
   "source": [
    "#step1 : Get the input string from the user\n",
    "string = input(\"Given a string :\")\n",
    "\n",
    "#step2 : Reverse the order of characters using string slicing \n",
    "#by slicing syntax : [start:end:stop]\n",
    "#Here, we start from the end of the string, move backward with step -1, and stop at the beginning\n",
    "reverse_string = string[::-1]\n",
    "\n",
    "#step3 : Display the reversed string \n",
    "print(\"Reversed string :\" , reverse_string)\n",
    "\n",
    "\n",
    "# Note : To reverse the string using string slicing, we use slicing syntax [start:end:stop]. In this case start is not specified, so it defaults to the beginning\n",
    "#        of the string.end is not specified either, so it defaults to the end of teh string. step is -1, which means we are moving backward through the string.\n",
    "#        so, by using string[::-1], we are effectively reversing the string."
   ]
  },
  {
   "cell_type": "code",
   "execution_count": null,
   "id": "1da1c8e0-5f55-46bb-a7d9-de590c773a1b",
   "metadata": {},
   "outputs": [],
   "source": []
  },
  {
   "cell_type": "markdown",
   "id": "7a26df4e-6306-4ccd-965d-e21b17d17584",
   "metadata": {},
   "source": [
    "4. Write a program that takes a string as input and checks if it is a palindrome(reads the same forwards and backwards)."
   ]
  },
  {
   "cell_type": "code",
   "execution_count": 7,
   "id": "72d90e65-d153-4c7b-bc98-ae13e6e4a96d",
   "metadata": {},
   "outputs": [
    {
     "name": "stdin",
     "output_type": "stream",
     "text": [
      "enter a string : radar\n"
     ]
    },
    {
     "name": "stdout",
     "output_type": "stream",
     "text": [
      "The input string is palindrome(reads the same forwards and backwards).\n"
     ]
    }
   ],
   "source": [
    "#step1 : Take input from user\n",
    "input_string = input(\"enter a string :\")\n",
    "\n",
    "#step2 : Remove spaces and convert it into lowercase and assign in cleaned_string variable \n",
    "cleaned_string = input_string.replace(\" \",\"\").lower()\n",
    "\n",
    "#step3 : Reverse the cleaned_string using slicing\n",
    "#by using syntax[start:end:step]\n",
    "#assign in reversed_string\n",
    "reversed_string = cleaned_string[::-1]\n",
    "\n",
    "#step3 : Compare cleaned_string with reversed_string to check for palindrome\n",
    "if cleaned_string == reversed_string :\n",
    "    print(\"The input string is palindrome(reads the same forwards and backwards).\")\n",
    "else :\n",
    "    print(\"The input string is not palindrome( not reads the same forwards and backwards.\")\n",
    "\n",
    "    \n",
    "# Note : we remove spaces from the input_string using the replace() method and convert it to lowercase using the lower() method. This step is necessary to ensure \n",
    "#        that the comparision is case_insensitive and doesn't consider spaces.\n",
    "#        we create the reversed_string by slicing the cleaned_string with a step of -1, which effectively reverse the string.\n",
    "#        we compare the cleaned_string with reversed version (reversed_string) using an if statement. If they are equal, then print that the input string is \n",
    "#        palindrome(reads the same forwards and backwards), otherwise print that the input string is not palindrome( not reads the same forwards and backwards)\n"
   ]
  },
  {
   "cell_type": "code",
   "execution_count": null,
   "id": "eb3420af-bea1-41b0-928e-e88cea76c8a4",
   "metadata": {},
   "outputs": [],
   "source": []
  },
  {
   "cell_type": "markdown",
   "id": "2d7fa48b-0c85-4cf7-853d-6ce4528f4d14",
   "metadata": {},
   "source": [
    "5. Create a program that takes a string as input and removes all the spaces from it. Print the modified string without spaces."
   ]
  },
  {
   "cell_type": "code",
   "execution_count": 8,
   "id": "271dea74-8217-4e18-9c2e-356ea5540abb",
   "metadata": {},
   "outputs": [
    {
     "name": "stdin",
     "output_type": "stream",
     "text": [
      "Take a string : Thank you giving me this wonderful assignment\n"
     ]
    },
    {
     "name": "stdout",
     "output_type": "stream",
     "text": [
      "Modified string without spaces : Thankyougivingmethiswonderfulassignment\n"
     ]
    }
   ],
   "source": [
    "#step1 : Take input from user \n",
    "input_string = input(\"Take a string :\") #taking user input which is already in string \n",
    "\n",
    "#step2 : Using replace() which is in-built function to remove spaces and assign in remove_spaces \n",
    "remove_spaces = input_string.replace(\" \",\"\")\n",
    "\n",
    "#step3 : Display modified string without spaces\n",
    "print(\"Modified string without spaces :\" , remove_spaces)\n",
    "\n",
    "# Note : we use replace() which is in built function by the syntax repalce(old,new,count)"
   ]
  },
  {
   "cell_type": "code",
   "execution_count": null,
   "id": "3edca45a-1409-43da-aaa4-18c6d5332e74",
   "metadata": {},
   "outputs": [],
   "source": []
  }
 ],
 "metadata": {
  "kernelspec": {
   "display_name": "Python 3 (ipykernel)",
   "language": "python",
   "name": "python3"
  },
  "language_info": {
   "codemirror_mode": {
    "name": "ipython",
    "version": 3
   },
   "file_extension": ".py",
   "mimetype": "text/x-python",
   "name": "python",
   "nbconvert_exporter": "python",
   "pygments_lexer": "ipython3",
   "version": "3.10.8"
  }
 },
 "nbformat": 4,
 "nbformat_minor": 5
}
