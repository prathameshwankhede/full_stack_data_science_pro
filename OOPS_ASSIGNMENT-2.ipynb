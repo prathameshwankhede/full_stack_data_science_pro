{
 "cells": [
  {
   "cell_type": "code",
   "execution_count": null,
   "id": "bae6cfed-5f85-4e6a-a237-d31444ac5c0b",
   "metadata": {},
   "outputs": [],
   "source": []
  },
  {
   "cell_type": "code",
   "execution_count": null,
   "id": "95fc177e-b406-4279-b5a5-8a05844e5278",
   "metadata": {},
   "outputs": [],
   "source": [
    "                                                           ****OOPS Assignment-2****"
   ]
  },
  {
   "cell_type": "code",
   "execution_count": null,
   "id": "d8618d4a-a25c-494d-b7bd-90aa1c756a7d",
   "metadata": {},
   "outputs": [],
   "source": []
  },
  {
   "cell_type": "markdown",
   "id": "952577f5-ace2-4fae-a892-481b38f9ab9e",
   "metadata": {},
   "source": [
    "# Constructor:\n",
    "---"
   ]
  },
  {
   "cell_type": "markdown",
   "id": "5f40942a-ca67-449d-8c32-71f94abb1c92",
   "metadata": {},
   "source": [
    "### 1. What is a constructor in Python? Explain its purpose and usage."
   ]
  },
  {
   "cell_type": "code",
   "execution_count": 1,
   "id": "f8d0da84-b70b-4fc2-b97c-aa2a5a0b995f",
   "metadata": {},
   "outputs": [
    {
     "data": {
      "text/plain": [
       "'value1'"
      ]
     },
     "execution_count": 1,
     "metadata": {},
     "output_type": "execute_result"
    }
   ],
   "source": [
    "'''\n",
    "In Python, a constructor is a special method within a class that is automatically called \n",
    "when an object of the class is created. The purpose of a constructor is to \n",
    "initialize the attributes or properties of an object. \n",
    "It allows you to set up the initial state of the object when it is instantiated.'''\n",
    "\n",
    "class MyClass:\n",
    "    def __init__(self, attribute1, attribute2):\n",
    "        self.attribute1 = attribute1\n",
    "        self.attribute2 = attribute2\n",
    "\n",
    "obj = MyClass('value1', 'value2')\n",
    "obj.attribute1\n"
   ]
  },
  {
   "cell_type": "code",
   "execution_count": null,
   "id": "8c04b1a7-bde7-49f4-8c54-e53183263baa",
   "metadata": {},
   "outputs": [],
   "source": []
  },
  {
   "cell_type": "markdown",
   "id": "30400990-6b37-40b3-b060-91fa73e2da6b",
   "metadata": {},
   "source": [
    "### 2. Differentiate between a parameterless constructor and a parameterized constructor in Python."
   ]
  },
  {
   "cell_type": "code",
   "execution_count": 3,
   "id": "86a3e53f-9eac-4928-992d-4fab69fedaed",
   "metadata": {},
   "outputs": [
    {
     "data": {
      "text/plain": [
       "'Custom value 2'"
      ]
     },
     "execution_count": 3,
     "metadata": {},
     "output_type": "execute_result"
    }
   ],
   "source": [
    "\n",
    "'''\n",
    "The key difference between a parameterless constructor and a parameterized\n",
    "constructor is whether or not they accept parameters. Parameterless constructors\n",
    "don't take any additional parameters, whereas parameterized constructors do, \n",
    "allowing you to customize the initialization of the object by passing values during instantiation.\n",
    "\n",
    "Parameterized constructor : the parameterized constructor that can take place one or more argument.\n",
    "it is used to create object with custom values.\n",
    "parameterless constructor : the parameterless constructor that cannot take place any aruguments.\n",
    "'''\n",
    "\n",
    "class ParameterlessConstructorExample:\n",
    "    def __init__(self):\n",
    "        # Default initialization\n",
    "        self.attribute1 = \"Default value 1\"\n",
    "        self.attribute2 = \"Default value 2\"\n",
    "        \n",
    "class ParameterizedConstructorExample:\n",
    "    def __init__(self, value1, value2):\n",
    "        # Initializing attributes with values provided as parameters\n",
    "        self.attribute1 = value1\n",
    "        self.attribute2 = value2\n",
    "\n",
    "# Creating an instance with a parameterized constructor\n",
    "obj = ParameterizedConstructorExample(\"Custom value 1\", \"Custom value 2\")\n",
    "obj.attribute2\n"
   ]
  },
  {
   "cell_type": "code",
   "execution_count": null,
   "id": "bfae4e36-1aff-41c8-9c5e-3dade238a637",
   "metadata": {},
   "outputs": [],
   "source": []
  },
  {
   "cell_type": "markdown",
   "id": "98573519-f2d0-4353-86d2-eadf43df6ac9",
   "metadata": {},
   "source": [
    "### 3. How do you define a constructor in a Python class? Provide an example."
   ]
  },
  {
   "cell_type": "code",
   "execution_count": 4,
   "id": "fd7cb3c0-52f8-40fe-82d5-e87660a843f3",
   "metadata": {},
   "outputs": [
    {
     "name": "stdout",
     "output_type": "stream",
     "text": [
      "21\n",
      "Durga\n"
     ]
    }
   ],
   "source": [
    "'''\n",
    "We can define constructor in python by using __init__ method. this method is also called as dunder method.\n",
    "We have given example of constructor\n",
    "'''\n",
    "class person :\n",
    "    \n",
    "    def __init__(self ,name ,age):\n",
    "        self.name =name \n",
    "        self.age =age\n",
    "        \n",
    "obj_person =person(\"Durga\",21)\n",
    "print(obj_person.age)\n",
    "print(obj_person.name)\n"
   ]
  },
  {
   "cell_type": "code",
   "execution_count": null,
   "id": "ce18fc85-7052-4635-b7bb-ed5822f7e7ff",
   "metadata": {},
   "outputs": [],
   "source": []
  },
  {
   "cell_type": "markdown",
   "id": "709599f0-df86-4b13-bc29-26a7b53436cc",
   "metadata": {},
   "source": [
    "### 4. Explain the `__init__` method in Python and its role in constructors."
   ]
  },
  {
   "cell_type": "code",
   "execution_count": 5,
   "id": "63c39fd9-b601-4fe9-8b7b-e8453b465af5",
   "metadata": {},
   "outputs": [
    {
     "name": "stdout",
     "output_type": "stream",
     "text": [
      "Value 1\n",
      "Value 2\n"
     ]
    }
   ],
   "source": [
    "'''\n",
    "In Python, the __init__ method is a special method used in class definitions. It plays a crucial role in the concept of constructors. \n",
    "The name __init__ is reserved, and this method is automatically called when an object is created from a class.\n",
    "\n",
    "__init__ is a constructor in python which accept which accept number of arguments.it is used to creating and initializing object.\n",
    "\n",
    "'''\n",
    "\n",
    "class MyClass:\n",
    "    def __init__(self, attribute1, attribute2):\n",
    "        self.attribute1 = attribute1\n",
    "        self.attribute2 = attribute2\n",
    "\n",
    "# Creating an instance of MyClass and calling the constructor\n",
    "obj = MyClass(\"Value 1\", \"Value 2\")\n",
    "\n",
    "# Accessing attributes of the object\n",
    "print(obj.attribute1)  # Output: Value 1\n",
    "print(obj.attribute2)  # Output: Value 2\n"
   ]
  },
  {
   "cell_type": "code",
   "execution_count": null,
   "id": "0bb946a0-2b2a-4a4c-9a3e-c5fe4f1c79f9",
   "metadata": {},
   "outputs": [],
   "source": []
  },
  {
   "cell_type": "markdown",
   "id": "49bf3d4e-97bc-4353-9115-d0ab5ae5a9a3",
   "metadata": {},
   "source": [
    "### 5. In a class named `Person`, create a constructor that initializes the `name` and `age` attributes. Provide an example of creating an object of this class."
   ]
  },
  {
   "cell_type": "code",
   "execution_count": 6,
   "id": "90387b5c-830e-47cc-a27e-e01455a8e470",
   "metadata": {},
   "outputs": [
    {
     "name": "stdout",
     "output_type": "stream",
     "text": [
      "Name: Radha\n",
      "Age: 25\n"
     ]
    }
   ],
   "source": [
    "\n",
    "class Person:\n",
    "    def __init__(self, name, age):\n",
    "        self.name = name\n",
    "        self.age = age\n",
    "\n",
    "# Creating an instance of the Person class with the constructor\n",
    "person1 = Person(name=\"Radha\", age=25)\n",
    "\n",
    "# Accessing attributes of the person object\n",
    "print(f\"Name: {person1.name}\")\n",
    "print(f\"Age: {person1.age}\")\n"
   ]
  },
  {
   "cell_type": "code",
   "execution_count": null,
   "id": "029e3eb2-2f50-4cc4-8e85-76508497c8b5",
   "metadata": {},
   "outputs": [],
   "source": []
  },
  {
   "cell_type": "markdown",
   "id": "b9586825-e697-45c8-8cef-9721a2464566",
   "metadata": {},
   "source": [
    "### 6. How can you call a constructor explicitly in Python? Give an example."
   ]
  },
  {
   "cell_type": "code",
   "execution_count": 7,
   "id": "15ac26a3-e448-4f51-90b5-ca1c4bd5082f",
   "metadata": {},
   "outputs": [
    {
     "name": "stdout",
     "output_type": "stream",
     "text": [
      "Original Value\n",
      "New Value\n"
     ]
    }
   ],
   "source": [
    "\n",
    "class MyClass:\n",
    "    def __init__(self, value):\n",
    "        self.value = value\n",
    "\n",
    "    def explicit_constructor_call(self, new_value):\n",
    "        # Explicitly calling the constructor\n",
    "        self.__init__(new_value)\n",
    "\n",
    "# Creating an instance of MyClass\n",
    "obj = MyClass(value=\"Original Value\")\n",
    "\n",
    "# Accessing the attribute before explicit constructor call\n",
    "print(obj.value)  # Output: Original Value\n",
    "\n",
    "# Explicitly calling the constructor method\n",
    "obj.explicit_constructor_call(new_value=\"New Value\")\n",
    "\n",
    "# Accessing the attribute after explicit constructor call\n",
    "print(obj.value)  # Output: New Value\n"
   ]
  },
  {
   "cell_type": "code",
   "execution_count": 8,
   "id": "cb797b88-3c45-4e3a-ab53-84755536e02f",
   "metadata": {},
   "outputs": [
    {
     "data": {
      "text/plain": [
       "'male'"
      ]
     },
     "execution_count": 8,
     "metadata": {},
     "output_type": "execute_result"
    }
   ],
   "source": [
    "'''\n",
    "We can call constructor by using super function. here we provide example -\n",
    "'''\n",
    "class parent :\n",
    "    \n",
    "    def __init__(self ,x):\n",
    "        self.x =x\n",
    "        \n",
    "class child(parent):\n",
    "    \n",
    "    def __init__(self ,x):\n",
    "        super().__init__(x)\n",
    "        \n",
    "pw_obj =child(\"male\")\n",
    "pw_obj.x\n",
    "pw_obj.x\n"
   ]
  },
  {
   "cell_type": "code",
   "execution_count": null,
   "id": "31b80198-51fa-4b83-aab7-9333640e54f4",
   "metadata": {},
   "outputs": [],
   "source": []
  },
  {
   "cell_type": "markdown",
   "id": "cad775d9-d7f1-4796-a598-994176f0122d",
   "metadata": {},
   "source": [
    "### 7. What is the significance of the `self` parameter in Python constructors? Explain with an example."
   ]
  },
  {
   "cell_type": "code",
   "execution_count": 11,
   "id": "34b4f8dd-8502-4d53-8172-9409979d2c12",
   "metadata": {},
   "outputs": [
    {
     "data": {
      "text/plain": [
       "'female'"
      ]
     },
     "execution_count": 11,
     "metadata": {},
     "output_type": "execute_result"
    }
   ],
   "source": [
    "'''\n",
    "self parameter is used to access the attribute and method from class or else self is use to give referance to the class.\n",
    "'''\n",
    "class vehicle :\n",
    "    \n",
    "    def __init__(self):\n",
    "        self.age = 21\n",
    "        self.gender =\"female\"\n",
    "        \n",
    "obj_vehicle =vehicle()\n",
    "obj_vehicle.gender\n"
   ]
  },
  {
   "cell_type": "code",
   "execution_count": 12,
   "id": "e9ed370a-744c-48be-93b8-cb8f0defd210",
   "metadata": {},
   "outputs": [
    {
     "data": {
      "text/plain": [
       "21"
      ]
     },
     "execution_count": 12,
     "metadata": {},
     "output_type": "execute_result"
    }
   ],
   "source": [
    "obj_vehicle.age"
   ]
  },
  {
   "cell_type": "code",
   "execution_count": null,
   "id": "54dbd785-fc4e-4ad6-9508-6510fce70291",
   "metadata": {},
   "outputs": [],
   "source": []
  },
  {
   "cell_type": "markdown",
   "id": "ca40661a-6c1d-48ff-a231-3929fb9043e9",
   "metadata": {},
   "source": [
    "### 8. Discuss the concept of default constructors in Python. When are they used?"
   ]
  },
  {
   "cell_type": "code",
   "execution_count": 13,
   "id": "a534bcfa-5196-4fbe-aa08-8ee5db2fd5ff",
   "metadata": {},
   "outputs": [],
   "source": [
    "'''\n",
    "In Python, a default constructor refers to a constructor that is automatically provided \n",
    "by the language if a class definition doesn't explicitly include one.\n",
    "This default constructor takes no parameters other than the instance reference (self). \n",
    "It is automatically called when an object of the class is created.\n",
    "\n",
    "Default constructor is simple constructor it has not accept any argument.\n",
    "default is used when we use to create an object with default values.\n",
    "'''\n",
    "class MyClassWithoutConstructor:\n",
    "    pass\n",
    "\n",
    "# Creating an instance of MyClassWithoutConstructor\n",
    "obj = MyClassWithoutConstructor()\n",
    "\n",
    "# The default constructor is called automatically\n"
   ]
  },
  {
   "cell_type": "code",
   "execution_count": null,
   "id": "33414e20-fb8c-486f-83ce-b61e9a3eb0c0",
   "metadata": {},
   "outputs": [],
   "source": []
  },
  {
   "cell_type": "markdown",
   "id": "27a00ca6-ca8a-4f1b-a28e-be428ae50f0a",
   "metadata": {},
   "source": [
    "### 9. Create a Python class called `Rectangle` with a constructor that initializes the `width` and `height` attributes. Provide a method to calculate the area of the rectangle."
   ]
  },
  {
   "cell_type": "code",
   "execution_count": 14,
   "id": "a9264486-28c7-4126-8bfb-b7c7c5a4fe5c",
   "metadata": {},
   "outputs": [
    {
     "name": "stdout",
     "output_type": "stream",
     "text": [
      "Area of the rectangle: 240 square units\n"
     ]
    }
   ],
   "source": [
    "class Rectangle:\n",
    "    def __init__(self, width, height):\n",
    "        self.width = width\n",
    "        self.height = height\n",
    "\n",
    "    def calculate_area(self):\n",
    "        return self.width * self.height\n",
    "\n",
    "# Creating an instance of the Rectangle class\n",
    "rectangle1 = Rectangle(width=12, height=20)\n",
    "\n",
    "# Calculating and printing the area of the rectangle\n",
    "area = rectangle1.calculate_area()\n",
    "print(f\"Area of the rectangle: {area} square units\")\n"
   ]
  },
  {
   "cell_type": "code",
   "execution_count": null,
   "id": "0c32ea39-4153-41e6-9a9d-cb298311dffe",
   "metadata": {},
   "outputs": [],
   "source": []
  },
  {
   "cell_type": "markdown",
   "id": "1472e142-5750-4236-8b0c-54c889b2659e",
   "metadata": {},
   "source": [
    "### 10. How can you have multiple constructors in a Python class? Explain with an example."
   ]
  },
  {
   "cell_type": "code",
   "execution_count": 15,
   "id": "95525e29-cc75-4b53-9764-a25c52aa5336",
   "metadata": {},
   "outputs": [
    {
     "data": {
      "text/plain": [
       "'gopalkishan@gmail.com'"
      ]
     },
     "execution_count": 15,
     "metadata": {},
     "output_type": "execute_result"
    }
   ],
   "source": [
    "'''\n",
    "We can use multiple constructor by using @classmethod.thise is a powerful techniques which is allowed to used multiple consdtuctor.\n",
    "'''\n",
    "class parent :\n",
    "    \n",
    "    def __init__(self ,name ,email):\n",
    "        self.name =name\n",
    "        self.email =email\n",
    "        \n",
    "    @classmethod    \n",
    "    def child(cls ,name,email):\n",
    "        return cls(name ,email)\n",
    "    \n",
    "    def show_details(self):\n",
    "        return self.name ,self.email\n",
    "    \n",
    "obj_child=parent.child(\"Gopal kishan\",\"gopalkishan@gmail.com\")\n",
    "obj_child.email"
   ]
  },
  {
   "cell_type": "code",
   "execution_count": 16,
   "id": "bb64fa8b-1cd9-4f8c-a443-82b906e6a641",
   "metadata": {},
   "outputs": [
    {
     "data": {
      "text/plain": [
       "'Gopal kishan'"
      ]
     },
     "execution_count": 16,
     "metadata": {},
     "output_type": "execute_result"
    }
   ],
   "source": [
    "obj_child.name"
   ]
  },
  {
   "cell_type": "code",
   "execution_count": 17,
   "id": "b8ca4238-1eaf-48aa-94f4-aa9b8a066ddc",
   "metadata": {},
   "outputs": [
    {
     "data": {
      "text/plain": [
       "('Gopal kishan', 'gopalkishan@gmail.com')"
      ]
     },
     "execution_count": 17,
     "metadata": {},
     "output_type": "execute_result"
    }
   ],
   "source": [
    "obj_child.show_details()"
   ]
  },
  {
   "cell_type": "code",
   "execution_count": null,
   "id": "9f9208ab-18d0-4046-8de8-2d4539940cd7",
   "metadata": {},
   "outputs": [],
   "source": []
  },
  {
   "cell_type": "markdown",
   "id": "380803ee-690f-4661-a95e-78858ff5a6cd",
   "metadata": {},
   "source": [
    "### 11. What is method overloading, and how is it related to constructors in Python?"
   ]
  },
  {
   "cell_type": "code",
   "execution_count": 18,
   "id": "33ada588-4247-4ddb-ade3-e9e1e884abca",
   "metadata": {},
   "outputs": [
    {
     "name": "stdout",
     "output_type": "stream",
     "text": [
      "10 0\n",
      "20 30\n"
     ]
    }
   ],
   "source": [
    "'''\n",
    "If two method having same name we call the methods it is overloaded.\n",
    "If the constructor is written two times with different signatures, we call constructor overloading. \n",
    "'''\n",
    "class MyClass:\n",
    "    def __init__(self, value1, value2=0):\n",
    "        self.value1 = value1\n",
    "        self.value2 = value2\n",
    "\n",
    "# Creating instances using different constructors\n",
    "obj1 = MyClass(value1=10)\n",
    "obj2 = MyClass(value1=20, value2=30)\n",
    "\n",
    "print(obj1.value1, obj1.value2)  # Output: 10 0\n",
    "print(obj2.value1, obj2.value2)  # Output: 20 30\n"
   ]
  },
  {
   "cell_type": "code",
   "execution_count": null,
   "id": "2c15c5c4-12e3-4527-bfd0-3b5ba991b083",
   "metadata": {},
   "outputs": [],
   "source": []
  },
  {
   "cell_type": "markdown",
   "id": "6c97709d-b039-4b12-b642-9865968e8c8e",
   "metadata": {},
   "source": [
    "### 12. Explain the use of the `super()` function in Python constructors. Provide an example."
   ]
  },
  {
   "cell_type": "code",
   "execution_count": 19,
   "id": "6fb2cf04-3c17-4d18-8c4f-a6723158d2d1",
   "metadata": {},
   "outputs": [
    {
     "name": "stdout",
     "output_type": "stream",
     "text": [
      "ParentClass constructor called.\n",
      "ChildClass constructor called.\n"
     ]
    }
   ],
   "source": [
    "'''\n",
    "suppose if we can define parameter first constructor and same parameter we have define in second constructor the we do not need \n",
    "to define it again by using super function we can use it.\n",
    "'''\n",
    "class ParentClass:\n",
    "    def __init__(self, parent_attribute):\n",
    "        self.parent_attribute = parent_attribute\n",
    "        print(\"ParentClass constructor called.\")\n",
    "\n",
    "class ChildClass(ParentClass):\n",
    "    def __init__(self, parent_attribute, child_attribute):\n",
    "        # Calling the constructor of the parent class using super()\n",
    "        super().__init__(parent_attribute)\n",
    "        \n",
    "        # Initializing attributes specific to the child class\n",
    "        self.child_attribute = child_attribute\n",
    "        print(\"ChildClass constructor called.\")\n",
    "\n",
    "# Creating an instance of the ChildClass\n",
    "child_obj = ChildClass(parent_attribute=\"Parent Value\", child_attribute=\"Child Value\")\n"
   ]
  },
  {
   "cell_type": "code",
   "execution_count": null,
   "id": "6825c265-b117-4d71-865d-32c8dcef1ae7",
   "metadata": {},
   "outputs": [],
   "source": []
  },
  {
   "cell_type": "markdown",
   "id": "7b9fd424-2ca6-4cfe-bc9e-14a30527e15a",
   "metadata": {},
   "source": [
    "### 13. Create a class called `Book` with a constructor that initializes the `title`, `author`, and `published_year` attributes. Provide a method to display book details."
   ]
  },
  {
   "cell_type": "code",
   "execution_count": 20,
   "id": "86cb3732-3886-4bb0-a5d0-f2ad59b3edb3",
   "metadata": {},
   "outputs": [
    {
     "name": "stdout",
     "output_type": "stream",
     "text": [
      "Title: Python Programming\n",
      "Author: Komal\n",
      "Published Year: 2024\n"
     ]
    }
   ],
   "source": [
    "class Book:\n",
    "    def __init__(self, title, author, published_year):\n",
    "        self.title = title\n",
    "        self.author = author\n",
    "        self.published_year = published_year\n",
    "\n",
    "    def display_details(self):\n",
    "        print(f\"Title: {self.title}\")\n",
    "        print(f\"Author: {self.author}\")\n",
    "        print(f\"Published Year: {self.published_year}\")\n",
    "\n",
    "# Creating an instance of the Book class\n",
    "book1 = Book(title=\"Python Programming\", author=\"Komal\", published_year=2024)\n",
    "\n",
    "# Displaying details of the book\n",
    "book1.display_details()\n"
   ]
  },
  {
   "cell_type": "code",
   "execution_count": null,
   "id": "6be93389-6315-479d-a7a8-5346b8ea6332",
   "metadata": {},
   "outputs": [],
   "source": []
  },
  {
   "cell_type": "markdown",
   "id": "ddf8abac-9a39-4695-a3c5-40dacfba24e8",
   "metadata": {},
   "source": [
    "### 14. Discuss the differences between constructors and regular methods in Python classes."
   ]
  },
  {
   "cell_type": "code",
   "execution_count": 21,
   "id": "08570748-be21-42ea-9161-eeef9e3564fb",
   "metadata": {},
   "outputs": [
    {
     "name": "stdout",
     "output_type": "stream",
     "text": [
      "Value\n",
      "Regular method called. Attribute value: Value\n"
     ]
    }
   ],
   "source": [
    "'''\n",
    "Constructor: The primary purpose of a constructor is to initialize the attributes or properties of an \n",
    "object when it is created. It is automatically called upon object instantiation.\n",
    "\n",
    "Regular Method: Regular methods perform specific actions or operations on the object's data. \n",
    "They can be called explicitly on an object, and they may or may not return a value.\n",
    "'''\n",
    "class MyClass:\n",
    "    def __init__(self, attribute):\n",
    "        self.attribute = attribute\n",
    "\n",
    "    def regular_method(self):\n",
    "        return f\"Regular method called. Attribute value: {self.attribute}\"\n",
    "\n",
    "# Creating an instance of MyClass\n",
    "obj = MyClass(attribute=\"Value\")\n",
    "\n",
    "# Constructor is automatically invoked during object creation\n",
    "print(obj.attribute)  # Output: Value\n",
    "\n",
    "# Calling the regular method explicitly\n",
    "result = obj.regular_method()\n",
    "print(result)  # Output: Regular method called. Attribute value: Value\n"
   ]
  },
  {
   "cell_type": "code",
   "execution_count": null,
   "id": "44b5fdd9-3931-4e84-80f9-f1a1d87d6a7d",
   "metadata": {},
   "outputs": [],
   "source": []
  },
  {
   "cell_type": "markdown",
   "id": "a570e65c-ae65-4bf7-a545-aeb25b19f15b",
   "metadata": {},
   "source": [
    "### 15. Explain the role of the `self` parameter in instance variable initialization within a constructor."
   ]
  },
  {
   "cell_type": "code",
   "execution_count": 22,
   "id": "535f65fc-e516-47af-90b2-c59db373f7e0",
   "metadata": {},
   "outputs": [
    {
     "name": "stdout",
     "output_type": "stream",
     "text": [
      "Attribute 1: Value 1\n",
      "Attribute 2: Value 2\n"
     ]
    }
   ],
   "source": [
    "'''\n",
    "The self parameter in Python plays a crucial role in instance variable initialization within a constructor. \n",
    "In the context of a class method, including the constructor (__init__), self refers to the instance \n",
    "of the class that is being created or operated on. \n",
    "It allows you to access and manipulate the attributes of the instance.'''\n",
    "\n",
    "class MyClass:\n",
    "    def __init__(self, attribute1, attribute2):\n",
    "        # Using self to initialize instance variables\n",
    "        self.attribute1 = attribute1\n",
    "        self.attribute2 = attribute2\n",
    "\n",
    "    def display_attributes(self):\n",
    "        # Accessing instance variables using self\n",
    "        print(f\"Attribute 1: {self.attribute1}\")\n",
    "        print(f\"Attribute 2: {self.attribute2}\")\n",
    "\n",
    "# Creating an instance of MyClass\n",
    "obj = MyClass(attribute1=\"Value 1\", attribute2=\"Value 2\")\n",
    "\n",
    "# Accessing and displaying instance variables using a method\n",
    "obj.display_attributes()\n"
   ]
  },
  {
   "cell_type": "code",
   "execution_count": null,
   "id": "b49e0f5c-adfe-49fe-8072-bd1ea8748178",
   "metadata": {},
   "outputs": [],
   "source": []
  },
  {
   "cell_type": "markdown",
   "id": "af3e0747-41fe-4e76-8a83-b746c24f05b1",
   "metadata": {},
   "source": [
    "### 16. How do you prevent a class from having multiple instances by using constructors in Python? Provide an example."
   ]
  },
  {
   "cell_type": "code",
   "execution_count": 23,
   "id": "fe250710-0c16-432a-b3db-88951c3be7f8",
   "metadata": {},
   "outputs": [
    {
     "name": "stdout",
     "output_type": "stream",
     "text": [
      "True\n",
      "Instance 1 Data\n",
      "Instance 1 Data\n"
     ]
    }
   ],
   "source": [
    "'''\n",
    "To prevent a class from having multiple instances by using constructors in Python, you can use the Singleton pattern. \n",
    "The Singleton pattern is a design pattern that restricts the instantiation of a class to one object. \n",
    "This is useful when exactly one object is needed to coordinate actions across the system.\n",
    "'''\n",
    "class SingletonClass:\n",
    "    # Class variable to store the single instance\n",
    "    _instance = None\n",
    "\n",
    "    def __new__(cls, *args, **kwargs):\n",
    "        # Check if an instance already exists\n",
    "        if cls._instance is None:\n",
    "            # Create a new instance if none exists\n",
    "            cls._instance = super(SingletonClass, cls).__new__(cls)\n",
    "        # Return the existing instance if one already exists\n",
    "        return cls._instance\n",
    "\n",
    "    def __init__(self, data):\n",
    "        # Initialization logic (called only if a new instance is created)\n",
    "        if not hasattr(self, '_initialized'):\n",
    "            self.data = data\n",
    "            self._initialized = True\n",
    "\n",
    "# Creating instances of the SingletonClass\n",
    "singleton_instance1 = SingletonClass(data=\"Instance 1 Data\")\n",
    "singleton_instance2 = SingletonClass(data=\"Instance 2 Data\")\n",
    "\n",
    "# Checking if both instances refer to the same object\n",
    "print(singleton_instance1 is singleton_instance2)  # Output: True\n",
    "\n",
    "# Accessing data attribute of the singleton instance\n",
    "print(singleton_instance1.data)  # Output: Instance 1 Data\n",
    "print(singleton_instance2.data)  # Output: Instance 1 Data\n"
   ]
  },
  {
   "cell_type": "code",
   "execution_count": null,
   "id": "6a124224-9ef6-4eca-ab0e-f422e613c936",
   "metadata": {},
   "outputs": [],
   "source": []
  },
  {
   "cell_type": "markdown",
   "id": "3a080e5d-2830-4547-b69f-2762c12cd20d",
   "metadata": {},
   "source": [
    "### 17. Create a Python class called `Student` with a constructor that takes a list of subjects as a parameter and initializes the `subjects` attribute."
   ]
  },
  {
   "cell_type": "code",
   "execution_count": 25,
   "id": "c3428643-8aa4-41cf-9c86-8b22f4e02a91",
   "metadata": {},
   "outputs": [
    {
     "name": "stdout",
     "output_type": "stream",
     "text": [
      "List of Subjects:\n",
      "Big data\n",
      "data analytics\n",
      "full stack data science\n",
      "web development\n"
     ]
    }
   ],
   "source": [
    "\n",
    "class Student:\n",
    "    def __init__(self, subjects):\n",
    "        self.subjects = subjects\n",
    "\n",
    "    def display_subjects(self):\n",
    "        print(\"List of Subjects:\")\n",
    "        for subject in self.subjects:\n",
    "            print(subject)\n",
    "\n",
    "# Example usage:\n",
    "# Creating an instance of the Student class with a list of subjects\n",
    "student1 = Student(subjects=[\"Big data\",\"data analytics\",\"full stack data science\", \"web development\"])\n",
    "\n",
    "# Displaying the subjects using the display_subjects method\n",
    "student1.display_subjects()"
   ]
  },
  {
   "cell_type": "code",
   "execution_count": null,
   "id": "7a30a400-89a5-4d08-8d7f-c8603e0d0a7d",
   "metadata": {},
   "outputs": [],
   "source": []
  },
  {
   "cell_type": "markdown",
   "id": "43335ae9-40ab-4abc-9b8c-b2022dd3b673",
   "metadata": {},
   "source": [
    "### 18. What is the purpose of the `__del__` method in Python classes, and how does it relate to constructors?"
   ]
  },
  {
   "cell_type": "code",
   "execution_count": 26,
   "id": "4de694ed-6a7e-4701-9a23-c9b7368080e4",
   "metadata": {},
   "outputs": [
    {
     "name": "stdout",
     "output_type": "stream",
     "text": [
      "Object 1 created.\n",
      "Object 2 created.\n",
      "Object 1 is being destroyed.\n",
      "Object 2 is being destroyed.\n"
     ]
    }
   ],
   "source": [
    "'''The __del__ method in Python is a special method, also known as a destructor. \n",
    "It is called when an object is about to be destroyed or deleted. The primary purpose of\n",
    "the __del__ method is to perform cleanup actions before the object is removed from memory.\n",
    "\n",
    "It is called after an object's garbage collection occurs, which happens after all references to the item have been destroyed. \n",
    "Student table created. Destructor called, Student table deleted.\n",
    "'''\n",
    "\n",
    "class MyClass:\n",
    "    def __init__(self, name):\n",
    "        self.name = name\n",
    "        print(f\"{self.name} created.\")\n",
    "\n",
    "    def __del__(self):\n",
    "        print(f\"{self.name} is being destroyed.\")\n",
    "\n",
    "# Creating instances of MyClass\n",
    "obj1 = MyClass(name=\"Object 1\")\n",
    "obj2 = MyClass(name=\"Object 2\")\n",
    "\n",
    "# Deleting references to objects (triggering __del__ method)\n",
    "del obj1\n",
    "del obj2\n"
   ]
  },
  {
   "cell_type": "code",
   "execution_count": null,
   "id": "acff5484-5694-44b4-a946-fece609bd341",
   "metadata": {},
   "outputs": [],
   "source": []
  },
  {
   "cell_type": "markdown",
   "id": "88b0e0d3-8fbe-4ed6-b14b-07cb199a1ec8",
   "metadata": {},
   "source": [
    "### 19. Explain the use of constructor chaining in Python. Provide a practical example."
   ]
  },
  {
   "cell_type": "code",
   "execution_count": 27,
   "id": "089cc67f-0864-4eea-b339-0b0a167bb793",
   "metadata": {},
   "outputs": [
    {
     "name": "stdout",
     "output_type": "stream",
     "text": [
      "Value 1: First\n",
      "Value 2: Second\n",
      "----\n",
      "Value 1: Only Value\n",
      "Value 2: Default\n"
     ]
    }
   ],
   "source": [
    "'''\n",
    "In Python, constructor chaining is convenient when we are dealing with inheritance. \n",
    "When an instance of a child class is initialized, the constructors of all the parent classes are first invoked \n",
    "and then, in the end, the constructor of the child class is invoked.\n",
    "'''\n",
    "class MyClass:\n",
    "    def __init__(self, value1, value2=None):\n",
    "        self.value1 = value1\n",
    "        self.value2 = value2 if value2 is not None else \"Default\"\n",
    "\n",
    "    def display_values(self):\n",
    "        print(f\"Value 1: {self.value1}\")\n",
    "        print(f\"Value 2: {self.value2}\")\n",
    "\n",
    "# Creating instances using different constructors\n",
    "obj1 = MyClass(value1=\"First\", value2=\"Second\")\n",
    "obj2 = MyClass(value1=\"Only Value\")\n",
    "\n",
    "# Displaying values of the objects\n",
    "obj1.display_values()\n",
    "print(\"----\")\n",
    "obj2.display_values()\n"
   ]
  },
  {
   "cell_type": "code",
   "execution_count": null,
   "id": "2c2eafa3-efe6-4f4a-b1ea-ace5661696f0",
   "metadata": {},
   "outputs": [],
   "source": []
  },
  {
   "cell_type": "markdown",
   "id": "1158eb2e-3323-45d2-b828-178a55527df1",
   "metadata": {},
   "source": [
    "### 20. Create a Python class called `Car` with a default constructor that initializes the `make` and `model` attributes. Provide a method to display car information."
   ]
  },
  {
   "cell_type": "code",
   "execution_count": 28,
   "id": "e9704c06-c7bf-49d9-bb1c-67d72dacff41",
   "metadata": {},
   "outputs": [
    {
     "name": "stdout",
     "output_type": "stream",
     "text": [
      "Car Make: BMW\n",
      "Car Model: 2020\n"
     ]
    }
   ],
   "source": [
    "class Car:\n",
    "    def __init__(self, make=\"BMW\", model=\"2020\"):\n",
    "        self.make = make\n",
    "        self.model = model\n",
    "\n",
    "    def display_info(self):\n",
    "        print(f\"Car Make: {self.make}\")\n",
    "        print(f\"Car Model: {self.model}\")\n",
    "\n",
    "# Creating an instance of the Car class using the default constructor\n",
    "car1 = Car()\n",
    "\n",
    "# Displaying car information using the display_info method\n",
    "car1.display_info()"
   ]
  },
  {
   "cell_type": "code",
   "execution_count": null,
   "id": "80aef208-09a4-4052-9e6a-be0b969ad652",
   "metadata": {},
   "outputs": [],
   "source": []
  },
  {
   "cell_type": "code",
   "execution_count": null,
   "id": "8d5cab37-6bea-4497-aa34-c7e4ca755200",
   "metadata": {},
   "outputs": [],
   "source": []
  },
  {
   "cell_type": "markdown",
   "id": "1f5cedf0-a6a7-4627-8ce2-776ae617a4a9",
   "metadata": {},
   "source": [
    "# Inheritance:\n",
    "---"
   ]
  },
  {
   "cell_type": "markdown",
   "id": "66092cde-2acc-4c67-bd22-09c1d9339a82",
   "metadata": {},
   "source": [
    "### 1. What is inheritance in Python? Explain its significance in object-oriented programming."
   ]
  },
  {
   "cell_type": "code",
   "execution_count": 29,
   "id": "d87e1213-e2bc-4184-9d51-060ee527a738",
   "metadata": {},
   "outputs": [
    {
     "name": "stdout",
     "output_type": "stream",
     "text": [
      "Gary says Woof!\n",
      "Julie says Meow!\n"
     ]
    }
   ],
   "source": [
    "'''Inheritance is a fundamental concept in object-oriented programming (OOP) \n",
    "that allows a class (known as the subclass or derived class) to inherit properties \n",
    "and behaviors from another class (known as the superclass or base class). \n",
    "The subclass can reuse and extend the functionality of the superclass, \n",
    "promoting code reuse and creating a hierarchical relationship between classes.\n",
    "'''\n",
    "class Animal:\n",
    "    def __init__(self, name):\n",
    "        self.name = name\n",
    "\n",
    "    def speak(self):\n",
    "        pass  # Placeholder method\n",
    "\n",
    "class Dog(Animal):\n",
    "    def speak(self):\n",
    "        return f\"{self.name} says Woof!\"\n",
    "\n",
    "class Cat(Animal):\n",
    "    def speak(self):\n",
    "        return f\"{self.name} says Meow!\"\n",
    "\n",
    "# Creating instances of the subclasses\n",
    "dog = Dog(name=\"Gary\")\n",
    "cat = Cat(name=\"Julie\")\n",
    "\n",
    "# Using the inherited method\n",
    "print(dog.speak())  # Output: Gary says Woof!\n",
    "print(cat.speak())  # Output: Julie says Meow!\n"
   ]
  },
  {
   "cell_type": "code",
   "execution_count": null,
   "id": "4b756221-1005-47d8-96a2-c097cba62786",
   "metadata": {},
   "outputs": [],
   "source": []
  },
  {
   "cell_type": "markdown",
   "id": "bcec82f9-ad08-43b7-8539-6f683a9e03d5",
   "metadata": {},
   "source": [
    "### 2. Differentiate between single inheritance and multiple inheritance in Python. Provide examples for each."
   ]
  },
  {
   "cell_type": "code",
   "execution_count": 30,
   "id": "00feb547-a651-4d1a-aac8-af789bca2835",
   "metadata": {},
   "outputs": [
    {
     "name": "stdout",
     "output_type": "stream",
     "text": [
      "Animal speaks\n",
      "Mammal produces milk\n",
      "Dog barks\n"
     ]
    }
   ],
   "source": [
    "'''\n",
    "In single inheritance, a class inherits from only one superclass. \n",
    "This is a straightforward and common form of inheritance. (refer #1 code )\n",
    "\n",
    "In multiple inheritance, a class can inherit from more than one superclass. \n",
    "This allows the subclass to inherit attributes and methods from multiple classes. \n",
    "'''\n",
    "class Animal:\n",
    "    def speak(self):\n",
    "        return \"Animal speaks\"\n",
    "\n",
    "class Mammal:\n",
    "    def milk(self):\n",
    "        return \"Mammal produces milk\"\n",
    "\n",
    "class Dog(Animal, Mammal):\n",
    "    def bark(self):\n",
    "        return \"Dog barks\"\n",
    "\n",
    "# Creating an instance of the Dog class\n",
    "dog_instance = Dog()\n",
    "\n",
    "# Accessing methods from both superclasses and the subclass\n",
    "print(dog_instance.speak())  # Output: Animal speaks\n",
    "print(dog_instance.milk())   # Output: Mammal produces milk\n",
    "print(dog_instance.bark())   # Output: Dog barks\n"
   ]
  },
  {
   "cell_type": "code",
   "execution_count": null,
   "id": "e6bdb0fa-3cf1-48d4-82f4-f9656bc1d555",
   "metadata": {},
   "outputs": [],
   "source": []
  },
  {
   "cell_type": "markdown",
   "id": "6845221d-2f88-4d1f-a41f-2417c2a4af37",
   "metadata": {},
   "source": [
    "### 3. Create a Python class called `Vehicle` with attributes `color` and `speed`. Then, create a child class called `Car` that inherits from `Vehicle` and adds a `brand` attribute. Provide an example of creating a `Car` object."
   ]
  },
  {
   "cell_type": "code",
   "execution_count": 31,
   "id": "12e7ab6f-63ac-4b90-a184-1dab52fe2f75",
   "metadata": {},
   "outputs": [
    {
     "name": "stdout",
     "output_type": "stream",
     "text": [
      "Color: BLACK\n",
      "Speed: 88\n",
      "Brand: AUDI\n"
     ]
    }
   ],
   "source": [
    "class Vehicle:\n",
    "    def __init__(self, color, speed):\n",
    "        self.color = color\n",
    "        self.speed = speed\n",
    "\n",
    "class Car(Vehicle):\n",
    "    def __init__(self, color, speed, brand):\n",
    "        # Call the constructor of the parent class (Vehicle)\n",
    "        super().__init__(color, speed)\n",
    "        # Add the brand attribute specific to the Car class\n",
    "        self.brand = brand\n",
    "\n",
    "# Example of creating a Car object\n",
    "car_instance = Car(color=\"BLACK\", speed=88, brand=\"AUDI\")\n",
    "\n",
    "# Accessing attributes of the Car object\n",
    "print(f\"Color: {car_instance.color}\")\n",
    "print(f\"Speed: {car_instance.speed}\")\n",
    "print(f\"Brand: {car_instance.brand}\")\n"
   ]
  },
  {
   "cell_type": "code",
   "execution_count": null,
   "id": "01632cee-66ad-43f6-9a8e-170e4f0df9c4",
   "metadata": {},
   "outputs": [],
   "source": []
  },
  {
   "cell_type": "markdown",
   "id": "149de4a4-4284-49d0-921f-031b6ff423ab",
   "metadata": {},
   "source": [
    "### 4. Explain the concept of method overriding in inheritance. Provide a practical example."
   ]
  },
  {
   "cell_type": "code",
   "execution_count": 32,
   "id": "0fae5c82-922d-41bd-924e-f2193a8bcf79",
   "metadata": {},
   "outputs": [
    {
     "name": "stdout",
     "output_type": "stream",
     "text": [
      "Dog barks\n",
      "Cat meows\n"
     ]
    }
   ],
   "source": [
    "'''Method overriding in inheritance refers to the ability of a subclass to provide a \n",
    "specific implementation for a method that is already defined in its superclass. \n",
    "When a method is overridden, the version of the method in the subclass takes\n",
    "precedence over the version in the superclass. \n",
    "This allows the subclass to customize or extend the behavior of the inherited method.\n",
    "\n",
    "Method overriding in Python allows you to use functions and methods with the same name or signature. \n",
    "This method cannot be done in the same class. And overriding can only be done when a child class is derived through inheritance. \n",
    "Runtime polymorphism is certainly exemplified through method overloading.\n",
    "'''\n",
    "\n",
    "class Animal:\n",
    "    def speak(self):\n",
    "        return \"Animal speaks\"\n",
    "\n",
    "class Dog(Animal):\n",
    "    def speak(self):\n",
    "        # Override the speak method in the superclass\n",
    "        return \"Dog barks\"\n",
    "\n",
    "class Cat(Animal):\n",
    "    def speak(self):\n",
    "        # Override the speak method in the superclass\n",
    "        return \"Cat meows\"\n",
    "\n",
    "# Creating instances of the subclasses\n",
    "dog_instance = Dog()\n",
    "cat_instance = Cat()\n",
    "\n",
    "# Accessing the overridden speak method\n",
    "print(dog_instance.speak())  # Output: Dog barks\n",
    "print(cat_instance.speak())  # Output: Cat meows\n"
   ]
  },
  {
   "cell_type": "code",
   "execution_count": null,
   "id": "7c641a9c-5c7a-49a4-aacc-eb97cff76130",
   "metadata": {},
   "outputs": [],
   "source": []
  },
  {
   "cell_type": "markdown",
   "id": "325a810a-1b20-47e0-994c-8aa6e9d94fd9",
   "metadata": {},
   "source": [
    "### 5. How can you access the methods and attributes of a parent class from a child class in Python? Give an example."
   ]
  },
  {
   "cell_type": "code",
   "execution_count": 1,
   "id": "7929bc60-5543-4916-ae74-f2f11de59dda",
   "metadata": {},
   "outputs": [
    {
     "name": "stdout",
     "output_type": "stream",
     "text": [
      "Child class : Age : 21, Parent class : Swati\n",
      "Child name : Swati\n",
      "Child additional info : Age : 21\n"
     ]
    }
   ],
   "source": [
    "'''\n",
    "In Python, we can access the methods and attributes of a parent class from a \n",
    "child class using the super() function. The super() function returns a temporary object of the superclass,\n",
    "which allows you to call its methods and access its attributes\n",
    "\n",
    "first, we can create object of child class which will inherite to parent class. after creation of object \n",
    "all method from child and parent class it will be accessible\n",
    "\n",
    "'''\n",
    "class Parent:\n",
    "    def __init__(self, name):\n",
    "        self.name = name\n",
    "\n",
    "    def display_info(self):\n",
    "        return f\"Parent class : {self.name}\"\n",
    "\n",
    "class Child(Parent):\n",
    "    def __init__(self, name, additional_info):\n",
    "        # Call the constructor of the parent class using super()\n",
    "        super().__init__(name)\n",
    "        # Add an additional attribute specific to the Child class\n",
    "        self.additional_info = additional_info\n",
    "\n",
    "    def display_info(self):\n",
    "        # Call the overridden method of the parent class using super()\n",
    "        parent_info = super().display_info()\n",
    "        return f\"Child class : {self.additional_info}, {parent_info}\"\n",
    "\n",
    "# Example of creating an instance of the Child class\n",
    "child_instance = Child(name =\"Swati\", additional_info =\"Age : 21\")\n",
    "\n",
    "# Accessing attributes and methods of the Child class\n",
    "print(child_instance.display_info())\n",
    "print(f\"Child name : {child_instance.name}\")\n",
    "print(f\"Child additional info : {child_instance.additional_info}\")\n"
   ]
  },
  {
   "cell_type": "code",
   "execution_count": null,
   "id": "a90e727d-2ee0-49dc-9cc0-7c06ccacd643",
   "metadata": {},
   "outputs": [],
   "source": []
  },
  {
   "cell_type": "markdown",
   "id": "2ebc453d-231c-4de9-bcdf-23cde1ff9f5c",
   "metadata": {},
   "source": [
    "### 6. Discuss the use of the `super()` function in Python inheritance. When and why is it used? Provide an example."
   ]
  },
  {
   "cell_type": "code",
   "execution_count": 2,
   "id": "9f871d62-8078-47f9-af15-ddbaef42e5a0",
   "metadata": {},
   "outputs": [
    {
     "name": "stdout",
     "output_type": "stream",
     "text": [
      "I am a Dog and I have the sound : Woof\n",
      "Species : Dog\n",
      "Sound : Woof\n"
     ]
    }
   ],
   "source": [
    "'''\n",
    "The super() function in Python is used in the context of inheritance to refer to the parent class or superclass. \n",
    "It is primarily used to call methods and access attributes of the superclass from the subclass, , enabling you \n",
    "to extend and customize the functionality inherited from the parent class.\n",
    "\n",
    "'''\n",
    "\n",
    "class Animal:\n",
    "    def __init__(self, species):\n",
    "        self.species = species\n",
    "\n",
    "    def display_info(self):\n",
    "        return f\"I am a {self.species}\"\n",
    "\n",
    "class Mammal(Animal):\n",
    "    def __init__(self, species, sound):\n",
    "        # Call the constructor of the superclass using super()\n",
    "        super().__init__(species)\n",
    "        self.sound = sound\n",
    "\n",
    "    def display_info(self):\n",
    "        # Call the overridden method of the superclass using super()\n",
    "        return f\"{super().display_info()} and I have the sound : {self.sound}\"\n",
    "\n",
    "# Example of creating an instance of the subclass\n",
    "mammal_instance = Mammal(species =\"Dog\", sound =\"Woof\")\n",
    "\n",
    "# Accessing methods and attributes using the subclass instance\n",
    "print(mammal_instance.display_info())\n",
    "print(f\"Species : {mammal_instance.species}\")\n",
    "print(f\"Sound : {mammal_instance.sound}\")\n"
   ]
  },
  {
   "cell_type": "code",
   "execution_count": null,
   "id": "d68a2ceb-a49c-4d4f-84a4-0f6ed4077eea",
   "metadata": {},
   "outputs": [],
   "source": []
  },
  {
   "cell_type": "markdown",
   "id": "ad9b93e6-9ae1-4b9f-994e-2de9047adae3",
   "metadata": {},
   "source": [
    "### 7. Create a Python class called `Animal` with a method `speak()`. Then, create child classes `Dog` and `Cat` that inherit from `Animal` and override the `speak()` method. Provide an example of using these classes."
   ]
  },
  {
   "cell_type": "code",
   "execution_count": 3,
   "id": "98cf6fc9-0c72-4159-81a7-2de7747d478e",
   "metadata": {},
   "outputs": [
    {
     "name": "stdout",
     "output_type": "stream",
     "text": [
      "Dog barks\n",
      "Cat meows\n"
     ]
    }
   ],
   "source": [
    "\n",
    "class Animal:\n",
    "    def speak(self):\n",
    "        return \"Animal speaks\"\n",
    "\n",
    "class Dog(Animal):\n",
    "    def speak(self):\n",
    "        return \"Dog barks\"\n",
    "\n",
    "class Cat(Animal):\n",
    "    def speak(self):\n",
    "        return \"Cat meows\"\n",
    "\n",
    "# Example of using the classes\n",
    "dog_instance = Dog()\n",
    "cat_instance = Cat()\n",
    "\n",
    "# Accessing the overridden speak method\n",
    "print(dog_instance.speak())  # Output: Dog barks\n",
    "print(cat_instance.speak())  # Output: Cat meows\n"
   ]
  },
  {
   "cell_type": "code",
   "execution_count": null,
   "id": "dccca7a0-56b1-49b5-8229-11479ff681d4",
   "metadata": {},
   "outputs": [],
   "source": []
  },
  {
   "cell_type": "markdown",
   "id": "b1a1cc85-c80c-4f13-bb41-b5ba8273cdcb",
   "metadata": {},
   "source": [
    "### 8. Explain the role of the `isinstance()` function in Python and how it relates to inheritance."
   ]
  },
  {
   "cell_type": "code",
   "execution_count": 4,
   "id": "5a634d07-eea8-481f-a6f9-c9aeb0b62059",
   "metadata": {},
   "outputs": [
    {
     "name": "stdout",
     "output_type": "stream",
     "text": [
      "True\n",
      "True\n",
      "True\n",
      "True\n",
      "True\n",
      "Vehicle is moving\n",
      "Car is moving\n",
      "Bicycle is moving\n"
     ]
    }
   ],
   "source": [
    "'''\n",
    "The isinstance() function in Python is a built-in function used for type checking. It verifies \n",
    "if an object is of a specified type, returning True if it is, and False otherwise. In this case, \n",
    "isinstance() returns True because x is an integer. Python has two built-in functions that work with \n",
    "inheritance: Use isinstance() to check an instance's type: isinstance(obj, int) will be True only\n",
    "if obj.__class__ is int or some class derived from int.\n",
    "\n",
    "The isinstance() function in Python is used to check if an object belongs to a specified class or \n",
    "is an instance of a specified class or a tuple of classes. It returns True if the object is an \n",
    "instance of the specified class or any class in the specified tuple, and False otherwise.\n",
    "'''\n",
    "\n",
    "class Vehicle:\n",
    "    def move(self):\n",
    "        return \"Vehicle is moving\"\n",
    "\n",
    "class Car(Vehicle):\n",
    "    def move(self):\n",
    "        return \"Car is moving\"\n",
    "\n",
    "class Bicycle(Vehicle):\n",
    "    def move(self):\n",
    "        return \"Bicycle is moving\"\n",
    "\n",
    "vehicle = Vehicle()\n",
    "car = Car()\n",
    "bicycle = Bicycle()\n",
    "\n",
    "print(isinstance(vehicle, Vehicle))\n",
    "print(isinstance(car, Car))\n",
    "print(isinstance(bicycle, Bicycle))\n",
    "\n",
    "print(isinstance(car, Vehicle))\n",
    "print(isinstance(bicycle, Vehicle))\n",
    "\n",
    "vehicles = [vehicle, car, bicycle]\n",
    "for v in vehicles:\n",
    "    print(v.move())\n"
   ]
  },
  {
   "cell_type": "code",
   "execution_count": null,
   "id": "f4a0a33c-4299-4c37-b29b-c480e211ddc7",
   "metadata": {},
   "outputs": [],
   "source": []
  },
  {
   "cell_type": "markdown",
   "id": "29c7a718-d227-4dbc-a73b-adbed0da8c8b",
   "metadata": {},
   "source": [
    "### 9. What is the purpose of the `issubclass()` function in Python? Provide an example."
   ]
  },
  {
   "cell_type": "code",
   "execution_count": 5,
   "id": "83bccfcc-f8da-4d5a-b607-4486b97bca2f",
   "metadata": {},
   "outputs": [
    {
     "name": "stdout",
     "output_type": "stream",
     "text": [
      "True\n",
      "True\n",
      "True\n",
      "False\n"
     ]
    }
   ],
   "source": [
    "'''\n",
    "In python, issubclass() function is a built-in function that is used to check whether a class is a \n",
    "subclass of another class in the program or not. It returns True if the class is a subclass, and False otherwise. \n",
    "This function is particularly useful when you want to check the inheritance relationship between classes.\n",
    "'''\n",
    "\n",
    "class Animal:\n",
    "    pass\n",
    "\n",
    "class Mammal(Animal):\n",
    "    pass\n",
    "\n",
    "class Dog(Mammal):\n",
    "    pass\n",
    "\n",
    "# Checking if Dog is a subclass of Mammal\n",
    "print(issubclass(Dog, Mammal))  # Output: True\n",
    "\n",
    "# Checking if Mammal is a subclass of Animal\n",
    "print(issubclass(Mammal, Animal))  # Output: True\n",
    "\n",
    "# Checking if Dog is a subclass of Animal\n",
    "print(issubclass(Dog, Animal))  # Output: True\n",
    "\n",
    "# Checking if Animal is a subclass of Dog (should be False)\n",
    "print(issubclass(Animal, Dog))  # Output: False\n"
   ]
  },
  {
   "cell_type": "code",
   "execution_count": null,
   "id": "be6f37ea-0230-4151-a56e-89ae47dbea95",
   "metadata": {},
   "outputs": [],
   "source": []
  },
  {
   "cell_type": "markdown",
   "id": "c9b2a8d7-7b2f-4225-96a9-af36b60e9d29",
   "metadata": {},
   "source": [
    "### 10. Discuss the concept of constructor inheritance in Python. How are constructors inherited in child classes?"
   ]
  },
  {
   "cell_type": "code",
   "execution_count": 7,
   "id": "2667e755-d6f4-4737-b068-65ef85741ce8",
   "metadata": {},
   "outputs": [
    {
     "name": "stdout",
     "output_type": "stream",
     "text": [
      "Parent Constructor\n",
      "Child Constructor\n",
      "Ash\n",
      "25\n"
     ]
    }
   ],
   "source": [
    "'''\n",
    "In Python, constructor inheritance refers to the way in which child classes\n",
    "inherit or override the constructors of their parent classes. When a child \n",
    "class is created, it can either use the constructor of the parent class (superclass) as is, \n",
    "or it can override the constructor with its own implementation. The super() \n",
    "function is commonly used to invoke the \n",
    "constructor of the parent class within the constructor of the child class.\n",
    "'''\n",
    "\n",
    "class Parent:\n",
    "    def __init__(self, name):\n",
    "        self.name = name\n",
    "        print(\"Parent Constructor\")\n",
    "\n",
    "class Child(Parent):\n",
    "    def __init__(self, name, age):\n",
    "         # Call the constructor of the parent class using super()\n",
    "        super().__init__(name)  \n",
    "        self.age = age\n",
    "        print(\"Child Constructor\")\n",
    "\n",
    "# Creating an instance of the child class\n",
    "child_instance = Child(\"Ash\", 25)\n",
    "\n",
    "# Accessing attributes initialized by both parent and child class constructors\n",
    "print(child_instance.name)  # Output: Ash\n",
    "print(child_instance.age)   # Output: 25\n"
   ]
  },
  {
   "cell_type": "code",
   "execution_count": null,
   "id": "b8cd74f6-ae48-4b30-bdf8-e9479df218cf",
   "metadata": {},
   "outputs": [],
   "source": []
  },
  {
   "cell_type": "markdown",
   "id": "22fa080d-386e-405a-8a39-ae36a02ce03a",
   "metadata": {},
   "source": [
    "### 11. Create a Python class called `Shape` with a method `area()` that calculates the area of a shape. Then, create child classes `Circle` and `Rectangle` that inherit from `Shape` and implement the `area()` method accordingly. Provide an example."
   ]
  },
  {
   "cell_type": "code",
   "execution_count": 8,
   "id": "76e5ab77-df5f-417f-beef-b96aefbbd94c",
   "metadata": {},
   "outputs": [
    {
     "name": "stdout",
     "output_type": "stream",
     "text": [
      "Area of the circle : 153.94\n",
      "Area of the rectangle : 48\n"
     ]
    }
   ],
   "source": [
    "import math\n",
    "\n",
    "class Shape:\n",
    "    def area(self):\n",
    "        # This method is intended to be overridden by subclasses\n",
    "        pass\n",
    "\n",
    "class Circle(Shape):\n",
    "    def __init__(self, radius):\n",
    "        self.radius = radius\n",
    "\n",
    "    def area(self):\n",
    "        # Calculate the area of a circle using the formula: π * r^2\n",
    "        return math.pi * self.radius ** 2\n",
    "\n",
    "class Rectangle(Shape):\n",
    "    def __init__(self, length, width):\n",
    "        self.length = length\n",
    "        self.width = width\n",
    "\n",
    "    def area(self):\n",
    "        # Calculate the area of a rectangle using the formula: length * width\n",
    "        return self.length * self.width\n",
    "\n",
    "# Example of using the classes\n",
    "circle_instance = Circle(radius=7)\n",
    "rectangle_instance = Rectangle(length=6, width=8)\n",
    "\n",
    "# Calculating and displaying the area of the shapes\n",
    "print(f\"Area of the circle : {circle_instance.area():.2f}\")\n",
    "print(f\"Area of the rectangle : {rectangle_instance.area()}\")\n"
   ]
  },
  {
   "cell_type": "code",
   "execution_count": null,
   "id": "5f054c77-1ba2-4971-a2db-1f267db63202",
   "metadata": {},
   "outputs": [],
   "source": []
  },
  {
   "cell_type": "markdown",
   "id": "fbc0b98e-6e3e-4b20-94f4-78698e3a877f",
   "metadata": {},
   "source": [
    "### 12. Explain the use of abstract base classes (ABCs) in Python and how they relate to inheritance. Provide an example using the `abc` module."
   ]
  },
  {
   "cell_type": "code",
   "execution_count": 10,
   "id": "d9b73345-519d-40cf-8922-2f99c258ea37",
   "metadata": {},
   "outputs": [
    {
     "name": "stdout",
     "output_type": "stream",
     "text": [
      "Area of the circle : 78.50\n",
      "Perimeter of the circle : 31.40\n",
      "\n",
      "Area of the rectangle : 24\n",
      "Perimeter of the rectangle : 20\n"
     ]
    }
   ],
   "source": [
    "'''\n",
    "Abstract Base Classes (ABCs) in Python are classes that cannot be instantiated on their own but\n",
    "serve as a blueprint for other classes. They often define a set of methods that must be \n",
    "implemented by the concrete (derived) classes. ABCs help enforce a \n",
    "certain structure or interface in the subclasses, making the code more reliable and maintainable.\n",
    "\n",
    "In Python, we can create an abstract class using the abc module. This module provides the infrastructure \n",
    "for defining abstract base classes (ABCs). \n",
    "In this example, we import the ABC and abstractmethod from the abc module. theb we define an abstract class \n",
    "AbstractClassExample using the ABC as the base class.\n",
    "'''\n",
    "\n",
    "\n",
    "from abc import ABC, abstractmethod\n",
    "\n",
    "# Define an abstract base class (ABC)\n",
    "class Shape(ABC):\n",
    "    @abstractmethod\n",
    "    def area(self):\n",
    "        # This method must be implemented by concrete subclasses\n",
    "        pass\n",
    "\n",
    "    @abstractmethod\n",
    "    def perimeter(self):\n",
    "        # This method must be implemented by concrete subclasses\n",
    "        pass\n",
    "\n",
    "# Concrete subclass Circle that inherits from Shape\n",
    "class Circle(Shape):\n",
    "    def __init__(self, radius):\n",
    "        self.radius = radius\n",
    "\n",
    "    def area(self):\n",
    "        return 3.14 * self.radius ** 2\n",
    "\n",
    "    def perimeter(self):\n",
    "        return 2 * 3.14 * self.radius\n",
    "\n",
    "# Concrete subclass Rectangle that inherits from Shape\n",
    "class Rectangle(Shape):\n",
    "    def __init__(self, length, width):\n",
    "        self.length = length\n",
    "        self.width = width\n",
    "\n",
    "    def area(self):\n",
    "        return self.length * self.width\n",
    "\n",
    "    def perimeter(self):\n",
    "        return 2 * (self.length + self.width)\n",
    "\n",
    "# Creating instances of the concrete subclasses\n",
    "circle_instance = Circle(radius=5)\n",
    "rectangle_instance = Rectangle(length=4, width=6)\n",
    "\n",
    "# Using the methods provided by the abstract base class\n",
    "print(f\"Area of the circle : {circle_instance.area():.2f}\")\n",
    "print(f\"Perimeter of the circle : {circle_instance.perimeter() :.2f}\")\n",
    "\n",
    "print(f\"\\nArea of the rectangle : {rectangle_instance.area()}\")\n",
    "print(f\"Perimeter of the rectangle : {rectangle_instance.perimeter()}\")\n"
   ]
  },
  {
   "cell_type": "code",
   "execution_count": null,
   "id": "a6f85a36-b5b8-4f5c-ac17-656f69436fcb",
   "metadata": {},
   "outputs": [],
   "source": []
  },
  {
   "cell_type": "markdown",
   "id": "d2cbad3e-dddf-4a8e-9eba-1d372bef26fe",
   "metadata": {},
   "source": [
    "### 13. How can you prevent a child class from modifying certain attributes or methods inherited from a parent class in Python?"
   ]
  },
  {
   "cell_type": "code",
   "execution_count": null,
   "id": "60606910-78be-4bf8-805e-bd8470237588",
   "metadata": {},
   "outputs": [],
   "source": [
    "'''\n",
    "Use double underscores ( __ ) before the attribute or method name. This will make the attribute or method private,\n",
    "and it will not be accessible to the child class. \n",
    "\n",
    "Preventing a child class from modifying certain attributes or methods inherited from a parent class in Python can be achieved \n",
    "using various techniques, depending on the specific requirements and the desired level of restriction. Here are a few approaches:\n",
    "\n",
    "1. Read-only attributes: Decorate the attributes in the parent class with the @property decorator and implement the getter method \n",
    "   to return the attribute value but not allow modification. This method ensures that child classes can access the attribute but \n",
    "   cannot directly assign a new value.\n",
    "\n",
    "2. Private methods: Implement the methods in the parent class as private methods using the __ prefix before the method name. This \n",
    "   prevents direct access to the method from child classes, forcing them to implement their own versions or override the method \n",
    "   behavior through super() calls.\n",
    "\n",
    "3. Abstract methods: Define the methods in the parent class as abstract methods using the abc module and the @abstractmethod \n",
    "   decorator. This requires child classes to provide their own implementation of the abstract methods, preventing them from \n",
    "   inheriting the default implementation from the parent class.\n",
    "\n",
    "4. Protected attributes and methods: Use the _ prefix before the attribute or method name in the parent class to make them protected.\n",
    "   This allows child classes within the same inheritance hierarchy to access and modify the protected attributes and methods, but \n",
    "   prevents external classes from directly modifying them.\n",
    "\n",
    "5. Inheritance with property delegation: Implement properties in the child class that delegate the attribute access to the parent class. \n",
    "   This allows child classes to provide their own behavior for setting or getting the attribute value while still relying on the\n",
    "   parent class for the underlying data storage.\n",
    "\n",
    "6. Inheritance with method overriding: Override the methods in the child class that need to be modified. This allows child classes \n",
    "   to customize the behavior of inherited methods without affecting the parent class implementation.\n",
    "'''\n"
   ]
  },
  {
   "cell_type": "code",
   "execution_count": 11,
   "id": "648c8b19-3fc5-432c-a8d0-f618a31e50ac",
   "metadata": {},
   "outputs": [
    {
     "name": "stdout",
     "output_type": "stream",
     "text": [
      "I am protected\n",
      "This is a protected method\n",
      "I am private\n",
      "This is a private method\n"
     ]
    }
   ],
   "source": [
    "class Parent:\n",
    "    def __init__(self):\n",
    "        self._protected_attribute = \"I am protected\"\n",
    "\n",
    "    def _protected_method(self):\n",
    "        print(\"This is a protected method\")\n",
    "\n",
    "class Child(Parent):\n",
    "    def access_protected(self):\n",
    "        print(self._protected_attribute)\n",
    "        self._protected_method()\n",
    "\n",
    "child_instance = Child()\n",
    "\n",
    "# Accessing protected attribute and method within the child class\n",
    "child_instance.access_protected()\n",
    "\n",
    "class Parent:\n",
    "    def __init__(self):\n",
    "        self.__private_attribute = \"I am private\"\n",
    "\n",
    "    def __private_method(self):\n",
    "        print(\"This is a private method\")\n",
    "\n",
    "class Child(Parent):\n",
    "    def access_private(self):\n",
    "        # Accessing private attribute and method using name mangling\n",
    "        print(self._Parent__private_attribute)\n",
    "        self._Parent__private_method()\n",
    "\n",
    "child_instance = Child()\n",
    "\n",
    "# Accessing private attribute and method within the child class\n",
    "child_instance.access_private()\n"
   ]
  },
  {
   "cell_type": "code",
   "execution_count": null,
   "id": "e66a8256-1190-4e46-bc71-ce7646a5de58",
   "metadata": {},
   "outputs": [],
   "source": []
  },
  {
   "cell_type": "markdown",
   "id": "a576d808-4e77-4272-8b40-ef0afcbc0b0f",
   "metadata": {},
   "source": [
    "### 14. Create a Python class called `Employee` with attributes `name` and `salary`. Then, create a child class `Manager` that inherits from `Employee` and adds an attribute `department`. Provide an example."
   ]
  },
  {
   "cell_type": "code",
   "execution_count": 13,
   "id": "a5bf3a24-b233-47f2-a559-24a699af1d15",
   "metadata": {},
   "outputs": [
    {
     "name": "stdout",
     "output_type": "stream",
     "text": [
      "Employee name: Komal \n",
      "Employee salary: 500000\n",
      "\n",
      "Manager name: Pradeep kumar\n",
      "Manager salary: 600000\n",
      "Manager department: Human Resources\n"
     ]
    }
   ],
   "source": [
    "\n",
    "class Employee:\n",
    "    def __init__(self, name, salary):\n",
    "        self.name = name\n",
    "        self.salary = salary\n",
    "\n",
    "    def get_name(self):\n",
    "        return self.name\n",
    "\n",
    "    def get_salary(self):\n",
    "        return self.salary\n",
    "\n",
    "class Manager(Employee):\n",
    "    def __init__(self, name, salary, department):\n",
    "        # Call the constructor of the parent class using super()\n",
    "        super().__init__(name, salary)\n",
    "        self.department = department\n",
    "\n",
    "    def get_department(self):\n",
    "        # Override the get_deparment method to include the department\n",
    "        return self.department\n",
    "\n",
    "# Example usage\n",
    "employee = Employee(\"Komal \", 500000)\n",
    "manager = Manager(\"Pradeep kumar\", 600000, \"Human Resources\")\n",
    "\n",
    "# Displaying information using the display_info method\n",
    "print(\"Employee name:\", employee.get_name())\n",
    "print(\"Employee salary:\", employee.get_salary())\n",
    "print(\"\\nManager name:\", manager.get_name())\n",
    "print(\"Manager salary:\", manager.get_salary())\n",
    "print(\"Manager department:\", manager.get_department())\n",
    "\n"
   ]
  },
  {
   "cell_type": "code",
   "execution_count": null,
   "id": "8abebf34-7f4a-4899-8dd5-7b6bd4cb5246",
   "metadata": {},
   "outputs": [],
   "source": []
  },
  {
   "cell_type": "markdown",
   "id": "ba7ea5be-1eb2-42ce-a658-b6511306d443",
   "metadata": {},
   "source": [
    "### 15. Discuss the concept of method overloading in Python inheritance. How does it differ from method overriding?"
   ]
  },
  {
   "cell_type": "code",
   "execution_count": null,
   "id": "5146dcc2-399b-4e09-8192-dae6f9a64294",
   "metadata": {},
   "outputs": [],
   "source": [
    "'''\n",
    "Method overloading and method overriding are two fundamental concepts in object-oriented programming that allow for the creation\n",
    "of flexible and reusable code. While they share some similarities, they differ in their purpose and implementation.\n",
    "\n",
    "Method Overloading :\n",
    "\n",
    "Method overloading refers to the ability to define multiple methods with the same name but different parameter lists within \n",
    "the same class. This allows for the same method name to be used for different operations, depending on the type or number \n",
    "of arguments passed to it.\n",
    "\n",
    "In Python, method overloading is not directly supported. However, it can be achieved using various techniques, such as using \n",
    "the *args and **kwargs syntax for variable-length argument lists or employing decorators to dynamically dispatch method calls \n",
    "based on argument types.\n",
    "\n",
    "Method Overriding :\n",
    "\n",
    "Method overriding refers to the ability of a subclass to redefine a method that is already defined in a parent class. This \n",
    "allows for specialization of behavior for specific subclasses while maintaining the overall structure of the class hierarchy.\n",
    "\n",
    "In Python, method overriding is a common and supported feature. When a method with the same name and signature exists in both\n",
    "a subclass and its parent class, the method in the subclass takes precedence when called on an object of that subclass.\n",
    "\n",
    "\n",
    "Key Differences :\n",
    "\n",
    "The key differences between method overloading and method overriding are:\n",
    "\n",
    "1. Purpose: Method overloading focuses on providing multiple operations under the same method name, while method overriding \n",
    "   focuses on customizing behavior for specific subclasses.\n",
    "\n",
    "2. Implementation: Method overloading is not directly supported in Python but can be achieved using techniques like *args, \n",
    "   **kwargs, or decorators. Method overriding is a built-in feature of Python and is directly supported through method name \n",
    "   and signature matching.\n",
    "\n",
    "3. Inheritance Relationship: Method overloading typically occurs within the same class, while method overriding occurs \n",
    "   between a subclass and its parent class.\n",
    "\n",
    "4. Dynamic Dispatch: Method overloading may involve dynamic dispatch based on argument types, while method overriding\n",
    "   relies on the class hierarchy to determine the appropriate method implementation.\n",
    "\n",
    "5. In summary, method overloading and method overriding are both valuable techniques for creating flexible and reusable code.\n",
    "   Method overloading provides a way to have multiple operations under the same name, while method overriding allows for \n",
    "   specialization of behavior in subclasses. The choice between the two depends on the specific requirements and the desired level\n",
    "   of flexibility and customization.\n",
    "'''\n"
   ]
  },
  {
   "cell_type": "code",
   "execution_count": 14,
   "id": "6c91e116-3736-4426-a01c-b2dcee94dfdd",
   "metadata": {},
   "outputs": [
    {
     "name": "stdout",
     "output_type": "stream",
     "text": [
      "2\n",
      "5\n",
      "9\n"
     ]
    }
   ],
   "source": [
    "'''\n",
    "Overloading :\n",
    "Method overloading is the ability to define multiple methods with the same name but different parameters. This is a common feature\n",
    "in many programming languages.\n",
    "\n",
    "Overriding :\n",
    "Method overriding is the ability to redefine a method in a subclass that was originally defined in a superclass. This is a supported \n",
    "feature in Python, and it is a key part of object-oriented programming.\n",
    "\n",
    "Example :\n",
    "'''\n",
    "\n",
    "class Calculator:\n",
    "    def add(self, x, y=0, z=0):\n",
    "        return x + y + z\n",
    "\n",
    "# Example of using method overloading\n",
    "calculator_instance = Calculator()\n",
    "\n",
    "print(calculator_instance.add(2))        # Output: 2\n",
    "print(calculator_instance.add(2, 3))     # Output: 5\n",
    "print(calculator_instance.add(2, 3, 4))  # Output: 9\n"
   ]
  },
  {
   "cell_type": "code",
   "execution_count": null,
   "id": "d048bfc1-2537-4724-8273-37ec6f03cc5b",
   "metadata": {},
   "outputs": [],
   "source": []
  },
  {
   "cell_type": "markdown",
   "id": "328de9f9-8b01-43e9-b09c-8c0200021c17",
   "metadata": {},
   "source": [
    "### 16. Explain the purpose of the `__init__()` method in Python inheritance and how it is utilized in child classes."
   ]
  },
  {
   "cell_type": "code",
   "execution_count": null,
   "id": "a1977889-8e4d-4d21-9ebe-6f375c76c702",
   "metadata": {},
   "outputs": [],
   "source": [
    "'''\n",
    "The init() method, also known as the constructor, is a special method that is called automatically when an object of a class is created.\n",
    "It is used to initialize the attributes of the object and perform any necessary setup tasks. In Python inheritance, the init() method\n",
    "plays a crucial role in initializing and customizing objects of child classes.\n",
    "\n",
    "Purpose of init() in Child Classes\n",
    "\n",
    "1. Initialize Attributes: The init() method in child classes allows for the initialization of attributes specific to that child class. \n",
    "   This ensures that each object created from the child class has its own instance variables with appropriate values.\n",
    "\n",
    "2. Customize Behavior: The init() method provides a way to customize the initialization process for child classes. This allows for \n",
    "   additional steps or checks to be performed before the object is fully initialized.\n",
    "\n",
    "Utilizing init() in Child Classes\n",
    "\n",
    "1. Calling Parent's init(): To ensure proper initialization of inherited attributes, it is recommended to call the \n",
    "   parent class's init() method using the super().init() syntax. This ensures that the child class object receives the necessary \n",
    "   initialization from the parent class.\n",
    "\n",
    "2. Initializing Child-Specific Attributes: After calling the parent's init(), the child class's init() can initialize attributes\n",
    "   specific to the child class. This ensures that the child class object has its own instance variables with appropriate values.\n",
    "\n",
    "3. Customizing Initialization: The init() method of the child class can perform any additional initialization tasks or checks required\n",
    "   for the specific child class. This allows for tailored behavior during object creation.\n",
    "'''\n"
   ]
  },
  {
   "cell_type": "code",
   "execution_count": 15,
   "id": "0281cf91-f3fc-438d-b85b-548701e93a9e",
   "metadata": {},
   "outputs": [
    {
     "name": "stdout",
     "output_type": "stream",
     "text": [
      "Canine\n",
      "Golden Retriever\n"
     ]
    }
   ],
   "source": [
    "'''\n",
    "The __init__() method in Python inheritance is used to initialize the attributes of a new object. It is called automatically whenever\n",
    "a new object is created.\n",
    "\n",
    "Utilized in child class :\n",
    "The __init__() method of a child class can call the __init__() method of its parent class to initialize the parent class's attributes. \n",
    "This can be done using the super() function.\n",
    "\n",
    "Example :\n",
    "'''\n",
    "\n",
    "class Animal:\n",
    "    def __init__(self, species):\n",
    "        self.species = species\n",
    "\n",
    "class Dog(Animal):\n",
    "    def __init__(self, species, breed):\n",
    "        # Call the constructor of the parent class using super()\n",
    "        super().__init__(species)\n",
    "        self.breed = breed\n",
    "\n",
    "# Example of using the classes\n",
    "dog_instance = Dog(species=\"Canine\", breed=\"Golden Retriever\")\n",
    "\n",
    "# Accessing attributes initialized in both parent and child classes\n",
    "print(dog_instance.species)  # Output: Canine\n",
    "print(dog_instance.breed)    # Output: Golden Retriever\n"
   ]
  },
  {
   "cell_type": "code",
   "execution_count": null,
   "id": "5669763f-9834-44ab-8ea9-74f648fcfd3f",
   "metadata": {},
   "outputs": [],
   "source": []
  },
  {
   "cell_type": "markdown",
   "id": "52c818ad-4625-4c73-bfee-dc70ee0b5f55",
   "metadata": {},
   "source": [
    "### 17. Create a Python class called `Bird` with a method `fly()`. Then, create child classes `Eagle` and `Sparrow` that inherit from `Bird` and implement the `fly()` method differently. Provide an example of using these classes."
   ]
  },
  {
   "cell_type": "code",
   "execution_count": 16,
   "id": "a36ff7c9-7649-4636-a4f4-669f1ffbe186",
   "metadata": {},
   "outputs": [
    {
     "name": "stdout",
     "output_type": "stream",
     "text": [
      "Generic bird can fly\n",
      "Eagle soars through the sky\n",
      "Sparrow flits and chirps in the air\n"
     ]
    }
   ],
   "source": [
    "class Bird:\n",
    "    def fly(self):\n",
    "        return \"Generic bird can fly\"\n",
    "\n",
    "class Eagle(Bird):\n",
    "    def fly(self):\n",
    "        return \"Eagle soars through the sky\"\n",
    "\n",
    "class Sparrow(Bird):\n",
    "    def fly(self):\n",
    "        return \"Sparrow flits and chirps in the air\"\n",
    "\n",
    "# Example of using the classes\n",
    "bird_instance = Bird()\n",
    "eagle_instance = Eagle()\n",
    "sparrow_instance = Sparrow()\n",
    "\n",
    "# Using the fly() method of each class\n",
    "print(bird_instance.fly())     # Output: Generic bird can fly\n",
    "print(eagle_instance.fly())    # Output: Eagle soars through the sky\n",
    "print(sparrow_instance.fly())  # Output: Sparrow flits and chirps in the air\n"
   ]
  },
  {
   "cell_type": "code",
   "execution_count": null,
   "id": "49db6c30-25b5-4fb5-966f-ddb736d18094",
   "metadata": {},
   "outputs": [],
   "source": []
  },
  {
   "cell_type": "markdown",
   "id": "2f230fe6-0feb-49f2-9103-030769bfd698",
   "metadata": {},
   "source": [
    "### 18. What is the \"diamond problem\" in multiple inheritance, and how does Python address it?"
   ]
  },
  {
   "cell_type": "code",
   "execution_count": 17,
   "id": "6e2a3fa0-cb3e-4151-9ba0-30363d023b9f",
   "metadata": {},
   "outputs": [
    {
     "name": "stdout",
     "output_type": "stream",
     "text": [
      "Method in class B\n",
      "(<class '__main__.D'>, <class '__main__.B'>, <class '__main__.C'>, <class '__main__.A'>, <class 'object'>)\n"
     ]
    }
   ],
   "source": [
    "'''\n",
    "The diamond problem is a software design problem that occurs in multiple inheritance when two or more parent classes define the same method.\n",
    "When a subclass inherits from both of the parent classes, it is ambiguous which method implementation should be used.\n",
    "\n",
    "Python addresses the diamond problem using a technique called method resolution order (MRO). The MRO is a list of classes that defines \n",
    "the order in which Python searches for methods. The MRO is constructed by starting at the subclass and working up the inheritance hierarchy, \n",
    "adding each parent class to the list in the order in which they are inherited. If a parent class is inherited multiple times, it is only \n",
    "added to the MRO once.\n",
    "\n",
    "When Python searches for a method, it starts at the top of the MRO and works its way down. If it finds a method with the matching name and\n",
    "signature, it returns that method. If it does not find a matching method, it moves on to the next class in the MRO.\n",
    "\n",
    "This approach to resolving the diamond problem ensures that there is always a single method implementation that is used when a method \n",
    "is called on a subclass.\n",
    "\n",
    "The \"diamond problem\" is a term used in the context of multiple inheritance in object-oriented programming. It refers \n",
    "to a specific challenge that arises when a class inherits from two classes that have a common ancestor. \n",
    "This situation forms a diamond-shaped inheritance hierarchy, leading to ambiguity in method resolution.\n",
    "      A\n",
    "     / \\\n",
    "    B   C\n",
    "     \\ /\n",
    "      D\n",
    "      \n",
    "Example :       \n",
    "'''\n",
    "\n",
    "class A:\n",
    "    def method(self):\n",
    "        print(\"Method in class A\")\n",
    "\n",
    "class B(A):\n",
    "    def method(self):\n",
    "        print(\"Method in class B\")\n",
    "\n",
    "class C(A):\n",
    "    def method(self):\n",
    "        print(\"Method in class C\")\n",
    "\n",
    "class D(B, C):\n",
    "    pass\n",
    "\n",
    "# Example of using the classes\n",
    "instance_d = D()\n",
    "instance_d.method()\n",
    "print(D.__mro__)\n"
   ]
  },
  {
   "cell_type": "code",
   "execution_count": null,
   "id": "46a155a5-d885-4d7f-930d-7cd34153afe1",
   "metadata": {},
   "outputs": [],
   "source": []
  },
  {
   "cell_type": "markdown",
   "id": "a1e3dc20-c42f-4925-afc7-d0686d0587a1",
   "metadata": {},
   "source": [
    "### 19. Discuss the concept of \"is-a\" and \"has-a\" relationships in inheritance, and provide examples of each."
   ]
  },
  {
   "cell_type": "code",
   "execution_count": 18,
   "id": "b1a3a7ec-d936-4061-9cf9-b6da0347857c",
   "metadata": {},
   "outputs": [
    {
     "name": "stdout",
     "output_type": "stream",
     "text": [
      "Woof!\n",
      "Car starting... Engine starting...\n"
     ]
    }
   ],
   "source": [
    "'''\n",
    "In an \"is-a\" relationship, one class is said to be a subtype or derived type of another class. It represents \n",
    "a relationship where an object of a derived class is also an object of the base class.\n",
    "\n",
    "Examples of \"Is-A\" Relationships\n",
    "\n",
    "1. Dog is-an Animal\n",
    "2. Car is-a Vehicle\n",
    "3. Circle is-a Shape\n",
    "4. Student is-a Person\n",
    "5. Employee is-a Person\n",
    "\n",
    "'''\n",
    "\n",
    "# \"Is-a\" relationship example\n",
    "class Animal:\n",
    "    def speak(self):\n",
    "        pass\n",
    "\n",
    "class Dog(Animal):  # Dog is a type of Animal\n",
    "    def speak(self):\n",
    "        return \"Woof!\"\n",
    "\n",
    "# Example of using the \"is-a\" relationship\n",
    "dog_instance = Dog()\n",
    "print(dog_instance.speak())  # Output: Woof!\n",
    "\n",
    "'''\n",
    "In a \"has-a\" relationship, one class contains an instance of another class, typically as an attribute. \n",
    "It represents a relationship where an object of one class has an object of another class as a part or component.\n",
    "\n",
    "Examples of \"Has-A\" Relationships\n",
    "\n",
    "1. Car has-an Engine\n",
    "2. House has-a Kitchen\n",
    "3. Computer has-a Monitor\n",
    "4. Employee has-a Manager\n",
    "5. Student has-a Course\n",
    "\n",
    "'''\n",
    "\n",
    "# \"Has-a\" relationship example\n",
    "class Engine:\n",
    "    def start(self):\n",
    "        return \"Engine starting...\"\n",
    "\n",
    "class Car:\n",
    "    def __init__(self):\n",
    "        self.engine = Engine()  # Car has an Engine\n",
    "\n",
    "    def start(self):\n",
    "        return f\"Car starting... {self.engine.start()}\"\n",
    "\n",
    "# Example of using the \"has-a\" relationship\n",
    "car_instance = Car()\n",
    "print(car_instance.start())  # Output: Car starting... Engine starting..."
   ]
  },
  {
   "cell_type": "code",
   "execution_count": null,
   "id": "974b9feb-92fb-4bb8-b53f-b69f63489d89",
   "metadata": {},
   "outputs": [],
   "source": []
  },
  {
   "cell_type": "markdown",
   "id": "a06a0fde-f02d-417b-826e-cb6ef2afeaaf",
   "metadata": {},
   "source": [
    "### 20. Create a Python class hierarchy for a university system. Start with a base class `Person` and create child classes `Student` and `Professor`, each with their own attributes and methods. Provide an example of using these classes in a university context."
   ]
  },
  {
   "cell_type": "code",
   "execution_count": 22,
   "id": "84c0fbb3-32e5-4a29-b531-dd991f8f7c3f",
   "metadata": {},
   "outputs": [
    {
     "name": "stdout",
     "output_type": "stream",
     "text": [
      "Name : Supriya kumari, Age : 20, Gender : Female, Profession : Student, Student ID: S12345\n",
      "Supriya kumari is studying Computer Science\n",
      "\n",
      "Name : Dr. Prakash chawla, Age : 45, Gender : Male, Profession : Professor, Employee ID: P98765\n",
      "Dr. Prakash chawla is teaching Mathematics\n"
     ]
    }
   ],
   "source": [
    "class Person:\n",
    "    def __init__(self, name, age, gender):\n",
    "        self.name = name\n",
    "        self.age = age\n",
    "        self.gender = gender\n",
    "\n",
    "    def display_info(self):\n",
    "        return f\"Name : {self.name}, Age : {self.age}, Gender : {self.gender}\"\n",
    "\n",
    "class Student(Person):\n",
    "    def __init__(self, name, age, gender, profession, student_id):\n",
    "        super().__init__(name, age, gender)\n",
    "        self.profession = profession\n",
    "        self.student_id = student_id\n",
    "        \n",
    "\n",
    "    def display_info(self):\n",
    "        # Override the display_info method to include student-specific information\n",
    "        return f\"{super().display_info()}, Profession : {self.profession}, Student ID: {self.student_id}\"\n",
    "\n",
    "    def study(self, subject):\n",
    "        return f\"{self.name} is studying {subject}\"\n",
    "\n",
    "class Professor(Person):\n",
    "    def __init__(self, name, age, gender, profession, employee_id):\n",
    "        super().__init__(name, age, gender)\n",
    "        self.profession = profession\n",
    "        self.employee_id = employee_id\n",
    "\n",
    "    def display_info(self):\n",
    "        # Override the display_info method to include professor-specific information\n",
    "        return f\"{super().display_info()}, Profession : {self.profession}, Employee ID: {self.employee_id}\"\n",
    "\n",
    "    def teach(self, subject):\n",
    "        return f\"{self.name} is teaching {subject}\"\n",
    "\n",
    "# Example of using the classes in a university context\n",
    "student_instance = Student(name =\"Supriya kumari\", age = 20, gender = \"Female\", profession = \"Student\", student_id = \"S12345\")\n",
    "professor_instance = Professor(name =\"Dr. Prakash chawla\", age = 45, gender = \"Male\", profession = \"Professor\" , employee_id = \"P98765\")\n",
    "\n",
    "# Displaying information using the display_info method\n",
    "print(student_instance.display_info())\n",
    "print(student_instance.study(\"Computer Science\\n\"))\n",
    "\n",
    "\n",
    "print(professor_instance.display_info())\n",
    "print(professor_instance.teach(\"Mathematics\"))\n"
   ]
  },
  {
   "cell_type": "code",
   "execution_count": null,
   "id": "f0725949-6e22-4302-9ddf-7f383b42acab",
   "metadata": {},
   "outputs": [],
   "source": []
  },
  {
   "cell_type": "code",
   "execution_count": null,
   "id": "6e32b878-9426-4335-8d93-a901ef5c43fc",
   "metadata": {},
   "outputs": [],
   "source": []
  },
  {
   "cell_type": "markdown",
   "id": "bbc34d4f-3769-4fe5-8882-f021948c246b",
   "metadata": {},
   "source": [
    "# Encapsulation:\n",
    "---"
   ]
  },
  {
   "cell_type": "markdown",
   "id": "ea956e23-6080-4050-8ffa-42a26cc84325",
   "metadata": {},
   "source": [
    "### 1. Explain the concept of encapsulation in Python. What is its role in object-oriented programming?"
   ]
  },
  {
   "cell_type": "code",
   "execution_count": 1,
   "id": "d4888b4c-94c5-4d59-b5c2-c201c93b6832",
   "metadata": {},
   "outputs": [
    {
     "name": "stdout",
     "output_type": "stream",
     "text": [
      "23\n"
     ]
    }
   ],
   "source": [
    "'''\n",
    "Encapsulation is one of the fundamental principles of object-oriented programming (OOP) and is aimed at bundling \n",
    "the data (attributes) and the methods that operate on the data into a single unit known as a class. \n",
    "It involves restricting access to the internal state of an object and requiring all interactions to occur through \n",
    "well-defined interfaces (methods).\n",
    "\n",
    "This unit, known as a class, conceals the implementation details of the data and methods from the outside world. \n",
    "Instead, the class exposes a set of public methods that allow users to interact with the data in a controlled and predictable manner.\n",
    "\n",
    "Example : \n",
    "'''\n",
    "class Example:\n",
    "    def __init__(self):\n",
    "        self.__private_attribute = 23\n",
    "\n",
    "    def get_private_attribute(self):\n",
    "        return self.__private_attribute\n",
    "\n",
    "instance = Example()\n",
    "\n",
    "# Direct access to private attribute would raise an error\n",
    "#print(instance.__private_attribute)  # Error\n",
    "\n",
    "# Accessing through a method\n",
    "print(instance.get_private_attribute())  # Output: 23\n"
   ]
  },
  {
   "cell_type": "code",
   "execution_count": null,
   "id": "d6ef3405-64ba-4f79-b2db-f9bc84e7959f",
   "metadata": {},
   "outputs": [],
   "source": []
  },
  {
   "cell_type": "markdown",
   "id": "b41e0cf1-a59d-4552-9730-e0c5a4f183b0",
   "metadata": {},
   "source": [
    "### 2. Describe the key principles of encapsulation, including access control and data hiding."
   ]
  },
  {
   "cell_type": "code",
   "execution_count": null,
   "id": "88ce963d-b514-4d67-a93a-9b16c9150eed",
   "metadata": {},
   "outputs": [],
   "source": [
    "'''\n",
    "The key principles of encapsulation in Python are access control and data hiding.\n",
    "\n",
    "Access control is the mechanism by which encapsulation regulates access to the data and methods of a class. \n",
    "Encapsulation allows us to control which parts of a class are accessible to the outside world and which parts \n",
    "are hidden. This helps to protect the data and methods of a class from accidental modification or misuse.\n",
    "\n",
    "Access control in Python is implemented using the following modifiers:\n",
    "\n",
    "1. Public: Public members of a class are accessible to everyone.\n",
    "2. Protected: Protected members of a class are accessible to the class itself and to its subclasses.\n",
    "3. Private: Private members of a class are only accessible to the class itself.\n",
    "\n",
    "Data hiding is the practice of concealing the implementation details of a class from the outside world.\n",
    "Data hiding is achieved by declaring the data members of a class as private. This prevents the outside world \n",
    "from directly accessing or modifying the data members. Instead, the outside world must interact with the data\n",
    "members through the class's public methods.\n",
    "\n",
    "Data hiding has a number of benefits:\n",
    "\n",
    "1. Data protection: Data hiding helps to protect the data of a class from accidental modification or misuse.\n",
    "2. Code readability and maintainability: Data hiding makes code more readable and maintainable by grouping \n",
    "   related data and methods together into a single unit.\n",
    "3. Flexibility: Data hiding allows us to change the implementation of a class without affecting its clients. \n",
    "   This makes our code more flexible and adaptable to change.\n",
    "'''   \n"
   ]
  },
  {
   "cell_type": "code",
   "execution_count": 2,
   "id": "babb6f5a-fda3-4fba-a29d-243d5471b6de",
   "metadata": {},
   "outputs": [
    {
     "name": "stdout",
     "output_type": "stream",
     "text": [
      "42\n",
      "80\n",
      "\n",
      "Using protected attribute: Hello\n"
     ]
    }
   ],
   "source": [
    "'''\n",
    "Encapsulation is a way to restrict the direct access to some components of an object, so users cannot access state\n",
    "values for all of the variables of a particular object. Encapsulation can be used to hide both data members and data \n",
    "functions or methods associated with an instantiated class or object.\n",
    "\n",
    "Example :\n",
    "'''\n",
    "\n",
    "class EncapsulationExample:\n",
    "    def __init__(self):\n",
    "        # Private attribute\n",
    "        self.__private_attribute = 42\n",
    "\n",
    "        # Protected attribute\n",
    "        self._protected_attribute = \"Hello\"\n",
    "\n",
    "    # Getter for private attribute\n",
    "    def get_private_attribute(self):\n",
    "        return self.__private_attribute\n",
    "\n",
    "    # Setter for private attribute\n",
    "    def set_private_attribute(self, new_value):\n",
    "        if new_value > 0:\n",
    "            self.__private_attribute = new_value\n",
    "        else:\n",
    "            print(\"Value must be greater than 0.\")\n",
    "\n",
    "    # Method with protected attribute\n",
    "    def use_protected_attribute(self):\n",
    "        return f\"\\nUsing protected attribute: {self._protected_attribute}\"\n",
    "\n",
    "# Example of using the EncapsulationExample class\n",
    "instance = EncapsulationExample()\n",
    "\n",
    "# Accessing private attribute using getter\n",
    "print(instance.get_private_attribute())  # Output: 42\n",
    "\n",
    "# Modifying private attribute using setter\n",
    "instance.set_private_attribute(80)\n",
    "print(instance.get_private_attribute()) \n",
    "\n",
    "# Accessing protected attribute using a method\n",
    "print(instance.use_protected_attribute())  # Output: Using protected attribute: Hello\n"
   ]
  },
  {
   "cell_type": "code",
   "execution_count": null,
   "id": "f783aab8-283b-4cbc-909e-05f7895743b3",
   "metadata": {},
   "outputs": [],
   "source": []
  },
  {
   "cell_type": "markdown",
   "id": "f521255c-12a1-4780-89b7-1f10a7394012",
   "metadata": {},
   "source": [
    "### 3. How can you achieve encapsulation in Python classes? Provide an example."
   ]
  },
  {
   "cell_type": "code",
   "execution_count": 3,
   "id": "864daaf1-9d4a-4dba-abb9-eb4d26c0c20d",
   "metadata": {},
   "outputs": [
    {
     "name": "stdout",
     "output_type": "stream",
     "text": [
      "Public Value : Public\n",
      "Protected Value : Protected\n",
      "Private Value (before modification) : 24\n",
      "Private Value (after modification) : 56\n"
     ]
    }
   ],
   "source": [
    "'''\n",
    "Encapsulation in Python classes can be achieved by following these practices:\n",
    "Using Private Attributes : Prefix attributes with a double underscore (__) to make them private.\n",
    "Using Protected Attributes : Prefix attributes with a single underscore (_) to indicate that they are protected.\n",
    "Using Public Attributes : Attributes without underscores are considered public and can be accessed directly.\n",
    "\n",
    "Encapsulation is achieved by declaring a class's data members and methods as either private or protected. \n",
    "But in Python, we do not have keywords like public, private, and protected, as in the case of Java. \n",
    "Instead, we achieve this by using single and double underscores.\n",
    "'''\n",
    "\n",
    "class EncapsulationExample:\n",
    "    def __init__(self, public_value, protected_value, private_value):\n",
    "        # Public attribute\n",
    "        self.public_value = public_value\n",
    "\n",
    "        # Protected attribute\n",
    "        self._protected_value = protected_value\n",
    "\n",
    "        # Private attribute\n",
    "        self.__private_value = private_value\n",
    "\n",
    "    # Getter for private attribute\n",
    "    def get_private_value(self):\n",
    "        return self.__private_value\n",
    "\n",
    "    # Setter for private attribute\n",
    "    def set_private_value(self, new_value):\n",
    "        if new_value > 0:\n",
    "            self.__private_value = new_value\n",
    "        else:\n",
    "            print(\"Value must be greater than 0.\")\n",
    "\n",
    "# Example of using the EncapsulationExample class\n",
    "instance = EncapsulationExample(public_value=\"Public\", protected_value=\"Protected\", private_value=24)\n",
    "\n",
    "# Accessing public attribute directly\n",
    "print(\"Public Value :\", instance.public_value)\n",
    "\n",
    "# Accessing protected attribute directly (not recommended, but possible)\n",
    "print(\"Protected Value :\", instance._protected_value)\n",
    "\n",
    "# Accessing private attribute using getter\n",
    "print(\"Private Value (before modification) :\", instance.get_private_value())\n",
    "\n",
    "# Modifying private attribute using setter\n",
    "instance.set_private_value(new_value=56)\n",
    "\n",
    "# Accessing private attribute using getter after modification\n",
    "print(\"Private Value (after modification) :\", instance.get_private_value())\n"
   ]
  },
  {
   "cell_type": "code",
   "execution_count": null,
   "id": "dcd96a69-176d-4b98-ab70-9c6181833539",
   "metadata": {},
   "outputs": [],
   "source": []
  },
  {
   "cell_type": "markdown",
   "id": "6a01a94b-55aa-4b72-87b4-8a8b8acb44a3",
   "metadata": {},
   "source": [
    "### 4. Discuss the difference between public, private, and protected access modifiers in Python."
   ]
  },
  {
   "cell_type": "code",
   "execution_count": 4,
   "id": "19927fd0-13bd-4383-b8f2-4eee917d4a6a",
   "metadata": {},
   "outputs": [
    {
     "name": "stdout",
     "output_type": "stream",
     "text": [
      "Public Variable : I am public\n",
      "Public Method : This is a public method\n",
      "\n",
      "Protected Variable : I am protected\n",
      "Protected Method : This is a protected method\n"
     ]
    }
   ],
   "source": [
    "'''\n",
    "Python provides three access modifiers: public, private, and protected. These access modifiers control how class members\n",
    "can be accessed from outside the class.\n",
    "\n",
    "1. Public variable : Public variables are accessible to everyone, including code outside the class.\n",
    "\n",
    "2. Private variable : Private variables are only accessible to code inside the class. It cannot access outside class. we can write \n",
    "   private variable beyond (__) double underscore.\n",
    "\n",
    "3. Protected variable : Protected variables and methods are accessible to code inside the specific class environment and can \n",
    "   also be accessed by the sub-classes. We can also say that it allows the resources of the parent class to be inherited by the \n",
    "   child class.Any variables or methods prefixed with a single underscore (_) in a class are protected and can be accessed within \n",
    "   the specific class environment. The protected variables/methods can be accessed inside the sub-classes of the parent class.\n",
    "'''\n",
    "\n",
    "class AccessModifiersExample:\n",
    "    def __init__(self):\n",
    "        # Public attribute\n",
    "        self.public_variable = \"I am public\"\n",
    "\n",
    "        # Protected attribute\n",
    "        self._protected_variable = \"I am protected\"\n",
    "\n",
    "        # Private attribute\n",
    "        self.__private_variable = \"I am private\"\n",
    "\n",
    "    # Public method\n",
    "    def public_method(self):\n",
    "        return \"This is a public method\"\n",
    "\n",
    "    # Protected method\n",
    "    def _protected_method(self):\n",
    "        return \"This is a protected method\"\n",
    "\n",
    "    # Private method\n",
    "    def __private_method(self):\n",
    "        return \"This is a private method\"\n",
    "\n",
    "# Example of using the AccessModifiersExample class\n",
    "instance = AccessModifiersExample()\n",
    "\n",
    "# Accessing public members\n",
    "print(\"Public Variable :\", instance.public_variable)\n",
    "print(\"Public Method :\", instance.public_method())\n",
    "\n",
    "# Accessing protected members\n",
    "print(\"\\nProtected Variable :\", instance._protected_variable)\n",
    "print(\"Protected Method :\", instance._protected_method())\n",
    "\n",
    "# Accessing private members (Note: This would raise an AttributeError)\n",
    "# Uncommenting the following line will result in an error:\n",
    "\n",
    "#print(\"Private Variable :\", instance.__private_variable)\n",
    "# print(\"Private Method :\", instance.__private_method())\n"
   ]
  },
  {
   "cell_type": "code",
   "execution_count": null,
   "id": "aa7dfb56-3f07-401c-9881-c2907c0eabae",
   "metadata": {},
   "outputs": [],
   "source": []
  },
  {
   "cell_type": "markdown",
   "id": "37a9eb11-6db0-4b3e-8dc0-33f0c61410e0",
   "metadata": {},
   "source": [
    "### 5. Create a Python class called `Person` with a private attribute `__name`. Provide methods to get and set the name attribute."
   ]
  },
  {
   "cell_type": "code",
   "execution_count": 5,
   "id": "9eea81fb-5312-41a8-9cad-e0d9350934f0",
   "metadata": {},
   "outputs": [
    {
     "name": "stdout",
     "output_type": "stream",
     "text": [
      "Original Name : Gita kumari\n",
      "Updated Name : Garima Dua\n"
     ]
    }
   ],
   "source": [
    "class Person:\n",
    "    def __init__(self, name):\n",
    "        # Private attribute\n",
    "        self.__name = name\n",
    "\n",
    "    # Getter method for the private attribute\n",
    "    def get_name(self):\n",
    "        return self.__name\n",
    "\n",
    "    # Setter method for the private attribute\n",
    "    def set_name(self, new_name):\n",
    "        self.__name = new_name\n",
    "\n",
    "# Example of using the Person class\n",
    "person_instance = Person(name=\"Gita kumari\")\n",
    "\n",
    "# Accessing the private attribute using the getter\n",
    "print(\"Original Name :\", person_instance.get_name())\n",
    "\n",
    "# Modifying the private attribute using the setter\n",
    "person_instance.set_name(new_name=\"Garima Dua\")\n",
    "\n",
    "# Accessing the private attribute again using the getter\n",
    "print(\"Updated Name :\", person_instance.get_name())\n"
   ]
  },
  {
   "cell_type": "code",
   "execution_count": null,
   "id": "4c2057f7-b6ee-46b8-868d-d0564fa8fb65",
   "metadata": {},
   "outputs": [],
   "source": []
  },
  {
   "cell_type": "markdown",
   "id": "bf780b67-85ef-4268-b349-9df7a917792d",
   "metadata": {},
   "source": [
    "### 6. Explain the purpose of getter and setter methods in encapsulation. Provide examples."
   ]
  },
  {
   "cell_type": "code",
   "execution_count": 6,
   "id": "e794e423-96bd-437f-b177-2ce3401314f6",
   "metadata": {},
   "outputs": [
    {
     "name": "stdout",
     "output_type": "stream",
     "text": [
      "Original Name : Gita Kumari\n",
      "Original Age : 21\n",
      "\n",
      "Updated Name : Garima Dua\n",
      "Updated Age : 25\n"
     ]
    }
   ],
   "source": [
    "'''\n",
    "Getter and setter methods in encapsulation serve the purpose of providing controlled access to the private attributes \n",
    "of a class. They are used to retrieve (get) and modify (set) the values of private attributes, allowing for a level \n",
    "of abstraction and encapsulation of the internal state of an object.\n",
    "\n",
    "Getter Method : It is used to get method name from class. we have used @property  decorator for that.\n",
    "Setter Method : It is used to maker changes in values of variable. we have used @getter_name.setter decorator for that.\n",
    "Deleter Method : It is used to delete the method from class. we have used @function_name.deleter as decorator for that.\n",
    "'''\n",
    "\n",
    "class Person:\n",
    "    def __init__(self, name, age):\n",
    "        # Private attributes\n",
    "        self.__name = name\n",
    "        self.__age = age\n",
    "\n",
    "    # Getter methods\n",
    "    def get_name(self):\n",
    "        return self.__name\n",
    "\n",
    "    def get_age(self):\n",
    "        return self.__age\n",
    "\n",
    "    # Setter methods\n",
    "    def set_name(self, new_name):\n",
    "        if isinstance(new_name, str):\n",
    "            self.__name = new_name\n",
    "        else:\n",
    "            print(\"Invalid name format.\")\n",
    "            \n",
    "    def set_age(self, new_age):\n",
    "        if isinstance(new_age, int) and new_age > 0:\n",
    "            self.__age = new_age\n",
    "        else:\n",
    "            print(\"Invalid age value.\")\n",
    "\n",
    "# Example of using getter and setter methods\n",
    "person_instance = Person(name=\"Gita Kumari\", age=21)\n",
    "\n",
    "# Using getter methods to access private attributes\n",
    "print(\"Original Name :\", person_instance.get_name())\n",
    "print(\"Original Age :\", person_instance.get_age())\n",
    "\n",
    "# Using setter methods to modify private attributes\n",
    "person_instance.set_name(new_name=\"Garima Dua\")\n",
    "person_instance.set_age(new_age=25)\n",
    "\n",
    "# Using getter methods again to access modified private attributes\n",
    "print(\"\\nUpdated Name :\", person_instance.get_name())\n",
    "print(\"Updated Age :\", person_instance.get_age())\n"
   ]
  },
  {
   "cell_type": "code",
   "execution_count": null,
   "id": "8cf82a58-647c-49fe-9750-53c67b4e89c5",
   "metadata": {},
   "outputs": [],
   "source": []
  },
  {
   "cell_type": "markdown",
   "id": "eb9148c5-b706-4fd1-b93f-711c5c78684a",
   "metadata": {},
   "source": [
    "### 7. What is name mangling in Python, and how does it affect encapsulation?"
   ]
  },
  {
   "cell_type": "code",
   "execution_count": 8,
   "id": "c2491ec8-7184-47f9-81ba-722295efe32c",
   "metadata": {},
   "outputs": [
    {
     "name": "stdout",
     "output_type": "stream",
     "text": [
      "Getter Method : 23\n"
     ]
    }
   ],
   "source": [
    "'''\n",
    "Name mangling in Python is a technique used to rename class attributes and methods when they are accessed outside of\n",
    "the class. This is done to avoid name collisions between class attributes and methods and global variables.\n",
    "\n",
    "Name mangling is a mechanism that implemented by prefixing the name of the class attribute or method with two underscores \n",
    "and the name of the class to make them less prone to accidental name clashes. This is achieved by prefixing the \n",
    "attribute name with a double underscore (__). \n",
    "The purpose of name mangling is to make it more challenging to access and modify private attributes from outside the class.\n",
    "\n",
    "For example, the class attribute __name in the Person class would be mangled to _Person__name when accessed \n",
    "outside of the class.\n",
    "\n",
    "Name mangling can affect encapsulation in Python in a few ways:\n",
    "\n",
    "1. It can make it more difficult to access private class members from outside of the class.\n",
    "2. It can make it more difficult to debug code, as the mangled names can be confusing.\n",
    "3. It can make it more difficult to use Python libraries that rely on name mangling to implement their functionality.\n",
    "\n",
    "'''\n",
    "\n",
    "class Example:\n",
    "    def __init__(self):\n",
    "        # Private attribute with name mangling\n",
    "        self.__private_attribute = 23\n",
    "\n",
    "    def get_private_attribute(self):\n",
    "        return self.__private_attribute\n",
    "\n",
    "# Example of using name mangling\n",
    "clss = Example()\n",
    "\n",
    "# Accessing the private attribute directly (not recommended)\n",
    "#print(\"Direct Access:\", clss.__private_attribute)  # This would raise an AttributeError\n",
    "\n",
    "# Accessing the private attribute using the getter method\n",
    "print(\"Getter Method :\", clss.get_private_attribute())\n"
   ]
  },
  {
   "cell_type": "code",
   "execution_count": null,
   "id": "74af5145-1b08-485d-8990-e4ec9c9437b3",
   "metadata": {},
   "outputs": [],
   "source": []
  },
  {
   "cell_type": "markdown",
   "id": "d44da268-c281-466f-bb9f-5133eaf22c01",
   "metadata": {},
   "source": [
    "### 8. Create a Python class called `BankAccount` with private attributes for the account balance (`__balance`) and account number (`__account_number`). Provide methods for depositing and withdrawing money."
   ]
  },
  {
   "cell_type": "code",
   "execution_count": 10,
   "id": "e8d97116-9694-4c1b-8501-0bfcaecae4ba",
   "metadata": {},
   "outputs": [
    {
     "name": "stdout",
     "output_type": "stream",
     "text": [
      "Initial Balance : $ 1000\n",
      "Deposited $500. New balance : $1500\n",
      "Withdrew $200. New balance : $1300\n",
      "\n",
      "Trying to withdraw more money than the balance\n",
      "Invalid withdrawal amount or insufficient funds.\n"
     ]
    }
   ],
   "source": [
    "class BankAccount:\n",
    "    def __init__(self, account_number, initial_balance=0):\n",
    "        # Private attributes with name mangling\n",
    "        self.__account_number = account_number\n",
    "        self.__balance = initial_balance\n",
    "\n",
    "    def get_balance(self):\n",
    "        return self.__balance\n",
    "\n",
    "    def deposit(self, amount):\n",
    "        if amount > 0:\n",
    "            self.__balance += amount\n",
    "            print(f\"Deposited ${amount}. New balance : ${self.__balance}\")\n",
    "        else:\n",
    "            print(\"Invalid deposit amount. Please deposit a positive amount.\")\n",
    "\n",
    "    def withdraw(self, amount):\n",
    "        if amount > 0 and amount <= self.__balance:\n",
    "            self.__balance -= amount\n",
    "            print(f\"Withdrew ${amount}. New balance : ${self.__balance}\")\n",
    "        else:\n",
    "            print(\"Invalid withdrawal amount or insufficient funds.\")\n",
    "\n",
    "# Example of using the BankAccount class\n",
    "account = BankAccount(account_number=\"123456789\", initial_balance=1000)\n",
    "\n",
    "# Accessing balance using the getter method\n",
    "print(\"Initial Balance : $\", account.get_balance())\n",
    "\n",
    "# Depositing money\n",
    "account.deposit(500)\n",
    "\n",
    "# Withdrawing money\n",
    "account.withdraw(200)\n",
    "\n",
    "# Trying to withdraw more money than the balance\n",
    "print(\"\\nTrying to withdraw more money than the balance\")\n",
    "account.withdraw(2000)\n"
   ]
  },
  {
   "cell_type": "code",
   "execution_count": null,
   "id": "612a1d86-3820-4f54-ad1f-8e2c11d43d46",
   "metadata": {},
   "outputs": [],
   "source": []
  },
  {
   "cell_type": "markdown",
   "id": "4af0fbfb-da23-405b-a0b3-521502ce5bf3",
   "metadata": {},
   "source": [
    "### 9. Discuss the advantages of encapsulation in terms of code maintainability and security."
   ]
  },
  {
   "cell_type": "code",
   "execution_count": null,
   "id": "3530dcfc-1287-4bc1-9651-96055460dd99",
   "metadata": {},
   "outputs": [],
   "source": [
    "'''\n",
    "Encapsulation has a number of advantages in terms of code maintainability and security.\n",
    "\n",
    "Code maintainability :\n",
    "Encapsulation makes code more maintainable by grouping related data and methods together into a single unit.\n",
    "This makes it easier to understand how the code works and to make changes without affecting the rest of the program.\n",
    "\n",
    "For example, if you have a class that represents a bank account, you can encapsulate the account balance and account number\n",
    "within the class. This makes it easy to add new features to the bank account class, such as the ability to deposit or withdraw money, \n",
    "without affecting the rest of the program.\n",
    "\n",
    "Security : \n",
    "Encapsulation can also help to improve the security of your code. By restricting access to private data members, you can prevent \n",
    "unauthorized users from modifying the data or causing unexpected behavior.\n",
    "\n",
    "For example, if you have a class that represents a user account, you can encapsulate the user's password within the class. This \n",
    "prevents unauthorized users from stealing the user's password and gaining access to their account.\n",
    "'''"
   ]
  },
  {
   "cell_type": "code",
   "execution_count": 11,
   "id": "79c04988-f1ef-42d4-861c-ccac31fef692",
   "metadata": {},
   "outputs": [
    {
     "name": "stdout",
     "output_type": "stream",
     "text": [
      "2020 Toyota Camry\n"
     ]
    }
   ],
   "source": [
    "#Code Maintainability:\n",
    "class Car:\n",
    "    def __init__(self, make, model, year):\n",
    "        self.make = make\n",
    "        self.model = model\n",
    "        self.year = year\n",
    "\n",
    "    def get_details(self):\n",
    "        return f\"{self.year} {self.make} {self.model}\"\n",
    "\n",
    "# Usage:\n",
    "my_car = Car(make=\"Toyota\", model=\"Camry\", year=2020)\n",
    "print(my_car.get_details())\n",
    "\n",
    "#Flexibility and Extensibility:\n",
    "class Animal:\n",
    "    def __init__(self, species):\n",
    "        self.species = species\n",
    "\n",
    "    def make_sound(self):\n",
    "        pass  # Abstract method\n",
    "class Dog(Animal):\n",
    "    def make_sound(self):\n",
    "        return \"Woof!\"\n",
    "\n",
    "class Cat(Animal):\n",
    "    def make_sound(self):\n",
    "        return \"Meow!\"\n",
    "\n",
    "#Controlled Access:\n",
    "class BankAccount:\n",
    "    def __init__(self, account_number, balance=0):\n",
    "        self.__account_number = account_number\n",
    "        self.__balance = balance\n",
    "\n",
    "    def get_balance(self):\n",
    "        return self.__balance\n",
    "\n",
    "    def deposit(self, amount):\n",
    "        self.__balance += amount\n",
    "\n",
    "    def withdraw(self, amount):\n",
    "        if amount <= self.__balance:\n",
    "            self.__balance -= amount\n",
    "            "
   ]
  },
  {
   "cell_type": "code",
   "execution_count": null,
   "id": "bee4efcd-cfaa-4a6a-ba37-509213cdb3d4",
   "metadata": {},
   "outputs": [],
   "source": []
  },
  {
   "cell_type": "markdown",
   "id": "4a31f7a7-619a-4c5b-af48-0dc03d89f3ff",
   "metadata": {},
   "source": [
    "### 10. How can you access private attributes in Python? Provide an example demonstrating the use of name mangling."
   ]
  },
  {
   "cell_type": "code",
   "execution_count": 12,
   "id": "f0873d41-c06a-4b45-bd42-cbe50fadf181",
   "metadata": {},
   "outputs": [
    {
     "name": "stdout",
     "output_type": "stream",
     "text": [
      "23\n"
     ]
    }
   ],
   "source": [
    "'''\n",
    "The class variables can be accessed by adding _classname to it. The name mangling is closest to private not exactly private. \n",
    "The above class variable is accessed by adding the _classname to it. The class variable is accessed from outside the class \n",
    "with the name _Student__name\n",
    "Example :\n",
    "\n",
    "object_name._classname__variablename\n",
    "'''\n",
    "class MyClass:\n",
    "    def __init__(self):\n",
    "        # Private attribute with name mangling\n",
    "        self.__private_attribute = 23\n",
    "\n",
    "# Creating an instance of MyClass\n",
    "obj = MyClass()\n",
    "\n",
    "# Attempting to access the private attribute directly (discouraged)\n",
    "# This would normally raise an AttributeError, but we can use name mangling\n",
    "print(obj._MyClass__private_attribute)\n"
   ]
  },
  {
   "cell_type": "code",
   "execution_count": null,
   "id": "ede6bc1f-9cf0-4b38-bff3-d5da24e2bac5",
   "metadata": {},
   "outputs": [],
   "source": []
  },
  {
   "cell_type": "markdown",
   "id": "fcd66ed6-e235-4974-80cf-a1722ce461a6",
   "metadata": {},
   "source": [
    "### 11. Create a Python class hierarchy for a school system, including classes for students, teachers, and courses, and implement encapsulation principles to protect sensitive information."
   ]
  },
  {
   "cell_type": "code",
   "execution_count": 17,
   "id": "20b71e53-6bbe-4c10-8a75-5a6b9aa256ee",
   "metadata": {},
   "outputs": [
    {
     "name": "stdout",
     "output_type": "stream",
     "text": [
      "Arpita (ID : S101) is enrolled in Mathematics.\n",
      "Ashok Gautam (ID : T201) is teaching Mathematics.\n"
     ]
    }
   ],
   "source": [
    "class Person:\n",
    "    def __init__(self, name, age, emailID):\n",
    "        self._name = name  # Protected attribute\n",
    "        self._age = age    # Protected attribute\n",
    "        self._emailID = emailID  # Protected attribute\n",
    "\n",
    "    def get_name(self):\n",
    "        return self._name\n",
    "\n",
    "    def get_age(self):\n",
    "        return self._age\n",
    "    \n",
    "    def get_emailID(self):\n",
    "        return self._emailID\n",
    "\n",
    "\n",
    "class Student(Person):\n",
    "    def __init__(self, name, age, emailID, student_id):\n",
    "        super().__init__(name, age, emailID)\n",
    "        self.__student_id = student_id  # Private attribute\n",
    "        self.__grades = {}             # Private attribute\n",
    "\n",
    "    def get_student_id(self):\n",
    "        return self.__student_id\n",
    "\n",
    "    def add_grade(self, course, grade):\n",
    "        # Private method to add grades\n",
    "        self.__grades[course] = grade\n",
    "\n",
    "    def get_grades(self):\n",
    "        return self.__grades.copy()  # Return a copy to avoid direct modification\n",
    "\n",
    "\n",
    "class Teacher(Person):\n",
    "    def __init__(self, name, age, emailID, employee_id, salary):\n",
    "        super().__init__(name, age, emailID)\n",
    "        self.__employee_id = employee_id  # Private attribute\n",
    "        self.__salary = salary            # Private attribute\n",
    "        self.__courses_taught = []        # Private attribute\n",
    "\n",
    "    def get_employee_id(self):\n",
    "        return self.__employee_id\n",
    "\n",
    "    def get_salary(self):\n",
    "        return self.__salary\n",
    "\n",
    "    def add_course_taught(self, course):\n",
    "        # Private method to add courses taught\n",
    "        self.__courses_taught.append(course)\n",
    "\n",
    "    def get_courses_taught(self):\n",
    "        return self.__courses_taught.copy()  # Return a copy to avoid direct modification\n",
    "\n",
    "\n",
    "class Course:\n",
    "    def __init__(self, course_code, course_name):\n",
    "        self._course_code = course_code  # Protected attribute\n",
    "        self._course_name = course_name  # Protected attribute\n",
    "        self.__students_enrolled = []    # Private attribute\n",
    "\n",
    "    def get_course_code(self):\n",
    "        return self._course_code\n",
    "\n",
    "    def get_course_name(self):\n",
    "        return self._course_name\n",
    "\n",
    "    def enroll_student(self, student):\n",
    "        # Private method to enroll students\n",
    "        self.__students_enrolled.append(student)\n",
    "\n",
    "    def get_students_enrolled(self):\n",
    "        return self.__students_enrolled.copy()  # Return a copy to avoid direct modification\n",
    "\n",
    "\n",
    "# Example of using the school system classes\n",
    "# Example of using the school system classes\n",
    "student1 = Student(name=\"Arpita\", age=17, emailID = \"arpita@gmail.com\", student_id=\"S101\")\n",
    "teacher1 = Teacher(name=\"Ashok Gautam\", age=35, emailID = \"ashok@gmail.com\" , employee_id=\"T201\", salary=50000)\n",
    "course1 = Course(course_code=\"C101\", course_name=\"Mathematics\")\n",
    "\n",
    "course1.enroll_student(student1)\n",
    "teacher1.add_course_taught(course1)\n",
    "\n",
    "# Accessing information using protected and public methods\n",
    "print(f\"{student1.get_name()} (ID : {student1.get_student_id()}) is enrolled in {course1.get_course_name()}.\")\n",
    "\n",
    "\n",
    "# Corrected code to extract course names before joining\n",
    "teacher1_courses = [course.get_course_name() for course in teacher1.get_courses_taught()]\n",
    "print(f\"{teacher1.get_name()} (ID : {teacher1.get_employee_id()}) is teaching {', '.join(teacher1_courses)}.\")\n"
   ]
  },
  {
   "cell_type": "code",
   "execution_count": null,
   "id": "b2de52e8-062c-4a82-97d1-76917915c58d",
   "metadata": {},
   "outputs": [],
   "source": []
  },
  {
   "cell_type": "markdown",
   "id": "dcc001dc-2036-48e6-87c5-03b4b5862229",
   "metadata": {},
   "source": [
    "### 12. Explain the concept of property decorators in Python and how they relate to encapsulation."
   ]
  },
  {
   "cell_type": "code",
   "execution_count": 18,
   "id": "b366e748-c8de-4e70-bc01-afef71dd88b3",
   "metadata": {},
   "outputs": [
    {
     "name": "stdout",
     "output_type": "stream",
     "text": [
      "42\n",
      "50\n",
      "Deleting my_property\n"
     ]
    }
   ],
   "source": [
    "'''\n",
    "Property decorators in Python are a way to create read-only, write-only, or read-write attributes for a class.\n",
    "They are related to encapsulation because they can be used to encapsulate private class members and provide a more\n",
    "controlled interface for accessing and modifying them.\n",
    "\n",
    "To create a property, you use the @property decorator. The @property decorator takes a getter function as an argument. \n",
    "The getter function is responsible for returning the value of the property.\n",
    "\n",
    "Property decorators in Python are used to define properties, which are special methods that can be used to get, set, and \n",
    "delete attributes of an object. Properties are defined using the @property decorator, and they can be used to implement \n",
    "encapsulation principles in Python.\n",
    "\n",
    "Encapsulation is the process of hiding the implementation details of an object from the outside world. This can be done \n",
    "by making the object's attributes private, and by providing public methods to access and modify those attributes.\n",
    "'''\n",
    "\n",
    "class MyClass:\n",
    "    def __init__(self):\n",
    "        self._value = 42  # Protected attribute\n",
    "\n",
    "    @property #for getter\n",
    "    def my_property(self):\n",
    "        return self._value\n",
    "\n",
    "    @my_property.setter #fore setter\n",
    "    def my_property(self, new_value):\n",
    "        if new_value > 0:\n",
    "            self._value = new_value\n",
    "\n",
    "    @my_property.deleter #for delete\n",
    "    def my_property(self):\n",
    "        print(\"Deleting my_property\")\n",
    "        del self._value\n",
    "\n",
    "# Usage\n",
    "obj = MyClass()\n",
    "print(obj.my_property)  # Calls the getter method\n",
    "\n",
    "obj.my_property = 50  # Calls the setter method with validation\n",
    "print(obj.my_property)  # Calls the getter method\n",
    "\n",
    "del obj.my_property  # Calls the deleter method\n"
   ]
  },
  {
   "cell_type": "code",
   "execution_count": null,
   "id": "33655b65-18fc-49c8-b32b-25d1f0b2361f",
   "metadata": {},
   "outputs": [],
   "source": []
  },
  {
   "cell_type": "markdown",
   "id": "728c6847-2015-4423-9fa1-fa7e1722c99e",
   "metadata": {},
   "source": [
    "### 13. What is data hiding, and why is it important in encapsulation? Provide examples."
   ]
  },
  {
   "cell_type": "code",
   "execution_count": null,
   "id": "c2dcbbef-588d-4e1a-847b-b603cc490a78",
   "metadata": {},
   "outputs": [],
   "source": [
    "'''\n",
    "Data hiding is a technique used in object-oriented programming to protect the internal data of a class from unauthorized access. \n",
    "It is implemented by making the class's data members private and providing public methods to access and modify them. This allows \n",
    "the programmer to control how the data is used and to prevent it from being corrupted or accidentally modified.\n",
    "\n",
    "Data hiding is important in encapsulation because it helps to:\n",
    "\n",
    "Protect sensitive data: By hiding the class's data members, we can prevent unauthorized users from accessing or modifying them.\n",
    "This is especially important for sensitive data such as student grades or teacher salaries.\n",
    "\n",
    "Prevent data corruption: By controlling how the data is accessed and modified, we can help to prevent it from being corrupted. \n",
    "For example, we can prevent users from setting a student's grade to a negative value.\n",
    "\n",
    "Improve maintainability: By hiding the class's internal implementation details, we make it easier to maintain the code. \n",
    "For example, we can change the way the data is stored without affecting the way the class is used.\n",
    "'''"
   ]
  },
  {
   "cell_type": "code",
   "execution_count": 19,
   "id": "86f4ef58-ba4f-479f-86c8-6d51ae060704",
   "metadata": {},
   "outputs": [
    {
     "name": "stdout",
     "output_type": "stream",
     "text": [
      "0\n",
      "1000\n"
     ]
    }
   ],
   "source": [
    "'''\n",
    "Data hiding is a concept in object-oriented programming that refers to restricting access to certain details of an object and \n",
    "only exposing what is necessary. It involves encapsulating the internal state of an object and making it accessible or\n",
    "modifiable only through well-defined interfaces, such as methods or properties.\n",
    "'''\n",
    "\n",
    "class BankAccount:\n",
    "    def __init__(self, account_number, balance=0):\n",
    "        self._account_number = account_number  # Protected attribute\n",
    "        self.__balance = balance               # Private attribute\n",
    "\n",
    "    @property\n",
    "    def account_number(self):\n",
    "        return self._account_number\n",
    "\n",
    "    @property\n",
    "    def balance(self):\n",
    "        return self.__balance\n",
    "\n",
    "    @balance.setter\n",
    "    def balance(self, new_balance):\n",
    "        if new_balance >= 0:\n",
    "            self.__balance = new_balance\n",
    "# Example of using the BankAccount class\n",
    "account = BankAccount(account_number=\"123456789\")\n",
    "print(account.balance)  # Accessing the balance property\n",
    "\n",
    "# Setting a new balance using the setter method with validation\n",
    "account.balance = 1000\n",
    "print(account.balance)  # Accessing the updated balance property\n"
   ]
  },
  {
   "cell_type": "code",
   "execution_count": null,
   "id": "bf71ff93-230a-46fa-a408-0b9b7b34f4f1",
   "metadata": {},
   "outputs": [],
   "source": []
  },
  {
   "cell_type": "markdown",
   "id": "3f702c3d-c248-4d65-8165-3a8c480b21ea",
   "metadata": {},
   "source": [
    "### 14. Create a Python class called `Employee` with private attributes for salary (`__salary`) and employee ID (`__employee_id`). Provide a method to calculate yearly bonuses."
   ]
  },
  {
   "cell_type": "code",
   "execution_count": 21,
   "id": "13cd4186-748c-40b3-a64c-038fad7c09b7",
   "metadata": {},
   "outputs": [
    {
     "name": "stdout",
     "output_type": "stream",
     "text": [
      "Employee ID : E101\n",
      "Current Salary : $70000\n",
      "\n",
      "Updated Salary : $85000\n",
      "Yearly Bonus (10%) : $8500.0\n"
     ]
    }
   ],
   "source": [
    "class Employee:\n",
    "    def __init__(self, employee_id, salary):\n",
    "        self.__employee_id = employee_id  # Private attribute\n",
    "        self.__salary = salary            # Private attribute\n",
    "\n",
    "    @property\n",
    "    def employee_id(self):\n",
    "        return self.__employee_id\n",
    "\n",
    "    @property\n",
    "    def salary(self):\n",
    "        return self.__salary\n",
    "\n",
    "    @salary.setter\n",
    "    def salary(self, new_salary):\n",
    "        if new_salary >= 0:\n",
    "            self.__salary = new_salary\n",
    "\n",
    "    def calculate_yearly_bonus(self, bonus_percentage):\n",
    "        \"\"\"\n",
    "        Calculate yearly bonus based on the provided percentage.\n",
    "\n",
    "        Args:\n",
    "            bonus_percentage (float): Bonus percentage to be applied.\n",
    "\n",
    "        Returns:\n",
    "            float: Calculated yearly bonus.\n",
    "        \"\"\"\n",
    "        if 0 <= bonus_percentage <= 100:\n",
    "            bonus_amount = (bonus_percentage / 100) * self.__salary\n",
    "            return bonus_amount\n",
    "        else:\n",
    "            raise ValueError(\"Bonus percentage should be between 0 and 100.\")\n",
    "\n",
    "# Example of using the Employee class\n",
    "employee1 = Employee(employee_id=\"E101\", salary=70000)\n",
    "print(f\"Employee ID : {employee1.employee_id}\")\n",
    "print(f\"Current Salary : ${employee1.salary}\")\n",
    "\n",
    "# Updating salary using the setter method with validation\n",
    "employee1.salary = 85000\n",
    "print(f\"\\nUpdated Salary : ${employee1.salary}\")\n",
    "\n",
    "# Calculating yearly bonus\n",
    "bonus_percentage = 10\n",
    "yearly_bonus = employee1.calculate_yearly_bonus(bonus_percentage)\n",
    "print(f\"Yearly Bonus ({bonus_percentage}%) : ${yearly_bonus}\")\n"
   ]
  },
  {
   "cell_type": "code",
   "execution_count": null,
   "id": "5b39badb-7c56-4a2e-b8ab-9d7a6d7f105b",
   "metadata": {},
   "outputs": [],
   "source": []
  },
  {
   "cell_type": "markdown",
   "id": "c649cd3c-a3a9-40a4-a663-e1ee0ed2cc23",
   "metadata": {},
   "source": [
    "### 15. Discuss the use of accessors and mutators in encapsulation. How do they help maintain control over attribute access?"
   ]
  },
  {
   "cell_type": "code",
   "execution_count": 23,
   "id": "df5410e5-66a0-4730-a27b-24fc65793188",
   "metadata": {},
   "outputs": [],
   "source": [
    "'''\n",
    "Accessors (Getters):\n",
    "Purpose: Accessors, or getters, are methods that retrieve the values of private attributes. They provide a way to get \n",
    "the current state of an object.\n",
    "Example:\n",
    "'''\n",
    "class MyClass:\n",
    "    def __init__(self):\n",
    "        self.__private_attribute = 42\n",
    "\n",
    "    def get_private_attribute(self):\n",
    "        return self.__private_attribute\n",
    "    \n",
    "'''\n",
    "Mutators (Setters):\n",
    "Purpose: Mutators, or setters, are methods that modify the values of private attributes. They provide a way to update the state of an object.\n",
    "Example:\n",
    "'''\n",
    "class MyClass:\n",
    "    def __init__(self):\n",
    "        self.__private_attribute = 42\n",
    "\n",
    "    def set_private_attribute(self, new_value):\n",
    "        if new_value >= 0:\n",
    "            self.__private_attribute = new_value\n",
    "            "
   ]
  },
  {
   "cell_type": "code",
   "execution_count": null,
   "id": "982d6963-bd7a-461f-abf3-0832af828221",
   "metadata": {},
   "outputs": [],
   "source": [
    "'''\n",
    "Accessors and mutators are methods that are used to get and set the values of private attributes in a class. They are \n",
    "essential for encapsulation, which is a programming principle that allows us to hide the internal implementation of a \n",
    "class from other classes.\n",
    "\n",
    "Encapsulation has many benefits, including:\n",
    "\n",
    "Data protection: By making attributes private and only accessible through accessors and mutators, we can prevent other classes \n",
    "from accidentally or maliciously modifying our data. Modularity: Encapsulation allows us to design classes that are independent of\n",
    "each other. This makes our code more reusable and maintainable.\n",
    "\n",
    "Abstraction: Encapsulation allows us to hide the complexity of our code from other classes. This makes our code easier to understand \n",
    "and use. Accessors and mutators help us maintain control over attribute access in the following ways:\n",
    "\n",
    "They allow us to validate input: Before setting the value of an attribute, we can use the mutator method to validate the input to make\n",
    "sure that it is valid. For example, we could check that a grade is between 0 and 100 before setting it.\n",
    "\n",
    "They allow us to perform additional operations: Before or after getting or setting the value of an attribute, we can use the accessor \n",
    "or mutator method to perform additional operations. For example, we could log the access or modification of an attribute. They allow us\n",
    "to restrict access to certain attributes: We can choose to only provide an accessor or mutator method for certain attributes, making them\n",
    "read-only or write-only. This can be useful for protecting sensitive data or for preventing other classes from modifying the state of our \n",
    "object in an unexpected way.\n",
    "'''\n"
   ]
  },
  {
   "cell_type": "code",
   "execution_count": null,
   "id": "2c86a49e-b2ac-45a0-8f95-bad9059b02d9",
   "metadata": {},
   "outputs": [],
   "source": []
  },
  {
   "cell_type": "markdown",
   "id": "f9711572-5dca-4332-b149-6a30ee6967d4",
   "metadata": {},
   "source": [
    "### 16. What are the potential drawbacks or disadvantages of using encapsulation in Python?"
   ]
  },
  {
   "cell_type": "code",
   "execution_count": 24,
   "id": "e4144ae9-9ced-4a77-ac0a-7bce5017c608",
   "metadata": {},
   "outputs": [
    {
     "name": "stdout",
     "output_type": "stream",
     "text": [
      "Length : 5\n",
      "Width : 3\n",
      "Area of Rectangle : 32\n"
     ]
    }
   ],
   "source": [
    "'''\n",
    "Potential drawbacks of using encapsulation in Python:\n",
    "\n",
    "1. Increased code complexity and verbosity\n",
    "2. Reduced performance\n",
    "3. Increased difficulty of debugging\n",
    "4. Increased risk of introducing bugs\n",
    "5. Reduced flexibility\n",
    "6. Increased code execution: Encapsulation results in an increase in the duration of the program execution. It is because more \n",
    "instructions are added to the code therefore they require more time to execute\n",
    "\n",
    "Encapsulation in Python may introduce overhead and verbosity, restricts direct access, has a learning curve, and requires \n",
    "maintenance, with a potential trade-off between control and flexibility.\n",
    "\n",
    "'''\n",
    "#Certainly, let's consider a simple example illustrating encapsulation with accessors and mutators:\n",
    "class Rectangle:\n",
    "    def __init__(self, length, width):\n",
    "        self.__length = length  # Private attribute\n",
    "        self.__width = width    # Private attribute\n",
    "\n",
    "    @property\n",
    "    def length(self):\n",
    "        return self.__length\n",
    "\n",
    "    @property\n",
    "    def width(self):\n",
    "        return self.__width\n",
    "\n",
    "    @length.setter\n",
    "    def length(self, new_length):\n",
    "        if new_length > 0:\n",
    "            self.__length = new_length\n",
    "\n",
    "    @width.setter\n",
    "    def width(self, new_width):\n",
    "        if new_width > 0:\n",
    "            self.__width = new_width\n",
    "\n",
    "    def calculate_area(self):\n",
    "        return self.__length * self.__width\n",
    "\n",
    "# Example of using the Rectangle class\n",
    "rectangle = Rectangle(length=5, width=3)\n",
    "\n",
    "# Accessing attributes using accessors\n",
    "print(f\"Length : {rectangle.length}\")  # Output: Length: 5\n",
    "print(f\"Width : {rectangle.width}\")    # Output: Width: 3\n",
    "\n",
    "# Modifying attributes using mutators\n",
    "rectangle.length = 8\n",
    "rectangle.width = 4\n",
    "\n",
    "# Calculating area\n",
    "area = rectangle.calculate_area()\n",
    "print(f\"Area of Rectangle : {area}\")  # Output: Area: 32\n"
   ]
  },
  {
   "cell_type": "code",
   "execution_count": null,
   "id": "c074ac95-a3d9-4f7e-a3f2-079d7635a5f2",
   "metadata": {},
   "outputs": [],
   "source": []
  },
  {
   "cell_type": "markdown",
   "id": "c1fe867b-0576-4363-afd2-2ad95cb50efc",
   "metadata": {},
   "source": [
    "### 17. Create a Python class for a library system that encapsulates book information, including titles, authors, and availability status."
   ]
  },
  {
   "cell_type": "code",
   "execution_count": 29,
   "id": "46a9a170-dfa7-4eb8-852c-8034eebe853a",
   "metadata": {},
   "outputs": [
    {
     "name": "stdout",
     "output_type": "stream",
     "text": [
      "Book1 :\n",
      "Author: J.k Rowling\n",
      "Title: harry potter\n",
      "Avalibility status: issued\n",
      "\n",
      "Book2 :\n",
      "Author: F. Scott Fitzgerald\n",
      "Title: The Great Gatsby\n",
      "Avalibility status: issued\n",
      "\n",
      "Book3 :\n",
      "Author: Harper Lee\n",
      "Title: To Kill a Mockingbird\n",
      "Avalibility status: Not issued\n"
     ]
    }
   ],
   "source": [
    "\n",
    "class library:\n",
    "  def __init__(self, title, author, availability_status):\n",
    "    self.__title = title\n",
    "    self.__author = author\n",
    "    self.__availability_status = availability_status\n",
    "  \n",
    "\n",
    "  def get_title(self):\n",
    "    return self.__title\n",
    "\n",
    "\n",
    "  def get_author(self):\n",
    "    return self.__author\n",
    "  \n",
    "  \n",
    "  def get_availability_status(self):\n",
    "    return self.__availability_status\n",
    "\n",
    "book1 = library(\"harry potter\", \"J.k Rowling\", \"issued\")\n",
    "print(f\"Book1 :\")\n",
    "print(f\"Author: {book1.get_author()}\")\n",
    "print(f\"Title: {book1.get_title()}\")\n",
    "print(f\"Avalibility status: {book1.get_availability_status()}\")\n",
    "\n",
    "book2 = library(\"The Great Gatsby\", \"F. Scott Fitzgerald\", \"issued\")\n",
    "print(f\"\\nBook2 :\")\n",
    "print(f\"Author: {book2.get_author()}\")\n",
    "print(f\"Title: {book2.get_title()}\")\n",
    "print(f\"Avalibility status: {book1.get_availability_status()}\")\n",
    "\n",
    "book3 = library(\"To Kill a Mockingbird\", \"Harper Lee\", \"Not issued\")\n",
    "print(f\"\\nBook3 :\")\n",
    "print(f\"Author: {book3.get_author()}\")\n",
    "print(f\"Title: {book3.get_title()}\")\n",
    "print(f\"Avalibility status: {book3.get_availability_status()}\")\n",
    "\n",
    "#try to access book title, author and availability status. This will give you error as they are private attributes\n",
    "# print(Book1)\n",
    "# print(book1.__title)\n",
    "# print(book1.__author)\n",
    "# print(book1.__availability_status)\n",
    "\n",
    "#try to access book title, author and availability status. This will give you error as they are private attributes\n",
    "# print(Book2)\n",
    "# print(book2.__title)\n",
    "# print(book2.__author)\n",
    "# print(book2.__availability_status)\n",
    "\n",
    "#try to access book title, author and availability status. This will give you error as they are private attributes\n",
    "# print(Book3)\n",
    "# print(book3.__title)\n",
    "# print(book3.__author)\n",
    "# print(book3.__availability_status)\n"
   ]
  },
  {
   "cell_type": "code",
   "execution_count": null,
   "id": "47bbee7a-30f7-461d-96fc-c34c2ed0eac9",
   "metadata": {},
   "outputs": [],
   "source": []
  },
  {
   "cell_type": "markdown",
   "id": "afbc41e9-895e-4459-8555-09b0d5c5d249",
   "metadata": {},
   "source": [
    "### 18. Explain how encapsulation enhances code reusability and modularity in Python programs."
   ]
  },
  {
   "cell_type": "code",
   "execution_count": null,
   "id": "f2c915df-88b8-4175-bbda-d59164f0aa3f",
   "metadata": {},
   "outputs": [],
   "source": [
    "'''\n",
    "Encapsulation enhances code reusability and modularity in Python by:\n",
    "\n",
    "1. Allowing you to create self-contained units of code that can be reused in different parts of your program.\n",
    "2. Helping you to group related functionality together into classes, making your code easier to understand, maintain, and test.\n",
    "\n",
    "Examples:\n",
    "\n",
    "1. Create a class to represent a database connection and reuse it in different parts of your program to connect to and interact\n",
    "with the database.\n",
    "2. Create a class to represent a web service and reuse it in different parts of your program to make requests to and receive responses\n",
    "from the web service.\n",
    "3. Create a class to represent a user interface element, such as a button or a text box, and reuse it in different parts of your\n",
    "program to create user interfaces.\n",
    "'''"
   ]
  },
  {
   "cell_type": "code",
   "execution_count": 30,
   "id": "955e9d01-1f4d-4f91-9965-9e778da235d0",
   "metadata": {},
   "outputs": [
    {
     "name": "stdout",
     "output_type": "stream",
     "text": [
      "Jeevan is 21 years old.\n",
      "Bhim is 25 years old.\n",
      "Name : Jeevan, Age : 31\n",
      "Name : Bhim, Age : 27\n"
     ]
    }
   ],
   "source": [
    "'''\n",
    "By restricting direct access to an object's attributes, we avoid unintentional data manipulation and expose only necessary\n",
    "functionalities. \n",
    "Modularity and Reusability: By bundling related data and functionality into classes, we achieve modularity, making it\n",
    "simple to understand, refactor, and reuse code.\n",
    "'''\n",
    "\n",
    "class Person:\n",
    "    def __init__(self, name, age):\n",
    "        self.__name = name      # Encapsulated private attribute\n",
    "        self.__age = age        # Encapsulated private attribute\n",
    "\n",
    "    @property\n",
    "    def name(self):\n",
    "        return self.__name\n",
    "\n",
    "    @property\n",
    "    def age(self):\n",
    "        return self.__age\n",
    "\n",
    "    @age.setter\n",
    "    def age(self, new_age):\n",
    "        if 0 <= new_age <= 150:  # Validating age to be within a reasonable range\n",
    "            self.__age = new_age\n",
    "\n",
    "    def display_info(self):\n",
    "        print(f\"Name : {self.__name}, Age : {self.__age}\")\n",
    "\n",
    "\n",
    "# Example of using the Person class in a program\n",
    "person1 = Person(name=\"Jeevan\", age=21)\n",
    "person2 = Person(name=\"Bhim\", age=25)\n",
    "\n",
    "# Displaying information using encapsulated getters\n",
    "print(f\"{person1.name} is {person1.age} years old.\")\n",
    "print(f\"{person2.name} is {person2.age} years old.\")\n",
    "\n",
    "# Modifying information using encapsulated setters\n",
    "person1.age = 31\n",
    "person2.age = 27\n",
    "\n",
    "# Displaying updated information\n",
    "person1.display_info()\n",
    "person2.display_info()\n"
   ]
  },
  {
   "cell_type": "code",
   "execution_count": null,
   "id": "af6d1f8a-6603-48a2-9a45-f6fae23bfeac",
   "metadata": {},
   "outputs": [],
   "source": []
  },
  {
   "cell_type": "markdown",
   "id": "cd3e1d86-ad0a-4500-a95c-90b6b2d94be1",
   "metadata": {},
   "source": [
    "### 19. Describe the concept of information hiding in encapsulation. Why is it essential in software development?"
   ]
  },
  {
   "cell_type": "code",
   "execution_count": null,
   "id": "06444b44-8b29-4731-ab9f-8bb9da466646",
   "metadata": {},
   "outputs": [],
   "source": [
    "'''\n",
    "Information hiding in encapsulation is the concept of protecting the internal implementation details of a class from \n",
    "being accessed by external code. This is done by making the class's private members inaccessible outside of the class. \n",
    "\n",
    "Information hiding is essential in software development because it helps to:\n",
    "1. Protect the data from accidental modification or misuse. When the data is hidden, it can only be accessed through \n",
    "the class's public methods. This helps to prevent external code from accidentally modifying the data or using it in \n",
    "an unintended way.\n",
    "\n",
    "2. Promote abstraction : Abstraction is the process of hiding the implementation details of a class and exposing only \n",
    "the essential information to the outside world. Information hiding helps to achieve abstraction by hiding the class's \n",
    "private members and exposing only the public methods. This makes the class easier to use and understand, and it also makes\n",
    "it more flexible and adaptable to change.\n",
    "\n",
    "3. Reduce coupling : Coupling is the degree to which different parts of a software system are dependent on each other. \n",
    "Information hiding helps to reduce coupling by making the class's private members inaccessible outside of the class.\n",
    "This means that changes to the class's internal implementation will not affect other parts of the system that depend on \n",
    "the class.\n",
    "'''"
   ]
  },
  {
   "cell_type": "code",
   "execution_count": 31,
   "id": "12ce010a-78f4-4e2e-90dc-c79bb6d1ac7c",
   "metadata": {},
   "outputs": [
    {
     "name": "stdout",
     "output_type": "stream",
     "text": [
      "Current balance : $1000\n",
      "Deposited $500. New balance: $1500\n",
      "Withdrew $200. New balance: $1300\n",
      "Withdrew $1200. New balance: $100\n",
      "Final balance : $100\n"
     ]
    }
   ],
   "source": [
    "'''\n",
    "Information hiding is a crucial concept in encapsulation that involves restricting access to certain details of a class\n",
    "or module,revealing only what is necessary for the external world to interact with the functionality provided.\n",
    "'''\n",
    "\n",
    "#BankAccount class where the balance is a private attribute, and users can interact with the account through deposit and withdraw methods:\n",
    "class BankAccount:\n",
    "    def __init__(self, initial_balance=0):\n",
    "        self.__balance = initial_balance  # Private attribute\n",
    "\n",
    "    def deposit(self, amount):\n",
    "        if amount > 0:\n",
    "            self.__balance += amount\n",
    "            print(f\"Deposited ${amount}. New balance: ${self.__balance}\")\n",
    "\n",
    "    def withdraw(self, amount):\n",
    "        if 0 < amount <= self.__balance:\n",
    "            self.__balance -= amount\n",
    "            print(f\"Withdrew ${amount}. New balance: ${self.__balance}\")\n",
    "        else:\n",
    "            print(\"Insufficient funds. Withdrawal canceled.\")\n",
    "\n",
    "    def get_balance(self):\n",
    "        return self.__balance\n",
    "\n",
    "\n",
    "# Example of using the BankAccount class\n",
    "account = BankAccount(initial_balance=1000)\n",
    "\n",
    "# Attempting to access the private attribute directly (not allowed)\n",
    "# print(account.__balance)  # This would raise an AttributeError\n",
    "\n",
    "# Accessing the balance through the public method (get_balance)\n",
    "current_balance = account.get_balance()\n",
    "print(f\"Current balance : ${current_balance}\")\n",
    "\n",
    "# Depositing and withdrawing money\n",
    "account.deposit(500)\n",
    "account.withdraw(200)\n",
    "account.withdraw(1200)  # This will be rejected due to insufficient funds\n",
    "\n",
    "# Checking the final balance\n",
    "final_balance = account.get_balance()\n",
    "print(f\"Final balance : ${final_balance}\")\n"
   ]
  },
  {
   "cell_type": "code",
   "execution_count": null,
   "id": "f5cbda7b-aaf4-4d0b-9d34-4f10ce03228f",
   "metadata": {},
   "outputs": [],
   "source": []
  },
  {
   "cell_type": "markdown",
   "id": "b09a3dfa-3203-45a9-8d65-54f8c3f3ad58",
   "metadata": {},
   "source": [
    "### 20. Create a Python class called `Customer` with private attributes for customer details like name, address, and contact information. Implement encapsulation to ensure data integrity and security."
   ]
  },
  {
   "cell_type": "code",
   "execution_count": 32,
   "id": "3f3368c8-b271-43b4-bbd3-4e4ad7f176bc",
   "metadata": {},
   "outputs": [
    {
     "name": "stdout",
     "output_type": "stream",
     "text": [
      "Customer Name : Swati\n",
      "Customer Address : 123 New delhi\n",
      "Customer Contact : swati@example.com\n",
      "Customer Information :\n",
      "Name : Sheetal\n",
      "Address : 456 Rajasthan\n",
      "Contact : sheetal@example.com\n"
     ]
    }
   ],
   "source": [
    "class Customer:\n",
    "    def __init__(self, name, address, contact_info):\n",
    "        self.__name = name               # Private attribute\n",
    "        self.__address = address         # Private attribute\n",
    "        self.__contact_info = contact_info  # Private attribute\n",
    "\n",
    "    # Getter methods for accessing private attributes\n",
    "    @property\n",
    "    def name(self):\n",
    "        return self.__name\n",
    "\n",
    "    @property\n",
    "    def address(self):\n",
    "        return self.__address\n",
    "\n",
    "    @property\n",
    "    def contact_info(self):\n",
    "        return self.__contact_info\n",
    "\n",
    "    # Setter methods for modifying private attributes\n",
    "    @name.setter\n",
    "    def name(self, new_name):\n",
    "        if new_name:\n",
    "            self.__name = new_name\n",
    "\n",
    "    @address.setter\n",
    "    def address(self, new_address):\n",
    "        if new_address:\n",
    "            self.__address = new_address\n",
    "\n",
    "    @contact_info.setter\n",
    "    def contact_info(self, new_contact_info):\n",
    "        if new_contact_info:\n",
    "            self.__contact_info = new_contact_info\n",
    "\n",
    "    def display_info(self):\n",
    "        print(f\"Customer Information :\\nName : {self.__name}\\nAddress : {self.__address}\\nContact : {self.__contact_info}\")\n",
    "\n",
    "\n",
    "# Example of using the Customer class\n",
    "customer = Customer(name=\"Swati\", address=\"123 New delhi\", contact_info=\"swati@example.com\")\n",
    "\n",
    "# Accessing private attributes using getters\n",
    "print(f\"Customer Name : {customer.name}\")\n",
    "print(f\"Customer Address : {customer.address}\")\n",
    "print(f\"Customer Contact : {customer.contact_info}\")\n",
    "\n",
    "# Modifying private attributes using setters\n",
    "customer.name = \"Sheetal\"\n",
    "customer.address = \"456 Rajasthan\"\n",
    "customer.contact_info = \"sheetal@example.com\"\n",
    "\n",
    "# Displaying updated customer information\n",
    "customer.display_info()\n"
   ]
  },
  {
   "cell_type": "code",
   "execution_count": null,
   "id": "7801de62-d6a9-4e35-b9f7-784a87c0e483",
   "metadata": {},
   "outputs": [],
   "source": []
  },
  {
   "cell_type": "code",
   "execution_count": null,
   "id": "287d602c-d52a-41a5-ac1a-2c4e7035f7f9",
   "metadata": {},
   "outputs": [],
   "source": []
  },
  {
   "cell_type": "markdown",
   "id": "7a2c8657-75bd-4042-baad-64727c2d869d",
   "metadata": {},
   "source": [
    "# Polymorphism:\n",
    "---"
   ]
  },
  {
   "cell_type": "markdown",
   "id": "00386432-5aa1-4458-bee3-48a505a0efbb",
   "metadata": {},
   "source": [
    "### 1. What is polymorphism in Python? Explain how it is related to object-oriented programming."
   ]
  },
  {
   "cell_type": "code",
   "execution_count": 1,
   "id": "7f5369c9-5852-4d84-b166-cd34b5a5421a",
   "metadata": {
    "tags": []
   },
   "outputs": [
    {
     "name": "stdout",
     "output_type": "stream",
     "text": [
      "30\n",
      "17\n"
     ]
    }
   ],
   "source": [
    "'''\n",
    "Polymorphism is a fundamental concept in object-oriented programming that allows for the same function to be used with \n",
    "different types of objects. This is achieved through the use of inheritance and method overriding. In Python, polymorphism \n",
    "is implemented through duck typing, which means that the type of an object is determined by its methods, rather than its \n",
    "class. This allows for greater flexibility and code reuse. \n",
    "It is one of the four pillars of object-oriented programming (OOP), along with encapsulation, inheritance, and abstraction.\n",
    "'''\n",
    "class MathOperations:\n",
    "    def multiplication(self, a, b):\n",
    "        return a * b\n",
    "\n",
    "    def add_three(self, a, b, c):\n",
    "        return a + b + c\n",
    "\n",
    "# Creating an instance of the MathOperations class\n",
    "math_ops = MathOperations()\n",
    "\n",
    "# Calling the appropriate method based on the number of arguments\n",
    "result1 = math_ops.multiplication(10, 3)        # Calls the mulltiplication method\n",
    "result2 = math_ops.add_three(10, 3, 4)     # Calls the second add method\n",
    "\n",
    "print(result1)  # Output: 30\n",
    "print(result2)  # Output: 17\n"
   ]
  },
  {
   "cell_type": "code",
   "execution_count": null,
   "id": "b13368f7-10a6-43e8-b76b-6bc4232ed722",
   "metadata": {},
   "outputs": [],
   "source": []
  },
  {
   "cell_type": "markdown",
   "id": "084da87e-08c1-4347-afb8-04f58c187287",
   "metadata": {},
   "source": [
    "### 2. Describe the difference between compile-time polymorphism and runtime polymorphism in Python."
   ]
  },
  {
   "cell_type": "code",
   "execution_count": null,
   "id": "c66f76f1-6a29-4bd2-987c-f1ea7af01937",
   "metadata": {},
   "outputs": [],
   "source": [
    "'''\n",
    "Compile-time polymorphism is the ability of a compiler to determine the type of an object and call the appropriate\n",
    "method. It is also known as method overloading.\n",
    "\n",
    "Runtime polymorphism is the ability of an object to take on multiple forms at runtime. It is also known as method overriding.\n",
    "\n",
    "Compile-time polymorphism is implemented in Python using method overloading. Method overloading allows you to define multiple \n",
    "methods with the same name, but with different parameters. The compiler will then call the appropriate method based on the \n",
    "types of the arguments that are passed to it.\n",
    "\n",
    "Runtime polymorphism is implemented in Python using method overriding. Method overriding allows you to redefine a method \n",
    "in a child class. When the method is called on an object of the child class, the overridden method will be called instead of \n",
    "the original method.\n",
    "\n",
    "Compile time polymorphism is the ability of a compiler to determine the type of an object and call appropriate method. it \n",
    "is also known as method overloading. runtime polymorphism is the ability of an object to take on multiple forms at runtime. \n",
    "It is also known as method overriding. Compile time polymorphism is implemented in python using method overloading.\n",
    "'''"
   ]
  },
  {
   "cell_type": "code",
   "execution_count": 2,
   "id": "03ac7727-261c-464d-b946-0d8c8bc11f9c",
   "metadata": {},
   "outputs": [
    {
     "name": "stdout",
     "output_type": "stream",
     "text": [
      "5\n",
      "9\n"
     ]
    }
   ],
   "source": [
    "'''\n",
    "Compile-time polymorphism:\n",
    "Also known as method overloading, it involves defining multiple methods with the same name in the same class but with different\n",
    "parameter types or a different number of parameters. The correct method is selected at compile time based on the method signature.\n",
    "'''\n",
    "#Compile-time (Static) Polymorphism:\n",
    "class MathOperations:\n",
    "    def add(self, a, b):\n",
    "        return a + b\n",
    "\n",
    "    def add_three(self, a, b, c):\n",
    "        return a + b + c\n",
    "\n",
    "# Creating an instance of the MathOperations class\n",
    "math_ops = MathOperations()\n",
    "\n",
    "# Calling the appropriate method based on the number of arguments\n",
    "result1 = math_ops.add(2, 3)        # Calls the first add method\n",
    "result2 = math_ops.add_three(2, 3, 4)     # Calls the second add method\n",
    "\n",
    "print(result1)  # Output: 5\n",
    "print(result2)  # Output: 9\n"
   ]
  },
  {
   "cell_type": "code",
   "execution_count": 3,
   "id": "0e465b55-3092-4aaa-b41c-bab7b6a3e105",
   "metadata": {},
   "outputs": [
    {
     "name": "stdout",
     "output_type": "stream",
     "text": [
      "Woof!\n",
      "Meow!\n"
     ]
    }
   ],
   "source": [
    "'''\n",
    "Runtime polymorphism:\n",
    "Also known as method overriding, it involves defining a method in the base class and then redefining it in the \n",
    "derived class. The correct method is selected at runtime based on the type of the object.\n",
    "'''\n",
    "\n",
    "#Run-time (Dynamic) Polymorphism:\n",
    "class Animal:\n",
    "    def make_sound(self):\n",
    "        pass\n",
    "\n",
    "class Dog(Animal):\n",
    "    def make_sound(self):\n",
    "        return \"Woof!\"\n",
    "\n",
    "class Cat(Animal):\n",
    "    def make_sound(self):\n",
    "        return \"Meow!\"\n",
    "\n",
    "def animal_speak(animal):\n",
    "    return animal.make_sound()\n",
    "\n",
    "dog = Dog()\n",
    "cat = Cat()\n",
    "\n",
    "print(animal_speak(dog))  # Outputs: Woof!\n",
    "print(animal_speak(cat))  # Outputs: Meow!\n"
   ]
  },
  {
   "cell_type": "code",
   "execution_count": null,
   "id": "3999bf7b-56d6-459c-8b11-32c5895f02a7",
   "metadata": {},
   "outputs": [],
   "source": []
  },
  {
   "cell_type": "markdown",
   "id": "892215f5-0945-4ffa-bf70-d5f753b1b99b",
   "metadata": {
    "tags": []
   },
   "source": [
    "### 3. Create a Python class hierarchy for shapes (e.g., circle, square, triangle) and demonstrate polymorphism through a common method, such as `calculate_area()`."
   ]
  },
  {
   "cell_type": "code",
   "execution_count": 4,
   "id": "e8637f92-cf24-4bc3-b032-4d5a5b20ca82",
   "metadata": {},
   "outputs": [
    {
     "name": "stdout",
     "output_type": "stream",
     "text": [
      "The area of the shape is: 78.53981633974483\n",
      "The area of the shape is: 16\n",
      "The area of the shape is: 9.0\n"
     ]
    }
   ],
   "source": [
    "import math\n",
    "\n",
    "# Base class for shapes\n",
    "class Shape:\n",
    "    def calculate_area(self):\n",
    "        pass  # This method will be overridden by subclasses\n",
    "\n",
    "# Circle class\n",
    "class Circle(Shape):\n",
    "    def __init__(self, radius):\n",
    "        self.radius = radius\n",
    "\n",
    "    def calculate_area(self):\n",
    "        return math.pi * self.radius ** 2\n",
    "\n",
    "# Square class\n",
    "class Square(Shape):\n",
    "    def __init__(self, side_length):\n",
    "        self.side_length = side_length\n",
    "\n",
    "    def calculate_area(self):\n",
    "        return self.side_length ** 2\n",
    "\n",
    "# Triangle class\n",
    "class Triangle(Shape):\n",
    "    def __init__(self, base, height):\n",
    "        self.base = base\n",
    "        self.height = height\n",
    "\n",
    "    def calculate_area(self):\n",
    "        return 0.5 * self.base * self.height\n",
    "\n",
    "# Function to calculate and print the area of a shape\n",
    "def print_area(shape):\n",
    "    area = shape.calculate_area()\n",
    "    print(f\"The area of the shape is: {area}\")\n",
    "\n",
    "# Creating instances of different shapes\n",
    "circle = Circle(radius=5)\n",
    "square = Square(side_length=4)\n",
    "triangle = Triangle(base=6, height=3)\n",
    "\n",
    "# Demonstrating polymorphism by calling the common method on different shapes\n",
    "print_area(circle)    # Output: The area of the shape is: 78.53981633974483\n",
    "print_area(square)    # Output: The area of the shape is: 16\n",
    "print_area(triangle)  # Output: The area of the shape is: 9.0\n"
   ]
  },
  {
   "cell_type": "code",
   "execution_count": null,
   "id": "8a5061d6-264f-4ccc-ba11-acf1abde6441",
   "metadata": {},
   "outputs": [],
   "source": []
  },
  {
   "cell_type": "markdown",
   "id": "ec57ee86-d8fe-4162-b3df-5c51ea28842c",
   "metadata": {},
   "source": [
    "### 4. Explain the concept of method overriding in polymorphism. Provide an example."
   ]
  },
  {
   "cell_type": "code",
   "execution_count": null,
   "id": "05b93bae-e6e1-4b41-b85d-5e106413418d",
   "metadata": {},
   "outputs": [],
   "source": [
    "'''\n",
    "Method overriding is a concept in object-oriented programming (OOP) that allows a subclass to provide a specific\n",
    "implementation of a method that is already defined in its superclass. When a method is overridden, it means that\n",
    "the subclass provides its own version of the method, effectively replacing or extending the behavior of the method \n",
    "in the superclass.\n",
    "\n",
    "In Python, method overriding is a form of runtime polymorphism, where the specific method that gets executed is \n",
    "determined dynamically during runtime based on the actual type of the object.\n",
    "'''"
   ]
  },
  {
   "cell_type": "code",
   "execution_count": 5,
   "id": "aa4b12a7-163f-4a47-bb40-b8942ff4faa6",
   "metadata": {},
   "outputs": [
    {
     "name": "stdout",
     "output_type": "stream",
     "text": [
      "Woof!\n",
      "Meow!\n"
     ]
    }
   ],
   "source": [
    "'''\n",
    "The overridden method in the subclass has the same signature (name, return type, and parameters) as the method in the superclass.\n",
    "'''\n",
    "class Animal:\n",
    "    def make_sound(self):\n",
    "        return \"Generic animal sound\"\n",
    "\n",
    "class Dog(Animal):\n",
    "    def make_sound(self):\n",
    "        return \"Woof!\"\n",
    "\n",
    "class Cat(Animal):\n",
    "    def make_sound(self):\n",
    "        return \"Meow!\"\n",
    "\n",
    "# Creating instances of the subclasses\n",
    "dog = Dog()\n",
    "cat = Cat()\n",
    "\n",
    "# Calling the overridden method on each object\n",
    "print(dog.make_sound())  # Output: Woof!\n",
    "print(cat.make_sound())  # Output: Meow!\n"
   ]
  },
  {
   "cell_type": "code",
   "execution_count": null,
   "id": "09f75ca9-79f1-4cda-8944-38234f1f3a73",
   "metadata": {},
   "outputs": [],
   "source": []
  },
  {
   "cell_type": "markdown",
   "id": "cd0480c6-7077-41ee-932a-a1beef1fa900",
   "metadata": {},
   "source": [
    "### 5. How is polymorphism different from method overloading in Python? Provide examples for both."
   ]
  },
  {
   "cell_type": "code",
   "execution_count": 6,
   "id": "6bf084c0-545e-48d3-a4b4-e53660605116",
   "metadata": {},
   "outputs": [
    {
     "name": "stdout",
     "output_type": "stream",
     "text": [
      "Woof!\n",
      "Meow!\n"
     ]
    }
   ],
   "source": [
    "'''Polymorphism and method overloading are both concepts in object-oriented programming, but they are different \n",
    "in terms of their implementations and use cases.\n",
    "In Python, polymorphism and method overloading are related concepts but are distinct from each other. \n",
    "Polymorphism allows objects of different types to be treated as objects of a common type. \n",
    "In Python, polymorphism is achieved through duck typing, where the type or class of an object is determined\n",
    "by its behavior, rather than its explicit type.\n",
    "'''\n",
    "class Animal:\n",
    "    def make_sound(self):\n",
    "        pass\n",
    "\n",
    "class Dog(Animal):\n",
    "    def make_sound(self):\n",
    "        return \"Woof!\"\n",
    "\n",
    "class Cat(Animal):\n",
    "    def make_sound(self):\n",
    "        return \"Meow!\"\n",
    "\n",
    "# Polymorphism in action\n",
    "def animal_sound(animal):\n",
    "    return animal.make_sound()\n",
    "\n",
    "# Both Dog and Cat can be treated as types of animals\n",
    "dog = Dog()\n",
    "cat = Cat()\n",
    "\n",
    "print(animal_sound(dog))  # Output: Woof!\n",
    "print(animal_sound(cat))  # Output: Meow!\n"
   ]
  },
  {
   "cell_type": "code",
   "execution_count": 7,
   "id": "bc67c3e4-ac91-4409-9afd-a16bf2b4530a",
   "metadata": {},
   "outputs": [],
   "source": [
    "'''\n",
    "Method overloading allows a class to define multiple methods with the same name but with a different number or type of parameters.\n",
    "'''\n",
    "#For example\n",
    "class MathOperations:\n",
    "    def add(self, a, b):\n",
    "        return a + b\n",
    "\n",
    "    def add(self, a, b, c):\n",
    "        return a + b + c\n",
    "\n",
    "math_obj = MathOperations()\n"
   ]
  },
  {
   "cell_type": "code",
   "execution_count": 8,
   "id": "1443d784-552f-4139-acdf-ec63f257ce7d",
   "metadata": {},
   "outputs": [
    {
     "ename": "TypeError",
     "evalue": "MathOperations.add() missing 1 required positional argument: 'c'",
     "output_type": "error",
     "traceback": [
      "\u001b[0;31m---------------------------------------------------------------------------\u001b[0m",
      "\u001b[0;31mTypeError\u001b[0m                                 Traceback (most recent call last)",
      "Cell \u001b[0;32mIn[8], line 1\u001b[0m\n\u001b[0;32m----> 1\u001b[0m result1 \u001b[38;5;241m=\u001b[39m \u001b[43mmath_obj\u001b[49m\u001b[38;5;241;43m.\u001b[39;49m\u001b[43madd\u001b[49m\u001b[43m(\u001b[49m\u001b[38;5;241;43m2\u001b[39;49m\u001b[43m,\u001b[49m\u001b[43m \u001b[49m\u001b[38;5;241;43m3\u001b[39;49m\u001b[43m)\u001b[49m  \u001b[38;5;66;03m# This will not work due to compile-time error\u001b[39;00m\n",
      "\u001b[0;31mTypeError\u001b[0m: MathOperations.add() missing 1 required positional argument: 'c'"
     ]
    }
   ],
   "source": [
    "result1 = math_obj.add(2, 3)  # This will not work due to compile-time error"
   ]
  },
  {
   "cell_type": "code",
   "execution_count": 9,
   "id": "4cc46927-44df-4a41-acb0-3ab7e21d505e",
   "metadata": {},
   "outputs": [
    {
     "name": "stdout",
     "output_type": "stream",
     "text": [
      "9\n"
     ]
    }
   ],
   "source": [
    "result2 = math_obj.add(2, 3, 4)  # This will work\n",
    "print(result2)\n"
   ]
  },
  {
   "cell_type": "code",
   "execution_count": null,
   "id": "8c622df6-fe8b-4197-aa1b-d063293590ee",
   "metadata": {},
   "outputs": [],
   "source": []
  },
  {
   "cell_type": "markdown",
   "id": "c6d33e2d-e674-4f04-ba42-1c63cdd0758a",
   "metadata": {
    "tags": []
   },
   "source": [
    "### 6. Create a Python class called `Animal` with a method `speak()`. Then, create child classes like `Dog`, `Cat`, and `Bird`, each with their own `speak()` method. Demonstrate polymorphism by calling the `speak()` method on objects of different subclasses."
   ]
  },
  {
   "cell_type": "code",
   "execution_count": 10,
   "id": "d0636cf9-835d-48d8-b019-bfa0f4a1a28f",
   "metadata": {},
   "outputs": [
    {
     "name": "stdout",
     "output_type": "stream",
     "text": [
      "Dog sound : Woof!\n",
      "Cat sound : Meow!\n",
      "Bird sound : Chirp!\n"
     ]
    }
   ],
   "source": [
    "class Animal:\n",
    "    def speak(self):\n",
    "        return \"Generic animal sound\"\n",
    "\n",
    "class Dog(Animal):\n",
    "    def speak(self):\n",
    "        return \"Dog sound : Woof!\"\n",
    "\n",
    "class Cat(Animal):\n",
    "    def speak(self):\n",
    "        return \"Cat sound : Meow!\"\n",
    "\n",
    "class Bird(Animal):\n",
    "    def speak(self):\n",
    "        return \"Bird sound : Chirp!\"\n",
    "\n",
    "# Creating instances of different subclasses\n",
    "dog = Dog()\n",
    "cat = Cat()\n",
    "bird = Bird()\n",
    "\n",
    "# Demonstrating polymorphism by calling the common method on different objects\n",
    "print(dog.speak())  # Output: Dog sound : Woof!\n",
    "print(cat.speak())  # Output: Cat sound : Meow!\n",
    "print(bird.speak())  # Output: Bird sound : Chirp!\n"
   ]
  },
  {
   "cell_type": "code",
   "execution_count": null,
   "id": "db0be50d-ab65-47ed-8db5-332fe17c016a",
   "metadata": {},
   "outputs": [],
   "source": []
  },
  {
   "cell_type": "markdown",
   "id": "b23a5626-b8bd-407d-8058-e98e0dd516e1",
   "metadata": {},
   "source": [
    "### 7. Discuss the use of abstract methods and classes in achieving polymorphism in Python. Provide an example using the `abc` module."
   ]
  },
  {
   "cell_type": "code",
   "execution_count": 11,
   "id": "983e8024-597f-4171-a8c4-35f70e54ca7c",
   "metadata": {},
   "outputs": [
    {
     "name": "stdout",
     "output_type": "stream",
     "text": [
      "Woof!\n",
      "Meow!\n",
      "Tweet!\n"
     ]
    }
   ],
   "source": [
    "'''\n",
    "In Python, abstract methods and classes provide a way to enforce a certain structure in subclasses, ensuring that they implement \n",
    "specific methods. This is particularly useful for achieving polymorphism, as it allows us to define a common interface that \n",
    "multiple classes must adhere to.\n",
    "\n",
    "The abc module (Abstract Base Classes) in Python provides the tools to create abstract classes and abstract methods. An abstract class\n",
    "cannot be instantiated, and any subclass must provide concrete implementations for all abstract methods defined in the abstract base class.\n",
    "\n",
    "Here's an example demonstrating the use of the abc module to create an abstract base class and achieve polymorphism :\n",
    "'''\n",
    "from abc import ABC, abstractmethod\n",
    "\n",
    "# Abstract base class\n",
    "class Animal(ABC):\n",
    "    @abstractmethod\n",
    "    def speak(self):\n",
    "        pass  # Abstract method that must be implemented by subclasses\n",
    "\n",
    "# Concrete subclasses\n",
    "class Dog(Animal):\n",
    "    def speak(self):\n",
    "        return \"Woof!\"\n",
    "\n",
    "class Cat(Animal):\n",
    "    def speak(self):\n",
    "        return \"Meow!\"\n",
    "\n",
    "class Bird(Animal):\n",
    "    def speak(self):\n",
    "        return \"Tweet!\"\n",
    "\n",
    "# Demonstrate polymorphism\n",
    "def animal_says(animal):\n",
    "    return animal.speak()\n",
    "\n",
    "# Attempting to instantiate the abstract class will raise a TypeError\n",
    "#animal = Animal()  # Uncommenting this line will result in an error\n",
    "\n",
    "# Create instances of each concrete subclass\n",
    "dog = Dog()\n",
    "cat = Cat()\n",
    "bird = Bird()\n",
    "\n",
    "# Call the speak() method on objects of different subclasses\n",
    "print(animal_says(dog))  # Outputs: Woof!\n",
    "print(animal_says(cat))  # Outputs: Meow!\n",
    "print(animal_says(bird)) # Outputs: Tweet!\n"
   ]
  },
  {
   "cell_type": "code",
   "execution_count": null,
   "id": "6b6b4757-f30c-4fdb-b580-e14f35c2e942",
   "metadata": {},
   "outputs": [],
   "source": [
    "'''\n",
    "In this above example:\n",
    "\n",
    "The Animal class is an abstract base class (indicated by inheriting from ABC and using the @abstractmethod decorator for the speak method).\n",
    "\n",
    "The Dog, Cat, and Bird classes inherit from the Animal class and provide concrete implementations for the speak method.\n",
    "\n",
    "The animal_says function takes an Animal object as an argument and calls its speak method, demonstrating polymorphism.\n",
    "\n",
    "Attempting to create an instance of the abstract class directly (Animal()) will result in a TypeError. This ensures that subclasses\n",
    "must provide concrete implementations for all abstract methods, enforcing the desired behavior.\n",
    "'''"
   ]
  },
  {
   "cell_type": "code",
   "execution_count": null,
   "id": "a8bb34e8-190d-4770-b56e-08ab69ef86fd",
   "metadata": {},
   "outputs": [],
   "source": []
  },
  {
   "cell_type": "markdown",
   "id": "c714eaad-d233-4db6-8171-6507f071dc1e",
   "metadata": {},
   "source": [
    "### 8. Create a Python class hierarchy for a vehicle system (e.g., car, bicycle, boat) and implement a polymorphic `start()` method that prints a message specific to each vehicle type."
   ]
  },
  {
   "cell_type": "code",
   "execution_count": 12,
   "id": "c75b0ec8-0a6c-40ca-acaa-d0f829d52672",
   "metadata": {},
   "outputs": [
    {
     "name": "stdout",
     "output_type": "stream",
     "text": [
      "Car engine started. Vroom!\n",
      "Bicycle pedaling started. Ring ring!\n",
      "Boat engine started. Splashing water!\n"
     ]
    }
   ],
   "source": [
    "class Vehicle:\n",
    "    def start(self):\n",
    "        pass\n",
    "\n",
    "class Car(Vehicle):\n",
    "    def start(self):\n",
    "        return \"Car engine started. Vroom!\"\n",
    "\n",
    "class Bicycle(Vehicle):\n",
    "    def start(self):\n",
    "        return \"Bicycle pedaling started. Ring ring!\"\n",
    "\n",
    "class Boat(Vehicle):\n",
    "    def start(self):\n",
    "        return \"Boat engine started. Splashing water!\"\n",
    "\n",
    "# Function to start and print the message for any vehicle\n",
    "def start_vehicle(vehicle):\n",
    "    if isinstance(vehicle, Vehicle):  # Ensure that the object is an instance of the base class\n",
    "        message = vehicle.start()\n",
    "        print(message)\n",
    "    else:\n",
    "        print(\"Invalid vehicle object\")\n",
    "\n",
    "# Creating instances of different vehicle types\n",
    "car = Car()\n",
    "bicycle = Bicycle()\n",
    "boat = Boat()\n",
    "\n",
    "# Demonstrating polymorphism by calling the common method on different vehicles\n",
    "start_vehicle(car)      # Output: Car engine started. Vroom!\n",
    "start_vehicle(bicycle)  # Output: Bicycle pedaling started. Ring ring!\n",
    "start_vehicle(boat)     # Output: Boat engine started. Splashing water!\n"
   ]
  },
  {
   "cell_type": "code",
   "execution_count": null,
   "id": "a7f9f663-04d5-416c-aea7-0e51f8b3178a",
   "metadata": {},
   "outputs": [],
   "source": []
  },
  {
   "cell_type": "markdown",
   "id": "b5d841e9-dfda-490f-b939-c51430e6394b",
   "metadata": {},
   "source": [
    "### 9. Explain the significance of the `isinstance()` and `issubclass()` functions in Python polymorphism."
   ]
  },
  {
   "cell_type": "code",
   "execution_count": 13,
   "id": "41511246-41b9-4b70-b13d-e3e78bcf9115",
   "metadata": {},
   "outputs": [
    {
     "name": "stdout",
     "output_type": "stream",
     "text": [
      "Dog sound : Woof!\n",
      "Cat sound : Meow!\n"
     ]
    }
   ],
   "source": [
    "'''\n",
    "The isinstance() and issubclass() functions in Python play significant roles in the context of polymorphism by providing \n",
    "mechanisms to check the type and inheritance relationships between objects and classes. These functions are essential for writing\n",
    "flexible and polymorphic code. \n",
    "Here's an explanation of their significance:\n",
    "\n",
    "1. isinstance() Function :\n",
    "   Purpose: This function is used to check if an object belongs to a particular class or a tuple of classes.\n",
    "   Significance in Polymorphism:\n",
    "      * Enables dynamic type checking, allowing code to handle objects of different types in a flexible way.\n",
    "      * Facilitates polymorphic behavior by allowing code to adapt based on the actual type of an object at runtime.\n",
    "Example:\n",
    "In this example, isinstance() is used to check the type of the object passed to the animal_sound function, allowing for different \n",
    "behavior based on the actual type.\n",
    "'''\n",
    "class Animal:\n",
    "    pass\n",
    "\n",
    "class Dog(Animal):\n",
    "    pass\n",
    "\n",
    "class Cat(Animal):\n",
    "    pass\n",
    "\n",
    "# Creating instances of classes\n",
    "dog_instance = Dog()\n",
    "cat_instance = Cat()\n",
    "\n",
    "# Using isinstance() for polymorphic behavior\n",
    "def animal_sound(animal):\n",
    "    if isinstance(animal, Dog):\n",
    "        return \"Dog sound : Woof!\"\n",
    "    elif isinstance(animal, Cat):\n",
    "        return \"Cat sound : Meow!\"\n",
    "\n",
    "print(animal_sound(dog_instance))  \n",
    "print(animal_sound(cat_instance)) "
   ]
  },
  {
   "cell_type": "code",
   "execution_count": 14,
   "id": "34199c63-410a-4f8c-b2fa-7a26f4461ee1",
   "metadata": {},
   "outputs": [
    {
     "name": "stdout",
     "output_type": "stream",
     "text": [
      "Calculating area of a circle\n",
      "Calculating area of a square\n"
     ]
    }
   ],
   "source": [
    "'''\n",
    "2. issubclass() Function:\n",
    "   Purpose: This function checks if a class is a subclass of another class or a tuple of classes.\n",
    "   Significance in Polymorphism:\n",
    "      * Useful for checking class hierarchies and ensuring that a class inherits from a specific base class.\n",
    "      * Helps in designing polymorphic interfaces by verifying if a class adheres to a certain inheritance structure.\n",
    "Example:\n",
    "'''\n",
    "class Shape:\n",
    "    pass\n",
    "\n",
    "class Circle(Shape):\n",
    "    pass\n",
    "\n",
    "class Square(Shape):\n",
    "    pass\n",
    "\n",
    "# Using issubclass() for polymorphic behavior\n",
    "def area_of_shape(shape_class):\n",
    "\n",
    "    if issubclass(shape_class, Circle):\n",
    "        return \"Calculating area of a circle\"\n",
    "    elif issubclass(shape_class, Square):\n",
    "        return \"Calculating area of a square\"\n",
    "\n",
    "print(area_of_shape(Circle))  \n",
    "print(area_of_shape(Square)) \n"
   ]
  },
  {
   "cell_type": "code",
   "execution_count": null,
   "id": "0f137b4e-60a8-4999-b676-51586d3579fa",
   "metadata": {},
   "outputs": [],
   "source": []
  },
  {
   "cell_type": "markdown",
   "id": "46b8aef8-6cb5-4bda-955c-5f2607dd8b5d",
   "metadata": {},
   "source": [
    "### 10. What is the role of the `@abstractmethod` decorator in achieving polymorphism in Python? Provide an example."
   ]
  },
  {
   "cell_type": "code",
   "execution_count": 12,
   "id": "0364723f-7601-499c-922c-204146d6626c",
   "metadata": {},
   "outputs": [
    {
     "name": "stdout",
     "output_type": "stream",
     "text": [
      "The area of the shape is: ('Circle', 78.5)\n",
      "The area of the shape is: ('Square', 16)\n"
     ]
    }
   ],
   "source": [
    "'''\n",
    "The @abstractmethod decorator in Python is part of the abc module (Abstract Base Classes) and is used to define \n",
    "abstract methods in abstract base classes. Abstract methods are methods that have no implementation in the abstract class\n",
    "itself but must be implemented by concrete subclasses. The @abstractmethod decorator enforces that any concrete subclass\n",
    "must provide a concrete implementation for the abstract method, ensuring a consistent interface.\n",
    "\n",
    "The role of @abstractmethod in achieving polymorphism is to define a common interface for a group of related classes,\n",
    "allowing them to be treated interchangeably through a shared method signature. This helps in achieving polymorphic \n",
    "behavior, as different objects can respond to the same method calls in a consistent way.\n",
    "\n",
    "Here's an example illustrating the use of @abstractmethod for achieving polymorphism :\n",
    "By using the @abstractmethod decorator, we ensure that any class inheriting from Shape must provide a concrete\n",
    "implementation for the area method. This common interface allows us to treat different shapes interchangeably, \n",
    "achieving polymorphic behavior.\n",
    "'''\n",
    "from abc import ABC, abstractmethod\n",
    "\n",
    "# Abstract base class\n",
    "class Shape(ABC):\n",
    "    @abstractmethod\n",
    "    def area(self):\n",
    "        pass\n",
    "\n",
    "# Concrete subclass 1\n",
    "class Circle(Shape):\n",
    "    def __init__(self, radius):\n",
    "        self.radius = radius\n",
    "\n",
    "    def area(self):\n",
    "        return \"Circle\",3.14 * self.radius ** 2\n",
    "\n",
    "# Concrete subclass 2\n",
    "class Square(Shape):\n",
    "    def __init__(self, side_length):\n",
    "        self.side_length = side_length\n",
    "\n",
    "    def area(self):\n",
    "        return \"Square\",self.side_length ** 2\n",
    "\n",
    "# Function to calculate and print the area of a shape\n",
    "def print_area(shape):\n",
    "    if isinstance(shape, Shape):  # Ensure that the object is an instance of the abstract base class\n",
    "        area = shape.area()\n",
    "        print(f\"The area of the shape is: {area}\")\n",
    "    else:\n",
    "        print(\"Invalid shape object\")\n",
    "\n",
    "# Creating instances of concrete subclasses\n",
    "circle = Circle(radius=5)\n",
    "square = Square(side_length=4)\n",
    "\n",
    "# Demonstrating polymorphism by calling the common method on different shapes\n",
    "print_area(circle)  # Output: The area of the shape is: ('Circle', 78.5)\n",
    "print_area(square)  # Output: The area of the shape is: ('Square', 16)\n"
   ]
  },
  {
   "cell_type": "code",
   "execution_count": null,
   "id": "1c0e9f3b-37e2-40af-8f7f-b0cd30227b1f",
   "metadata": {},
   "outputs": [],
   "source": []
  },
  {
   "cell_type": "markdown",
   "id": "f851f3c5-7925-4755-b9b2-3212de17e62a",
   "metadata": {},
   "source": [
    "### 11. Create a Python class called `Shape` with a polymorphic method `area()` that calculates the area of different shapes (e.g., circle, rectangle, triangle)."
   ]
  },
  {
   "cell_type": "code",
   "execution_count": 10,
   "id": "c1e3c720-b5f8-486a-8ca5-b4dbf055ac38",
   "metadata": {},
   "outputs": [
    {
     "name": "stdout",
     "output_type": "stream",
     "text": [
      "The area of the shape is :  ('circle', 78.53981633974483)\n",
      "The area of the shape is :  ('Rectangle', 24)\n",
      "The area of the shape is :  ('Triangle', 12.0)\n"
     ]
    }
   ],
   "source": [
    "import math\n",
    "\n",
    "class Shape:\n",
    "    def area(self):\n",
    "        pass\n",
    "\n",
    "class Circle(Shape):\n",
    "    def __init__(self, radius):\n",
    "        self.radius = radius\n",
    "\n",
    "    def area(self):\n",
    "        return \"circle\", math.pi * self.radius ** 2\n",
    "\n",
    "class Rectangle(Shape):\n",
    "    def __init__(self, length, width):\n",
    "        self.length = length\n",
    "        self.width = width\n",
    "\n",
    "    def area(self):\n",
    "        return \"Rectangle\", self.length * self.width\n",
    "\n",
    "class Triangle(Shape):\n",
    "    def __init__(self, base, height):\n",
    "        self.base = base\n",
    "        self.height = height\n",
    "\n",
    "    def area(self):\n",
    "        return \"Triangle\", 0.5 * self.base * self.height\n",
    "\n",
    "# Function to calculate and print the area of any shape\n",
    "def print_area(shape):\n",
    "    if isinstance(shape, Shape):  # Ensure that the object is an instance of the base class\n",
    "        area = shape.area()\n",
    "        print(f\"The area of the shape is :  {area}\")\n",
    "    else:\n",
    "        print(\"Invalid shape object\")\n",
    "\n",
    "# Creating instances of different shapes\n",
    "circle = Circle(radius=5)\n",
    "rectangle = Rectangle(length=4, width=6)\n",
    "triangle = Triangle(base=3, height=8)\n",
    "\n",
    "# Demonstrating polymorphism by calling the common method on different shapes\n",
    "print_area(circle)     # Output: The area of the shape is : ('circle', 78.53981633974483)\n",
    "print_area(rectangle)  # Output: The area of the shape is: ('Rectangle', 24)\n",
    "print_area(triangle)   # Output: The area of the shape is: ('Triangle', 12.0)\n"
   ]
  },
  {
   "cell_type": "code",
   "execution_count": null,
   "id": "277c82c1-bbe9-4037-ad7e-e6c55b948ff1",
   "metadata": {},
   "outputs": [],
   "source": []
  },
  {
   "cell_type": "markdown",
   "id": "cd34d2d9-8f45-4c0b-acee-e83bc069c3f9",
   "metadata": {},
   "source": [
    "### 12. Discuss the benefits of polymorphism in terms of code reusability and flexibility in Python programs."
   ]
  },
  {
   "cell_type": "code",
   "execution_count": null,
   "id": "6b26e7ad-275d-459a-a5a2-a90d8988af1c",
   "metadata": {},
   "outputs": [],
   "source": [
    "'''\n",
    "Polymorphism is a fundamental concept in object-oriented programming (OOP)in Python brings several benefits, particularly\n",
    "in terms of code reusability and flexibility. It enables objects of different classes to respond to the same method call\n",
    "in different ways, leading to more adaptable and maintainable code.\n",
    "Here are some key advantages:\n",
    "\n",
    "1. Code Reusability:\n",
    "\n",
    "  * Interface Consistency: Polymorphism allows us to define a common interface (methods or behaviors) in a base class, and this \n",
    "    interface can be reused across multiple subclasses. This promotes consistency and reduces the need to rewrite code for \n",
    "    similar functionalities in different parts of your program.\n",
    "  * Generic Code: With polymorphism, you can write generic functions or methods that work with objects of a common base type. \n",
    "    These functions can be reused with different subclasses, as long as they adhere to the common interface.\n",
    "\n",
    "2. Flexibility:\n",
    "\n",
    "   * Adaptability to Change: Polymorphism makes our code more adaptable to changes in requirements. Adding a new subclass that \n",
    "     follows the same interface allows you to seamlessly integrate new functionality without modifying existing code that relies\n",
    "     on the common interface.\n",
    "   * Plug-and-Play Components: Polymorphic behavior allows us to use different components interchangeably. \n",
    "     For example, if a function expects an object of a certain type, any subclass of that type can be used without modifying \n",
    "     the function. This makes it easy to swap components or extend functionality without affecting the existing code.\n",
    "\n",
    "3. Code Maintainability: Polymorphism simplifies code maintenance by modularizing code and reducing the impact of changes on \n",
    "   other parts of the system.\n",
    "\n",
    "In summary, polymorphism in Python promotes code reusability by providing a mechanism for defining and enforcing a common \n",
    "interface across different classes. This not only enhances flexibility in adapting to changes but also reduces code duplication \n",
    "and improves the overall readability of the codebase. It is a powerful feature that contributes to the maintainability and extensibility\n",
    "of Python programs.\n",
    "'''"
   ]
  },
  {
   "cell_type": "code",
   "execution_count": 13,
   "id": "8b862f26-d254-4e72-a8ca-37f1154e4beb",
   "metadata": {},
   "outputs": [
    {
     "name": "stdout",
     "output_type": "stream",
     "text": [
      "Drawing a circle with radius 5\n",
      "Drawing a rectangle with width 4 and height 6\n"
     ]
    }
   ],
   "source": [
    "import math\n",
    "\n",
    "class Shape:\n",
    "    def draw(self):\n",
    "        pass\n",
    "\n",
    "class Circle(Shape):\n",
    "    def __init__(self, radius):\n",
    "        self.radius = radius\n",
    "\n",
    "    def draw(self):\n",
    "        print(f\"Drawing a circle with radius {self.radius}\")\n",
    "\n",
    "class Rectangle(Shape):\n",
    "    def __init__(self, width, height):\n",
    "        self.width = width\n",
    "        self.height = height\n",
    "\n",
    "    def draw(self):\n",
    "        print(f\"Drawing a rectangle with width {self.width} and height {self.height}\")\n",
    "\n",
    "# Function to draw any shape without knowing its specific type\n",
    "def draw_shape(shape):\n",
    "    if isinstance(shape, Shape):  # Ensure that the object is an instance of the base class\n",
    "        shape.draw()\n",
    "    else:\n",
    "        print(\"Invalid shape object\")\n",
    "\n",
    "# Creating instances of different shapes\n",
    "circle = Circle(radius=5)\n",
    "rectangle = Rectangle(width=4, height=6)\n",
    "\n",
    "# Demonstrating polymorphism by calling the common method on different shapes\n",
    "draw_shape(circle)     # Output: Drawing a circle with radius 5\n",
    "draw_shape(rectangle)  # Output: Drawing a rectangle with width 4 and height 6\n"
   ]
  },
  {
   "cell_type": "code",
   "execution_count": null,
   "id": "615a2797-53b7-43f8-a101-61b59cb47cfb",
   "metadata": {},
   "outputs": [],
   "source": []
  },
  {
   "cell_type": "markdown",
   "id": "3d9dc386-351b-4166-8743-939a19269a85",
   "metadata": {},
   "source": [
    "### 13. Explain the use of the `super()` function in Python polymorphism. How does it help call methods of parent classes?"
   ]
  },
  {
   "cell_type": "code",
   "execution_count": null,
   "id": "f009295a-193e-4968-82ab-37b06e887be4",
   "metadata": {},
   "outputs": [],
   "source": [
    "'''\n",
    "The super() function in Python is used to call a method from the parent class in a derived (subclass) class. It allows you to\n",
    "invoke a method in a superclass and access its functionality, contributing to a concept known as method resolution order (MRO). \n",
    "super() is commonly used within the context of polymorphism to extend or override methods in a way that maintains the functionality \n",
    "of the parent class.\n",
    "\n",
    "Use in Polymorphism:\n",
    "The super() function becomes particularly useful in polymorphic scenarios where you have a common method name in both the parent and \n",
    "child classes. By using super(), you ensure that the method from the parent class is executed first, and then you can add or modify \n",
    "functionality in the child class.\n",
    "'''"
   ]
  },
  {
   "cell_type": "code",
   "execution_count": 15,
   "id": "a0082f15-0446-49b1-8813-92edd1615fd0",
   "metadata": {},
   "outputs": [
    {
     "name": "stdout",
     "output_type": "stream",
     "text": [
      "Generic animal sound\n",
      "Dog : Woof!\n",
      "\n",
      "Generic animal sound\n",
      "Cat : Meow!\n"
     ]
    }
   ],
   "source": [
    "'''\n",
    "In this example, the Animal class defines a make_sound method. Both the Dog and Cat classes inherit from Animal and override \n",
    "the make_sound method. By using super().make_sound(), each subclass calls the make_sound method of the Animal class before \n",
    "adding its own sound.\n",
    "\n",
    "This use of super() ensures that the code remains flexible and adheres to the principles of polymorphism, allowing for easy extension\n",
    "and modification of behavior in derived classes while preserving the functionality of the parent class.\n",
    "'''\n",
    "class Animal:\n",
    "    def make_sound(self):\n",
    "        print(\"Generic animal sound\")\n",
    "\n",
    "class Dog(Animal):\n",
    "    def make_sound(self):\n",
    "        super().make_sound()  # Call the make_sound method of the parent class\n",
    "        print(\"Dog : Woof!\\n\")\n",
    "\n",
    "class Cat(Animal):\n",
    "    def make_sound(self):\n",
    "        super().make_sound()  # Call the make_sound method of the parent class\n",
    "        print(\"Cat : Meow!\")\n",
    "\n",
    "# Polymorphic function that works with any Animal object\n",
    "def animal_says(animal):\n",
    "    animal.make_sound()\n",
    "\n",
    "# Create instances of the Dog and Cat classes\n",
    "dog = Dog()\n",
    "cat = Cat()\n",
    "\n",
    "# Demonstrate polymorphism using the common interface\n",
    "animal_says(dog)\n",
    "animal_says(cat)\n"
   ]
  },
  {
   "cell_type": "code",
   "execution_count": null,
   "id": "9df62392-41f5-4d60-8bc1-feb86846dfd6",
   "metadata": {},
   "outputs": [],
   "source": []
  },
  {
   "cell_type": "markdown",
   "id": "bde62264-1f86-4fc6-b8c0-658e81a603a3",
   "metadata": {},
   "source": [
    "### 14. Create a Python class hierarchy for a banking system with various account types (e.g., savings, checking, credit card) and demonstrate polymorphism by implementing a common `withdraw()` method."
   ]
  },
  {
   "cell_type": "code",
   "execution_count": 21,
   "id": "5153d61f-0199-4d92-9153-e9fceafd9bde",
   "metadata": {},
   "outputs": [
    {
     "name": "stdout",
     "output_type": "stream",
     "text": [
      "\n",
      "Performing withdrawal for Account AA001:\n",
      "Withdrew ₹200. Remaining balance: ₹800\n",
      "Account AA001 balance: ₹800\n",
      "\n",
      "Performing withdrawal for Account AB002:\n",
      "Withdrew ₹700. Remaining balance: ₹4300\n",
      "Account AB002 balance: ₹4300\n",
      "\n",
      "Performing withdrawal for Account CC123:\n",
      "Withdrew ₹100. Remaining balance: ₹1900\n",
      "Account CC123 balance: ₹1900\n"
     ]
    }
   ],
   "source": [
    "class BankAccount:\n",
    "    def __init__(self, account_number, balance=0):\n",
    "        self.account_number = account_number\n",
    "        self.balance = balance\n",
    "\n",
    "    def deposit(self, amount):\n",
    "        self.balance += amount\n",
    "\n",
    "    def withdraw(self, amount):\n",
    "        if amount <= self.balance:\n",
    "            self.balance -= amount\n",
    "            print(f\"Withdrew ₹{amount}. Remaining balance: ₹{self.balance}\")\n",
    "        else:\n",
    "            print(\"Insufficient funds. Withdrawal canceled.\")\n",
    "\n",
    "    def display_balance(self):\n",
    "        print(f\"Account {self.account_number} balance: ₹{self.balance}\")\n",
    "\n",
    "\n",
    "class SavingsAccount(BankAccount):\n",
    "    def __init__(self, account_number, balance=0, interest_rate=0.02):\n",
    "        super().__init__(account_number, balance)\n",
    "        self.interest_rate = interest_rate\n",
    "\n",
    "    def apply_interest(self):\n",
    "        interest_amount = self.balance * self.interest_rate\n",
    "        self.deposit(interest_amount)\n",
    "        print(f\"Interest applied. New balance: ₹{self.balance}\")\n",
    "\n",
    "\n",
    "class CheckingAccount(BankAccount):\n",
    "    def __init__(self, account_number, balance=0, overdraft_limit=100):\n",
    "        super().__init__(account_number, balance)\n",
    "        self.overdraft_limit = overdraft_limit\n",
    "\n",
    "    def withdraw(self, amount):\n",
    "        if amount <= (self.balance + self.overdraft_limit):\n",
    "            self.balance -= amount\n",
    "            print(f\"Withdrew ₹{amount}. Remaining balance: ₹{self.balance}\")\n",
    "        else:\n",
    "            print(\"Insufficient funds. Withdrawal canceled.\")\n",
    "\n",
    "\n",
    "class CreditCardAccount(BankAccount):\n",
    "    def __init__(self, account_number, balance=0, credit_limit=1000):\n",
    "        super().__init__(account_number, balance)\n",
    "        self.credit_limit = credit_limit\n",
    "\n",
    "    def withdraw(self, amount):\n",
    "        if amount <= (self.balance + self.credit_limit):\n",
    "            self.balance -= amount\n",
    "            print(f\"Withdrew ₹{amount}. Remaining balance: ₹{self.balance}\")\n",
    "        else:\n",
    "            print(\"Exceeded credit limit. Withdrawal canceled.\")\n",
    "\n",
    "\n",
    "# Demonstrate polymorphism\n",
    "def perform_withdrawal(account, amount):\n",
    "    print(f\"\\nPerforming withdrawal for Account {account.account_number}:\")\n",
    "    account.withdraw(amount)\n",
    "    account.display_balance()\n",
    "\n",
    "\n",
    "# Create instances of different account types\n",
    "savings_account = SavingsAccount(account_number=\"AA001\", balance=1000)\n",
    "checking_account = CheckingAccount(account_number=\"AB002\", balance=5000, overdraft_limit=200)\n",
    "credit_card_account = CreditCardAccount(account_number=\"CC123\", balance=2000, credit_limit=1000)\n",
    "\n",
    "# Demonstrate polymorphism by calling the common withdraw() method\n",
    "perform_withdrawal(savings_account, amount=200)\n",
    "perform_withdrawal(checking_account, amount=700)\n",
    "perform_withdrawal(credit_card_account, amount=100)\n"
   ]
  },
  {
   "cell_type": "code",
   "execution_count": null,
   "id": "2e397e60-2c39-4cf1-a603-e4c03519f432",
   "metadata": {},
   "outputs": [],
   "source": []
  },
  {
   "cell_type": "markdown",
   "id": "9dead1cd-9861-4e3a-8c93-d09380806374",
   "metadata": {},
   "source": [
    "### 15. Describe the concept of operator overloading in Python and how it relates to polymorphism. Provide examples using operators like `+` and `*`."
   ]
  },
  {
   "cell_type": "code",
   "execution_count": null,
   "id": "517b0e8d-71f9-4b51-ab77-7537a73a3e61",
   "metadata": {},
   "outputs": [],
   "source": [
    "'''\n",
    "Operator overloading in Python is a technique that allows you to extend the meaning of existing operators to work with \n",
    "user-defined types. This enables you to create custom behaviors for operators like +, -, *, //, and others, making your code\n",
    "more expressive and consistent with the behavior of built-in types.\n",
    "\n",
    "Operator overloading is closely related to polymorphism, which is the ability of objects of different classes to respond to the \n",
    "same method call in different ways. In Python, operator overloading is implemented through special methods called dunder methods, \n",
    "which have names starting with double underscores (e.g., add, sub, mul).\n",
    "\n",
    "To overload an operator, you define the corresponding dunder method in your class. When an operator is applied to an object of that\n",
    "class, the dunder method will be called instead of the built-in implementation. This allows you to customize the behavior of the\n",
    "operator for your specific type.\n",
    "'''"
   ]
  },
  {
   "cell_type": "code",
   "execution_count": 22,
   "id": "744f7b64-ebe4-4747-86ec-99a1802c1217",
   "metadata": {},
   "outputs": [
    {
     "name": "stdout",
     "output_type": "stream",
     "text": [
      "3\n",
      "pwSkills\n",
      "12\n",
      "operator operator operator operator \n"
     ]
    }
   ],
   "source": [
    "'''\n",
    "Operator Overloading means giving extended meaning beyond their predefined operational meaning. \n",
    "For example operator + is used to add two integers as well as join two strings and merge two lists. It is achievable \n",
    "because ‘+’ operator is overloaded by int class and str class.\n",
    "\n",
    "Polymorphism allows different classes to be treated as instances of the same class, which is particularly useful when working \n",
    "with different types of objects in a unified manner.\n",
    "\n",
    "In the context of operator overloading, polymorphism means that different classes can define their own behavior for the \n",
    "same operator, making the code more flexible and expressive.\n",
    "\n",
    "Example :\n",
    "'''\n",
    "# + operator for different purposes.\n",
    "\n",
    "print(1 + 2)\n",
    "\n",
    "# concatenate two strings\n",
    "print(\"pw\"+\"Skills\") \n",
    "\n",
    "# * operator for different purposes\n",
    "# Product two numbers\n",
    "print(3 * 4)\n",
    "\n",
    "# Repeat the String\n",
    "print(\"operator \"*4) "
   ]
  },
  {
   "cell_type": "code",
   "execution_count": null,
   "id": "76bffb9a-ddb4-4fa9-9950-8a4ce508c3e8",
   "metadata": {},
   "outputs": [],
   "source": []
  },
  {
   "cell_type": "markdown",
   "id": "f53d24e2-6857-4b0c-936d-17a3bfcabd07",
   "metadata": {},
   "source": [
    "### 16. What is dynamic polymorphism, and how is it achieved in Python?"
   ]
  },
  {
   "cell_type": "code",
   "execution_count": null,
   "id": "3e2210ca-6c66-480f-96e1-0b2e1700096c",
   "metadata": {},
   "outputs": [],
   "source": [
    "'''\n",
    "Dynamic polymorphism, also known as runtime polymorphism, is a significant concept in object-oriented programming (OOP) that \n",
    "allows objects of different classes to respond to the same method call in different ways. This flexibility is crucial \n",
    "for designing adaptable and maintainable code. \n",
    "\n",
    "Dynamic polymorphism is achieved in Python primarily through method overriding. Method overriding occurs when a subclass defines \n",
    "a method with the same name and signature as a method in its parent class. When an object of the subclass receives a call to \n",
    "that method, the overridden method in the subclass is invoked instead of the original method in the parent class.\n",
    "\n",
    "In Python, dynamic polymorphism is achieved through the use of duck typing. Duck typing is a form of dynamic typing in which\n",
    "the type of an object is determined by the methods that it defines, rather than by its class. This means that an object can be \n",
    "used as if it were a different type, as long as it defines the required methods.\n",
    "\n",
    "This mechanism allows subclasses to customize the behavior of inherited methods, adapting them to the specific needs of the subclass.\n",
    "The specific implementation of the method is determined at runtime based on the type of the object receiving the method call.\n",
    "\n",
    "Consider a scenario where you have classes representing different types of shapes, such as Circle and Square, both inheriting from a \n",
    "base class Shape. Each subclass can define its own implementation of the area() method, which calculates the area of the corresponding \n",
    "shape.\n",
    "'''"
   ]
  },
  {
   "cell_type": "code",
   "execution_count": 23,
   "id": "23bd0fa2-fe45-4d34-9f23-fe099faf2fee",
   "metadata": {},
   "outputs": [
    {
     "name": "stdout",
     "output_type": "stream",
     "text": [
      "Generic animal sound :\n",
      "Dog : Woof! Woof!\n",
      "Cat : Meow!\n"
     ]
    }
   ],
   "source": [
    "'''\n",
    "Dynamic polymorphism, also known as runtime polymorphism, is a type of polymorphism that allows objects to be \n",
    "treated as instances of their parent class, even when they are instances of a derived class. \n",
    "'''\n",
    "\n",
    "class Animal:\n",
    "    def make_sound(self):\n",
    "        print(\"Generic animal sound :\")\n",
    "\n",
    "class Dog(Animal):\n",
    "    def make_sound(self):\n",
    "        print(\"Dog : Woof! Woof!\")\n",
    "\n",
    "class Cat(Animal):\n",
    "    def make_sound(self):\n",
    "        print(\"Cat : Meow!\")\n",
    "\n",
    "# Function that demonstrates dynamic polymorphism\n",
    "def animal_sound(animal):\n",
    "    animal.make_sound()\n",
    "\n",
    "# Creating instances of different classes\n",
    "generic_animal = Animal()\n",
    "dog = Dog()\n",
    "cat = Cat()\n",
    "\n",
    "# Calling the function with different objects\n",
    "animal_sound(generic_animal)  # Output: Generic animal sound :\n",
    "animal_sound(dog)             # Output: Dog : Woof! Woof!\n",
    "animal_sound(cat)             # Output: Cat : Meow!\n"
   ]
  },
  {
   "cell_type": "code",
   "execution_count": null,
   "id": "88a2bcbf-b18f-4dd7-831b-a44b4f596944",
   "metadata": {},
   "outputs": [],
   "source": []
  },
  {
   "cell_type": "markdown",
   "id": "43d89d10-292e-49aa-8306-b734fc92fcfc",
   "metadata": {},
   "source": [
    "### 17. Create a Python class hierarchy for employees in a company (e.g., manager, developer, designer) and implement polymorphism through a common `calculate_salary()` method."
   ]
  },
  {
   "cell_type": "code",
   "execution_count": 29,
   "id": "3a8dfc3a-f5d6-4c41-b27a-cc484a193e2a",
   "metadata": {},
   "outputs": [
    {
     "name": "stdout",
     "output_type": "stream",
     "text": [
      "Manager's salary : $60000\n",
      "Developer's salary : $53437.5\n",
      "Designer's salary : $52500.0\n"
     ]
    }
   ],
   "source": [
    "class Employee:\n",
    "    def __init__(self, name, base_salary):\n",
    "        self.name = name\n",
    "        self.base_salary = base_salary\n",
    "\n",
    "    def calculate_salary(self):\n",
    "        pass\n",
    "\n",
    "\n",
    "class Manager(Employee):\n",
    "    def __init__(self, name, base_salary, bonus):\n",
    "        super().__init__(name, base_salary)\n",
    "        self.bonus = bonus\n",
    "\n",
    "    def calculate_salary(self):\n",
    "        return self.base_salary + self.bonus\n",
    "\n",
    "\n",
    "class Developer(Employee):\n",
    "    def __init__(self, name, base_salary, overtime_hours):\n",
    "        super().__init__(name, base_salary)\n",
    "        self.overtime_hours = overtime_hours\n",
    "\n",
    "    def calculate_salary(self):\n",
    "        overtime_pay = self.overtime_hours * 1.5 * self.base_salary / 160\n",
    "        return self.base_salary + overtime_pay\n",
    "\n",
    "\n",
    "class Designer(Employee):\n",
    "    def __init__(self, name, base_salary, experience_years):\n",
    "        super().__init__(name, base_salary)\n",
    "        self.experience_years = experience_years\n",
    "\n",
    "    def calculate_salary(self):\n",
    "        experience_bonus = self.experience_years * 0.1 * self.base_salary\n",
    "        return self.base_salary + experience_bonus\n",
    "\n",
    "manager = Manager(\"Rohan Singh\", 50000, 10000)\n",
    "developer = Developer(\"Swati\", 45000, 20)\n",
    "designer = Designer(\"Komal\", 35000, 5)\n",
    "\n",
    "print(f\"Manager's salary : ${manager.calculate_salary()}\")\n",
    "print(f\"Developer's salary : ${developer.calculate_salary()}\")\n",
    "print(f\"Designer's salary : ${designer.calculate_salary()}\")\n"
   ]
  },
  {
   "cell_type": "code",
   "execution_count": null,
   "id": "e5158383-ca43-4ec5-a996-f26ff9764c93",
   "metadata": {},
   "outputs": [],
   "source": []
  },
  {
   "cell_type": "markdown",
   "id": "025aec90-3941-48f7-af19-0c76b16a5efc",
   "metadata": {},
   "source": [
    "### 18. Discuss the concept of function pointers and how they can be used to achieve polymorphism in Python."
   ]
  },
  {
   "cell_type": "code",
   "execution_count": null,
   "id": "bcf39017-319f-40ef-ac81-8ae30e92c4d6",
   "metadata": {},
   "outputs": [],
   "source": [
    "'''\n",
    "In Python, the concept of function pointers is closely related to the use of first-class functions and higher-order functions. \n",
    "While Python does not have explicit function pointers like some other languages, the ability to pass functions as arguments and \n",
    "return them from functions allows for a form of polymorphism and flexibility in programming.\n",
    "\n",
    "#First-Class Functions in Python: In Python, functions are first-class citizens, which means they can be:\n",
    "1. Assigned to variables.\n",
    "2. Passed as arguments to other functions.\n",
    "3. Returned as values from other functions.\n",
    "\n",
    "#Higher-Order Functions:\n",
    "A higher-order function is a function that takes one or more functions as arguments or returns a function as a result. These \n",
    "functions facilitate the use of function pointers and contribute to achieving polymorphism.\n",
    "'''\n"
   ]
  },
  {
   "cell_type": "code",
   "execution_count": 31,
   "id": "d044d2f9-e02a-4aaa-8fce-755ffb23ca68",
   "metadata": {},
   "outputs": [
    {
     "name": "stdout",
     "output_type": "stream",
     "text": [
      "Addition: 8\n",
      "Subtraction: 6\n",
      "Multiplication: 24\n"
     ]
    }
   ],
   "source": [
    "'''\n",
    "#Achieving Polymorphism with Function Pointers:\n",
    "In Python, you can use function pointers, or more precisely, function references, to achieve polymorphism by passing functions \n",
    "as arguments to other functions. This allows you to write generic functions that can work with different behaviors based on the \n",
    "functions provided.\n",
    "\n",
    "Here's a simple example to illustrate the concept:\n",
    "In this example:\n",
    "\n",
    "1. add, subtract, and multiply are functions that perform different operations.\n",
    "2. The calculate function takes an operation function as an argument and applies it to the provided values x and y.\n",
    "\n",
    "This demonstrates a form of polymorphism, where the behavior of the calculate function is determined by the function passed as \n",
    "an argument.\n",
    "'''\n",
    "def add(x, y):\n",
    "    return x + y\n",
    "\n",
    "def subtract(x, y):\n",
    "    return x - y\n",
    "\n",
    "def multiply(x, y):\n",
    "    return x * y\n",
    "\n",
    "def calculate(operation, x, y):\n",
    "    return operation(x, y)\n",
    "\n",
    "# Using function pointers to achieve polymorphism\n",
    "result_add = calculate(add, 5, 3)\n",
    "result_subtract = calculate(subtract, 8, 2)\n",
    "result_multiply = calculate(multiply, 4, 6)\n",
    "\n",
    "print(\"Addition:\", result_add)       \n",
    "print(\"Subtraction:\", result_subtract) \n",
    "print(\"Multiplication:\", result_multiply) \n"
   ]
  },
  {
   "cell_type": "code",
   "execution_count": 32,
   "id": "d77f7f89-8ee4-469f-8eda-acee5c554e6d",
   "metadata": {},
   "outputs": [
    {
     "name": "stdout",
     "output_type": "stream",
     "text": [
      "Power : 8\n"
     ]
    }
   ],
   "source": [
    "'''\n",
    "#Lambda Functions for Conciseness:\n",
    "We can also use lambda functions for concise representation when passing short and simple functions:\n",
    "\n",
    "Here, a lambda function is used as a function pointer to calculate the power.\n",
    "\n",
    "In summary, while Python doesn't have explicit function pointers, the ability to use first-class functions and higher-order functions \n",
    "allows for a flexible and polymorphic approach by passing functions as arguments to achieve different behaviors in functions.\n",
    "'''\n",
    "result_power = calculate(lambda x, y: x ** y, 2, 3)\n",
    "print(\"Power :\", result_power) \n"
   ]
  },
  {
   "cell_type": "code",
   "execution_count": null,
   "id": "20b86e74-d061-4f60-bb2a-4cf2a37ac5f8",
   "metadata": {},
   "outputs": [],
   "source": []
  },
  {
   "cell_type": "markdown",
   "id": "2fdbf04b-789c-47e1-886b-55462e3fca25",
   "metadata": {},
   "source": [
    "### 19. Explain the role of interfaces and abstract classes in polymorphism, drawing comparisons between them."
   ]
  },
  {
   "cell_type": "code",
   "execution_count": null,
   "id": "234ecbf9-fcf3-408a-ab1c-7bcc16a97963",
   "metadata": {},
   "outputs": [],
   "source": [
    "'''\n",
    "In Python, both interfaces and abstract classes play a role in achieving polymorphism by defining common interfaces \n",
    "that multiple classes can implement. However, Python does not have explicit support for interfaces in the same way as some \n",
    "other programming languages. Instead, it uses abstract classes and abstract methods to achieve similar goals.\n",
    "\n",
    "#Abstract Classes:\n",
    "1. Definition:\n",
    "   * An abstract class is a class that cannot be instantiated on its own and is meant to be subclassed. It may contain both \n",
    "     abstract and concrete methods.\n",
    "   * Abstract classes are defined using the abc (Abstract Base Classes) module in Python.\n",
    "\n",
    "2. Abstract Methods:\n",
    "   * Abstract methods are methods declared in an abstract class but do not have an implementation in the abstract class itself.\n",
    "   * Subclasses must provide concrete implementations for abstract methods.\n",
    "\n",
    "3. Role in Polymorphism:\n",
    "   * Abstract classes provide a common interface that multiple subclasses can adhere to.\n",
    "   * They enforce a certain structure in the derived classes, ensuring that they implement specific methods.\n",
    "\n",
    "\n",
    "#Interfaces:\n",
    "1. Definition:\n",
    "   * Python does not have a specific interface keyword. Instead, interfaces are often represented using abstract classes with \n",
    "     only abstract methods.\n",
    "   * An interface in Python is essentially an abstract class that consists solely of abstract methods.\n",
    "\n",
    "2. Role in Polymorphism:\n",
    "   * Like abstract classes, interfaces define a common set of methods that multiple classes can implement.\n",
    "   * They provide a contract for the expected behavior without specifying how it should be implemented.\n",
    "\n",
    "\n",
    "#Comparisons:\n",
    "1. Instantiation:\n",
    "   * Abstract classes can have both abstract and concrete methods, and they can be instantiated (though not directly). \n",
    "     Abstract classes can also have attributes.\n",
    "   * Interfaces, being abstract classes with only abstract methods, cannot be instantiated, and they typically don't have attributes.\n",
    "\n",
    "2. Multiple Inheritance:\n",
    "   * Python allows a class to inherit from multiple abstract classes, providing a form of multiple inheritance.\n",
    "   * In practice, multiple inheritance can lead to complex class hierarchies, and careful design is required.\n",
    "\n",
    "3. Use of ABC Module:\n",
    "   * Both abstract classes and interfaces use the ABC module for declaring abstract methods.\n",
    "\n",
    "4. Enforcement:\n",
    "   * Abstract classes and interfaces both enforce a certain structure on derived classes, ensuring that they implement specific methods.\n",
    "'''   \n",
    "   "
   ]
  },
  {
   "cell_type": "code",
   "execution_count": 33,
   "id": "33f85de8-ec6c-4ff1-b813-6436e0aece1a",
   "metadata": {},
   "outputs": [],
   "source": [
    "'''\n",
    "In conclusion, both abstract classes and interfaces in Python serve the purpose of defining common interfaces for multiple classes, \n",
    "allowing for polymorphism. The choice between them often depends on the specific needs of the application and design preferences. \n",
    "Python's flexibility allows developers to use either approach or a combination of both, based on the requirements of the project.\n",
    "'''\n",
    "# Abstract class example\n",
    "from abc import ABC, abstractmethod\n",
    "\n",
    "class Shape(ABC):\n",
    "    @abstractmethod\n",
    "    def area(self):\n",
    "        pass\n",
    "\n",
    "class Circle(Shape):\n",
    "    def __init__(self, radius):\n",
    "        self.radius = radius\n",
    "\n",
    "    def area(self):\n",
    "        return 3.14 * self.radius * self.radius\n",
    "\n",
    "class Square(Shape):\n",
    "    def __init__(self, side):\n",
    "        self.side = side\n",
    "\n",
    "    def area(self):\n",
    "        return self.side * self.side\n",
    "\n",
    "# Interface example\n",
    "from abc import ABC, abstractmethod\n",
    "\n",
    "class ShapeInterface(ABC):\n",
    "    @abstractmethod\n",
    "    def area(self):\n",
    "        pass\n",
    "\n",
    "class Circle(ShapeInterface):\n",
    "    def __init__(self, radius):\n",
    "        self.radius = radius\n",
    "\n",
    "    def area(self):\n",
    "        return 3.14 * self.radius * self.radius\n",
    "\n",
    "class Square(ShapeInterface):\n",
    "    def __init__(self, side):\n",
    "        self.side = side\n",
    "\n",
    "    def area(self):\n",
    "        return self.side * self.side\n",
    "    "
   ]
  },
  {
   "cell_type": "code",
   "execution_count": null,
   "id": "d9da0dba-89d2-4752-92cd-fbbf42ef43c7",
   "metadata": {},
   "outputs": [],
   "source": []
  },
  {
   "cell_type": "markdown",
   "id": "3124ab39-b8e9-4759-8f06-9c6b088b2397",
   "metadata": {},
   "source": [
    "### 20. Create a Python class for a zoo simulation, demonstrating polymorphism with different animal types (e.g., mammals, birds, reptiles) and their behavior (e.g., eating, sleeping, making sounds)."
   ]
  },
  {
   "cell_type": "code",
   "execution_count": 34,
   "id": "124c00dd-ca36-47e7-a0cb-331fc3c68b57",
   "metadata": {},
   "outputs": [
    {
     "name": "stdout",
     "output_type": "stream",
     "text": [
      "Simba: Sound : Roar\n",
      "Simba: Lion is eating meat\n",
      "Simba: Lion is sleeping\n",
      "Simba: Lioness gave birth to cubs\n",
      "\n",
      "\n",
      "Thunder: Sound : Screech\n",
      "Thunder: Eagle is eating fish\n",
      "Thunder: Eagle is perched and sleeping\n",
      "Thunder: Eagle is flying high in the sky\n",
      "\n",
      "\n",
      "Slytherin: Sound : Hiss\n",
      "Slytherin: Snake is swallowing its prey\n",
      "Slytherin: Snake is coiled up and resting\n",
      "Slytherin: Snake is slithering on the ground\n",
      "\n",
      "\n"
     ]
    }
   ],
   "source": [
    "class Animal:\n",
    "    def __init__(self, name):\n",
    "        self.name = name\n",
    "\n",
    "    def make_sound(self):\n",
    "        pass\n",
    "\n",
    "    def eat(self):\n",
    "        pass\n",
    "\n",
    "    def sleep(self):\n",
    "        pass\n",
    "\n",
    "class Mammal(Animal):\n",
    "    def give_birth(self):\n",
    "        pass\n",
    "\n",
    "class Bird(Animal):\n",
    "    def fly(self):\n",
    "        pass\n",
    "\n",
    "class Reptile(Animal):\n",
    "    def crawl(self):\n",
    "        pass\n",
    "\n",
    "class Lion(Mammal):\n",
    "    def make_sound(self):\n",
    "        return \"Sound : Roar\"\n",
    "\n",
    "    def eat(self):\n",
    "        return \"Lion is eating meat\"\n",
    "\n",
    "    def sleep(self):\n",
    "        return \"Lion is sleeping\"\n",
    "\n",
    "    def give_birth(self):\n",
    "        return \"Lioness gave birth to cubs\"\n",
    "\n",
    "class Eagle(Bird):\n",
    "    def make_sound(self):\n",
    "        return \"Sound : Screech\"\n",
    "\n",
    "    def eat(self):\n",
    "        return \"Eagle is eating fish\"\n",
    "\n",
    "    def sleep(self):\n",
    "        return \"Eagle is perched and sleeping\"\n",
    "\n",
    "    def fly(self):\n",
    "        return \"Eagle is flying high in the sky\"\n",
    "\n",
    "class Snake(Reptile):\n",
    "    def make_sound(self):\n",
    "        return \"Sound : Hiss\"\n",
    "\n",
    "    def eat(self):\n",
    "        return \"Snake is swallowing its prey\"\n",
    "\n",
    "    def sleep(self):\n",
    "        return \"Snake is coiled up and resting\"\n",
    "\n",
    "    def crawl(self):\n",
    "        return \"Snake is slithering on the ground\"\n",
    "\n",
    "# Create instances of different animals\n",
    "lion = Lion(\"Simba\")\n",
    "eagle = Eagle(\"Thunder\")\n",
    "snake = Snake(\"Slytherin\")\n",
    "\n",
    "# Demonstrate polymorphism\n",
    "animals = [lion, eagle, snake]\n",
    "\n",
    "for animal in animals:\n",
    "    print(f\"{animal.name}: {animal.make_sound()}\")\n",
    "    print(f\"{animal.name}: {animal.eat()}\")\n",
    "    print(f\"{animal.name}: {animal.sleep()}\")\n",
    "\n",
    "    if isinstance(animal, Mammal):\n",
    "        print(f\"{animal.name}: {animal.give_birth()}\")\n",
    "    elif isinstance(animal, Bird):\n",
    "        print(f\"{animal.name}: {animal.fly()}\")\n",
    "    elif isinstance(animal, Reptile):\n",
    "        print(f\"{animal.name}: {animal.crawl()}\")\n",
    "\n",
    "    print(\"\\n\")\n",
    "    "
   ]
  },
  {
   "cell_type": "code",
   "execution_count": null,
   "id": "b0a657e9-f5fc-4ca2-bcd1-b0e7a1702557",
   "metadata": {},
   "outputs": [],
   "source": []
  },
  {
   "cell_type": "code",
   "execution_count": null,
   "id": "2e938dd0-b5d0-49d6-b810-c60349d1a186",
   "metadata": {},
   "outputs": [],
   "source": []
  },
  {
   "cell_type": "markdown",
   "id": "114e6327-d133-4976-aaff-e03d46abd94a",
   "metadata": {},
   "source": [
    "# Abstraction:\n",
    "---"
   ]
  },
  {
   "cell_type": "markdown",
   "id": "f1fd47b6-de3c-4677-99f6-be4567c47aa2",
   "metadata": {},
   "source": [
    "### 1. What is abstraction in Python, and how does it relate to object-oriented programming?"
   ]
  },
  {
   "cell_type": "code",
   "execution_count": 35,
   "id": "f09dd903-6887-4249-a22d-6b192f8ebefc",
   "metadata": {},
   "outputs": [
    {
     "name": "stdout",
     "output_type": "stream",
     "text": [
      "Grey is a dog. Grey says woof! woof!\n",
      "Tom  is a cat. Tom says meow! meow!\n"
     ]
    }
   ],
   "source": [
    "'''\n",
    "Abstraction in Python, particularly in the context of object-oriented programming (OOP), is the concept of simplifying complex \n",
    "systems by modeling classes based on the essential properties and behaviors they exhibit. It involves focusing on the essential \n",
    "features of an object while ignoring the unnecessary details. Abstraction helps in managing the complexity of large systems by \n",
    "allowing programmers to deal with high-level models of entities without getting into the nitty-gritty details of their implementation.\n",
    "\n",
    "It plays a crucial role in promoting code reusability, maintainability, and understandability. By focusing on the essential aspects\n",
    "of an object's behavior, abstraction allows programmers to create more flexible and reusable components that can be easily incorporated \n",
    "into different applications.\n",
    "\n",
    "for example :\n",
    "'''\n",
    "\n",
    "class Animal:\n",
    "    def __init__(self, name):\n",
    "        self.name = name\n",
    "\n",
    "    def speak(self):\n",
    "        pass\n",
    "\n",
    "class Dog(Animal):\n",
    "    def speak(self):\n",
    "        print(f\"{self.name} is a dog. {self.name} says woof! woof!\")\n",
    "\n",
    "class Cat(Animal):\n",
    "    def speak(self):\n",
    "        print(f\"{self.name}  is a cat. {self.name} says meow! meow!\")\n",
    "\n",
    "grey = Dog(\"Grey\")\n",
    "grey.speak()\n",
    "\n",
    "kitty = Cat(\"Tom\")\n",
    "kitty.speak()\n"
   ]
  },
  {
   "cell_type": "code",
   "execution_count": null,
   "id": "96ca6d61-10cc-42b2-83c9-14fd80eae48d",
   "metadata": {},
   "outputs": [],
   "source": []
  },
  {
   "cell_type": "markdown",
   "id": "88fd46ab-d72f-4d9f-952e-dbe5eac207e3",
   "metadata": {},
   "source": [
    "### 2. Describe the benefits of abstraction in terms of code organization and complexity reduction."
   ]
  },
  {
   "cell_type": "code",
   "execution_count": 36,
   "id": "cfef0e4e-5eaf-43bd-b6d9-25ee713c1c7c",
   "metadata": {},
   "outputs": [
    {
     "name": "stdout",
     "output_type": "stream",
     "text": [
      "Circle Area: 78.5\n",
      "Circle Perimeter: 31.400000000000002\n",
      "\n",
      "Rectangle Area: 24\n",
      "Rectangle Perimeter: 20\n",
      "\n"
     ]
    }
   ],
   "source": [
    "'''\n",
    "Abstraction is a powerful tool for managing complexity in software development, leading to code that is easier to understand, \n",
    "maintain, and extend. It contributes to a more efficient and collaborative development process while promoting code reuse and \n",
    "modularity.\n",
    "Abstraction offers several benefits in terms of code organization and complexity reduction in software development:\n",
    "\n",
    "1. Simplified Understanding:\n",
    "   * Abstraction allows developers to focus on the essential aspects of a system while ignoring irrelevant details. This \n",
    "     simplifies the mental model of the code, making it easier to understand and reason about.\n",
    "\n",
    "2. Code Reusability:\n",
    "   * Abstraction promotes the creation of reusable code components. Once a high-level abstraction is defined, it can be \n",
    "     reused in various parts of the program or even in different projects, reducing redundancy and promoting modularity.\n",
    "\n",
    "3. Isolation of Complexity:\n",
    "   * Abstraction helps in isolating the complexity of a system by breaking it down into smaller, more manageable components.\n",
    "     Each component can be understood and developed independently, making it easier to maintain and update the codebase.\n",
    "\n",
    "4. Modularity:\n",
    "   * Abstraction encourages the creation of modular code, where each module represents a distinct functionality or concept. \n",
    "     This modularity facilitates collaboration among developers, as they can work on different modules without interfering \n",
    "     with each other's code.\n",
    "\n",
    "5. Ease of Maintenance:\n",
    "   * Abstracting away unnecessary details and focusing on essential concepts makes the codebase more maintainable. When \n",
    "     updates or changes are required, developers can modify or extend the high-level abstractions without affecting the \n",
    "     entire system.\n",
    "\n",
    "6. Enhanced Scalability:\n",
    "   * Abstraction supports scalability by providing a structure that can accommodate growth without a proportional increase in \n",
    "     complexity. New features or components can be added more easily when the underlying abstractions are well-designed.\n",
    "\n",
    "7. Improved Collaboration:\n",
    "   * Abstraction facilitates collaboration among team members with different expertise. Developers can work on specific \n",
    "     components without needing an in-depth understanding of the entire system, as long as they understand the relevant \n",
    "     abstractions.\n",
    "\n",
    "8. Reduced Bug Introduction:\n",
    "   * Abstraction helps in reducing the likelihood of introducing bugs when making changes. Since developers interact with \n",
    "     well-defined abstractions, they are less likely to inadvertently affect other parts of the system.\n",
    "\n",
    "9. Enhanced Testing:\n",
    "   * Testing becomes more effective and manageable with abstraction. Each abstraction can be tested independently, allowing\n",
    "     for more focused and thorough testing of specific functionalities.\n",
    "\n",
    "10. Adaptability to Change:\n",
    "    * Abstraction makes code more adaptable to changes in requirements or technology. As long as the high-level abstractions\n",
    "      remain intact, the underlying implementation details can be modified or replaced without affecting the overall system.\n",
    "'''\n",
    "from abc import ABC, abstractmethod\n",
    "\n",
    "# With abstraction, we define an abstract class for shapes.\n",
    "\n",
    "class Shape(ABC):\n",
    "    @abstractmethod\n",
    "    def calculate_area(self):\n",
    "        pass\n",
    "\n",
    "    @abstractmethod\n",
    "    def calculate_perimeter(self):\n",
    "        pass\n",
    "\n",
    "\n",
    "class Circle(Shape):\n",
    "    def __init__(self, radius):\n",
    "        self.radius = radius\n",
    "\n",
    "    def calculate_area(self):\n",
    "        return 3.14 * self.radius * self.radius\n",
    "\n",
    "    def calculate_perimeter(self):\n",
    "        return 2 * 3.14 * self.radius\n",
    "\n",
    "\n",
    "class Rectangle(Shape):\n",
    "    def __init__(self, length, width):\n",
    "        self.length = length\n",
    "        self.width = width\n",
    "\n",
    "    def calculate_area(self):\n",
    "        return self.length * self.width\n",
    "\n",
    "    def calculate_perimeter(self):\n",
    "        return 2 * (self.length + self.width)\n",
    "\n",
    "\n",
    "# Usage with abstraction\n",
    "circle = Circle(5)\n",
    "rectangle = Rectangle(4, 6)\n",
    "\n",
    "def print_shape_info(shape):\n",
    "    print(f\"{shape.__class__.__name__} Area:\", shape.calculate_area())\n",
    "    print(f\"{shape.__class__.__name__} Perimeter:\", shape.calculate_perimeter())\n",
    "    print()\n",
    "\n",
    "print_shape_info(circle)\n",
    "print_shape_info(rectangle)\n"
   ]
  },
  {
   "cell_type": "code",
   "execution_count": null,
   "id": "48ce9045-8002-4116-90d9-a47ce009bca9",
   "metadata": {},
   "outputs": [],
   "source": []
  },
  {
   "cell_type": "markdown",
   "id": "645efc33-7df5-47ea-a674-0db7ae323526",
   "metadata": {},
   "source": [
    "### 3. Create a Python class called `Shape` with an abstract method `calculate_area()`. Then, create child classes (e.g., `Circle`, `Rectangle`) that implement the `calculate_area()` method. Provide an example of using these classes."
   ]
  },
  {
   "cell_type": "code",
   "execution_count": 38,
   "id": "1cfa1ae6-ce58-4fca-81cd-229f26c6a54a",
   "metadata": {},
   "outputs": [
    {
     "name": "stdout",
     "output_type": "stream",
     "text": [
      "Circle Area: 153.86\n",
      "Rectangle Area: 84\n"
     ]
    }
   ],
   "source": [
    "from abc import ABC, abstractmethod\n",
    "\n",
    "class Shape(ABC):\n",
    "    @abstractmethod\n",
    "    def calculate_area(self):\n",
    "        pass\n",
    "\n",
    "class Circle(Shape):\n",
    "    def __init__(self, radius):\n",
    "        self.radius = radius\n",
    "\n",
    "    def calculate_area(self):\n",
    "        return 3.14 * self.radius * self.radius\n",
    "\n",
    "class Rectangle(Shape):\n",
    "    def __init__(self, length, width):\n",
    "        self.length = length\n",
    "        self.width = width\n",
    "\n",
    "    def calculate_area(self):\n",
    "        return self.length * self.width\n",
    "\n",
    "# Example usage\n",
    "circle = Circle(radius=7)\n",
    "rectangle = Rectangle(length=7, width=12)\n",
    "\n",
    "# Calculate and print areas\n",
    "print(f\"Circle Area: {circle.calculate_area()}\")\n",
    "print(f\"Rectangle Area: {rectangle.calculate_area()}\")\n"
   ]
  },
  {
   "cell_type": "code",
   "execution_count": null,
   "id": "992aeca7-a72b-405a-bee7-e144a8838856",
   "metadata": {},
   "outputs": [],
   "source": []
  },
  {
   "cell_type": "markdown",
   "id": "ccafeb33-1cc5-4a99-a49d-5299f7813ff8",
   "metadata": {},
   "source": [
    "### 4. Explain the concept of abstract classes in Python and how they are defined using the `abc` module. Provide an example."
   ]
  },
  {
   "cell_type": "code",
   "execution_count": null,
   "id": "93360716-8c34-4faa-9889-32f7f39ab8ad",
   "metadata": {},
   "outputs": [],
   "source": [
    "'''\n",
    "In Python, an abstract class is a class that cannot be instantiated on its own and is meant to be subclassed by other classes.\n",
    "Abstract classes are used to define a common interface for a group of related classes, ensuring that all derived classes implement\n",
    "certain methods. Python provides the abc module (Abstract Base Classes) to work with abstract classes.\n",
    "\n",
    "Here's an explanation of how abstract classes are defined using the abc module, along with an example:\n",
    "\n",
    "1. Import the ABC class and the abstractmethod decorator:\n",
    "   * The ABC class is a part of the abc module and is used as a base class for creating abstract classes.\n",
    "   * The abstractmethod decorator is used to declare abstract methods within abstract classes.\n",
    "\n",
    "2. Define an abstract class:\n",
    "   * Create a class that inherits from ABC.\n",
    "   * Use the @abstractmethod decorator to declare abstract methods that must be implemented by the subclasses.\n",
    "\n",
    "3. Subclass the abstract class:\n",
    "   * Create one or more classes that inherit from the abstract class.\n",
    "   * Implement all the abstract methods declared in the abstract class.\n",
    "'''"
   ]
  },
  {
   "cell_type": "code",
   "execution_count": 40,
   "id": "a0f0b12a-eaf6-45cc-9fff-f482fd64de9f",
   "metadata": {},
   "outputs": [
    {
     "name": "stdout",
     "output_type": "stream",
     "text": [
      "Circle with radius 7\n",
      "Area of the circle : 153.86\n",
      "\n",
      "Rectangle with length 7 and width 4\n",
      "Area of the rectangle : 28\n"
     ]
    }
   ],
   "source": [
    "'''\n",
    "example:\n",
    "'''\n",
    "\n",
    "from abc import ABC, abstractmethod\n",
    "\n",
    "class Shape(ABC):\n",
    "    @abstractmethod\n",
    "    def calculate_area(self):\n",
    "        pass\n",
    "\n",
    "    @abstractmethod\n",
    "    def display_info(self):\n",
    "        pass\n",
    "\n",
    "class Circle(Shape):\n",
    "    def __init__(self, radius):\n",
    "        self.radius = radius\n",
    "\n",
    "    def calculate_area(self):\n",
    "        return 3.14 * self.radius ** 2\n",
    "\n",
    "    def display_info(self):\n",
    "        print(f\"Circle with radius {self.radius}\")\n",
    "\n",
    "class Rectangle(Shape):\n",
    "    def __init__(self, length, width):\n",
    "        self.length = length\n",
    "        self.width = width\n",
    "\n",
    "    def calculate_area(self):\n",
    "        return self.length * self.width\n",
    "\n",
    "    def display_info(self):\n",
    "        print(f\"\\nRectangle with length {self.length} and width {self.width}\")\n",
    "\n",
    "# Example Usage\n",
    "circle = Circle(radius=7)\n",
    "rectangle = Rectangle(length=7, width=4)\n",
    "\n",
    "circle.display_info()\n",
    "print(f\"Area of the circle : {circle.calculate_area():.2f}\")\n",
    "\n",
    "rectangle.display_info()\n",
    "print(f\"Area of the rectangle : {rectangle.calculate_area()}\")\n"
   ]
  },
  {
   "cell_type": "code",
   "execution_count": null,
   "id": "d5407d46-4638-4cfb-98a2-bc05f4b1f988",
   "metadata": {},
   "outputs": [],
   "source": []
  },
  {
   "cell_type": "markdown",
   "id": "131dd398-eb6e-48c4-854c-e474280dbe01",
   "metadata": {},
   "source": [
    "### 5. How do abstract classes differ from regular classes in Python? Discuss their use cases."
   ]
  },
  {
   "cell_type": "code",
   "execution_count": null,
   "id": "ec7d7181-3069-4313-b5ce-416b7fa05c24",
   "metadata": {},
   "outputs": [],
   "source": [
    "'''\n",
    "Abstract classes and regular classes in Python differ in several ways, primarily in terms of instantiation and the presence of \n",
    "abstract methods. \n",
    "\n",
    "Here are the key differences and their use cases:\n",
    "1. Instantiation:\n",
    "   * Regular Classes: Instances of regular classes can be created directly. These classes may or may not have methods with default\n",
    "     implementations.\n",
    "   * Abstract Classes: Instances of abstract classes cannot be created directly. They are meant to be subclassed, and their abstract\n",
    "     methods must be implemented in the subclasses.\n",
    "\n",
    "2. Abstract Methods:\n",
    "   * Regular Classes: Regular classes may have methods with default implementations, but it's not mandatory for all methods to be \n",
    "     implemented by subclasses.\n",
    "   * Abstract Classes: Abstract classes often have abstract methods (methods without implementations) that must be implemented by \n",
    "     any concrete (non-abstract) subclass.\n",
    "\n",
    "3. Purpose:\n",
    "   * Regular Classes: Regular classes are used to create objects with specific attributes and behaviors. They provide a blueprint for\n",
    "     creating instances.\n",
    "   * Abstract Classes: Abstract classes are used to define a common interface for a group of related classes. They ensure that all\n",
    "     subclasses implement certain methods, providing a way to enforce a consistent structure among subclasses.\n",
    "\n",
    "4. Use Cases:\n",
    "   * Regular Classes:\n",
    "     - Used when you want to create objects with common attributes and behaviors.\n",
    "     - Suitable for cases where not all methods need to be implemented in every subclass.\n",
    "     - Provides flexibility in terms of method implementation.\n",
    "   \n",
    "   * Abstract Classes:\n",
    "     - Used when you want to create a base class with some methods that must be implemented by all subclasses.\n",
    "     - Ensures a common interface across multiple classes, making it easier to work with a group of related objects.\n",
    "     - Provides a way to enforce a contract that all subclasses must adhere to.\n",
    "'''\n"
   ]
  },
  {
   "cell_type": "code",
   "execution_count": 41,
   "id": "9e7fca7a-045d-4371-8aac-1352638bea29",
   "metadata": {},
   "outputs": [
    {
     "name": "stdout",
     "output_type": "stream",
     "text": [
      "Some generic sound\n",
      "Area of the circle: 78.50\n"
     ]
    }
   ],
   "source": [
    "'''\n",
    "Here's a brief example to illustrate the difference:\n",
    "'''\n",
    "\n",
    "# Regular Class\n",
    "class Animal:\n",
    "    def speak(self):\n",
    "        print(\"Some generic sound\")\n",
    "\n",
    "# Abstract Class\n",
    "from abc import ABC, abstractmethod\n",
    "\n",
    "class Shape(ABC):\n",
    "    @abstractmethod\n",
    "    def calculate_area(self):\n",
    "        pass\n",
    "\n",
    "# Concrete Subclass of Shape\n",
    "class Circle(Shape):\n",
    "    def __init__(self, radius):\n",
    "        self.radius = radius\n",
    "\n",
    "    def calculate_area(self):\n",
    "        return 3.14 * self.radius ** 2\n",
    "\n",
    "# Example Usage\n",
    "dog = Animal()\n",
    "dog.speak() \n",
    "\n",
    "# shape = Shape()  # This would result in an error since Shape is an abstract class\n",
    "circle = Circle(radius=5)\n",
    "print(f\"Area of the circle: {circle.calculate_area():.2f}\")\n"
   ]
  },
  {
   "cell_type": "code",
   "execution_count": null,
   "id": "554b3c16-3dbd-4e28-b1cc-d2294c3dc310",
   "metadata": {},
   "outputs": [],
   "source": []
  },
  {
   "cell_type": "markdown",
   "id": "0409f086-ea07-4111-88d4-767951ed35b2",
   "metadata": {},
   "source": [
    "### 6. Create a Python class for a bank account and demonstrate abstraction by hiding the account balance and providing methods to deposit and withdraw funds."
   ]
  },
  {
   "cell_type": "code",
   "execution_count": 4,
   "id": "32e6234d-c8bc-4fa9-901c-2146710dd7f1",
   "metadata": {},
   "outputs": [
    {
     "name": "stdout",
     "output_type": "stream",
     "text": [
      "Account holder: Krishna dev\n",
      "Account Number : 12315461123\n",
      "Initial balance: ₹1000\n",
      "Deposited ₹1000. New balance: ₹2000\n",
      "Withdrew ₹200. New balance: ₹1800\n",
      "Insufficient funds. Withdrawal not possible.\n",
      "Final balance: ₹1800\n"
     ]
    }
   ],
   "source": [
    "class BankAccount:\n",
    "    def __init__(self, account_holder, account_number , initial_balance=0):\n",
    "        self.__account_holder = account_holder\n",
    "        self.__account_number = account_number\n",
    "        self.__balance = initial_balance  # Prefixing with underscore indicates it's a \"private\" attribute\n",
    "\n",
    "    def deposit(self, amount):\n",
    "        if amount > 0:\n",
    "            self.__balance += amount\n",
    "            print(f\"Deposited ₹{amount}. New balance: ₹{self.__balance}\")\n",
    "        else:\n",
    "            print(\"Invalid deposit amount. Please deposit a positive amount.\")\n",
    "\n",
    "    def withdraw(self, amount):\n",
    "        if amount > 0 and amount <= self.__balance:\n",
    "            self.__balance -= amount\n",
    "            print(f\"Withdrew ₹{amount}. New balance: ₹{self.__balance}\")\n",
    "        elif amount <= 0:\n",
    "            print(\"Invalid withdrawal amount. Please withdraw a positive amount.\")\n",
    "        else:\n",
    "            print(\"Insufficient funds. Withdrawal not possible.\")\n",
    "\n",
    "    def get_balance(self):\n",
    "        return self.__balance\n",
    "\n",
    "    def get_account_holder(self):\n",
    "        return self.__account_holder\n",
    "    \n",
    "    def get_account_number(self):\n",
    "        return self.__account_number\n",
    "\n",
    "# Example Usage\n",
    "account1 = BankAccount(\"Krishna dev\", \"12315461123\", initial_balance=1000)\n",
    "\n",
    "print(f\"Account holder: {account1.get_account_holder()}\")\n",
    "print(f\"Account Number : {account1.get_account_number()}\")\n",
    "print(f\"Initial balance: ₹{account1.get_balance()}\")\n",
    "\n",
    "account1.deposit(1000)\n",
    "account1.withdraw(200)\n",
    "account1.withdraw(2000)  # This should result in an insufficient funds message\n",
    "\n",
    "print(f\"Final balance: ₹{account1.get_balance()}\")\n"
   ]
  },
  {
   "cell_type": "code",
   "execution_count": null,
   "id": "ec00bb1c-ab8d-4bd0-9204-dda0c24b8519",
   "metadata": {},
   "outputs": [],
   "source": []
  },
  {
   "cell_type": "markdown",
   "id": "c617c2a7-9542-4035-84d6-75cfffd2e0c3",
   "metadata": {},
   "source": [
    "### 7. Discuss the concept of interface classes in Python and their role in achieving abstraction."
   ]
  },
  {
   "cell_type": "code",
   "execution_count": null,
   "id": "545d93b7-107b-4a1f-bdd9-4d2bc17bd6d3",
   "metadata": {},
   "outputs": [],
   "source": [
    "'''\n",
    "In Python, interface classes are not a built-in feature like in some other programming languages (e.g., Java). \n",
    "However, the concept of interfaces can be emulated using abstract classes or ABCs (Abstract Base Classes) provided by \n",
    "the abc module. The role of interface classes, whether implemented using abstract classes or other means, is closely tied \n",
    "to achieving abstraction and defining a contract for classes that implement them.\n",
    "\n",
    "Here are the key points related to interface classes and their role in achieving abstraction:\n",
    "\n",
    "1. Abstract Base Classes (ABCs):\n",
    "   * In Python, interface-like behavior is often achieved through abstract classes using the abc module.\n",
    "   * Abstract classes can have abstract methods, which are declared without providing an implementation. Subclasses are \n",
    "     then required to implement these abstract methods.\n",
    "\n",
    "2. Defining a Contract:\n",
    "   * Interface classes define a contract or a set of methods that concrete classes must implement.\n",
    "   * The contract specifies the behavior that classes must exhibit, ensuring a common interface across different implementations.\n",
    "\n",
    "3. Achieving Abstraction:\n",
    "   * Interface classes contribute to abstraction by allowing developers to work with high-level, generalized concepts without \n",
    "     concerning themselves with the specific details of each implementation.\n",
    "   * Users of classes that implement the interface can interact with objects through the common methods defined in the interface, \n",
    "     promoting a simplified and consistent usage pattern.\n",
    "\n",
    "4. Enforcing Structure:\n",
    "   * Interface classes help enforce a certain structure among classes that implement them. This ensures that the essential methods\n",
    "     are present and adhere to a specific signature, enhancing code reliability and maintainability.\n",
    "'''"
   ]
  },
  {
   "cell_type": "code",
   "execution_count": 6,
   "id": "0ecc094d-ba1c-4c6f-8366-d66bc4038f7d",
   "metadata": {},
   "outputs": [
    {
     "name": "stdout",
     "output_type": "stream",
     "text": [
      "Area of the circle : 153.86\n",
      "Area of the rectangle : 27\n"
     ]
    }
   ],
   "source": [
    "'''\n",
    "Python doesn't have a native interface keyword like some other languages, the concept of interfaces is often\n",
    "implemented using abstract classes with abstract methods or through informal agreements on method names.\n",
    "\n",
    "Example using Abstract Base Classes (ABCs) :\n",
    "'''\n",
    "from abc import ABC, abstractmethod\n",
    "\n",
    "class Shape(ABC):\n",
    "    @abstractmethod\n",
    "    def area(self):\n",
    "        pass\n",
    "\n",
    "class Circle(Shape):\n",
    "    def __init__(self, radius):\n",
    "        self.radius = radius\n",
    "\n",
    "    def area(self):\n",
    "        return 3.14 * self.radius ** 2\n",
    "\n",
    "class Rectangle(Shape):\n",
    "    def __init__(self, length, width):\n",
    "        self.length = length\n",
    "        self.width = width\n",
    "\n",
    "    def area(self):\n",
    "        return self.length * self.width\n",
    "\n",
    "# Example Usage\n",
    "circle = Circle(radius=7)\n",
    "rectangle = Rectangle(length=9, width=3)\n",
    "\n",
    "print(f\"Area of the circle : {circle.area():.2f}\")\n",
    "print(f\"Area of the rectangle : {rectangle.area()}\")\n"
   ]
  },
  {
   "cell_type": "code",
   "execution_count": null,
   "id": "98427aa7-6171-4c7c-9538-ef2b737154d2",
   "metadata": {},
   "outputs": [],
   "source": []
  },
  {
   "cell_type": "markdown",
   "id": "063039d3-4431-4dae-a0c5-1492d0e0b6fc",
   "metadata": {},
   "source": [
    "### 8. Create a Python class hierarchy for animals and implement abstraction by defining common methods (e.g., `eat()`, `sleep()`) in an abstract base class."
   ]
  },
  {
   "cell_type": "code",
   "execution_count": 8,
   "id": "3f8c6238-18ec-4ac4-9f90-ed4da00e7cf3",
   "metadata": {},
   "outputs": [
    {
     "name": "stdout",
     "output_type": "stream",
     "text": [
      "Simba: Roar\n",
      "Simba: Lion is eating meat\n",
      "Simba: Lion is sleeping\n",
      "Simba: Lioness gave birth to cubs\n",
      "\n",
      "\n",
      "Thunder: Screech\n",
      "Thunder: Eagle is eating fish\n",
      "Thunder: Eagle is perched and sleeping\n",
      "Thunder: Eagle is flying high in the sky\n",
      "\n",
      "\n",
      "Slytherin: Hiss\n",
      "Slytherin: Snake is swallowing its prey\n",
      "Slytherin: Snake is coiled up and resting\n",
      "Slytherin: Snake is slithering on the ground\n",
      "\n",
      "\n",
      "Dumbo: Trumpets loudly!\n",
      "Dumbo: Elephant is Munching on leaves and grass\n",
      "Dumbo: Elephant is sleeping\n",
      "Dumbo: Elephant is taking care of their calf(baby elephant)\n",
      "\n",
      "\n"
     ]
    }
   ],
   "source": [
    "from abc import ABC, abstractmethod\n",
    "\n",
    "class Animal(ABC):\n",
    "    def __init__(self, name):\n",
    "        self.name = name\n",
    "\n",
    "    @abstractmethod\n",
    "    def make_sound(self):\n",
    "        pass\n",
    "\n",
    "    @abstractmethod\n",
    "    def eat(self):\n",
    "        pass\n",
    "\n",
    "    @abstractmethod\n",
    "    def sleep(self):\n",
    "        pass\n",
    "\n",
    "class Mammal(Animal):\n",
    "    @abstractmethod\n",
    "    def give_birth(self):\n",
    "        pass\n",
    "\n",
    "class Bird(Animal):\n",
    "    @abstractmethod\n",
    "    def fly(self):\n",
    "        pass\n",
    "\n",
    "class Reptile(Animal):\n",
    "    @abstractmethod\n",
    "    def crawl(self):\n",
    "        pass\n",
    "    \n",
    "class Mammal1(Animal):\n",
    "    @abstractmethod\n",
    "    def take_care(self):\n",
    "        pass\n",
    "\n",
    "class Lion(Mammal):\n",
    "    def make_sound(self):\n",
    "        return \"Roar\"\n",
    "\n",
    "    def eat(self):\n",
    "        return \"Lion is eating meat\"\n",
    "\n",
    "    def sleep(self):\n",
    "        return \"Lion is sleeping\"\n",
    "\n",
    "    def give_birth(self):\n",
    "        return \"Lioness gave birth to cubs\"\n",
    "\n",
    "class Eagle(Bird):\n",
    "    def make_sound(self):\n",
    "        return \"Screech\"\n",
    "\n",
    "    def eat(self):\n",
    "        return \"Eagle is eating fish\"\n",
    "\n",
    "    def sleep(self):\n",
    "        return \"Eagle is perched and sleeping\"\n",
    "\n",
    "    def fly(self):\n",
    "        return \"Eagle is flying high in the sky\"\n",
    "\n",
    "class Snake(Reptile):\n",
    "    def make_sound(self):\n",
    "        return \"Hiss\"\n",
    "\n",
    "    def eat(self):\n",
    "        return \"Snake is swallowing its prey\"\n",
    "\n",
    "    def sleep(self):\n",
    "        return \"Snake is coiled up and resting\"\n",
    "\n",
    "    def crawl(self):\n",
    "        return \"Snake is slithering on the ground\"\n",
    "    \n",
    "class Elephant(Mammal1):\n",
    "    def make_sound(self):\n",
    "        return \"Trumpets loudly!\"\n",
    "\n",
    "    def eat(self):\n",
    "        return \"Elephant is Munching on leaves and grass\"\n",
    "\n",
    "    def sleep(self):\n",
    "        return \"Elephant is sleeping\"\n",
    "\n",
    "    def take_care(self):\n",
    "        return \"Elephant is taking care of their calf(baby elephant)\"\n",
    "\n",
    "# Example usage\n",
    "lion = Lion(\"Simba\")\n",
    "eagle = Eagle(\"Thunder\")\n",
    "snake = Snake(\"Slytherin\")\n",
    "elephant = Elephant(\"Dumbo\")\n",
    "\n",
    "animals = [lion, eagle, snake, elephant]\n",
    "\n",
    "for animal in animals:\n",
    "    print(f\"{animal.name}: {animal.make_sound()}\")\n",
    "    print(f\"{animal.name}: {animal.eat()}\")\n",
    "    print(f\"{animal.name}: {animal.sleep()}\")\n",
    "\n",
    "    if isinstance(animal, Mammal):\n",
    "        print(f\"{animal.name}: {animal.give_birth()}\")\n",
    "    elif isinstance(animal, Bird):\n",
    "        print(f\"{animal.name}: {animal.fly()}\")\n",
    "    elif isinstance(animal, Reptile):\n",
    "        print(f\"{animal.name}: {animal.crawl()}\")\n",
    "    elif isinstance(animal, Mammal1):\n",
    "        print(f\"{animal.name}: {animal.take_care()}\")\n",
    "\n",
    "    print(\"\\n\")"
   ]
  },
  {
   "cell_type": "code",
   "execution_count": null,
   "id": "4126a937-3863-440d-aa91-027660085818",
   "metadata": {},
   "outputs": [],
   "source": []
  },
  {
   "cell_type": "markdown",
   "id": "e177ab9e-a003-4573-a242-e4f8022b7488",
   "metadata": {},
   "source": [
    "### 9. Explain the significance of encapsulation in achieving abstraction. Provide examples."
   ]
  },
  {
   "cell_type": "code",
   "execution_count": null,
   "id": "f7a89c68-c8c0-4df6-bc1b-ddfaf178bf80",
   "metadata": {},
   "outputs": [],
   "source": [
    "'''\n",
    "Encapsulation is a fundamental concept in object-oriented programming that involves bundling the data (attributes) and \n",
    "methods (functions) that operate on the data within a single unit, known as a class. This concept plays a significant role in\n",
    "achieving abstraction by hiding the internal details of an object and exposing only what is necessary for external interaction.\n",
    "\n",
    "Encapsulation provides several benefits for achieving abstraction:\n",
    "1. Data Protection:\n",
    "   * Encapsulation allows the data (attributes) of an object to be hidden from external access. This protects the integrity of\n",
    "     the data and prevents unintended modifications from outside the class.\n",
    "\n",
    "2. Abstraction of Implementation Details:\n",
    "   * By encapsulating the implementation details within a class, external users only need to interact with the public interface of \n",
    "     the class. This abstracts away the complexity of the internal workings, making it easier for users to understand and use the class.\n",
    "\n",
    "3. Controlled Access:\n",
    "   * Encapsulation provides control over access to the internal data of an object. By using access modifiers (such as private, protected,\n",
    "     and public), developers can specify which parts of a class are accessible from outside the class. This helps in enforcing data hiding \n",
    "     and ensuring that the object is manipulated only through well-defined methods.\n",
    "\n",
    "4. Promotion of Modularity:\n",
    "   * Encapsulation promotes modularity by bundling related data and methods together. This modular structure makes it easier to update\n",
    "     and maintain the code, as changes to one part of the system are less likely to affect other parts.\n",
    "\n",
    "5. Prevention of Unintended Interference:\n",
    "   * Encapsulation helps prevent unintended interference between different parts of a program. Changes made to the internal \n",
    "     implementation of a class do not impact external code as long as the public interface remains consistent.\n",
    "     \n",
    "'''"
   ]
  },
  {
   "cell_type": "code",
   "execution_count": 9,
   "id": "a8e1ecfa-d1d1-44cb-81a8-9a5b88cf8fda",
   "metadata": {},
   "outputs": [
    {
     "name": "stdout",
     "output_type": "stream",
     "text": [
      "Year: 2020\n",
      "Fuel level: 100\n",
      "Driving 50 miles.\n",
      "Fuel level after driving: 95\n"
     ]
    }
   ],
   "source": [
    "'''\n",
    "Examples of Encapsulation and Abstraction:\n",
    "\n",
    "1. Bank Account: Consider a bank account class that encapsulates the account balance and provides methods for depositing, withdrawing, \n",
    "   and checking the balance. The user interacts with the account through these methods, unaware of the underlying implementation details\n",
    "   of how the balance is stored and updated.\n",
    "\n",
    "2. Shape: A shape class can encapsulate the properties of a shape (e.g., dimensions) and provide methods for calculating area, perimeter, \n",
    "   and other shape-specific calculations. The user interacts with the shape through these methods, without needing to know the specific \n",
    "   formulas or algorithms used for each calculation.\n",
    "\n",
    "3. Electronic Device: An electronic device class can encapsulate the internal components, power management, and input/output operations. \n",
    "   The user interacts with the device through its interface (e.g., buttons, screen), unaware of the underlying hardware and software \n",
    "   intricacies.\n",
    "   \n",
    "'''\n",
    "class Car:\n",
    "    def __init__(self, make, model, year):\n",
    "        self._make = make      \n",
    "        self._model = model\n",
    "        self._year = year\n",
    "        self._fuel = 100        # Initial fuel level\n",
    "\n",
    "    def drive(self, distance):\n",
    "        fuel_needed = distance // 10\n",
    "        if fuel_needed <= self._fuel:\n",
    "            print(f\"Driving {distance} miles.\")\n",
    "            self._fuel -= fuel_needed\n",
    "        else:\n",
    "            print(\"Not enough fuel.\")\n",
    "\n",
    "    def get_fuel_level(self):\n",
    "        return self._fuel\n",
    "\n",
    "# Example Usage\n",
    "my_car = Car(make=\"Toyota\", model=\"Fortuner\", year=2020)\n",
    "\n",
    "# Accessing attributes directly (not recommended, but still possible)\n",
    "print(f\"Year: {my_car._year}\")\n",
    "\n",
    "# Accessing through methods (recommended)\n",
    "print(f\"Fuel level: {my_car.get_fuel_level()}\")\n",
    "\n",
    "my_car.drive(50)\n",
    "print(f\"Fuel level after driving: {my_car.get_fuel_level()}\")\n"
   ]
  },
  {
   "cell_type": "code",
   "execution_count": null,
   "id": "f0d56815-fe3e-400f-b417-32fcbc9fc3ca",
   "metadata": {},
   "outputs": [],
   "source": []
  },
  {
   "cell_type": "markdown",
   "id": "5260371e-6ee7-4edf-8270-9082ca26eec4",
   "metadata": {},
   "source": [
    "### 10. What is the purpose of abstract methods, and how do they enforce abstraction in Python classes?"
   ]
  },
  {
   "cell_type": "code",
   "execution_count": null,
   "id": "ec1e9de4-6c30-4ccd-aadc-7933385074df",
   "metadata": {},
   "outputs": [],
   "source": [
    "'''\n",
    "Abstract methods are a crucial concept in object-oriented programming (OOP) that serves to define the basic behaviors of a class \n",
    "without providing concrete implementations. They contribute to achieving abstraction by enforcing a common set of functionalities \n",
    "for a group of related classes while allowing for customization in subclasses.\n",
    "Abstract methods serve the purpose of defining a method signature in an abstract base class (ABC) without providing an implementation.\n",
    "The responsibility for implementing these abstract methods is left to the concrete subclasses that inherit from the abstract base class. \n",
    "\n",
    "Purpose of Abstract Methods:\n",
    "\n",
    "1. Defining Common Behaviors: Abstract methods outline the essential behaviors that all subclasses of a particular class must implement.\n",
    "   This ensures consistency and shared functionality among related classes.\n",
    "\n",
    "2. Enforcing Abstraction: Abstract methods enforce abstraction by preventing direct instantiation of the abstract class and requiring \n",
    "   subclasses to provide concrete implementations for the abstract methods. This helps maintain abstraction boundaries and prevents \n",
    "   users from interacting directly with the incomplete implementation.\n",
    "\n",
    "3. Promoting Code Reusability: Abstract methods promote code reusability by defining a common framework for related classes. This \n",
    "   allows for the creation of generic components that can be used across different contexts without modification.\n",
    "\n",
    "4. Enhancing Maintainability: Abstract methods enhance code maintainability by separating the definition of behavior from its \n",
    "   implementation. This makes it easier to modify or extend behavior in subclasses without affecting the abstract class or other \n",
    "   subclasses.\n",
    "   \n",
    "\n",
    "Abstract methods enforce abstraction in Python classes by ensuring that certain methods must be implemented by any class that wants\n",
    "to be considered a concrete subclass of the abstract base class.\n",
    "\n",
    "Here's how abstract methods contribute to achieving abstraction in Python classes:\n",
    "\n",
    "1. Method Signatures without Implementation:\n",
    "   * Abstract methods declare the method signature (name, parameters, and return type) without providing the actual code for the method.\n",
    "   * The abstract method acts as a placeholder, indicating that any concrete subclass must provide its own implementation of the method.\n",
    "\n",
    "2. Forcing Implementation in Subclasses:\n",
    "   * When a class contains abstract methods, it cannot be instantiated on its own. Instead, it serves as a blueprint or template for \n",
    "     concrete subclasses.\n",
    "   * Concrete subclasses must provide implementations for all abstract methods declared in the abstract base class. Failure to do so \n",
    "     results in a TypeError at runtime.\n",
    "\n",
    "3. Defining a Common Interface:\n",
    "   * Abstract methods define a common interface that all concrete subclasses must adhere to.\n",
    "   * This common interface ensures that all subclasses share a certain set of methods, promoting a consistent and predictable usage pattern.\n",
    "\n",
    "4. Enforcing a Contract:\n",
    "   * Abstract methods enforce a contract between the abstract base class and its subclasses. This contract specifies the methods that \n",
    "     subclasses must implement, ensuring a minimum level of functionality.\n",
    "'''"
   ]
  },
  {
   "cell_type": "code",
   "execution_count": 10,
   "id": "edde7cb4-17c9-488c-9d4a-b2742cccb32b",
   "metadata": {},
   "outputs": [
    {
     "name": "stdout",
     "output_type": "stream",
     "text": [
      "Area of the circle: 153.86\n",
      "Area of the rectangle: 180\n"
     ]
    }
   ],
   "source": [
    "'''\n",
    "Here's an example to illustrate the use of abstract methods and how they enforce abstraction:\n",
    "'''\n",
    "from abc import ABC, abstractmethod\n",
    "\n",
    "# Abstract base class with an abstract method\n",
    "class Shape(ABC):\n",
    "    @abstractmethod\n",
    "    def calculate_area(self):\n",
    "        pass\n",
    "\n",
    "# Concrete subclass implementing the abstract method\n",
    "class Circle(Shape):\n",
    "    def __init__(self, radius):\n",
    "        self.radius = radius\n",
    "\n",
    "    def calculate_area(self):\n",
    "        return 3.14 * self.radius ** 2\n",
    "\n",
    "# Concrete subclass implementing the abstract method\n",
    "class Rectangle(Shape):\n",
    "    def __init__(self, length, width):\n",
    "        self.length = length\n",
    "        self.width = width\n",
    "\n",
    "    def calculate_area(self):\n",
    "        return self.length * self.width\n",
    "\n",
    "# Instantiate objects and use the common interface\n",
    "circle = Circle(radius=7)\n",
    "rectangle = Rectangle(length=15, width=12)\n",
    "\n",
    "print(f\"Area of the circle: {circle.calculate_area():.2f}\")\n",
    "print(f\"Area of the rectangle: {rectangle.calculate_area()}\")\n"
   ]
  },
  {
   "cell_type": "code",
   "execution_count": null,
   "id": "c0f34a68-4c3d-4e2e-9414-cf1855c7507e",
   "metadata": {},
   "outputs": [],
   "source": []
  },
  {
   "cell_type": "markdown",
   "id": "15c997d0-cf1e-4eb9-88a6-f5d66cff31c1",
   "metadata": {},
   "source": [
    "### 11. Create a Python class for a vehicle system and demonstrate abstraction by defining common methods (e.g., `start()`, `stop()`) in an abstract base class."
   ]
  },
  {
   "cell_type": "code",
   "execution_count": 12,
   "id": "a32ea5ea-9c8a-41ec-9117-6026460eaa9a",
   "metadata": {},
   "outputs": [
    {
     "name": "stdout",
     "output_type": "stream",
     "text": [
      "The 2023 Hyundai Creta is starting.\n",
      "Is the car running? True\n",
      "The 2023 Hyundai Creta is stopping.\n",
      "Is the car running? False\n",
      "\n",
      "The 2021 Harley-Davidson Sportster is revving up.\n",
      "Is the motorcycle running? True\n",
      "The 2021 Harley-Davidson Sportster is coming to a stop.\n",
      "Is the motorcycle running? False\n",
      "\n",
      "The 2019 Tata Either is running.\n",
      "Is the truck running? True\n",
      "The motorcycle is already stopped.\n",
      "Is the truck running? True\n",
      "\n"
     ]
    }
   ],
   "source": [
    "from abc import ABC, abstractmethod\n",
    "\n",
    "class Vehicle(ABC):\n",
    "    def __init__(self, make, model, year):\n",
    "        self.make = make\n",
    "        self.model = model\n",
    "        self.year = year\n",
    "        self._is_running = False  # Private attribute for running status\n",
    "\n",
    "    @abstractmethod\n",
    "    def start(self):\n",
    "        pass\n",
    "\n",
    "    @abstractmethod\n",
    "    def stop(self):\n",
    "        pass\n",
    "\n",
    "    def get_running_status(self):\n",
    "        return self._is_running\n",
    "\n",
    "class Car(Vehicle):\n",
    "    def start(self):\n",
    "        if not self._is_running:\n",
    "            print(f\"The {self.year} {self.make} {self.model} is starting.\")\n",
    "            self._is_running = True\n",
    "        else:\n",
    "            print(\"The car is already running.\")\n",
    "\n",
    "    def stop(self):\n",
    "        if self._is_running:\n",
    "            print(f\"The {self.year} {self.make} {self.model} is stopping.\")\n",
    "            self._is_running = False\n",
    "        else:\n",
    "            print(\"The car is already stopped.\\n\")\n",
    "\n",
    "class Motorcycle(Vehicle):\n",
    "    def start(self):\n",
    "        if not self._is_running:\n",
    "            print(f\"The {self.year} {self.make} {self.model} is revving up.\")\n",
    "            self._is_running = True\n",
    "        else:\n",
    "            print(\"The motorcycle is already running.\")\n",
    "\n",
    "    def stop(self):\n",
    "        if self._is_running:\n",
    "            print(f\"The {self.year} {self.make} {self.model} is coming to a stop.\")\n",
    "            self._is_running = False\n",
    "        else:\n",
    "            print(\"The motorcycle is already stopped.\")\n",
    "            \n",
    "class Truck(Vehicle):\n",
    "    def start(self):\n",
    "        if not self._is_running:\n",
    "            print(f\"The {self.year} {self.make} {self.model} is running.\")\n",
    "            self._is_running = True\n",
    "        else:\n",
    "            print(\"The truck is already running.\")\n",
    "\n",
    "    def stop(self):\n",
    "        if self._is_running:\n",
    "            print(f\"The {self.year} {self.make} {self.model} is coming to a stop.\")\n",
    "            self._is_running = False\n",
    "        else:\n",
    "            print(\"The truck is already stopped.\")\n",
    "\n",
    "# Example usage\n",
    "car = Car(make=\"Hyundai\", model = \"Creta\", year = 2023)\n",
    "motorcycle = Motorcycle(make=\"Harley-Davidson\", model=\"Sportster\", year=2021)\n",
    "truck = Truck(make=\"Tata\", model=\"Either\", year=2019)\n",
    "\n",
    "# Start and stop the car\n",
    "car.start()\n",
    "print(f\"Is the car running? {car.get_running_status()}\")\n",
    "car.stop()\n",
    "print(f\"Is the car running? {car.get_running_status()}\\n\")\n",
    "\n",
    "# Start and stop the motorcycle\n",
    "motorcycle.start()\n",
    "print(f\"Is the motorcycle running? {motorcycle.get_running_status()}\")\n",
    "motorcycle.stop()\n",
    "print(f\"Is the motorcycle running? {motorcycle.get_running_status()}\\n\")\n",
    "\n",
    "# Start and stop the truck\n",
    "truck.start()\n",
    "print(f\"Is the truck running? {truck.get_running_status()}\")\n",
    "motorcycle.stop()\n",
    "print(f\"Is the truck running? {truck.get_running_status()}\\n\")\n"
   ]
  },
  {
   "cell_type": "code",
   "execution_count": null,
   "id": "ece44cc1-41b5-40c8-b781-a828c22e4b66",
   "metadata": {},
   "outputs": [],
   "source": []
  },
  {
   "cell_type": "markdown",
   "id": "13bd2da4-e852-49c5-b170-c58df1d5e146",
   "metadata": {},
   "source": [
    "### 12. Describe the use of abstract properties in Python and how they can be employed in abstract classes."
   ]
  },
  {
   "cell_type": "code",
   "execution_count": null,
   "id": "7521e785-057c-461a-a63b-9786e176bba1",
   "metadata": {},
   "outputs": [],
   "source": [
    "'''\n",
    "Abstract properties are a powerful tool for achieving polymorphism in Python. They allow you to store the description of a \n",
    "property in an abstract class, and then implement the property's getter and setter methods in subclasses. This can be very \n",
    "useful for defining common properties that all subclasses of a particular class should have.\n",
    "\n",
    "In Python, abstract properties are used in abstract classes to define a common interface for properties (attributes) that must\n",
    "be implemented by concrete subclasses. Abstract properties are created using the @property decorator in conjunction with the\n",
    "@abstractmethod decorator from the abc (Abstract Base Classes) module.\n",
    "\n",
    "Here's how abstract properties can be employed in abstract classes:\n",
    "1. Define Abstract Properties:\n",
    "   * Use the @property decorator along with @abstractmethod to declare an abstract property in an abstract base class.\n",
    "   * Abstract properties do not have an implementation, and their purpose is to enforce that concrete subclasses provide their\n",
    "     own implementations.\n",
    "\n",
    "2. Implement in Subclasses:\n",
    "   * Concrete subclasses of the abstract base class must provide their own implementations for the abstract properties.\n",
    "   * Failure to provide an implementation for an abstract property in a concrete subclass results in a TypeError at runtime.\n",
    "\n",
    "3. Common Interface for Properties:\n",
    "   * Abstract properties help in defining a common interface for attributes that must be present in all subclasses.\n",
    "   * This promotes a consistent structure across different implementations and ensures that specific attributes are available in \n",
    "     each subclass.\n",
    "'''"
   ]
  },
  {
   "cell_type": "code",
   "execution_count": 1,
   "id": "817b933a-6830-4655-ae6f-2b48332c0dbf",
   "metadata": {},
   "outputs": [
    {
     "name": "stdout",
     "output_type": "stream",
     "text": [
      "Area of the circle : 615.44\n",
      "Area of the rectangle : 84\n"
     ]
    }
   ],
   "source": [
    "'''\n",
    "Here's an example to illustrate the use of abstract properties in abstract classes :\n",
    "'''\n",
    "from abc import ABC, abstractmethod\n",
    "\n",
    "# Abstract base class with abstract property\n",
    "class Shape(ABC):\n",
    "    @property\n",
    "    @abstractmethod\n",
    "    def area(self):\n",
    "        pass\n",
    "\n",
    "# Concrete subclass implementing the abstract property\n",
    "class Circle(Shape):\n",
    "    def __init__(self, radius):\n",
    "        self._radius = radius\n",
    "\n",
    "    @property\n",
    "    def area(self):\n",
    "        return 3.14 * self._radius ** 2\n",
    "\n",
    "# Concrete subclass implementing the abstract property\n",
    "class Rectangle(Shape):\n",
    "    def __init__(self, length, width):\n",
    "        self._length = length\n",
    "        self._width = width\n",
    "\n",
    "    @property\n",
    "    def area(self):\n",
    "        return self._length * self._width\n",
    "\n",
    "# Example Usage\n",
    "circle = Circle(radius=14)\n",
    "rectangle = Rectangle(length=7, width=12)\n",
    "\n",
    "print(f\"Area of the circle : {circle.area:.2f}\")\n",
    "print(f\"Area of the rectangle : {rectangle.area}\")\n"
   ]
  },
  {
   "cell_type": "code",
   "execution_count": null,
   "id": "9b2054b3-5399-4486-a303-c05f1c90e9e2",
   "metadata": {},
   "outputs": [],
   "source": []
  },
  {
   "cell_type": "markdown",
   "id": "0338a5b7-6af7-47d8-8384-5006347944d8",
   "metadata": {},
   "source": [
    "### 13. Create a Python class hierarchy for employees in a company (e.g., manager, developer, designer) and implement abstraction by defining a common `get_salary()` method."
   ]
  },
  {
   "cell_type": "code",
   "execution_count": 4,
   "id": "c1e03c2b-23a5-482c-b7cd-f992c975a5a5",
   "metadata": {},
   "outputs": [
    {
     "name": "stdout",
     "output_type": "stream",
     "text": [
      "Employee ID: M005, Name: Komal\n",
      "Work as Manager and gets Salary : $100000\n",
      "\n",
      "Employee ID: D129, Name: Ramesh singh\n",
      "Work as Developer and gets Salary : $72000\n",
      "\n",
      "Employee ID: DS10, Name: Swati Agarwal\n",
      "Work as Designer and gets Salary : $66000\n",
      "\n"
     ]
    }
   ],
   "source": [
    "from abc import ABC, abstractmethod\n",
    "\n",
    "# Abstract base class for employees\n",
    "class Employee(ABC):\n",
    "    def __init__(self, name, employee_id):\n",
    "        self.name = name\n",
    "        self.employee_id = employee_id\n",
    "\n",
    "    @abstractmethod\n",
    "    def get_salary(self):\n",
    "        pass\n",
    "\n",
    "    def display_info(self):\n",
    "        return f\"Employee ID: {self.employee_id}, Name: {self.name}\"\n",
    "\n",
    "# Concrete subclass for a manager\n",
    "class Manager(Employee):\n",
    "    def __init__(self, name, employee_id, team_size):\n",
    "        super().__init__(name, employee_id)\n",
    "        self.team_size = team_size\n",
    "        \n",
    "    def display_info_Profession(self):\n",
    "        return f\"Work as Manager\"\n",
    "\n",
    "    def get_salary(self):\n",
    "        base_salary = 60000\n",
    "        return base_salary + (self.team_size * 5000)\n",
    "\n",
    "# Concrete subclass for a developer    \n",
    "class Developer(Employee):\n",
    "    def __init__(self, name, employee_id, programming_language):\n",
    "        super().__init__(name, employee_id)\n",
    "        self.programming_language = programming_language\n",
    "    \n",
    "    def display_info_Profession(self):\n",
    "        return f\"Work as Developer\"\n",
    "\n",
    "    def get_salary(self):\n",
    "        base_salary = 70000\n",
    "        return base_salary + 2000  # Bonus for developers\n",
    "\n",
    "# Concrete subclass for a designer\n",
    "class Designer(Employee):\n",
    "    def __init__(self, name, employee_id, design_tool):\n",
    "        super().__init__(name, employee_id)\n",
    "        self.design_tool = design_tool\n",
    "        \n",
    "    def display_info_Profession(self):\n",
    "        return f\"Work as Designer\"\n",
    "\n",
    "    def get_salary(self):\n",
    "        base_salary = 65000\n",
    "        return base_salary + 1000  # Bonus for designers\n",
    "\n",
    "# Example usage\n",
    "manager = Manager(name=\"Komal\", employee_id=\"M005\", team_size=8)\n",
    "developer = Developer(name=\"Ramesh singh\", employee_id=\"D129\", programming_language=\"Python\")\n",
    "designer = Designer(name=\"Swati Agarwal\", employee_id=\"DS10\", design_tool=\"Staad pro\")\n",
    "\n",
    "employees = [manager, developer, designer]\n",
    "\n",
    "for employee in employees:\n",
    "    print(employee.display_info())\n",
    "    print(f\"{employee.display_info_Profession()} and gets Salary : ${employee.get_salary()}\\n\")\n",
    "    "
   ]
  },
  {
   "cell_type": "code",
   "execution_count": null,
   "id": "6004c5c5-dfbd-4131-ac5e-704a8062fea0",
   "metadata": {},
   "outputs": [],
   "source": []
  },
  {
   "cell_type": "markdown",
   "id": "4b6eec53-0d5b-480b-aae4-8be92d2797a2",
   "metadata": {},
   "source": [
    "### 14. Discuss the differences between abstract classes and concrete classes in Python, including their instantiation."
   ]
  },
  {
   "cell_type": "code",
   "execution_count": null,
   "id": "bc1670a6-4478-4c1f-8de7-40acf3b67e44",
   "metadata": {},
   "outputs": [],
   "source": [
    "\n",
    "'''\n",
    "Abstract classes and concrete classes are two fundamental concepts in object-oriented programming (OOP) that play a crucial\n",
    "role in defining and structuring classes. While both classes represent blueprints for creating objects, they differ in their\n",
    "level of abstraction and ability to be instantiated.\n",
    "\n",
    "Abstract Classes:\n",
    "Abstract classes serve as templates for defining common characteristics and behaviors that are shared by a group of related \n",
    "classes. They primarily focus on defining abstract properties and abstract methods, which are placeholders for methods that \n",
    "must be implemented in their subclasses. Abstract classes cannot be directly instantiated, meaning you cannot create objects \n",
    "directly from them.\n",
    "\n",
    "1. Purpose:\n",
    "   * They are meant to serve as a blueprint for other classes. They may define abstract methods (methods without implementations)\n",
    "     that must be implemented by concrete subclasses.\n",
    "2. Instantiation:\n",
    "   * It Cannot be instantiated on their own. They are intended to be subclassed, and instances of concrete subclasses are created instead.\n",
    "3. Abstract Methods:\n",
    "   * It may have abstract methods, which are declared using the @abstractmethod decorator. Concrete subclasses \n",
    "     must provide implementations for these abstract methods.\n",
    "\n",
    "Example of Abstract classes :\n",
    "'''\n",
    "from abc import ABC, abstractmethod\n",
    "\n",
    "class Shape(ABC):\n",
    "    @abstractmethod\n",
    "    def area(self):\n",
    "        pass\n",
    "    "
   ]
  },
  {
   "cell_type": "code",
   "execution_count": 5,
   "id": "354519f3-d7d1-4a3c-addf-4eb7b0c253b4",
   "metadata": {},
   "outputs": [],
   "source": [
    "'''\n",
    "Concrete Classes :\n",
    "Concrete classes, on the other hand, are fully implemented classes that provide complete definitions for all their methods and\n",
    "properties. They inherit from abstract classes and implement the abstract methods defined in the parent class. \n",
    "Concrete classes can be instantiated, allowing you to create objects from them.\n",
    "\n",
    "1. Purpose:\n",
    "   * They are meant to be instantiated directly. They provide concrete implementations for methods and may inherit from abstract\n",
    "     classes or other concrete classes.\n",
    "2. Instantiation:\n",
    "   * It Can be instantiated on their own. Instances are created using the class name, and they may or may not inherit from other classes.\n",
    "3. Abstract Methods:\n",
    "   * Do not have abstract methods. They provide concrete implementations for all methods declared in their class hierarchy.\n",
    "   \n",
    "Example of Concrete classes :\n",
    "'''\n",
    "class Rectangle(Shape):\n",
    "    def __init__(self, length, width):\n",
    "        self.length = length\n",
    "        self.width = width\n",
    "\n",
    "    def area(self):\n",
    "        return self.length * self.width\n",
    "    "
   ]
  },
  {
   "cell_type": "code",
   "execution_count": 6,
   "id": "0e35cf62-fbfe-49c7-8881-920698440edf",
   "metadata": {},
   "outputs": [],
   "source": [
    "'''\n",
    "Instantiation Differences:\n",
    "\n",
    "1. Abstract Classes:\n",
    "   * It Cannot be instantiated: Attempts to create an instance of an abstract class directly will result in a TypeError.\n",
    "   * Serve as blueprints: Abstract classes provide a template for concrete subclasses, enforcing a certain structure among subclasses.\n",
    "\n",
    "2. Concrete Classes:\n",
    "   * It Can be instantiated: Instances of concrete classes can be created directly using the class name.\n",
    "   * Provide specific implementations: Concrete classes define specific behaviors and may inherit from abstract classes or other \n",
    "     concrete classes.\n",
    "\n",
    "Let us consider this example :\n",
    "'''\n",
    "# Abstract class\n",
    "from abc import ABC, abstractmethod\n",
    "\n",
    "class Shape(ABC):\n",
    "    @abstractmethod\n",
    "    def area(self):\n",
    "        pass\n",
    "\n",
    "# Concrete subclass\n",
    "class Rectangle(Shape):\n",
    "    def __init__(self, length, width):\n",
    "        self.length = length\n",
    "        self.width = width\n",
    "\n",
    "    def area(self):\n",
    "        return self.length * self.width\n",
    "\n",
    "# Instantiation\n",
    "# shape = Shape()  # Error: Cannot instantiate an abstract class\n",
    "rectangle = Rectangle(length=4, width=6)\n"
   ]
  },
  {
   "cell_type": "code",
   "execution_count": null,
   "id": "d37ec5de-92a9-4fa6-a95a-4636b93ce034",
   "metadata": {},
   "outputs": [],
   "source": []
  },
  {
   "cell_type": "markdown",
   "id": "3e82add7-3684-4fea-b464-29d10ff446cf",
   "metadata": {},
   "source": [
    "### 15. Explain the concept of abstract data types (ADTs) and their role in achieving abstraction in Python."
   ]
  },
  {
   "cell_type": "code",
   "execution_count": null,
   "id": "6403c289-ec42-4f60-b124-1a6ec0438898",
   "metadata": {},
   "outputs": [],
   "source": [
    "'''\n",
    "Abstract Data Types (ADTs) are a conceptual way of organizing and structuring data in a program based on its behavior and \n",
    "operations, rather than its implementation details. ADTs provide a high-level specification for data and operations on that data,\n",
    "emphasizing what operations can be performed rather than how they are implemented. The key role of ADTs is to achieve abstraction, \n",
    "allowing developers to work with data structures at a higher level without being concerned with the internal details.\n",
    "\n",
    "The key aspects of ADTs and their role in achieving abstraction in Python:\n",
    "\n",
    "1. High-Level Specification:\n",
    "   * ADTs define a set of operations that can be performed on the data they encapsulate. These operations represent the \n",
    "     essential behaviors associated with the data type.\n",
    "\n",
    "2. Separation of Concerns:\n",
    "   * ADTs separate the interface (what the data type does) from the implementation (how it achieves those operations). \n",
    "     This separation allows changes to the implementation without affecting the code that uses the data type.\n",
    "\n",
    "3. Encapsulation:\n",
    "   * ADTs encapsulate the data and the operations on that data within a single unit. This encapsulation provides a way to\n",
    "     control access to the data and ensures that the internal details are hidden from external code.\n",
    "   * ADTs encapsulate data and its operations within a well-defined boundary, protecting the data from unauthorized access \n",
    "     and modification.\n",
    "\n",
    "4. Promotion of Modularity:\n",
    "   * ADTs promote modularity by encapsulating related data and operations. This modular structure makes it easier to design,\n",
    "     understand, and maintain code, as changes to one part of the system are less likely to impact other parts.\n",
    "\n",
    "5. Abstraction of Complexity:\n",
    "   * ADTs abstract away the complexity of the underlying data structures and algorithms. This allows developers to work with\n",
    "     data at a higher level, focusing on the desired functionality rather than the nitty-gritty details of how it is implemented.\n",
    "\n",
    "6. Data Abstraction:\n",
    "   * ADTs hide the internal representation of data, exposing only the essential properties and operations to the user.\n",
    "\n",
    "7. Operation Abstraction: \n",
    "   * ADTs abstract away the implementation details of operations, allowing the user to interact with the data in a consistent and \n",
    "     predictable manner.\n",
    "\n",
    "8. Common Examples:\n",
    "   * Examples of common ADTs include stacks, queues, lists, sets, maps, and trees. Each ADT defines a set of operations that can be\n",
    "     performed on the associated data structure.\n",
    "\n",
    "9. Python's Built-in ADTs:\n",
    "   * Python provides built-in ADTs through its standard library, such as lists, sets, dictionaries, and tuples. These data types come\n",
    "     with well-defined operations, and users interact with them based on their high-level specifications.\n",
    "\n",
    "10. User-Defined ADTs:\n",
    "    * Developers can also create their own user-defined ADTs in Python by using classes. \n",
    "      For example, a developer might define a Queue class with methods like enqueue and dequeue, encapsulating the behavior of \n",
    "      a queue data structure.\n",
    "'''\n"
   ]
  },
  {
   "cell_type": "code",
   "execution_count": null,
   "id": "230b1475-639b-4f00-b18e-f4eb4c28375a",
   "metadata": {},
   "outputs": [],
   "source": [
    "'''\n",
    "Benefits of Using ADTs:\n",
    "1. Improved Code Reusability:\n",
    "   * ADTs promote code reuse by providing a standardized interface for data structures, allowing programmers to share and utilize\n",
    "     common data types across different applications.\n",
    "2. Enhanced Code Maintainability:\n",
    "   * ADTs make code more maintainable by separating the logical structure of data from its implementation, simplifying the process \n",
    "     of modifying and extending data structures without affecting the rest of the program.\n",
    "3. Reduced Code Complexity:\n",
    "   * ADTs reduce code complexity by hiding away the intricacies of data representation and focusing on the high-level operations\n",
    "     that can be performed on the data.\n",
    "\n",
    "Achieving Abstraction with ADTs in Python:\n",
    "1. Python's built-in data structures, such as lists, dictionaries, and sets, are examples of ADTs. These data structures provide a \n",
    "   consistent interface for storing, accessing, and manipulating data, while hiding away the underlying implementation details.\n",
    "2. In addition to built-in data structures, programmers can create their own ADTs by defining classes that encapsulate data and its\n",
    "   operations. For instance, a class representing a stack could define methods for pushing, popping, and peeking at elements, while\n",
    "   hiding the internal representation of the stack as a list or array.\n",
    "'''"
   ]
  },
  {
   "cell_type": "code",
   "execution_count": 7,
   "id": "7f1e3544-42a6-4526-af74-025ef53487d8",
   "metadata": {},
   "outputs": [
    {
     "name": "stdout",
     "output_type": "stream",
     "text": [
      "3\n",
      "2\n",
      "1\n"
     ]
    }
   ],
   "source": [
    "'''\n",
    "Example of a simple ADT for a Stack:\n",
    "'''\n",
    "class Stack:\n",
    "    def __init__(self):\n",
    "        self.items = []\n",
    "\n",
    "    def push(self, item):\n",
    "        self.items.append(item)\n",
    "\n",
    "    def pop(self):\n",
    "        if not self.is_empty():\n",
    "            return self.items.pop()\n",
    "        else:\n",
    "            raise IndexError(\"pop from an empty stack\")\n",
    "\n",
    "    def is_empty(self):\n",
    "        return len(self.items) == 0\n",
    "\n",
    "#Example Usage\n",
    "stack = Stack()\n",
    "stack.push(1)\n",
    "stack.push(2)\n",
    "stack.push(3)\n",
    "\n",
    "while not stack.is_empty():\n",
    "    print(stack.pop())\n"
   ]
  },
  {
   "cell_type": "code",
   "execution_count": null,
   "id": "7f814147-8b69-4f81-b9b2-d8565c27b5ae",
   "metadata": {},
   "outputs": [],
   "source": []
  },
  {
   "cell_type": "markdown",
   "id": "da083105-32f9-45d2-8bb3-a589b3c0c6e6",
   "metadata": {},
   "source": [
    "### 16. Create a Python class for a computer system, demonstrating abstraction by defining common methods (e.g., `power_on()`, `shutdown()`) in an abstract base class."
   ]
  },
  {
   "cell_type": "code",
   "execution_count": 9,
   "id": "e9d1b05a-7ecb-4ab8-b905-7a9f2344ed9a",
   "metadata": {},
   "outputs": [
    {
     "name": "stdout",
     "output_type": "stream",
     "text": [
      "\n",
      "\n",
      "Powering on the DEll desktop (OptiPlex)...\n",
      "Shutting down the desktop...\n",
      "\n",
      "\n",
      "Powering on the HP laptop (EliteBook)...\n",
      "Shutting down the laptop...\n",
      "\n",
      "\n",
      "Powering on the DEll desktop (OptiPlex)...\n",
      "Restarting the computer...\n",
      "Shutting down the desktop...\n",
      "Powering on the DEll desktop (OptiPlex)...\n",
      "\n",
      "\n",
      "Powering on the HP laptop (EliteBook)...\n",
      "Restarting the computer...\n",
      "Shutting down the laptop...\n",
      "Powering on the HP laptop (EliteBook)...\n"
     ]
    }
   ],
   "source": [
    "from abc import ABC, abstractmethod\n",
    "\n",
    "class ComputerSystem(ABC):\n",
    "    def __init__(self, brand, model):\n",
    "        self.brand = brand\n",
    "        self.model = model\n",
    "        self.is_powered_on = False\n",
    "\n",
    "    @abstractmethod\n",
    "    def power_on(self):\n",
    "        pass\n",
    "\n",
    "    @abstractmethod\n",
    "    def shutdown(self):\n",
    "        pass\n",
    "\n",
    "    def restart(self):\n",
    "        if self.is_powered_on:\n",
    "            print(\"Restarting the computer...\")\n",
    "            self.shutdown()\n",
    "            self.power_on()\n",
    "        else:\n",
    "            print(\"Cannot restart. The computer is not powered on.\")\n",
    "            \n",
    "# Concrete subclass for a desktop computer\n",
    "class Desktop(ComputerSystem):\n",
    "    def power_on(self):\n",
    "        if not self.is_powered_on:\n",
    "            print(f\"Powering on the {self.brand} desktop ({self.model})...\")\n",
    "            self.is_powered_on = True\n",
    "        else:\n",
    "            print(\"The desktop is already powered on.\")\n",
    "\n",
    "    def shutdown(self):\n",
    "        if self.is_powered_on:\n",
    "            print(\"Shutting down the desktop...\")\n",
    "            self.is_powered_on = False\n",
    "        else:\n",
    "            print(\"The desktop is already powered off.\")\n",
    "\n",
    "# Concrete subclass for a laptop            \n",
    "class Laptop(ComputerSystem):\n",
    "    def power_on(self):\n",
    "        if not self.is_powered_on:\n",
    "            print(f\"Powering on the {self.brand} laptop ({self.model})...\")\n",
    "            self.is_powered_on = True\n",
    "        else:\n",
    "            print(\"The laptop is already powered on.\")\n",
    "\n",
    "    def shutdown(self):\n",
    "        if self.is_powered_on:\n",
    "            print(\"Shutting down the laptop...\")\n",
    "            self.is_powered_on = False\n",
    "        else:\n",
    "            print(\"The laptop is already powered off.\")\n",
    "\n",
    "# Example usage\n",
    "desktop = Desktop(brand=\"DEll\", model=\"OptiPlex\")\n",
    "laptop = Laptop(brand=\"HP\", model=\"EliteBook\")\n",
    "\n",
    "# Power on and shutdown the computer systems\n",
    "print(\"\\n\")\n",
    "desktop.power_on()\n",
    "desktop.shutdown()\n",
    " \n",
    "print(\"\\n\")\n",
    "laptop.power_on()\n",
    "laptop.shutdown()\n",
    "\n",
    "# Restart the computer systems\n",
    "print(\"\\n\")\n",
    "desktop.power_on()\n",
    "desktop.restart()\n",
    "\n",
    "print(\"\\n\")\n",
    "laptop.power_on()\n",
    "laptop.restart()\n"
   ]
  },
  {
   "cell_type": "code",
   "execution_count": null,
   "id": "f5adb18f-fecb-4ebb-a6a9-0fdf10a74e66",
   "metadata": {},
   "outputs": [],
   "source": []
  },
  {
   "cell_type": "markdown",
   "id": "9847d14f-b4dd-4c0d-9107-a76b664f462b",
   "metadata": {},
   "source": [
    "### 17. Discuss the benefits of using abstraction in large-scale software development projects."
   ]
  },
  {
   "cell_type": "code",
   "execution_count": null,
   "id": "509e6e20-1c64-492e-b4dd-327052184f77",
   "metadata": {},
   "outputs": [],
   "source": [
    "'''\n",
    "Abstraction plays a crucial role in large-scale software development projects, offering a range of benefits that contribute to \n",
    "the efficiency, maintainability, and scalability of the project. Data abstraction may reduce the effort required to make changes \n",
    "and updates to the code by isolating the implementation details of a data structure. There is less chance of errors or other\n",
    "problems when making changes to the implementation of the data structure rather than the code that utilises it.\n",
    "\n",
    "There are several advantages of using abstraction in such projects:\n",
    "1. Complexity Management:\n",
    "   * Abstraction allows developers to deal with complex systems by breaking them down into simpler, more manageable components. \n",
    "     This makes it easier to understand, design, and maintain large-scale software.\n",
    "\n",
    "2. Modularity and Reusability:\n",
    "   * Abstraction promotes modularity by encapsulating functionality within well-defined units. These modules can be reused in different\n",
    "     parts of the project or even in other projects, leading to a more efficient and scalable development process.\n",
    "\n",
    "3. Encapsulation of Implementation Details:\n",
    "   * Abstraction enables the hiding of implementation details. Developers interact with high-level interfaces, focusing on what each \n",
    "     component does rather than how it achieves its functionality. This encapsulation reduces the risk of unintended dependencies and\n",
    "     allows for easier updates or replacements of components.\n",
    "\n",
    "4. Consistent Interfaces:\n",
    "   * Abstraction helps in defining consistent interfaces for components or modules. This ensures that different parts of the system \n",
    "     communicate in a standardized way, making it easier to integrate and maintain the software over time.\n",
    "\n",
    "5. Team Collaboration:\n",
    "   * Abstraction facilitates collaboration among development teams. By defining clear interfaces and contracts between components, \n",
    "     teams can work independently on different parts of the project without extensive knowledge of each other's internal implementations.\n",
    "\n",
    "6. Reduced Cognitive Load:\n",
    "   * Abstraction reduces the cognitive load on developers by allowing them to focus on high-level concepts rather than getting bogged \n",
    "     down in implementation details. This results in clearer and more maintainable code.\n",
    "\n",
    "7. Adaptability to Changes:\n",
    "   * Large-scale software projects often undergo changes and updates. Abstraction allows for easier adaptation to changes, as \n",
    "     modifications can be confined to specific modules without affecting the entire system.\n",
    "\n",
    "8. Testing and Debugging:\n",
    "   * Abstraction aids in testing and debugging by isolating components. Unit testing becomes more straightforward, and debugging\n",
    "     efforts are focused on specific modules rather than the entire system, leading to quicker and more effective bug resolution.\n",
    "\n",
    "9. Code Reusability:\n",
    "   * Abstracting common functionalities into reusable components promotes code reusability across different parts of the system.\n",
    "     Reusing abstracted components can lead to more efficient development, reduced duplication, and easier maintenance.\n",
    "\n",
    "10. Code Maintainability:\n",
    "   * Abstraction improves code maintainability by providing a clear structure and separation of concerns. When developers need to \n",
    "     make modifications or fix issues, they can do so with a better understanding of the system's organization, leading to more \n",
    "     efficient maintenance.\n",
    "\n",
    "11. Ease of Maintenance and Updates:\n",
    "    * Abstracting implementation details isolates changes to specific modules, reducing the impact of modifications on other parts \n",
    "      of the system.\n",
    "    * Maintenance becomes more straightforward, and updates can be applied without affecting the entire codebase.\n",
    "\n",
    "12. Interoperability:\n",
    "    * Well-defined abstractions facilitate interoperability between different components or systems.\n",
    "    * Interfaces provide a common ground for integration, enabling the exchange of data and functionality between disparate parts\n",
    "      of the software.\n",
    "\n",
    "13. Scalability:\n",
    "    * Abstraction supports scalability by allowing developers to add new features or expand functionality without disrupting \n",
    "      existing components. New modules can be integrated seamlessly, and the overall architecture can evolve to accommodate growth.\n",
    "\n",
    "14. Documentation and Communication:\n",
    "    * Abstraction serves as a form of self-documentation. Well-abstracted code communicates the intentions and functionalities of\n",
    "      components effectively, making it easier for developers to understand and contribute to the project.\n",
    "\n",
    "15. Parallel Deveolpment:\n",
    "    * Abstraction allows different teams or developers to work on separate modules concurrently without extensive knowledge of \n",
    "      each other's implementations. Parallel development is more manageable as long as the interfaces are adhered to, ensuring \n",
    "      compatibility.\n",
    "'''"
   ]
  },
  {
   "cell_type": "code",
   "execution_count": null,
   "id": "e37f26b0-92f0-4e22-bcd8-566dbd4f7686",
   "metadata": {},
   "outputs": [],
   "source": []
  },
  {
   "cell_type": "markdown",
   "id": "2cacdcd6-2543-42e0-9afb-4ca687e40fa6",
   "metadata": {},
   "source": [
    "### 18. Explain how abstraction enhances code reusability and modularity in Python programs."
   ]
  },
  {
   "cell_type": "code",
   "execution_count": 10,
   "id": "abe3074c-d474-4ffd-8cde-f5fc7633647f",
   "metadata": {},
   "outputs": [],
   "source": [
    "'''\n",
    "Abstraction enhances code reusability and modularity in Python programs by providing a way to create well-defined interfaces\n",
    "and encapsulate implementation details. Here's how abstraction contributes to these aspects:\n",
    "Abstraction focuses on bundling data and methods within an object to improve control and modularity. It simplifies complex systems \n",
    "by breaking them into smaller components, improving maintainability, debugging, testing, collaboration, and integration of new features.\n",
    "\n",
    "Here's how abstraction contributes to these aspects:\n",
    "\n",
    "Code Reusability:\n",
    "  1. Abstract Classes and Interfaces:\n",
    "     * Python allows the creation of abstract classes using the abc module. Abstract classes can define abstract methods, creating a \n",
    "       blueprint for functionality without providing implementations.\n",
    "     * By inheriting from abstract classes or implementing abstract methods, subclasses can reuse the common interface, ensuring \n",
    "       consistency across different implementations.\n",
    "Example: \n",
    "'''\n",
    "from abc import ABC, abstractmethod\n",
    "\n",
    "class Shape(ABC):\n",
    "    @abstractmethod\n",
    "    def area(self):\n",
    "        pass\n",
    "class Circle(Shape):\n",
    "    def __init__(self, radius):\n",
    "        self.radius = radius\n",
    "\n",
    "    def area(self):\n",
    "        return 3.14 * self.radius ** 2\n",
    "    "
   ]
  },
  {
   "cell_type": "code",
   "execution_count": 11,
   "id": "f9b34052-1d6f-484f-a386-c6ce848db5a3",
   "metadata": {},
   "outputs": [],
   "source": [
    "'''\n",
    "  2. Inheritance:\n",
    "     * Inheritance is a form of code reuse where a subclass inherits attributes and methods from a superclass.\n",
    "     * This promotes reuse of common functionality and attributes while allowing for specialization in individual subclasses.\n",
    "Example :\n",
    "'''\n",
    "class Animal:\n",
    "    def speak(self):\n",
    "        pass\n",
    "\n",
    "class Dog(Animal):\n",
    "    def speak(self):\n",
    "        return \"Woof!\"\n",
    "\n",
    "class Cat(Animal):\n",
    "    def speak(self):\n",
    "        return \"Meow!\"\n"
   ]
  },
  {
   "cell_type": "code",
   "execution_count": 12,
   "id": "86a72046-8f82-4b58-bb27-a87be5310132",
   "metadata": {},
   "outputs": [],
   "source": [
    "'''\n",
    "  3. Composition:\n",
    "     * Abstraction also enables code reuse through composition, where classes can be composed of instances of other classes. This \n",
    "       allows for a flexible and modular design.\n",
    "Example :\n",
    "'''\n",
    "class Engine:\n",
    "    def start(self):\n",
    "        print(\"Engine starting.\")\n",
    "\n",
    "class Car:\n",
    "    def __init__(self):\n",
    "           self.engine = Engine()\n",
    "    def start(self):\n",
    "        print(\"Car starting.\")\n",
    "        self.engine.start()\n",
    "        "
   ]
  },
  {
   "cell_type": "code",
   "execution_count": 13,
   "id": "26696d71-2b84-4693-8b73-d92ec0bbc3fd",
   "metadata": {},
   "outputs": [],
   "source": [
    "'''\n",
    "Modularity:\n",
    "  1. Encapsulation:\n",
    "     * Abstraction in Python supports encapsulation, where data and methods are encapsulated within a class. This encapsulation\n",
    "       helps define clear boundaries between different modules, promoting modularity.\n",
    "Example :\n",
    "'''\n",
    "class Calculator:\n",
    "    def add(self, a, b):\n",
    "        return a + b\n",
    "\n",
    "class MathOperations:\n",
    "    def square(self, x):\n",
    "        return x ** 2\n",
    "    "
   ]
  },
  {
   "cell_type": "code",
   "execution_count": null,
   "id": "5f73dbba-8e17-451a-b6f3-3804390b7049",
   "metadata": {},
   "outputs": [],
   "source": [
    "'''\n",
    "  2.Collaborative Development:\n",
    "    * Abstraction facilitates collaborative development by allowing different developers or teams to work on independent \n",
    "      modules without needing extensive knowledge of each other's code. This leads to more modular and maintainable projects.\n",
    "'''"
   ]
  },
  {
   "cell_type": "code",
   "execution_count": 15,
   "id": "65f3349c-a263-4086-950f-d182b37e44f6",
   "metadata": {},
   "outputs": [],
   "source": [
    "'''\n",
    "Other Example :\n",
    "'''\n",
    "#Abstraction of Common Functionality:\n",
    "\n",
    "# Example: Abstraction for a utility function\n",
    "def perform_operation(a, b, operation):\n",
    "    if operation == \"add\":\n",
    "        return a + b\n",
    "    elif operation == \"multiply\":\n",
    "        return a * b\n",
    "    \n",
    "# Example: Abstraction with OOP\n",
    "class Animal:\n",
    "    def speak(self):\n",
    "        pass\n",
    "\n",
    "class Dog(Animal):\n",
    "    def speak(self):\n",
    "        return \"Woof!\"\n",
    "\n",
    "class Cat(Animal):\n",
    "    def speak(self):\n",
    "        return \"Meow!\"\n",
    "    \n",
    "# Example: Reusing the 'random' module for generating random numbers\n",
    "import random\n",
    "\n",
    "random_number = random.randint(1, 100)\n"
   ]
  },
  {
   "cell_type": "code",
   "execution_count": null,
   "id": "472cecca-feda-45c1-b4b5-028e760b5df3",
   "metadata": {},
   "outputs": [],
   "source": []
  },
  {
   "cell_type": "markdown",
   "id": "fd0d384e-8dfa-4695-9126-48962a7ff5a9",
   "metadata": {},
   "source": [
    "### 19. Create a Python class for a library system, implementing abstraction by defining common methods (e.g., `add_book()`, `borrow_book()`) in an abstract base class."
   ]
  },
  {
   "cell_type": "code",
   "execution_count": 16,
   "id": "eca15213-ea3e-424a-b12f-ca75cae22888",
   "metadata": {},
   "outputs": [
    {
     "name": "stdout",
     "output_type": "stream",
     "text": [
      "Added 'Pride and Prejudice' by Jane Austen to City Public Library.\n",
      "Borrowed 'Pride and Prejudice' from City Public Library.\n",
      "Returning 'Pride and Prejudice' to City Public Library.\n",
      "Added 'Harry Potter and the Philosopher's Stone' by J. K. Rowling to University Central Library with special processing.\n",
      "Borrowed 'Harry Potter and the Philosopher's Stone' from University Central Library with special handling.\n",
      "Book 'Harry Potter and the Philosopher's Stone' not found in University Central Library.\n"
     ]
    }
   ],
   "source": [
    "from abc import ABC, abstractmethod\n",
    "\n",
    "class LibrarySystem(ABC):\n",
    "    def __init__(self, library_name):\n",
    "        self.library_name = library_name\n",
    "        self.books = {}\n",
    "\n",
    "    @abstractmethod\n",
    "    def add_book(self, book_title, author):\n",
    "        pass\n",
    "\n",
    "    @abstractmethod\n",
    "    def borrow_book(self, book_title):\n",
    "        pass\n",
    "\n",
    "    def return_book(self, book_title):\n",
    "        if book_title in self.books:\n",
    "            print(f\"Returning '{book_title}' to {self.library_name}.\")\n",
    "            self.books[book_title] += 1\n",
    "        else:\n",
    "            print(f\"Book '{book_title}' not found in {self.library_name}.\")\n",
    "\n",
    "class PublicLibrary(LibrarySystem):\n",
    "    def add_book(self, book_title, author):\n",
    "        if book_title in self.books:\n",
    "            self.books[book_title] += 1\n",
    "        else:\n",
    "            self.books[book_title] = 1\n",
    "        print(f\"Added '{book_title}' by {author} to {self.library_name}.\")\n",
    "\n",
    "    def borrow_book(self, book_title):\n",
    "        if book_title in self.books and self.books[book_title] > 0:\n",
    "            self.books[book_title] -= 1\n",
    "            print(f\"Borrowed '{book_title}' from {self.library_name}.\")\n",
    "        else:\n",
    "            print(f\"Book '{book_title}' is not available in {self.library_name}.\")\n",
    "\n",
    "class UniversityLibrary(LibrarySystem):\n",
    "    def add_book(self, book_title, author):\n",
    "        # University library may have a different book management system\n",
    "        print(f\"Added '{book_title}' by {author} to {self.library_name} with special processing.\")\n",
    "\n",
    "    def borrow_book(self, book_title):\n",
    "        # University library may have a different borrowing process\n",
    "        print(f\"Borrowed '{book_title}' from {self.library_name} with special handling.\")\n",
    "\n",
    "# Example usage\n",
    "public_library = PublicLibrary(library_name=\"City Public Library\")\n",
    "university_library = UniversityLibrary(library_name=\"University Central Library\")\n",
    "\n",
    "# Add and borrow books from the public library\n",
    "public_library.add_book(\"Pride and Prejudice\", \"Jane Austen\")\n",
    "public_library.borrow_book(\"Pride and Prejudice\")\n",
    "public_library.return_book(\"Pride and Prejudice\")\n",
    "\n",
    "# Add and borrow books from the university library\n",
    "university_library.add_book(\"Harry Potter and the Philosopher's Stone\",\"J. K. Rowling\")\n",
    "university_library.borrow_book(\"Harry Potter and the Philosopher's Stone\")\n",
    "university_library.return_book(\"Harry Potter and the Philosopher's Stone\")\n"
   ]
  },
  {
   "cell_type": "code",
   "execution_count": null,
   "id": "4cab2411-95da-44f2-8c60-593efa4aad6f",
   "metadata": {},
   "outputs": [],
   "source": []
  },
  {
   "cell_type": "markdown",
   "id": "224fbc2b-ac6c-4fa6-a2b1-6277bc5c13a3",
   "metadata": {},
   "source": [
    "### 20. Describe the concept of method abstraction in Python and how it relates to polymorphism."
   ]
  },
  {
   "cell_type": "code",
   "execution_count": 17,
   "id": "20b86eb7-53d1-492c-b8c0-af6e86c792d9",
   "metadata": {},
   "outputs": [],
   "source": [
    "'''\n",
    "Method abstraction is a fundamental concept in object-oriented programming (OOP) that focuses on hiding the implementation details\n",
    "of methods and exposing only their essential functionalities. It allows programmers to define common behaviors for a group of related\n",
    "classes without specifying the exact implementation details for each class. This promotes code reusability, modularity, and \n",
    "maintainability by enabling the creation of reusable components that can be adapted to different contexts.\n",
    "\n",
    "Polymorphism, on the other hand, is the ability of objects of different classes to respond to the same method call in different ways. \n",
    "It plays a crucial role in OOP by allowing programmers to treat objects of different classes as if they belong to a common base class, \n",
    "even though they have different implementations of the same method. This flexibility makes it easier to write code that can handle \n",
    "different types of objects in a consistent manner.\n",
    "\n",
    "Method abstraction in Python involves using abstract methods and classes to define a common interface for classes that share a certain \n",
    "set of behaviors. This concept is closely related to polymorphism, a fundamental principle in object-oriented programming.\n",
    "\n",
    "Let's explore how method abstraction and polymorphism are interconnected in Python:\n",
    "\n",
    "Method Abstraction:\n",
    "  1. Abstract Base Classes (ABCs):\n",
    "     * Python provides the abc module, which allows the creation of abstract base classes. Abstract base classes can contain abstract\n",
    "       methods—methods without implementations.\n",
    "     * Abstract methods define a common interface that concrete subclasses must implement.\n",
    "Example :\n",
    "'''\n",
    "from abc import ABC, abstractmethod\n",
    "\n",
    "class Shape(ABC):\n",
    "    @abstractmethod\n",
    "    def area(self):\n",
    "        pass\n",
    "    "
   ]
  },
  {
   "cell_type": "code",
   "execution_count": 18,
   "id": "b4e57021-65f0-4e4f-ae58-d2bde410da24",
   "metadata": {},
   "outputs": [],
   "source": [
    "'''\n",
    "  2. Common Interface:\n",
    "     * Abstract methods in an abstract base class define a common interface for classes that inherit from it. Concrete \n",
    "       subclasses are required to provide their own implementations for these abstract methods.\n",
    "Example :\n",
    "'''\n",
    "class Circle(Shape):\n",
    "    def __init__(self, radius):\n",
    "        self.radius = radius\n",
    "    def area(self):\n",
    "        return 3.14 * self.radius ** 2\n"
   ]
  },
  {
   "cell_type": "code",
   "execution_count": null,
   "id": "42d1a0a0-c2fa-4135-8031-f5b76a152bfc",
   "metadata": {},
   "outputs": [],
   "source": [
    "'''\n",
    "  3. Enforcing Contracts:\n",
    "     * Method abstraction enforces contracts between abstract classes and their subclasses. Subclasses must adhere to the\n",
    "       defined interface, ensuring a consistent structure across different implementations.\n",
    "'''"
   ]
  },
  {
   "cell_type": "code",
   "execution_count": 19,
   "id": "cc05df60-64e0-4947-9ddb-87324a452f28",
   "metadata": {},
   "outputs": [],
   "source": [
    "'''\n",
    "Polymorphism:\n",
    "  1. Method Overriding:\n",
    "     * Polymorphism allows objects of different classes to be treated as objects of a common base class. In Python, this \n",
    "       often involves method overriding, where a subclass provides its own implementation of a method defined in the superclass.\n",
    "Example :\n",
    "'''\n",
    "class Rectangle(Shape):\n",
    "    def __init__(self, length, width):\n",
    "        self.length = length\n",
    "        self.width = width\n",
    "    def area(self):\n",
    "        return self.length * self.width\n",
    "    "
   ]
  },
  {
   "cell_type": "code",
   "execution_count": 20,
   "id": "e66bf40e-7344-4072-8cb8-1af1cbd5513b",
   "metadata": {},
   "outputs": [
    {
     "name": "stdout",
     "output_type": "stream",
     "text": [
      "Area: 153.86\n",
      "Area: 96\n"
     ]
    }
   ],
   "source": [
    "'''\n",
    "  2. Dynamic Dispatch:\n",
    "     * Python supports dynamic dispatch, meaning that the method to be called is determined at runtime. When a method is \n",
    "       called on an object, the interpreter dynamically looks up the appropriate method based on the actual type of the object.\n",
    "Example:\n",
    "'''\n",
    "\n",
    "def print_area(shape):\n",
    "    print(f\"Area: {shape.area()}\")\n",
    "\n",
    "circle = Circle(radius=7)\n",
    "rectangle = Rectangle(length=12, width=8)\n",
    "\n",
    "print_area(circle)      # Dynamically calls the area method of Circle\n",
    "print_area(rectangle)   # Dynamically calls the area method of Rectangle\n"
   ]
  },
  {
   "cell_type": "code",
   "execution_count": 21,
   "id": "3c821660-f20d-4620-ae42-7d15d9763b84",
   "metadata": {},
   "outputs": [
    {
     "name": "stdout",
     "output_type": "stream",
     "text": [
      "Area: 153.86\n",
      "Area: 96\n"
     ]
    }
   ],
   "source": [
    "'''\n",
    "  3. Polymorphic Behavior:\n",
    "     * Method abstraction, combined with method overriding, leads to polymorphic behavior. Objects of different classes can\n",
    "       respond to the same method call in a way that is appropriate for their specific type.\n",
    "Example:\n",
    "'''\n",
    "shapes = [circle, rectangle]\n",
    "\n",
    "for shape in shapes:\n",
    "    print_area(shape)  # Polymorphic behavior based on the actual type of each shape\n",
    "    "
   ]
  },
  {
   "cell_type": "code",
   "execution_count": null,
   "id": "829cc6bd-481d-46f0-8ca9-6981601688b5",
   "metadata": {},
   "outputs": [],
   "source": [
    "'''\n",
    "Relationship:\n",
    "Method abstraction and polymorphism are closely related concepts in Python. Method abstraction allows programmers to define \n",
    "abstract methods in abstract base classes, specifying the method's signature but not its implementation. Subclasses can then \n",
    "inherit these abstract methods and provide their own concrete implementations, overriding the abstract behavior. \n",
    "This enables polymorphism, as the same method call can invoke different implementations depending on the type of object it is called upon.\n",
    "\n",
    "In Python, abstract methods are defined using the @abstractmethod decorator. This decorator indicates to the Python interpreter that \n",
    "the method should not be implemented in the abstract base class and must be overridden by subclasses. When a concrete subclass \n",
    "inherits an abstract method, it must provide its own implementation of that method. This ensures that all subclasses of the abstract \n",
    "base class have a consistent interface for the method, even though the implementation may vary depending on the subclass.\n",
    "\n",
    "Method abstraction and polymorphism are powerful tools for achieving flexibility and reusability in Python code. By effectively \n",
    "utilizing these concepts, programmers can design well-structured, maintainable, and adaptable software systems that can accommodate \n",
    "diverse requirements and evolve over time.\n",
    "\n",
    "1. Common Interface for Polymorphism:\n",
    "   * Method abstraction provides a common interface through abstract methods, ensuring that different classes have a consistent structure.\n",
    "   * Polymorphism allows objects of these classes to be treated uniformly, leading to more generic and reusable code.\n",
    "\n",
    "2. Flexible and Extensible Code:\n",
    "   * Method abstraction and polymorphism together create a flexible and extensible code structure. New classes can be added without\n",
    "     modifying existing code, as long as they adhere to the common interface defined by abstract classes.\n",
    "\n",
    "3. Promoting Code Maintenance:\n",
    "   * Abstracting methods and promoting polymorphic behavior make the code more maintainable. Changes to a class's implementation \n",
    "     can be made without affecting code that uses the class, as long as the common interface is preserved.\n",
    "Example of \n",
    "'''\n"
   ]
  },
  {
   "cell_type": "code",
   "execution_count": 22,
   "id": "f6cd7914-4ba1-4989-94e4-492874f9a829",
   "metadata": {},
   "outputs": [
    {
     "name": "stdout",
     "output_type": "stream",
     "text": [
      "Dog : Sound : Woof!Woof!\n",
      "Cat : Sound : Meow!\n",
      "Duck : Sound : Quack!\n"
     ]
    }
   ],
   "source": [
    "'''\n",
    "Exampple of Abstract base calss and ploymorphism:\n",
    "'''    \n",
    "from abc import ABC, abstractmethod\n",
    "\n",
    "# Abstract base class defining the common interface\n",
    "class Animal(ABC):\n",
    "    @abstractmethod\n",
    "    def make_sound(self):\n",
    "        pass\n",
    "\n",
    "# Concrete classes implementing the common interface\n",
    "class Dog(Animal):\n",
    "    def make_sound(self):\n",
    "        return \"Dog : Sound : Woof!Woof!\"\n",
    "\n",
    "class Cat(Animal):\n",
    "    def make_sound(self):\n",
    "        return \"Cat : Sound : Meow!\"\n",
    "\n",
    "class Duck(Animal):\n",
    "    def make_sound(self):\n",
    "        return \"Duck : Sound : Quack!\"\n",
    "\n",
    "# Function demonstrating polymorphism with the common interface\n",
    "def animal_sound(animal):\n",
    "    return animal.make_sound()\n",
    "\n",
    "# Creating instances of different classes\n",
    "dog = Dog()\n",
    "cat = Cat()\n",
    "duck = Duck()\n",
    "\n",
    "# Demonstrating polymorphism\n",
    "print(animal_sound(dog))  # Output: Dog : Sound : Woof!Woof!\n",
    "print(animal_sound(cat))  # Output: Cat : Sound : Meow!\n",
    "print(animal_sound(duck)) # Output: Duck : Sound :  Quack\n"
   ]
  },
  {
   "cell_type": "code",
   "execution_count": null,
   "id": "b75a4132-fb36-46c3-a183-7e59b4b721c5",
   "metadata": {},
   "outputs": [],
   "source": []
  },
  {
   "cell_type": "code",
   "execution_count": null,
   "id": "6706b6db-a3ec-4516-bad7-f3d81b59a30b",
   "metadata": {},
   "outputs": [],
   "source": []
  },
  {
   "cell_type": "markdown",
   "id": "d3e87780-c9b9-4927-9bd8-38b3ffc98d1b",
   "metadata": {},
   "source": [
    "# Composition:\n",
    "---"
   ]
  },
  {
   "cell_type": "markdown",
   "id": "2c53dfbe-ca6b-40ae-9b05-c7a75db3bd27",
   "metadata": {},
   "source": [
    "### 1. Explain the concept of composition in Python and how it is used to build complex objects from simpler ones."
   ]
  },
  {
   "cell_type": "code",
   "execution_count": 23,
   "id": "1e284d18-a2f3-43fe-b8df-04535412ccb6",
   "metadata": {},
   "outputs": [
    {
     "name": "stdout",
     "output_type": "stream",
     "text": [
      "Wheels rolling and Engine started.\n"
     ]
    }
   ],
   "source": [
    "'''\n",
    "Composition is a fundamental concept in object-oriented programming (OOP) that involves creating complex objects by combining\n",
    "existing objects. It allows programmers to reuse existing components and build new functionalities by assembling them in a \n",
    "structured manner. In Python, composition is achieved by establishing relationships between classes using object references.\n",
    "\n",
    "In Python, composition is a programming concept that involves constructing complex objects by combining simpler ones. It is a \n",
    "way to achieve code reuse and modularity by creating classes that are composed of other classes or objects. Unlike inheritance,\n",
    "which involves creating a hierarchy of classes, composition allows you to build relationships between classes without relying \n",
    "on inheritance.\n",
    "\n",
    "The basic idea behind composition is to create instances of one class within another class, allowing you to leverage the functionality \n",
    "of existing classes to build more complex objects. This is often done by including instances of other classes as attributes of the \n",
    "composing class.\n",
    "It allows you to create more modular and reusable code by building classes that are composed of other classes or objects, rather than\n",
    "inheriting from them.Composition is an alternative to inheritance for creating relationships between classes.\n",
    "\n",
    "Example:\n",
    "'''\n",
    "class Engine:\n",
    "    def start(self):\n",
    "        return \"Engine started.\"\n",
    "\n",
    "class Wheels:\n",
    "    def roll(self):\n",
    "        return \"Wheels rolling\"\n",
    "\n",
    "class Car:\n",
    "    def __init__(self):\n",
    "        # Composition: Car has an Engine and Wheels\n",
    "        self.engine = Engine()\n",
    "        self.wheels = Wheels()\n",
    "\n",
    "    def start_car(self):\n",
    "        return self.engine.start()\n",
    "\n",
    "    def drive(self):\n",
    "        return f\"{self.wheels.roll()} and {self.start_car()}\"\n",
    "\n",
    "# Create a Car instance\n",
    "my_car = Car()\n",
    "\n",
    "# Use composition to perform actions\n",
    "print(my_car.drive())  # Output: Wheels rolling and Engine started.\n"
   ]
  },
  {
   "cell_type": "code",
   "execution_count": null,
   "id": "6149cfca-3360-47bd-9490-747b626c51e6",
   "metadata": {},
   "outputs": [],
   "source": []
  },
  {
   "cell_type": "markdown",
   "id": "337f4c8f-9a1f-4567-94bf-f548e793c338",
   "metadata": {},
   "source": [
    "### 2. Describe the difference between composition and inheritance in object-oriented programming."
   ]
  },
  {
   "cell_type": "code",
   "execution_count": null,
   "id": "b4f59410-23d0-45e9-8d24-776817975082",
   "metadata": {},
   "outputs": [],
   "source": [
    "'''\n",
    "Composition and inheritance are two fundamental concepts in object-oriented programming (OOP) that allow for code reuse and \n",
    "the creation of relationships between classes. While both concepts are used to create relationships between classes, they \n",
    "differ in their approach and the type of relationship they establish\n",
    "\n",
    "Here's a breakdown of the key differences between composition and inheritance:\n",
    "\n",
    "Composition:\n",
    "Composition involves creating a new class that contains references to objects of other classes. This establishes a \n",
    "\"has-a\" relationship between the classes. The composite class can utilize the functionalities of the component objects through \n",
    "their interfaces, providing a flexible and adaptable approach to building complex objects.\n",
    "\n",
    "  1. Relationship Type:\n",
    "     * Has-a Relationship: Composition represents a \"has-a\" relationship between classes. It involves one class containing an \n",
    "       instance of another class as a member.\n",
    "       \n",
    "  2. Code Structure:\n",
    "     * Object Inclusion: In composition, the composed class includes objects of other classes as attributes.\n",
    "     \n",
    "  3. Flexibility:\n",
    "     * More Flexible: Composition is generally considered more flexible than inheritance. You can change the behavior of a\n",
    "       class by modifying the objects it is composed of, without affecting the rest of the code.\n",
    "\n",
    "  4. Code Reusability:\n",
    "     * Promotes Code Reusability: Composition promotes code reuse by allowing the reuse of existing classes in new contexts.\n",
    "\n",
    "Example:\n",
    "\n"
   ]
  },
  {
   "cell_type": "code",
   "execution_count": null,
   "id": "d9cdd8c4-f508-4bfc-9365-84eacfaeec23",
   "metadata": {},
   "outputs": [],
   "source": [
    "'''\n",
    "Inheritance:\n",
    "Inheritance involves creating a new class that inherits properties and methods from an existing class. This establishes an \n",
    "\"is-a\" relationship between the classes. The subclass inherits the characteristics of the parent class and can extend or override\n",
    "them to provide more specific behavior.\n",
    "\n",
    "  1. Relationship Type:\n",
    "     * Is-a Relationship: Inheritance represents an \"is-a\" relationship between classes. It involves creating a new class by \n",
    "       inheriting attributes and behaviors from an existing class.\n",
    "\n",
    "  2. Code Structure:\n",
    "     * Class Hierarchy: Inheritance creates a hierarchy of classes, where a subclass inherits attributes and methods from a superclass.\n",
    "\n",
    "  3. Flexibility:\n",
    "     * Less Flexible: Inheritance can lead to a more rigid class structure, and changes to a superclass can affect all its subclasses.\n",
    "  \n",
    "  4. Code Reusability:\n",
    "     * Reuses Code from Superclass: Inheritance allows code reuse by inheriting attributes and behaviors from a superclass. However, \n",
    "       it can also lead to the diamond problem and other issues.\n",
    "'''"
   ]
  },
  {
   "cell_type": "code",
   "execution_count": 24,
   "id": "5b56c8e9-728c-47d0-ab04-6fa8ebe37ab6",
   "metadata": {},
   "outputs": [
    {
     "name": "stdout",
     "output_type": "stream",
     "text": [
      "Wheels rolling and Engine started.\n",
      "Vehicle started and Vehicle stopped.\n"
     ]
    }
   ],
   "source": [
    "#Composition: In composition, code reuse is achieved by including instances of other classes as attributes within a class. \n",
    "#Each class encapsulates its own functionality, and the containing class delegates tasks to the contained classes.\n",
    "\n",
    "class Engine:\n",
    "    def start(self):\n",
    "        return \"Engine started.\"\n",
    "\n",
    "class Wheels:\n",
    "    def roll(self):\n",
    "        return \"Wheels rolling\"\n",
    "\n",
    "class Car:\n",
    "    def __init__(self):\n",
    "        # Composition: Car has an Engine and Wheels\n",
    "        self.engine = Engine()\n",
    "        self.wheels = Wheels()\n",
    "\n",
    "    def start_car(self):\n",
    "        return self.engine.start()\n",
    "\n",
    "    def drive(self):\n",
    "        return f\"{self.wheels.roll()} and {self.start_car()}\"\n",
    "\n",
    "# Create a Car instance\n",
    "my_car = Car()\n",
    "\n",
    "# Use composition to perform actions\n",
    "print(my_car.drive())  # Output: Wheels rolling and Engine started.\n",
    "\n",
    "\n",
    "#Inheritance: In inheritance, code reuse is achieved by creating a new class that is a modified version of an existing class. \n",
    "#The new class inherits the attributes and methods of the existing class and may override or extend them.\n",
    "\n",
    "class Vehicle:\n",
    "    def start(self):\n",
    "        return \"Vehicle started\"\n",
    "\n",
    "    def stop(self):\n",
    "        return \"Vehicle stopped.\"\n",
    "\n",
    "class Car(Vehicle):\n",
    "    def drive(self):\n",
    "        return f\"{self.start()} and {self.stop()}\"\n",
    "\n",
    "# Create a Car instance\n",
    "my_car = Car()\n",
    "\n",
    "# Use inheritance to perform actions\n",
    "print(my_car.drive())  # Output: Vehicle started and Vehicle stopped\n"
   ]
  },
  {
   "cell_type": "code",
   "execution_count": null,
   "id": "b545405d-353a-47fa-9109-1cfa4616aaff",
   "metadata": {},
   "outputs": [],
   "source": []
  },
  {
   "cell_type": "markdown",
   "id": "55df8b93-1a58-4c2d-b519-6e8dc8b3e850",
   "metadata": {},
   "source": [
    "### 3. Create a Python class called `Author` with attributes for name and birthdate. Then, create a `Book` class that contains an instance of `Author` as a composition. Provide an example of creating a `Book` object."
   ]
  },
  {
   "cell_type": "code",
   "execution_count": 26,
   "id": "7a0f9b0c-0a50-4a0a-8cae-19edcac2673b",
   "metadata": {},
   "outputs": [
    {
     "name": "stdout",
     "output_type": "stream",
     "text": [
      "Title:  Harry Potter and the Sorcerer's Stone\n",
      "Author: J K Rowling\n",
      "Birthdate of Author: 31st July 1965\n",
      "Publication Year: 1997\n"
     ]
    }
   ],
   "source": [
    "class Author:\n",
    "    def __init__(self, name, birthdate):\n",
    "        self.name = name\n",
    "        self.birthdate = birthdate\n",
    "\n",
    "class Book:\n",
    "    def __init__(self, title, author, publication_year):\n",
    "        self.title = title\n",
    "        self.author = author  # Composition: Book has an Author\n",
    "        self.publication_year = publication_year\n",
    "\n",
    "    def display_info(self):\n",
    "        print(f\"Title: {self.title}\")\n",
    "        print(f\"Author: {self.author.name}\")\n",
    "        print(f\"Birthdate of Author: {self.author.birthdate}\")\n",
    "        print(f\"Publication Year: {self.publication_year}\")\n",
    "\n",
    "# Example of creating an Author\n",
    "author_example = Author(name=\"J K Rowling\", birthdate=\"31st July 1965\")\n",
    "\n",
    "# Example of creating a Book with the Author as part of the composition\n",
    "book_example = Book(title=\" Harry Potter and the Sorcerer's Stone\", author=author_example, publication_year=1997)\n",
    "\n",
    "# Displaying information about the Book\n",
    "book_example.display_info()\n"
   ]
  },
  {
   "cell_type": "code",
   "execution_count": null,
   "id": "c417f9ce-f6cb-4017-8987-f68606b3eb9a",
   "metadata": {},
   "outputs": [],
   "source": []
  },
  {
   "cell_type": "markdown",
   "id": "eb835259-4928-49ff-b77d-cf0c9cfd01ba",
   "metadata": {},
   "source": [
    "### 4. Discuss the benefits of using composition over inheritance in Python, especially in terms of code flexibility and reusability."
   ]
  },
  {
   "cell_type": "code",
   "execution_count": null,
   "id": "17e13083-d640-4373-a5d1-914d5db6200b",
   "metadata": {},
   "outputs": [],
   "source": [
    "'''\n",
    "Composition enables you to reuse code by adding objects to other objects, as opposed to inheriting the interface and implementation \n",
    "of other classes. Both Horse and Dog classes can leverage the functionality of Tail through composition without deriving one class \n",
    "from the other.\n",
    "\n",
    "Composition provides several advantages over inheritance:\n",
    "\n",
    "1. Flexibility: \n",
    "With composition, you can easily change the behavior of a class by modifying the objects it is composed of, without affecting \n",
    "the rest of the code.\n",
    "* Composition: With composition, you can easily change or replace components without affecting the overall structure of the class. \n",
    "             This makes your code more adaptable to changes and allows for a more flexible design.\n",
    "* Inheritance: Inheritance can be less flexible because changes to the base class may impact all the derived classes. Modifications \n",
    "             can affect the entire class hierarchy, making it less adaptable to changes.\n",
    "\n",
    "2. Code Reusability:\n",
    "\n",
    "You can reuse existing classes in new contexts, promoting modular and reusable code.\n",
    "* Composition: Code reuse is achieved by combining instances of other classes as attributes within a class. Each class encapsulates \n",
    "               its own functionality, promoting a modular and reusable codebase.\n",
    "* Inheritance: While inheritance supports code reuse, it can lead to a less modular code structure. Changes to the base class can \n",
    "               affect all derived classes, potentially introducing unintended consequences.\n",
    "\n",
    "\n",
    "3. Maintainability: \n",
    "Changes to the internal implementation of a composed class do not affect the classes that use it.\n",
    "\n",
    "4. Ease of Testing:\n",
    "\n",
    "* Composition: Classes with composition are often easier to test in isolation. Mocking or substituting components during testing\n",
    "               can be simpler, as dependencies are usually injected through constructor parameters.\n",
    "* Inheritance: Inheritance hierarchies may require more effort in testing, as changes to the base class can affect multiple derived\n",
    "               classes. Isolating specific parts for testing might be more challenging.\n",
    "\n",
    "5. Avoid code rigidity\n",
    "\n",
    "6. Promotes encapsulation\n",
    "\n",
    "'''"
   ]
  },
  {
   "cell_type": "code",
   "execution_count": null,
   "id": "f3dbb20b-1ffb-4749-ad39-d527581b26e8",
   "metadata": {},
   "outputs": [],
   "source": []
  },
  {
   "cell_type": "markdown",
   "id": "ad2d01d0-efb9-4119-bd5e-5231a5fee6c8",
   "metadata": {},
   "source": [
    "### 5. How can you implement composition in Python classes? Provide examples of using composition to create complex objects."
   ]
  },
  {
   "cell_type": "code",
   "execution_count": 27,
   "id": "5a0580a3-1e4c-4a0c-b456-2f8321c9a95e",
   "metadata": {},
   "outputs": [
    {
     "name": "stdout",
     "output_type": "stream",
     "text": [
      "Wheels rolling and Engine started.\n"
     ]
    }
   ],
   "source": [
    "'''\n",
    "Through the compositions, we actually state the relationship between the two classes. And in this way, the code can be reused. \n",
    "This has a common similarity with the concept of inheritance. As a result, we obtain more complex structures by combining objects.\n",
    "\n",
    "To implement composition in Python classes, we include instances of other classes as attributes within a class. This allows you to \n",
    "build more complex objects by combining simpler ones. \n",
    "\n",
    "Here are examples demonstrating composition in Python:\n",
    "'''\n",
    "# Example : Composition in Python\n",
    "\n",
    "class Engine:\n",
    "    def start(self):\n",
    "        return \"Engine started.\"\n",
    "\n",
    "class Wheels:\n",
    "    def roll(self):\n",
    "        return \"Wheels rolling\"\n",
    "\n",
    "class Car:\n",
    "    def __init__(self):\n",
    "        # Composition: Car has an Engine and Wheels\n",
    "        self.engine = Engine()\n",
    "        self.wheels = Wheels()\n",
    "\n",
    "    def start_car(self):\n",
    "        return self.engine.start()\n",
    "\n",
    "    def drive(self):\n",
    "        return f\"{self.wheels.roll()} and {self.start_car()}\"\n",
    "\n",
    "# Create a Car instance\n",
    "my_car = Car()\n",
    "\n",
    "# Use composition to perform actions\n",
    "print(my_car.drive())  # Output: Wheels rolling and Engine started.\n"
   ]
  },
  {
   "cell_type": "code",
   "execution_count": null,
   "id": "fb0b643f-452a-4ab1-be5b-8a4f3528558b",
   "metadata": {},
   "outputs": [],
   "source": []
  },
  {
   "cell_type": "markdown",
   "id": "41a2286e-9c4f-4dbb-befd-b21c669f9416",
   "metadata": {},
   "source": [
    "### 6. Create a Python class hierarchy for a music player system, using composition to represent playlists and songs."
   ]
  },
  {
   "cell_type": "code",
   "execution_count": 28,
   "id": "584aaa23-1acb-4123-b5a4-4f813559e5b2",
   "metadata": {},
   "outputs": [
    {
     "name": "stdout",
     "output_type": "stream",
     "text": [
      "Playing all songs in My Favorites playlist:\n",
      "Playing: Maa Tujhe Salaam (माँ तुझे सलाम) by A. R. Rahman\n",
      "Playing: Imagine by John Lennon\n",
      "\n",
      "Playing all songs in Rock Classics playlist:\n",
      "Playing: Imagine by John Lennon\n",
      "Playing: Hey Jude by The Beatles\n",
      "\n"
     ]
    }
   ],
   "source": [
    "class Song:\n",
    "    def __init__(self, title, artist, duration):\n",
    "        self.title = title\n",
    "        self.artist = artist\n",
    "        self.duration = duration\n",
    "\n",
    "    def play(self):\n",
    "        return f\"Playing: {self.title} by {self.artist}\"\n",
    "\n",
    "class Playlist:\n",
    "    def __init__(self, name):\n",
    "        self.name = name\n",
    "        self.songs = []\n",
    "\n",
    "    def add_song(self, song):\n",
    "        self.songs.append(song)\n",
    "\n",
    "    def play_all(self):\n",
    "        if not self.songs:\n",
    "            return \"Playlist is empty\"\n",
    "        else:\n",
    "            playlist_info = f\"Playing all songs in {self.name} playlist:\\n\"\n",
    "            for song in self.songs:\n",
    "                playlist_info += f\"{song.play()}\\n\"\n",
    "            return playlist_info\n",
    "\n",
    "class MusicPlayer:\n",
    "    def __init__(self):\n",
    "        self.playlists = []\n",
    "\n",
    "    def create_playlist(self, name):\n",
    "        playlist = Playlist(name)\n",
    "        self.playlists.append(playlist)\n",
    "        return playlist\n",
    "\n",
    "# Example usage:\n",
    "\n",
    "# Create songs\n",
    "song1 = Song(\"Maa Tujhe Salaam (माँ तुझे सलाम)\", \"A. R. Rahman\", \"3:30\")\n",
    "song2 = Song(\"Imagine\", \"John Lennon\", \"4:10\")\n",
    "song3 = Song(\"Hey Jude\", \"The Beatles\", \"2:50\")\n",
    "\n",
    "# Create a music player\n",
    "music_player = MusicPlayer()\n",
    "\n",
    "# Create playlists\n",
    "playlist1 = music_player.create_playlist(\"My Favorites\")\n",
    "playlist2 = music_player.create_playlist(\"Rock Classics\")\n",
    "\n",
    "# Add songs to playlists\n",
    "playlist1.add_song(song1)\n",
    "playlist1.add_song(song2)\n",
    "playlist2.add_song(song2)\n",
    "playlist2.add_song(song3)\n",
    "\n",
    "# Play songs\n",
    "print(playlist1.play_all())\n",
    "print(playlist2.play_all())\n"
   ]
  },
  {
   "cell_type": "code",
   "execution_count": null,
   "id": "8443ea6f-2bec-455d-a98a-30125450149b",
   "metadata": {},
   "outputs": [],
   "source": []
  },
  {
   "cell_type": "markdown",
   "id": "a34602e1-223b-4000-b9b2-5b52183a7af0",
   "metadata": {},
   "source": [
    "### 7. Explain the concept of \"has-a\" relationships in composition and how it helps design software systems."
   ]
  },
  {
   "cell_type": "code",
   "execution_count": null,
   "id": "c54b6e6e-6527-49a1-b579-4afa409811fc",
   "metadata": {},
   "outputs": [],
   "source": [
    "'''\n",
    "In object-oriented programming, a \"has-a\" relationship is a type of association between classes that signifies that one class has\n",
    "another class as a part or component. This relationship is typically implemented through composition, where one class includes an\n",
    "instance of another class as one of its members (attributes). The class containing the instance is said to \"have\" or \"own\" the \n",
    "other class.\n",
    "\n",
    "In this concept, we will describe a class that references to one or more objects of other classes as an Instance variable. \n",
    "Here, by using the class name or by creating the object we can access the members of one class inside another class. \n",
    "It enables creating complex types by combining objects of different classes. It means that a class Composite can contain an object of \n",
    "another class Component. This type of relationship is known as Has-A Relation.\n",
    "\n",
    "There are key points to understand about \"has-a\" relationships in composition and how they contribute to designing software systems:\n",
    "\n",
    "1. Composition and \"Has-a\" Relationship:\n",
    "   * Definition: Composition is a design principle where a class includes objects of other classes to create more complex objects.\n",
    "     The \"has-a\" relationship is a manifestation of composition.\n",
    "   * Implementation: The class with the \"has-a\" relationship includes an instance of another class as an attribute.\n",
    "\n",
    "2. Code Reusability and Modularity:\n",
    "   * Benefits: Composition enhances code reusability and modularity. By composing classes with well-defined responsibilities, you \n",
    "     can reuse existing classes in different contexts and easily modify or replace components without affecting the entire system.\n",
    "   * Example: A Car class can have a \"has-a\" relationship with an Engine class. This allows you to reuse the Engine class in various\n",
    "     types of cars without duplicating code.\n",
    "\n",
    "3. Flexibility and Maintainability:\n",
    "   * Flexibility: \"Has-a\" relationships provide flexibility. If the requirements change or new features need to be added, you can \n",
    "     modify or extend individual components without affecting the entire system.\n",
    "   * Example: In a graphics application, a Canvas class might have a \"has-a\" relationship with a Shape class. Adding a new shape \n",
    "     doesn't require modifying the Canvas class, promoting flexibility.\n",
    "\n",
    "4. Reduced Coupling:\n",
    "   * Decoupling: Composition reduces the coupling between classes compared to deep inheritance hierarchies. Classes can evolve \n",
    "     independently, and changes to one class don't necessarily impact the other.\n",
    "   * Example: A House class might have a \"has-a\" relationship with a Kitchen class. Changing the implementation of the Kitchen \n",
    "     doesn't affect the overall behavior of the House class.\n",
    "\n",
    "5. Encapsulation and Abstraction:\n",
    "   * Encapsulation: \"Has-a\" relationships encapsulate the implementation details of one class within another, promoting information \n",
    "     hiding.\n",
    "   * Abstraction: It allows for abstraction, where a complex system is represented by higher-level entities (classes) containing \n",
    "     lower-level details (other classes).\n",
    "\n",
    "6. Improved Testing:\n",
    "   * Isolation: Components in a \"has-a\" relationship can be tested in isolation. You can test each class independently, facilitating\n",
    "     unit testing and making it easier to identify and fix issues.\n",
    "'''\n"
   ]
  },
  {
   "cell_type": "code",
   "execution_count": null,
   "id": "06ced56d-fdd8-4dab-8853-c2ea6dce2ef0",
   "metadata": {},
   "outputs": [],
   "source": []
  },
  {
   "cell_type": "markdown",
   "id": "fb729177-06ea-489c-a353-7bfe2dbbe3d7",
   "metadata": {},
   "source": [
    "### 8. Create a Python class for a computer system, using composition to represent components like CPU, RAM, and storage devices."
   ]
  },
  {
   "cell_type": "code",
   "execution_count": 30,
   "id": "74242a6b-c4dc-4d0a-9df5-ed751a3a2e75",
   "metadata": {},
   "outputs": [
    {
     "name": "stdout",
     "output_type": "stream",
     "text": [
      "Intel i5 core CPU processing data at 3.2 GHz\n",
      "Reading data from 8 GB RAM\n",
      "Storing data in 256 GB storage\n"
     ]
    }
   ],
   "source": [
    "class CPU:\n",
    "    def __init__(self, brand, speed):\n",
    "        self.brand = brand\n",
    "        self.speed = speed\n",
    "\n",
    "    def process_data(self):\n",
    "        print(f\"{self.brand} CPU processing data at {self.speed} GHz\")\n",
    "\n",
    "class RAM:\n",
    "    def __init__(self, capacity):\n",
    "        self.capacity = capacity\n",
    "\n",
    "    def read_data(self):\n",
    "        print(f\"Reading data from {self.capacity} GB RAM\")\n",
    "\n",
    "class Storage:\n",
    "    def __init__(self, capacity):\n",
    "        self.capacity = capacity\n",
    "\n",
    "    def store_data(self):\n",
    "        print(f\"Storing data in {self.capacity} GB storage\")\n",
    "\n",
    "class Computer:\n",
    "    def __init__(self, cpu, ram, storage):\n",
    "        self.cpu = cpu  # Composition: Computer has a CPU\n",
    "        self.ram = ram  # Composition: Computer has RAM\n",
    "        self.storage = storage  # Composition: Computer has Storage\n",
    "\n",
    "    def perform_computations(self):\n",
    "        self.cpu.process_data()\n",
    "        self.ram.read_data()\n",
    "        self.storage.store_data()\n",
    "\n",
    "# Example Usage\n",
    "my_cpu = CPU(brand=\"Intel i5 core\", speed=3.2)\n",
    "my_ram = RAM(capacity=8)\n",
    "my_storage = Storage(capacity=256)\n",
    "\n",
    "my_computer = Computer(cpu=my_cpu, ram=my_ram, storage=my_storage)\n",
    "\n",
    "# Perform computations using the computer\n",
    "my_computer.perform_computations()\n"
   ]
  },
  {
   "cell_type": "code",
   "execution_count": null,
   "id": "e7d88669-46c8-419a-be92-c35d86f38835",
   "metadata": {},
   "outputs": [],
   "source": []
  },
  {
   "cell_type": "markdown",
   "id": "d978b7fa-5b62-4e19-a037-ed9d36f7d3a4",
   "metadata": {},
   "source": [
    "### 9. Describe the concept of \"delegation\" in composition and how it simplifies the design of complex systems."
   ]
  },
  {
   "cell_type": "code",
   "execution_count": null,
   "id": "dc6ad46d-1e5c-4c45-87da-d3f0c63c6e11",
   "metadata": {},
   "outputs": [],
   "source": [
    "'''\n",
    "Delegation, in the context of object-oriented programming and composition, is a design pattern where one object assigns or\n",
    "forwards a task to another object. It's a way to achieve code reuse and modularity by allowing one class to utilize the \n",
    "functionality of another class without directly inheriting from it. Delegation simplifies the design of complex systems \n",
    "by promoting flexibility, modularity, and separation of concerns.\n",
    "\n",
    "Object Delegation means using the object of another class as a class member of another class. It is known as object delegation.\n",
    "Delegation can be an alternative to inheritance, but in an inheritance, there is an 'i-s a' relationship, but in the delegation, \n",
    "there is no inheritance relationship between the classes.\n",
    "\n",
    "There are key aspects of delegation in composition:\n",
    "\n",
    "1. Responsibility Transfer:\n",
    "   * Delegating Tasks: Delegation involves assigning specific tasks or responsibilities to another object. Instead of \n",
    "     implementing the behavior directly, an object delegates the responsibility to another object.\n",
    "\n",
    "2. Composition-Based Relationship:\n",
    "   * Has-a Relationship: Delegation is often associated with composition, where one class includes an instance of another \n",
    "     class. The class with the responsibility retains a reference to the delegate class.\n",
    "\n",
    "3. Code Reusability:\n",
    "   * Promoting Code Reuse: Delegation enables the reuse of existing classes in new contexts. Instead of inheriting behavior, \n",
    "     a class can delegate certain tasks to another class, promoting code reuse and modularity.\n",
    "\n",
    "4. Flexibility and Adaptability:\n",
    "   * Easier Adaptations: Delegation makes it easier to adapt to changes. If the behavior of the delegate class needs to be \n",
    "     modified or replaced, it can be done independently without affecting the delegating class.\n",
    "\n",
    "5. Encapsulation and Separation of Concerns:\n",
    "   * Encapsulation: Delegation encapsulates the details of how a task is performed within the delegate class. This promotes \n",
    "     information hiding and abstraction.\n",
    "   * Separation of Concerns: Different concerns are separated into distinct classes, making the codebase more modular and easier\n",
    "     to understand.\n",
    "\n",
    "6. Reduced Code Coupling:\n",
    "   * Loose Coupling: Delegation reduces the coupling between classes. The delegating class depends on the interface of the delegate\n",
    "     class rather than its implementation, leading to loose coupling.\n",
    "'''"
   ]
  },
  {
   "cell_type": "code",
   "execution_count": 31,
   "id": "2edb5023-8a1f-4ebd-a78d-472126e20e33",
   "metadata": {},
   "outputs": [
    {
     "name": "stdout",
     "output_type": "stream",
     "text": [
      "Scheduling task : Complete project documentation before the deadline.\n"
     ]
    }
   ],
   "source": [
    "'''\n",
    "Example:\n",
    "'''\n",
    "\n",
    "class Scheduler:\n",
    "    def schedule_task(self, task):\n",
    "        return f\"Scheduling task : {task}\"\n",
    "\n",
    "class ProjectManager:\n",
    "    def __init__(self, scheduler):\n",
    "        # Delegation: ProjectManager delegates scheduling to a Scheduler\n",
    "        self.scheduler = scheduler\n",
    "\n",
    "    def assign_task(self, task):\n",
    "        return self.scheduler.schedule_task(task)\n",
    "\n",
    "# Example usage:\n",
    "\n",
    "# Create a Scheduler instance\n",
    "task_scheduler = Scheduler()\n",
    "\n",
    "# Create a ProjectManager instance with a Scheduler as part of composition\n",
    "project_manager = ProjectManager(task_scheduler)\n",
    "\n",
    "# Delegate the task of scheduling to the Scheduler\n",
    "result = project_manager.assign_task(\"Complete project documentation before the deadline.\")\n",
    "print(result)\n"
   ]
  },
  {
   "cell_type": "code",
   "execution_count": null,
   "id": "e8cd00d8-0cfc-4b89-a9cb-9f23e0792fff",
   "metadata": {},
   "outputs": [],
   "source": []
  },
  {
   "cell_type": "markdown",
   "id": "933601f4-f128-46e3-ab8a-de3377319f03",
   "metadata": {},
   "source": [
    "### 10. Create a Python class for a car, using composition to represent components like the engine, wheels, and transmission."
   ]
  },
  {
   "cell_type": "code",
   "execution_count": 43,
   "id": "6e14eba7-749a-487e-9eb4-58f55c2fcbad",
   "metadata": {},
   "outputs": [
    {
     "name": "stdout",
     "output_type": "stream",
     "text": [
      "Engine started\n",
      "Wheels is rotating\n",
      "Car started\n",
      "Car accelerating\n",
      "Car braking\n",
      "Gear shifted\n",
      "Car is in motion\n",
      "Engine stopped\n",
      "Wheels stopped\n",
      "Car stopped\n",
      "\n",
      "Car Specifications:\n",
      "  Make: Toyota\n",
      "  Model: Camry\n",
      "  Year: 2020\n",
      "\n",
      "Engine Specifications:\n",
      "  Type: Gasoline\n",
      "  Cylinders: 4\n",
      "  Horsepower: 180 HP\n",
      "\n",
      "Wheels Specifications:\n",
      "  Manufacturer: Bridgestone\n",
      "  Size: 17 inches\n",
      "  Manufacturer: Bridgestone\n",
      "  Size: 17 inches\n",
      "  Manufacturer: Bridgestone\n",
      "  Size: 17 inches\n",
      "  Manufacturer: Bridgestone\n",
      "  Size: 17 inches\n",
      "\n",
      "Transmission Specifications:\n",
      "  Type: Automatic\n",
      "  Gears: 6\n"
     ]
    }
   ],
   "source": [
    "\n",
    "class Engine:\n",
    "    def __init__(self, type, cylinders, horsepower):\n",
    "        self.type = type\n",
    "        self.cylinders = cylinders\n",
    "        self.horsepower = horsepower\n",
    "\n",
    "    def start(self):\n",
    "        print(\"Engine started\")\n",
    "        \n",
    "    def stop(self):\n",
    "        print(\"Engine stopped\")\n",
    "\n",
    "class Wheel:\n",
    "    def __init__(self, manufacturer, size):\n",
    "        self.manufacturer = manufacturer\n",
    "        self.size = size\n",
    "\n",
    "    \n",
    "\n",
    "class Transmission:\n",
    "    def __init__(self, type, gears):\n",
    "        self.type = type\n",
    "        self.gears = gears\n",
    "\n",
    "    def shift_gear(self):\n",
    "        print(f\"Gear shifted\")\n",
    "\n",
    "class Car:\n",
    "    def __init__(self, make, model, year):\n",
    "        self.make = make\n",
    "        self.model = model\n",
    "        self.year = year\n",
    "        self.engine = Engine(\"Gasoline\", 4, 180)\n",
    "        self.wheels = [Wheel(\"Bridgestone\", 17), Wheel(\"Bridgestone\", 17),\n",
    "                       Wheel(\"Bridgestone\", 17), Wheel(\"Bridgestone\", 17)]\n",
    "        self.transmission = Transmission(\"Automatic\", 6)\n",
    "\n",
    "    def start_car(self):\n",
    "        self.engine.start()\n",
    "\n",
    "    def accelerate(self):\n",
    "        print(\"Wheels is rotating\")\n",
    "        print(\"Car started\")\n",
    "        print(\"Car accelerating\")\n",
    "\n",
    "    def brake(self):\n",
    "        print(\"Car braking\")\n",
    "        self.transmission.shift_gear()\n",
    "        print(\"Car is in motion\")\n",
    "        self.engine.stop()\n",
    "        print(\"Wheels stopped\")\n",
    "        print(\"Car stopped\")\n",
    "\n",
    "    def print_specs(self):\n",
    "        print(\"\\nCar Specifications:\")\n",
    "        print(f\"  Make: {self.make}\")\n",
    "        print(f\"  Model: {self.model}\")\n",
    "        print(f\"  Year: {self.year}\")\n",
    "        print(\"\\nEngine Specifications:\")\n",
    "        print(f\"  Type: {self.engine.type}\")\n",
    "        print(f\"  Cylinders: {self.engine.cylinders}\")\n",
    "        print(f\"  Horsepower: {self.engine.horsepower} HP\")\n",
    "        print(\"\\nWheels Specifications:\")\n",
    "        for wheel in self.wheels:\n",
    "            print(f\"  Manufacturer: {wheel.manufacturer}\")\n",
    "            print(f\"  Size: {wheel.size} inches\")\n",
    "        print(\"\\nTransmission Specifications:\")\n",
    "        print(f\"  Type: {self.transmission.type}\")\n",
    "        print(f\"  Gears: {self.transmission.gears}\")\n",
    "\n",
    "car = Car(\"Toyota\", \"Camry\", 2020)\n",
    "\n",
    "car.start_car()\n",
    "car.accelerate()\n",
    "car.brake()\n",
    "car.print_specs()\n"
   ]
  },
  {
   "cell_type": "code",
   "execution_count": null,
   "id": "61f6d257-75b8-46bf-828d-53a96ff9f543",
   "metadata": {},
   "outputs": [],
   "source": []
  },
  {
   "cell_type": "markdown",
   "id": "25b7ed27-c01d-47e4-aa3c-c0f633776b3e",
   "metadata": {},
   "source": [
    "### 11. How can you encapsulate and hide the details of composed objects in Python classes to maintain abstraction?"
   ]
  },
  {
   "cell_type": "code",
   "execution_count": null,
   "id": "cec4c029-da98-4df0-8a53-e0577564b8aa",
   "metadata": {},
   "outputs": [],
   "source": [
    "'''\n",
    "Encapsulation is a fundamental principle in object-oriented programming that involves bundling the data (attributes) and methods \n",
    "that operate on the data within a single unit, known as a class. When dealing with composed objects in Python, encapsulation can\n",
    "be used to hide the internal details of the composed objects and maintain abstraction. \n",
    "\n",
    "Encapsulation: combining all the attributes and the methods that the class needs under one umbrella (class itself) makes your \n",
    "code easy to maintain.\n",
    "Abstraction: hiding away the implementation details from the external user which makes your code easy tobe shared with other \n",
    "developers.\n",
    "\n",
    "'''"
   ]
  },
  {
   "cell_type": "code",
   "execution_count": null,
   "id": "00112123-cf81-44b4-88ca-d1bfda08ad88",
   "metadata": {},
   "outputs": [],
   "source": [
    "'''\n",
    "Here are some strategies to achieve encapsulation and hide details in composed objects:\n",
    "\n",
    "1.Private Attributes:\n",
    "  * Use private attributes (attributes with names starting with a double underscore, e.g., __attribute) to make the \n",
    "    internal details of an object private to the class.\n",
    "  * This prevents direct access to the attributes from outside the class, promoting encapsulation.\n",
    "\n",
    "Example :\n",
    "'''\n",
    "class Car:\n",
    "    def __init__(self, engine, wheels, transmission):\n",
    "        self.__engine = engine  # Private attribute\n",
    "        self.__wheels = wheels  # Private attribute\n",
    "        self.__transmission = transmission  # Private attribute\n",
    "        "
   ]
  },
  {
   "cell_type": "code",
   "execution_count": 13,
   "id": "833d9333-1518-478e-9fb2-283080aee9eb",
   "metadata": {},
   "outputs": [],
   "source": [
    "'''\n",
    "2. Getter and Setter Methods:\n",
    "   * Provide getter and setter methods to access and modify the private attributes.\n",
    "   * This allows controlled access to the internal details and enables you to implement additional logic when getting \n",
    "     or setting values.\n",
    "\n",
    "Example :\n",
    "'''\n",
    "class Car:\n",
    "    # ... (previous code)\n",
    "\n",
    "    def get_engine(self):\n",
    "        return self.__engine\n",
    "    def set_engine(self, engine):\n",
    "        # Additional logic, if needed\n",
    "        self.__engine = engine"
   ]
  },
  {
   "cell_type": "code",
   "execution_count": 14,
   "id": "0ce22d5b-6f7b-44d8-bd9a-2bdd8fd22352",
   "metadata": {},
   "outputs": [],
   "source": [
    "'''\n",
    "3. Method Abstraction:\n",
    "   * Define methods that abstract the functionality of the composed objects.\n",
    "   * Expose only high-level methods in the class interface, hiding the specific details of how the composed objects \n",
    "     perform their tasks.\n",
    "\n",
    "Example:\n",
    "'''\n",
    "class Car:\n",
    "    # ... (previous code)\n",
    "\n",
    "    def start(self):\n",
    "        self.__engine.start()\n",
    "        self.__wheels.roll()\n",
    "        print(\"Car started\")\n",
    "\n",
    "    def stop(self):\n",
    "        self.__engine.stop()\n",
    "        self.__wheels.stop()\n",
    "        print(\"Car stopped\")\n",
    "        "
   ]
  },
  {
   "cell_type": "code",
   "execution_count": null,
   "id": "afc1fee6-f264-41fe-b40c-5f1e8dcfc6b8",
   "metadata": {},
   "outputs": [],
   "source": [
    "'''\n",
    "4. Use of Properties:\n",
    "   * Use the @property decorator to create read-only properties for certain attributes.\n",
    "   * This allows controlled access to the attribute while preventing direct modification.\n",
    "\n",
    "Example:\n",
    "'''\n",
    "class Car:\n",
    "    def __init__(self, engine, wheels, transmission):\n",
    "        self.__engine = engine  # Private attribute\n",
    "        self.__wheels = wheels  # Private attribute\n",
    "        self.__transmission = transmission  # Private attribute\n",
    "\n",
    "    @property\n",
    "    def engine(self):\n",
    "        return self.__engine\n",
    "    "
   ]
  },
  {
   "cell_type": "code",
   "execution_count": null,
   "id": "0a31f6ee-76ad-4783-a68a-cc6a51051759",
   "metadata": {},
   "outputs": [],
   "source": [
    "'''\n",
    "5. Public, Private, and Protected Methods: \n",
    "   * Python uses access modifiers to control access to class methods and attributes. Public methods are accessible from \n",
    "     outside the class, private methods can only be called from within the class, and protected methods can be accessed \n",
    "     from within the class and its subclasses.\n",
    "\n",
    "6. Abstraction: \n",
    "   * Abstraction involves focusing on the essential functionalities and behavior of an object, hiding the underlying \n",
    "     implementation details. This simplifies the user's interaction with the object and promotes encapsulation.\n",
    "\n",
    "7. Interfaces:\n",
    "   * Interfaces define a set of methods that a class must implement. This promotes loose coupling between classes and \n",
    "     ensures that objects of different classes can interact through a standardized interface.\n",
    "\n",
    "8. Data Hiding: \n",
    "   * Data hiding involves restricting direct access to an object's internal data members. By using access modifiers and \n",
    "     helper methods, you can control how data is manipulated and protect the object's state from external modifications.\n",
    "'''\n"
   ]
  },
  {
   "cell_type": "code",
   "execution_count": null,
   "id": "7fdbd085-935e-4dfa-86e1-f546fe25dcc7",
   "metadata": {},
   "outputs": [],
   "source": []
  },
  {
   "cell_type": "markdown",
   "id": "cd9b1b17-2895-420d-a2cf-da4d432baec2",
   "metadata": {},
   "source": [
    "### 12. Create a Python class for a university course, using composition to represent students, instructors, and course materials."
   ]
  },
  {
   "cell_type": "code",
   "execution_count": 16,
   "id": "9fa292bd-88aa-4308-b54a-d1428a2b0c4e",
   "metadata": {},
   "outputs": [
    {
     "name": "stdout",
     "output_type": "stream",
     "text": [
      "Enrollment Results:\n",
      "Arpita has enrolled in Python Programming\n",
      "Rohan has enrolled in Python Programming\n",
      "\n",
      "Course Information:\n",
      "Course: Python Programming\n",
      "Instructor: Professor Dr.Sohan Chawla\n",
      "Students:\n",
      "- Arpita\n",
      "- Rohan\n",
      "Course Material: Introduction to Python Programming\n",
      "\n",
      "Grade Assignments:\n",
      "Professor Dr.Sohan Chawla assigned a grade of A to Arpita for Python Programming\n",
      "Professor Dr.Sohan Chawla assigned a grade of A to Rohan for Python Programming\n"
     ]
    }
   ],
   "source": [
    "class Student:\n",
    "    def __init__(self, student_id, name):\n",
    "        self.student_id = student_id\n",
    "        self.name = name\n",
    "\n",
    "    def enroll(self, course):\n",
    "        return f\"{self.name} has enrolled in {course.title}\"\n",
    "\n",
    "class Instructor:\n",
    "    def __init__(self, instructor_id, name):\n",
    "        self.instructor_id = instructor_id\n",
    "        self.name = name\n",
    "\n",
    "    def assign_grade(self, student, course, grade):\n",
    "        return f\"{self.name} assigned a grade of {grade} to {student.name} for {course.title}\"\n",
    "\n",
    "class CourseMaterial:\n",
    "    def __init__(self, title, content):\n",
    "        self.title = title\n",
    "        self.content = content\n",
    "\n",
    "class UniversityCourse:\n",
    "    def __init__(self, title, instructor, students, course_material):\n",
    "        # Composition: UniversityCourse has an Instructor, Students, and CourseMaterial\n",
    "        self.title = title\n",
    "        self.instructor = instructor\n",
    "        self.students = students\n",
    "        self.course_material = course_material\n",
    "\n",
    "    def display_course_info(self):\n",
    "        info = f\"Course: {self.title}\\nInstructor: {self.instructor.name}\\n\"\n",
    "        info += \"Students:\\n\"\n",
    "        for student in self.students:\n",
    "            info += f\"- {student.name}\\n\"\n",
    "        info += f\"Course Material: {self.course_material.title}\"\n",
    "        return info\n",
    "\n",
    "# Example usage:\n",
    "\n",
    "# Create students\n",
    "student1 = Student(1, \"Arpita\")\n",
    "student2 = Student(2, \"Rohan\")\n",
    "\n",
    "# Create an instructor\n",
    "instructor = Instructor(123, \"Professor Dr.Sohan Chawla\")\n",
    "\n",
    "# Create course material\n",
    "material = CourseMaterial(\"Introduction to Python Programming\", \"Course content goes here...\")\n",
    "\n",
    "# Create a UniversityCourse instance with Instructor, Students, and CourseMaterial as part of composition\n",
    "python_course = UniversityCourse(\"Python Programming\", instructor, [student1, student2], material)\n",
    "\n",
    "# Enroll students in the course\n",
    "enrollment_results = [student.enroll(python_course) for student in [student1, student2]]\n",
    "\n",
    "# Display course information\n",
    "course_info = python_course.display_course_info()\n",
    "\n",
    "# Assign grades\n",
    "grades = [instructor.assign_grade(student, python_course, \"A\") for student in [student1, student2]]\n",
    "\n",
    "# Print results\n",
    "print(\"Enrollment Results:\")\n",
    "print(\"\\n\".join(enrollment_results))\n",
    "print(\"\\nCourse Information:\")\n",
    "print(course_info)\n",
    "print(\"\\nGrade Assignments:\")\n",
    "print(\"\\n\".join(grades))\n"
   ]
  },
  {
   "cell_type": "code",
   "execution_count": null,
   "id": "9a38ce8e-fbf8-481c-953d-3cc5eabc8bd4",
   "metadata": {},
   "outputs": [],
   "source": []
  },
  {
   "cell_type": "markdown",
   "id": "aa0e87f2-39ac-4662-ba15-5135a1379eb9",
   "metadata": {},
   "source": [
    "### 13. Discuss the challenges and drawbacks of composition, such as increased complexity and potential for tight coupling between objects."
   ]
  },
  {
   "cell_type": "code",
   "execution_count": null,
   "id": "3b7436ca-4221-426c-93e8-e17cf397bab5",
   "metadata": {},
   "outputs": [],
   "source": [
    "'''\n",
    "While composition is a powerful design concept in object-oriented programming, it is not without its challenges and \n",
    "drawbacks. \n",
    "\n",
    "Here are some potential issues associated with composition:\n",
    "1. Increased Complexity:\n",
    "   * Challenge: As a system grows and more components are composed together, managing the interactions between these \n",
    "     components can become complex.\n",
    "   * Drawback: The overall complexity of the system may increase, making it more challenging to understand, maintain, and extend.\n",
    "\n",
    "2. Potential for Tight Coupling:\n",
    "   * Challenge: Composition can lead to tight coupling between objects if the interactions between components are not carefully \n",
    "     managed.\n",
    "   * Drawback: Tight coupling makes it harder to modify or replace individual components without affecting other parts of the \n",
    "     system. It can hinder code flexibility and reusability.\n",
    "\n",
    "3. Inheritance vs. Composition Dilemma:\n",
    "   * Challenge: Deciding whether to use composition or inheritance can be challenging, and there is often a trade-off between the two.\n",
    "   * Drawback: In some cases, choosing composition over inheritance might result in more code that needs to be written and maintained.\n",
    "\n",
    "4. Abstraction Levels:\n",
    "   * Challenge: Achieving the right level of abstraction can be challenging. It's important to strike a balance between encapsulating \n",
    "     details and providing a useful and intuitive interface.\n",
    "   * Drawback: Poorly chosen abstractions may lead to a leaky abstraction, where internal details are exposed unintentionally.\n",
    "\n",
    "5. Performance Overhead:\n",
    "   * Challenge: There can be a slight performance overhead associated with composition, especially if there are many small objects \n",
    "     being composed together.\n",
    "   * Drawback: In performance-critical systems, this overhead might be a concern, although it is often negligible in most applications.\n",
    "\n",
    "6. Dependency Management:\n",
    "   * Managing dependencies between objects becomes crucial in a composed system. Changes to one object may have a ripple effect on \n",
    "     other dependent objects, requiring careful consideration of the impact of modifications.\n",
    "\n",
    "7. Constructor Overhead:\n",
    "   * In languages that lack support for default values in constructors, the need to pass instances of composed objects through the\n",
    "     constructor can lead to increased constructor overhead and more verbose instantiation.\n",
    "\n",
    "8. Debugging Difficulties:\n",
    "   * Debugging composed systems can be more challenging due to the interconnectedness of objects. Isolating the source of an error \n",
    "     or bug can be difficult, as it may originate from interactions between multiple components.\n",
    "\n",
    "'''"
   ]
  },
  {
   "cell_type": "code",
   "execution_count": null,
   "id": "670daa8e-73a2-40eb-91ac-eca1c886509a",
   "metadata": {},
   "outputs": [],
   "source": []
  },
  {
   "cell_type": "markdown",
   "id": "b6fb4e8b-9567-4253-9660-6bf274e22af3",
   "metadata": {},
   "source": [
    "### 14. Create a Python class hierarchy for a restaurant system, using composition to represent menus, dishes, and ingredients."
   ]
  },
  {
   "cell_type": "code",
   "execution_count": 17,
   "id": "e7f9dcee-1b80-4ca1-bba3-de97fde9b972",
   "metadata": {},
   "outputs": [
    {
     "name": "stdout",
     "output_type": "stream",
     "text": [
      "Welcome to Italian Restaurant!!\n",
      "Menu: Italian Menu\n",
      "Dishes:\n",
      "Dish: Margherita Pizza\n",
      "Ingredients:\n",
      "- 3 units of Tomato\n",
      "- 200 units of Cheese\n",
      "- 1 units of Dough\n",
      "\n",
      "Dish: Spaghetti Bolognese\n",
      "Ingredients:\n",
      "- 3 units of Tomato\n",
      "- 200 units of Cheese\n",
      "\n",
      "\n"
     ]
    }
   ],
   "source": [
    "class Ingredient:\n",
    "    def __init__(self, name, quantity):\n",
    "        self.name = name\n",
    "        self.quantity = quantity\n",
    "\n",
    "    def __str__(self):\n",
    "        return f\"{self.quantity} units of {self.name}\"\n",
    "\n",
    "class Dish:\n",
    "    def __init__(self, name, ingredients):\n",
    "        self.name = name\n",
    "        self.ingredients = ingredients\n",
    "\n",
    "    def display_dish(self):\n",
    "        info = f\"Dish: {self.name}\\nIngredients:\\n\"\n",
    "        for ingredient in self.ingredients:\n",
    "            info += f\"- {ingredient}\\n\"\n",
    "        return info\n",
    "\n",
    "class Menu:\n",
    "    def __init__(self, name, dishes):\n",
    "        # Composition: Menu has Dishes\n",
    "        self.name = name\n",
    "        self.dishes = dishes\n",
    "\n",
    "    def display_menu(self):\n",
    "        info = f\"Menu: {self.name}\\nDishes:\\n\"\n",
    "        for dish in self.dishes:\n",
    "            info += f\"{dish.display_dish()}\\n\"\n",
    "        return info\n",
    "\n",
    "# Example usage:\n",
    "\n",
    "# Create ingredients\n",
    "ingredient1 = Ingredient(\"Tomato\", 3)\n",
    "ingredient2 = Ingredient(\"Cheese\", 200)\n",
    "ingredient3 = Ingredient(\"Dough\", 1)\n",
    "\n",
    "# Create dishes\n",
    "pizza = Dish(\"Margherita Pizza\", [ingredient1, ingredient2, ingredient3])\n",
    "pasta = Dish(\"Spaghetti Bolognese\", [ingredient1, ingredient2])\n",
    "\n",
    "# Create a menu with dishes as part of composition\n",
    "italian_menu = Menu(\"Italian Menu\", [pizza, pasta])\n",
    "\n",
    "# Display menu information\n",
    "print(\"Welcome to Italian Restaurant!!\")\n",
    "menu_info = italian_menu.display_menu()\n",
    "print(menu_info)\n"
   ]
  },
  {
   "cell_type": "code",
   "execution_count": null,
   "id": "c41db1cf-d961-4217-8354-51cd31e4ab2f",
   "metadata": {},
   "outputs": [],
   "source": []
  },
  {
   "cell_type": "markdown",
   "id": "230ed957-6e96-4e24-9b28-6609b7ec5081",
   "metadata": {},
   "source": [
    "### 15. Explain how composition enhances code maintainability and modularity in Python programs."
   ]
  },
  {
   "cell_type": "code",
   "execution_count": null,
   "id": "2053b03f-1495-4b1e-a873-d8d75f0756c8",
   "metadata": {},
   "outputs": [],
   "source": [
    "'''\n",
    "Composition plays a crucial role in enhancing code maintainability and modularity in Python programs by promoting a\n",
    "design approach that encourages the separation of concerns, reusability of code, and flexibility in making changes.\n",
    "\n",
    "Here are several ways in which composition contributes to these benefits:\n",
    "1. Separation of Concerns:\n",
    "   * Definition: Composition allows you to break down a system into smaller, more manageable components.\n",
    "   * Advantage: Each component is responsible for a specific aspect of functionality, promoting a clear separation \n",
    "     of concerns. This makes it easier to understand and reason about individual parts of the system.\n",
    "\n",
    "2. Code Reusability:\n",
    "   * Definition: With composition, you can create reusable components that encapsulate specific functionality.\n",
    "   * Advantage: These components can be used in different contexts and scenarios, reducing the need to duplicate code. \n",
    "     Reusable components contribute to a more maintainable and scalable codebase.\n",
    "\n",
    "3. Flexibility and Adaptability:\n",
    "   * Definition: Composition allows you to assemble systems from smaller, interchangeable components.\n",
    "   * Advantage: If requirements change or new features need to be added, you can modify or replace individual components\n",
    "     without affecting the entire system. This flexibility is crucial for adapting to evolving project needs.\n",
    "\n",
    "4. Encapsulation:\n",
    "   * Definition: Composition promotes encapsulation by hiding the internal details of a component.\n",
    "   * Advantage: Components expose a well-defined interface while hiding implementation details. This encapsulation protects \n",
    "     the internal workings of a component, allowing changes to be made internally without affecting external code.\n",
    "\n",
    "5. Modularity:\n",
    "   * Definition: Composition enables the creation of modular systems, where each module (component) represents a self-contained \n",
    "     unit of functionality.\n",
    "   * Advantage: Modules can be developed, tested, and maintained independently, simplifying the overall development process. \n",
    "     Modularity also makes it easier to reason about and test specific parts of the codebase.\n",
    "\n",
    "6. Simplified Maintenance: \n",
    "   * Composition simplifies maintenance by isolating changes to specific components. Changes made to one component do not \n",
    "     directly affect other components, making it easier to manage and maintain the overall system.\n",
    "\n",
    "7. Clearer Design: \n",
    "   * Composition leads to a clearer design by separating responsibilities between classes and promoting loose coupling. \n",
    "     Each class is responsible for a specific set of tasks, making the code more organized and less prone to unexpected \n",
    "     interactions.\n",
    "\n",
    "8. Reduced Interdependencies: \n",
    "   * Composition reduces interdependencies between classes by minimizing direct interactions. This makes it easier to\n",
    "     modify or replace individual components without affecting the entire system.\n",
    "\n",
    "9. Easier Testing:\n",
    "   * Testing individual components in isolation is often easier with composition. Mocking or substituting components during \n",
    "     testing can be done more effectively, as dependencies are usually injected through constructor parameters, making it \n",
    "     easier to create test doubles.\n",
    "\n",
    "10. Encapsulation and Information Hiding:\n",
    "   * Composition promotes encapsulation and information hiding by restricting direct access to a component's internal state.\n",
    "     This ensures that components can communicate through controlled interfaces, protecting their internal data and preventing \n",
    "     unintended modifications.\n",
    "\n",
    "By effectively utilizing composition, Python developers can create maintainable, modular, and reusable code that is easier to \n",
    "understand, modify, and adapt to changing requirements. This approach promotes better software quality and long-term maintainability.\n",
    "'''"
   ]
  },
  {
   "cell_type": "code",
   "execution_count": 18,
   "id": "4049d797-c2d6-47e7-9c07-abb95bb6730d",
   "metadata": {},
   "outputs": [
    {
     "name": "stdout",
     "output_type": "stream",
     "text": [
      "Engine started\n",
      "Wheels accelerating and Gear shifted\n",
      "Engine stopped.\n"
     ]
    }
   ],
   "source": [
    "'''\n",
    "Example :\n",
    "'''\n",
    "class Engine:\n",
    "    def start(self):\n",
    "        return \"Engine started\"\n",
    "\n",
    "    def stop(self):\n",
    "        return \"Engine stopped.\"\n",
    "\n",
    "class Wheels:\n",
    "    def accelerate(self):\n",
    "        return \"Wheels accelerating\"\n",
    "\n",
    "    def brake(self):\n",
    "        return \"Wheels braking\"\n",
    "\n",
    "class Transmission:\n",
    "    def shift_gear(self):\n",
    "        return \"Gear shifted\"\n",
    "\n",
    "class Car:\n",
    "    def __init__(self, engine, wheels, transmission):\n",
    "        # Composition: Car has an Engine, Wheels, and Transmission\n",
    "        self.engine = engine\n",
    "        self.wheels = wheels\n",
    "        self.transmission = transmission\n",
    "\n",
    "    def start_car(self):\n",
    "        return self.engine.start()\n",
    "\n",
    "    def drive(self):\n",
    "        return f\"{self.wheels.accelerate()} and {self.transmission.shift_gear()}\"\n",
    "\n",
    "    def stop_car(self):\n",
    "        return self.engine.stop()\n",
    "\n",
    "# Example usage:\n",
    "\n",
    "# Create components\n",
    "car_engine = Engine()\n",
    "car_wheels = Wheels()\n",
    "car_transmission = Transmission()\n",
    "\n",
    "# Create a Car instance with Engine, Wheels, and Transmission as part of composition\n",
    "my_car = Car(car_engine, car_wheels, car_transmission)\n",
    "\n",
    "# Perform car actions\n",
    "print(my_car.start_car())  # Output: Engine started\n",
    "print(my_car.drive())      # Output: Wheels accelerating and Gear shifted\n",
    "print(my_car.stop_car())   # Output: Engine stopped.\n"
   ]
  },
  {
   "cell_type": "code",
   "execution_count": null,
   "id": "ca5e0094-ee02-422c-b7fd-b3238697879e",
   "metadata": {},
   "outputs": [],
   "source": []
  },
  {
   "cell_type": "markdown",
   "id": "2682670f-6166-4fa7-873e-ae116ccb323a",
   "metadata": {},
   "source": [
    "### 16. Create a Python class for a computer game character, using composition to represent attributes like weapons, armor, and inventory."
   ]
  },
  {
   "cell_type": "code",
   "execution_count": 19,
   "id": "b859be23-c0cd-4fa2-859c-fff3547dd892",
   "metadata": {},
   "outputs": [
    {
     "name": "stdout",
     "output_type": "stream",
     "text": [
      "Hero attacks Enemy. Attacking with Sword, dealing 20 damage\n",
      "Enemy has 25 health remaining. Enemy took 25 damage\n",
      "Inventory: Sword, Shield\n"
     ]
    }
   ],
   "source": [
    "class Weapon:\n",
    "    def __init__(self, name, damage):\n",
    "        self.name = name\n",
    "        self.damage = damage\n",
    "\n",
    "    def attack(self):\n",
    "        return f\"Attacking with {self.name}, dealing {self.damage} damage\"\n",
    "\n",
    "class Armor:\n",
    "    def __init__(self, name, defense):\n",
    "        self.name = name\n",
    "        self.defense = defense\n",
    "\n",
    "    def absorb_damage(self, damage):\n",
    "        absorbed_damage = min(damage, self.defense)\n",
    "        self.defense -= absorbed_damage\n",
    "        return f\"{self.name} absorbed {absorbed_damage} damage\"\n",
    "\n",
    "class Inventory:\n",
    "    def __init__(self):\n",
    "        self.items = []\n",
    "\n",
    "    def add_item(self, item):\n",
    "        self.items.append(item)\n",
    "\n",
    "    def view_inventory(self):\n",
    "        return f\"Inventory: {', '.join(item.name for item in self.items)}\"\n",
    "\n",
    "class GameCharacter:\n",
    "    def __init__(self, name, health, weapon=None, armor=None, inventory=None):\n",
    "        self.name = name\n",
    "        self.health = health\n",
    "        # Composition: GameCharacter has Weapon, Armor, and Inventory\n",
    "        self.weapon = weapon\n",
    "        self.armor = armor\n",
    "        self.inventory = inventory or Inventory()\n",
    "\n",
    "    def equip_weapon(self, weapon):\n",
    "        self.weapon = weapon\n",
    "\n",
    "    def equip_armor(self, armor):\n",
    "        self.armor = armor\n",
    "\n",
    "    def take_damage(self, damage):\n",
    "        if self.armor:\n",
    "            damage_message = self.armor.absorb_damage(damage)\n",
    "            damage -= damage - self.armor.defense\n",
    "        else:\n",
    "            damage_message = f\"{self.name} took {damage} damage\"\n",
    "\n",
    "        self.health -= damage\n",
    "        return f\"{self.name} has {self.health} health remaining. {damage_message}\"\n",
    "\n",
    "    def use_weapon(self, target):\n",
    "        if self.weapon:\n",
    "            return f\"{self.name} attacks {target.name}. {self.weapon.attack()}\"\n",
    "        else:\n",
    "            return f\"{self.name} has no weapon equipped.\"\n",
    "\n",
    "# Example usage:\n",
    "\n",
    "# Create items\n",
    "sword = Weapon(\"Sword\", 20)\n",
    "shield = Armor(\"Shield\", 15)\n",
    "\n",
    "# Create a GameCharacter instance with Weapon, Armor, and Inventory as part of composition\n",
    "hero = GameCharacter(\"Hero\", 100, weapon=sword, armor=shield)\n",
    "\n",
    "# Create another GameCharacter\n",
    "enemy = GameCharacter(\"Enemy\", 50)\n",
    "\n",
    "# Attack using the equipped weapon\n",
    "attack_result = hero.use_weapon(enemy)\n",
    "print(attack_result)\n",
    "\n",
    "# Enemy takes damage\n",
    "damage_result = enemy.take_damage(25)\n",
    "print(damage_result)\n",
    "\n",
    "# View hero's inventory\n",
    "hero.inventory.add_item(sword)\n",
    "hero.inventory.add_item(shield)\n",
    "print(hero.inventory.view_inventory())\n"
   ]
  },
  {
   "cell_type": "code",
   "execution_count": null,
   "id": "3ac76d80-f8d6-47ba-8478-735dcae92a4b",
   "metadata": {},
   "outputs": [],
   "source": []
  },
  {
   "cell_type": "markdown",
   "id": "c9776077-d22e-47f5-ad42-f89ee5a61ead",
   "metadata": {},
   "source": [
    "### 17. Describe the concept of \"aggregation\" in composition and how it differs from simple composition."
   ]
  },
  {
   "cell_type": "code",
   "execution_count": null,
   "id": "ecdd1f48-6e76-4d54-b9b0-11cfff2e16a1",
   "metadata": {},
   "outputs": [],
   "source": [
    "'''\n",
    "Aggregation is a concept in object-oriented programming that represents a \"has-a\" relationship between two classes, \n",
    "similar to composition. However, aggregation differs from simple composition in terms of the relationship's strength, \n",
    "lifecycle, and ownership. Aggregation implies a looser relationship where one class contains another, but the contained \n",
    "object can exist independently of the container.\n",
    "\n",
    "Aggregation is a specific form of composition in object-oriented programming where one class represents a \"whole\" or \n",
    "\"container,\" and another class represents a \"part\" or \"component.\" In aggregation, the \"whole\" class maintains a \n",
    "relationship with the \"part\" class, but the \"part\" class remains independent and can exist outside the context \n",
    "of the \"whole\" class.\n",
    "\n",
    "\n",
    "Here are the key points that distinguish aggregation from simple composition:\n",
    "1. Association Strength:\n",
    "   * Composition: The contained object is a part of the composite object. The contained object's existence is tightly \n",
    "     coupled with the composite object, and it typically has no independent lifecycle.\n",
    "   * Aggregation: The contained object is associated with the composite object, but it can exist independently. The \n",
    "     relationship is more relaxed, and the contained object has its own lifecycle.\n",
    "\n",
    "2. Ownership and Responsibility:\n",
    "   * Composition: The composite object (container) owns and is responsible for the creation and destruction of the \n",
    "     contained object. The contained object is a part or component of the composite object.\n",
    "   * Aggregation: The contained object may have its own lifecycle and is not owned by the composite object. The \n",
    "     composite object may reference the contained object, but it doesn't control its creation, destruction, or lifecycle.\n",
    "\n",
    "3. Multiplicity:\n",
    "   * Composition: There is a strong multiplicity relationship between the container and the contained object. The contained \n",
    "     object is typically a single instance associated with the container.\n",
    "   * Aggregation: The multiplicity is more flexible. There can be one-to-one, one-to-many, or many-to-many relationships \n",
    "     between the container and the contained object. The contained object may be shared among multiple containers.\n",
    "\n",
    "4. Navigation:\n",
    "   * Composition: The contained object is usually accessed through the composite object. Navigation from the container to \n",
    "     the contained object is straightforward.\n",
    "   * Aggregation: While the container may provide access to the contained object, there is a greater possibility that the\n",
    "     contained object can be accessed independently.\n",
    "'''\n"
   ]
  },
  {
   "cell_type": "code",
   "execution_count": 21,
   "id": "70b49121-e8a1-4768-8785-88a72eafcb86",
   "metadata": {},
   "outputs": [
    {
     "name": "stdout",
     "output_type": "stream",
     "text": [
      "Dr. Komal\n"
     ]
    }
   ],
   "source": [
    "'''\n",
    "There are some key differences between the two.\n",
    "\n",
    "* Simple composition:  A parent object has control over the lifecycle of its child objects. This means that if the parent \n",
    "object is destroyed, all of its child objects are also destroyed. This is known as a \"strong\" association.\n",
    "\n",
    "* Aggregation: A parent object has a \"has-a\" relationship with its child objects, but the parent object does not have \n",
    "control over the lifecycle of the child objects. This means that the child objects can exist independently of the \n",
    "parent object. This is known as a \"weak\" association.\n",
    "\n",
    "Examaple :\n",
    "'''\n",
    "class Professor:\n",
    "    def __init__(self, name):\n",
    "        self.name = name\n",
    "\n",
    "class Department:\n",
    "    def __init__(self, name, professors=[]):\n",
    "        self.name = name\n",
    "        # Aggregation: Department aggregates Professor objects\n",
    "        self.professors = professors\n",
    "\n",
    "# Example usage\n",
    "prof1 = Professor(\"Dr. Komal\")\n",
    "prof2 = Professor(\"Dr. Arpita\")\n",
    "\n",
    "# Aggregation: Creating a department with professors\n",
    "computer_science = Department(\"Computer Science\", professors=[prof1, prof2])\n",
    "\n",
    "# Professors can still exist independently\n",
    "print(prof1.name)  # Output: Dr. Komal\n"
   ]
  },
  {
   "cell_type": "code",
   "execution_count": null,
   "id": "5f334087-3d6c-42bf-b800-8db7b8fb5934",
   "metadata": {},
   "outputs": [],
   "source": []
  },
  {
   "cell_type": "markdown",
   "id": "7cd3d932-64fb-43e7-9133-da27ddaaa1a6",
   "metadata": {},
   "source": [
    "### 18. Create a Python class for a house, using composition to represent rooms, furniture, and appliances."
   ]
  },
  {
   "cell_type": "code",
   "execution_count": 22,
   "id": "7b545dca-3b7c-47a6-a2b4-1be38778c1b3",
   "metadata": {},
   "outputs": [
    {
     "name": "stdout",
     "output_type": "stream",
     "text": [
      "House Details:\n",
      "  Address: 123 Main Road\n",
      "  Year Built: 2017\n",
      "  Rooms:\n",
      "    Room: Bedroom\n",
      "      Size: 15\n",
      "      Furniture:\n",
      "        Name: Bed\n",
      "        Type: Double\n",
      "        Material: Wood\n",
      "        Name: Dresser\n",
      "        Type: Chest\n",
      "        Material: Maple\n",
      "      Appliances:\n",
      "        Name: Closet\n",
      "        Type: Wardrobe\n",
      "        Brand: IKEA\n",
      "    Room: Kitchen\n",
      "      Size: 12\n",
      "      Furniture:\n",
      "        Name: Table\n",
      "        Type: Dining\n",
      "        Material: Oak\n",
      "        Name: Chairs\n",
      "        Type: Set of 4\n",
      "        Material: Metal\n",
      "      Appliances:\n",
      "        Name: Refrigerator\n",
      "        Type: Side-by-Side\n",
      "        Brand: Samsung\n",
      "        Name: Oven\n",
      "        Type: Electric\n",
      "        Brand: GE\n",
      "    Room: Living Room\n",
      "      Size: 20\n",
      "      Furniture:\n",
      "        Name: Couch\n",
      "        Type: Sectional\n",
      "        Material: Leather\n",
      "        Name: Coffee Table\n",
      "        Type: Round\n",
      "        Material: Glass\n",
      "      Appliances:\n",
      "        Name: TV\n",
      "        Type: Smart\n",
      "        Brand: LG\n"
     ]
    }
   ],
   "source": [
    "\n",
    "class Room:\n",
    "    def __init__(self, name, size):\n",
    "        self.name = name\n",
    "        self.size = size\n",
    "        self.furniture = []\n",
    "        self.appliances = []\n",
    "\n",
    "    def add_furniture(self, furniture):\n",
    "        self.furniture.append(furniture)\n",
    "\n",
    "    def remove_furniture(self, furniture):\n",
    "        if furniture in self.furniture:\n",
    "            self.furniture.remove(furniture)\n",
    "\n",
    "    def add_appliance(self, appliance):\n",
    "        self.appliances.append(appliance)\n",
    "\n",
    "    def remove_appliance(self, appliance):\n",
    "        if appliance in self.appliances:\n",
    "            self.appliances.remove(appliance)\n",
    "\n",
    "class Furniture:\n",
    "    def __init__(self, name, type, material):\n",
    "        self.name = name\n",
    "        self.type = type\n",
    "        self.material = material\n",
    "\n",
    "class Appliance:\n",
    "    def __init__(self, name, type, brand):\n",
    "        self.name = name\n",
    "        self.type = type\n",
    "        self.brand = brand\n",
    "\n",
    "class House:\n",
    "    def __init__(self, address, year_built):\n",
    "        self.address = address\n",
    "        self.year_built = year_built\n",
    "        self.rooms = []\n",
    "\n",
    "    def add_room(self, room):\n",
    "        self.rooms.append(room)\n",
    "\n",
    "    def remove_room(self, room):\n",
    "        if room in self.rooms:\n",
    "            self.rooms.remove(room)\n",
    "\n",
    "    def print_house_details(self):\n",
    "        print(f\"House Details:\")\n",
    "        print(f\"  Address: {self.address}\")\n",
    "        print(f\"  Year Built: {self.year_built}\")\n",
    "        print(\"  Rooms:\")\n",
    "        for room in self.rooms:\n",
    "            print(f\"    Room: {room.name}\")\n",
    "            print(f\"      Size: {room.size}\")\n",
    "            print(f\"      Furniture:\")\n",
    "            for furniture in room.furniture:\n",
    "                print(f\"        Name: {furniture.name}\")\n",
    "                print(f\"        Type: {furniture.type}\")\n",
    "                print(f\"        Material: {furniture.material}\")\n",
    "            print(f\"      Appliances:\")\n",
    "            for appliance in room.appliances:\n",
    "                print(f\"        Name: {appliance.name}\")\n",
    "                print(f\"        Type: {appliance.type}\")\n",
    "                print(f\"        Brand: {appliance.brand}\")\n",
    "\n",
    "bedroom = Room(\"Bedroom\", 15)\n",
    "bedroom.add_furniture(Furniture(\"Bed\", \"Double\", \"Wood\"))\n",
    "bedroom.add_furniture(Furniture(\"Dresser\", \"Chest\", \"Maple\"))\n",
    "bedroom.add_appliance(Appliance(\"Closet\", \"Wardrobe\", \"IKEA\"))\n",
    "\n",
    "kitchen = Room(\"Kitchen\", 12)\n",
    "kitchen.add_furniture(Furniture(\"Table\", \"Dining\", \"Oak\"))\n",
    "kitchen.add_furniture(Furniture(\"Chairs\", \"Set of 4\", \"Metal\"))\n",
    "kitchen.add_appliance(Appliance(\"Refrigerator\", \"Side-by-Side\", \"Samsung\"))\n",
    "kitchen.add_appliance(Appliance(\"Oven\", \"Electric\", \"GE\"))\n",
    "\n",
    "living_room = Room(\"Living Room\", 20)\n",
    "living_room.add_furniture(Furniture(\"Couch\", \"Sectional\", \"Leather\"))\n",
    "living_room.add_furniture(Furniture(\"Coffee Table\", \"Round\", \"Glass\"))\n",
    "living_room.add_appliance(Appliance(\"TV\", \"Smart\", \"LG\"))\n",
    "\n",
    "house = House(\"123 Main Road\", 2017)\n",
    "house.add_room(bedroom)\n",
    "house.add_room(kitchen)\n",
    "house.add_room(living_room)\n",
    "\n",
    "house.print_house_details()\n"
   ]
  },
  {
   "cell_type": "code",
   "execution_count": null,
   "id": "ae6b10d4-a672-4e72-85d8-9303b6fe7dc8",
   "metadata": {},
   "outputs": [],
   "source": []
  },
  {
   "cell_type": "markdown",
   "id": "a10f4062-2d41-4321-a6b0-08a4aea1c424",
   "metadata": {},
   "source": [
    "### 19. How can you achieve flexibility in composed objects by allowing them to be replaced or modified dynamically at runtime?"
   ]
  },
  {
   "cell_type": "code",
   "execution_count": null,
   "id": "83b447ab-7da6-4309-8606-82a34f37ae4c",
   "metadata": {},
   "outputs": [],
   "source": [
    "'''\n",
    "Achieving flexibility in composed objects by allowing them to be replaced or modified dynamically at runtime is \n",
    "crucial for adapting to changing requirements or scenarios. \n",
    "\n",
    "Several design patterns and techniques can be employed to achieve this flexibility:\n",
    "1. Interface-Based Design:\n",
    "   * Define interfaces or abstract classes that represent the common behavior expected from composed objects.\n",
    "   * Composed objects can implement these interfaces, allowing them to be replaced dynamically as long as they\n",
    "     adhere to the specified interface.\n",
    "\n",
    "2. Dependency Injection:\n",
    "   * Inject dependencies into an object rather than creating them internally.\n",
    "   * By injecting dependencies, you can replace or modify components at runtime without modifying the code of the object \n",
    "     using them.\n",
    "\n",
    "3. Factory Pattern:\n",
    "   * Use a factory pattern to create instances of composed objects.\n",
    "   * The factory can create different implementations of composed objects based on specific criteria or configuration.\n",
    "\n",
    "4. Decorator Pattern:\n",
    "   * Use the decorator pattern to dynamically add or replace behavior of composed objects. \n",
    "   * Decorators are classes that wrap other classes, allowing you to modify their behavior.\n",
    "\n",
    "5. Configuration or Settings:\n",
    "   * Use configuration files or settings to determine the behavior of composed objects.\n",
    "   * This allows for runtime configuration changes without modifying the code.\n",
    "\n",
    "6. Strategy Pattern:\n",
    "   * Use the strategy pattern to encapsulate interchangeable algorithms or behaviors.\n",
    "   * Composed objects can switch between different strategies dynamically.\n",
    "\n",
    "7. Dynamic Class Loading: \n",
    "   * This technique involves loading and instantiating classes at runtime, enabling the introduction of new or modified \n",
    "     components without requiring recompilation of the entire application. \n",
    "   * For example, in a plugin-based system, new plugins can be loaded and integrated with the existing application at \n",
    "     runtime.\n",
    "\n",
    "8. Reflection and Metaprogramming: \n",
    "   * These techniques allow for introspection and manipulation of objects and their properties at runtime. \n",
    "   * Reflection enables developers to query and modify the structure and behavior of objects, providing flexibility \n",
    "     in adapting to changing requirements.\n",
    "\n",
    "9. Aspect-Oriented Programming (AOP): \n",
    "   * AOP introduces the concept of aspects, which cross-cut multiple modules or components. Aspects can be dynamically\n",
    "     added or removed at runtime, allowing for non-intrusive modification of object behavior without directly altering \n",
    "     their code.\n",
    "\n",
    "10. Event-Driven Architecture: \n",
    "    * Components communicate through events, enabling loose coupling and dynamic composition. Components can subscribe and \n",
    "      unsubscribe to events at runtime, adapting to changing requirements without requiring tight coupling between components.\n",
    "\n",
    "11. Scriptable Behavior: \n",
    "    * Embedding scripting languages within the application allows for dynamic modification of object behavior through scripts. \n",
    "      Developers can create and execute scripts at runtime, altering the behavior of objects without recompiling or modifying \n",
    "      their source code.\n",
    "\n",
    "12. Configuration Files:\n",
    "    * Utilizing configuration files to store and load object properties and configurations enables dynamic adjustments at runtime. \n",
    "      Developers can modify configuration files without recompiling the application, allowing for flexible changes to object \n",
    "      behavior and parameters.\n",
    "\n",
    "13. Behavioral Design Patterns: \n",
    "    * Employing behavioral design patterns, such as the Strategy pattern and the Decorator pattern, promotes flexibility in \n",
    "      object composition.\n",
    "'''"
   ]
  },
  {
   "cell_type": "code",
   "execution_count": null,
   "id": "91a30b1b-9078-4894-a15a-c780f4a5b80f",
   "metadata": {},
   "outputs": [],
   "source": []
  },
  {
   "cell_type": "markdown",
   "id": "20b7a573-5bdc-46b8-bef1-7b7313884a67",
   "metadata": {},
   "source": [
    "### 20. Create a Python class for a social media application, using composition to represent users, posts, and comments."
   ]
  },
  {
   "cell_type": "code",
   "execution_count": 23,
   "id": "72845667-953d-4380-8f9b-34711244ed32",
   "metadata": {},
   "outputs": [
    {
     "name": "stdout",
     "output_type": "stream",
     "text": [
      "User: Krishna\n",
      "Posts:\n",
      "Krishna's Post:\n",
      "Hello, this is my first post!\n",
      "Comments:\n",
      "Komal: Welcome, Krishna!\n",
      "User: Komal\n",
      "Posts:\n",
      "Komal's Post:\n",
      "Just joined the social media world!\n",
      "Comments:\n",
      "Krishna: Thanks, Komal!\n"
     ]
    }
   ],
   "source": [
    "class Comment:\n",
    "    def __init__(self, user, text):\n",
    "        self.user = user  # Composition: Comment has a User\n",
    "        self.text = text\n",
    "\n",
    "    def display_info(self):\n",
    "        print(f\"{self.user.username}: {self.text}\")\n",
    "\n",
    "class Post:\n",
    "    def __init__(self, user, content):\n",
    "        self.user = user  # Composition: Post has a User\n",
    "        self.content = content\n",
    "        self.comments = []  # Composition: Post has a list of Comments\n",
    "\n",
    "    def add_comment(self, user, text):\n",
    "        comment = Comment(user=user, text=text)\n",
    "        self.comments.append(comment)\n",
    "\n",
    "    def display_info(self):\n",
    "        print(f\"{self.user.username}'s Post:\")\n",
    "        print(self.content)\n",
    "        print(\"Comments:\")\n",
    "        for comment in self.comments:\n",
    "            comment.display_info()\n",
    "\n",
    "class User:\n",
    "    def __init__(self, username):\n",
    "        self.username = username\n",
    "        self.posts = []  # Composition: User has a list of Posts\n",
    "\n",
    "    def create_post(self, content):\n",
    "        post = Post(user=self, content=content)\n",
    "        self.posts.append(post)\n",
    "\n",
    "    def display_info(self):\n",
    "        print(f\"User: {self.username}\")\n",
    "        print(\"Posts:\")\n",
    "        for post in self.posts:\n",
    "            post.display_info()\n",
    "\n",
    "# Example Usage\n",
    "user1 = User(username=\"Krishna\")\n",
    "user2 = User(username=\"Komal\")\n",
    "\n",
    "user1.create_post(content=\"Hello, this is my first post!\")\n",
    "user2.create_post(content=\"Just joined the social media world!\")\n",
    "\n",
    "user1.posts[0].add_comment(user=user2, text=\"Welcome, Krishna!\")\n",
    "user2.posts[0].add_comment(user=user1, text=\"Thanks, Komal!\")\n",
    "\n",
    "# Display information about the users and their posts\n",
    "user1.display_info()\n",
    "user2.display_info()\n"
   ]
  },
  {
   "cell_type": "code",
   "execution_count": null,
   "id": "71a13f2d-a887-43f1-86f4-45c018a85da8",
   "metadata": {},
   "outputs": [],
   "source": []
  },
  {
   "cell_type": "code",
   "execution_count": null,
   "id": "2942a3ba-68f1-475d-95eb-6eeac8d7957f",
   "metadata": {},
   "outputs": [],
   "source": []
  }
 ],
 "metadata": {
  "kernelspec": {
   "display_name": "Python 3 (ipykernel)",
   "language": "python",
   "name": "python3"
  },
  "language_info": {
   "codemirror_mode": {
    "name": "ipython",
    "version": 3
   },
   "file_extension": ".py",
   "mimetype": "text/x-python",
   "name": "python",
   "nbconvert_exporter": "python",
   "pygments_lexer": "ipython3",
   "version": "3.10.8"
  }
 },
 "nbformat": 4,
 "nbformat_minor": 5
}
