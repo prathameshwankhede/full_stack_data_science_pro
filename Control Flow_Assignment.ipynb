{
 "cells": [
  {
   "cell_type": "code",
   "execution_count": null,
   "id": "81a34543-c648-4479-843c-c3bbf95bea5b",
   "metadata": {},
   "outputs": [],
   "source": []
  },
  {
   "cell_type": "code",
   "execution_count": null,
   "id": "48dae589-5f12-4543-b2bc-95b37f336733",
   "metadata": {},
   "outputs": [],
   "source": []
  },
  {
   "cell_type": "markdown",
   "id": "f2caa09c-f75c-4b1f-80c5-1a75bea9e078",
   "metadata": {},
   "source": [
    "                                                            ****Control Flow****"
   ]
  },
  {
   "cell_type": "code",
   "execution_count": null,
   "id": "7d2b7c3c-682d-430a-8648-51a05e6fa8f1",
   "metadata": {},
   "outputs": [],
   "source": []
  },
  {
   "cell_type": "code",
   "execution_count": null,
   "id": "2e15a452-5d5f-4a33-b4f8-8f957a54891a",
   "metadata": {},
   "outputs": [],
   "source": [
    "ASSIGNMENT QUESTIONS"
   ]
  },
  {
   "cell_type": "code",
   "execution_count": null,
   "id": "e3daa03d-a4f7-41b9-9d42-079585b8411c",
   "metadata": {},
   "outputs": [],
   "source": []
  },
  {
   "cell_type": "markdown",
   "id": "ddbc7025-65ff-4fad-b55e-91990ab47d77",
   "metadata": {},
   "source": [
    "### Basic If-Else Statements:\n",
    "---"
   ]
  },
  {
   "cell_type": "markdown",
   "id": "78cab119-e013-41e2-b72e-3cd463dc6b33",
   "metadata": {},
   "source": [
    "### 1.Write a Python prgram to check if a given number is positive or negative ."
   ]
  },
  {
   "cell_type": "code",
   "execution_count": 3,
   "id": "04e75251-1334-4203-86b9-b1da36d05476",
   "metadata": {},
   "outputs": [
    {
     "name": "stdout",
     "output_type": "stream",
     "text": [
      "Given number a = 10  is positive\n",
      "Given number b = -7  is negative\n"
     ]
    }
   ],
   "source": [
    "a = 10\n",
    "b = -7\n",
    "if a>0:\n",
    "    print(f\"Given number a = {a}\",\" is positive\")\n",
    "else :\n",
    "    print(f\"Given number a = {a}\",\"is negative\")\n",
    "    \n",
    "if b<0:\n",
    "    print(f\"Given number b = {b}\",\" is negative\")\n",
    "else :\n",
    "    print(f\"Given number b = {b}\",\"is positive\")\n",
    "    "
   ]
  },
  {
   "cell_type": "code",
   "execution_count": null,
   "id": "a7725247-5a17-41cf-a8b3-9959bc8b5eb5",
   "metadata": {},
   "outputs": [],
   "source": []
  },
  {
   "cell_type": "markdown",
   "id": "a5c44c03-2a24-4937-849b-c4e7c4c5aa7e",
   "metadata": {},
   "source": [
    "### 2. Create a program that determines if a person is eligible to vote based on their age."
   ]
  },
  {
   "cell_type": "code",
   "execution_count": 1,
   "id": "9d8bff1d-0afc-4537-b235-c5e384ab8e83",
   "metadata": {},
   "outputs": [
    {
     "name": "stdin",
     "output_type": "stream",
     "text": [
      "Enter the person's age : 18\n"
     ]
    },
    {
     "name": "stdout",
     "output_type": "stream",
     "text": [
      "The person is eligible to vote based on their 18years\n"
     ]
    }
   ],
   "source": [
    "person_age = int(input(\"Enter the person's age :\"))\n",
    "if person_age>=18 :\n",
    "    print(f\"The person is eligible to vote based on their {person_age}years\")\n",
    "else :\n",
    "    print(f\"The person is not eligible to vote based on their {person_age}years\")"
   ]
  },
  {
   "cell_type": "code",
   "execution_count": null,
   "id": "a24b7a29-488f-4fe4-9f23-15e33ca38d34",
   "metadata": {},
   "outputs": [],
   "source": []
  },
  {
   "cell_type": "markdown",
   "id": "93dcdc8c-344b-4061-805b-c31791c7fe7f",
   "metadata": {},
   "source": [
    "### 3.Develop a program to find the maximum of two numbers using if-else statements."
   ]
  },
  {
   "cell_type": "code",
   "execution_count": 4,
   "id": "d6767d90-4164-4f94-845d-c98614573718",
   "metadata": {},
   "outputs": [
    {
     "name": "stdout",
     "output_type": "stream",
     "text": [
      "The maximum of two numbers a = 20 and b = 30.  where, b is maximum\n"
     ]
    }
   ],
   "source": [
    "a = 20\n",
    "b = 30\n",
    "if a>b :\n",
    "    print(f\"The maximum of two numbers a = {a} and b = {b}. \" ,\"where, a is maximum\")\n",
    "else :\n",
    "    print(f\"The maximum of two numbers a = {a} and b = {b}. \" ,\"where, b is maximum\")"
   ]
  },
  {
   "cell_type": "code",
   "execution_count": null,
   "id": "31f05419-39d2-4738-9451-ed5f48068f1a",
   "metadata": {},
   "outputs": [],
   "source": []
  },
  {
   "cell_type": "markdown",
   "id": "8e302292-1ff4-4fd2-88e5-967e8335694c",
   "metadata": {},
   "source": [
    "### 4.Write a Python script to classify a given year as a leap year or not."
   ]
  },
  {
   "cell_type": "code",
   "execution_count": 2,
   "id": "bfde2544-dbe0-4a00-817e-4f3f1006bbeb",
   "metadata": {},
   "outputs": [
    {
     "name": "stdin",
     "output_type": "stream",
     "text": [
      "Enter year you want to check 1997\n"
     ]
    },
    {
     "name": "stdout",
     "output_type": "stream",
     "text": [
      "1997 is not a leap year\n"
     ]
    }
   ],
   "source": [
    "year = int(input('Enter year you want to check'))\n",
    "if year%100 == 0:\n",
    "    if year %400 ==0:\n",
    "        print(f'{year} is a leap year')\n",
    "    else :\n",
    "        print(f'{year} is not a leap year ')\n",
    "else:\n",
    "    if year%4 == 0:\n",
    "        print(f'{year} is a leap year')\n",
    "    else :\n",
    "        print(f'{year} is not a leap year')\n",
    "        "
   ]
  },
  {
   "cell_type": "code",
   "execution_count": null,
   "id": "26ab5533-84bc-4d97-b7e1-1e0d68ab1a50",
   "metadata": {},
   "outputs": [],
   "source": []
  },
  {
   "cell_type": "markdown",
   "id": "fcf58b57-2b44-408d-b96d-6267adf14882",
   "metadata": {},
   "source": [
    "### 5.Create a program that checks whether a character is a vowel or a consonant."
   ]
  },
  {
   "cell_type": "code",
   "execution_count": 39,
   "id": "9be186e3-39e4-4238-bfe1-254958cbd0fa",
   "metadata": {},
   "outputs": [
    {
     "name": "stdin",
     "output_type": "stream",
     "text": [
      "Enter a character : B\n"
     ]
    },
    {
     "name": "stdout",
     "output_type": "stream",
     "text": [
      "Yes, the charcter B is a consonant\n"
     ]
    }
   ],
   "source": [
    "str_char = input(\"Enter a character :\")\n",
    "char = str_char.lower()\n",
    "if char == 'a' or char == 'e' or char == 'i' or char == 'o' or char == 'u':\n",
    "    print(f\"Yes, the character {str_char} is vowel\")\n",
    "else :\n",
    "    print(f\"Yes, the charcter {str_char} is a consonant\")"
   ]
  },
  {
   "cell_type": "code",
   "execution_count": null,
   "id": "8fc8acbc-aa76-4f68-83c2-fa603d372f01",
   "metadata": {},
   "outputs": [],
   "source": []
  },
  {
   "cell_type": "markdown",
   "id": "91f76ed5-b80f-493d-b749-3bfe140c812c",
   "metadata": {},
   "source": [
    "### 6.Implement a program to determine whether a given number is even or odd."
   ]
  },
  {
   "cell_type": "code",
   "execution_count": 8,
   "id": "ccec928d-df6b-4ecd-926e-b3aaec1ca53d",
   "metadata": {},
   "outputs": [
    {
     "name": "stdin",
     "output_type": "stream",
     "text": [
      "Enter a number : 23\n"
     ]
    },
    {
     "name": "stdout",
     "output_type": "stream",
     "text": [
      "The number 23 is odd \n"
     ]
    }
   ],
   "source": [
    "number = int(input(\"Enter a number :\"))\n",
    "if number%2 == 0:\n",
    "    print(f\"The number {number} is even \")\n",
    "else :\n",
    "    print(f\"The number {number} is odd \")"
   ]
  },
  {
   "cell_type": "code",
   "execution_count": null,
   "id": "bf10bf9d-7cde-4e4b-803a-57a03a070bab",
   "metadata": {},
   "outputs": [],
   "source": []
  },
  {
   "cell_type": "markdown",
   "id": "e30a9c58-2853-4589-aad9-3d339abe8d7c",
   "metadata": {},
   "source": [
    "### 7.Write a Python function to calculate the absolute value of a number without using the 'abs()' function."
   ]
  },
  {
   "cell_type": "code",
   "execution_count": 2,
   "id": "99ceb092-6dfa-44b5-8147-60737a1f40fa",
   "metadata": {},
   "outputs": [
    {
     "name": "stdout",
     "output_type": "stream",
     "text": [
      "The absolute value of a number n = -23  is  23\n",
      "The absolue value of a number p = 34  is  -34\n"
     ]
    }
   ],
   "source": [
    "n = -23\n",
    "p = 34\n",
    "if n<0:\n",
    "    abs_n = -(n)\n",
    "    print(f\"The absolute value of a number n = {n}  is \",abs_n)\n",
    "if p>0:\n",
    "    abs_p = -(p)\n",
    "    print(f\"The absolue value of a number p = {p}  is \",abs_p)"
   ]
  },
  {
   "cell_type": "code",
   "execution_count": null,
   "id": "ca5b9838-0711-409e-9c89-1f542f874732",
   "metadata": {},
   "outputs": [],
   "source": []
  },
  {
   "cell_type": "markdown",
   "id": "3426d292-7d5b-4a16-92f4-f988777cb726",
   "metadata": {},
   "source": [
    "### 8.Develop a program that determines the largest of three given numbers using if-else statements."
   ]
  },
  {
   "cell_type": "code",
   "execution_count": 17,
   "id": "6dbb80a5-8595-4389-bb75-dc48c645498b",
   "metadata": {},
   "outputs": [
    {
     "name": "stdout",
     "output_type": "stream",
     "text": [
      "The largest of three given numbers , first = 10  second = 30 and third = 20 is  second =  {30}\n"
     ]
    }
   ],
   "source": [
    "first = 10\n",
    "second = 30\n",
    "third = 20\n",
    "if first > second or first > third :\n",
    "    print(f\"The largest of three given numbers ,first ={first} second = {second} and third = {third} is \",\"first = \",{first})\n",
    "elif  second>first and second> third :\n",
    "    print(f\"The largest of three given numbers , first = {first}  second = {second} and third = {third} is \",\"second = \",{second})\n",
    "else :\n",
    "    print(f\"The largest of three given numbers ,first ={first} second = {second} and third = {third} is \",\"third = \",{third})"
   ]
  },
  {
   "cell_type": "code",
   "execution_count": null,
   "id": "f397d98a-132e-4932-870e-e2a9535fe825",
   "metadata": {},
   "outputs": [],
   "source": []
  },
  {
   "cell_type": "markdown",
   "id": "62e15d4e-97b5-45e3-91f1-01dba8288d0e",
   "metadata": {},
   "source": [
    "### 9.Create a program that checks if a given string is a palindrome."
   ]
  },
  {
   "cell_type": "code",
   "execution_count": 7,
   "id": "821d0b5e-714c-4c1d-b6ad-66aed6db3d10",
   "metadata": {},
   "outputs": [
    {
     "name": "stdin",
     "output_type": "stream",
     "text": [
      "Enter a given string : radar\n"
     ]
    },
    {
     "name": "stdout",
     "output_type": "stream",
     "text": [
      "Yes, given string is a palindrome\n"
     ]
    }
   ],
   "source": [
    "given_string = input(\"Enter a given string :\")\n",
    "cleaned_string = given_string.islower()\n",
    "reversed_str = given_string[::-1]\n",
    "if given_string == reversed_str :\n",
    "    print(\"Yes, given string is a palindrome\")\n",
    "else :\n",
    "    print(\"No, given string is not a palindrome\")"
   ]
  },
  {
   "cell_type": "code",
   "execution_count": null,
   "id": "c1d83b25-c394-4611-95fd-91e7efa4de78",
   "metadata": {},
   "outputs": [],
   "source": []
  },
  {
   "cell_type": "markdown",
   "id": "cbe7fd21-0df6-4390-8fb7-84299c613c72",
   "metadata": {},
   "source": [
    "### 10.Write a Python program to calculate the grade based on a \"student's score\"."
   ]
  },
  {
   "cell_type": "code",
   "execution_count": 22,
   "id": "437a9a75-9a51-452e-a92c-ee1152604309",
   "metadata": {},
   "outputs": [
    {
     "name": "stdin",
     "output_type": "stream",
     "text": [
      "Enter the student's score : 82\n"
     ]
    },
    {
     "name": "stdout",
     "output_type": "stream",
     "text": [
      "The grade 'B' based on a student's score = 82\n"
     ]
    }
   ],
   "source": [
    "student_score = int(input(\"Enter the student's score :\"))\n",
    "if student_score >=85 :\n",
    "    print(f\"The grade 'A' based on a student's score = {student_score}\")\n",
    "elif student_score >=60 and student_score <85 :\n",
    "    print(f\"The grade 'B' based on a student's score = {student_score}\")\n",
    "elif student_score >=50 and student_score <60:\n",
    "    print(f\"The grade 'C' based on a student's score = {student_score}\")\n",
    "elif student_score >=40 and student_score <50 :\n",
    "    print(f\"The grade 'D' based on a student's score = {student_score}\")\n",
    "else :\n",
    "    print(f\"The grade 'E' based on a student's score = {student_score}\")"
   ]
  },
  {
   "cell_type": "code",
   "execution_count": null,
   "id": "42e87f78-41cb-4e76-b521-6451b4490305",
   "metadata": {},
   "outputs": [],
   "source": []
  },
  {
   "cell_type": "markdown",
   "id": "103ef281-7649-40db-ae3b-fd2c81b55e7b",
   "metadata": {},
   "source": [
    "### Nested If-Else Statements:\n",
    "---"
   ]
  },
  {
   "cell_type": "markdown",
   "id": "06951a08-2fbb-4746-bd77-4bdb187b1a0a",
   "metadata": {},
   "source": [
    "### 11.Write a program to find the largest among three numbers using nested if-else statements."
   ]
  },
  {
   "cell_type": "code",
   "execution_count": 42,
   "id": "db3d6583-aad0-44e1-a19c-39aa162f1ce3",
   "metadata": {},
   "outputs": [
    {
     "name": "stdout",
     "output_type": "stream",
     "text": [
      "The largest among three numbers first = 20 , second = 999 and third = 1000  where third =  {1000} is maximum\n"
     ]
    }
   ],
   "source": [
    "first = 20\n",
    "second = 999\n",
    "third = 1000\n",
    "if first>second :\n",
    "    if first>third:\n",
    "        print(f\"The largest among three numbers first = {first} , second = {second} and third = {third} \", \"where first = \",{first } ,\"is maximum\")\n",
    "elif second> third:\n",
    "    if second>first :\n",
    "        print(f\"The largest among three numbers first = {first} , second = {second} and third = {third} \", \"where second = \",{second } ,\"is maximum\")\n",
    "else :\n",
    "    print(f\"The largest among three numbers first = {first} , second = {second} and third = {third} \", \"where third = \",{third} ,\"is maximum\")"
   ]
  },
  {
   "cell_type": "code",
   "execution_count": null,
   "id": "a3fd9c73-edd5-47b6-8a11-d1e20352ad38",
   "metadata": {},
   "outputs": [],
   "source": []
  },
  {
   "cell_type": "markdown",
   "id": "62486086-497a-4e5d-af90-85b1757071b6",
   "metadata": {},
   "source": [
    "### 12.Implement a program to determine if a triangle is equilateral,isosceles, or scalene."
   ]
  },
  {
   "cell_type": "code",
   "execution_count": 45,
   "id": "f3aed2cc-d388-4e07-ac4c-55e9e888cd25",
   "metadata": {},
   "outputs": [
    {
     "name": "stdout",
     "output_type": "stream",
     "text": [
      "A triangle is scalene\n"
     ]
    }
   ],
   "source": [
    "x = 8\n",
    "y = 7 \n",
    "z = 9\n",
    "if x == y :\n",
    "    if y == z :\n",
    "        print(\"A triange is equailateral\")\n",
    "elif x ==y or y == z or z == x :\n",
    "    print(\"A triangle is isosceles\")\n",
    "else :\n",
    "    print(\"A triangle is scalene\")"
   ]
  },
  {
   "cell_type": "code",
   "execution_count": null,
   "id": "e78173eb-d62e-4b81-b071-857e0c7df98a",
   "metadata": {},
   "outputs": [],
   "source": []
  },
  {
   "cell_type": "markdown",
   "id": "1c52ced2-7031-45a7-9488-5f9a867faafb",
   "metadata": {},
   "source": [
    "### 13.Develop a program that checks if a year is a leap year and also if it is a centuary year."
   ]
  },
  {
   "cell_type": "code",
   "execution_count": 4,
   "id": "cc7804a3-a59d-407e-9197-50bb0a3bec28",
   "metadata": {},
   "outputs": [
    {
     "name": "stdin",
     "output_type": "stream",
     "text": [
      "Enter year you want to check 1700\n"
     ]
    },
    {
     "name": "stdout",
     "output_type": "stream",
     "text": [
      "1700 is a century year\n",
      "1700 is not a leap year\n"
     ]
    }
   ],
   "source": [
    "year = int (input('Enter year you want to check'))\n",
    "if year%100 == 0:\n",
    "    print(f'{year} is a century year')\n",
    "    if year%400 == 0:\n",
    "        print(f'{year} is a leap year')\n",
    "    else:\n",
    "        print(f'{year} is not a leap year')\n",
    "else:\n",
    "    print(f'{year} is not a century year')\n",
    "    if year%4 == 0:\n",
    "        print(f'{year} is a leap year')\n",
    "    else:\n",
    "        print(f'{year} is not a leap year')\n",
    "        "
   ]
  },
  {
   "cell_type": "code",
   "execution_count": null,
   "id": "4d666bb2-2216-4e9d-8000-b02a20623ce6",
   "metadata": {},
   "outputs": [],
   "source": []
  },
  {
   "cell_type": "markdown",
   "id": "d55327c4-30d4-46cf-991a-d0cc5460c33a",
   "metadata": {},
   "source": [
    "### 14.Write a Python script to determine if a number is positive, negative, or zero."
   ]
  },
  {
   "cell_type": "code",
   "execution_count": 6,
   "id": "2b35c282-fcc3-406d-99ac-2d3903723377",
   "metadata": {},
   "outputs": [
    {
     "name": "stdin",
     "output_type": "stream",
     "text": [
      "Enter the number  -9\n"
     ]
    },
    {
     "name": "stdout",
     "output_type": "stream",
     "text": [
      "Number is negative\n"
     ]
    }
   ],
   "source": [
    "number = int(input('Enter the number '))\n",
    "if number>0:\n",
    "    print('Number is positive')\n",
    "elif number == 0:\n",
    "    print('Number is zero')\n",
    "else:\n",
    "    print('Number is negative')\n",
    "    "
   ]
  },
  {
   "cell_type": "code",
   "execution_count": null,
   "id": "e8393b22-7488-4eef-a56b-5753ac8d1e7e",
   "metadata": {},
   "outputs": [],
   "source": []
  },
  {
   "cell_type": "markdown",
   "id": "024e9a5e-943b-4b75-b775-5a5cddf76b41",
   "metadata": {},
   "source": [
    "### 15.Create a program to check if a person is a teenagar(between 13 and 19 years old)."
   ]
  },
  {
   "cell_type": "code",
   "execution_count": 13,
   "id": "c3941ad1-c3cb-4526-bb18-df217e9d718d",
   "metadata": {},
   "outputs": [
    {
     "name": "stdin",
     "output_type": "stream",
     "text": [
      "Enter the age of a person 78\n"
     ]
    },
    {
     "name": "stdout",
     "output_type": "stream",
     "text": [
      "person is not a teenager\n"
     ]
    }
   ],
   "source": [
    "age = int(input(\"Enter the age of a person\"))\n",
    "\n",
    "if age >13 and age<19:\n",
    "    print('person is Teenager')\n",
    "else :\n",
    "    print(\"person is not a teenager\")\n",
    "        "
   ]
  },
  {
   "cell_type": "code",
   "execution_count": null,
   "id": "b6c464be-1377-436c-90d2-b66eb7d9328c",
   "metadata": {},
   "outputs": [],
   "source": []
  },
  {
   "cell_type": "markdown",
   "id": "d9e02b90-0d22-47d3-85be-c1097511f337",
   "metadata": {},
   "source": [
    "### 16.Develop a program that determines the types of angle based on its measure (acute,obtuse, or right)."
   ]
  },
  {
   "cell_type": "code",
   "execution_count": 16,
   "id": "3673a8c5-06ec-4c64-b30a-1f40d0a8ce19",
   "metadata": {},
   "outputs": [
    {
     "name": "stdin",
     "output_type": "stream",
     "text": [
      "Enter the angle in degrees ( between 0 and 180) : 160\n"
     ]
    },
    {
     "name": "stdout",
     "output_type": "stream",
     "text": [
      "It is an obtuse angle\n"
     ]
    }
   ],
   "source": [
    "angle = int(input('Enter the angle in degrees ( between 0 and 180) :'))\n",
    "\n",
    "if angle <90 :\n",
    "    print('It is an acute angle')\n",
    "elif angle>90 :\n",
    "    print('It is an obtuse angle')\n",
    "else :\n",
    "    print('It is a right angle')\n",
    "    "
   ]
  },
  {
   "cell_type": "code",
   "execution_count": null,
   "id": "f0808f14-076d-4a74-8cbf-bc9de51f2f02",
   "metadata": {},
   "outputs": [],
   "source": []
  },
  {
   "cell_type": "markdown",
   "id": "acff6ccb-3f4e-43f0-9a56-abca14df41ad",
   "metadata": {},
   "source": [
    "### 17.Write a Python program to calculate the roots of a quadratic equation."
   ]
  },
  {
   "cell_type": "code",
   "execution_count": 18,
   "id": "b177abac-c68e-4806-be27-48526538297e",
   "metadata": {},
   "outputs": [
    {
     "name": "stdin",
     "output_type": "stream",
     "text": [
      "Enter first coeff 1\n",
      "Enter second coeff -1\n",
      "Enter third coeff -6\n"
     ]
    },
    {
     "name": "stdout",
     "output_type": "stream",
     "text": [
      "The solution are (-2+0j) and (3+0j)\n"
     ]
    }
   ],
   "source": [
    "# solve the quadratic equation ax**2 + bx + c = 0\n",
    "\n",
    "# import complex math module \n",
    "import cmath\n",
    "\n",
    "# input coefficients of standard quadratic \n",
    "# 1 -1 -6\n",
    "a = int(input('Enter first coeff'))\n",
    "b = int(input('Enter second coeff'))\n",
    "c = int(input('Enter third coeff'))\n",
    "\n",
    "# calculate the discriminant\n",
    "d = (b**2) - (4*a*c)\n",
    "\n",
    "# find two solutions\n",
    "solution_1 = (-b-cmath.sqrt(d))/(2*a)\n",
    "solution_2 = (-b+cmath.sqrt(d))/(2*a)\n",
    "\n",
    "print('The solution are {0} and {1}'.format(solution_1,solution_2))\n"
   ]
  },
  {
   "cell_type": "code",
   "execution_count": null,
   "id": "636fa701-a33a-40b5-a41c-daaad84a1623",
   "metadata": {},
   "outputs": [],
   "source": []
  },
  {
   "cell_type": "markdown",
   "id": "50ebabc3-f2d1-434e-8597-2d741f971411",
   "metadata": {},
   "source": [
    "### 18.Implement a program to determine the day of the week based on a user-provided number(1 for Monday, 2 for Tuesday, etc.)."
   ]
  },
  {
   "cell_type": "code",
   "execution_count": 20,
   "id": "a2cf61ff-3b7d-4d84-8de0-ba05cfa6a99d",
   "metadata": {},
   "outputs": [
    {
     "name": "stdin",
     "output_type": "stream",
     "text": [
      "Enter a number 6\n"
     ]
    },
    {
     "name": "stdout",
     "output_type": "stream",
     "text": [
      "The day of the week is saturday\n"
     ]
    }
   ],
   "source": [
    "number = int(input('Enter a number'))\n",
    "if number ==1:\n",
    "    print(\"The day of the week is Monday\")\n",
    "elif number ==2:\n",
    "    print(\"The day of the week is Tuesday\")\n",
    "elif number ==3:\n",
    "    print(\"The day of the week is Wednesday\")\n",
    "elif number ==4:\n",
    "    print(\"The day of the week is Thursday\")\n",
    "elif number ==5:\n",
    "    print(\"The day of the week is Friday\")\n",
    "elif number ==6:\n",
    "    print(\"The day of the week is saturday\")\n",
    "elif number ==7:\n",
    "    print(\"The day of the week is sunday\")\n",
    "else :\n",
    "    print(\"The day of the week is not exist\")\n",
    "    "
   ]
  },
  {
   "cell_type": "code",
   "execution_count": null,
   "id": "8d830c97-58cc-4d7b-9c56-67ce883896cb",
   "metadata": {},
   "outputs": [],
   "source": []
  },
  {
   "cell_type": "markdown",
   "id": "d659825a-e76f-4f9c-8785-5e4cebde274b",
   "metadata": {},
   "source": [
    "### 19.Create a program that determines if a year is a leap year and also if it is evenly divisible by 400."
   ]
  },
  {
   "cell_type": "code",
   "execution_count": 24,
   "id": "7cd37af3-dfdd-4a1c-8093-664c86b7adcf",
   "metadata": {},
   "outputs": [
    {
     "name": "stdin",
     "output_type": "stream",
     "text": [
      "Enter year you want to check 2024\n"
     ]
    },
    {
     "name": "stdout",
     "output_type": "stream",
     "text": [
      "2024 is a leap year and not divisible by 400\n"
     ]
    }
   ],
   "source": [
    "year = int(input('Enter year you want to check'))\n",
    "if year%100 ==0:\n",
    "    if year%400 ==0:\n",
    "        print(f'{year} is a leap year and divisible by 400')\n",
    "    else:\n",
    "        print(f'{year} is not a leap year and not divisible by 400')\n",
    "else :\n",
    "    if year%4 ==0 :\n",
    "        print(f'{year} is a leap year and not divisible by 400')\n",
    "    else :\n",
    "        print(f'{year} is not a leap year and not divisble by 400')\n",
    "        "
   ]
  },
  {
   "cell_type": "code",
   "execution_count": null,
   "id": "640541b4-ee73-43aa-9421-098d7d70913d",
   "metadata": {},
   "outputs": [],
   "source": []
  },
  {
   "cell_type": "markdown",
   "id": "2696d4a8-a515-4fbc-a34c-fd1f459cf9e2",
   "metadata": {},
   "source": [
    "### 20.Develop a program that checks if a given number is prime or not using nested if-else statements."
   ]
  },
  {
   "cell_type": "code",
   "execution_count": 27,
   "id": "34bda39d-26ee-4b8c-afd6-60fe5832dbc4",
   "metadata": {},
   "outputs": [
    {
     "name": "stdin",
     "output_type": "stream",
     "text": [
      "Enter a number 43\n"
     ]
    },
    {
     "name": "stdout",
     "output_type": "stream",
     "text": [
      "43 is Prime\n"
     ]
    }
   ],
   "source": [
    "number = int(input('Enter a number'))\n",
    "a = 0\n",
    "if number!=1:\n",
    "    for i in range(1,number):\n",
    "        if number%i ==0:\n",
    "            a = a+1\n",
    "    if a>2:\n",
    "        print(f'{number} is not Prime')\n",
    "    else :\n",
    "        print(f'{number} is Prime')\n",
    "else :\n",
    "    print(f'{number} is not prime')\n",
    "    "
   ]
  },
  {
   "cell_type": "code",
   "execution_count": null,
   "id": "768737db-ccb4-401d-a2ea-9f48dd0f5d5c",
   "metadata": {},
   "outputs": [],
   "source": []
  },
  {
   "cell_type": "code",
   "execution_count": null,
   "id": "c8dda1b5-26b0-4e89-b0d2-4132bdccf361",
   "metadata": {},
   "outputs": [],
   "source": []
  },
  {
   "cell_type": "markdown",
   "id": "333728b2-4f85-40ce-aa6d-6ea8f8af4c4b",
   "metadata": {},
   "source": [
    "### Elif statements:\n",
    "---"
   ]
  },
  {
   "cell_type": "markdown",
   "id": "fbbcefec-a438-48f0-bc67-6f6fb69088e3",
   "metadata": {},
   "source": [
    "### 21.Write a Python program to assign grades based on different ranges of scores using elif statements."
   ]
  },
  {
   "cell_type": "code",
   "execution_count": 30,
   "id": "f5e6deb6-9df1-4d62-8b7c-a723825ff72b",
   "metadata": {},
   "outputs": [
    {
     "name": "stdin",
     "output_type": "stream",
     "text": [
      "Enter the score of students (max 500) 345\n"
     ]
    },
    {
     "name": "stdout",
     "output_type": "stream",
     "text": [
      "Grade of student is D\n"
     ]
    }
   ],
   "source": [
    "#A for >90 percentage \n",
    "#B for >80 percentage \n",
    "#C for >70 percentage \n",
    "#D for >60 percentage\n",
    "#F for Fail \n",
    "#total score =500\n",
    "\n",
    "score = int(input('Enter the score of students (max 500)'))\n",
    "per_cent = (score/500)*100\n",
    "            \n",
    "if per_cent>90:\n",
    "            print('Grade of student is A')\n",
    "elif per_cent>80:\n",
    "            print('Grade of student is B')\n",
    "elif per_cent>70:\n",
    "            print('Grade of student is C')\n",
    "elif per_cent>60:\n",
    "            print('Grade of student is D')\n",
    "else :\n",
    "            print('Grade of student is F')\n",
    "            "
   ]
  },
  {
   "cell_type": "code",
   "execution_count": null,
   "id": "a9a2a191-6606-49ad-8dec-1a39033ccfd2",
   "metadata": {},
   "outputs": [],
   "source": []
  },
  {
   "cell_type": "markdown",
   "id": "bc686703-18bd-4ba0-8624-7ddd62351df4",
   "metadata": {},
   "source": [
    "### 22.Implement a program to determine the type of a triangle based on its angles."
   ]
  },
  {
   "cell_type": "code",
   "execution_count": 34,
   "id": "f264c336-28d2-4257-bad5-03ffafc054e0",
   "metadata": {},
   "outputs": [
    {
     "name": "stdin",
     "output_type": "stream",
     "text": [
      "Enter first angle in degrees (between 0 and 180) 20\n",
      "Enter second angle in degrees (between 0 and 180) 70\n",
      "Enter third angle in degrees (between 0 and 180) 180\n"
     ]
    },
    {
     "name": "stdout",
     "output_type": "stream",
     "text": [
      "It is obtuse angled triangle\n"
     ]
    }
   ],
   "source": [
    "angle_1 = int(input('Enter first angle in degrees (between 0 and 180)'))\n",
    "angle_2 = int(input('Enter second angle in degrees (between 0 and 180)'))\n",
    "angle_3 = int(input('Enter third angle in degrees (between 0 and 180)'))\n",
    "l = [angle_1,angle_2,angle_3]\n",
    "l.sort()\n",
    "angle = l[-1]\n",
    "if angle <90:\n",
    "    print('It is an acute angled triangle ')\n",
    "elif angle == 90:\n",
    "    print('It is right angled triangle')\n",
    "else :\n",
    "    print('It is obtuse angled triangle')\n",
    "    "
   ]
  },
  {
   "cell_type": "code",
   "execution_count": null,
   "id": "a9a70660-30b4-4f06-a7b1-6a35ac86a2f4",
   "metadata": {},
   "outputs": [],
   "source": []
  },
  {
   "cell_type": "markdown",
   "id": "bf09b38c-548d-4fe2-9301-e9b51a0147fb",
   "metadata": {},
   "source": [
    "### 23.Develop a program to categorize a given \"person's BMI\" into underweight, normal, overweight, or obese using elif statements."
   ]
  },
  {
   "cell_type": "code",
   "execution_count": 38,
   "id": "7cfce1f3-8c93-40b4-9395-1f74f32fc373",
   "metadata": {},
   "outputs": [
    {
     "name": "stdin",
     "output_type": "stream",
     "text": [
      "Enter the person's BMI index 10\n"
     ]
    },
    {
     "name": "stdout",
     "output_type": "stream",
     "text": [
      "person has underweight\n"
     ]
    }
   ],
   "source": [
    "bmi = float(input(\"Enter the person's BMI index\"))\n",
    "if bmi <18.5:\n",
    "    print(\"person has underweight\")\n",
    "elif bmi>=18.5 and bmi <25:\n",
    "    print(\"person has normal weight\")\n",
    "elif bmi>=25 and bmi<30:\n",
    "    print(\"person has overweight\")\n",
    "else :\n",
    "    print(\"person has obesity\")\n",
    "    "
   ]
  },
  {
   "cell_type": "code",
   "execution_count": null,
   "id": "ef68e566-e5b6-44c7-9aa2-7e37138c02f1",
   "metadata": {},
   "outputs": [],
   "source": []
  },
  {
   "cell_type": "markdown",
   "id": "f0d1453c-b045-4d3a-9b37-9e4045306d04",
   "metadata": {},
   "source": [
    "### 24.Create a program that determines whether a given number is positive, negative, or zero using elif statements."
   ]
  },
  {
   "cell_type": "code",
   "execution_count": 41,
   "id": "716c8e1e-dc92-465f-b1c0-35d20679dea0",
   "metadata": {},
   "outputs": [
    {
     "name": "stdin",
     "output_type": "stream",
     "text": [
      "enter a number  0\n"
     ]
    },
    {
     "name": "stdout",
     "output_type": "stream",
     "text": [
      "The number is zero\n"
     ]
    }
   ],
   "source": [
    "number = int(input(\"enter a number \"))\n",
    "if number >0 :\n",
    "    print(\"The number is positive\")\n",
    "elif number<0:\n",
    "    print(\"The number is negative\")\n",
    "else :\n",
    "    print(\"The number is zero\")\n",
    "    "
   ]
  },
  {
   "cell_type": "code",
   "execution_count": null,
   "id": "b9b41fe9-7080-4fc3-a474-6e43f93f95dd",
   "metadata": {},
   "outputs": [],
   "source": []
  },
  {
   "cell_type": "markdown",
   "id": "447bff96-889a-4470-83b7-fffbf344bd12",
   "metadata": {},
   "source": [
    "### 25.Write a python script to determine the type of a character (uppercase, lowercase, or special) using elif statements."
   ]
  },
  {
   "cell_type": "code",
   "execution_count": 46,
   "id": "9ac4f359-faf6-4df3-9845-67f106bdafce",
   "metadata": {},
   "outputs": [
    {
     "name": "stdin",
     "output_type": "stream",
     "text": [
      "enter the charcter '\n"
     ]
    },
    {
     "name": "stdout",
     "output_type": "stream",
     "text": [
      "It is special character\n"
     ]
    }
   ],
   "source": [
    "char = input('enter the charcter')\n",
    "if char.isupper() == True:\n",
    "    print(\"charcter is uppercase\")\n",
    "elif char.islower() == True:\n",
    "          print(\"character is lowercase\")\n",
    "else :\n",
    "                print(\"It is special character\")\n",
    "                "
   ]
  },
  {
   "cell_type": "code",
   "execution_count": null,
   "id": "a0cf582e-fbdc-4d44-ab29-e61172bd7e5d",
   "metadata": {},
   "outputs": [],
   "source": []
  },
  {
   "cell_type": "markdown",
   "id": "7aecf2d9-be13-43b3-8137-d632899def63",
   "metadata": {},
   "source": [
    "### 26.Implement a program to calculate the discounted price based on different purchase amounts using elif statements."
   ]
  },
  {
   "cell_type": "code",
   "execution_count": 49,
   "id": "b30634e2-ca30-4adc-a4ae-037296008f57",
   "metadata": {},
   "outputs": [
    {
     "name": "stdin",
     "output_type": "stream",
     "text": [
      "Enter the price 180\n"
     ]
    },
    {
     "name": "stdout",
     "output_type": "stream",
     "text": [
      "the discounted price is 171.0\n"
     ]
    }
   ],
   "source": [
    "# price<100 : no discount \n",
    "# 100<price<=200 : 5% discount\n",
    "#else  10% discount\n",
    "\n",
    "price = float(input('Enter the price'))\n",
    "if price <=100 :\n",
    "    print(f'The discounted price is {price}')\n",
    "elif price>100 and price<=200:\n",
    "    print(f'the discounted price is {0.95* price}')\n",
    "else :\n",
    "    print(f'The discounted price is {0.90*price}')\n",
    "    "
   ]
  },
  {
   "cell_type": "code",
   "execution_count": null,
   "id": "f82802f0-3cac-4538-a464-567c3a274ca1",
   "metadata": {},
   "outputs": [],
   "source": []
  },
  {
   "cell_type": "markdown",
   "id": "cdbccff3-c2da-4695-9c47-c2cecfa7ccef",
   "metadata": {},
   "source": [
    "### 27.Develop a program to calculate the electricity bill based on different consumption slabs using elif statements."
   ]
  },
  {
   "cell_type": "code",
   "execution_count": 52,
   "id": "3cde89ce-57aa-45bc-9ed9-bc45bf54587a",
   "metadata": {},
   "outputs": [
    {
     "name": "stdin",
     "output_type": "stream",
     "text": [
      "enter kwh consumed 45\n"
     ]
    },
    {
     "name": "stdout",
     "output_type": "stream",
     "text": [
      "320.0 is the total cost\n"
     ]
    }
   ],
   "source": [
    "kwh = float (input('enter kwh consumed'))\n",
    "\n",
    "f_c = 50\n",
    "if kwh<=100:                        #Rs 6/kwh upto 100kwh\n",
    "    print(f'{f_c + (6*kwh)} is the total cost')\n",
    "elif kwh >100 and kwh <200 :         #Rs 10/kwh \n",
    "    print(f'{f_c + (10*kwh)} is the total cost')\n",
    "else :                                 #Rs 20/kwh\n",
    "    print(f'{f_c + (20*kwh)} is the total cost')\n",
    "    "
   ]
  },
  {
   "cell_type": "code",
   "execution_count": null,
   "id": "cf3200d3-32ef-4399-bbf2-4d206cced99a",
   "metadata": {},
   "outputs": [],
   "source": []
  },
  {
   "cell_type": "markdown",
   "id": "8f4a7bc5-579f-4dee-959e-63ded58102e8",
   "metadata": {},
   "source": [
    "### 28.Create a program to determine the type of quadrilateral based on its angles and sides using elif statements."
   ]
  },
  {
   "cell_type": "code",
   "execution_count": 1,
   "id": "292de53c-731f-42d3-89ab-08344a6f429d",
   "metadata": {},
   "outputs": [
    {
     "name": "stdin",
     "output_type": "stream",
     "text": [
      "Enter the length of side 1: 12\n",
      "Enter the length of side 2: 12\n",
      "Enter the length of side 3: 12\n",
      "Enter the length of side 4: 12\n",
      "Enter the angle 1 : 90\n",
      "Enter the angle 2 : 90\n",
      "Enter the angle 3 : 90\n",
      "Enter the angle 4 : 90\n"
     ]
    },
    {
     "name": "stdout",
     "output_type": "stream",
     "text": [
      "It is square\n"
     ]
    }
   ],
   "source": [
    "# Input the sides and angles of the quadrilateral \n",
    "s1 = float(input(\"Enter the length of side 1:\"))\n",
    "s2 = float(input(\"Enter the length of side 2:\"))\n",
    "s3 = float(input(\"Enter the length of side 3:\"))\n",
    "s4 = float(input(\"Enter the length of side 4:\"))\n",
    "\n",
    "a1 = float(input(\"Enter the angle 1 :\"))\n",
    "a2 = float(input(\"Enter the angle 2 :\"))\n",
    "a3 = float(input(\"Enter the angle 3 :\"))\n",
    "a4 = float(input(\"Enter the angle 4 :\"))\n",
    "\n",
    "# check if it is a quadrilateral\n",
    "if s1 + s2 + s3 > s4 and s2 + s3 + s4 > s1 and s3 + s4 + s1 > s2 :\n",
    "    # check for each type of quadrilateral\n",
    "    if s1 == s2 == s3 == s4 and a1 == a2 == a3== a4 == 90:\n",
    "        print(\"It is square\")\n",
    "    elif s1 == s3 and s2 == s4 and a1 == a3 and a2 == a4 == 90:\n",
    "        print(\"It is rectangle\")\n",
    "    elif s1 == s2 == s3 == s4 and a1 == a3 and a2 == a4 :\n",
    "        print(\"It is Rhombus\")\n",
    "    elif s1 == s3 and s2 == s4  and a1 == a3 or a2 == a4:\n",
    "        print(\"It is parallelogram\")\n",
    "    elif s1 == s3 or s2 ==s4 :\n",
    "        print(\"It is trapezoid\")\n",
    "    elif s1 == s2 and s3 == s4 or s1 == s3 and s2 == s4 or s1 == s4 and s2 == s3 :\n",
    "        print(\"It is kite\")\n",
    "    else :\n",
    "        print(\"Quadrilateral but not a specific type \")\n",
    "else :\n",
    "    print(\"Not a Quadrilateral\")\n",
    "    "
   ]
  },
  {
   "cell_type": "code",
   "execution_count": null,
   "id": "3d991b69-d37f-4dff-99b6-ddbc330a9fb3",
   "metadata": {},
   "outputs": [],
   "source": []
  },
  {
   "cell_type": "markdown",
   "id": "5fe27802-a539-4484-beda-a7055239ffbf",
   "metadata": {},
   "source": [
    "### 29.Write a Python script to determine the season based on a user-provided month using elif statements."
   ]
  },
  {
   "cell_type": "code",
   "execution_count": 3,
   "id": "1a2b8417-7dd0-487b-81ac-cd21a374e696",
   "metadata": {},
   "outputs": [
    {
     "name": "stdin",
     "output_type": "stream",
     "text": [
      "Enter the month number 7\n"
     ]
    },
    {
     "name": "stdout",
     "output_type": "stream",
     "text": [
      "season is summer\n"
     ]
    }
   ],
   "source": [
    "month = int(input(\"Enter the month number\"))  #take user input of month\n",
    "#month = month.lower()\n",
    "# month = ['january' ,'februrary','march','april','may','june','july','august','september','october','november','december']\n",
    "if month<3 or month>8:\n",
    "    print(\"season is winter\")\n",
    "elif month>2 and month<5:\n",
    "          print(\"season is spring\")\n",
    "else :\n",
    "    print(\"season is summer\")\n",
    "    "
   ]
  },
  {
   "cell_type": "code",
   "execution_count": null,
   "id": "673a1f8e-70ec-4f82-a4b2-fa2c4d7d6114",
   "metadata": {},
   "outputs": [],
   "source": []
  },
  {
   "cell_type": "markdown",
   "id": "f060fccd-5296-483f-a9d2-81401ead82e0",
   "metadata": {},
   "source": [
    "### 30.Implement a program to determine the type of a year (leap or common) and month (30 or 31 days) using elif statements."
   ]
  },
  {
   "cell_type": "code",
   "execution_count": 4,
   "id": "35a6be0b-d408-497e-9763-1281315f8ee9",
   "metadata": {},
   "outputs": [
    {
     "name": "stdin",
     "output_type": "stream",
     "text": [
      "Enter the year 1990\n",
      "Enter month number 2\n"
     ]
    },
    {
     "name": "stdout",
     "output_type": "stream",
     "text": [
      "Month contains 30 days \n"
     ]
    }
   ],
   "source": [
    "year = int(input(\"Enter the year\"))\n",
    "month = int(input(\"Enter month number\"))\n",
    "\n",
    "if year%100 == 0:\n",
    "    if year%400 == 0:\n",
    "        print(f'{year} is a leap year')\n",
    "    else :\n",
    "        print(f'{year} is not a leap year')\n",
    "else :\n",
    "    if year%4 == 0:\n",
    "        print(f'{year} is a leap year')\n",
    "        \n",
    "if month<=7:\n",
    "    if month%2!=0:\n",
    "        print(\"Month contains 31 days \")\n",
    "    else :\n",
    "        print(\"Month contains 30 days \")\n",
    "else :\n",
    "    if month%2==0:\n",
    "        print(\"Month contains 31 days\")\n",
    "    else :\n",
    "        print(\"Month contains 30 days \")\n",
    "        "
   ]
  },
  {
   "cell_type": "code",
   "execution_count": null,
   "id": "12cd9c96-de7a-4faa-b5e4-b443642aceca",
   "metadata": {},
   "outputs": [],
   "source": []
  },
  {
   "cell_type": "markdown",
   "id": "6ef5506b-a275-44ed-8566-9c47fcab1b3c",
   "metadata": {},
   "source": [
    "### Basic level:\n",
    "---"
   ]
  },
  {
   "cell_type": "markdown",
   "id": "dc9cdc4e-b58c-49bf-a462-54fffef2543a",
   "metadata": {},
   "source": [
    "### 1.Write a Python program that checks if a given number is positive, negative, or zero."
   ]
  },
  {
   "cell_type": "code",
   "execution_count": 5,
   "id": "55df51cf-6e36-429b-8c24-94a5131ce7ee",
   "metadata": {},
   "outputs": [
    {
     "name": "stdin",
     "output_type": "stream",
     "text": [
      "Enter the number 9\n"
     ]
    },
    {
     "name": "stdout",
     "output_type": "stream",
     "text": [
      "Number is positive\n"
     ]
    }
   ],
   "source": [
    "n = int(input(\"Enter the number\"))\n",
    "if n>0:\n",
    "    print(\"Number is positive\")\n",
    "elif n<0:\n",
    "    print(\"Number is negative\")\n",
    "else :\n",
    "    print(\"Number is zero\")\n",
    "    "
   ]
  },
  {
   "cell_type": "code",
   "execution_count": null,
   "id": "dd20b289-56a5-434d-aa53-83e644cd1609",
   "metadata": {},
   "outputs": [],
   "source": []
  },
  {
   "cell_type": "markdown",
   "id": "c6d32aae-9852-4d57-8ae0-fbbefbd3c5be",
   "metadata": {},
   "source": [
    "### 2.Create a program to determine if a person is eligible to vote based on their age."
   ]
  },
  {
   "cell_type": "code",
   "execution_count": 6,
   "id": "2390e3a5-07bb-4fb1-99cb-9f18fb39ac70",
   "metadata": {},
   "outputs": [
    {
     "name": "stdin",
     "output_type": "stream",
     "text": [
      "Enter the age of person 23\n"
     ]
    },
    {
     "name": "stdout",
     "output_type": "stream",
     "text": [
      "The person is eligible to vote\n"
     ]
    }
   ],
   "source": [
    "age = int(input(\"Enter the age of person\"))\n",
    "if age > 18:\n",
    "    print(\"The person is eligible to vote\")\n",
    "else :\n",
    "    print(\"The person is not eligible to vote\")\n",
    "    "
   ]
  },
  {
   "cell_type": "code",
   "execution_count": null,
   "id": "2a18aa81-296a-47ed-a676-0db89984ce7f",
   "metadata": {},
   "outputs": [],
   "source": []
  },
  {
   "cell_type": "markdown",
   "id": "b3a26807-1cd2-4d57-8a3e-f9798a15b1ec",
   "metadata": {},
   "source": [
    "### 3.Write a program to find the maximum of two given numbers using conditional statements."
   ]
  },
  {
   "cell_type": "code",
   "execution_count": 7,
   "id": "107783b8-3a7e-4794-aaca-9e4630f93104",
   "metadata": {},
   "outputs": [
    {
     "name": "stdin",
     "output_type": "stream",
     "text": [
      "enter first number  4\n",
      "enter second number  -1\n"
     ]
    },
    {
     "name": "stdout",
     "output_type": "stream",
     "text": [
      "4 is greater than -1\n"
     ]
    }
   ],
   "source": [
    "a1 = int(input(\"enter first number \"))\n",
    "a2 = int(input(\"enter second number \"))\n",
    "if a1>a2:\n",
    "    print(f'{a1} is greater than {a2}')\n",
    "else :\n",
    "    print('{} is greater than {}'.format(a1,a2))\n",
    "    "
   ]
  },
  {
   "cell_type": "code",
   "execution_count": null,
   "id": "e32444fe-1d5f-47cc-80aa-84cbe60a9483",
   "metadata": {},
   "outputs": [],
   "source": []
  },
  {
   "cell_type": "markdown",
   "id": "913e8095-d94d-4fab-bf92-f9ac2cdd6434",
   "metadata": {},
   "source": [
    "### 4.Develop a program that calculates the grade of a student based on their exam score."
   ]
  },
  {
   "cell_type": "code",
   "execution_count": 9,
   "id": "60e3fc2d-2f1a-46a2-ad0b-44cecd622591",
   "metadata": {},
   "outputs": [
    {
     "name": "stdin",
     "output_type": "stream",
     "text": [
      "Enter the score of students (max 500) 450\n"
     ]
    },
    {
     "name": "stdout",
     "output_type": "stream",
     "text": [
      "Grade of student is B\n"
     ]
    }
   ],
   "source": [
    "\n",
    "#A for >90 percentage \n",
    "#B for >80 percentage \n",
    "#C for >70 percentage \n",
    "#D for >60 percentage\n",
    "#F for other\n",
    "#total score =500\n",
    "\n",
    "score = int(input('Enter the score of students (max 500)'))\n",
    "per_cent = (score/500)*100\n",
    "            \n",
    "if per_cent>90:\n",
    "            print('Grade of student is A')\n",
    "elif per_cent>80:\n",
    "            print('Grade of student is B')\n",
    "elif per_cent>70:\n",
    "            print('Grade of student is C')\n",
    "elif per_cent>60:\n",
    "            print('Grade of student is D')\n",
    "else :\n",
    "            print('Grade of student is F')\n",
    "            "
   ]
  },
  {
   "cell_type": "code",
   "execution_count": null,
   "id": "51c82459-1a36-46cf-a99e-978455cd453f",
   "metadata": {},
   "outputs": [],
   "source": []
  },
  {
   "cell_type": "markdown",
   "id": "0f2451db-cbf7-4cd5-99ed-350a6b2be73e",
   "metadata": {},
   "source": [
    "### 5.Create a program that checks if a year is a leap year or not."
   ]
  },
  {
   "cell_type": "code",
   "execution_count": 11,
   "id": "7b0be6ef-a402-4ba3-82ea-48d349aaca86",
   "metadata": {},
   "outputs": [
    {
     "name": "stdin",
     "output_type": "stream",
     "text": [
      "Enter the year 1609\n"
     ]
    },
    {
     "name": "stdout",
     "output_type": "stream",
     "text": [
      "1609 is not a leap year\n"
     ]
    }
   ],
   "source": [
    "year = int(input(\"Enter the year\"))\n",
    "\n",
    "if year%100 == 0:\n",
    "    if year%400 == 0:\n",
    "        print(f'{year} is a leap year')\n",
    "    else :\n",
    "        print(f'{year} is not a leap year')\n",
    "else :\n",
    "    if year%4 == 0:\n",
    "        print(f'{year} is a leap year')\n",
    "    else :\n",
    "        print(f'{year} is not a leap year')\n",
    "    "
   ]
  },
  {
   "cell_type": "code",
   "execution_count": null,
   "id": "5458959c-7747-4918-8afd-08fda3fb3f9b",
   "metadata": {},
   "outputs": [],
   "source": []
  },
  {
   "cell_type": "markdown",
   "id": "7800aca6-7346-4009-af81-752f37539ff4",
   "metadata": {},
   "source": [
    "### 6.Write a program that classify a triangle based on its sides' lengths."
   ]
  },
  {
   "cell_type": "code",
   "execution_count": 12,
   "id": "cb39ae0b-6cae-429d-b2df-44c0ec73e61e",
   "metadata": {},
   "outputs": [
    {
     "name": "stdin",
     "output_type": "stream",
     "text": [
      "Enter the first side of triangle : 12\n",
      "Enter the second side of triangle : 23\n",
      "Enter the third side of triangle : 12\n"
     ]
    },
    {
     "name": "stdout",
     "output_type": "stream",
     "text": [
      "it is isosceles triangle \n"
     ]
    }
   ],
   "source": [
    "s1 = int(input(\"Enter the first side of triangle :\"))\n",
    "s2 = int(input(\"Enter the second side of triangle :\"))\n",
    "s3 = int(input(\"Enter the third side of triangle :\"))\n",
    "\n",
    "if s1 == s2 and s2 == s3 :\n",
    "    print(\"it is equilateral triangle \")\n",
    "elif s1 == s2 or s2 == s3 or s3 == s1 :\n",
    "    print(\"it is isosceles triangle \")\n",
    "else :\n",
    "    print(\"it is scalene triangle \")\n",
    "    "
   ]
  },
  {
   "cell_type": "code",
   "execution_count": null,
   "id": "9d0d72cf-bec7-44ac-9e8b-96b2350e3dfa",
   "metadata": {},
   "outputs": [],
   "source": []
  },
  {
   "cell_type": "markdown",
   "id": "bddac152-adf6-4d51-8d73-3a1363c10f4a",
   "metadata": {},
   "source": [
    "### 7.Build a program that determines the largest of three given numbers."
   ]
  },
  {
   "cell_type": "code",
   "execution_count": 13,
   "id": "0d7de23f-d5fd-4719-b026-c1e052416a2a",
   "metadata": {},
   "outputs": [
    {
     "name": "stdin",
     "output_type": "stream",
     "text": [
      "Enter first number  23\n",
      "Enter second number  11\n",
      "Enter third number  34\n"
     ]
    },
    {
     "name": "stdout",
     "output_type": "stream",
     "text": [
      "34 is largest number \n"
     ]
    }
   ],
   "source": [
    "n1 = int(input(\"Enter first number \"))\n",
    "n2 = int(input(\"Enter second number \"))\n",
    "n3 = int(input(\"Enter third number \"))\n",
    "\n",
    "if n1>n2 and n1>n3:\n",
    "    print(f'{n1} is largest number')\n",
    "    \n",
    "else :\n",
    "    if n2>n3:\n",
    "        print(f'{n2} is largest number ')\n",
    "    else :\n",
    "        print(f'{n3} is largest number ')\n",
    "        "
   ]
  },
  {
   "cell_type": "code",
   "execution_count": null,
   "id": "9c1dbc86-80e4-47e2-a509-a59ee4715ccd",
   "metadata": {},
   "outputs": [],
   "source": []
  },
  {
   "cell_type": "markdown",
   "id": "284d91e3-5ea9-417b-be1c-1ef28a857afc",
   "metadata": {},
   "source": [
    "### 8.Develop a program that checks whether a character is a vowel or a consonant."
   ]
  },
  {
   "cell_type": "code",
   "execution_count": 14,
   "id": "a2a0bfc4-f84f-45f4-b341-6d0e47d76b6b",
   "metadata": {},
   "outputs": [
    {
     "name": "stdin",
     "output_type": "stream",
     "text": [
      "Enter a character  r\n"
     ]
    },
    {
     "name": "stdout",
     "output_type": "stream",
     "text": [
      "r is a consonant\n"
     ]
    }
   ],
   "source": [
    "char = input(\"Enter a character \")\n",
    "if char == 'a' or char == 'e' or char == 'i' or char == 'o' or char == 'u' :\n",
    "    print(f'{char} is a vowel ')\n",
    "else :\n",
    "    print(f'{char} is a consonant')\n",
    "    "
   ]
  },
  {
   "cell_type": "code",
   "execution_count": null,
   "id": "036be4f2-641d-4ec8-ac46-c8683415425a",
   "metadata": {},
   "outputs": [],
   "source": []
  },
  {
   "cell_type": "markdown",
   "id": "65e7a77a-a253-4af0-8a0a-9bc078b783b9",
   "metadata": {},
   "source": [
    "### 9.Create a program to calculate the total cost of a shopping cart based on discounts."
   ]
  },
  {
   "cell_type": "code",
   "execution_count": 15,
   "id": "8b0c9570-6624-4a91-9b16-d488eb3f548b",
   "metadata": {},
   "outputs": [
    {
     "name": "stdin",
     "output_type": "stream",
     "text": [
      "Enter the price 1000\n"
     ]
    },
    {
     "name": "stdout",
     "output_type": "stream",
     "text": [
      "The discounted price is 900.0\n"
     ]
    }
   ],
   "source": [
    "# price<100 : no discount \n",
    "# 100<price<=200 : 5% discount\n",
    "#else  10% discount\n",
    "\n",
    "price = float(input('Enter the price'))\n",
    "if price <=100 :\n",
    "    print(f'The discounted price is {price}')\n",
    "elif price>100 and price<=200:\n",
    "    print(f'the discounted price is {0.95* price}')\n",
    "else :\n",
    "    print(f'The discounted price is {0.90*price}')\n",
    "    "
   ]
  },
  {
   "cell_type": "code",
   "execution_count": null,
   "id": "dcc61275-e228-4709-a760-c0e809a70455",
   "metadata": {},
   "outputs": [],
   "source": []
  },
  {
   "cell_type": "markdown",
   "id": "420c4eb9-0532-4839-8e9d-76a701cfcc9e",
   "metadata": {},
   "source": [
    "### 10.Write a program that checks if a given number is even or odd."
   ]
  },
  {
   "cell_type": "code",
   "execution_count": 16,
   "id": "91b36401-4f24-4b34-a188-ea5918daf0a9",
   "metadata": {},
   "outputs": [
    {
     "name": "stdin",
     "output_type": "stream",
     "text": [
      "Enter a number : 23\n"
     ]
    },
    {
     "name": "stdout",
     "output_type": "stream",
     "text": [
      "It is odd number \n"
     ]
    }
   ],
   "source": [
    "number = int(input(\"Enter a number :\"))\n",
    "\n",
    "if number%2 == 0:\n",
    "    print(\"It is even number \")\n",
    "else :\n",
    "    print(\"It is odd number \")\n",
    "    "
   ]
  },
  {
   "cell_type": "code",
   "execution_count": null,
   "id": "c59cb19d-264e-4332-998f-092ba52ee1bf",
   "metadata": {},
   "outputs": [],
   "source": []
  },
  {
   "cell_type": "code",
   "execution_count": null,
   "id": "11704234-90c5-48f8-98b0-5665690c7294",
   "metadata": {},
   "outputs": [],
   "source": []
  },
  {
   "cell_type": "markdown",
   "id": "ccf938a9-ea70-462c-b552-64a55640dc20",
   "metadata": {},
   "source": [
    "### Intermediate level:\n",
    "---"
   ]
  },
  {
   "cell_type": "markdown",
   "id": "2f00d8ee-0c64-4547-8703-ab1709b09f09",
   "metadata": {},
   "source": [
    "### 11.Write a program that calculates the roots of a quadratic equation."
   ]
  },
  {
   "cell_type": "code",
   "execution_count": 17,
   "id": "5474c8f6-c24d-4557-a346-b3360d071be5",
   "metadata": {},
   "outputs": [
    {
     "name": "stdin",
     "output_type": "stream",
     "text": [
      "Enter first coeff 1\n",
      "Enter second coeff 5\n",
      "Enter third coeff 6\n"
     ]
    },
    {
     "name": "stdout",
     "output_type": "stream",
     "text": [
      "The solution are (-3+0j) and (-2+0j)\n"
     ]
    }
   ],
   "source": [
    "# solve the quadratic equation ax**2 + bx + c = 0\n",
    "\n",
    "# import complex math module \n",
    "import cmath\n",
    "\n",
    "# input coefficients of standard quadratic \n",
    "# 1 -1 -6\n",
    "a = int(input('Enter first coeff'))\n",
    "b = int(input('Enter second coeff'))\n",
    "c = int(input('Enter third coeff'))\n",
    "\n",
    "# calculate the discriminant\n",
    "d = (b**2) - (4*a*c)\n",
    "\n",
    "# find two solutions\n",
    "solution_1 = (-b-cmath.sqrt(d))/(2*a)\n",
    "solution_2 = (-b+cmath.sqrt(d))/(2*a)\n",
    "\n",
    "print('The solution are {0} and {1}'.format(solution_1,solution_2))\n"
   ]
  },
  {
   "cell_type": "code",
   "execution_count": null,
   "id": "351f109f-83dc-4acc-bcf9-7b8a8284cfe8",
   "metadata": {},
   "outputs": [],
   "source": []
  },
  {
   "cell_type": "markdown",
   "id": "c3e72fe2-aa9a-480c-b99b-08c5ca36779a",
   "metadata": {},
   "source": [
    "### 12.Create a program that determines the day of the week based on the day number (1-7)."
   ]
  },
  {
   "cell_type": "code",
   "execution_count": 18,
   "id": "d6f1de95-2639-475c-a4af-91aa5b7a0c24",
   "metadata": {},
   "outputs": [
    {
     "name": "stdin",
     "output_type": "stream",
     "text": [
      "Enter a number(1-7)  5\n"
     ]
    },
    {
     "name": "stdout",
     "output_type": "stream",
     "text": [
      "Friday\n"
     ]
    }
   ],
   "source": [
    "n = int(input(\"Enter a number(1-7) \"))\n",
    "if n == 1 :\n",
    "    print(\"Monday\")\n",
    "elif n==2:\n",
    "    print(\"Tuesday\")\n",
    "elif n==3 :\n",
    "    print(\"Wednesday\")\n",
    "elif n==4 :\n",
    "    print(\"Thursday\")\n",
    "elif n==5 :\n",
    "    print(\"Friday\")\n",
    "elif n==6 :\n",
    "    print(\"saturday\")\n",
    "elif n==7:\n",
    "    print(\"Sunday\")\n",
    "    \n",
    "else :\n",
    "    print(\"Enter valid week day number\")\n",
    "    "
   ]
  },
  {
   "cell_type": "code",
   "execution_count": null,
   "id": "a2ea71d5-5c3a-4e07-8cd0-31d391175bdd",
   "metadata": {},
   "outputs": [],
   "source": []
  },
  {
   "cell_type": "markdown",
   "id": "02054d62-892c-47fd-82cc-215e9f49f0ec",
   "metadata": {},
   "source": [
    "### 13.Develop a program that calculates the factorial of a given number using recusion."
   ]
  },
  {
   "cell_type": "code",
   "execution_count": 19,
   "id": "a6f77671-637e-4c2b-b1a6-ae84933f99be",
   "metadata": {},
   "outputs": [
    {
     "name": "stdout",
     "output_type": "stream",
     "text": [
      "Factorial is 120\n"
     ]
    }
   ],
   "source": [
    "def fact(n,p=1):\n",
    "    p = p*n\n",
    "    if n==1:\n",
    "        print(f'Factorial is {p}')\n",
    "    else :\n",
    "        fact(n-1, p)\n",
    "        \n",
    "fact(5)  #take number of which you want factorial\n"
   ]
  },
  {
   "cell_type": "code",
   "execution_count": null,
   "id": "916cb36a-bea7-4dec-aabc-0a29e8f63e45",
   "metadata": {},
   "outputs": [],
   "source": []
  },
  {
   "cell_type": "markdown",
   "id": "a7b59e12-e6da-4971-9ae4-083350c1620e",
   "metadata": {},
   "source": [
    "### 14.Write a program to find the largest among three numbers without using the max() function."
   ]
  },
  {
   "cell_type": "code",
   "execution_count": 20,
   "id": "fb4b06b4-627e-4b47-8327-e8987caf4f4a",
   "metadata": {},
   "outputs": [
    {
     "name": "stdin",
     "output_type": "stream",
     "text": [
      "Enter first number : 11\n",
      "Enter second number : -2\n",
      "Enter third number : 2\n"
     ]
    },
    {
     "name": "stdout",
     "output_type": "stream",
     "text": [
      "11 is largest number\n"
     ]
    }
   ],
   "source": [
    "n1 = int(input(\"Enter first number :\"))\n",
    "n2 = int(input(\"Enter second number :\"))\n",
    "n3 =int(input(\"Enter third number :\"))\n",
    "\n",
    "if n1>n2 and n1>n3:\n",
    "    print(f'{n1} is largest number')\n",
    "else :\n",
    "    if n2>n3:\n",
    "        print(f'{n2} is largest number')\n",
    "    else :\n",
    "        print(f'{n3} is largest number ')\n",
    "        "
   ]
  },
  {
   "cell_type": "code",
   "execution_count": null,
   "id": "eeb3ef7e-0c22-4033-b94d-bcbc1a373598",
   "metadata": {},
   "outputs": [],
   "source": []
  },
  {
   "cell_type": "markdown",
   "id": "3af07151-1bd1-461e-a56f-3ce5bc8fda92",
   "metadata": {},
   "source": [
    "### 15.Create a program that simulates a basic ATM transaction meanu."
   ]
  },
  {
   "cell_type": "code",
   "execution_count": 21,
   "id": "fdb829ef-3049-4c1d-b22c-2cb1ac2f32ea",
   "metadata": {},
   "outputs": [
    {
     "name": "stdout",
     "output_type": "stream",
     "text": [
      "Welcome to ATM machine\n"
     ]
    },
    {
     "name": "stdin",
     "output_type": "stream",
     "text": [
      "Enter 1 to withdraw, 2 to deposit, 3 to balance check, 4 to exit 1\n",
      "Enter amount you want to withdraw 500\n"
     ]
    },
    {
     "name": "stdout",
     "output_type": "stream",
     "text": [
      "Debited with 500.0 amount\n"
     ]
    },
    {
     "name": "stdin",
     "output_type": "stream",
     "text": [
      "Enter 4 to get back to main menu or other number to exit 4\n",
      "Enter 1 to withdraw, 2 to deposit, 3 to balance check, 4 to exit 2\n",
      "Enter the deposit amount 100\n"
     ]
    },
    {
     "name": "stdout",
     "output_type": "stream",
     "text": [
      "Transaction successful\n"
     ]
    },
    {
     "name": "stdin",
     "output_type": "stream",
     "text": [
      "Enter 4 to get back to main menu or other number to exit 0\n"
     ]
    }
   ],
   "source": [
    "print('Welcome to ATM machine')\n",
    "c=True\n",
    "bl = 1000\n",
    "while c==True:\n",
    "    cd = int(input('Enter 1 to withdraw, 2 to deposit, 3 to balance check, 4 to exit'))\n",
    "    \n",
    "    if cd==1:\n",
    "        wd = float(input('Enter amount you want to withdraw'))\n",
    "        if wd<=bl:\n",
    "            print(f'Debited with {wd} amount')\n",
    "            bl = bl-wd\n",
    "        else:\n",
    "            print('Insufficient funds')\n",
    "    \n",
    "    elif cd==2:\n",
    "        dp = float(input('Enter the deposit amount'))\n",
    "        bl=bl+dp\n",
    "        print('Transaction successful')\n",
    "    \n",
    "    elif cd==3:\n",
    "        print(f'Balance amount is {bl}')\n",
    "    \n",
    "    elif cd==4:\n",
    "        pass\n",
    "    val=int(input('Enter 4 to get back to main menu or other number to exit'))\n",
    "    if val==4:\n",
    "        c=True\n",
    "    else:\n",
    "        c=False\n",
    "        "
   ]
  },
  {
   "cell_type": "code",
   "execution_count": null,
   "id": "ea54ca3b-6608-4ecd-a40c-b2be163cb78d",
   "metadata": {},
   "outputs": [],
   "source": []
  },
  {
   "cell_type": "markdown",
   "id": "c0308ccc-080a-4870-996f-4b385b23fe07",
   "metadata": {},
   "source": [
    "### 16.Build a program that checks if a given string is a palindrome or not."
   ]
  },
  {
   "cell_type": "code",
   "execution_count": 22,
   "id": "ac6df304-fa76-484a-812c-62a9048fcf8b",
   "metadata": {},
   "outputs": [
    {
     "name": "stdin",
     "output_type": "stream",
     "text": [
      "Enter a string yuiuy\n"
     ]
    },
    {
     "name": "stdout",
     "output_type": "stream",
     "text": [
      "It is a palindrome string\n"
     ]
    }
   ],
   "source": [
    "s = input(\"Enter a string\")\n",
    "s = s.upper()\n",
    "s_rev = s[::-1]  # reverse a string\n",
    "\n",
    "if s_rev == s:\n",
    "    print(\"It is a palindrome string\")\n",
    "else :\n",
    "    print(\"It is not a palindrome string\")\n",
    "    "
   ]
  },
  {
   "cell_type": "code",
   "execution_count": null,
   "id": "09a052c6-a351-41f9-a600-1da7f84aaf78",
   "metadata": {},
   "outputs": [],
   "source": []
  },
  {
   "cell_type": "markdown",
   "id": "b635a9ea-c4d9-43bc-9992-5eac48f6d0a8",
   "metadata": {},
   "source": [
    "### 17.Write a program that calculates the average of a list of numbers,excluding the smallest and largest values."
   ]
  },
  {
   "cell_type": "code",
   "execution_count": 23,
   "id": "00729e14-ee6c-4488-bd7e-1336c5622a99",
   "metadata": {},
   "outputs": [
    {
     "name": "stdout",
     "output_type": "stream",
     "text": [
      "[1, 2, 3, 4, 5, 9]\n",
      "3.5\n"
     ]
    }
   ],
   "source": [
    "l = [1,3,4,2,5,9]\n",
    "s = 0\n",
    "l.sort()\n",
    "print(l)\n",
    "l=l[1:len(l)-1]\n",
    "for i in l:\n",
    "    s= s+i\n",
    "avg = s/len(l)\n",
    "print(avg)\n"
   ]
  },
  {
   "cell_type": "code",
   "execution_count": null,
   "id": "a8a30009-412a-443b-8bed-d85b39cc8ba2",
   "metadata": {},
   "outputs": [],
   "source": []
  },
  {
   "cell_type": "markdown",
   "id": "3d87f1c2-59c5-4708-948b-7b76fb0c1c2b",
   "metadata": {},
   "source": [
    "### 18.Develop a program that converts a given temperature from Celsius to Fahrenheit."
   ]
  },
  {
   "cell_type": "code",
   "execution_count": 24,
   "id": "b149829c-c8ec-43fe-b53c-f1bc4766dbfa",
   "metadata": {},
   "outputs": [
    {
     "name": "stdin",
     "output_type": "stream",
     "text": [
      "Enter temperature in celsius : 50\n"
     ]
    },
    {
     "name": "stdout",
     "output_type": "stream",
     "text": [
      "The temperature in fahrenheit is : 122.0\n"
     ]
    }
   ],
   "source": [
    "temp_c = input(\"Enter temperature in celsius :\")      # Ask user to input temperature in celsius\n",
    "temp_c = float(temp_c)                              #Typecast to float datatype\n",
    "temp_f = ((9/5)*temp_c) +32               #convert to fahrenheit using standard formula \n",
    "print(\"The temperature in fahrenheit is :\",temp_f)         #Display result in fahrenheit\n",
    "\n"
   ]
  },
  {
   "cell_type": "code",
   "execution_count": null,
   "id": "17b021fc-2c2f-405a-843f-61af35b031ba",
   "metadata": {},
   "outputs": [],
   "source": []
  },
  {
   "cell_type": "markdown",
   "id": "064b90e7-5a73-4ef9-bf1a-b7a15613df52",
   "metadata": {},
   "source": [
    "### 19.Develop a program that simulates a basic calculator for addition, substraction, multiplication, and division."
   ]
  },
  {
   "cell_type": "code",
   "execution_count": 25,
   "id": "ace4e33c-7da5-456d-8153-a418212a5daa",
   "metadata": {},
   "outputs": [
    {
     "name": "stdout",
     "output_type": "stream",
     "text": [
      "Welcome to calculator\n",
      "1. Addition 2. subtraction 3. Multiplication 4. Division\n"
     ]
    },
    {
     "name": "stdin",
     "output_type": "stream",
     "text": [
      "Enter which operation you want 4\n",
      "Enter 1st number  12\n",
      "Enter 2nd number  4\n"
     ]
    },
    {
     "name": "stdout",
     "output_type": "stream",
     "text": [
      "Division 3.0\n"
     ]
    },
    {
     "name": "stdin",
     "output_type": "stream",
     "text": [
      "enter 6 to continue to calculator or any other number to exit calculator 3\n"
     ]
    }
   ],
   "source": [
    "print('Welcome to calculator')\n",
    "print(f\"1. Addition 2. subtraction 3. Multiplication 4. Division\")\n",
    "c = True \n",
    "while c == True :\n",
    "    op = int(input(\"Enter which operation you want\"))\n",
    "    n1 = float(input(\"Enter 1st number \"))\n",
    "    n2 = float(input(\"Enter 2nd number \"))\n",
    "    if op == 1 :\n",
    "        print(\"Addition \",n1+n2)\n",
    "    elif op==2:\n",
    "        print(\"Subraction\", n1-n2)\n",
    "    elif op==3:\n",
    "        print(\"Multiplication\", n1*n2)\n",
    "    elif op==4:\n",
    "        print(\"Division\" , n1/n2)\n",
    "    else :\n",
    "        print(\"Enter valid operation\")\n",
    "        \n",
    "    val = int(input(\"enter 6 to continue to calculator or any other number to exit calculator\"))\n",
    "    if val == 6:\n",
    "        c = True\n",
    "    else :\n",
    "        c = False \n",
    "        "
   ]
  },
  {
   "cell_type": "code",
   "execution_count": null,
   "id": "a86d754d-ab67-4263-b7d4-871e34436c5c",
   "metadata": {},
   "outputs": [],
   "source": []
  },
  {
   "cell_type": "markdown",
   "id": "e2b9a778-cf4e-4af0-b9e6-53043e16ae3b",
   "metadata": {},
   "source": [
    "### 20.Write a program that determines the roots of a cubic equation using the Cardano formula."
   ]
  },
  {
   "cell_type": "code",
   "execution_count": 29,
   "id": "f4d80602-062a-4d64-98c2-8ae5103d25b9",
   "metadata": {},
   "outputs": [
    {
     "name": "stdin",
     "output_type": "stream",
     "text": [
      "Enter coefficient a : 1\n",
      "Enter coefficient b : 4\n",
      "Enter coefficient c : 4\n",
      "Enter coefficient d : 5\n"
     ]
    },
    {
     "name": "stdout",
     "output_type": "stream",
     "text": [
      "Root: x1 = -3.241896563034479\n"
     ]
    }
   ],
   "source": [
    "\n",
    "def cube_root(x):\n",
    "    if x>= 0:\n",
    "        return x**(1/3)\n",
    "    else :\n",
    "        return -(-x)**(1/3)\n",
    "    \n",
    "# Get the coefficients from the user\n",
    "a = float(input(\"Enter coefficient a :\"))\n",
    "b = float(input(\"Enter coefficient b :\"))\n",
    "c = float(input(\"Enter coefficient c :\"))\n",
    "d = float(input(\"Enter coefficient d :\"))\n",
    "\n",
    "# calculate p and q for the depressed cubic equation \n",
    "p = (3*a*c - b**2) / (3*a**2)\n",
    "q = (2*b**3 -9*a*b*c + 27*a**2*d) / (27*a**3)\n",
    "\n",
    "# calculate discriminant\n",
    "D = (q/2)**2 + (p/3)**3\n",
    "\n",
    "if D < 0 :\n",
    "    print(\"this equation has complex roots, which can't be computed without cmath.\")\n",
    "else :\n",
    "    # cardano formula for depressed cubic equation\n",
    "    t1 = cube_root(-q/2 + D**0.5) + cube_root(-q/2 - D**0.5)\n",
    "    \n",
    "    #Tranform back to original equation\n",
    "    x1 = t1 - b / (3*a)\n",
    "    print(f\"Root: x1 = {x1}\")\n",
    "    \n",
    "    # In cases where D>0 , there are two additional real roots, but those require complex arithmetic.\n",
    "    #since we're not using cmath, they are not computed in this code.\n",
    "    "
   ]
  },
  {
   "cell_type": "code",
   "execution_count": null,
   "id": "00ae45cd-ef65-4f52-abf6-78d6da1db9d0",
   "metadata": {},
   "outputs": [],
   "source": []
  },
  {
   "cell_type": "markdown",
   "id": "3c334b9f-8ee0-4361-9d96-2f2a19182503",
   "metadata": {},
   "source": [
    "### Advanced level:\n",
    "---"
   ]
  },
  {
   "cell_type": "markdown",
   "id": "faea278c-293f-4aab-81b4-b79304a3e0c2",
   "metadata": {},
   "source": [
    "### 21.Create a program that calculates the income tax based on the \"user's\" income and tax brackets."
   ]
  },
  {
   "cell_type": "code",
   "execution_count": 33,
   "id": "02a64e53-2295-4c1e-9aec-822623f90792",
   "metadata": {},
   "outputs": [
    {
     "name": "stdin",
     "output_type": "stream",
     "text": [
      "Enter your income (in Rs.):  550000\n"
     ]
    },
    {
     "name": "stdout",
     "output_type": "stream",
     "text": [
      "Based on an income of Rs. 550000.00, your estimated income tax is Rs.  22500.00.\n"
     ]
    }
   ],
   "source": [
    "\n",
    "#Get the user's income\n",
    "income = float(input(\"Enter your income (in Rs.): \"))\n",
    "\n",
    "#calculate income tax based on the given tax brackets\n",
    "if income <= 250000:\n",
    "    tax = 0\n",
    "elif income <= 500000:\n",
    "    tax = 0.05 * (income - 250000)\n",
    "elif income <= 1000000:\n",
    "    tax = 12500 + 0.20 * (income - 500000)\n",
    "else :\n",
    "    tax = 112500 - 0.30 * (income - 1000000)\n",
    "    \n",
    "print(f\"Based on an income of Rs.{income : .2f}, your estimated income tax is Rs. {tax : .2f}.\")\n"
   ]
  },
  {
   "cell_type": "code",
   "execution_count": null,
   "id": "d5703132-36a8-4f60-98f8-5c3417181096",
   "metadata": {},
   "outputs": [],
   "source": []
  },
  {
   "cell_type": "markdown",
   "id": "26705282-838c-4c76-8a32-c6e9c05ab371",
   "metadata": {},
   "source": [
    "### 22.Write a program that simulates a rock-paper-scissors game against the computer."
   ]
  },
  {
   "cell_type": "code",
   "execution_count": 35,
   "id": "586ffa11-5d5e-47ec-92af-13b35056f44c",
   "metadata": {},
   "outputs": [
    {
     "name": "stdin",
     "output_type": "stream",
     "text": [
      "Enter your move (rock, paper , scissors) or 'exit' to quit : paper\n"
     ]
    },
    {
     "name": "stdout",
     "output_type": "stream",
     "text": [
      "Computer chose : rock\n",
      "You win!\n"
     ]
    },
    {
     "name": "stdin",
     "output_type": "stream",
     "text": [
      "Enter your move (rock, paper , scissors) or 'exit' to quit : scissors\n"
     ]
    },
    {
     "name": "stdout",
     "output_type": "stream",
     "text": [
      "Computer chose : paper\n",
      "You win!\n"
     ]
    },
    {
     "name": "stdin",
     "output_type": "stream",
     "text": [
      "Enter your move (rock, paper , scissors) or 'exit' to quit : rock\n"
     ]
    },
    {
     "name": "stdout",
     "output_type": "stream",
     "text": [
      "Computer chose : scissors\n",
      "You win!\n"
     ]
    },
    {
     "name": "stdin",
     "output_type": "stream",
     "text": [
      "Enter your move (rock, paper , scissors) or 'exit' to quit : exit\n"
     ]
    }
   ],
   "source": [
    "\n",
    "choices = ['rock' ,'paper' , 'scissors']\n",
    "computer_move_index = 0\n",
    "\n",
    "while True:\n",
    "    user_choice = input(\"Enter your move (rock, paper , scissors) or 'exit' to quit :\").lower()\n",
    "    \n",
    "    if user_choice == 'exit' :\n",
    "        break\n",
    "        \n",
    "    if user_choice not in choices :\n",
    "        print(\"invalid choice. Please selct rock, paper, or scissors.\")\n",
    "        continue\n",
    "       \n",
    "    comp_choice = choices[computer_move_index]\n",
    "    computer_move_index = (computer_move_index + 1) % 3\n",
    "    print(f\"Computer chose : {comp_choice}\")\n",
    "    \n",
    "    if user_choice == comp_choice:\n",
    "        print(\"It is a draw!\")\n",
    "    elif (user_choice == 'rock' and comp_choice == 'scissors') or \\\n",
    "         (user_choice == 'scissors' and comp_choice == 'paper') or \\\n",
    "         (user_choice == 'paper' and comp_choice == 'rock'):\n",
    "        print(\"You win!\")\n",
    "        \n",
    "    else:\n",
    "        print(\"Computer wins!\")\n",
    "        "
   ]
  },
  {
   "cell_type": "code",
   "execution_count": null,
   "id": "783c688c-f9af-4762-939b-7e1e136a7b36",
   "metadata": {},
   "outputs": [],
   "source": []
  },
  {
   "cell_type": "markdown",
   "id": "64d14f3b-0cb0-4bc4-a737-1b9f8a6e795a",
   "metadata": {},
   "source": [
    "### 23.Develop a program that generates a random password based on user prefernces (length, complexity)."
   ]
  },
  {
   "cell_type": "code",
   "execution_count": 38,
   "id": "20aeb788-6098-40ca-938b-e07f68635aae",
   "metadata": {},
   "outputs": [
    {
     "name": "stdin",
     "output_type": "stream",
     "text": [
      "Enter password length:  67\n",
      "Use digits? (yes/no):  yes\n",
      "Use special characters? (yes/no):  yes\n",
      "Press ENTER to generate password. komal12*\n"
     ]
    },
    {
     "name": "stdout",
     "output_type": "stream",
     "text": [
      "Generated Password: alyN4=iF4,y3aJ_x#t#x_Ja3y,SX4$[bqH0+iH8bG$mXaP.PaXm$.kAS#>wW[s.VqDS\n"
     ]
    }
   ],
   "source": [
    "\n",
    "# Characters for password generation\n",
    "letters = 'abcdefghijklmnopqrstuvwxyz'\n",
    "digits = '0123456789'\n",
    "special_characters = '!@#$%^&*()_+-=[]{}|;:,.<>?'\n",
    "\n",
    "# Asking for user preferences\n",
    "password_length = int(input(\"Enter password length: \"))\n",
    "use_digits = input(\"Use digits? (yes/no): \").lower() == 'yes'\n",
    "use_special_characters = input(\"Use special characters? (yes/no): \").lower() == 'yes'\n",
    "\n",
    "# Building the character set based on user preferences\n",
    "character_set = letters + letters.upper()\n",
    "if use_digits:\n",
    "    character_set += digits\n",
    "if use_special_characters:\n",
    "    character_set += special_characters\n",
    "\n",
    "# Pseudo-random password generation using time\n",
    "password = ''\n",
    "input(\"Press ENTER to generate password.\")\n",
    "for i in range(password_length):\n",
    "    index = (ord(character_set[i % len(character_set)]) * len(password) + i) % len(character_set)\n",
    "    password += character_set[index % len(character_set)]\n",
    "\n",
    "print(f\"Generated Password: {password}\")\n"
   ]
  },
  {
   "cell_type": "code",
   "execution_count": null,
   "id": "53ee6830-2ec3-4ffb-be73-87ed04a98af7",
   "metadata": {},
   "outputs": [],
   "source": []
  },
  {
   "cell_type": "markdown",
   "id": "9d44ab08-ba13-4d9e-95c9-5d4ac4829395",
   "metadata": {},
   "source": [
    "### 24.Create a program that implements a simple text-based adventure game with branching scenariors."
   ]
  },
  {
   "cell_type": "code",
   "execution_count": 41,
   "id": "43159468-cd39-442e-9cbd-f884bc46c7dc",
   "metadata": {},
   "outputs": [
    {
     "name": "stdout",
     "output_type": "stream",
     "text": [
      "Welcome to the Simple Adventure Game!\n",
      "You are standing at the entrance of a dark forest.\n",
      "To enter the forest, type 'forest'.\n"
     ]
    },
    {
     "name": "stdin",
     "output_type": "stream",
     "text": [
      "What will you choose?  forest\n"
     ]
    },
    {
     "name": "stdout",
     "output_type": "stream",
     "text": [
      "\n",
      "You bravely enter the dark forest.\n",
      "After a while, you stumble upon a mysterious old hut. Do you enter the hut or continue walking?\n",
      "Type 'enter' to go inside the hut or 'continue' to keep walking.\n"
     ]
    },
    {
     "name": "stdin",
     "output_type": "stream",
     "text": [
      "Your choice:  enter\n"
     ]
    },
    {
     "name": "stdout",
     "output_type": "stream",
     "text": [
      "\n",
      "Inside the hut, you find a treasure chest filled with gold! Congratulations, you win!\n"
     ]
    }
   ],
   "source": [
    "\n",
    "print(\"Welcome to the Simple Adventure Game!\")\n",
    "print(\"You are standing at the entrance of a dark forest.\")\n",
    "print(\"To enter the forest, type 'forest'.\")\n",
    "\n",
    "choice1 = input(\"What will you choose? \")\n",
    "\n",
    "if choice1 == \"forest\":\n",
    "    print(\"\\nYou bravely enter the dark forest.\")\n",
    "    print(\"After a while, you stumble upon a mysterious old hut. Do you enter the hut or continue walking?\")\n",
    "    print(\"Type 'enter' to go inside the hut or 'continue' to keep walking.\")\n",
    "\n",
    "    choice2 = input(\"Your choice: \")\n",
    "\n",
    "    if choice2 == \"enter\":\n",
    "        print(\"\\nInside the hut, you find a treasure chest filled with gold! Congratulations, you win!\")\n",
    "    elif choice2 == \"continue\":\n",
    "        print(\"\\nYou continue your journey in the forest and eventually find your way out. Adventure completed!\")\n",
    "\n",
    "    else:\n",
    "        print(\"\\nInvalid choice. Game Over.\")\n",
    "else:\n",
    "        print(\"\\nInvalid choice. Game Over.\")"
   ]
  },
  {
   "cell_type": "code",
   "execution_count": null,
   "id": "08102d14-6e68-4536-b880-e5f4907dc0eb",
   "metadata": {},
   "outputs": [],
   "source": []
  },
  {
   "cell_type": "markdown",
   "id": "9a3288d3-3687-49f8-96fc-2a7ede9d55d5",
   "metadata": {},
   "source": [
    "### 25.Build a program that solves a linear equation for x, considering different cases."
   ]
  },
  {
   "cell_type": "code",
   "execution_count": 44,
   "id": "5d00749e-2458-4660-9727-fb5eac4fedb8",
   "metadata": {},
   "outputs": [
    {
     "name": "stdout",
     "output_type": "stream",
     "text": [
      "Welcome to the Linear Equation Solver!\n",
      "Given an equation in the form ax + b = c\n"
     ]
    },
    {
     "name": "stdin",
     "output_type": "stream",
     "text": [
      "Enter the value of a:  5\n",
      "Enter the value of b:  11\n",
      "Enter the value of c:  3\n"
     ]
    },
    {
     "name": "stdout",
     "output_type": "stream",
     "text": [
      "The solution for x is: -1.6\n"
     ]
    }
   ],
   "source": [
    "\n",
    "'''\n",
    "However, there are different cases:\n",
    "1. If \\( a = 0 \\) and \\( b \\neq c \\), then the equation has no solution because it translates to a statement like \"0 = 1\".\n",
    "2. If \\( a = 0 \\) and \\( b = c \\), then any value of \\( x \\) satisfies the equation, meaning it's an identity like \"0 = 0\".\n",
    "3. If \\( a \\neq 0 \\), then \\( x \\) has a unique solution.\n",
    "\n",
    "'''\n",
    "print(\"Welcome to the Linear Equation Solver!\")\n",
    "print(\"Given an equation in the form ax + b = c\")\n",
    "\n",
    "# Input coefficients from the user\n",
    "a = float(input(\"Enter the value of a: \"))\n",
    "b = float(input(\"Enter the value of b: \"))\n",
    "c = float(input(\"Enter the value of c: \"))\n",
    "\n",
    "# Case when a is 0\n",
    "if a == 0:\n",
    "    if b == c:\n",
    "        print(\"The equation is true for all values of x.\")\n",
    "    else:\n",
    "        print(\"The equation has no solution.\")\n",
    "else:\n",
    "    # Calculate the value of x\n",
    "    x = (c - b) / a\n",
    "    print(f\"The solution for x is: {x}\")\n",
    "    "
   ]
  },
  {
   "cell_type": "code",
   "execution_count": null,
   "id": "d2b5058f-0e6a-4681-be0e-ebe87f663879",
   "metadata": {},
   "outputs": [],
   "source": []
  },
  {
   "cell_type": "markdown",
   "id": "16ad4664-727a-472a-9790-ee61fdeb2bf1",
   "metadata": {},
   "source": [
    "### 26.Write a program that simulates a basic quiz game with multiple-choice questions and scoring."
   ]
  },
  {
   "cell_type": "code",
   "execution_count": 46,
   "id": "5c0cb19e-c05e-464f-b5df-6c45e1165b37",
   "metadata": {},
   "outputs": [
    {
     "name": "stdout",
     "output_type": "stream",
     "text": [
      "Welcome to the Quiz Game ! \n"
     ]
    },
    {
     "name": "stdin",
     "output_type": "stream",
     "text": [
      "\n",
      "Which plant is known as the red planet? /n 1.ja, 2, dd, 3.Mars   3\n"
     ]
    },
    {
     "name": "stdout",
     "output_type": "stream",
     "text": [
      "incorrect answer, you get 0 point\n"
     ]
    },
    {
     "name": "stdin",
     "output_type": "stream",
     "text": [
      "\n",
      "Which of these is not a programming language?/n 1.ja, 2,dd, 3.HTML  html\n"
     ]
    },
    {
     "name": "stdout",
     "output_type": "stream",
     "text": [
      "correct answer, you get 1 point\n"
     ]
    },
    {
     "name": "stdin",
     "output_type": "stream",
     "text": [
      "\n",
      "which animal is known as the king of the jungle? /n 1.ja, 2, dd, 3. Lion  lion\n"
     ]
    },
    {
     "name": "stdout",
     "output_type": "stream",
     "text": [
      "correct answer, you get 1 point\n",
      "\n",
      "Your final score is : 2/3\n"
     ]
    }
   ],
   "source": [
    "\n",
    "print(\"Welcome to the Quiz Game ! \")\n",
    "\n",
    "questions = {\n",
    "    \"Which plant is known as the red planet? /n 1.ja, 2, dd, 3.Mars \": \"mars\",\n",
    "    \"Which of these is not a programming language?/n 1.ja, 2,dd, 3.HTML\": \"html\",\n",
    "    \"which animal is known as the king of the jungle? /n 1.ja, 2, dd, 3. Lion\": \"lion\"\n",
    "}\n",
    "\n",
    "score = 0\n",
    "\n",
    "for q, a in questions.items():\n",
    "    if input(f\"\\n{q} \") == a :\n",
    "        score +=1\n",
    "        print(f\"correct answer, you get 1 point\")\n",
    "    else :\n",
    "        print(f\"incorrect answer, you get 0 point\")\n",
    "    \n",
    "print(f\"\\nYour final score is : {score}/{len(questions)}\")\n"
   ]
  },
  {
   "cell_type": "code",
   "execution_count": null,
   "id": "19943121-56bd-49f9-9589-030932530a8a",
   "metadata": {},
   "outputs": [],
   "source": []
  },
  {
   "cell_type": "markdown",
   "id": "6ed3273a-4112-49b1-9ce8-ade1f97d4bb4",
   "metadata": {},
   "source": [
    "### 27.Develop a program that determines whether a given year is a prime number or not."
   ]
  },
  {
   "cell_type": "code",
   "execution_count": 61,
   "id": "4048784e-22e1-4e58-96d8-f1ba89d63e4e",
   "metadata": {},
   "outputs": [
    {
     "name": "stdin",
     "output_type": "stream",
     "text": [
      "Enter the year : 91\n"
     ]
    },
    {
     "name": "stdout",
     "output_type": "stream",
     "text": [
      "91 is not a prime number.\n"
     ]
    }
   ],
   "source": [
    "\n",
    "year = int(input(\"Enter the year :\"))\n",
    "if year <2 :\n",
    "    print(f\"{year} is not a prime number.\")\n",
    "else :\n",
    "    is_prime = True\n",
    "    for i in range(2, year):\n",
    "        if year%i  == 0:\n",
    "            is_prime = False \n",
    "            break\n",
    "    if is_prime:\n",
    "        print(f\"{year} is a prime number.\")\n",
    "    else :\n",
    "        print(f\"{year} is not a prime number.\")\n",
    "        "
   ]
  },
  {
   "cell_type": "code",
   "execution_count": null,
   "id": "dd86f7f8-a483-482c-9ddc-828c03520de3",
   "metadata": {},
   "outputs": [],
   "source": []
  },
  {
   "cell_type": "markdown",
   "id": "083bbaa0-2e8f-467f-83d9-d557741b66e0",
   "metadata": {},
   "source": [
    "### 28.Create a program that sorts three numbers in ascending order using conditional statements."
   ]
  },
  {
   "cell_type": "code",
   "execution_count": 62,
   "id": "301875d6-94b4-47f9-9183-9ad564118341",
   "metadata": {},
   "outputs": [
    {
     "name": "stdin",
     "output_type": "stream",
     "text": [
      "Enter the first number : 12\n",
      "Enter the second number : 111\n",
      "Enter the third number : 0\n"
     ]
    },
    {
     "name": "stdout",
     "output_type": "stream",
     "text": [
      "The numbers in ascending order are : 0.0, 12.0, 111.0\n"
     ]
    }
   ],
   "source": [
    "\n",
    "a = float(input(\"Enter the first number :\"))\n",
    "b = float(input(\"Enter the second number :\"))\n",
    "c = float(input(\"Enter the third number :\"))\n",
    "\n",
    "if a > b:\n",
    "    a, b = b, a\n",
    "if b > c:\n",
    "    b, c = c, b\n",
    "if a > b:\n",
    "    a, b = b, a\n",
    "    \n",
    "print(f\"The numbers in ascending order are : {a}, {b}, {c}\")\n"
   ]
  },
  {
   "cell_type": "code",
   "execution_count": null,
   "id": "5184efc0-9b45-4ce4-b838-4513c02a3483",
   "metadata": {},
   "outputs": [],
   "source": []
  },
  {
   "cell_type": "markdown",
   "id": "021c7297-038b-42bd-91bc-ecbcf78c1114",
   "metadata": {},
   "source": [
    "### 29.Build a program that determines the roots of a quadtic equation using numerical methods."
   ]
  },
  {
   "cell_type": "code",
   "execution_count": 64,
   "id": "1a8c4a56-c017-4cff-acd5-54a563d58987",
   "metadata": {},
   "outputs": [
    {
     "name": "stdin",
     "output_type": "stream",
     "text": [
      "Enter coefficient a:  1\n",
      "Enter coefficient b:  2\n",
      "Enter coefficient c:  3\n",
      "Enter coefficient d:  4\n",
      "Enter coefficient e:  5\n",
      "Enter initial guess for the root:  11\n"
     ]
    },
    {
     "name": "stdout",
     "output_type": "stream",
     "text": [
      "Newton-Raphson method did not converge.\n"
     ]
    }
   ],
   "source": [
    "\n",
    "# Coefficients for the quartic equation ax^4 + bx^3 + cx^2 + dx + e = 0\n",
    "a = float(input(\"Enter coefficient a: \"))\n",
    "b = float(input(\"Enter coefficient b: \"))\n",
    "c = float(input(\"Enter coefficient c: \"))\n",
    "d = float(input(\"Enter coefficient d: \"))\n",
    "e = float(input(\"Enter coefficient e: \"))\n",
    "\n",
    "# Initial guess\n",
    "x0 = float(input(\"Enter initial guess for the root: \"))\n",
    "tolerance = 1e-6\n",
    "max_iterations = 1000\n",
    "iteration = 0\n",
    "\n",
    "while iteration < max_iterations:\n",
    "    # Evaluate the polynomial at x0\n",
    "    f_x0 = a*(x0**4) + b*(x0**3) + c*(x0**2) + d*x0 + e\n",
    "    \n",
    "    # Evaluate the derivative of the polynomial at x0\n",
    "    df_x0 = 4*a*(x0**3) + 3*b*(x0**2) + 2*c*x0 + d\n",
    "\n",
    "    if abs(df_x0) < tolerance:\n",
    "        print(\"Derivative is too small. Try a different initial guess.\")\n",
    "        break\n",
    "\n",
    "    # Newton-Raphson update\n",
    "    x1 = x0 - f_x0/df_x0\n",
    "    \n",
    "    # Check for convergence\n",
    "    if abs(x1 - x0) < tolerance:\n",
    "        print(f\"Found a root after {iteration} iterations: {x1}\")\n",
    "        break\n",
    "\n",
    "    x0 = x1\n",
    "    iteration += 1\n",
    "else:\n",
    "    print(\"Newton-Raphson method did not converge.\")\n",
    "    "
   ]
  },
  {
   "cell_type": "code",
   "execution_count": null,
   "id": "948591b8-d9d5-4557-a269-eb11b4e7566e",
   "metadata": {},
   "outputs": [],
   "source": []
  },
  {
   "cell_type": "markdown",
   "id": "56a23d04-3ef5-4dbb-bcdb-5f28ea1d2d85",
   "metadata": {},
   "source": [
    "### 30.Write a program that calculates the BMI (Body Mass Index) and provides health recommendations based on the \"user's input\"."
   ]
  },
  {
   "cell_type": "code",
   "execution_count": 71,
   "id": "bf1da5cc-72c0-4627-82df-acef440c7c12",
   "metadata": {},
   "outputs": [
    {
     "name": "stdin",
     "output_type": "stream",
     "text": [
      "Enter your weight in kilograms (kg):  70\n",
      "Enter your height in meters (m) : 5\n"
     ]
    },
    {
     "name": "stdout",
     "output_type": "stream",
     "text": [
      "Your BMI is : 2.80\n",
      "You are severely underweight. Please consult a doctor.\n"
     ]
    }
   ],
   "source": [
    "\n",
    "#GEt weight and height from the user\n",
    "weight = float(input(\"Enter your weight in kilograms (kg): \"))\n",
    "height = float(input(\"Enter your height in meters (m) :\" ))\n",
    "\n",
    "#calculate BMI\n",
    "bmi = weight / (height ** 2)\n",
    "\n",
    "#Display the calculated BMI\n",
    "print(f\"Your BMI is : {bmi :.2f}\")\n",
    "\n",
    "#provide health recommendations based on BMI\n",
    "if bmi < 16:\n",
    "    print(\"You are severely underweight. Please consult a doctor.\")\n",
    "elif 16 <= bmi < 16.9:\n",
    "    print(\"You are underweight. consider consulting a healthcare professional for guidance.\")\n",
    "elif 17 <= bmi < 18.4:\n",
    "    print(\"You are mildly underweight. Maintain a balanced diet and regular exercise.\")\n",
    "elif 18.5 <= bmi <= 24.9:\n",
    "    print(\"You have a healthy weight. Continue maintaing a balanced deit and regular exercise.\")\n",
    "elif 25 <= bmi <= 29.9:\n",
    "    print(\"You are overweight. Engage in regular physical activity and monitor your diet.\")\n",
    "elif 30<=bmi<=34.9:\n",
    "    print(\"You are in obesity class I. consider consulting a healthcare professional.\")\n",
    "elif 35<=bmi<=39.9:\n",
    "    print(\"You are in obesity class II. It's important to consult a healthcare professional.\")\n",
    "else:\n",
    "    print(\"You are in obesity class III. Please consult a doctor immediately for guidance.\")\n",
    "\n",
    "        "
   ]
  },
  {
   "cell_type": "code",
   "execution_count": null,
   "id": "1d0b7cf8-e2c1-413c-af21-1ed5836c3325",
   "metadata": {},
   "outputs": [],
   "source": []
  },
  {
   "cell_type": "markdown",
   "id": "abba7952-373d-4418-8742-a747342153cc",
   "metadata": {},
   "source": [
    "### Challenge level:\n",
    "---"
   ]
  },
  {
   "cell_type": "markdown",
   "id": "8ef97182-495b-4e38-80f9-cf3c14126fde",
   "metadata": {},
   "source": [
    "### 31.Create a program that validates a password based on complexity rules(length, characters, etc.)."
   ]
  },
  {
   "cell_type": "code",
   "execution_count": 81,
   "id": "ba091b3b-ae05-40ac-a6ad-13b6d6a8c9b5",
   "metadata": {},
   "outputs": [
    {
     "name": "stdin",
     "output_type": "stream",
     "text": [
      "Enter your password:  @tyhv!k\n"
     ]
    },
    {
     "name": "stdout",
     "output_type": "stream",
     "text": [
      "password should be at least 8 characters long.\n"
     ]
    }
   ],
   "source": [
    "\n",
    "import string\n",
    "def validate_password(password):\n",
    "    if len(password) <8:\n",
    "        return  \"password should be at least 8 characters long.\"\n",
    "    \n",
    "    if not any(char.isdigit() for char in password):\n",
    "        return \"Password should contain at least one numerical digit.\"\n",
    "    \n",
    "    if not any(char.isupper() for char in password):\n",
    "        return \"Password should conatin at least one uppercase letter.\"\n",
    "    \n",
    "    if not any(char.islower() for char in password):\n",
    "        return \"Password should contain at least one lowercase letter.\"\n",
    "    \n",
    "    special_characters = string.punctuation\n",
    "    if not any(char in special_charcters for char in password):\n",
    "        return \"Password should contain at least one of the special charcters like @, #, $, etc.\"\n",
    "    \n",
    "    return \"Password is valid.\"\n",
    "\n",
    "password = input(\"Enter your password: \")\n",
    "\n",
    "#Validate the password\n",
    "validation_message = validate_password(password)\n",
    "\n",
    "print(validation_message)\n"
   ]
  },
  {
   "cell_type": "code",
   "execution_count": null,
   "id": "c13698fe-ed61-4530-ba64-3eaef607c8a5",
   "metadata": {},
   "outputs": [],
   "source": []
  },
  {
   "cell_type": "markdown",
   "id": "b823af51-19a2-448b-8b20-0a767ecf174a",
   "metadata": {},
   "source": [
    "### 32.Develop a program that performs matrix addition and substraction based on user input."
   ]
  },
  {
   "cell_type": "code",
   "execution_count": 84,
   "id": "d28ed309-ef6e-40d4-9e63-20dbf908810f",
   "metadata": {},
   "outputs": [
    {
     "name": "stdout",
     "output_type": "stream",
     "text": [
      "[[10, 10, 10], [10, 10, 10], [10, 10, 10]] \n",
      "\n",
      "[[8, 6, 4], [2, 0, -2], [-4, -6, -8]] \n",
      "\n"
     ]
    }
   ],
   "source": [
    "\n",
    "l1 = [[1,2,3],\n",
    "      [4,5,6],\n",
    "      [7,8,9]\n",
    "]\n",
    "\n",
    "l2 = [[9,8,7],\n",
    "      [6,5,4],\n",
    "      [3,2,1]\n",
    "]\n",
    "\n",
    "a = [] # to store sum\n",
    "b = [] # to store difference\n",
    "\n",
    "for i in range(3):\n",
    "    for j in range(3):\n",
    "        a.append(l1[i][j]+l2[i][j])\n",
    "        b.append(l2[i][j]-l1[i][j])\n",
    "        \n",
    "addition_matrix = [a[0:3],\n",
    "                   a[3:6],\n",
    "                   a[6:9]\n",
    "                  ]\n",
    "    \n",
    "substration_matrix = [b[0:3],\n",
    "                      b[3:6],\n",
    "                      b[6:9]\n",
    "                     ]\n",
    "print(addition_matrix,'\\n')\n",
    "print(substration_matrix,'\\n')\n",
    "                          \n"
   ]
  },
  {
   "cell_type": "code",
   "execution_count": null,
   "id": "abc2ab6a-918a-4325-9b44-8fc025677dc2",
   "metadata": {},
   "outputs": [],
   "source": []
  },
  {
   "cell_type": "markdown",
   "id": "5954388e-9c34-4258-9d22-b5153b78519c",
   "metadata": {},
   "source": [
    "### 33. Write a program that calculates the greatest common divisor (GCD) of two numbers using the Euclidean algorithm."
   ]
  },
  {
   "cell_type": "code",
   "execution_count": 87,
   "id": "43a4ba77-f678-4903-b592-d81c087336bb",
   "metadata": {},
   "outputs": [
    {
     "name": "stdin",
     "output_type": "stream",
     "text": [
      "Enter the first number : 12\n",
      "Enter the second number : 49\n"
     ]
    },
    {
     "name": "stdout",
     "output_type": "stream",
     "text": [
      "The GCD of the numbers is : 1\n"
     ]
    }
   ],
   "source": [
    "\n",
    "#take two numbersas input\n",
    "num1 = int(input(\"Enter the first number :\"))\n",
    "num2 = int(input(\"Enter the second number :\"))\n",
    "\n",
    "#Ensure num1 is the larger number \n",
    "if num2 > num1:\n",
    "    num1, num2 = num2, num1\n",
    "    \n",
    "while num2 != 0:\n",
    "    temp = num2\n",
    "    num2 = num1% num2\n",
    "    num1 = temp\n",
    "    \n",
    "print(f\"The GCD of the numbers is : {num1}\")\n",
    "    "
   ]
  },
  {
   "cell_type": "code",
   "execution_count": null,
   "id": "966bed8b-f4c3-481d-8162-b7bf65a6441d",
   "metadata": {},
   "outputs": [],
   "source": []
  },
  {
   "cell_type": "markdown",
   "id": "5ae46406-50a2-40f8-b494-db9b2082ecc8",
   "metadata": {},
   "source": [
    "### 34.Build a program that performs matrix multiplication using nested loops and conditional statements."
   ]
  },
  {
   "cell_type": "code",
   "execution_count": 97,
   "id": "002f60fd-bfd5-4f1d-aa2d-5193bad033d9",
   "metadata": {},
   "outputs": [
    {
     "name": "stdout",
     "output_type": "stream",
     "text": [
      "[114, 160, 60, 27]\n",
      "[0, 0, 0, 0]\n",
      "[0, 0, 0, 0]\n",
      "[114, 160, 60, 27]\n",
      "[74, 97, 73, 14]\n",
      "[0, 0, 0, 0]\n",
      "[114, 160, 60, 27]\n",
      "[74, 97, 73, 14]\n",
      "[119, 157, 112, 23]\n"
     ]
    }
   ],
   "source": [
    "\n",
    "# 3x3 matrix\n",
    "x = [[12,7,3],\n",
    "    [4 ,5,6],\n",
    "    [7 ,8,9]]\n",
    "\n",
    "# 3x4 matrix \n",
    "y = [[5,8,1,2],\n",
    "    [6,7,3,0],\n",
    "    [4,5,9,1]]\n",
    "\n",
    "#result is 3x4\n",
    "result = [[0,0,0,0],\n",
    "         [0,0,0,0],\n",
    "         [0,0,0,0]]\n",
    "\n",
    "#iterate through rows of x\n",
    "for i in range(len(x)):\n",
    "    #iterate through columns of y\n",
    "    for j in range(len(y[0])):\n",
    "        #iterate through rows of y\n",
    "        for k in range(len(y)):\n",
    "            result[i][j] += x[i][k] * y[k][j]\n",
    "    for r in result:\n",
    "        print(r)\n",
    "        "
   ]
  },
  {
   "cell_type": "code",
   "execution_count": null,
   "id": "d6638195-5983-41d4-88df-2eda7b964ba7",
   "metadata": {},
   "outputs": [],
   "source": []
  },
  {
   "cell_type": "markdown",
   "id": "f75bfbf0-6844-4ac6-ac30-aa3202a13c6d",
   "metadata": {},
   "source": [
    "### 35.Create a program that simulates a basic text-based tic-tac-toe game against the computer."
   ]
  },
  {
   "cell_type": "code",
   "execution_count": 12,
   "id": "a21d689a-d860-48e3-b364-3ec363d05415",
   "metadata": {},
   "outputs": [
    {
     "name": "stdout",
     "output_type": "stream",
     "text": [
      "\t\t\t  Tic-Tac-Toe\n",
      "\n",
      "\n",
      "Choose a cell numbered from 1 to 9 as below and play\n",
      "\n",
      "\n",
      "\t\t\t  1 | 2  | 3  \n",
      "\t\t\t--------------\n",
      "\t\t\t  4 | 5  | 6  \n",
      "\t\t\t--------------\n",
      "\t\t\t  7 | 8  | 9  \n",
      "\n",
      "\n",
      "-\t-\t-\t-\t-\t-\t-\t-\t-\t-\n",
      "\n",
      "\n",
      "COMPUTER has put a O in cell 5\n",
      "\n",
      "\n",
      "\n",
      "\t\t\t    |    |    \n",
      "\t\t\t--------------\n",
      "\t\t\t    | O  |    \n",
      "\t\t\t--------------\n",
      "\t\t\t    |    |    \n",
      "\n",
      "\n",
      "HUMAN has put a X in cell 7\n",
      "\n",
      "\n",
      "\n",
      "\t\t\t    |    |    \n",
      "\t\t\t--------------\n",
      "\t\t\t    | O  |    \n",
      "\t\t\t--------------\n",
      "\t\t\t  X |    |    \n",
      "\n",
      "\n",
      "COMPUTER has put a O in cell 4\n",
      "\n",
      "\n",
      "\n",
      "\t\t\t    |    |    \n",
      "\t\t\t--------------\n",
      "\t\t\t  O | O  |    \n",
      "\t\t\t--------------\n",
      "\t\t\t  X |    |    \n",
      "\n",
      "\n",
      "HUMAN has put a X in cell 8\n",
      "\n",
      "\n",
      "\n",
      "\t\t\t    |    |    \n",
      "\t\t\t--------------\n",
      "\t\t\t  O | O  |    \n",
      "\t\t\t--------------\n",
      "\t\t\t  X | X  |    \n",
      "\n",
      "\n",
      "COMPUTER has put a O in cell 3\n",
      "\n",
      "\n",
      "\n",
      "\t\t\t    |    | O  \n",
      "\t\t\t--------------\n",
      "\t\t\t  O | O  |    \n",
      "\t\t\t--------------\n",
      "\t\t\t  X | X  |    \n",
      "\n",
      "\n",
      "HUMAN has put a X in cell 6\n",
      "\n",
      "\n",
      "\n",
      "\t\t\t    |    | O  \n",
      "\t\t\t--------------\n",
      "\t\t\t  O | O  | X  \n",
      "\t\t\t--------------\n",
      "\t\t\t  X | X  |    \n",
      "\n",
      "\n",
      "COMPUTER has put a O in cell 1\n",
      "\n",
      "\n",
      "\n",
      "\t\t\t  O |    | O  \n",
      "\t\t\t--------------\n",
      "\t\t\t  O | O  | X  \n",
      "\t\t\t--------------\n",
      "\t\t\t  X | X  |    \n",
      "\n",
      "\n",
      "HUMAN has put a X in cell 2\n",
      "\n",
      "\n",
      "\n",
      "\t\t\t  O | X  | O  \n",
      "\t\t\t--------------\n",
      "\t\t\t  O | O  | X  \n",
      "\t\t\t--------------\n",
      "\t\t\t  X | X  |    \n",
      "\n",
      "\n",
      "COMPUTER has put a O in cell 9\n",
      "\n",
      "\n",
      "\n",
      "\t\t\t  O | X  | O  \n",
      "\t\t\t--------------\n",
      "\t\t\t  O | O  | X  \n",
      "\t\t\t--------------\n",
      "\t\t\t  X | X  | O  \n",
      "\n",
      "\n",
      "COMPUTER has won\n"
     ]
    }
   ],
   "source": [
    "\n",
    "import random\n",
    "import time\n",
    "\n",
    "# Constants for the game\n",
    "COMPUTER = 1\n",
    "HUMAN = 2\n",
    "SIDE = 3\n",
    "COMPUTERMOVE = 'O'\n",
    "HUMANMOVE = 'X'\n",
    "\n",
    "# Function to initialise the game / Tic-Tac-Toe board\n",
    "def initialise():\n",
    "    board = [[' ' for _ in range(SIDE)] for _ in range(SIDE)]\n",
    "    moves = [i for i in range(SIDE*SIDE)]\n",
    "    random.shuffle(moves)\n",
    "    return board, moves\n",
    "\n",
    "# Function to print the Tic-Tac-Toe board\n",
    "def showBoard(board):\n",
    "    print(\"\\n\\n\")\n",
    "    print(\"\\t\\t\\t  {} | {}  | {}  \".format(board[0][0], board[0][1], board[0][2]))\n",
    "    print(\"\\t\\t\\t--------------\")\n",
    "    print(\"\\t\\t\\t  {} | {}  | {}  \".format(board[1][0], board[1][1], board[1][2]))\n",
    "    print(\"\\t\\t\\t--------------\")\n",
    "    print(\"\\t\\t\\t  {} | {}  | {}  \\n\\n\".format(board[2][0], board[2][1], board[2][2]))\n",
    "\n",
    "# Function to show the instructions\n",
    "def showInstructions():\n",
    "    print(\"\\t\\t\\t  Tic-Tac-Toe\\n\\n\")\n",
    "    print(\"Choose a cell numbered from 1 to 9 as below and play\\n\\n\")\n",
    "    print(\"\\t\\t\\t  1 | 2  | 3  \")\n",
    "    print(\"\\t\\t\\t--------------\")\n",
    "    print(\"\\t\\t\\t  4 | 5  | 6  \")\n",
    "    print(\"\\t\\t\\t--------------\")\n",
    "    print(\"\\t\\t\\t  7 | 8  | 9  \\n\\n\")\n",
    "    print(\"-\\t-\\t-\\t-\\t-\\t-\\t-\\t-\\t-\\t-\\n\\n\")\n",
    "\n",
    "# Function to declare the winner of the game\n",
    "def declareWinner(whoseTurn):\n",
    "    if whoseTurn == COMPUTER:\n",
    "        print(\"COMPUTER has won\")\n",
    "    else:\n",
    "        print(\"HUMAN has won\")\n",
    "\n",
    "# Functions to check if any of the rows, columns, or diagonals have been crossed\n",
    "def rowCrossed(board):\n",
    "    for i in range(SIDE):\n",
    "        if board[i][0] == board[i][1] and board[i][1] == board[i][2] and board[i][0] != ' ':\n",
    "            return True\n",
    "    return False\n",
    "\n",
    "def columnCrossed(board):\n",
    "    for i in range(SIDE):\n",
    "        if board[0][i] == board[1][i] and board[1][i] == board[2][i] and board[0][i] != ' ':\n",
    "            return True\n",
    "    return False\n",
    "\n",
    "def diagonalCrossed(board):\n",
    "    if board[0][0] == board[1][1] and board[1][1] == board[2][2] and board[0][0] != ' ':\n",
    "        return True\n",
    "    if board[0][2] == board[1][1] and board[1][1] == board[2][0] and board[0][2] != ' ':\n",
    "        return True\n",
    "    return False\n",
    "\n",
    "# Function to check if the game is over\n",
    "def gameOver(board):\n",
    "    return rowCrossed(board) or columnCrossed(board) or diagonalCrossed(board)\n",
    "\n",
    "# Function to play Tic-Tac-Toe\n",
    "def playTicTacToe(whoseTurn):\n",
    "    board, moves = initialise()\n",
    "    showInstructions()\n",
    "    moveIndex = 0\n",
    "    while not gameOver(board) and moveIndex != SIDE*SIDE:\n",
    "        if whoseTurn == COMPUTER:\n",
    "            x = moves[moveIndex] // SIDE\n",
    "            y = moves[moveIndex] % SIDE\n",
    "            board[x][y] = COMPUTERMOVE\n",
    "            print(\"COMPUTER has put a {} in cell {}\".format(COMPUTERMOVE, moves[moveIndex]+1))\n",
    "            showBoard(board)\n",
    "            moveIndex += 1\n",
    "            whoseTurn = HUMAN\n",
    "        elif whoseTurn == HUMAN:\n",
    "            x = moves[moveIndex] // SIDE\n",
    "            y = moves[moveIndex] % SIDE\n",
    "            board[x][y] = HUMANMOVE\n",
    "            print(\"HUMAN has put a {} in cell {}\".format(HUMANMOVE, moves[moveIndex]+1))\n",
    "            showBoard(board)\n",
    "            moveIndex += 1\n",
    "            whoseTurn = COMPUTER\n",
    "    if not gameOver(board) and moveIndex == SIDE*SIDE:\n",
    "        print(\"It's a draw\")\n",
    "    else:\n",
    "        if whoseTurn == COMPUTER:\n",
    "            whoseTurn = HUMAN\n",
    "        elif whoseTurn == HUMAN:\n",
    "            whoseTurn = COMPUTER\n",
    "        declareWinner(whoseTurn)\n",
    "\n",
    "# Driver function\n",
    "if __name__ == \"__main__\":\n",
    "    # Let us play the game with COMPUTER starting first\n",
    "    playTicTacToe(COMPUTER)\n",
    "    "
   ]
  },
  {
   "cell_type": "code",
   "execution_count": null,
   "id": "1b94c228-c43b-4128-99ad-69183186f86f",
   "metadata": {},
   "outputs": [],
   "source": []
  },
  {
   "cell_type": "markdown",
   "id": "a94144e0-e2c4-4aba-91ce-cb6f8b077484",
   "metadata": {},
   "source": [
    "### 36.Write a program that generates Fibonacci numbers up to a specified term using iterative methods."
   ]
  },
  {
   "cell_type": "code",
   "execution_count": 109,
   "id": "2f84df55-53e0-41b8-a291-a77cc51bc9da",
   "metadata": {},
   "outputs": [
    {
     "name": "stdin",
     "output_type": "stream",
     "text": [
      "Enter a number 21\n"
     ]
    },
    {
     "name": "stdout",
     "output_type": "stream",
     "text": [
      "[0, 1, 1, 2, 3, 5, 8, 13, 21, 34, 55, 89, 144, 233, 377, 610, 987, 1597, 2584, 4181, 6765]\n"
     ]
    }
   ],
   "source": [
    "n = int(input(\"Enter a number\"))\n",
    "a = 0\n",
    "b = 1\n",
    "f =[]\n",
    "for i in range(n):\n",
    "    if i == 0 or i == 1:\n",
    "        f.append(i)\n",
    "    else:\n",
    "        s = f[i-2]+f[i-1]\n",
    "        f.append(s)\n",
    "        \n",
    "print(f)\n",
    "        "
   ]
  },
  {
   "cell_type": "code",
   "execution_count": null,
   "id": "fbdd370f-ed68-498e-ab40-0867784f813a",
   "metadata": {},
   "outputs": [],
   "source": []
  },
  {
   "cell_type": "markdown",
   "id": "e89d558b-33cf-4d81-b281-203f8c3b0039",
   "metadata": {},
   "source": [
    "### 37.Develop a program that calculates the nth term of the Fibonacci sequence using memorization."
   ]
  },
  {
   "cell_type": "code",
   "execution_count": 100,
   "id": "a3512cc5-9cd7-48f5-be18-e760fa3df4be",
   "metadata": {},
   "outputs": [
    {
     "name": "stdout",
     "output_type": "stream",
     "text": [
      "1 : 1\n",
      "2 : 1\n",
      "3 : 2\n",
      "4 : 3\n",
      "5 : 5\n",
      "6 : 8\n",
      "7 : 13\n",
      "8 : 21\n",
      "9 : 34\n",
      "10 : 55\n",
      "11 : 89\n",
      "12 : 144\n",
      "13 : 233\n",
      "14 : 377\n",
      "15 : 610\n",
      "16 : 987\n",
      "17 : 1597\n",
      "18 : 2584\n",
      "19 : 4181\n",
      "20 : 6765\n",
      "21 : 10946\n",
      "22 : 17711\n",
      "23 : 28657\n",
      "24 : 46368\n",
      "25 : 75025\n",
      "26 : 121393\n",
      "27 : 196418\n",
      "28 : 317811\n",
      "29 : 514229\n",
      "30 : 832040\n",
      "31 : 1346269\n",
      "32 : 2178309\n",
      "33 : 3524578\n",
      "34 : 5702887\n",
      "35 : 9227465\n",
      "36 : 14930352\n",
      "37 : 24157817\n",
      "38 : 39088169\n",
      "39 : 63245986\n",
      "40 : 102334155\n",
      "41 : 165580141\n",
      "42 : 267914296\n",
      "43 : 433494437\n",
      "44 : 701408733\n",
      "45 : 1134903170\n",
      "46 : 1836311903\n",
      "47 : 2971215073\n",
      "48 : 4807526976\n",
      "49 : 7778742049\n",
      "50 : 12586269025\n"
     ]
    }
   ],
   "source": [
    "#memoization is storing already calculated values in a cache so that they can be used again for faster results\n",
    "\n",
    "fibonacci_cache = {}\n",
    "def fibonacci(n):\n",
    "    if n in fibonacci_cache:\n",
    "        return fibonacci_cache[n]\n",
    "    #compute nth term\n",
    "    if n==1:\n",
    "        value=1\n",
    "    elif n==2:\n",
    "        value=1\n",
    "    elif n>2:\n",
    "        value = fibonacci(n-1) + fibonacci(n-2)\n",
    "        \n",
    "    #cache value in dictionary and then return\n",
    "    fibonacci_cache[n] = value\n",
    "    return value\n",
    "\n",
    "for n in range(1,51):\n",
    "    print(n,':',fibonacci(n))\n",
    "    "
   ]
  },
  {
   "cell_type": "code",
   "execution_count": null,
   "id": "0e706c93-4c1b-4cd5-8518-3acb17ee4e20",
   "metadata": {},
   "outputs": [],
   "source": []
  },
  {
   "cell_type": "markdown",
   "id": "017800e8-4327-4088-b46b-0904f01e6afc",
   "metadata": {},
   "source": [
    "### 38.Create a program that generates a calendar for a given month and year using conditional statements."
   ]
  },
  {
   "cell_type": "code",
   "execution_count": 99,
   "id": "ca8996e3-d689-4022-89a5-30eb14ea7d2e",
   "metadata": {},
   "outputs": [
    {
     "name": "stdout",
     "output_type": "stream",
     "text": [
      "Calendar for March 2024\n",
      "Mo Tu We Th Fr Sa Su\n",
      "             1  2  3 \n",
      " 4  5  6  7  8  9 10 \n",
      "11 12 13 14 15 16 17 \n",
      "18 19 20 21 22 23 24 \n",
      "25 26 27 28 29 30 31 \n",
      "\n",
      "\n"
     ]
    }
   ],
   "source": [
    "import calendar\n",
    "\n",
    "def generate_calendar(month, year):\n",
    "    # List of month names for display\n",
    "    months = [\n",
    "        \"\", \"January\", \"February\", \"March\", \"April\", \"May\", \"June\",\n",
    "        \"July\", \"August\", \"September\", \"October\", \"November\", \"December\"\n",
    "    ]\n",
    "    \n",
    "    # Days in most months\n",
    "    month_days = [0, 31, 28, 31, 30, 31, 30, 31, 31, 30, 31, 30, 31]\n",
    "\n",
    "    # Check for leap year for February\n",
    "    if month == 2 and (year % 4 == 0 and (year % 100 != 0 or year % 400 == 0)):\n",
    "        month_days[month] = 29\n",
    "\n",
    "    # Start the calendar display\n",
    "    print(f\"Calendar for {months[month]} {year}\")\n",
    "    print(\"Mo Tu We Th Fr Sa Su\")\n",
    "    start_day = calendar.monthrange(year, month)[0]\n",
    "    for _ in range(start_day):\n",
    "        print(\"   \", end='')\n",
    "\n",
    "    # Print the days of the month\n",
    "    for day in range(1, month_days[month] + 1):\n",
    "        print(f\"{day:2} \", end='')\n",
    "        start_day += 1\n",
    "        if start_day == 7:\n",
    "            # Start a new week\n",
    "            print()\n",
    "            start_day = 0\n",
    "    print(\"\\n\")\n",
    "\n",
    "# Test the function\n",
    "generate_calendar(3, 2024)"
   ]
  },
  {
   "cell_type": "code",
   "execution_count": null,
   "id": "732345d8-bac3-4d4d-8fe0-c4d914bed4fb",
   "metadata": {},
   "outputs": [],
   "source": []
  },
  {
   "cell_type": "markdown",
   "id": "596bb5bb-0940-45e3-9a6a-d18384644990",
   "metadata": {},
   "source": [
    "### 39.Build a program that simulates a basic text-based blackjack game against the computer."
   ]
  },
  {
   "cell_type": "code",
   "execution_count": 125,
   "id": "0df689b9-e5a5-4911-8ad5-98461267078f",
   "metadata": {},
   "outputs": [
    {
     "name": "stdout",
     "output_type": "stream",
     "text": [
      "Your cards: [10, 7], current score: 17\n",
      "Computer's first card: 7\n"
     ]
    },
    {
     "name": "stdin",
     "output_type": "stream",
     "text": [
      "Type 'y' to get another card, 'n' to pass:  y\n"
     ]
    },
    {
     "name": "stdout",
     "output_type": "stream",
     "text": [
      "Your cards: [10, 7, 1], current score: 18\n",
      "Computer's first card: 7\n"
     ]
    },
    {
     "name": "stdin",
     "output_type": "stream",
     "text": [
      "Type 'y' to get another card, 'n' to pass:  n\n"
     ]
    },
    {
     "name": "stdout",
     "output_type": "stream",
     "text": [
      "Your final hand: [10, 7, 1], final score: 18\n",
      "Computer's final hand: [7, 10], final score: 17\n",
      "You win!\n"
     ]
    }
   ],
   "source": [
    "import random\n",
    "\n",
    "def deal_card():\n",
    "    \"\"\"Return a randomly chosen card.\"\"\"\n",
    "    cards = [2, 3, 4, 5, 6, 7, 8, 9, 10, 10, 10, 10, 11]  # Values of cards, with 10s for face cards and 11 for Ace\n",
    "    return random.choice(cards)\n",
    "\n",
    "def score(hand):\n",
    "    \"\"\"Return the total score of the hand.\"\"\"\n",
    "    total = sum(hand)\n",
    "    # Adjust for Ace if necessary\n",
    "    if total > 21 and 11 in hand:\n",
    "        hand.remove(11)\n",
    "        hand.append(1)\n",
    "        total = sum(hand)\n",
    "    return total\n",
    "\n",
    "def blackjack():\n",
    "    player_hand = [deal_card(), deal_card()]\n",
    "    computer_hand = [deal_card(), deal_card()]\n",
    "\n",
    "    while True:\n",
    "        player_score = score(player_hand)\n",
    "        computer_score = score(computer_hand)\n",
    "\n",
    "        print(f\"Your cards: {player_hand}, current score: {player_score}\")\n",
    "        print(f\"Computer's first card: {computer_hand[0]}\")\n",
    "\n",
    "        if player_score == 21 or computer_score == 21 or player_score > 21:\n",
    "            break\n",
    "            \n",
    "        should_continue = input(\"Type 'y' to get another card, 'n' to pass: \")\n",
    "\n",
    "        if should_continue == 'y':\n",
    "            player_hand.append(deal_card())\n",
    "        else:\n",
    "            break\n",
    "\n",
    "    while computer_score < 17 and computer_score != 21:\n",
    "        computer_hand.append(deal_card())\n",
    "        computer_score = score(computer_hand)\n",
    "\n",
    "    print(f\"Your final hand: {player_hand}, final score: {player_score}\")\n",
    "    print(f\"Computer's final hand: {computer_hand}, final score: {computer_score}\")\n",
    "\n",
    "    if player_score > 21:\n",
    "        return \"You went over. You lose!\"\n",
    "    elif computer_score > 21:\n",
    "        return \"Computer went over. You win!\"\n",
    "    elif player_score > computer_score:\n",
    "        return \"You win!\"\n",
    "    elif player_score < computer_score:\n",
    "        return \"You lose!\"\n",
    "    else:\n",
    "        return \"It's a draw!\"\n",
    "\n",
    "print(blackjack())\n"
   ]
  },
  {
   "cell_type": "code",
   "execution_count": null,
   "id": "f1edec7b-b731-416b-85ab-66ef61d83020",
   "metadata": {},
   "outputs": [],
   "source": []
  },
  {
   "cell_type": "markdown",
   "id": "474c8b44-718f-41d3-bfac-a839bc5de852",
   "metadata": {},
   "source": [
    "### 40.Write a program that generates the prime factors of a given number using trial division."
   ]
  },
  {
   "cell_type": "code",
   "execution_count": 124,
   "id": "1dd27f6c-a027-4fac-830d-5d7eeb101b65",
   "metadata": {},
   "outputs": [
    {
     "name": "stdin",
     "output_type": "stream",
     "text": [
      "Enter the number : 315\n"
     ]
    },
    {
     "name": "stdout",
     "output_type": "stream",
     "text": [
      "Prime factors of 315 are : [3, 3, 5, 7]\n"
     ]
    }
   ],
   "source": [
    "\n",
    "def prime_factors(n):\n",
    "    factors =[]\n",
    "    while n%2 == 0:\n",
    "        factors.append(2)\n",
    "        n = n // 2\n",
    "    for i in range(3, int(n**0.5) + 1 , 2):\n",
    "        while n%i == 0:\n",
    "            factors.append(i)\n",
    "            n = n//i\n",
    "    if n>2:\n",
    "        factors.append(n)\n",
    "    return factors\n",
    "\n",
    "\n",
    "number = int(input(\"Enter the number :\"))\n",
    "prime_factors(number)\n",
    "print(f\"Prime factors of {number} are : {prime_factors(number)}\")\n",
    "    "
   ]
  },
  {
   "cell_type": "code",
   "execution_count": null,
   "id": "5c1c99cb-8b03-407d-ad07-e03cbb44f4bf",
   "metadata": {},
   "outputs": [],
   "source": []
  },
  {
   "cell_type": "code",
   "execution_count": null,
   "id": "d86e8d86-425f-4a40-8304-64eb5eaa06e0",
   "metadata": {},
   "outputs": [],
   "source": []
  }
 ],
 "metadata": {
  "kernelspec": {
   "display_name": "Python 3 (ipykernel)",
   "language": "python",
   "name": "python3"
  },
  "language_info": {
   "codemirror_mode": {
    "name": "ipython",
    "version": 3
   },
   "file_extension": ".py",
   "mimetype": "text/x-python",
   "name": "python",
   "nbconvert_exporter": "python",
   "pygments_lexer": "ipython3",
   "version": "3.10.8"
  }
 },
 "nbformat": 4,
 "nbformat_minor": 5
}
