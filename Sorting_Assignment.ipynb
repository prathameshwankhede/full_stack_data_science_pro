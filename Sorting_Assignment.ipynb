{
 "cells": [
  {
   "cell_type": "code",
   "execution_count": null,
   "id": "1ac854ef-aa46-4751-9c8f-1c963bbbd809",
   "metadata": {},
   "outputs": [],
   "source": []
  },
  {
   "cell_type": "code",
   "execution_count": null,
   "id": "5ba204a7-ccd5-434f-9371-199af73989e3",
   "metadata": {},
   "outputs": [],
   "source": [
    "                                                      ****Sorting Practice Questions****"
   ]
  },
  {
   "cell_type": "code",
   "execution_count": null,
   "id": "415a38ff-da39-4a8f-a6c2-a87d3d9b02b2",
   "metadata": {},
   "outputs": [],
   "source": []
  },
  {
   "cell_type": "markdown",
   "id": "652d8bf7-a9fa-42de-97bf-20672f1c9f5e",
   "metadata": {},
   "source": [
    "### Problem 1.Given an array of n numbers, give an algorithm which gives the element appearing maximum number of times?"
   ]
  },
  {
   "cell_type": "code",
   "execution_count": 1,
   "id": "5613f3cb-62a6-40da-a036-1459969ce98d",
   "metadata": {},
   "outputs": [
    {
     "name": "stdout",
     "output_type": "stream",
     "text": [
      "1\n"
     ]
    }
   ],
   "source": [
    "''' LOGIC-->\n",
    "1. Sort the array.\n",
    "2. Iterate through the sorted array and keep track of the current element and its count.\n",
    "3. Whenever you encounter a different element, update the current element and reset its count.\n",
    "4. Keep track of the element with the maximum count.\n",
    "'''\n",
    "def find_most_frequent_element(arr): \n",
    "    arr.sort()  # Step 1: Sort the array\n",
    "    \n",
    "    max_count = 1  # Minimum count is 1 since every element appears at least once\n",
    "    current_element = arr[0]\n",
    "    current_count = 1\n",
    "    \n",
    "    for i in range(1, len(arr)):\n",
    "        if arr[i] == current_element:\n",
    "            current_count += 1\n",
    "            \n",
    "        else :\n",
    "            if current_count > max_count:\n",
    "                max_count = current_count\n",
    "                most_frequent_element = current_element\n",
    "                \n",
    "            # Reset count for the new element\n",
    "            current_element = arr[i]\n",
    "            current_count = 1\n",
    "            \n",
    "    # Check for the last element\n",
    "    if current_count > max_count:\n",
    "        most_frequent_element = current_element\n",
    "\n",
    "    return most_frequent_element\n",
    "\n",
    "# Example usage:\n",
    "arr = [1, 2, 3, 1, 2, 3, 4, 5, 1, 1, 3]\n",
    "result = find_most_frequent_element(arr)\n",
    "print(result)\n"
   ]
  },
  {
   "cell_type": "code",
   "execution_count": null,
   "id": "625ddccf-73a7-4925-9645-6c96fdbbb76b",
   "metadata": {},
   "outputs": [],
   "source": []
  },
  {
   "cell_type": "markdown",
   "id": "0ce8d026-24a7-40de-b04d-e475789a3712",
   "metadata": {},
   "source": [
    "### Problem 2 : We are given a list of n-1 integers and these integers are in the range of 1 to n . There are no duplicates in the list. One of the integers is missing in the list. Give an algorithm to find that element Ex: [1,2,4,6,3,7,8] 5 is the missing num."
   ]
  },
  {
   "cell_type": "code",
   "execution_count": 2,
   "id": "84c460d1-548b-48c3-be63-32f5c94681ce",
   "metadata": {},
   "outputs": [
    {
     "name": "stdout",
     "output_type": "stream",
     "text": [
      "Missing number: 5\n"
     ]
    }
   ],
   "source": [
    "''' LOGIC-->\n",
    "1. Calculate the expected sum of the first n natural numbers using the formula n * (n + 1) // 2.\n",
    "2. Calculate the actual sum of the given list.\n",
    "3. The difference between the expected sum and the actual sum is the missing number.\n",
    "'''\n",
    "def find_missing_number(nums):\n",
    "    n = len(nums) + 1  # Since there are n-1 elements in the list\n",
    "    expected_sum = n * (n + 1) // 2\n",
    "    actual_sum = sum(nums)\n",
    "    missing_number = expected_sum - actual_sum\n",
    "    return missing_number\n",
    "\n",
    "# Example usage:\n",
    "nums = [1, 2, 4, 6, 3, 7, 8]\n",
    "missing_number = find_missing_number(nums)\n",
    "print(\"Missing number:\", missing_number)\n"
   ]
  },
  {
   "cell_type": "code",
   "execution_count": null,
   "id": "35b43b7f-e692-465c-8421-998afb65b8eb",
   "metadata": {},
   "outputs": [],
   "source": []
  },
  {
   "cell_type": "markdown",
   "id": "9eec6b1c-0114-4365-a072-e9729e22f200",
   "metadata": {},
   "source": [
    "### Problem 3 : Given an array of n positive numbers. All numbers occurs even number of times except 1 which occurs odd number of times. Find that number in O(n) time and O(1) space. Ex: [1,2,3,2,3,1,3]. 3 is repeats oddtimes."
   ]
  },
  {
   "cell_type": "code",
   "execution_count": 3,
   "id": "e8f4ea7a-9b06-4189-bcba-9957a20921cc",
   "metadata": {},
   "outputs": [
    {
     "name": "stdout",
     "output_type": "stream",
     "text": [
      "Number occurring odd times: 3\n"
     ]
    }
   ],
   "source": [
    "'''LOGIC--> using the XOR (exclusive OR) operation. \n",
    "XOR has the property that when you XOR a number with itself, the result is 0. \n",
    "Additionally, XOR is commutative and associative.\n",
    "\n",
    "1. Initialize a variable result to 0.\n",
    "2. Iterate through the array and XOR each element with the result.\n",
    "3. The final value of result will be the number that occurs an odd number of times.\n",
    "\n",
    "Initialize result to 0.\n",
    "Iterate through the array:\n",
    "a. result ^= 1: result becomes 1.\n",
    "b. result ^= 2: result becomes 3.\n",
    "c. result ^= 3: result becomes 0 (since 3 ^ 3 = 0).\n",
    "d. result ^= 2: result becomes 2 (since 0 ^ 2 = 2).\n",
    "e. result ^= 3: result becomes 1 (since 2 ^ 3 = 1).\n",
    "f. result ^= 1: result becomes 0 (since 1 ^ 1 = 0).\n",
    "g. result ^= 3: result becomes 3 (since 0 ^ 3 = 3).\n",
    "The final value of result is 3.\n",
    "'''\n",
    "def find_odd_occurrence(arr):\n",
    "    result = 0\n",
    "    for num in arr:\n",
    "        result ^= num\n",
    "    return result\n",
    "\n",
    "# Example usage:\n",
    "arr = [1, 2, 3, 2, 3, 1, 3]\n",
    "odd_occurrence_number = find_odd_occurrence(arr)\n",
    "print(\"Number occurring odd times:\", odd_occurrence_number)\n"
   ]
  },
  {
   "cell_type": "code",
   "execution_count": null,
   "id": "895b8667-4f53-44c4-91ed-678b269447e8",
   "metadata": {},
   "outputs": [],
   "source": []
  },
  {
   "cell_type": "markdown",
   "id": "626160b4-59ac-4077-902d-961002e3eecb",
   "metadata": {},
   "source": [
    "### Problem 4 : Given an array of n elements. Find two elements in the array such that their sum is equal to given element K."
   ]
  },
  {
   "cell_type": "code",
   "execution_count": 4,
   "id": "be4374f9-0057-441f-bf81-8556e454db30",
   "metadata": {},
   "outputs": [
    {
     "name": "stdout",
     "output_type": "stream",
     "text": [
      "Pair with sum 10: (2, 8)\n"
     ]
    }
   ],
   "source": [
    "''' LOGIC--> using 2 pointer method-\n",
    "Calculate the sum of elements at arr[left] and arr[right].\n",
    "If the sum is equal to K, found the pair.\n",
    "If the sum is less than K, increment left.\n",
    "If the sum is greater than K, decrement right.\n",
    "'''\n",
    "def find_pair_with_sum(arr, K):\n",
    "    arr.sort()  # Sort the array (if it's not already sorted)\n",
    "    left, right = 0, len(arr) - 1\n",
    "\n",
    "    while left < right:\n",
    "        current_sum = arr[left] + arr[right]\n",
    "\n",
    "        if current_sum == K:\n",
    "            return arr[left], arr[right]\n",
    "        elif current_sum < K:\n",
    "            left += 1\n",
    "        else:\n",
    "            right -= 1\n",
    "    \n",
    "    return None \n",
    "        \n",
    "# Example usage:\n",
    "arr = [1, 2, 4, 6, 3, 7, 8]\n",
    "K = 10\n",
    "pair = find_pair_with_sum(arr, K)\n",
    "\n",
    "if pair:\n",
    "    print(f\"Pair with sum {K}: {pair}\")\n",
    "else:\n",
    "    print(f\"No pair with sum {K} found.\")\n",
    "    "
   ]
  },
  {
   "cell_type": "code",
   "execution_count": null,
   "id": "0e4149d9-3aa9-48c2-8193-0c138fb9d4a7",
   "metadata": {},
   "outputs": [],
   "source": []
  },
  {
   "cell_type": "markdown",
   "id": "6cd20d8d-bc23-462d-bf3e-ea4e2c8bc743",
   "metadata": {},
   "source": [
    "### Problem 5 : Given an array of both positive and negative numbers, find two numbers such that their sum is closest to 0. Ex: [ 1 ,60 ,-10, 70, -80,85]. Ans : -80,85."
   ]
  },
  {
   "cell_type": "code",
   "execution_count": 6,
   "id": "6c342293-3b67-406b-afbc-8f06f4d65c17",
   "metadata": {},
   "outputs": [
    {
     "name": "stdout",
     "output_type": "stream",
     "text": [
      "Closest sum pair: (-80, 85)\n"
     ]
    }
   ],
   "source": [
    "'''LOGIC--> two-pointer approach\n",
    "sort the array\n",
    "use two pointers to iterate through the array from both ends. \n",
    "Keep track of the minimum sum encountered and the corresponding pair of numbers\n",
    "'''\n",
    "def closest_sum_pair(arr):\n",
    "    arr.sort()\n",
    "    left, right = 0, len(arr) - 1\n",
    "    closest_sum = float('inf')\n",
    "    result_pair = None\n",
    "\n",
    "    while left < right:\n",
    "        current_sum = arr[left] + arr[right]\n",
    "        current_abs_diff = abs(current_sum)\n",
    "\n",
    "        if current_abs_diff < closest_sum:\n",
    "            closest_sum = current_abs_diff\n",
    "            result_pair = (arr[left], arr[right])\n",
    "\n",
    "        if current_sum < 0:\n",
    "            left += 1\n",
    "        elif current_sum > 0:\n",
    "            right -= 1\n",
    "        else:\n",
    "            # If the sum is 0, this is the closest possible sum, so break early\n",
    "            break\n",
    "\n",
    "    return result_pair\n",
    "\n",
    "# Example usage:\n",
    "arr = [1, 60, -10, 70, -80, 85]\n",
    "pair = closest_sum_pair(arr)\n",
    "\n",
    "print(\"Closest sum pair:\", pair)\n"
   ]
  },
  {
   "cell_type": "code",
   "execution_count": null,
   "id": "ff052f14-9b50-4ebd-b831-004034f9b647",
   "metadata": {},
   "outputs": [],
   "source": []
  },
  {
   "cell_type": "markdown",
   "id": "b870aae5-8e07-468a-ba63-a632703d4072",
   "metadata": {},
   "source": [
    "### Problem 6 : Given an array of n elements . Find three elements such that their sum is equal to the given number."
   ]
  },
  {
   "cell_type": "code",
   "execution_count": 7,
   "id": "4dde37bf-2506-49bf-a23e-071d593ec058",
   "metadata": {},
   "outputs": [
    {
     "name": "stdout",
     "output_type": "stream",
     "text": [
      "Triplet with sum 10: (1, 2, 7)\n"
     ]
    }
   ],
   "source": [
    "'''LOGIC--> three-pointer approach\n",
    "sort the array\n",
    "Use a nested loop with the outer loop iterating over each element up to the third-to-last element.\n",
    "Check if the current sum equals the target sum.\n",
    "    If true, return the triplet (arr[i], arr[left], arr[right]).\n",
    "    If the current sum is less than the target, increment the left pointer.\n",
    "    If the current sum is greater than the target, decrement the right pointer.\n",
    "'''\n",
    "def find_triplet_with_sum(arr, target_sum):\n",
    "    arr.sort()  # Sort the array in ascending order\n",
    "\n",
    "    n = len(arr)\n",
    "\n",
    "    for i in range(n - 2):\n",
    "        left = i + 1\n",
    "        right = n - 1\n",
    "\n",
    "        while left < right:\n",
    "            current_sum = arr[i] + arr[left] + arr[right]\n",
    "\n",
    "            if current_sum == target_sum:\n",
    "                return arr[i], arr[left], arr[right]\n",
    "            elif current_sum < target_sum:\n",
    "                left += 1\n",
    "            else:\n",
    "                right -= 1\n",
    "    return None  # If no triplet is found\n",
    "\n",
    "# Example usage:\n",
    "arr = [1, 4, 2, 5, 7, 3]\n",
    "target_sum = 10\n",
    "result = find_triplet_with_sum(arr, target_sum)\n",
    "\n",
    "if result:\n",
    "    print(f\"Triplet with sum {target_sum}: {result}\")\n",
    "else:\n",
    "    print(\"No triplet found with the given sum.\")    \n",
    "    "
   ]
  },
  {
   "cell_type": "code",
   "execution_count": null,
   "id": "1bf9ea8b-8141-4f9a-83db-5bacfda3323a",
   "metadata": {},
   "outputs": [],
   "source": []
  },
  {
   "cell_type": "markdown",
   "id": "b2b0f2de-c89e-4fea-a64e-6c57d5761e68",
   "metadata": {},
   "source": [
    "### Problem 7 : Given an array of n elements . Find three elements i, j, k in the array such that i * i + j * j = k*k."
   ]
  },
  {
   "cell_type": "code",
   "execution_count": 8,
   "id": "62b6215b-3267-4666-88e7-da2c02acfc8b",
   "metadata": {},
   "outputs": [
    {
     "name": "stdout",
     "output_type": "stream",
     "text": [
      "Triplet satisfying the Pythagorean theorem: (3, 4, 5)\n"
     ]
    }
   ],
   "source": [
    "'''LOGIC--> Tripple pointer method\n",
    "Sort the Array\n",
    "If the sum of squares is less than the square of the largest element, increment i. If it's greater, decrement j.\n",
    "'''\n",
    "def find_triplet_pythagorean(arr):\n",
    "    arr.sort()  # Sort the array in ascending order\n",
    "\n",
    "    n = len(arr)\n",
    "\n",
    "    for k in range(n - 1, 1, -1):\n",
    "        i = 0\n",
    "        j = k - 1\n",
    "\n",
    "        while i < j:\n",
    "            sum_of_squares = arr[i]**2 + arr[j]**2\n",
    "\n",
    "            if sum_of_squares == arr[k]**2:\n",
    "                return arr[i], arr[j], arr[k]\n",
    "            elif sum_of_squares < arr[k]**2:\n",
    "                i += 1\n",
    "            else:\n",
    "                j -= 1\n",
    "\n",
    "    return None  # If no triplet is found\n",
    "\n",
    "# Example usage:\n",
    "arr = [3, 1, 4, 6, 5]\n",
    "result = find_triplet_pythagorean(arr)\n",
    "\n",
    "if result:\n",
    "    print(f\"Triplet satisfying the Pythagorean theorem: {result}\")\n",
    "else:\n",
    "    print(\"No triplet found satisfying the Pythagorean theorem.\")\n",
    "    "
   ]
  },
  {
   "cell_type": "code",
   "execution_count": null,
   "id": "c5d10da9-ec18-4e88-a3bb-33c7451b7750",
   "metadata": {},
   "outputs": [],
   "source": []
  },
  {
   "cell_type": "markdown",
   "id": "950904df-d639-4d7d-a209-8f50b094fade",
   "metadata": {},
   "source": [
    "### Problem 8 : An element is a majority if it appears more than n/2 times. Give an algorithm takes an array of n element as argument and identifies a majority (if it exists)."
   ]
  },
  {
   "cell_type": "code",
   "execution_count": 10,
   "id": "86b7b80b-42e5-43c2-b007-11778a72819f",
   "metadata": {},
   "outputs": [
    {
     "name": "stdout",
     "output_type": "stream",
     "text": [
      "The majority element is: 4\n"
     ]
    }
   ],
   "source": [
    "'''Logic--> Boyer-Moore Majority Vote algorithm\n",
    "This algorithm works under the assumption that a majority element (if it exists) will always be the majority \n",
    "after removing any other elements.\n",
    "\n",
    "Steps--\n",
    "Iterate through the array and maintain a candidate for the majority element.\n",
    "If the count becomes zero, update the candidate to the current element; otherwise, increment or decrement the count based on whether the current element is the same as the candidate.\n",
    "\n",
    "After finding a candidate, iterate through the array again to count the occurrences of the candidate.\n",
    "If the count is greater than half of the array's length, then the candidate is the majority element; otherwise, no majority element exists.\n",
    "\n",
    "'''\n",
    "def find_majority_element(arr):\n",
    "    candidate = None\n",
    "    count = 0\n",
    "\n",
    "    # Step 1: Find a candidate for the majority element\n",
    "    for num in arr:\n",
    "        if count == 0:\n",
    "            candidate = num\n",
    "            count = 1\n",
    "        elif num == candidate:\n",
    "            count += 1\n",
    "        else:\n",
    "            count -= 1\n",
    "\n",
    "    # Step 2: Verify if the candidate is the majority element\n",
    "    count = 0\n",
    "    for num in arr:\n",
    "        if num == candidate:\n",
    "            count += 1\n",
    "\n",
    "    if count > len(arr) // 2:\n",
    "        return candidate\n",
    "    else:\n",
    "        return None  # No majority element found\n",
    "\n",
    "# Example usage:\n",
    "arr = [3, 3, 4, 4, 2, 4, 2, 4, 4]\n",
    "result = find_majority_element(arr)\n",
    "\n",
    "if result is not None:\n",
    "    print(f\"The majority element is: {result}\")\n",
    "else:\n",
    "    print(\"No majority element found.\")\n",
    "    "
   ]
  },
  {
   "cell_type": "code",
   "execution_count": null,
   "id": "9a26ba22-6e7c-4aff-bb3d-ac10d3069437",
   "metadata": {},
   "outputs": [],
   "source": []
  },
  {
   "cell_type": "markdown",
   "id": "75d2af5d-e931-409e-bdec-6d19395b9b57",
   "metadata": {},
   "source": [
    "### Problem 9 : Given n × n matrix, and in each row all 1’s are followed by 0’s. Find the row with the maximum number of 0’s."
   ]
  },
  {
   "cell_type": "code",
   "execution_count": 11,
   "id": "25927598-3663-4ff8-8ec4-6b2fa400c05a",
   "metadata": {},
   "outputs": [
    {
     "name": "stdout",
     "output_type": "stream",
     "text": [
      "The row with the maximum number of 0's is: 3\n"
     ]
    }
   ],
   "source": [
    "\n",
    "def find_row_with_max_zeros(matrix):\n",
    "    max_zeros_row = 0  # Initialize the row with maximum zeros\n",
    "    max_zeros_count = 0  # Initialize the count of maximum zeros\n",
    "\n",
    "    n = len(matrix)\n",
    "\n",
    "    # Traverse each row in the matrix\n",
    "    for i in range(n):\n",
    "        zeros_count = matrix[i].count(0)\n",
    "\n",
    "        # Update max_zeros_row if the current row has more zeros\n",
    "        if zeros_count > max_zeros_count:\n",
    "            max_zeros_count = zeros_count\n",
    "            max_zeros_row = i\n",
    "\n",
    "    return max_zeros_row\n",
    "\n",
    "# Example usage:\n",
    "matrix = [\n",
    "    [1, 1, 1, 0, 0],\n",
    "    [1, 1, 0, 0, 0],\n",
    "    [1, 1, 1, 1, 0],\n",
    "    [1, 0, 0, 0, 0],\n",
    "    [1, 1, 1, 0, 0]\n",
    "]\n",
    "\n",
    "result = find_row_with_max_zeros(matrix)\n",
    "print(f\"The row with the maximum number of 0's is: {result}\")\n"
   ]
  },
  {
   "cell_type": "code",
   "execution_count": null,
   "id": "193f7eb1-9cf8-4787-862d-82542d6cb013",
   "metadata": {},
   "outputs": [],
   "source": []
  },
  {
   "cell_type": "markdown",
   "id": "9fd966b0-b0b1-4738-b296-2ec0e9a16f42",
   "metadata": {},
   "source": [
    "### Problem 10 : Sort an array of 0’s, 1’s and 2’s [or R’s, G’s and B’s]: Given an array A[] consisting of 0’s, 1’s and 2’s, give an algorithm for sorting A[].The algorithm should put all 0’s first, then all 1’s and finally all 2’s at theend. Example Input = {0,1,1,0,1,2,1,2,0,0,0,1}, Output = {0,0,0,0,0,1,1,1,1,1,2,2}"
   ]
  },
  {
   "cell_type": "code",
   "execution_count": 12,
   "id": "3772914d-e7a6-4f0e-8722-d0b6c0c8a21b",
   "metadata": {},
   "outputs": [
    {
     "name": "stdout",
     "output_type": "stream",
     "text": [
      "Sorted array: [0, 0, 0, 0, 0, 1, 1, 1, 1, 1, 2, 2]\n"
     ]
    }
   ],
   "source": [
    "'''Logic--> quicksort algorithm\n",
    "'''\n",
    "def sort_colors(arr):\n",
    "    low, mid, high = 0, 0, len(arr) - 1\n",
    "\n",
    "    while mid <= high:\n",
    "        if arr[mid] == 0:\n",
    "            arr[low], arr[mid] = arr[mid], arr[low]\n",
    "            low += 1\n",
    "            mid += 1\n",
    "        elif arr[mid] == 1:\n",
    "            mid += 1\n",
    "        else:\n",
    "            arr[mid], arr[high] = arr[high], arr[mid]\n",
    "            high -= 1\n",
    "\n",
    "# Example usage:\n",
    "arr = [0, 1, 1, 0, 1, 2, 1, 2, 0, 0, 0, 1]\n",
    "sort_colors(arr)\n",
    "\n",
    "print(\"Sorted array:\", arr)\n"
   ]
  },
  {
   "cell_type": "code",
   "execution_count": null,
   "id": "572ffd2c-6a64-4f2f-874a-dcc9e4ec6833",
   "metadata": {},
   "outputs": [],
   "source": []
  }
 ],
 "metadata": {
  "kernelspec": {
   "display_name": "Python 3 (ipykernel)",
   "language": "python",
   "name": "python3"
  },
  "language_info": {
   "codemirror_mode": {
    "name": "ipython",
    "version": 3
   },
   "file_extension": ".py",
   "mimetype": "text/x-python",
   "name": "python",
   "nbconvert_exporter": "python",
   "pygments_lexer": "ipython3",
   "version": "3.10.8"
  }
 },
 "nbformat": 4,
 "nbformat_minor": 5
}
